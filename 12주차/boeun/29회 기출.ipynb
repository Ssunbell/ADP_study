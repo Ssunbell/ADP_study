{
 "cells": [
  {
   "cell_type": "markdown",
   "metadata": {},
   "source": [
    "# 29회 ADP 복원 "
   ]
  },
  {
   "cell_type": "markdown",
   "metadata": {},
   "source": [
    "# 기계학습 (60점)"
   ]
  },
  {
   "cell_type": "markdown",
   "metadata": {},
   "source": [
    "## 데이터 설명\n",
    "- 데이터 출처 : https://www.data.go.kr/data/15094266/fileData.do 후처리\n",
    "- 데이터 링크 : https://raw.githubusercontent.com/Datamanim/datarepo/main/adp/29/p1.csv\n",
    "- 데이터 설명 : 대구도시공사_빅데이터_영구임대아파트 입주자 퇴거여부 데이터, 고유번호를 가진 계약자와 특정 아파트에 대해 매년 퇴거여부를 기록한 데이터"
   ]
  },
  {
   "cell_type": "markdown",
   "metadata": {},
   "source": [
    "### 1-1  계약자고유번호를 기준으로 거주연도 별 여러개의 데이터가 쌓여 있다. 각 계약자고유번호에 대해 가장 최신의 거주연도 행만 남겨라."
   ]
  },
  {
   "cell_type": "code",
   "execution_count": 11,
   "metadata": {},
   "outputs": [
    {
     "data": {
      "text/html": [
       "<div>\n",
       "<style scoped>\n",
       "    .dataframe tbody tr th:only-of-type {\n",
       "        vertical-align: middle;\n",
       "    }\n",
       "\n",
       "    .dataframe tbody tr th {\n",
       "        vertical-align: top;\n",
       "    }\n",
       "\n",
       "    .dataframe thead th {\n",
       "        text-align: right;\n",
       "    }\n",
       "</style>\n",
       "<table border=\"1\" class=\"dataframe\">\n",
       "  <thead>\n",
       "    <tr style=\"text-align: right;\">\n",
       "      <th></th>\n",
       "      <th>순번</th>\n",
       "      <th>계약구분</th>\n",
       "      <th>재계약횟수</th>\n",
       "      <th>거주개월</th>\n",
       "      <th>아파트 이름</th>\n",
       "      <th>아파트 ID</th>\n",
       "      <th>아파트 평점</th>\n",
       "      <th>호실고유번호</th>\n",
       "      <th>층</th>\n",
       "      <th>평형대</th>\n",
       "      <th>...</th>\n",
       "      <th>퇴거연도</th>\n",
       "      <th>거주연도</th>\n",
       "      <th>월세(원)</th>\n",
       "      <th>보증금(원)</th>\n",
       "      <th>대표나이</th>\n",
       "      <th>나이</th>\n",
       "      <th>성별</th>\n",
       "      <th>결혼여부</th>\n",
       "      <th>거주자 수</th>\n",
       "      <th>퇴거여부</th>\n",
       "    </tr>\n",
       "  </thead>\n",
       "  <tbody>\n",
       "    <tr>\n",
       "      <th>0</th>\n",
       "      <td>1</td>\n",
       "      <td>유효</td>\n",
       "      <td>10</td>\n",
       "      <td>222</td>\n",
       "      <td>강남아파트</td>\n",
       "      <td>5</td>\n",
       "      <td>7.0</td>\n",
       "      <td>14520</td>\n",
       "      <td>1</td>\n",
       "      <td>12</td>\n",
       "      <td>...</td>\n",
       "      <td>NaN</td>\n",
       "      <td>2008</td>\n",
       "      <td>47100</td>\n",
       "      <td>3646000</td>\n",
       "      <td>46</td>\n",
       "      <td>33</td>\n",
       "      <td>남</td>\n",
       "      <td>미혼</td>\n",
       "      <td>3</td>\n",
       "      <td>미퇴거</td>\n",
       "    </tr>\n",
       "    <tr>\n",
       "      <th>1</th>\n",
       "      <td>1</td>\n",
       "      <td>유효</td>\n",
       "      <td>10</td>\n",
       "      <td>222</td>\n",
       "      <td>강남아파트</td>\n",
       "      <td>5</td>\n",
       "      <td>7.0</td>\n",
       "      <td>14520</td>\n",
       "      <td>1</td>\n",
       "      <td>12</td>\n",
       "      <td>...</td>\n",
       "      <td>NaN</td>\n",
       "      <td>2009</td>\n",
       "      <td>56500</td>\n",
       "      <td>4375000</td>\n",
       "      <td>46</td>\n",
       "      <td>34</td>\n",
       "      <td>남</td>\n",
       "      <td>미혼</td>\n",
       "      <td>3</td>\n",
       "      <td>미퇴거</td>\n",
       "    </tr>\n",
       "    <tr>\n",
       "      <th>2</th>\n",
       "      <td>1</td>\n",
       "      <td>유효</td>\n",
       "      <td>10</td>\n",
       "      <td>222</td>\n",
       "      <td>강남아파트</td>\n",
       "      <td>5</td>\n",
       "      <td>7.0</td>\n",
       "      <td>14520</td>\n",
       "      <td>1</td>\n",
       "      <td>12</td>\n",
       "      <td>...</td>\n",
       "      <td>NaN</td>\n",
       "      <td>2010</td>\n",
       "      <td>56500</td>\n",
       "      <td>4375000</td>\n",
       "      <td>46</td>\n",
       "      <td>35</td>\n",
       "      <td>남</td>\n",
       "      <td>미혼</td>\n",
       "      <td>3</td>\n",
       "      <td>미퇴거</td>\n",
       "    </tr>\n",
       "    <tr>\n",
       "      <th>3</th>\n",
       "      <td>1</td>\n",
       "      <td>유효</td>\n",
       "      <td>10</td>\n",
       "      <td>222</td>\n",
       "      <td>강남아파트</td>\n",
       "      <td>5</td>\n",
       "      <td>7.0</td>\n",
       "      <td>14520</td>\n",
       "      <td>1</td>\n",
       "      <td>12</td>\n",
       "      <td>...</td>\n",
       "      <td>NaN</td>\n",
       "      <td>2011</td>\n",
       "      <td>69900</td>\n",
       "      <td>5408000</td>\n",
       "      <td>46</td>\n",
       "      <td>36</td>\n",
       "      <td>남</td>\n",
       "      <td>미혼</td>\n",
       "      <td>3</td>\n",
       "      <td>미퇴거</td>\n",
       "    </tr>\n",
       "    <tr>\n",
       "      <th>4</th>\n",
       "      <td>1</td>\n",
       "      <td>유효</td>\n",
       "      <td>10</td>\n",
       "      <td>222</td>\n",
       "      <td>강남아파트</td>\n",
       "      <td>5</td>\n",
       "      <td>7.0</td>\n",
       "      <td>14520</td>\n",
       "      <td>1</td>\n",
       "      <td>12</td>\n",
       "      <td>...</td>\n",
       "      <td>NaN</td>\n",
       "      <td>2012</td>\n",
       "      <td>69900</td>\n",
       "      <td>5408000</td>\n",
       "      <td>46</td>\n",
       "      <td>37</td>\n",
       "      <td>남</td>\n",
       "      <td>미혼</td>\n",
       "      <td>3</td>\n",
       "      <td>미퇴거</td>\n",
       "    </tr>\n",
       "    <tr>\n",
       "      <th>...</th>\n",
       "      <td>...</td>\n",
       "      <td>...</td>\n",
       "      <td>...</td>\n",
       "      <td>...</td>\n",
       "      <td>...</td>\n",
       "      <td>...</td>\n",
       "      <td>...</td>\n",
       "      <td>...</td>\n",
       "      <td>...</td>\n",
       "      <td>...</td>\n",
       "      <td>...</td>\n",
       "      <td>...</td>\n",
       "      <td>...</td>\n",
       "      <td>...</td>\n",
       "      <td>...</td>\n",
       "      <td>...</td>\n",
       "      <td>...</td>\n",
       "      <td>...</td>\n",
       "      <td>...</td>\n",
       "      <td>...</td>\n",
       "      <td>...</td>\n",
       "    </tr>\n",
       "    <tr>\n",
       "      <th>86899</th>\n",
       "      <td>12882</td>\n",
       "      <td>해지</td>\n",
       "      <td>8</td>\n",
       "      <td>180</td>\n",
       "      <td>지산5단지아파트</td>\n",
       "      <td>3</td>\n",
       "      <td>8.0</td>\n",
       "      <td>86891</td>\n",
       "      <td>14</td>\n",
       "      <td>15</td>\n",
       "      <td>...</td>\n",
       "      <td>2018.0</td>\n",
       "      <td>2017</td>\n",
       "      <td>49500</td>\n",
       "      <td>3055000</td>\n",
       "      <td>60</td>\n",
       "      <td>56</td>\n",
       "      <td>남</td>\n",
       "      <td>기혼</td>\n",
       "      <td>2</td>\n",
       "      <td>미퇴거</td>\n",
       "    </tr>\n",
       "    <tr>\n",
       "      <th>86900</th>\n",
       "      <td>12882</td>\n",
       "      <td>해지</td>\n",
       "      <td>8</td>\n",
       "      <td>180</td>\n",
       "      <td>지산5단지아파트</td>\n",
       "      <td>3</td>\n",
       "      <td>8.0</td>\n",
       "      <td>86891</td>\n",
       "      <td>14</td>\n",
       "      <td>15</td>\n",
       "      <td>...</td>\n",
       "      <td>2018.0</td>\n",
       "      <td>2018</td>\n",
       "      <td>49500</td>\n",
       "      <td>3055000</td>\n",
       "      <td>60</td>\n",
       "      <td>57</td>\n",
       "      <td>남</td>\n",
       "      <td>기혼</td>\n",
       "      <td>2</td>\n",
       "      <td>퇴거</td>\n",
       "    </tr>\n",
       "    <tr>\n",
       "      <th>86901</th>\n",
       "      <td>12883</td>\n",
       "      <td>유효</td>\n",
       "      <td>2</td>\n",
       "      <td>36</td>\n",
       "      <td>지산5단지아파트</td>\n",
       "      <td>3</td>\n",
       "      <td>8.0</td>\n",
       "      <td>86891</td>\n",
       "      <td>14</td>\n",
       "      <td>15</td>\n",
       "      <td>...</td>\n",
       "      <td>NaN</td>\n",
       "      <td>2018</td>\n",
       "      <td>45000</td>\n",
       "      <td>2365000</td>\n",
       "      <td>52</td>\n",
       "      <td>49</td>\n",
       "      <td>남</td>\n",
       "      <td>미혼</td>\n",
       "      <td>1</td>\n",
       "      <td>미퇴거</td>\n",
       "    </tr>\n",
       "    <tr>\n",
       "      <th>86902</th>\n",
       "      <td>12883</td>\n",
       "      <td>유효</td>\n",
       "      <td>2</td>\n",
       "      <td>36</td>\n",
       "      <td>지산5단지아파트</td>\n",
       "      <td>3</td>\n",
       "      <td>8.0</td>\n",
       "      <td>86891</td>\n",
       "      <td>14</td>\n",
       "      <td>15</td>\n",
       "      <td>...</td>\n",
       "      <td>NaN</td>\n",
       "      <td>2019</td>\n",
       "      <td>45000</td>\n",
       "      <td>2365000</td>\n",
       "      <td>52</td>\n",
       "      <td>50</td>\n",
       "      <td>남</td>\n",
       "      <td>미혼</td>\n",
       "      <td>1</td>\n",
       "      <td>미퇴거</td>\n",
       "    </tr>\n",
       "    <tr>\n",
       "      <th>86903</th>\n",
       "      <td>12883</td>\n",
       "      <td>유효</td>\n",
       "      <td>2</td>\n",
       "      <td>36</td>\n",
       "      <td>지산5단지아파트</td>\n",
       "      <td>3</td>\n",
       "      <td>8.0</td>\n",
       "      <td>86891</td>\n",
       "      <td>14</td>\n",
       "      <td>15</td>\n",
       "      <td>...</td>\n",
       "      <td>NaN</td>\n",
       "      <td>2020</td>\n",
       "      <td>45000</td>\n",
       "      <td>2365000</td>\n",
       "      <td>52</td>\n",
       "      <td>51</td>\n",
       "      <td>남</td>\n",
       "      <td>미혼</td>\n",
       "      <td>1</td>\n",
       "      <td>미퇴거</td>\n",
       "    </tr>\n",
       "  </tbody>\n",
       "</table>\n",
       "<p>86904 rows × 23 columns</p>\n",
       "</div>"
      ],
      "text/plain": [
       "          순번 계약구분  재계약횟수  거주개월    아파트 이름  아파트 ID  아파트 평점  호실고유번호   층  평형대  \\\n",
       "0          1   유효     10   222     강남아파트       5     7.0   14520   1   12   \n",
       "1          1   유효     10   222     강남아파트       5     7.0   14520   1   12   \n",
       "2          1   유효     10   222     강남아파트       5     7.0   14520   1   12   \n",
       "3          1   유효     10   222     강남아파트       5     7.0   14520   1   12   \n",
       "4          1   유효     10   222     강남아파트       5     7.0   14520   1   12   \n",
       "...      ...  ...    ...   ...       ...     ...     ...     ...  ..  ...   \n",
       "86899  12882   해지      8   180  지산5단지아파트       3     8.0   86891  14   15   \n",
       "86900  12882   해지      8   180  지산5단지아파트       3     8.0   86891  14   15   \n",
       "86901  12883   유효      2    36  지산5단지아파트       3     8.0   86891  14   15   \n",
       "86902  12883   유효      2    36  지산5단지아파트       3     8.0   86891  14   15   \n",
       "86903  12883   유효      2    36  지산5단지아파트       3     8.0   86891  14   15   \n",
       "\n",
       "       ...    퇴거연도  거주연도  월세(원)   보증금(원)  대표나이  나이  성별  결혼여부  거주자 수 퇴거여부  \n",
       "0      ...     NaN  2008  47100  3646000    46  33   남    미혼      3  미퇴거  \n",
       "1      ...     NaN  2009  56500  4375000    46  34   남    미혼      3  미퇴거  \n",
       "2      ...     NaN  2010  56500  4375000    46  35   남    미혼      3  미퇴거  \n",
       "3      ...     NaN  2011  69900  5408000    46  36   남    미혼      3  미퇴거  \n",
       "4      ...     NaN  2012  69900  5408000    46  37   남    미혼      3  미퇴거  \n",
       "...    ...     ...   ...    ...      ...   ...  ..  ..   ...    ...  ...  \n",
       "86899  ...  2018.0  2017  49500  3055000    60  56   남    기혼      2  미퇴거  \n",
       "86900  ...  2018.0  2018  49500  3055000    60  57   남    기혼      2   퇴거  \n",
       "86901  ...     NaN  2018  45000  2365000    52  49   남    미혼      1  미퇴거  \n",
       "86902  ...     NaN  2019  45000  2365000    52  50   남    미혼      1  미퇴거  \n",
       "86903  ...     NaN  2020  45000  2365000    52  51   남    미혼      1  미퇴거  \n",
       "\n",
       "[86904 rows x 23 columns]"
      ]
     },
     "execution_count": 11,
     "metadata": {},
     "output_type": "execute_result"
    }
   ],
   "source": [
    "import ssl\n",
    "import pandas as pd\n",
    "import urllib\n",
    "context = ssl._create_unverified_context()\n",
    "\n",
    "url1 = 'https://raw.githubusercontent.com/Datamanim/datarepo/main/adp/29/p1.csv'\n",
    "encoded_url1 = urllib.parse.quote(url1, safe=':/')\n",
    "\n",
    "response = urllib.request.urlopen(encoded_url1, context=context)\n",
    "df1 = pd.read_csv(response, encoding='euc-kr')\n",
    "df1"
   ]
  },
  {
   "cell_type": "code",
   "execution_count": 5,
   "metadata": {},
   "outputs": [
    {
     "name": "stdout",
     "output_type": "stream",
     "text": [
      "<class 'pandas.core.frame.DataFrame'>\n",
      "RangeIndex: 86904 entries, 0 to 86903\n",
      "Data columns (total 23 columns):\n",
      " #   Column   Non-Null Count  Dtype  \n",
      "---  ------   --------------  -----  \n",
      " 0   순번       86904 non-null  int64  \n",
      " 1   계약구분     86396 non-null  object \n",
      " 2   재계약횟수    86904 non-null  int64  \n",
      " 3   거주개월     86904 non-null  int64  \n",
      " 4   아파트 이름   86904 non-null  object \n",
      " 5   아파트 ID   86904 non-null  int64  \n",
      " 6   아파트 평점   85679 non-null  float64\n",
      " 7   호실고유번호   86904 non-null  int64  \n",
      " 8   층        86904 non-null  int64  \n",
      " 9   평형대      86904 non-null  int64  \n",
      " 10  계약자고유번호  86904 non-null  int64  \n",
      " 11  계약서고유번호  86904 non-null  int64  \n",
      " 12  입주연도     86904 non-null  int64  \n",
      " 13  퇴거연도     25762 non-null  float64\n",
      " 14  거주연도     86904 non-null  int64  \n",
      " 15  월세(원)    86904 non-null  int64  \n",
      " 16  보증금(원)   86904 non-null  int64  \n",
      " 17  대표나이     86904 non-null  int64  \n",
      " 18  나이       86904 non-null  int64  \n",
      " 19  성별       86904 non-null  object \n",
      " 20  결혼여부     86904 non-null  object \n",
      " 21  거주자 수    86904 non-null  int64  \n",
      " 22  퇴거여부     86904 non-null  object \n",
      "dtypes: float64(2), int64(16), object(5)\n",
      "memory usage: 15.2+ MB\n"
     ]
    }
   ],
   "source": [
    "df1.info()"
   ]
  },
  {
   "cell_type": "code",
   "execution_count": 13,
   "metadata": {},
   "outputs": [
    {
     "data": {
      "text/plain": [
       "비둘기아파트      36148\n",
       "용지아파트       33815\n",
       "지산5단지아파트    13756\n",
       "까치아파트        1911\n",
       "강남아파트        1274\n",
       "Name: 아파트 이름, dtype: int64"
      ]
     },
     "execution_count": 13,
     "metadata": {},
     "output_type": "execute_result"
    }
   ],
   "source": [
    "df1['아파트 이름'].value_counts()"
   ]
  },
  {
   "cell_type": "code",
   "execution_count": 6,
   "metadata": {},
   "outputs": [
    {
     "data": {
      "text/html": [
       "<div>\n",
       "<style scoped>\n",
       "    .dataframe tbody tr th:only-of-type {\n",
       "        vertical-align: middle;\n",
       "    }\n",
       "\n",
       "    .dataframe tbody tr th {\n",
       "        vertical-align: top;\n",
       "    }\n",
       "\n",
       "    .dataframe thead th {\n",
       "        text-align: right;\n",
       "    }\n",
       "</style>\n",
       "<table border=\"1\" class=\"dataframe\">\n",
       "  <thead>\n",
       "    <tr style=\"text-align: right;\">\n",
       "      <th></th>\n",
       "      <th>순번</th>\n",
       "      <th>재계약횟수</th>\n",
       "      <th>거주개월</th>\n",
       "      <th>아파트 ID</th>\n",
       "      <th>아파트 평점</th>\n",
       "      <th>호실고유번호</th>\n",
       "      <th>층</th>\n",
       "      <th>평형대</th>\n",
       "      <th>계약자고유번호</th>\n",
       "      <th>계약서고유번호</th>\n",
       "      <th>입주연도</th>\n",
       "      <th>퇴거연도</th>\n",
       "      <th>거주연도</th>\n",
       "      <th>월세(원)</th>\n",
       "      <th>보증금(원)</th>\n",
       "      <th>대표나이</th>\n",
       "      <th>나이</th>\n",
       "      <th>거주자 수</th>\n",
       "    </tr>\n",
       "  </thead>\n",
       "  <tbody>\n",
       "    <tr>\n",
       "      <th>count</th>\n",
       "      <td>86904.000000</td>\n",
       "      <td>86904.000000</td>\n",
       "      <td>86904.000000</td>\n",
       "      <td>86904.000000</td>\n",
       "      <td>85679.000000</td>\n",
       "      <td>86904.000000</td>\n",
       "      <td>86904.000000</td>\n",
       "      <td>86904.000000</td>\n",
       "      <td>86904.000000</td>\n",
       "      <td>86904.000000</td>\n",
       "      <td>86904.000000</td>\n",
       "      <td>25762.000000</td>\n",
       "      <td>86904.000000</td>\n",
       "      <td>86904.000000</td>\n",
       "      <td>8.690400e+04</td>\n",
       "      <td>86904.000000</td>\n",
       "      <td>86904.000000</td>\n",
       "      <td>86904.000000</td>\n",
       "    </tr>\n",
       "    <tr>\n",
       "      <th>mean</th>\n",
       "      <td>6491.167507</td>\n",
       "      <td>7.381709</td>\n",
       "      <td>174.413318</td>\n",
       "      <td>1.830295</td>\n",
       "      <td>6.393294</td>\n",
       "      <td>43444.813633</td>\n",
       "      <td>7.881202</td>\n",
       "      <td>13.289388</td>\n",
       "      <td>43447.639257</td>\n",
       "      <td>43447.678220</td>\n",
       "      <td>2005.240127</td>\n",
       "      <td>2015.992237</td>\n",
       "      <td>2013.990150</td>\n",
       "      <td>57680.561309</td>\n",
       "      <td>3.384638e+06</td>\n",
       "      <td>66.673893</td>\n",
       "      <td>59.664043</td>\n",
       "      <td>1.652536</td>\n",
       "    </tr>\n",
       "    <tr>\n",
       "      <th>std</th>\n",
       "      <td>3745.003081</td>\n",
       "      <td>2.759457</td>\n",
       "      <td>64.811846</td>\n",
       "      <td>0.874843</td>\n",
       "      <td>1.284757</td>\n",
       "      <td>25088.009930</td>\n",
       "      <td>4.267868</td>\n",
       "      <td>2.385220</td>\n",
       "      <td>25087.616670</td>\n",
       "      <td>25087.498178</td>\n",
       "      <td>4.834619</td>\n",
       "      <td>3.144036</td>\n",
       "      <td>3.729721</td>\n",
       "      <td>30588.513118</td>\n",
       "      <td>2.381399e+06</td>\n",
       "      <td>12.949539</td>\n",
       "      <td>13.275218</td>\n",
       "      <td>0.926899</td>\n",
       "    </tr>\n",
       "    <tr>\n",
       "      <th>min</th>\n",
       "      <td>1.000000</td>\n",
       "      <td>1.000000</td>\n",
       "      <td>1.000000</td>\n",
       "      <td>1.000000</td>\n",
       "      <td>5.000000</td>\n",
       "      <td>1.000000</td>\n",
       "      <td>1.000000</td>\n",
       "      <td>12.000000</td>\n",
       "      <td>1.000000</td>\n",
       "      <td>1.000000</td>\n",
       "      <td>1994.000000</td>\n",
       "      <td>2008.000000</td>\n",
       "      <td>2008.000000</td>\n",
       "      <td>31300.000000</td>\n",
       "      <td>1.520000e+06</td>\n",
       "      <td>21.000000</td>\n",
       "      <td>20.000000</td>\n",
       "      <td>1.000000</td>\n",
       "    </tr>\n",
       "    <tr>\n",
       "      <th>25%</th>\n",
       "      <td>3241.000000</td>\n",
       "      <td>5.000000</td>\n",
       "      <td>126.000000</td>\n",
       "      <td>1.000000</td>\n",
       "      <td>5.000000</td>\n",
       "      <td>21724.000000</td>\n",
       "      <td>4.000000</td>\n",
       "      <td>12.000000</td>\n",
       "      <td>21721.000000</td>\n",
       "      <td>21724.000000</td>\n",
       "      <td>2002.000000</td>\n",
       "      <td>2014.000000</td>\n",
       "      <td>2011.000000</td>\n",
       "      <td>40300.000000</td>\n",
       "      <td>1.954000e+06</td>\n",
       "      <td>59.000000</td>\n",
       "      <td>51.000000</td>\n",
       "      <td>1.000000</td>\n",
       "    </tr>\n",
       "    <tr>\n",
       "      <th>50%</th>\n",
       "      <td>6547.000000</td>\n",
       "      <td>8.000000</td>\n",
       "      <td>197.000000</td>\n",
       "      <td>2.000000</td>\n",
       "      <td>7.000000</td>\n",
       "      <td>43425.000000</td>\n",
       "      <td>8.000000</td>\n",
       "      <td>12.000000</td>\n",
       "      <td>43446.000000</td>\n",
       "      <td>43451.000000</td>\n",
       "      <td>2003.000000</td>\n",
       "      <td>2017.000000</td>\n",
       "      <td>2014.000000</td>\n",
       "      <td>43600.000000</td>\n",
       "      <td>2.144000e+06</td>\n",
       "      <td>66.000000</td>\n",
       "      <td>59.000000</td>\n",
       "      <td>1.000000</td>\n",
       "    </tr>\n",
       "    <tr>\n",
       "      <th>75%</th>\n",
       "      <td>9711.250000</td>\n",
       "      <td>10.000000</td>\n",
       "      <td>222.000000</td>\n",
       "      <td>2.000000</td>\n",
       "      <td>7.000000</td>\n",
       "      <td>65170.000000</td>\n",
       "      <td>12.000000</td>\n",
       "      <td>15.000000</td>\n",
       "      <td>65175.000000</td>\n",
       "      <td>65178.000000</td>\n",
       "      <td>2008.000000</td>\n",
       "      <td>2019.000000</td>\n",
       "      <td>2017.000000</td>\n",
       "      <td>62900.000000</td>\n",
       "      <td>3.778000e+06</td>\n",
       "      <td>76.000000</td>\n",
       "      <td>69.000000</td>\n",
       "      <td>2.000000</td>\n",
       "    </tr>\n",
       "    <tr>\n",
       "      <th>max</th>\n",
       "      <td>12883.000000</td>\n",
       "      <td>12.000000</td>\n",
       "      <td>323.000000</td>\n",
       "      <td>5.000000</td>\n",
       "      <td>10.000000</td>\n",
       "      <td>86891.000000</td>\n",
       "      <td>15.000000</td>\n",
       "      <td>19.000000</td>\n",
       "      <td>86892.000000</td>\n",
       "      <td>86904.000000</td>\n",
       "      <td>2020.000000</td>\n",
       "      <td>2020.000000</td>\n",
       "      <td>2020.000000</td>\n",
       "      <td>311080.000000</td>\n",
       "      <td>2.078400e+07</td>\n",
       "      <td>121.000000</td>\n",
       "      <td>120.000000</td>\n",
       "      <td>10.000000</td>\n",
       "    </tr>\n",
       "  </tbody>\n",
       "</table>\n",
       "</div>"
      ],
      "text/plain": [
       "                 순번         재계약횟수          거주개월        아파트 ID        아파트 평점  \\\n",
       "count  86904.000000  86904.000000  86904.000000  86904.000000  85679.000000   \n",
       "mean    6491.167507      7.381709    174.413318      1.830295      6.393294   \n",
       "std     3745.003081      2.759457     64.811846      0.874843      1.284757   \n",
       "min        1.000000      1.000000      1.000000      1.000000      5.000000   \n",
       "25%     3241.000000      5.000000    126.000000      1.000000      5.000000   \n",
       "50%     6547.000000      8.000000    197.000000      2.000000      7.000000   \n",
       "75%     9711.250000     10.000000    222.000000      2.000000      7.000000   \n",
       "max    12883.000000     12.000000    323.000000      5.000000     10.000000   \n",
       "\n",
       "             호실고유번호             층           평형대       계약자고유번호       계약서고유번호  \\\n",
       "count  86904.000000  86904.000000  86904.000000  86904.000000  86904.000000   \n",
       "mean   43444.813633      7.881202     13.289388  43447.639257  43447.678220   \n",
       "std    25088.009930      4.267868      2.385220  25087.616670  25087.498178   \n",
       "min        1.000000      1.000000     12.000000      1.000000      1.000000   \n",
       "25%    21724.000000      4.000000     12.000000  21721.000000  21724.000000   \n",
       "50%    43425.000000      8.000000     12.000000  43446.000000  43451.000000   \n",
       "75%    65170.000000     12.000000     15.000000  65175.000000  65178.000000   \n",
       "max    86891.000000     15.000000     19.000000  86892.000000  86904.000000   \n",
       "\n",
       "               입주연도          퇴거연도          거주연도          월세(원)        보증금(원)  \\\n",
       "count  86904.000000  25762.000000  86904.000000   86904.000000  8.690400e+04   \n",
       "mean    2005.240127   2015.992237   2013.990150   57680.561309  3.384638e+06   \n",
       "std        4.834619      3.144036      3.729721   30588.513118  2.381399e+06   \n",
       "min     1994.000000   2008.000000   2008.000000   31300.000000  1.520000e+06   \n",
       "25%     2002.000000   2014.000000   2011.000000   40300.000000  1.954000e+06   \n",
       "50%     2003.000000   2017.000000   2014.000000   43600.000000  2.144000e+06   \n",
       "75%     2008.000000   2019.000000   2017.000000   62900.000000  3.778000e+06   \n",
       "max     2020.000000   2020.000000   2020.000000  311080.000000  2.078400e+07   \n",
       "\n",
       "               대표나이            나이         거주자 수  \n",
       "count  86904.000000  86904.000000  86904.000000  \n",
       "mean      66.673893     59.664043      1.652536  \n",
       "std       12.949539     13.275218      0.926899  \n",
       "min       21.000000     20.000000      1.000000  \n",
       "25%       59.000000     51.000000      1.000000  \n",
       "50%       66.000000     59.000000      1.000000  \n",
       "75%       76.000000     69.000000      2.000000  \n",
       "max      121.000000    120.000000     10.000000  "
      ]
     },
     "execution_count": 6,
     "metadata": {},
     "output_type": "execute_result"
    }
   ],
   "source": [
    "df1.describe()"
   ]
  },
  {
   "cell_type": "markdown",
   "metadata": {},
   "source": [
    "### 1-2 결측치를 처리하라"
   ]
  },
  {
   "cell_type": "code",
   "execution_count": 7,
   "metadata": {
    "scrolled": true
   },
   "outputs": [
    {
     "data": {
      "text/plain": [
       "순번             0\n",
       "계약구분         508\n",
       "재계약횟수          0\n",
       "거주개월           0\n",
       "아파트 이름         0\n",
       "아파트 ID         0\n",
       "아파트 평점      1225\n",
       "호실고유번호         0\n",
       "층              0\n",
       "평형대            0\n",
       "계약자고유번호        0\n",
       "계약서고유번호        0\n",
       "입주연도           0\n",
       "퇴거연도       61142\n",
       "거주연도           0\n",
       "월세(원)          0\n",
       "보증금(원)         0\n",
       "대표나이           0\n",
       "나이             0\n",
       "성별             0\n",
       "결혼여부           0\n",
       "거주자 수          0\n",
       "퇴거여부           0\n",
       "dtype: int64"
      ]
     },
     "execution_count": 7,
     "metadata": {},
     "output_type": "execute_result"
    }
   ],
   "source": [
    "df1.isna().sum()"
   ]
  },
  {
   "cell_type": "code",
   "execution_count": 8,
   "metadata": {},
   "outputs": [
    {
     "name": "stderr",
     "output_type": "stream",
     "text": [
      "C:\\ProgramData\\Anaconda3\\lib\\site-packages\\pandas\\core\\generic.py:6392: SettingWithCopyWarning: \n",
      "A value is trying to be set on a copy of a slice from a DataFrame\n",
      "\n",
      "See the caveats in the documentation: https://pandas.pydata.org/pandas-docs/stable/user_guide/indexing.html#returning-a-view-versus-a-copy\n",
      "  return self._update_inplace(result)\n"
     ]
    }
   ],
   "source": [
    "## 퇴거연도 결측은 입주중이라고 보고 2023 년으로 가정함\n",
    "## 아파트 평점 : 평균 대체\n",
    "## 계약구분 : null 값 삭제\n",
    "\n",
    "df1 = df1[df1['계약구분'].notna()]\n",
    "df1['아파트 평점'].fillna(df1['아파트 평점'].mean(), inplace=True)\n",
    "df1['퇴거연도'].fillna(2023, inplace=True)\n",
    "\n",
    "## 분석에 사용되는 데이터셋 재정의\n",
    "df1_v1 = df1[['계약구분','재계약횟수','거주개월','아파트 평점','층','평형대','월세(원)','보증금(원)','대표나이','나이','성별','결혼여부','거주자 수','퇴거여부']]"
   ]
  },
  {
   "cell_type": "markdown",
   "metadata": {},
   "source": [
    "### 1-3 이상치를 처리하라"
   ]
  },
  {
   "cell_type": "code",
   "execution_count": 9,
   "metadata": {},
   "outputs": [],
   "source": [
    "class font_setting():\n",
    "    def __init__(self):\n",
    "        self.font_url = \"https://github.com/google/fonts/blob/main/ofl/nanumgothic/NanumGothic-Regular.ttf?raw=true\"\n",
    "        self.path = \"./NanumGothic-Regular.ttf\"\n",
    "        \n",
    "    def get_font(self):\n",
    "        import requests\n",
    "        from matplotlib import font_manager, rc\n",
    "        import matplotlib.pyplot as plt\n",
    "        \n",
    "        res = requests.get(self.font_url)\n",
    "        \n",
    "        with open(self.path, \"wb\") as font_file:\n",
    "            font_file.write(res.content)\n",
    "        \n",
    "        font_manager.fontManager.ttflist += font_manager.createFontList([self.path])\n",
    "        rc('font', family='NanumGothic')\n",
    "        plt.rcParams[\"font.family\"] = 'NanumGothic'\n",
    "    \n",
    "    def delete_font(self):\n",
    "        import os\n",
    "        os.remove(self.path)\n",
    "\n",
    "font_set = font_setting()\n",
    "font_set.get_font()"
   ]
  },
  {
   "cell_type": "code",
   "execution_count": 10,
   "metadata": {},
   "outputs": [
    {
     "data": {
      "image/png": "[encoded data removed]",
      "text/plain": [
       "<Figure size 1152x576 with 12 Axes>"
      ]
     },
     "metadata": {
      "needs_background": "light"
     },
     "output_type": "display_data"
    }
   ],
   "source": [
    "import matplotlib.pyplot as plt\n",
    "import seaborn as sns\n",
    "# plt.boxplot(df1_v2['F'])\n",
    "# plt.title('소비자별 구매빈도')\n",
    "\n",
    "fig, axs = plt.subplots(figsize=(16,8), ncols=4, nrows=3)\n",
    "cat_features = ['재계약횟수','거주개월','아파트 평점','층','평형대','월세(원)','보증금(원)','대표나이','나이'] # lm_features = df.columns[:-1]\n",
    "for i, feature in enumerate(cat_features):\n",
    "    row = i // 3\n",
    "    col = i % 4\n",
    "    sns.boxplot(y=feature, data=df1_v1, ax=axs[row][col])\n",
    "plt.tight_layout()\n",
    "plt.show()"
   ]
  },
  {
   "cell_type": "code",
   "execution_count": null,
   "metadata": {},
   "outputs": [],
   "source": [
    "## 이상치로 판단되는 케이스 없어서 처리 안함. 결측치값은 위에서 대체함\n",
    "\n",
    "def outliers_iqr(dt, col):\n",
    "    q1, q3 = np.percentile(dt[col], [25,75])\n",
    "    iqr = q3-q1\n",
    "    lower_whis = q1 - (iqr*1.5)\n",
    "    upper_whis = q3 + (iqr*1.5)\n",
    "    outliers = dt[(dt[col] > upper_whis) | (dt[col] < lower_whis)]\n",
    "    return outliers[[col]]"
   ]
  },
  {
   "cell_type": "markdown",
   "metadata": {},
   "source": [
    "### 2-1 재계약 횟수의 중앙값을 기준으로 중앙값보다 크거나 같으면 '높음', 작으면 '낮음' 으로 재계약 횟수 이분 변수를 구성하시오."
   ]
  },
  {
   "cell_type": "code",
   "execution_count": 341,
   "metadata": {},
   "outputs": [
    {
     "name": "stderr",
     "output_type": "stream",
     "text": [
      "C:\\ProgramData\\Anaconda3\\lib\\site-packages\\ipykernel_launcher.py:3: SettingWithCopyWarning: \n",
      "A value is trying to be set on a copy of a slice from a DataFrame.\n",
      "Try using .loc[row_indexer,col_indexer] = value instead\n",
      "\n",
      "See the caveats in the documentation: https://pandas.pydata.org/pandas-docs/stable/user_guide/indexing.html#returning-a-view-versus-a-copy\n",
      "  This is separate from the ipykernel package so we can avoid doing imports until\n"
     ]
    }
   ],
   "source": [
    "df1_v2 = df1_v1.copy()\n",
    "median = df1_v1['재계약횟수'].median()\n",
    "df1_v1['재계약중앙값기준'] = df1_v1['재계약횟수'].map(lambda x: '높음' if x >= median else '낮음')"
   ]
  },
  {
   "cell_type": "markdown",
   "metadata": {},
   "source": [
    "### 2-2 차원축소의 필요성을 논하고, 필요에 따라 차원을 축소하고 불필요하다면 그 근거를 논하시오."
   ]
  },
  {
   "cell_type": "code",
   "execution_count": null,
   "metadata": {},
   "outputs": [],
   "source": [
    "[PCA를 하는 이유]\n",
    "\n",
    "1. 차원을 3차원 이하로 축소해 시각화\n",
    "\n",
    "2. 정보를 적은 차원에 저장함으로써 메모리 절약\n",
    "\n",
    "3. 이미지의 잡음 제거\n",
    "\n",
    "4. 필요없는 변수 제거, 과적합 방지\n",
    "(차원 축소를 통해 모델의 학습을 용이하게 함)"
   ]
  },
  {
   "cell_type": "code",
   "execution_count": 335,
   "metadata": {},
   "outputs": [
    {
     "name": "stdout",
     "output_type": "stream",
     "text": [
      "고유값: [5.84883803e+08 1.71891136e+06 1.54025267e+04 4.43685533e+03\n",
      " 1.04065857e+03 6.32873426e+02 5.02436722e+02]\n",
      "분산설명력: [9.99991362e-01 8.63702194e-06 6.93491271e-10 5.75450001e-11\n",
      " 3.16572795e-12 1.17082174e-12 7.37937883e-13]\n"
     ]
    },
    {
     "data": {
      "image/png": "[encoded data removed]",
      "text/plain": [
       "<Figure size 432x288 with 1 Axes>"
      ]
     },
     "metadata": {
      "needs_background": "light"
     },
     "output_type": "display_data"
    }
   ],
   "source": [
    "## 분석용 데이터셋 생성(df1_v2)\n",
    "df1_v2['median_div'] = df1_v2['재계약횟수'].map(lambda x: 1 if x >= median else 0)\n",
    "df1_v2.drop('재계약횟수', axis=1, inplace=True)\n",
    "\n",
    "\n",
    "## 범주형 one-hot encoding \n",
    "df1_v2 = pd.get_dummies(df1_v2)\n",
    "\n",
    "\n",
    "from sklearn.model_selection import train_test_split\n",
    "target = df1_v2['median_div']\n",
    "features = df1_v2.drop('median_div', axis=1)\n",
    "X_train, X_test, y_train, y_test = train_test_split(features, target, test_size=0.3, random_state=0, stratify=target)\n",
    "\n",
    "from sklearn.preprocessing import StandardScaler\n",
    "scaler = StandardScaler()\n",
    "scaler.fit(X_train)\n",
    "X_train_scaled = scaler.transform(X_train)\n",
    "X_test_scaled = scaler.transform(X_test)\n",
    "\n",
    "from sklearn.decomposition import PCA\n",
    "pca = PCA(n_components=7)\n",
    "pca.fit(X_train, y_train)\n",
    "print('고유값:', pca.singular_values_)\n",
    "print('분산설명력:', pca.explained_variance_ratio_)\n",
    "\n",
    "plt.plot(pca.explained_variance_ratio_, 'o-')\n",
    "plt.show()\n",
    "\n",
    "## 차원축소 필요 없음, 현재의 변수 자체로 타겟 설명 가능"
   ]
  },
  {
   "cell_type": "markdown",
   "metadata": {},
   "source": [
    "### 3-1 2번에서 진행한 재계약 횟수 이분변수를 기준으로 세그먼트를 구분하고 각 세그먼트의 특징을 분석하시오."
   ]
  },
  {
   "cell_type": "code",
   "execution_count": 343,
   "metadata": {},
   "outputs": [
    {
     "data": {
      "image/png": "[encoded data removed]",
      "text/plain": [
       "<Figure size 1152x576 with 8 Axes>"
      ]
     },
     "metadata": {
      "needs_background": "light"
     },
     "output_type": "display_data"
    }
   ],
   "source": [
    "import matplotlib.pyplot as plt\n",
    "import seaborn as sns\n",
    "\n",
    "fig, axs = plt.subplots(figsize=(16,8), ncols=4, nrows=2)\n",
    "cat_features = ['거주개월','아파트 평점','층','평형대','월세(원)','보증금(원)','대표나이','나이'] # lm_features = df.columns[:-1]\n",
    "for i, feature in enumerate(cat_features):\n",
    "    row = i // 4\n",
    "    col = i % 4\n",
    "    sns.boxplot(x='재계약중앙값기준', y=feature, data=df1_v1, ax=axs[row][col])\n",
    "plt.tight_layout()\n",
    "plt.show()"
   ]
  },
  {
   "cell_type": "markdown",
   "metadata": {},
   "source": [
    "### 3-2. 재계약횟수 변수를 종속변수로 하는 회귀 분석 모델을 두 가지 이상의 방법론을 통해 수행하고 최종 모델을 결정하시오. 재계약횟수 이분변수를 종속변수로 하는 분류 분석을 두가지 이상의 방법론을 통해 수행하고 최종 모델을 결정한 후 그 이유를 작성하시오 "
   ]
  },
  {
   "cell_type": "code",
   "execution_count": 344,
   "metadata": {},
   "outputs": [
    {
     "name": "stdout",
     "output_type": "stream",
     "text": [
      "회귀분석 RMSE :  0.2724020438567402\n",
      "회귀분석 time : 0.04235339164733887\n",
      "XGBoost RMSE :  0.08702148252438494\n",
      "XGBoost time : 1.9086079597473145\n",
      "Decision tree 정확도: 0.9966\n",
      "time : 0.26132702827453613\n",
      "RandomForest 정확도: 0.9970\n",
      "time : 4.27584433555603\n",
      "Logistic 정확도: 0.8112\n",
      "time : 0.2541313171386719\n"
     ]
    }
   ],
   "source": [
    "## 회귀 모델 두가지\n",
    "import time\n",
    "from sklearn.linear_model import LinearRegression\n",
    "from xgboost import XGBRegressor\n",
    "\n",
    "from sklearn.metrics import mean_squared_error, mean_absolute_error\n",
    "def rmsle(y, pred):\n",
    "    log_y =np.log1p(y)\n",
    "    log_pred = np.log1p(pred)\n",
    "    sqaured_error = (log_y - log_pred)**2\n",
    "    rmsle = np.sqrt(np.mean(sqaured_error))\n",
    "    return rmsle\n",
    "\n",
    "\n",
    "\n",
    "\n",
    "start = time.time()\n",
    "lr_reg = LinearRegression()\n",
    "lr_reg.fit(X_train, y_train)\n",
    "lr_pred = lr_reg.predict(X_test)\n",
    "lr_rmsle_val = rmsle(y_test,lr_pred)\n",
    "lr_rmse_val = np.sqrt(mean_squared_error(y_test, lr_pred))\n",
    "print('회귀분석 RMSE : ',lr_rmse_val)\n",
    "print('회귀분석 time :', time.time()-start)\n",
    "\n",
    "      \n",
    "start = time.time()\n",
    "xgb_reg = XGBRegressor(n_estimators=100)\n",
    "xgb_reg.fit(X_train, y_train)\n",
    "xgb_pred = xgb_reg.predict(X_test)\n",
    "xgb_rmsle_val = rmsle(y_test,xgb_pred)\n",
    "xgb_rmse_val = np.sqrt(mean_squared_error(y_test, xgb_pred))\n",
    "\n",
    "print('XGBoost RMSE : ',xgb_rmse_val)\n",
    "print('XGBoost time :', time.time()-start)\n",
    "\n",
    "\n",
    "      \n",
    "      \n",
    "## 분류 모델 두가지\n",
    "from sklearn.tree import DecisionTreeClassifier\n",
    "from sklearn.ensemble import RandomForestClassifier\n",
    "from sklearn.linear_model import LogisticRegression\n",
    "from sklearn.metrics import accuracy_score\n",
    "\n",
    "\n",
    "start = time.time()\n",
    "dt_clf = DecisionTreeClassifier()\n",
    "dt_clf.fit(X_train, y_train)\n",
    "dt_pred = dt_clf.predict(X_test)\n",
    "print('Decision tree 정확도: {0:.4f}'.format(accuracy_score(y_test, dt_pred)))\n",
    "print('time :', time.time()-start)\n",
    "\n",
    "start = time.time()\n",
    "rf_clf = RandomForestClassifier(n_estimators=100)\n",
    "rf_clf.fit(X_train, y_train)\n",
    "rf_pred = rf_clf.predict(X_test)\n",
    "print('RandomForest 정확도: {0:.4f}'.format(accuracy_score(y_test, rf_pred)))\n",
    "print('time :', time.time()-start)\n",
    "\n",
    "start = time.time()\n",
    "lr_clf = LogisticRegression(solver='liblinear')\n",
    "lr_clf.fit(X_train, y_train)\n",
    "lr_pred = lr_clf.predict(X_test)\n",
    "print('Logistic 정확도: {0:.4f}'.format(accuracy_score(y_test, lr_pred)))\n",
    "print('time :', time.time()-start)\n",
    "\n",
    "## 1. 회귀모델 best : 실제 현업에서 사용 시, 런타임시간 짧고 & RMSE 낮은 선형회귀분석 ㅏㅅ용\n",
    "## 2. 분류모델 best : 랜덤포레스트 사용"
   ]
  },
  {
   "cell_type": "markdown",
   "metadata": {},
   "source": [
    "### 3-3 최종 채택한 모델에서 각각 변수 중요도를 확인하고 각 변수의 차이점을 설명하시오"
   ]
  },
  {
   "cell_type": "code",
   "execution_count": 345,
   "metadata": {},
   "outputs": [
    {
     "data": {
      "text/plain": [
       "<matplotlib.axes._subplots.AxesSubplot at 0x126bb41f2b0>"
      ]
     },
     "execution_count": 345,
     "metadata": {},
     "output_type": "execute_result"
    },
    {
     "name": "stderr",
     "output_type": "stream",
     "text": [
      "C:\\ProgramData\\Anaconda3\\lib\\site-packages\\matplotlib\\backends\\backend_agg.py:211: RuntimeWarning: Glyph 8722 missing from current font.\n",
      "  font.set_text(s, 0.0, flags=flags)\n",
      "C:\\ProgramData\\Anaconda3\\lib\\site-packages\\matplotlib\\backends\\backend_agg.py:180: RuntimeWarning: Glyph 8722 missing from current font.\n",
      "  font.set_text(s, 0, flags=flags)\n"
     ]
    },
    {
     "data": {
      "image/png": "[encoded data removed]",
      "text/plain": [
       "<Figure size 432x288 with 1 Axes>"
      ]
     },
     "metadata": {
      "needs_background": "light"
     },
     "output_type": "display_data"
    }
   ],
   "source": [
    "## 1. 회귀모델 변수 중요도\n",
    "## 회귀모델의 변수 중요도는 stepwise 사용하여 변수를 하나씩 빼고 더함으로써 AIC가 낮아지는 방향으롤 변수의 중요도를 탐색 할 수 있다\n",
    "\n",
    "coef = pd.Series(lr_reg.coef_, index=features.columns)\n",
    "coef_sort = coef.sort_values(ascending=False)\n",
    "sns.barplot(x=coef_sort.values, y=coef_sort.index)"
   ]
  },
  {
   "cell_type": "code",
   "execution_count": 346,
   "metadata": {
    "scrolled": true
   },
   "outputs": [
    {
     "data": {
      "image/png": "[encoded data removed]",
      "text/plain": [
       "<Figure size 576x432 with 1 Axes>"
      ]
     },
     "metadata": {
      "needs_background": "light"
     },
     "output_type": "display_data"
    }
   ],
   "source": [
    "## 2. 분류모델\n",
    "importance_values = rf_clf.feature_importances_\n",
    "importances = pd.Series(importance_values, index=X_train.columns)\n",
    "top20 = importances.sort_values(ascending=False)[:20]\n",
    "\n",
    "plt.figure(figsize=(8,6))\n",
    "sns.barplot(x=top20, y=top20.index)\n",
    "plt.show()"
   ]
  },
  {
   "cell_type": "code",
   "execution_count": null,
   "metadata": {},
   "outputs": [],
   "source": [
    "## 회귀모델로 변수중요도 판단 불가함. \n",
    "## 따라서 분류모델 기준 변수 중요도에서 높은순위를 차지하는 거주개월, 계약구분-해지 여부, 대표나이, 보증금 등이 재계약횟수에 영향을 미친다고 볼 수 있다"
   ]
  },
  {
   "cell_type": "markdown",
   "metadata": {},
   "source": [
    "### 3-4 해당 데이터 분석결과로 얻을 수 있는 점 제시"
   ]
  },
  {
   "cell_type": "code",
   "execution_count": null,
   "metadata": {},
   "outputs": [],
   "source": [
    "## 재계약 진행 시 거주개월, 계약구분-해지 여부, 대표나이, 보증금액 등에 따라 재계약 진행율이 높은지 낮은지를 예측할 수 있으므로\n",
    "## 임대인은 임차인의 부동산 재계약 여부를 사전에 탐지하여 재계약 성사율이 높다고 판단될 경우, 보증금 증액 검토를 통해 이익 창출 고려할 수 있고,\n",
    "## 재계약 성사율이 낮다고 판단될 경우, 매물을 빨리 내놓음으로써 리스크를 예방할 수 있음"
   ]
  },
  {
   "cell_type": "markdown",
   "metadata": {},
   "source": [
    "## 데이터 설명\n",
    "- 데이터 출처 : https://www.kaggle.com/datasets/pschale/mlb-pitch-data-20152018 데이터를 후처리\n",
    "- 데이터 링크 : https://raw.githubusercontent.com/Datamanim/datarepo/main/adp/29/p2_.csv\n",
    "- 데이터 설명 : \n",
    "\n",
    "A 야구구단의 시합 결과중 일부를 나타낸다.    \n",
    "각 행은 하나의 경기를 의미(game_id)하며 9회차(= 9이닝) 동안 1번타자, 2번타자의 출루 정보를 의미한다.     \n",
    "각 컬럼에 대한 설명은 아래 이미지와 같으며, value값의 index는 이미지의 '수치 의미' 열을 통해 확인 할 수 있다.\n"
   ]
  },
  {
   "cell_type": "markdown",
   "metadata": {},
   "source": [
    "<img src=\"https://github.com/Datamanim/datarepo/blob/main/adp/29/p1_img.png?raw=true\" width=\"500\" height=\"600\">"
   ]
  },
  {
   "cell_type": "code",
   "execution_count": null,
   "metadata": {},
   "outputs": [],
   "source": [
    "# 1,2,3루타와 사사구(볼넷, 몸에맞는공))가 있는 경우에 대해 득점이 발생 했는지\n",
    "\n",
    "# df2['a1_1']!=5 | df2['a1_1'] !=7 | df2['a1_1'] !=8 | df2['a1_1'] !=7 "
   ]
  },
  {
   "cell_type": "code",
   "execution_count": 392,
   "metadata": {},
   "outputs": [
    {
     "data": {
      "text/html": [
       "<div>\n",
       "<style scoped>\n",
       "    .dataframe tbody tr th:only-of-type {\n",
       "        vertical-align: middle;\n",
       "    }\n",
       "\n",
       "    .dataframe tbody tr th {\n",
       "        vertical-align: top;\n",
       "    }\n",
       "\n",
       "    .dataframe thead th {\n",
       "        text-align: right;\n",
       "    }\n",
       "</style>\n",
       "<table border=\"1\" class=\"dataframe\">\n",
       "  <thead>\n",
       "    <tr style=\"text-align: right;\">\n",
       "      <th></th>\n",
       "      <th>game_id</th>\n",
       "      <th>a1_1</th>\n",
       "      <th>a1_2</th>\n",
       "      <th>a2_1</th>\n",
       "      <th>a2_2</th>\n",
       "      <th>a3_1</th>\n",
       "      <th>a3_2</th>\n",
       "      <th>a4_1</th>\n",
       "      <th>a4_2</th>\n",
       "      <th>a5_1</th>\n",
       "      <th>...</th>\n",
       "      <th>a9_2</th>\n",
       "      <th>b1</th>\n",
       "      <th>b2</th>\n",
       "      <th>b3</th>\n",
       "      <th>b4</th>\n",
       "      <th>b5</th>\n",
       "      <th>b6</th>\n",
       "      <th>b7</th>\n",
       "      <th>b8</th>\n",
       "      <th>b9</th>\n",
       "    </tr>\n",
       "  </thead>\n",
       "  <tbody>\n",
       "    <tr>\n",
       "      <th>0</th>\n",
       "      <td>201900016</td>\n",
       "      <td>5</td>\n",
       "      <td>5</td>\n",
       "      <td>5</td>\n",
       "      <td>5</td>\n",
       "      <td>5</td>\n",
       "      <td>5</td>\n",
       "      <td>5</td>\n",
       "      <td>5</td>\n",
       "      <td>5</td>\n",
       "      <td>...</td>\n",
       "      <td>5</td>\n",
       "      <td>0</td>\n",
       "      <td>0</td>\n",
       "      <td>0</td>\n",
       "      <td>0</td>\n",
       "      <td>0</td>\n",
       "      <td>0</td>\n",
       "      <td>0</td>\n",
       "      <td>4</td>\n",
       "      <td>2</td>\n",
       "    </tr>\n",
       "    <tr>\n",
       "      <th>1</th>\n",
       "      <td>201900023</td>\n",
       "      <td>6</td>\n",
       "      <td>4</td>\n",
       "      <td>5</td>\n",
       "      <td>5</td>\n",
       "      <td>2</td>\n",
       "      <td>5</td>\n",
       "      <td>1</td>\n",
       "      <td>1</td>\n",
       "      <td>6</td>\n",
       "      <td>...</td>\n",
       "      <td>7</td>\n",
       "      <td>3</td>\n",
       "      <td>0</td>\n",
       "      <td>0</td>\n",
       "      <td>1</td>\n",
       "      <td>0</td>\n",
       "      <td>1</td>\n",
       "      <td>3</td>\n",
       "      <td>1</td>\n",
       "      <td>0</td>\n",
       "    </tr>\n",
       "    <tr>\n",
       "      <th>2</th>\n",
       "      <td>201900103</td>\n",
       "      <td>5</td>\n",
       "      <td>6</td>\n",
       "      <td>5</td>\n",
       "      <td>5</td>\n",
       "      <td>1</td>\n",
       "      <td>9</td>\n",
       "      <td>5</td>\n",
       "      <td>4</td>\n",
       "      <td>6</td>\n",
       "      <td>...</td>\n",
       "      <td>6</td>\n",
       "      <td>0</td>\n",
       "      <td>0</td>\n",
       "      <td>1</td>\n",
       "      <td>1</td>\n",
       "      <td>4</td>\n",
       "      <td>1</td>\n",
       "      <td>2</td>\n",
       "      <td>0</td>\n",
       "      <td>1</td>\n",
       "    </tr>\n",
       "    <tr>\n",
       "      <th>3</th>\n",
       "      <td>201900112</td>\n",
       "      <td>5</td>\n",
       "      <td>7</td>\n",
       "      <td>6</td>\n",
       "      <td>1</td>\n",
       "      <td>5</td>\n",
       "      <td>5</td>\n",
       "      <td>1</td>\n",
       "      <td>5</td>\n",
       "      <td>1</td>\n",
       "      <td>...</td>\n",
       "      <td>5</td>\n",
       "      <td>0</td>\n",
       "      <td>3</td>\n",
       "      <td>0</td>\n",
       "      <td>0</td>\n",
       "      <td>0</td>\n",
       "      <td>0</td>\n",
       "      <td>1</td>\n",
       "      <td>0</td>\n",
       "      <td>0</td>\n",
       "    </tr>\n",
       "    <tr>\n",
       "      <th>4</th>\n",
       "      <td>201900131</td>\n",
       "      <td>5</td>\n",
       "      <td>1</td>\n",
       "      <td>2</td>\n",
       "      <td>5</td>\n",
       "      <td>2</td>\n",
       "      <td>5</td>\n",
       "      <td>7</td>\n",
       "      <td>2</td>\n",
       "      <td>6</td>\n",
       "      <td>...</td>\n",
       "      <td>6</td>\n",
       "      <td>0</td>\n",
       "      <td>2</td>\n",
       "      <td>4</td>\n",
       "      <td>1</td>\n",
       "      <td>2</td>\n",
       "      <td>2</td>\n",
       "      <td>0</td>\n",
       "      <td>1</td>\n",
       "      <td>0</td>\n",
       "    </tr>\n",
       "    <tr>\n",
       "      <th>...</th>\n",
       "      <td>...</td>\n",
       "      <td>...</td>\n",
       "      <td>...</td>\n",
       "      <td>...</td>\n",
       "      <td>...</td>\n",
       "      <td>...</td>\n",
       "      <td>...</td>\n",
       "      <td>...</td>\n",
       "      <td>...</td>\n",
       "      <td>...</td>\n",
       "      <td>...</td>\n",
       "      <td>...</td>\n",
       "      <td>...</td>\n",
       "      <td>...</td>\n",
       "      <td>...</td>\n",
       "      <td>...</td>\n",
       "      <td>...</td>\n",
       "      <td>...</td>\n",
       "      <td>...</td>\n",
       "      <td>...</td>\n",
       "      <td>...</td>\n",
       "    </tr>\n",
       "    <tr>\n",
       "      <th>195</th>\n",
       "      <td>201902346</td>\n",
       "      <td>7</td>\n",
       "      <td>5</td>\n",
       "      <td>7</td>\n",
       "      <td>4</td>\n",
       "      <td>1</td>\n",
       "      <td>9</td>\n",
       "      <td>5</td>\n",
       "      <td>7</td>\n",
       "      <td>7</td>\n",
       "      <td>...</td>\n",
       "      <td>1</td>\n",
       "      <td>0</td>\n",
       "      <td>1</td>\n",
       "      <td>2</td>\n",
       "      <td>0</td>\n",
       "      <td>0</td>\n",
       "      <td>0</td>\n",
       "      <td>0</td>\n",
       "      <td>0</td>\n",
       "      <td>1</td>\n",
       "    </tr>\n",
       "    <tr>\n",
       "      <th>196</th>\n",
       "      <td>201902365</td>\n",
       "      <td>2</td>\n",
       "      <td>5</td>\n",
       "      <td>1</td>\n",
       "      <td>1</td>\n",
       "      <td>7</td>\n",
       "      <td>5</td>\n",
       "      <td>5</td>\n",
       "      <td>7</td>\n",
       "      <td>5</td>\n",
       "      <td>...</td>\n",
       "      <td>9</td>\n",
       "      <td>0</td>\n",
       "      <td>0</td>\n",
       "      <td>0</td>\n",
       "      <td>0</td>\n",
       "      <td>1</td>\n",
       "      <td>0</td>\n",
       "      <td>0</td>\n",
       "      <td>0</td>\n",
       "      <td>2</td>\n",
       "    </tr>\n",
       "    <tr>\n",
       "      <th>197</th>\n",
       "      <td>201902373</td>\n",
       "      <td></td>\n",
       "      <td>7</td>\n",
       "      <td>5</td>\n",
       "      <td>6</td>\n",
       "      <td>5</td>\n",
       "      <td>9</td>\n",
       "      <td>7</td>\n",
       "      <td>5</td>\n",
       "      <td>1</td>\n",
       "      <td>...</td>\n",
       "      <td>5</td>\n",
       "      <td>0</td>\n",
       "      <td>0</td>\n",
       "      <td>0</td>\n",
       "      <td>0</td>\n",
       "      <td>0</td>\n",
       "      <td>1</td>\n",
       "      <td>0</td>\n",
       "      <td>0</td>\n",
       "      <td>0</td>\n",
       "    </tr>\n",
       "    <tr>\n",
       "      <th>198</th>\n",
       "      <td>201902392</td>\n",
       "      <td>6</td>\n",
       "      <td>5</td>\n",
       "      <td>5</td>\n",
       "      <td>1</td>\n",
       "      <td>1</td>\n",
       "      <td>5</td>\n",
       "      <td>6</td>\n",
       "      <td>5</td>\n",
       "      <td>5</td>\n",
       "      <td>...</td>\n",
       "      <td>7</td>\n",
       "      <td>0</td>\n",
       "      <td>0</td>\n",
       "      <td>2</td>\n",
       "      <td>1</td>\n",
       "      <td>0</td>\n",
       "      <td>0</td>\n",
       "      <td>0</td>\n",
       "      <td>2</td>\n",
       "      <td>1</td>\n",
       "    </tr>\n",
       "    <tr>\n",
       "      <th>199</th>\n",
       "      <td>201902394</td>\n",
       "      <td>2</td>\n",
       "      <td>4</td>\n",
       "      <td>7</td>\n",
       "      <td>4</td>\n",
       "      <td>5</td>\n",
       "      <td>5</td>\n",
       "      <td>7</td>\n",
       "      <td>5</td>\n",
       "      <td>6</td>\n",
       "      <td>...</td>\n",
       "      <td>5</td>\n",
       "      <td>2</td>\n",
       "      <td>1</td>\n",
       "      <td>1</td>\n",
       "      <td>0</td>\n",
       "      <td>0</td>\n",
       "      <td>4</td>\n",
       "      <td>0</td>\n",
       "      <td>0</td>\n",
       "      <td>1</td>\n",
       "    </tr>\n",
       "  </tbody>\n",
       "</table>\n",
       "<p>200 rows × 28 columns</p>\n",
       "</div>"
      ],
      "text/plain": [
       "       game_id a1_1  a1_2 a2_1  a2_2  a3_1  a3_2 a4_1  a4_2  a5_1  ...  a9_2  \\\n",
       "0    201900016    5     5    5     5     5     5    5     5     5  ...     5   \n",
       "1    201900023    6     4    5     5     2     5    1     1     6  ...     7   \n",
       "2    201900103    5     6    5     5     1     9    5     4     6  ...     6   \n",
       "3    201900112    5     7    6     1     5     5    1     5     1  ...     5   \n",
       "4    201900131    5     1    2     5     2     5    7     2     6  ...     6   \n",
       "..         ...  ...   ...  ...   ...   ...   ...  ...   ...   ...  ...   ...   \n",
       "195  201902346    7     5    7     4     1     9    5     7     7  ...     1   \n",
       "196  201902365    2     5    1     1     7     5    5     7     5  ...     9   \n",
       "197  201902373          7    5     6     5     9    7     5     1  ...     5   \n",
       "198  201902392    6     5    5     1     1     5    6     5     5  ...     7   \n",
       "199  201902394    2     4    7     4     5     5    7     5     6  ...     5   \n",
       "\n",
       "     b1  b2 b3  b4  b5  b6  b7  b8  b9  \n",
       "0     0   0  0   0   0   0   0   4   2  \n",
       "1     3   0  0   1   0   1   3   1   0  \n",
       "2     0   0  1   1   4   1   2   0   1  \n",
       "3     0   3  0   0   0   0   1   0   0  \n",
       "4     0   2  4   1   2   2   0   1   0  \n",
       "..   ..  .. ..  ..  ..  ..  ..  ..  ..  \n",
       "195   0   1  2   0   0   0   0   0   1  \n",
       "196   0   0  0   0   1   0   0   0   2  \n",
       "197   0   0  0   0   0   1   0   0   0  \n",
       "198   0   0  2   1   0   0   0   2   1  \n",
       "199   2   1  1   0   0   4   0   0   1  \n",
       "\n",
       "[200 rows x 28 columns]"
      ]
     },
     "execution_count": 392,
     "metadata": {},
     "output_type": "execute_result"
    }
   ],
   "source": [
    "import ssl\n",
    "import pandas as pd\n",
    "import urllib\n",
    "context = ssl._create_unverified_context()\n",
    "\n",
    "url2 = 'https://raw.githubusercontent.com/Datamanim/datarepo/main/adp/29/p2_.csv'\n",
    "encoded_url2 = urllib.parse.quote(url2, safe=':/')\n",
    "\n",
    "response = urllib.request.urlopen(encoded_url2, context=context)\n",
    "df2 = pd.read_csv(response, encoding='utf-8')\n",
    "df2"
   ]
  },
  {
   "cell_type": "markdown",
   "metadata": {},
   "source": [
    "### 4-1 각 회차별로 1번 타자의 출루 (1,2,3루타와 사사구(볼넷, 몸에맞는공))가 있는 경우에 대해 득점이 발생 했는지 확인하고자 한다. 이를 위한 전처리를 수행하라. (단, 첫 번째 혹은 두 번째 타자가 홈런을 친 경우 해당 회차 데이터는 제외한다.)     \n",
    "\n",
    "조건1 : 득점여부를 범주형 종속변수로 한다. (1점이상 득점 :1, 무득점 :0)     \n",
    "조건2 : 각 회차 2번 타자의 데이터는 원핫 인코딩한다.    \n",
    "조건3 : 학습에 적절하지 않은 데이터는 제외한다.    "
   ]
  },
  {
   "cell_type": "code",
   "execution_count": 373,
   "metadata": {},
   "outputs": [],
   "source": [
    "df2 = df2[df2['a1_1'] != ' ']\n",
    "df2 = df2[df2['a2_1'] != ' ']\n",
    "df2 = df2[df2['a4_1'] != ' ']\n",
    "df2 = df2[df2['a7_1'] != ' ']\n",
    "\n",
    "df2 = df2[df2['a2_1'] !=' :']\n",
    "df2 = df2[df2['a4_1'] !='&']\n",
    "df2 = df2[df2['a7_1'] !='\"']\n",
    "\n",
    "df2['a1_1'] = df2['a1_1'].astype('int')\n",
    "df2['a2_1'] = df2['a2_1'].astype('int')\n",
    "df2['a4_1'] = df2['a4_1'].astype('int')\n",
    "df2['a7_1'] = df2['a7_1'].astype('int')\n",
    "\n",
    "df2['a1_2'] = df2['a1_2'].astype('object')\n",
    "df2['a2_2'] = df2['a2_2'].astype('object')\n",
    "df2['a3_2'] = df2['a3_2'].astype('object')\n",
    "df2['a4_2'] = df2['a4_2'].astype('object')\n",
    "df2['a5_2'] = df2['a5_2'].astype('object')\n",
    "df2['a6_2'] = df2['a6_2'].astype('object')\n",
    "df2['a7_2'] = df2['a7_2'].astype('object')\n",
    "df2['a8_2'] = df2['a8_2'].astype('object')\n",
    "df2['a9_2'] = df2['a9_2'].astype('object')"
   ]
  },
  {
   "cell_type": "code",
   "execution_count": 378,
   "metadata": {},
   "outputs": [],
   "source": [
    "## 조건3\n",
    "# 첫 번째 혹은 두 번째 타자가 홈런을 친 경우 해당 회차 데이터는 제외\n",
    "\n",
    "\n",
    "a1_1 = pd.DataFrame({'타자': df2['a1_1'],'game_id': df2['game_id']})\n",
    "a1_2 = pd.DataFrame({'타자': df2['a1_2'],'game_id': df2['game_id']})\n",
    "a2_1 = pd.DataFrame({'타자': df2['a2_1'],'game_id': df2['game_id']})\n",
    "a2_2 = pd.DataFrame({'타자': df2['a2_2'],'game_id': df2['game_id']})\n",
    "a3_1 = pd.DataFrame({'타자': df2['a3_1'],'game_id': df2['game_id']})\n",
    "a3_2 = pd.DataFrame({'타자': df2['a3_2'],'game_id': df2['game_id']})\n",
    "a4_1 = pd.DataFrame({'타자': df2['a4_1'],'game_id': df2['game_id']})\n",
    "a4_2 = pd.DataFrame({'타자': df2['a4_2'],'game_id': df2['game_id']})\n",
    "a5_1 = pd.DataFrame({'타자': df2['a5_1'],'game_id': df2['game_id']})\n",
    "a5_2 = pd.DataFrame({'타자': df2['a5_2'],'game_id': df2['game_id']})\n",
    "a6_1 = pd.DataFrame({'타자': df2['a6_1'],'game_id': df2['game_id']})\n",
    "a6_2 = pd.DataFrame({'타자': df2['a6_2'],'game_id': df2['game_id']})\n",
    "a7_1 = pd.DataFrame({'타자': df2['a7_1'],'game_id': df2['game_id']})\n",
    "a7_2 = pd.DataFrame({'타자': df2['a7_2'],'game_id': df2['game_id']})\n",
    "a8_1 = pd.DataFrame({'타자': df2['a8_1'],'game_id': df2['game_id']})\n",
    "a8_2 = pd.DataFrame({'타자': df2['a8_2'],'game_id': df2['game_id']})\n",
    "a9_1 = pd.DataFrame({'타자': df2['a9_1'],'game_id': df2['game_id']})\n",
    "a9_2 = pd.DataFrame({'타자': df2['a9_2'],'game_id': df2['game_id']})\n",
    "\n",
    "\n",
    "df2_final = pd.concat([a1_1,a2_1, a3_1, a3_2, a4_1, a4_2, a5_1,a5_2,a6_1,a7_1,a8_1,a8_2,a9_1,a9_2], ignore_index=True)\n",
    "id_div = df2_final[df2_final['타자']!=4]['game_id']\n",
    "df2 = df2[df2['game_id'].isin(id_div)]"
   ]
  },
  {
   "cell_type": "code",
   "execution_count": 380,
   "metadata": {},
   "outputs": [],
   "source": [
    "## 조건1\n",
    "df2['득점_sum'] = df2['b1'] + df2['b2'] + df2['b3'] + df2['b4']+df2['b5']+df2['b6']+df2['b7']+df2['b8']+df2['b9']\n",
    "df2['득점여부'] = df2['득점_sum'].map(lambda x: '1' if x >= 1 else '0')"
   ]
  },
  {
   "cell_type": "code",
   "execution_count": 381,
   "metadata": {},
   "outputs": [],
   "source": [
    "## 조건2\n",
    "df2 = pd.get_dummies(df2)"
   ]
  },
  {
   "cell_type": "markdown",
   "metadata": {},
   "source": [
    "### 4-2 4-1 데이터에 대해 Logistic Regression을 적용하고 2번타자의 희생번트 여부에 대한 회귀 계수 검정을 하라"
   ]
  },
  {
   "cell_type": "code",
   "execution_count": 382,
   "metadata": {},
   "outputs": [],
   "source": [
    "## 분석용 데이터셋 구성(2번타자 희생번트 여부 (target) 에 따른 득점?)\n",
    "df2_v1 = df2.copy()"
   ]
  },
  {
   "cell_type": "code",
   "execution_count": 383,
   "metadata": {},
   "outputs": [],
   "source": [
    "a1 = pd.DataFrame({'희생번트여부': df2_v1['a1_2_9'],'score': df2_v1['득점_sum'],'1번타자': df2_v1['a1_1']})\n",
    "a2 = pd.DataFrame({'희생번트여부': df2_v1['a2_2_9'],'score': df2_v1['득점_sum'],'1번타자': df2_v1['a2_1']})\n",
    "a3 = pd.DataFrame({'희생번트여부': df2_v1['a3_2_9'],'score': df2_v1['득점_sum'],'1번타자': df2_v1['a3_1']})\n",
    "a4 = pd.DataFrame({'희생번트여부': df2_v1['a4_2_9'],'score': df2_v1['득점_sum'],'1번타자': df2_v1['a4_1']})\n",
    "a5 = pd.DataFrame({'희생번트여부': df2_v1['a5_2_9'],'score': df2_v1['득점_sum'],'1번타자': df2_v1['a5_1']})\n",
    "a6 = pd.DataFrame({'희생번트여부': df2_v1['a6_2_9'],'score': df2_v1['득점_sum'],'1번타자': df2_v1['a6_1']})\n",
    "a7 = pd.DataFrame({'희생번트여부': df2_v1['a7_2_9'],'score': df2_v1['득점_sum'],'1번타자': df2_v1['a7_1']})\n",
    "a8 = pd.DataFrame({'희생번트여부': df2_v1['a8_2_9'],'score': df2_v1['득점_sum'],'1번타자': df2_v1['a8_1']})\n",
    "a9 = pd.DataFrame({'희생번트여부': df2_v1['a9_2_9'],'score': df2_v1['득점_sum'],'1번타자': df2_v1['a9_1']})\n",
    "\n",
    "df2_v2 = pd.concat([a1,a2, a3,a4,a5,a6,a7,a8,a9], ignore_index=True)"
   ]
  },
  {
   "cell_type": "code",
   "execution_count": 384,
   "metadata": {},
   "outputs": [
    {
     "data": {
      "text/html": [
       "<div>\n",
       "<style scoped>\n",
       "    .dataframe tbody tr th:only-of-type {\n",
       "        vertical-align: middle;\n",
       "    }\n",
       "\n",
       "    .dataframe tbody tr th {\n",
       "        vertical-align: top;\n",
       "    }\n",
       "\n",
       "    .dataframe thead th {\n",
       "        text-align: right;\n",
       "    }\n",
       "</style>\n",
       "<table border=\"1\" class=\"dataframe\">\n",
       "  <thead>\n",
       "    <tr style=\"text-align: right;\">\n",
       "      <th></th>\n",
       "      <th>희생번트여부</th>\n",
       "      <th>score</th>\n",
       "      <th>1번타자</th>\n",
       "    </tr>\n",
       "  </thead>\n",
       "  <tbody>\n",
       "    <tr>\n",
       "      <th>0</th>\n",
       "      <td>0</td>\n",
       "      <td>6</td>\n",
       "      <td>5</td>\n",
       "    </tr>\n",
       "    <tr>\n",
       "      <th>1</th>\n",
       "      <td>0</td>\n",
       "      <td>9</td>\n",
       "      <td>6</td>\n",
       "    </tr>\n",
       "    <tr>\n",
       "      <th>2</th>\n",
       "      <td>0</td>\n",
       "      <td>10</td>\n",
       "      <td>5</td>\n",
       "    </tr>\n",
       "    <tr>\n",
       "      <th>3</th>\n",
       "      <td>0</td>\n",
       "      <td>4</td>\n",
       "      <td>5</td>\n",
       "    </tr>\n",
       "    <tr>\n",
       "      <th>4</th>\n",
       "      <td>0</td>\n",
       "      <td>12</td>\n",
       "      <td>5</td>\n",
       "    </tr>\n",
       "    <tr>\n",
       "      <th>...</th>\n",
       "      <td>...</td>\n",
       "      <td>...</td>\n",
       "      <td>...</td>\n",
       "    </tr>\n",
       "    <tr>\n",
       "      <th>1615</th>\n",
       "      <td>0</td>\n",
       "      <td>4</td>\n",
       "      <td>7</td>\n",
       "    </tr>\n",
       "    <tr>\n",
       "      <th>1616</th>\n",
       "      <td>0</td>\n",
       "      <td>4</td>\n",
       "      <td>6</td>\n",
       "    </tr>\n",
       "    <tr>\n",
       "      <th>1617</th>\n",
       "      <td>1</td>\n",
       "      <td>3</td>\n",
       "      <td>1</td>\n",
       "    </tr>\n",
       "    <tr>\n",
       "      <th>1618</th>\n",
       "      <td>0</td>\n",
       "      <td>6</td>\n",
       "      <td>4</td>\n",
       "    </tr>\n",
       "    <tr>\n",
       "      <th>1619</th>\n",
       "      <td>0</td>\n",
       "      <td>9</td>\n",
       "      <td>4</td>\n",
       "    </tr>\n",
       "  </tbody>\n",
       "</table>\n",
       "<p>1620 rows × 3 columns</p>\n",
       "</div>"
      ],
      "text/plain": [
       "      희생번트여부  score  1번타자\n",
       "0          0      6     5\n",
       "1          0      9     6\n",
       "2          0     10     5\n",
       "3          0      4     5\n",
       "4          0     12     5\n",
       "...      ...    ...   ...\n",
       "1615       0      4     7\n",
       "1616       0      4     6\n",
       "1617       1      3     1\n",
       "1618       0      6     4\n",
       "1619       0      9     4\n",
       "\n",
       "[1620 rows x 3 columns]"
      ]
     },
     "execution_count": 384,
     "metadata": {},
     "output_type": "execute_result"
    }
   ],
   "source": [
    "df2_v2"
   ]
  },
  {
   "cell_type": "code",
   "execution_count": 385,
   "metadata": {},
   "outputs": [
    {
     "name": "stdout",
     "output_type": "stream",
     "text": [
      "회귀분석 RMSE :  0.20487217242552552\n"
     ]
    }
   ],
   "source": [
    "from sklearn.model_selection import train_test_split\n",
    "target = df2_v2['희생번트여부']\n",
    "features = df2_v2[['score','1번타자']]\n",
    "X_train, X_test, y_train, y_test = train_test_split(features, target, test_size=0.3, random_state=0, stratify=target)\n",
    "\n",
    "from sklearn.linear_model import LinearRegression\n",
    "\n",
    "lr_reg = LinearRegression()\n",
    "lr_reg.fit(X_train, y_train)\n",
    "lr_pred = lr_reg.predict(X_test)\n",
    "\n",
    "from sklearn.metrics import mean_squared_error, mean_absolute_error\n",
    "def rmsle(y, pred):\n",
    "    log_y =np.log1p(y)\n",
    "    log_pred = np.log1p(pred)\n",
    "    sqaured_error = (log_y - log_pred)**2\n",
    "    rmsle = np.sqrt(np.mean(sqaured_error))\n",
    "    return rmsle\n",
    "\n",
    "lr_rmsle_val = rmsle(y_test,lr_pred)\n",
    "lr_rmse_val = np.sqrt(mean_squared_error(y_test, lr_pred))\n",
    "\n",
    "print('회귀분석 RMSE : ',lr_rmse_val)"
   ]
  },
  {
   "cell_type": "markdown",
   "metadata": {},
   "source": [
    "### 4-3 SMOTE (random_state =0 지정)를 적용하여 data imbalance를 해결하라"
   ]
  },
  {
   "cell_type": "code",
   "execution_count": 386,
   "metadata": {},
   "outputs": [
    {
     "name": "stdout",
     "output_type": "stream",
     "text": [
      "SMOTE 적용 전 학습용 피쳐/레이블 데이터 세트: (1134, 2) (1134,)\n",
      "SMOTE 적용 후 학습용 피쳐/레이블 데이터 세트: (2162, 2) (2162,)\n",
      "SMOTE 적용 전 레이블 값 분포: \n",
      " 0    1081\n",
      "1      53\n",
      "Name: 희생번트여부, dtype: int64\n",
      "SMOTE 적용 전 레이블 값 분포: \n",
      " 0    1081\n",
      "1    1081\n",
      "Name: 희생번트여부, dtype: int64\n"
     ]
    }
   ],
   "source": [
    "from imblearn.over_sampling import SMOTE\n",
    "smote_sample = SMOTE(sampling_strategy='minority', random_state =0)\n",
    "x_sm, y_sm = smote_sample.fit_resample(X_train,y_train)\n",
    "print('SMOTE 적용 전 학습용 피쳐/레이블 데이터 세트:', X_train.shape, y_train.shape)\n",
    "print('SMOTE 적용 후 학습용 피쳐/레이블 데이터 세트:', x_sm.shape, y_sm.shape)\n",
    "print('SMOTE 적용 전 레이블 값 분포: \\n', pd.Series(y_train).value_counts())\n",
    "print('SMOTE 적용 전 레이블 값 분포: \\n', pd.Series(y_sm).value_counts())"
   ]
  },
  {
   "cell_type": "markdown",
   "metadata": {},
   "source": [
    "### 4-4 4-3에서 변환한 데이터를 기준으로 Logistic Regression을 적용하고 결과를 분석하라"
   ]
  },
  {
   "cell_type": "code",
   "execution_count": 387,
   "metadata": {},
   "outputs": [
    {
     "name": "stdout",
     "output_type": "stream",
     "text": [
      "회귀분석 RMSE :  0.41412577387496685\n"
     ]
    }
   ],
   "source": [
    "lr_reg = LinearRegression()\n",
    "lr_reg.fit(x_sm, y_sm)\n",
    "lr_pred = lr_reg.predict(X_test)\n",
    "\n",
    "lr_rmsle_val = rmsle(y_test,lr_pred)\n",
    "lr_rmse_val = np.sqrt(mean_squared_error(y_test, lr_pred))\n",
    "\n",
    "print('회귀분석 RMSE : ',lr_rmse_val)\n",
    "\n",
    "## SMOTE로 오버샘플링한 결과의 RMSE 가 더 높게 나옴 ???"
   ]
  },
  {
   "cell_type": "markdown",
   "metadata": {},
   "source": [
    "### 4-5 4-3에서 변환한 데이터를 기준으로 XGBoost 적용하고 결과를 분석하라"
   ]
  },
  {
   "cell_type": "code",
   "execution_count": 388,
   "metadata": {},
   "outputs": [
    {
     "name": "stdout",
     "output_type": "stream",
     "text": [
      "XGBoost RMSE :  0.3824728\n"
     ]
    }
   ],
   "source": [
    "xgb_reg = XGBRegressor(n_estimators=100)\n",
    "\n",
    "xgb_reg.fit(x_sm, y_sm)\n",
    "xgb_pred = xgb_reg.predict(X_test)\n",
    "\n",
    "xgb_rmsle_val = rmsle(y_test,xgb_pred)\n",
    "xgb_rmse_val = np.sqrt(mean_squared_error(y_test, xgb_pred))\n",
    "\n",
    "print('XGBoost RMSE : ',xgb_rmse_val)\n",
    "\n",
    "## 회귀분석보다는 XGBoost의 RSME가 더 낮게 나옴"
   ]
  },
  {
   "cell_type": "markdown",
   "metadata": {},
   "source": [
    "# 통계 (40점)"
   ]
  },
  {
   "cell_type": "markdown",
   "metadata": {},
   "source": [
    "### 5. TV 패널을 생산하는 공장에서 제품 A의 불량률은 0.03이다. 25개의 제품을 뽑았을 때 3개가 불량일 확률을 구하시오. (소수점 다섯 째 자리에서 반올림)"
   ]
  },
  {
   "cell_type": "code",
   "execution_count": 172,
   "metadata": {},
   "outputs": [
    {
     "data": {
      "text/plain": [
       "0.03177"
      ]
     },
     "execution_count": 172,
     "metadata": {},
     "output_type": "execute_result"
    }
   ],
   "source": [
    "from scipy.stats import binom\n",
    "round(binom.pmf(3,25, 0.03),5)"
   ]
  },
  {
   "cell_type": "markdown",
   "metadata": {},
   "source": [
    "### 6. A, B 두 공장에서 생산되는 제품 중에서 양품일 확률은 15,000개 중에서 11,800개가 양품, 21,000개 중에서 16,400개가 양품이다. 두 공장의 양품 확률이 같은지를 검정하라"
   ]
  },
  {
   "cell_type": "markdown",
   "metadata": {},
   "source": [
    "#### 6-1 연구가설과 귀무가설을 세워라"
   ]
  },
  {
   "cell_type": "code",
   "execution_count": null,
   "metadata": {},
   "outputs": [],
   "source": [
    "H0 : 양품확률이 같다\n",
    "H1 : 양품확률이 다르다"
   ]
  },
  {
   "cell_type": "code",
   "execution_count": 15,
   "metadata": {},
   "outputs": [
    {
     "data": {
      "text/plain": [
       "(0.004397060006674911, 1.299569645538419, 0.19374850891049444)"
      ]
     },
     "execution_count": 15,
     "metadata": {},
     "output_type": "execute_result"
    }
   ],
   "source": [
    "import numpy as np\n",
    "from scipy.stats import norm\n",
    "\n",
    "\n",
    "import scipy.stats as stats\n",
    "import math\n",
    "\n",
    "\n",
    "n1 = 15_000\n",
    "p1 = 11_800 / n1\n",
    "n2 = 21_000\n",
    "p2 = 16_400 / n2\n",
    "\n",
    "# p1 = 0.6;p2 = 0.4\n",
    "# n1 = 1000;n2 = 500\n",
    "SE = math.sqrt((p1 * (1 - p1) / n1) + (p2 * (1 - p2) / n2)) # 표준 오차 계산\n",
    "Z = (p1 - p2) / SE # Z-점수 계산\n",
    "p_value = 2 * (1 - stats.norm.cdf(abs(Z))) # p-value 계산\n",
    "\n",
    "SE, Z, p_value"
   ]
  },
  {
   "cell_type": "code",
   "execution_count": 17,
   "metadata": {},
   "outputs": [
    {
     "data": {
      "text/plain": [
       "(0.0044041827161035675,\n",
       " 1.2974679032710905,\n",
       " 0.1944702418645563,\n",
       " 0.7866666666666666,\n",
       " 0.780952380952381)"
      ]
     },
     "execution_count": 17,
     "metadata": {},
     "output_type": "execute_result"
    }
   ],
   "source": [
    "import numpy as np\n",
    "from scipy.stats import norm\n",
    "\n",
    "n1 = 15_000\n",
    "p1 = 11_800 / n1\n",
    "n2 = 21_000\n",
    "p2 = 16_400 / n2\n",
    "\n",
    "conf_a = 0.1\n",
    "\n",
    "d0 = 0\n",
    "d = p1 - p2\n",
    "pe = (n1 * p1 + n2 * p2) / (n1 + n2)\n",
    "se2 = np.sqrt(pe * (1 - pe) * (1 / n1 + 1 / n2))\n",
    "zstat = d / se2\n",
    "\n",
    "conf_z = norm.ppf(1 - conf_a / 2)\n",
    "\n",
    "sp = (1 - norm.cdf(np.abs(zstat))) * 2\n",
    "\n",
    "se2, zstat, sp, p1, p2"
   ]
  },
  {
   "cell_type": "code",
   "execution_count": null,
   "metadata": {},
   "outputs": [],
   "source": [
    "# sol1. Z검정 p-value\n",
    "p1 = 0.6;p2 = 0.4\n",
    "n1 = 1000;n2 = 500\n",
    "SE = math.sqrt((p1 * (1 - p1) / n1) + (p2 * (1 - p2) / n2)) # 표준 오차 계산\n",
    "Z = (p1 - p2) / SE # Z-점수 계산\n",
    "p_value = 2 * (1 - stats.norm.cdf(abs(Z))) # p-value 계산\n",
    "\n",
    "# sol2. Z 스코어로 비교\n",
    "Z_critical = abs(Z) # Z-점수가 1.96보다 크면 95% 신뢰수준에서 유의미한 차이 / 문제에서 주어지는 경우\n",
    "\n",
    "\n",
    "# sol3 카이제곱 독립성 검성\n",
    "observed = [[600, 400], [200, 300]]\n",
    "chi2, p_value, dof, expected = chi2_contingency(observed)"
   ]
  },
  {
   "cell_type": "code",
   "execution_count": null,
   "metadata": {},
   "outputs": [],
   "source": []
  },
  {
   "cell_type": "markdown",
   "metadata": {},
   "source": [
    "#### 6-2 검정 통계량을 구하고 10% 유의수준에서 검정하여라"
   ]
  },
  {
   "cell_type": "code",
   "execution_count": 175,
   "metadata": {},
   "outputs": [
    {
     "data": {
      "text/plain": [
       "Ttest_indResult(statistic=nan, pvalue=nan)"
      ]
     },
     "execution_count": 175,
     "metadata": {},
     "output_type": "execute_result"
    }
   ],
   "source": [
    "# from scipy.stats import t, ttest_ind\n",
    "# # 확률 차이 검정? : 독립성검정? \n",
    "# a = 11800/15000\n",
    "# b = 16400/21000\n",
    "# alpha = 0.01\n",
    "\n",
    "# stats.ttest_ind(a,b)"
   ]
  },
  {
   "cell_type": "code",
   "execution_count": null,
   "metadata": {},
   "outputs": [],
   "source": [
    "6. A, B 두 공장에서 생산되는 제품 중에서 양품일 확률은 15,000개 중에서 11,800개가 양품, 21,000개 중에서 16,400개가 양품이다. 두 공장의 양품 확률이 같은지를 검정하라"
   ]
  },
  {
   "cell_type": "code",
   "execution_count": 20,
   "metadata": {},
   "outputs": [
    {
     "name": "stdout",
     "output_type": "stream",
     "text": [
      "카이제곱 값: 1.6499228431143325\n",
      "P-값: 0.19896943288144542\n",
      "자유도: 1\n",
      "기대값: [[11750.  3250.]\n",
      " [16450.  4550.]]\n"
     ]
    }
   ],
   "source": [
    "import numpy as np\n",
    "from scipy.stats import chi2_contingency\n",
    " \n",
    "data = np.array([[11800, 3200], [16400, 4600]])\n",
    "\n",
    "chi2, p, dof, ef = chi2_contingency(data)\n",
    "\n",
    "print(\"카이제곱 값:\", chi2)\n",
    "print(\"P-값:\", p)\n",
    "print(\"자유도:\", dof)\n",
    "print(\"기대값:\", ef)\n",
    "\n",
    "## 유의수준 10% 에서 귀무가설 기각. 즉 A, B 공장 양품확률에 차이가 존재한다"
   ]
  },
  {
   "cell_type": "markdown",
   "metadata": {},
   "source": [
    "## 7. 아래 데이터는 a,b,c,d 네 차종 각각 5회 실험 시 범퍼 파손 정도 이다. (단, 각 모집단은 정규분포를 따르며 모집단 간 등분산성을 가정한다.)"
   ]
  },
  {
   "cell_type": "markdown",
   "metadata": {},
   "source": [
    "dataurl : https://raw.githubusercontent.com/Datamanim/datarepo/main/adp/29/p7.csv"
   ]
  },
  {
   "cell_type": "code",
   "execution_count": 180,
   "metadata": {},
   "outputs": [
    {
     "data": {
      "text/html": [
       "<div>\n",
       "<style scoped>\n",
       "    .dataframe tbody tr th:only-of-type {\n",
       "        vertical-align: middle;\n",
       "    }\n",
       "\n",
       "    .dataframe tbody tr th {\n",
       "        vertical-align: top;\n",
       "    }\n",
       "\n",
       "    .dataframe thead th {\n",
       "        text-align: right;\n",
       "    }\n",
       "</style>\n",
       "<table border=\"1\" class=\"dataframe\">\n",
       "  <thead>\n",
       "    <tr style=\"text-align: right;\">\n",
       "      <th></th>\n",
       "      <th>name</th>\n",
       "      <th>ratio</th>\n",
       "    </tr>\n",
       "  </thead>\n",
       "  <tbody>\n",
       "    <tr>\n",
       "      <th>0</th>\n",
       "      <td>A</td>\n",
       "      <td>10.993428</td>\n",
       "    </tr>\n",
       "    <tr>\n",
       "      <th>1</th>\n",
       "      <td>A</td>\n",
       "      <td>9.723471</td>\n",
       "    </tr>\n",
       "    <tr>\n",
       "      <th>2</th>\n",
       "      <td>A</td>\n",
       "      <td>11.295377</td>\n",
       "    </tr>\n",
       "    <tr>\n",
       "      <th>3</th>\n",
       "      <td>A</td>\n",
       "      <td>13.046060</td>\n",
       "    </tr>\n",
       "    <tr>\n",
       "      <th>4</th>\n",
       "      <td>A</td>\n",
       "      <td>9.531693</td>\n",
       "    </tr>\n",
       "    <tr>\n",
       "      <th>5</th>\n",
       "      <td>B</td>\n",
       "      <td>14.297589</td>\n",
       "    </tr>\n",
       "    <tr>\n",
       "      <th>6</th>\n",
       "      <td>B</td>\n",
       "      <td>19.737638</td>\n",
       "    </tr>\n",
       "    <tr>\n",
       "      <th>7</th>\n",
       "      <td>B</td>\n",
       "      <td>17.302304</td>\n",
       "    </tr>\n",
       "    <tr>\n",
       "      <th>8</th>\n",
       "      <td>B</td>\n",
       "      <td>13.591577</td>\n",
       "    </tr>\n",
       "    <tr>\n",
       "      <th>9</th>\n",
       "      <td>B</td>\n",
       "      <td>16.627680</td>\n",
       "    </tr>\n",
       "    <tr>\n",
       "      <th>10</th>\n",
       "      <td>C</td>\n",
       "      <td>7.304873</td>\n",
       "    </tr>\n",
       "    <tr>\n",
       "      <th>11</th>\n",
       "      <td>C</td>\n",
       "      <td>7.301405</td>\n",
       "    </tr>\n",
       "    <tr>\n",
       "      <th>12</th>\n",
       "      <td>C</td>\n",
       "      <td>8.362943</td>\n",
       "    </tr>\n",
       "    <tr>\n",
       "      <th>13</th>\n",
       "      <td>C</td>\n",
       "      <td>5.130080</td>\n",
       "    </tr>\n",
       "    <tr>\n",
       "      <th>14</th>\n",
       "      <td>C</td>\n",
       "      <td>5.412623</td>\n",
       "    </tr>\n",
       "    <tr>\n",
       "      <th>15</th>\n",
       "      <td>D</td>\n",
       "      <td>10.594281</td>\n",
       "    </tr>\n",
       "    <tr>\n",
       "      <th>16</th>\n",
       "      <td>D</td>\n",
       "      <td>9.467922</td>\n",
       "    </tr>\n",
       "    <tr>\n",
       "      <th>17</th>\n",
       "      <td>D</td>\n",
       "      <td>12.785618</td>\n",
       "    </tr>\n",
       "    <tr>\n",
       "      <th>18</th>\n",
       "      <td>D</td>\n",
       "      <td>9.729940</td>\n",
       "    </tr>\n",
       "    <tr>\n",
       "      <th>19</th>\n",
       "      <td>D</td>\n",
       "      <td>8.469241</td>\n",
       "    </tr>\n",
       "  </tbody>\n",
       "</table>\n",
       "</div>"
      ],
      "text/plain": [
       "   name      ratio\n",
       "0     A  10.993428\n",
       "1     A   9.723471\n",
       "2     A  11.295377\n",
       "3     A  13.046060\n",
       "4     A   9.531693\n",
       "5     B  14.297589\n",
       "6     B  19.737638\n",
       "7     B  17.302304\n",
       "8     B  13.591577\n",
       "9     B  16.627680\n",
       "10    C   7.304873\n",
       "11    C   7.301405\n",
       "12    C   8.362943\n",
       "13    C   5.130080\n",
       "14    C   5.412623\n",
       "15    D  10.594281\n",
       "16    D   9.467922\n",
       "17    D  12.785618\n",
       "18    D   9.729940\n",
       "19    D   8.469241"
      ]
     },
     "execution_count": 180,
     "metadata": {},
     "output_type": "execute_result"
    }
   ],
   "source": [
    "import ssl\n",
    "import pandas as pd\n",
    "import urllib\n",
    "context = ssl._create_unverified_context()\n",
    "\n",
    "url3 = 'https://raw.githubusercontent.com/Datamanim/datarepo/main/adp/29/p7.csv'\n",
    "encoded_url3 = urllib.parse.quote(url3, safe=':/')\n",
    "\n",
    "response3 = urllib.request.urlopen(encoded_url3, context=context)\n",
    "df3 = pd.read_csv(response3, encoding='utf-8')\n",
    "df3"
   ]
  },
  {
   "cell_type": "markdown",
   "metadata": {},
   "source": [
    "### 7-1. 각 차종 별 범퍼 파손의 정도에 차이가 유의한지 검정하라.\n",
    "\n",
    "#### 7-1 연구가설과 귀무가설을 세워라"
   ]
  },
  {
   "cell_type": "code",
   "execution_count": null,
   "metadata": {},
   "outputs": [],
   "source": [
    "H0 : 차종별 범퍼 파손 차이 없다\n",
    "H1 : Not H0"
   ]
  },
  {
   "cell_type": "markdown",
   "metadata": {},
   "source": [
    "#### 7-2 검정 통계량을 구하여라"
   ]
  },
  {
   "cell_type": "code",
   "execution_count": 189,
   "metadata": {},
   "outputs": [],
   "source": [
    "a = df3[df3['name']=='A']['ratio']\n",
    "b = df3[df3['name']=='B']['ratio']\n",
    "c = df3[df3['name']=='C']['ratio']\n",
    "d = df3[df3['name']=='D']['ratio']\n",
    "\n",
    "statistic, p_value = stats.f_oneway(a,b,c,d)"
   ]
  },
  {
   "cell_type": "code",
   "execution_count": 190,
   "metadata": {},
   "outputs": [
    {
     "name": "stdout",
     "output_type": "stream",
     "text": [
      "검정통계량 값: 24.97695307518529\n",
      "P-값: 2.8174779556216382e-06\n"
     ]
    }
   ],
   "source": [
    "print(\"검정통계량 값:\", statistic)\n",
    "print(\"P-값:\", p_value)"
   ]
  },
  {
   "cell_type": "markdown",
   "metadata": {},
   "source": [
    "#### 7-3 귀무가설을 기각하는가? 그리고 그 이유를 설명하여라. 만약 귀무가설을 기각하지 못한다면 다중비교(사후비교)를 시행하여라"
   ]
  },
  {
   "cell_type": "code",
   "execution_count": 194,
   "metadata": {},
   "outputs": [
    {
     "data": {
      "text/html": [
       "<table class=\"simpletable\">\n",
       "<caption>Test Multiple Comparison ttest_ind \n",
       "FWER=0.05 method=bonf\n",
       "alphacSidak=0.01, alphacBonf=0.008</caption>\n",
       "<tr>\n",
       "  <th>group1</th> <th>group2</th>  <th>stat</th>    <th>pval</th>  <th>pval_corr</th> <th>reject</th>\n",
       "</tr>\n",
       "<tr>\n",
       "     <td>A</td>      <td>B</td>   <td>-4.244</td>  <td>0.0028</td>  <td>0.0169</td>    <td>True</td> \n",
       "</tr>\n",
       "<tr>\n",
       "     <td>A</td>      <td>C</td>   <td>4.7671</td>  <td>0.0014</td>  <td>0.0085</td>    <td>True</td> \n",
       "</tr>\n",
       "<tr>\n",
       "     <td>A</td>      <td>D</td>   <td>0.7344</td>  <td>0.4837</td>    <td>1.0</td>     <td>False</td>\n",
       "</tr>\n",
       "<tr>\n",
       "     <td>B</td>      <td>C</td>   <td>7.6098</td>  <td>0.0001</td>  <td>0.0004</td>    <td>True</td> \n",
       "</tr>\n",
       "<tr>\n",
       "     <td>B</td>      <td>D</td>   <td>4.6215</td>  <td>0.0017</td>  <td>0.0102</td>    <td>True</td> \n",
       "</tr>\n",
       "<tr>\n",
       "     <td>C</td>      <td>D</td>   <td>-3.6756</td> <td>0.0063</td>  <td>0.0376</td>    <td>True</td> \n",
       "</tr>\n",
       "</table>"
      ],
      "text/plain": [
       "<class 'statsmodels.iolib.table.SimpleTable'>"
      ]
     },
     "execution_count": 194,
     "metadata": {},
     "output_type": "execute_result"
    }
   ],
   "source": [
    "## 유의확률이 유의수준보다 작으므로 유의수준 5% 기준으로 귀무가설 기각\n",
    "import scipy.stats\n",
    "from statsmodels.sandbox.stats.multicomp import MultiComparison\n",
    "\n",
    "    comp = MultiComparison(df3['ratio'], df3['name'])\n",
    "    result = comp.allpairtest(scipy.stats.ttest_ind, method='bonf')\n",
    "    result[0]\n",
    "\n",
    "\n",
    "\n",
    "\n",
    "# mc = MultiComparison(data=iris['sepal_width'], groups=iris['target'])\n",
    "# tuekeyhsd = mc.tukeyhsd(alpha=0.05)\n",
    "# fig = tuekeyhsd.plot_simultaneous()\n",
    "# tuekeyhsd.summary()"
   ]
  },
  {
   "cell_type": "markdown",
   "metadata": {},
   "source": [
    "### 8. L1,L2,L3 세 개의 생산라인에서 각각 13%, 37%, 50%를 생산하며 각각 2.1% , 1.1%, 3.3% 불량률을 갖는다. 불량 제품이 나왔을 때 L1 라인에서 생산되었을 확률을 구하시오. (소수점 둘째자리에서 반올림)"
   ]
  },
  {
   "cell_type": "code",
   "execution_count": 348,
   "metadata": {},
   "outputs": [
    {
     "data": {
      "text/html": [
       "<div>\n",
       "<style scoped>\n",
       "    .dataframe tbody tr th:only-of-type {\n",
       "        vertical-align: middle;\n",
       "    }\n",
       "\n",
       "    .dataframe tbody tr th {\n",
       "        vertical-align: top;\n",
       "    }\n",
       "\n",
       "    .dataframe thead th {\n",
       "        text-align: right;\n",
       "    }\n",
       "</style>\n",
       "<table border=\"1\" class=\"dataframe\">\n",
       "  <thead>\n",
       "    <tr style=\"text-align: right;\">\n",
       "      <th></th>\n",
       "      <th>양성(실제)</th>\n",
       "      <th>음성(실제)</th>\n",
       "    </tr>\n",
       "  </thead>\n",
       "  <tbody>\n",
       "    <tr>\n",
       "      <th>양성(예측)</th>\n",
       "      <td>370</td>\n",
       "      <td>10</td>\n",
       "    </tr>\n",
       "    <tr>\n",
       "      <th>음성(예측)</th>\n",
       "      <td>10</td>\n",
       "      <td>690</td>\n",
       "    </tr>\n",
       "  </tbody>\n",
       "</table>\n",
       "</div>"
      ],
      "text/plain": [
       "        양성(실제)  음성(실제)\n",
       "양성(예측)     370      10\n",
       "음성(예측)      10     690"
      ]
     },
     "execution_count": 348,
     "metadata": {},
     "output_type": "execute_result"
    }
   ],
   "source": [
    "data = pd.DataFrame({'양성(실제)':[370,10],'음성(실제)':[10,690]},index = ['양성(예측)','음성(예측)'])\n",
    "data"
   ]
  },
  {
   "cell_type": "code",
   "execution_count": 23,
   "metadata": {},
   "outputs": [
    {
     "name": "stdout",
     "output_type": "stream",
     "text": [
      "0.04\n"
     ]
    }
   ],
   "source": [
    "## 베이지안??\n",
    "\n",
    "data = pd.DataFrame({'l1':[13,2.1],'l2':[37,1.1], 'l3':[50,303]},index = ['생산율','불량률'])\n",
    "\n",
    "# P(A|B) = (P(B|A) * P(A)) / P(B)\n",
    "\n",
    "# P_A : L1 생산되었을 확률 \n",
    "# p_B : 불량제품확률\n",
    "# P(B|A) : 2.1\n",
    "\n",
    "P_A = 13*0.01\n",
    "P_B_given_A = 2.1*0.01\n",
    "P_B = (2.1+1.1+3.3)*0.01\n",
    "P_A_given_B = (P_B_given_A * P_A) / P_B\n",
    "print(round(P_A_given_B,2))"
   ]
  },
  {
   "cell_type": "code",
   "execution_count": 27,
   "metadata": {},
   "outputs": [
    {
     "data": {
      "text/plain": [
       "0.065"
      ]
     },
     "execution_count": 27,
     "metadata": {},
     "output_type": "execute_result"
    }
   ],
   "source": [
    "P_B"
   ]
  },
  {
   "cell_type": "code",
   "execution_count": 22,
   "metadata": {},
   "outputs": [
    {
     "data": {
      "text/plain": [
       "0.021"
      ]
     },
     "execution_count": 22,
     "metadata": {},
     "output_type": "execute_result"
    }
   ],
   "source": [
    "2.1*0.01"
   ]
  },
  {
   "cell_type": "code",
   "execution_count": null,
   "metadata": {},
   "outputs": [],
   "source": [
    "# 주어진 확률\n",
    "l1 = 0.13; l2 = 0.37; l3 = 0.50\n",
    "ratio_l1 = 0.011; ratio_l2 = 0.021; ratio_l3 = 0.033\n",
    "# 불량 제품이 나올 확률\n",
    "답안\n",
    "베이즈 정리를 이용하면 다음과 같은 확률이 나온다 0.06\n",
    "created by datamanim web-link\n",
    "끝. 10페이지\n",
    "ratio_t = ratio_l1 * l1 + ratio_l2 * l2 + ratio_l3 * l3\n",
    "# 베이즈 정리를 사용하여 P(L1|불량) 계산\n",
    "l1_ratio_t = (ratio_l1 * l1) / ratio_t\n",
    "result = round(l1_ratio_t, 2)\n",
    "print(\"답안\\n베이즈 정리를 이용하면 다음과 같은 확률이 나온다\", result)"
   ]
  },
  {
   "cell_type": "code",
   "execution_count": 24,
   "metadata": {},
   "outputs": [
    {
     "name": "stdout",
     "output_type": "stream",
     "text": [
      "11.72 %\n"
     ]
    }
   ],
   "source": [
    "print(round(0.13 * 0.021 / (0.13 * 0.021 + 0.37 * 0.011 + 0.5 * 0.033) * 100, 2), '%')"
   ]
  },
  {
   "cell_type": "code",
   "execution_count": 28,
   "metadata": {},
   "outputs": [
    {
     "data": {
      "text/plain": [
       "0.0233"
      ]
     },
     "execution_count": 28,
     "metadata": {},
     "output_type": "execute_result"
    }
   ],
   "source": [
    "(0.13 * 0.021 + 0.37 * 0.011 + 0.5 * 0.033)"
   ]
  },
  {
   "cell_type": "code",
   "execution_count": null,
   "metadata": {},
   "outputs": [],
   "source": []
  }
 ],
 "metadata": {
  "kernelspec": {
   "display_name": "Python 3",
   "language": "python",
   "name": "python3"
  },
  "language_info": {
   "codemirror_mode": {
    "name": "ipython",
    "version": 3
   },
   "file_extension": ".py",
   "mimetype": "text/x-python",
   "name": "python",
   "nbconvert_exporter": "python",
   "pygments_lexer": "ipython3",
   "version": "3.7.3"
  }
 },
 "nbformat": 4,
 "nbformat_minor": 5
}
