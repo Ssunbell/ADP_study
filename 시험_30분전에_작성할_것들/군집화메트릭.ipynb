{
 "cells": [
  {
   "cell_type": "code",
   "execution_count": 79,
   "metadata": {},
   "outputs": [],
   "source": [
    "from typing import *\n",
    "import numpy\n",
    "import pandas\n",
    "\n",
    "def compute_cohesion(\n",
    "    cluster_data : Union[numpy.ndarray, pandas.DataFrame, List[float]],\n",
    "    label:Union[numpy.ndarray, pandas.Series, List[float]]\n",
    ") -> float:\n",
    "    import numpy as np\n",
    "    from scipy.spatial.distance import cdist\n",
    "    \"\"\"\n",
    "        군집의 응집도를 계산합니다.\n",
    "    \"\"\"\n",
    "    total_cohesion = 0.0\n",
    "\n",
    "    if type(cluster_data) == numpy.ndarray or type(cluster_data) == list:\n",
    "        clusters = [cluster_data[label == l] for l in np.unique(label)]\n",
    "    elif type(cluster_data) == pandas.DataFrame:\n",
    "        clusters = [[cluster_data[index[0]]for index in [label == l]][0] for l in np.unique(label)]\n",
    "    else:\n",
    "        raise TypeError\n",
    "        \n",
    "    for cluster in clusters:\n",
    "        centroid = np.mean(cluster, axis=0)\n",
    "        distance_sum = np.sum(cdist(cluster, [centroid]))\n",
    "        total_cohesion += distance_sum\n",
    "\n",
    "    return total_cohesion\n",
    "\n",
    "def compute_separation(\n",
    "    cluster_data: Union[numpy.ndarray, pandas.DataFrame, List[float]],\n",
    "    label:Union[numpy.ndarray, pandas.Series, List[float]]\n",
    ") -> float:\n",
    "    import numpy as np\n",
    "    from scipy.spatial.distance import cdist\n",
    "    \"\"\"\n",
    "        군집의 분리도를 계산합니다.\n",
    "    \"\"\"\n",
    "\n",
    "    total_separation = 0.0\n",
    "    if type(cluster_data) == numpy.ndarray or type(cluster_data) == list:\n",
    "        clusters = [cluster_data[label == l] for l in np.unique(label)]\n",
    "        for i in range(len(clusters)):\n",
    "            for j in range(i + 1, len(clusters)):\n",
    "                distance_sum = np.sum(cdist(clusters[i], clusters[j]))\n",
    "                total_separation += distance_sum\n",
    "    elif type(cluster_data) == pandas.DataFrame:\n",
    "        clusters = [[cluster_data[index[0]]for index in [label == l]][0] for l in np.unique(label)]\n",
    "        for i in range(len(clusters)):\n",
    "            for j in range(i + 1, len(clusters)):\n",
    "                distance_sum = np.sum(cdist(clusters[i].values, clusters[j].values))\n",
    "                total_separation += distance_sum\n",
    "\n",
    "    return total_separation\n",
    "\n",
    "def compute_silhouette(\n",
    "    cluster_data: Union[numpy.ndarray, pandas.DataFrame, List[float]],\n",
    "    label:Union[numpy.ndarray, pandas.Series, List[float]]\n",
    ") -> float:\n",
    "    \"\"\"\n",
    "        군집의 실루엣 계수를 계산합니다. 군집 내 응집도를 최대화하고 군집간 분리도를 최대화하여야 합니다.\n",
    "    \"\"\"\n",
    "    cohesion = compute_cohesion(cluster_data, label)\n",
    "    separation = compute_separation(cluster_data, label)\n",
    "    n_clusters = len(cluster_data)\n",
    "    silhouette_coefficient = (separation - cohesion) / max(cohesion, separation) / n_clusters\n",
    "\n",
    "    return silhouette_coefficient\n",
    "\n",
    "def calculate_dunn_index(cluster_data, label):\n",
    "    from sklearn.metrics import pairwise_distances\n",
    "    import numpy as np\n",
    "    \"\"\"\n",
    "    Dunn Index를 계산합니다. 클러스터간 거리 중 최소값과 클러스터내 거리 중 최대값의 비율을 나타냅니다.\n",
    "\n",
    "    Parameters:\n",
    "        cluster_data (array-like): 군집 데이터. 각 군집은 하나의 배열로 표현되며,\n",
    "                                   배열 내에는 군집에 속하는 데이터 포인트들이 포함됩니다.\n",
    "        labels (array-like): 각 데이터 포인트의 군집 라벨.\n",
    "\n",
    "    Returns:\n",
    "        float: Dunn Index 값.\n",
    "    \"\"\"\n",
    "    # 각 군집의 중심점 계산\n",
    "    if type(cluster_data) == numpy.ndarray or type(cluster_data) == list:\n",
    "        clusters = [cluster_data[label == l] for l in np.unique(label)]\n",
    "    elif type(cluster_data) == pandas.DataFrame:\n",
    "        clusters = [[cluster_data[index[0]] for index in [label == l]][0] for l in np.unique(label)]\n",
    "    else:\n",
    "        raise TypeError\n",
    "    \n",
    "    centroids = [np.mean(cluster, axis=0) for cluster in clusters]\n",
    "\n",
    "    # 최대 군집 간 거리 계산\n",
    "    max_inter_cluster_distance = pairwise_distances(centroids, metric='euclidean').max()\n",
    "\n",
    "    # 최소 군집 내 거리 계산\n",
    "    min_intra_cluster_distance = np.inf\n",
    "    for i in range(len(clusters)):\n",
    "        intra_cluster_distance = pairwise_distances(clusters[i], metric='euclidean').min()\n",
    "        if intra_cluster_distance < min_intra_cluster_distance:\n",
    "            min_intra_cluster_distance = intra_cluster_distance\n",
    "\n",
    "    # Dunn Index 계산\n",
    "    dunn_index = min_intra_cluster_distance / max_inter_cluster_distance\n",
    "\n",
    "    return dunn_index\n"
   ]
  },
  {
   "cell_type": "code",
   "execution_count": 80,
   "metadata": {},
   "outputs": [
    {
     "data": {
      "text/plain": [
       "((500, 2), (500,))"
      ]
     },
     "execution_count": 80,
     "metadata": {},
     "output_type": "execute_result"
    }
   ],
   "source": [
    "import pandas as pd\n",
    "from sklearn.datasets import make_blobs\n",
    "X, y = make_blobs(n_samples=500, n_features=2, centers=4, cluster_std=1, \\\n",
    "                  center_box=(-10.0, 10.0), shuffle=True, random_state=42)\n",
    "\n",
    "X_df, y_df = pd.DataFrame(X), pd.DataFrame(y)\n",
    "\n",
    "X.shape, y.shape"
   ]
  },
  {
   "cell_type": "code",
   "execution_count": 81,
   "metadata": {},
   "outputs": [
    {
     "name": "stdout",
     "output_type": "stream",
     "text": [
      "Cohesion: 611.3544928662973\n",
      "Separation: 1207309.073289746\n",
      "Silhouette Coefficient: 0.0019989872444324463\n",
      "Dunn Index: 0.0\n"
     ]
    }
   ],
   "source": [
    "cohesion = compute_cohesion(X, y)\n",
    "separation = compute_separation(X, y)\n",
    "silhouette = compute_silhouette(X, y)\n",
    "dunn_index = calculate_dunn_index(X, y)\n",
    "\n",
    "print('Cohesion:', cohesion)\n",
    "print('Separation:', separation)\n",
    "print('Silhouette Coefficient:', silhouette)\n",
    "print('Dunn Index:', dunn_index)"
   ]
  },
  {
   "cell_type": "code",
   "execution_count": 82,
   "metadata": {},
   "outputs": [
    {
     "name": "stdout",
     "output_type": "stream",
     "text": [
      "Cohesion: 611.3544928662973\n",
      "Separation: 1207309.073289746\n",
      "Silhouette Coefficient: 0.0019989872444324463\n",
      "Dunn Index: 0.0\n"
     ]
    }
   ],
   "source": [
    "from sklearn.cluster import KMeans\n",
    "\n",
    "kmeans = KMeans(n_clusters = 4, random_state=42, init='k-means++')\n",
    "labels = kmeans.fit_predict(X_df)\n",
    "centers = kmeans.cluster_centers_\n",
    "\n",
    "cohesion = compute_cohesion(X, labels)\n",
    "separation = compute_separation(X, labels)\n",
    "silhouette = compute_silhouette(X, labels)\n",
    "dunn_index = calculate_dunn_index(X, labels)\n",
    "\n",
    "print('Cohesion:', cohesion)\n",
    "print('Separation:', separation)\n",
    "print('Silhouette Coefficient:', silhouette)\n",
    "print('Dunn Index:', dunn_index)"
   ]
  },
  {
   "cell_type": "code",
   "execution_count": 83,
   "metadata": {},
   "outputs": [
    {
     "name": "stdout",
     "output_type": "stream",
     "text": [
      "Cohesion: 611.3544928662973\n",
      "Separation: 1207309.073289746\n",
      "Silhouette Coefficient: 0.0019989872444324463\n",
      "Dunn Index: 0.0\n"
     ]
    }
   ],
   "source": [
    "cohesion = compute_cohesion(X_df, y_df)\n",
    "separation = compute_separation(X_df, y_df)\n",
    "silhouette = compute_silhouette(X_df, y_df)\n",
    "dunn_index = calculate_dunn_index(X_df, y_df)\n",
    "\n",
    "print('Cohesion:', cohesion)\n",
    "print('Separation:', separation)\n",
    "print('Silhouette Coefficient:', silhouette)\n",
    "print('Dunn Index:', dunn_index)"
   ]
  },
  {
   "cell_type": "code",
   "execution_count": null,
   "metadata": {},
   "outputs": [],
   "source": []
  }
 ],
 "metadata": {
  "kernelspec": {
   "display_name": "adp",
   "language": "python",
   "name": "python3"
  },
  "language_info": {
   "codemirror_mode": {
    "name": "ipython",
    "version": 3
   },
   "file_extension": ".py",
   "mimetype": "text/x-python",
   "name": "python",
   "nbconvert_exporter": "python",
   "pygments_lexer": "ipython3",
   "version": "3.7.9"
  },
  "orig_nbformat": 4
 },
 "nbformat": 4,
 "nbformat_minor": 2
}
