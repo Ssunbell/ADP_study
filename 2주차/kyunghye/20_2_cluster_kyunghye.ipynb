{
 "cells": [
  {
   "attachments": {},
   "cell_type": "markdown",
   "metadata": {},
   "source": [
    "### 2번\n",
    "5분간격의 가구별 전력 사용량의 데이터\n",
    "데이터 출처 : 자체생성"
   ]
  },
  {
   "cell_type": "code",
   "execution_count": null,
   "metadata": {},
   "outputs": [],
   "source": [
    "import warnings\n",
    "import pandas as pd\n",
    "warnings.filterwarnings('ignore')\n",
    "\n",
    "data_path = '../data/problem2.csv'\n",
    "\n",
    "df = pd.read_csv(data_path)"
   ]
  },
  {
   "attachments": {},
   "cell_type": "markdown",
   "metadata": {},
   "source": [
    "2-1 데이터 전처리\n",
    "\n",
    "각 가구의 15분간격의 전력량의 합을 구하고 해당데이터를 바탕으로 총 5개의 군집으로 군집화를 진행한 후 아래의 그림과 같은 형태로 출력하라.\n",
    "군집화를 위한 데이터 구성의 이유를 설명하라\n",
    "(군집 방식에 따라 Cluster컬럼의 값은 달라질수 있음)\n",
    "\n",
    "<img width=\"1020\" src=\"https://user-images.githubusercontent.com/97590480/236660968-0e59b0f9-5540-40dc-9b05-53ef6fc5a29a.png\">"
   ]
  },
  {
   "cell_type": "code",
   "execution_count": null,
   "metadata": {},
   "outputs": [],
   "source": []
  },
  {
   "attachments": {},
   "cell_type": "markdown",
   "metadata": {},
   "source": [
    "#### 2-2 히트맵\n",
    "\n",
    "2-1의 데이터를 바탕으로 각 군집의 요일, 15분간격별 전력사용량의 합을 구한 후 아래와 같이 시각화 하여라\n",
    "(수치는 동일하지 않을 수 있음 2-1의 데이터가 정확하게 아래와 같은 이미지로 변환 됐는지 주로 확인)\n",
    "\n",
    "<img width=\"878\" src=\"https://user-images.githubusercontent.com/97590480/236660988-679620bb-d51f-4b69-9c33-edee958dc032.png\">\n"
   ]
  },
  {
   "cell_type": "code",
   "execution_count": null,
   "metadata": {},
   "outputs": [],
   "source": []
  }
 ],
 "metadata": {
  "language_info": {
   "name": "python"
  },
  "orig_nbformat": 4
 },
 "nbformat": 4,
 "nbformat_minor": 2
}
