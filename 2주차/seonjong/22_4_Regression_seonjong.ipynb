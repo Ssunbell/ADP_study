{
 "cells": [
  {
   "attachments": {},
   "cell_type": "markdown",
   "metadata": {},
   "source": [
    "### 문제 4\n",
    "금속 성분 함유량 데이터(변수 1개) - 제품에 금속 재질 함유량의 분산이 1.3을 넘으면 불량이라고 보고 있는데 제조사별로 차이가 난다고 제보를 받았으며, 분산에 대해 검정을 수행하시오. (유의확률 0.05)"
   ]
  },
  {
   "cell_type": "code",
   "execution_count": 1,
   "metadata": {},
   "outputs": [],
   "source": [
    "import warnings\n",
    "import pandas as pd\n",
    "warnings.filterwarnings('ignore')\n",
    "\n",
    "data_path = '../data/content.csv'\n",
    "df = pd.read_csv(data_path)"
   ]
  },
  {
   "cell_type": "code",
   "execution_count": 27,
   "metadata": {},
   "outputs": [
    {
     "name": "stdout",
     "output_type": "stream",
     "text": [
      "<class 'pandas.core.frame.DataFrame'>\n",
      "RangeIndex: 200 entries, 0 to 199\n",
      "Data columns (total 1 columns):\n",
      " #   Column   Non-Null Count  Dtype  \n",
      "---  ------   --------------  -----  \n",
      " 0   content  200 non-null    float64\n",
      "dtypes: float64(1)\n",
      "memory usage: 1.7 KB\n"
     ]
    }
   ],
   "source": [
    "df.info() # 결측치 확인"
   ]
  },
  {
   "attachments": {},
   "cell_type": "markdown",
   "metadata": {},
   "source": [
    "4-1 연구가설과 귀무가설 작성\n",
    "\n",
    "각 범주에 따른 데이터의 분포가 이론적으로 기대하는 분포를 따르는지 검정하기 위해 카이 스퀘어 검정을 이용한다.\n",
    "\n",
    "- H0 : 서로 다른 제조업체의 제품 간 금속 함유량의 분산(시그마 제곱)은 1.3이다.\n",
    "- H1 : 서로 다른 제조업체의 제품 간 금속 함유량의 분산은 1.3이 아니다."
   ]
  },
  {
   "attachments": {},
   "cell_type": "markdown",
   "metadata": {},
   "source": [
    "4-2 양측 검정"
   ]
  },
  {
   "cell_type": "code",
   "execution_count": 33,
   "metadata": {},
   "outputs": [],
   "source": [
    "from scipy.stats import chi2\n",
    "import numpy as np\n",
    "\n",
    "def varTest(data, expected_variance, alpha=0.05):\n",
    "    n = len(data)\n",
    "    observed_variance = np.var(data, ddof=1)  # ddof = 1 because of Sample variance (s-1)\n",
    "\n",
    "    chi2_critical = chi2.ppf(1 - alpha, n - 1)  # percent point function (critical value, degree of freedom)\n",
    "    chi2_statistic = (n - 1) * observed_variance / expected_variance\n",
    "\n",
    "    p_value = 1 - chi2.cdf(chi2_statistic, n - 1) # Cumulative Distribution Function\n",
    "\n",
    "    result = {\n",
    "        'Observed Variance': observed_variance,\n",
    "        'Expected Variance': expected_variance,\n",
    "        'Chi-square Critical Value':chi2_critical,\n",
    "        'Chi-square Statistic': chi2_statistic,\n",
    "        'p-value': p_value\n",
    "    }\n",
    "\n",
    "    if p_value <= alpha:\n",
    "        result['Conclusion'] = '귀무가설 기각, 분산은 유의미하게 각 제조사별로 다르다.'\n",
    "    else:\n",
    "        result['Conclusion'] = '귀무가설 채택, 분산은 유의미하게 각 제조사별로 다르지 않다.'\n",
    "\n",
    "    return result\n",
    "\n",
    "result = varTest(df['content'].tolist(), expected_variance=1.3)"
   ]
  },
  {
   "attachments": {},
   "cell_type": "markdown",
   "metadata": {},
   "source": [
    "4-3 검정통계량, 가설 채택"
   ]
  },
  {
   "cell_type": "code",
   "execution_count": 34,
   "metadata": {},
   "outputs": [
    {
     "name": "stdout",
     "output_type": "stream",
     "text": [
      "검정 통계량 : 328.2922980307293\n",
      "가설 검정 채택 : 귀무가설 기각, 분산은 유의미하게 각 제조사별로 다르다.\n"
     ]
    }
   ],
   "source": [
    "print('검정 통계량 :', result['Chi-square Statistic'])\n",
    "print('가설 검정 채택 :', result['Conclusion'])"
   ]
  }
 ],
 "metadata": {
  "kernelspec": {
   "display_name": "adp",
   "language": "python",
   "name": "python3"
  },
  "language_info": {
   "codemirror_mode": {
    "name": "ipython",
    "version": 3
   },
   "file_extension": ".py",
   "mimetype": "text/x-python",
   "name": "python",
   "nbconvert_exporter": "python",
   "pygments_lexer": "ipython3",
   "version": "3.7.12"
  },
  "orig_nbformat": 4
 },
 "nbformat": 4,
 "nbformat_minor": 2
}
