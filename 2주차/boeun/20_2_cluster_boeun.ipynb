{
 "cells": [
  {
   "cell_type": "markdown",
   "metadata": {},
   "source": [
    "### 2번\n",
    "5분간격의 가구별 전력 사용량의 데이터\n",
    "데이터 출처 : 자체생성"
   ]
  },
  {
   "cell_type": "code",
   "execution_count": 34,
   "metadata": {},
   "outputs": [],
   "source": [
    "import numpy as np\n",
    "import pandas as pd\n",
    "import seaborn as sns\n",
    "import matplotlib.pyplot as plt\n",
    "\n",
    "df = pd.read_csv('C:/Users/LG/Desktop/problem2.csv')"
   ]
  },
  {
   "cell_type": "code",
   "execution_count": 58,
   "metadata": {},
   "outputs": [],
   "source": [
    "df.sort_values(by = ['houseCode','date']).head(5)\n",
    "df_2 = df.sort_values(by = ['houseCode','date']).reset_index()\n",
    "# 각 houseCode 별 5분간격 date-> 15분단위로 구성하고 그에 따른 그룹핑하기"
   ]
  },
  {
   "cell_type": "code",
   "execution_count": 59,
   "metadata": {},
   "outputs": [
    {
     "data": {
      "text/html": [
       "<div>\n",
       "<style scoped>\n",
       "    .dataframe tbody tr th:only-of-type {\n",
       "        vertical-align: middle;\n",
       "    }\n",
       "\n",
       "    .dataframe tbody tr th {\n",
       "        vertical-align: top;\n",
       "    }\n",
       "\n",
       "    .dataframe thead th {\n",
       "        text-align: right;\n",
       "    }\n",
       "</style>\n",
       "<table border=\"1\" class=\"dataframe\">\n",
       "  <thead>\n",
       "    <tr style=\"text-align: right;\">\n",
       "      <th></th>\n",
       "      <th>index</th>\n",
       "      <th>houseCode</th>\n",
       "      <th>date</th>\n",
       "      <th>power consumption</th>\n",
       "    </tr>\n",
       "  </thead>\n",
       "  <tbody>\n",
       "    <tr>\n",
       "      <th>0</th>\n",
       "      <td>49500</td>\n",
       "      <td>house_00</td>\n",
       "      <td>2050-01-01 00:00:00</td>\n",
       "      <td>58.253938</td>\n",
       "    </tr>\n",
       "    <tr>\n",
       "      <th>1</th>\n",
       "      <td>378302</td>\n",
       "      <td>house_00</td>\n",
       "      <td>2050-01-01 00:05:00</td>\n",
       "      <td>21.731130</td>\n",
       "    </tr>\n",
       "    <tr>\n",
       "      <th>2</th>\n",
       "      <td>350416</td>\n",
       "      <td>house_00</td>\n",
       "      <td>2050-01-01 00:10:00</td>\n",
       "      <td>56.264884</td>\n",
       "    </tr>\n",
       "    <tr>\n",
       "      <th>3</th>\n",
       "      <td>362798</td>\n",
       "      <td>house_00</td>\n",
       "      <td>2050-01-01 00:15:00</td>\n",
       "      <td>27.894691</td>\n",
       "    </tr>\n",
       "    <tr>\n",
       "      <th>4</th>\n",
       "      <td>248593</td>\n",
       "      <td>house_00</td>\n",
       "      <td>2050-01-01 00:20:00</td>\n",
       "      <td>24.690939</td>\n",
       "    </tr>\n",
       "  </tbody>\n",
       "</table>\n",
       "</div>"
      ],
      "text/plain": [
       "    index houseCode                 date  power consumption\n",
       "0   49500  house_00  2050-01-01 00:00:00          58.253938\n",
       "1  378302  house_00  2050-01-01 00:05:00          21.731130\n",
       "2  350416  house_00  2050-01-01 00:10:00          56.264884\n",
       "3  362798  house_00  2050-01-01 00:15:00          27.894691\n",
       "4  248593  house_00  2050-01-01 00:20:00          24.690939"
      ]
     },
     "execution_count": 59,
     "metadata": {},
     "output_type": "execute_result"
    }
   ],
   "source": [
    "df_2.head()"
   ]
  },
  {
   "cell_type": "code",
   "execution_count": 60,
   "metadata": {},
   "outputs": [],
   "source": [
    "df_2['date_type'] = pd.to_datetime(df_2['date'])"
   ]
  },
  {
   "cell_type": "code",
   "execution_count": 61,
   "metadata": {},
   "outputs": [],
   "source": [
    "# % : 나머지 //: 몫 \n",
    "# 파이썬 모르겟음.. 아래 values () 해서 array 여야 붙일수잇는건가?\n",
    "df_2['minute_group'] = (df_2['date_type'].dt.minute // 15).values\n",
    "df_2 = df_2.drop('index', axis=1)"
   ]
  },
  {
   "cell_type": "code",
   "execution_count": 63,
   "metadata": {},
   "outputs": [
    {
     "data": {
      "text/html": [
       "<div>\n",
       "<style scoped>\n",
       "    .dataframe tbody tr th:only-of-type {\n",
       "        vertical-align: middle;\n",
       "    }\n",
       "\n",
       "    .dataframe tbody tr th {\n",
       "        vertical-align: top;\n",
       "    }\n",
       "\n",
       "    .dataframe thead th {\n",
       "        text-align: right;\n",
       "    }\n",
       "</style>\n",
       "<table border=\"1\" class=\"dataframe\">\n",
       "  <thead>\n",
       "    <tr style=\"text-align: right;\">\n",
       "      <th></th>\n",
       "      <th>houseCode</th>\n",
       "      <th>date</th>\n",
       "      <th>power consumption</th>\n",
       "      <th>date_type</th>\n",
       "      <th>minute_group</th>\n",
       "    </tr>\n",
       "  </thead>\n",
       "  <tbody>\n",
       "    <tr>\n",
       "      <th>0</th>\n",
       "      <td>house_00</td>\n",
       "      <td>2050-01-01 00:00:00</td>\n",
       "      <td>58.253938</td>\n",
       "      <td>2050-01-01 00:00:00</td>\n",
       "      <td>0</td>\n",
       "    </tr>\n",
       "    <tr>\n",
       "      <th>1</th>\n",
       "      <td>house_00</td>\n",
       "      <td>2050-01-01 00:05:00</td>\n",
       "      <td>21.731130</td>\n",
       "      <td>2050-01-01 00:05:00</td>\n",
       "      <td>0</td>\n",
       "    </tr>\n",
       "    <tr>\n",
       "      <th>2</th>\n",
       "      <td>house_00</td>\n",
       "      <td>2050-01-01 00:10:00</td>\n",
       "      <td>56.264884</td>\n",
       "      <td>2050-01-01 00:10:00</td>\n",
       "      <td>0</td>\n",
       "    </tr>\n",
       "    <tr>\n",
       "      <th>3</th>\n",
       "      <td>house_00</td>\n",
       "      <td>2050-01-01 00:15:00</td>\n",
       "      <td>27.894691</td>\n",
       "      <td>2050-01-01 00:15:00</td>\n",
       "      <td>1</td>\n",
       "    </tr>\n",
       "    <tr>\n",
       "      <th>4</th>\n",
       "      <td>house_00</td>\n",
       "      <td>2050-01-01 00:20:00</td>\n",
       "      <td>24.690939</td>\n",
       "      <td>2050-01-01 00:20:00</td>\n",
       "      <td>1</td>\n",
       "    </tr>\n",
       "  </tbody>\n",
       "</table>\n",
       "</div>"
      ],
      "text/plain": [
       "  houseCode                 date  power consumption           date_type  \\\n",
       "0  house_00  2050-01-01 00:00:00          58.253938 2050-01-01 00:00:00   \n",
       "1  house_00  2050-01-01 00:05:00          21.731130 2050-01-01 00:05:00   \n",
       "2  house_00  2050-01-01 00:10:00          56.264884 2050-01-01 00:10:00   \n",
       "3  house_00  2050-01-01 00:15:00          27.894691 2050-01-01 00:15:00   \n",
       "4  house_00  2050-01-01 00:20:00          24.690939 2050-01-01 00:20:00   \n",
       "\n",
       "   minute_group  \n",
       "0             0  \n",
       "1             0  \n",
       "2             0  \n",
       "3             1  \n",
       "4             1  "
      ]
     },
     "execution_count": 63,
     "metadata": {},
     "output_type": "execute_result"
    }
   ],
   "source": [
    "df_2.groupby('houseCode','minute_group').agg('min')['power consumption']"
   ]
  },
  {
   "cell_type": "code",
   "execution_count": 79,
   "metadata": {},
   "outputs": [],
   "source": [
    "group_df =df_2.groupby(['houseCode','minute_group']).agg('min')['power consumption'].to_frame().reset_index()\n",
    "date_df = df_2.groupby(['houseCode','minute_group']).agg('min')['date_type'].to_frame().reset_index()"
   ]
  },
  {
   "cell_type": "code",
   "execution_count": 87,
   "metadata": {},
   "outputs": [],
   "source": [
    "# pd.merge(df, other, left_on = 'key', right_on = 'key')\n",
    "df_final = pd.merge(group_df, date_df).drop('minute_group', axis=1)"
   ]
  },
  {
   "cell_type": "code",
   "execution_count": 88,
   "metadata": {},
   "outputs": [
    {
     "data": {
      "text/html": [
       "<div>\n",
       "<style scoped>\n",
       "    .dataframe tbody tr th:only-of-type {\n",
       "        vertical-align: middle;\n",
       "    }\n",
       "\n",
       "    .dataframe tbody tr th {\n",
       "        vertical-align: top;\n",
       "    }\n",
       "\n",
       "    .dataframe thead th {\n",
       "        text-align: right;\n",
       "    }\n",
       "</style>\n",
       "<table border=\"1\" class=\"dataframe\">\n",
       "  <thead>\n",
       "    <tr style=\"text-align: right;\">\n",
       "      <th></th>\n",
       "      <th>houseCode</th>\n",
       "      <th>power consumption</th>\n",
       "      <th>date_type</th>\n",
       "    </tr>\n",
       "  </thead>\n",
       "  <tbody>\n",
       "    <tr>\n",
       "      <th>0</th>\n",
       "      <td>house_00</td>\n",
       "      <td>0.136960</td>\n",
       "      <td>2050-01-01 00:00:00</td>\n",
       "    </tr>\n",
       "    <tr>\n",
       "      <th>1</th>\n",
       "      <td>house_00</td>\n",
       "      <td>0.070351</td>\n",
       "      <td>2050-01-01 00:15:00</td>\n",
       "    </tr>\n",
       "    <tr>\n",
       "      <th>2</th>\n",
       "      <td>house_00</td>\n",
       "      <td>0.033025</td>\n",
       "      <td>2050-01-01 00:30:00</td>\n",
       "    </tr>\n",
       "    <tr>\n",
       "      <th>3</th>\n",
       "      <td>house_00</td>\n",
       "      <td>0.001621</td>\n",
       "      <td>2050-01-01 00:45:00</td>\n",
       "    </tr>\n",
       "  </tbody>\n",
       "</table>\n",
       "</div>"
      ],
      "text/plain": [
       "  houseCode  power consumption           date_type\n",
       "0  house_00           0.136960 2050-01-01 00:00:00\n",
       "1  house_00           0.070351 2050-01-01 00:15:00\n",
       "2  house_00           0.033025 2050-01-01 00:30:00\n",
       "3  house_00           0.001621 2050-01-01 00:45:00"
      ]
     },
     "execution_count": 88,
     "metadata": {},
     "output_type": "execute_result"
    }
   ],
   "source": [
    "## 2-1) 15분간격의 전력량의 합\n",
    "df_final.head(4)"
   ]
  },
  {
   "cell_type": "markdown",
   "metadata": {},
   "source": [
    "2-1 데이터 전처리\n",
    "\n",
    "각 가구의 15분간격의 전력량의 합을 구하고 해당데이터를 바탕으로 총 5개의 군집으로 군집화를 진행한 후 아래의 그림과 같은 형태로 출력하라.\n",
    "군집화를 위한 데이터 구성의 이유를 설명하라\n",
    "(군집 방식에 따라 Cluster컬럼의 값은 달라질수 있음)\n",
    "\n",
    "<img width=\"1020\" src=\"https://user-images.githubusercontent.com/97590480/236660968-0e59b0f9-5540-40dc-9b05-53ef6fc5a29a.png\">"
   ]
  },
  {
   "cell_type": "code",
   "execution_count": 89,
   "metadata": {},
   "outputs": [
    {
     "name": "stderr",
     "output_type": "stream",
     "text": [
      "C:\\ProgramData\\Anaconda3\\lib\\site-packages\\sklearn\\cluster\\_kmeans.py:1037: UserWarning: KMeans is known to have a memory leak on Windows with MKL, when there are less chunks than available threads. You can avoid it by setting the environment variable OMP_NUM_THREADS=1.\n",
      "  \"KMeans is known to have a memory leak on Windows \"\n"
     ]
    },
    {
     "data": {
      "image/png": "[encoded data removed]",
      "text/plain": [
       "<Figure size 432x288 with 1 Axes>"
      ]
     },
     "metadata": {
      "needs_background": "light"
     },
     "output_type": "display_data"
    }
   ],
   "source": [
    "from sklearn.cluster import KMeans\n",
    "\n",
    "x = np.array(df_final['power consumption']).reshape(-1,1)\n",
    "inertia = []\n",
    "for i in range(1,11):\n",
    "    kmeans_plus = KMeans(n_clusters=i, init='k-means++')\n",
    "    kmeans_plus.fit(x)\n",
    "    inertia.append(kmeans_plus.inertia_)\n",
    "\n",
    "plt.plot(range(1,11), inertia)\n",
    "plt.xlabel('number of clusters')\n",
    "plt.ylabel('inertia')\n",
    "plt.show()"
   ]
  },
  {
   "cell_type": "code",
   "execution_count": 126,
   "metadata": {},
   "outputs": [
    {
     "name": "stdout",
     "output_type": "stream",
     "text": [
      "실루엣계수 스코어:0.975\n"
     ]
    }
   ],
   "source": [
    "## 클러스터링 -> 비지도학습은 평가하기 어려우나 군집화의 성능을 비교하는데 '실루엣계수' 사용\n",
    "\n",
    "# 실루엣계수 : 각군집간 거리 얼마나 효율적 분리되어있는지 나타냄. 다른군집과 거리 떨어져있고 동일군집끼리 데이터 가까움\n",
    "# 1 = 근처군집과 더 멀리 떨어져있음(잘분리) , 0 = 근처군집과 가까워짐, - = 아예다른군집에 데이터 할당\n",
    "# 좋은군집 조건\n",
    "# 1. 전체실루엣계수 평균값이 0~1사이, 1가까울수록 좋음\n",
    "# 2. 개별 군집의 평균값의 편차 크지않아야 함(즉 개별군집의 실루엣계수평균값이 전체 실루엣 계수 평균값에서 크게 벗어나지 않아야함)\n",
    "\n",
    "## 주의: x_feature 데이터프레임 과 cluster저장할 테이블 분리해서 사용하기!\n",
    "from sklearn.metrics import silhouette_score, silhouette_samples\n",
    "X_feature = pd.DataFrame(df_final['power consumption']) # 학습데이터 2d array로 해줘야함\n",
    "df_cluster = X_feature\n",
    "\n",
    "kmeans = KMeans(n_clusters=3, random_state=42)\n",
    "kmeans.fit(df_cluster)\n",
    "df_cluster['cluster'] = kmeans.labels_\n",
    "\n",
    "## 모든 개별 데이터에 실루엣 계수값 구하기\n",
    "score_samples = silhouette_samples(X_feature, df_cluster['cluster'])\n",
    "df_cluster['silhouette_coeff'] = score_samples\n",
    "\n",
    "## 평균실루엣 계수값 구함 = silhouette_score(X feature 데이터세트, 군집된 label값)\n",
    "average_score = silhouette_score(X_feature, df_cluster['cluster'])\n",
    "print('실루엣계수 스코어:{0:.3f}'.format(average_score))"
   ]
  },
  {
   "cell_type": "code",
   "execution_count": 127,
   "metadata": {},
   "outputs": [
    {
     "data": {
      "text/plain": [
       "cluster\n",
       "0    0.981658\n",
       "1    0.971945\n",
       "2    0.945622\n",
       "Name: silhouette_coeff, dtype: float64"
      ]
     },
     "execution_count": 127,
     "metadata": {},
     "output_type": "execute_result"
    }
   ],
   "source": [
    "## 군집 칼럼별로 실루엣계수 구하기\n",
    "df_cluster.groupby('cluster')['silhouette_coeff'].mean()"
   ]
  },
  {
   "cell_type": "markdown",
   "metadata": {},
   "source": [
    "#### 2-2 히트맵\n",
    "\n",
    "2-1의 데이터를 바탕으로 각 군집의 요일, 15분간격별 전력사용량의 합을 구한 후 아래와 같이 시각화 하여라\n",
    "(수치는 동일하지 않을 수 있음 2-1의 데이터가 정확하게 아래와 같은 이미지로 변환 됐는지 주로 확인)\n",
    "\n",
    "<img width=\"878\" src=\"https://user-images.githubusercontent.com/97590480/236660988-679620bb-d51f-4b69-9c33-edee958dc032.png\">\n"
   ]
  },
  {
   "cell_type": "code",
   "execution_count": null,
   "metadata": {},
   "outputs": [],
   "source": []
  }
 ],
 "metadata": {
  "kernelspec": {
   "display_name": "Python 3",
   "language": "python",
   "name": "python3"
  },
  "language_info": {
   "codemirror_mode": {
    "name": "ipython",
    "version": 3
   },
   "file_extension": ".py",
   "mimetype": "text/x-python",
   "name": "python",
   "nbconvert_exporter": "python",
   "pygments_lexer": "ipython3",
   "version": "3.7.3"
  }
 },
 "nbformat": 4,
 "nbformat_minor": 2
}
