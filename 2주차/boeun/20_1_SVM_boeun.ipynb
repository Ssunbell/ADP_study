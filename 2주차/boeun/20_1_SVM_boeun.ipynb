{
 "cells": [
  {
   "cell_type": "markdown",
   "metadata": {},
   "source": [
    "### 1번\n",
    "날씨 온도 예측, 종속변수 :actual(최고온도)\n",
    "temp_1 : 전날 최고온도\n",
    "temp_2 : 전전날 최고온도\n",
    "friend : 친구의 예측온도"
   ]
  },
  {
   "cell_type": "markdown",
   "metadata": {},
   "source": [
    "#### 1-1 데이터 확인 및 전처리\n",
    "\n",
    "- 데이터 EDA 수행\n",
    "- 결측치를 확인하고 처리 방안에 대해 논의하라\n",
    "- 데이터 분할 방법 설명\n",
    "- 최종 데이터셋이 적절함을 주장하라"
   ]
  },
  {
   "cell_type": "code",
   "execution_count": null,
   "metadata": {},
   "outputs": [],
   "source": [
    "import warnings\n",
    "import pandas as pd\n",
    "warnings.filterwarnings('ignore')\n",
    "\n",
    "data_path = '../data/problem1.csv'\n",
    "\n",
    "df = pd.read_csv(data_path)"
   ]
  },
  {
   "cell_type": "markdown",
   "metadata": {},
   "source": [
    "#### 1-2 Random Forest 모델 적합 및 검증\n",
    "\n",
    "- Random Forest 학습 및 예측 결과 해석\n",
    "- 예측 결과 검정 해석, 중요변수 도출\n",
    "- 변수 중요성 분석 및 그래프 출력"
   ]
  },
  {
   "cell_type": "code",
   "execution_count": null,
   "metadata": {},
   "outputs": [],
   "source": []
  },
  {
   "cell_type": "markdown",
   "metadata": {},
   "source": [
    "#### 1-3 SVM(Support Vector Machine) 모델 적합 및 검증\n",
    "\n",
    "- svm 학습 및 예측 결과 해석\n",
    "- 예측 결과 검정 해석, 중요변수 도출\n",
    "- 변수 중요성 분석 및 그래프 출력"
   ]
  },
  {
   "cell_type": "code",
   "execution_count": null,
   "metadata": {},
   "outputs": [],
   "source": []
  },
  {
   "cell_type": "markdown",
   "metadata": {},
   "source": [
    "#### 1-4 모델 비교 및 향후 개선 방향 도출¶\n",
    "\n",
    "- Random Forest, SVM 모델의 결과 비교 후 최종 모델 선택\n",
    "- 두 모델의 장단점 분석, 추후 운영 관점에서 어떤 모델을 선택할 것인가?\n",
    "- 모델링 관련 추후 개선 방향 제시"
   ]
  },
  {
   "cell_type": "code",
   "execution_count": null,
   "metadata": {},
   "outputs": [],
   "source": []
  }
 ],
 "metadata": {
  "kernelspec": {
   "display_name": "Python 3",
   "language": "python",
   "name": "python3"
  },
  "language_info": {
   "codemirror_mode": {
    "name": "ipython",
    "version": 3
   },
   "file_extension": ".py",
   "mimetype": "text/x-python",
   "name": "python",
   "nbconvert_exporter": "python",
   "pygments_lexer": "ipython3",
   "version": "3.7.3"
  }
 },
 "nbformat": 4,
 "nbformat_minor": 2
}
