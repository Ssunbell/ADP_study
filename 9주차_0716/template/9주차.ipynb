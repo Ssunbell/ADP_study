{
 "cells": [
  {
   "attachments": {},
   "cell_type": "markdown",
   "metadata": {},
   "source": [
    "# 머신러닝\n",
    "### 1번 \n",
    "\n",
    "### 데이터 설명\n",
    "- InvoiceNo: Invoice number. Nominal, a 6-digit integral number uniquely assigned to each transaction. If this code starts with letter 'c', it indicates a cancellation.     \n",
    "- StockCode: Product (item) code. Nominal, a 5-digit integral number uniquely assigned to each distinct product.     \n",
    "- Description: Product (item) name. Nominal.    \n",
    "- Quantity: The quantities of each product (item) per transaction. Numeric.     \n",
    "- InvoiceDate: Invice Date and time. Numeric, the day and time when each transaction was generated.   \n",
    "- UnitPrice: Unit price. Numeric, Product price per unit in sterling.    \n",
    "- CustomerID: Customer number. Nominal, a 5-digit integral number uniquely assigned to each customer.     \n",
    "- Country: Country name. Nominal, the name of the country where each customer resides.     \n",
    "\n",
    "\n",
    "### 데이터 출처\n",
    "- https://archive.ics.uci.edu/ml/index.php"
   ]
  },
  {
   "attachments": {},
   "cell_type": "markdown",
   "metadata": {},
   "source": [
    "#### 1-1. 결측치를 확인하고, 결측치 제거할 것"
   ]
  },
  {
   "cell_type": "code",
   "execution_count": null,
   "metadata": {},
   "outputs": [],
   "source": []
  },
  {
   "attachments": {},
   "cell_type": "markdown",
   "metadata": {},
   "source": [
    "#### 1-2. 이상치 제거하는 방법을 설명하고, 이상치 제거하고 난 결과를 통계적으로 나타낼 것"
   ]
  },
  {
   "cell_type": "code",
   "execution_count": null,
   "metadata": {},
   "outputs": [],
   "source": []
  },
  {
   "attachments": {},
   "cell_type": "markdown",
   "metadata": {},
   "source": [
    "#### 1-3 전처리한 데이터로 Kmeans, DBSCAN 등 방법으로 군집을 생성하고 더 좋은 모델을 선택하라"
   ]
  },
  {
   "cell_type": "code",
   "execution_count": null,
   "metadata": {},
   "outputs": [],
   "source": []
  },
  {
   "attachments": {},
   "cell_type": "markdown",
   "metadata": {},
   "source": [
    "### 2번\n",
    "#### 2-1. 위에서 생성한 군집들의 특성을 분석할 것"
   ]
  },
  {
   "cell_type": "code",
   "execution_count": null,
   "metadata": {},
   "outputs": [],
   "source": []
  },
  {
   "attachments": {},
   "cell_type": "markdown",
   "metadata": {},
   "source": [
    "#### 2-2. 각 군집 별 대표 추천 상품을 도출할 것"
   ]
  },
  {
   "cell_type": "code",
   "execution_count": null,
   "metadata": {},
   "outputs": [],
   "source": []
  },
  {
   "attachments": {},
   "cell_type": "markdown",
   "metadata": {},
   "source": [
    "#### 2-3. CustomerID가 12413인 고객을 대상으로 KNN을 이용하여 추천할 상품을 제시해라"
   ]
  },
  {
   "attachments": {},
   "cell_type": "markdown",
   "metadata": {},
   "source": [
    "# 통계\n",
    "\n",
    "### 3. 철강제품의 불량률을 조사하고자 한다. 이 때, 불량률의 90% 추정오차한계가 5% 이내가 되기 위하여 적절한 표본의 크기 중 최소값은 얼마인가?"
   ]
  },
  {
   "cell_type": "code",
   "execution_count": null,
   "metadata": {},
   "outputs": [],
   "source": []
  },
  {
   "attachments": {},
   "cell_type": "markdown",
   "metadata": {},
   "source": [
    "### 4. A초등학교 남학생 16명과 여학생 9명의 혈압을 측정한 problem4.csv파일을 가지고 남녀학생의 평균 혈압에 차이가 없는지 분석하라. 단, 남학생과 여학생의 혈압 데이터는 정규분포를 따르며 등분산임을 가정한다."
   ]
  },
  {
   "attachments": {},
   "cell_type": "markdown",
   "metadata": {},
   "source": [
    "#### 4-1 연구가설과 귀무가설을 설정하라"
   ]
  },
  {
   "attachments": {},
   "cell_type": "markdown",
   "metadata": {},
   "source": [
    "#### 4-2 소수점 2자리 반올림하여 95% 신뢰구간을 구하라. 연구가설 채택여부를 결정하고, 신뢰구간이 연구가설 채택에 어떤 역할을 하는지 설명하라."
   ]
  },
  {
   "attachments": {},
   "cell_type": "markdown",
   "metadata": {},
   "source": [
    "### 5번 아래는 후보A의 선거구별 지지 현황표다. 후보A의 지지율이 선거구별로 차이가 있는지를 검정하라.\n",
    "\n",
    "<img width=\"498\" src=\"https://github.com/Ssunbell/ADP_study/assets/97590480/3b057a61-b1e2-42c7-895d-c3234b866975\">"
   ]
  },
  {
   "attachments": {},
   "cell_type": "markdown",
   "metadata": {},
   "source": [
    "5-1. 귀무가설과 연구가설을 설정하라 "
   ]
  },
  {
   "attachments": {},
   "cell_type": "markdown",
   "metadata": {},
   "source": [
    "5-2. 소수점 2자리 반올림하여 통계량을 구하고 95% 수준에서 연구가설 채택여부를 결정하라."
   ]
  },
  {
   "attachments": {},
   "cell_type": "markdown",
   "metadata": {},
   "source": [
    "### 6. 1월 ~9월까지 9개월간의 국제 Silver 가격이 다음과 같다. \n",
    "\n",
    "<img width=\"463\" src=\"https://github.com/Ssunbell/ADP_study/assets/97590480/ebcaf02c-2ef9-47c5-aed1-4514d3e01370\">"
   ]
  },
  {
   "attachments": {},
   "cell_type": "markdown",
   "metadata": {},
   "source": [
    "#### 6-1. 1월 대비 9월의 은값 상승률을 소수점 2자리 반올림하여 구하라 "
   ]
  },
  {
   "attachments": {},
   "cell_type": "markdown",
   "metadata": {},
   "source": [
    "#### 6-2. Silver 가격의 추이를 이동평균(3N)과 함께 나타나도록 시각화하라 "
   ]
  },
  {
   "attachments": {},
   "cell_type": "markdown",
   "metadata": {},
   "source": [
    "### 7. car 패키지의 Prestige 데이터에서 독립변수를 education, prestige로 하여 종속변수 income을 예측하는 베이지안 회귀 모델을 생성하라. (실제 문제는 몸무게 키 허리둘레 3개 칼럼으로 구성된 weight.csv 파일을 읽어서 다음을 구하라.)"
   ]
  },
  {
   "attachments": {},
   "cell_type": "markdown",
   "metadata": {},
   "source": [
    "#### 7-1 아래 조건을 참고하여 회귀계수(반올림하여 소수점 두자리)를 구하시오.\n",
    "- 베이지안 회귀\n",
    "- 시드넘버 1234로 지정\n",
    "- 1000번의 burn-in 이후 10,000의 MCMC를 수행\n",
    "- 회귀계수의 사전분포는 부적절한 균일분포(inproper uniform prior distribution), 오차항의 분산의 사전분포는 역감마 분포로 지정. 이때, 형상(Shape)모수와 척도(Scale)모수는 각각 0.005로 지정."
   ]
  },
  {
   "attachments": {},
   "cell_type": "markdown",
   "metadata": {},
   "source": [
    "#### 7-2 7-1에서 만든 모델을 바탕으로 키 180cm, 허리둘레 85cm인 남성의 몸무게를 추정하라"
   ]
  },
  {
   "attachments": {},
   "cell_type": "markdown",
   "metadata": {},
   "source": []
  }
 ],
 "metadata": {
  "language_info": {
   "name": "python"
  },
  "orig_nbformat": 4
 },
 "nbformat": 4,
 "nbformat_minor": 2
}
