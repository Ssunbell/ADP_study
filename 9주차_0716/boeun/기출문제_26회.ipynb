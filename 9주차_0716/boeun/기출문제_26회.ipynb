{
 "cells": [
  {
   "cell_type": "code",
   "execution_count": null,
   "metadata": {},
   "outputs": [],
   "source": [
    "# 이상치탐지 - 군집화 형식\n",
    "# 추천시스템"
   ]
  },
  {
   "cell_type": "markdown",
   "metadata": {},
   "source": [
    "# 머신러닝\n",
    "### 1번 \n",
    "\n",
    "### 데이터 설명\n",
    "- InvoiceNo: Invoice number. Nominal, a 6-digit integral number uniquely assigned to each transaction. If this code starts with letter 'c', it indicates a cancellation.     \n",
    "- StockCode: Product (item) code. Nominal, a 5-digit integral number uniquely assigned to each distinct product.     \n",
    "- Description: Product (item) name. Nominal.    \n",
    "- Quantity: The quantities of each product (item) per transaction. Numeric.     \n",
    "- InvoiceDate: Invice Date and time. Numeric, the day and time when each transaction was generated.   \n",
    "- UnitPrice: Unit price. Numeric, Product price per unit in sterling.    \n",
    "- CustomerID: Customer number. Nominal, a 5-digit integral number uniquely assigned to each customer.     \n",
    "- Country: Country name. Nominal, the name of the country where each customer resides.     \n",
    "\n",
    "\n",
    "### 데이터 출처\n",
    "- https://archive.ics.uci.edu/ml/index.php"
   ]
  },
  {
   "cell_type": "code",
   "execution_count": 9,
   "metadata": {},
   "outputs": [],
   "source": [
    "# import ssl\n",
    "# import pandas as pd\n",
    "# import urllib\n",
    "# context = ssl._create_unverified_context()\n",
    "\n",
    "# url1 = 'https://raw.githubusercontent.com/Ssunbell/ADP_study/main/9주차_0716/data/problem1.csv'\n",
    "# encoded_url1 = urllib.parse.quote(url1, safe=':/')\n",
    "\n",
    "# response = urllib.request.urlopen(encoded_url1, context=context)\n",
    "# df1 = pd.read_csv(response, encoding='utf-8')\n",
    "# df1"
   ]
  },
  {
   "cell_type": "code",
   "execution_count": 1,
   "metadata": {},
   "outputs": [
    {
     "name": "stderr",
     "output_type": "stream",
     "text": [
      "C:\\ProgramData\\Anaconda3\\lib\\site-packages\\setuptools\\_importlib.py:42: SetuptoolsWarning: Incompatibility problem.\n",
      "!!\n",
      "\n",
      "        ********************************************************************************\n",
      "        `importlib-metadata` version is incompatible with `setuptools`.\n",
      "        This problem is likely to be solved by installing an updated version of\n",
      "        `importlib-metadata`.\n",
      "\n",
      "        See https://github.com/python/importlib_metadata/issues/396 for details.\n",
      "        ********************************************************************************\n",
      "\n",
      "!!\n",
      "  disable_importlib_metadata_finder(metadata)\n",
      "C:\\ProgramData\\Anaconda3\\lib\\site-packages\\pandas\\compat\\_optional.py:138: UserWarning: Pandas requires version '2.7.0' or newer of 'numexpr' (version '2.6.9' currently installed).\n",
      "  warnings.warn(msg, UserWarning)\n"
     ]
    },
    {
     "data": {
      "text/html": [
       "<div>\n",
       "<style scoped>\n",
       "    .dataframe tbody tr th:only-of-type {\n",
       "        vertical-align: middle;\n",
       "    }\n",
       "\n",
       "    .dataframe tbody tr th {\n",
       "        vertical-align: top;\n",
       "    }\n",
       "\n",
       "    .dataframe thead th {\n",
       "        text-align: right;\n",
       "    }\n",
       "</style>\n",
       "<table border=\"1\" class=\"dataframe\">\n",
       "  <thead>\n",
       "    <tr style=\"text-align: right;\">\n",
       "      <th></th>\n",
       "      <th>InvoiceNo</th>\n",
       "      <th>StockCode</th>\n",
       "      <th>Description</th>\n",
       "      <th>Quantity</th>\n",
       "      <th>InvoiceDate</th>\n",
       "      <th>UnitPrice</th>\n",
       "      <th>CustomerID</th>\n",
       "      <th>Country</th>\n",
       "    </tr>\n",
       "  </thead>\n",
       "  <tbody>\n",
       "    <tr>\n",
       "      <th>0</th>\n",
       "      <td>563808</td>\n",
       "      <td>22432</td>\n",
       "      <td>WATERING CAN PINK BUNNY</td>\n",
       "      <td>6.0</td>\n",
       "      <td>8/19/2011 11:46</td>\n",
       "      <td>1.95</td>\n",
       "      <td>12626</td>\n",
       "      <td>Germany</td>\n",
       "    </tr>\n",
       "    <tr>\n",
       "      <th>1</th>\n",
       "      <td>561645</td>\n",
       "      <td>23166</td>\n",
       "      <td>MEDIUM CERAMIC TOP STORAGE JAR</td>\n",
       "      <td>12.0</td>\n",
       "      <td>7/28/2011 15:16</td>\n",
       "      <td>1.25</td>\n",
       "      <td>14911</td>\n",
       "      <td>EIRE</td>\n",
       "    </tr>\n",
       "    <tr>\n",
       "      <th>2</th>\n",
       "      <td>568651</td>\n",
       "      <td>20985</td>\n",
       "      <td>HEART CALCULATOR</td>\n",
       "      <td>12.0</td>\n",
       "      <td>9/28/2011 12:04</td>\n",
       "      <td>1.25</td>\n",
       "      <td>12362</td>\n",
       "      <td>Belgium</td>\n",
       "    </tr>\n",
       "    <tr>\n",
       "      <th>3</th>\n",
       "      <td>541711</td>\n",
       "      <td>22772</td>\n",
       "      <td>PINK DRAWER KNOB ACRYLIC EDWARDIAN</td>\n",
       "      <td>24.0</td>\n",
       "      <td>1/21/2011 11:18</td>\n",
       "      <td>1.25</td>\n",
       "      <td>14646</td>\n",
       "      <td>Netherlands</td>\n",
       "    </tr>\n",
       "    <tr>\n",
       "      <th>4</th>\n",
       "      <td>554134</td>\n",
       "      <td>21154</td>\n",
       "      <td>RED RETROSPOT OVEN GLOVE</td>\n",
       "      <td>10.0</td>\n",
       "      <td>5/23/2011 9:48</td>\n",
       "      <td>1.25</td>\n",
       "      <td>12583</td>\n",
       "      <td>France</td>\n",
       "    </tr>\n",
       "  </tbody>\n",
       "</table>\n",
       "</div>"
      ],
      "text/plain": [
       "  InvoiceNo StockCode                         Description  Quantity  \\\n",
       "0    563808     22432             WATERING CAN PINK BUNNY       6.0   \n",
       "1    561645     23166      MEDIUM CERAMIC TOP STORAGE JAR      12.0   \n",
       "2    568651     20985                    HEART CALCULATOR      12.0   \n",
       "3    541711     22772  PINK DRAWER KNOB ACRYLIC EDWARDIAN      24.0   \n",
       "4    554134     21154           RED RETROSPOT OVEN GLOVE       10.0   \n",
       "\n",
       "       InvoiceDate  UnitPrice  CustomerID      Country  \n",
       "0  8/19/2011 11:46       1.95       12626      Germany  \n",
       "1  7/28/2011 15:16       1.25       14911         EIRE  \n",
       "2  9/28/2011 12:04       1.25       12362      Belgium  \n",
       "3  1/21/2011 11:18       1.25       14646  Netherlands  \n",
       "4   5/23/2011 9:48       1.25       12583       France  "
      ]
     },
     "execution_count": 1,
     "metadata": {},
     "output_type": "execute_result"
    }
   ],
   "source": [
    "import pandas as pd\n",
    "import numpy as np\n",
    "\n",
    "df1 = pd.read_csv(\"C:/Users/LG/Desktop/0721/problem1.csv\")\n",
    "df1.head()"
   ]
  },
  {
   "cell_type": "code",
   "execution_count": 2,
   "metadata": {},
   "outputs": [
    {
     "name": "stdout",
     "output_type": "stream",
     "text": [
      "<class 'pandas.core.frame.DataFrame'>\n",
      "RangeIndex: 35801 entries, 0 to 35800\n",
      "Data columns (total 8 columns):\n",
      " #   Column       Non-Null Count  Dtype  \n",
      "---  ------       --------------  -----  \n",
      " 0   InvoiceNo    35801 non-null  object \n",
      " 1   StockCode    35801 non-null  object \n",
      " 2   Description  35801 non-null  object \n",
      " 3   Quantity     35776 non-null  float64\n",
      " 4   InvoiceDate  35801 non-null  object \n",
      " 5   UnitPrice    35704 non-null  float64\n",
      " 6   CustomerID   35801 non-null  int64  \n",
      " 7   Country      35801 non-null  object \n",
      "dtypes: float64(2), int64(1), object(5)\n",
      "memory usage: 2.2+ MB\n"
     ]
    }
   ],
   "source": [
    "df1.info()"
   ]
  },
  {
   "cell_type": "code",
   "execution_count": 3,
   "metadata": {},
   "outputs": [],
   "source": [
    "df1['InvoiceDate'] = pd.to_datetime(df1['InvoiceDate'])"
   ]
  },
  {
   "cell_type": "markdown",
   "metadata": {},
   "source": [
    "#### 1-1. 결측치를 확인하고, 결측치 제거할 것"
   ]
  },
  {
   "cell_type": "code",
   "execution_count": 4,
   "metadata": {},
   "outputs": [],
   "source": [
    "# !pip install pandas_profiling\n",
    "df1.isna().sum()\n",
    "df1 = df1.dropna()"
   ]
  },
  {
   "cell_type": "markdown",
   "metadata": {},
   "source": [
    "#### 1-2. 이상치 제거하는 방법을 설명하고, 이상치 제거하고 난 결과를 통계적으로 나타낼 것"
   ]
  },
  {
   "cell_type": "code",
   "execution_count": 25,
   "metadata": {},
   "outputs": [
    {
     "data": {
      "image/png": "[encoded data removed]",
      "text/plain": [
       "<Figure size 432x288 with 1 Axes>"
      ]
     },
     "metadata": {
      "needs_background": "light"
     },
     "output_type": "display_data"
    }
   ],
   "source": [
    "## 카테고리 박스플랏\n",
    "# import seaborn as sns\n",
    "# import matplotlib.pyplot as plt\n",
    "# StockCode_bar = df1['StockCode'].value_counts()\n",
    "# plt.bar(StockCode_bar.index, StockCode_bar.values, bottom=None, align='center')\n",
    "# plt.show()"
   ]
  },
  {
   "cell_type": "code",
   "execution_count": 44,
   "metadata": {},
   "outputs": [
    {
     "data": {
      "image/png": "[encoded data removed]",
      "text/plain": [
       "<Figure size 432x288 with 1 Axes>"
      ]
     },
     "metadata": {
      "needs_background": "light"
     },
     "output_type": "display_data"
    }
   ],
   "source": [
    "plt.boxplot(df1['Quantity'])\n",
    "plt.show()"
   ]
  },
  {
   "cell_type": "code",
   "execution_count": 45,
   "metadata": {},
   "outputs": [
    {
     "data": {
      "image/png": "[encoded data removed]",
      "text/plain": [
       "<Figure size 432x288 with 1 Axes>"
      ]
     },
     "metadata": {
      "needs_background": "light"
     },
     "output_type": "display_data"
    }
   ],
   "source": [
    "# outlier 제거\n",
    "plt.boxplot(df1['UnitPrice'])\n",
    "plt.show()"
   ]
  },
  {
   "cell_type": "code",
   "execution_count": 62,
   "metadata": {},
   "outputs": [],
   "source": [
    "def outliers_iqr(dt, col):\n",
    "    q1, q3 = np.percentile(dt[col], [25,75])\n",
    "    iqr = q3-q1\n",
    "    lower_whis = q1 - (iqr*1.5)\n",
    "    upper_whis = q3 + (iqr*1.5)\n",
    "    outliers = dt[(dt[col] > upper_whis) | (dt[col] < lower_whis)]\n",
    "    return outliers[[col]]"
   ]
  },
  {
   "cell_type": "code",
   "execution_count": 89,
   "metadata": {},
   "outputs": [
    {
     "data": {
      "text/plain": [
       "289"
      ]
     },
     "execution_count": 89,
     "metadata": {},
     "output_type": "execute_result"
    }
   ],
   "source": [
    "df1.CustomerID.nunique()"
   ]
  },
  {
   "cell_type": "code",
   "execution_count": 5,
   "metadata": {},
   "outputs": [
    {
     "name": "stdout",
     "output_type": "stream",
     "text": [
      "2010년 12월\n",
      "2011년 1월\n",
      "2011년 2월\n",
      "2011년 3월\n",
      "2011년 4월\n",
      "2011년 5월\n",
      "2011년 6월\n",
      "2011년 7월\n",
      "2011년 8월\n",
      "2011년 9월\n",
      "2011년 10월\n",
      "2011년 11월\n",
      "2011년 12월\n"
     ]
    }
   ],
   "source": [
    "## 기간 보기 \n",
    "df1['InvoiceDate'] = pd.to_datetime(df1['InvoiceDate']) ## 문자열로된 날짜를 Timestamp형식으로 변환\n",
    " \n",
    "set_of_year_month = list(set([(x.year, x.month) for x in df1['InvoiceDate']])) ## 송장날짜에서 연도와 월정보를 가져온다.\n",
    "for ym in sorted(set_of_year_month, key=lambda x: (x[0], x[1])): ## 연도와 월정보를 연도, 월 순으로 출력 \n",
    "    print(f'{ym[0]}년 {ym[1]}월')"
   ]
  },
  {
   "cell_type": "code",
   "execution_count": 6,
   "metadata": {},
   "outputs": [
    {
     "data": {
      "text/plain": [
       "<Figure size 800x800 with 1 Axes>"
      ]
     },
     "metadata": {},
     "output_type": "display_data"
    }
   ],
   "source": [
    "import matplotlib.pyplot as plt\n",
    "import seaborn as sns\n",
    "from collections import Counter\n",
    " \n",
    "nation_data = Counter(df1['Country']).most_common() ## 데이터 개수가 많은 순으로 출력\n",
    "nation_data = nation_data[:5] ## 상위 5개만 저장\n",
    " \n",
    "data = [x[1] for x in nation_data] ## 데이터 개수\n",
    "nations = [x[0] for x in nation_data] ## 국가\n",
    " \n",
    "## 수평 바차트에서 데이터 개수와 나라를 맨위로 출력하기 위해서 리스트 순서를 바꿈\n",
    "nations.reverse()\n",
    "data.reverse()\n",
    " \n",
    "## 시각화\n",
    "fig =plt.figure(figsize=(8,8))\n",
    " \n",
    "fig.set_facecolor('white') ## 캔버스 색깔\n",
    "colors = sns.color_palette('hls',len(data)) ## color 생성\n",
    "plt.yticks(fontsize=15) # y축 눈금 라벨 폰트사이즈 설정\n",
    "plt.xticks(fontsize=12) # x축 눈금 라벨 폰트사이즈 설정\n",
    " \n",
    "plt.barh(nations, data, color=colors,alpha=0.6,edgecolor='k') ## 수평바차트 생성\n",
    "plt.show()"
   ]
  },
  {
   "cell_type": "code",
   "execution_count": 7,
   "metadata": {},
   "outputs": [],
   "source": [
    "## 구매 취소 데이터 삭제\n",
    "df1 = df1.query('InvoiceNo.str.get(0) != \"C\"')"
   ]
  },
  {
   "cell_type": "code",
   "execution_count": 8,
   "metadata": {},
   "outputs": [],
   "source": [
    "## 고객별 최근 방문일, 방문횟수, 구매금액 기준으로 점수 구하기\n",
    "# 고객별 구매금액\n",
    "df1['Monetary'] = df1['UnitPrice']*df1['Quantity']\n",
    "고객구매금액 = df1[['CustomerID','Monetary']].groupby('CustomerID').agg('sum').reset_index()\n",
    "고객최근방문일 = df1[['CustomerID','InvoiceDate']].groupby('CustomerID').agg('max').reset_index().rename(columns={'InvoiceDate':'Recency'})\n",
    "\n",
    "고객방문횟수 = df1[['CustomerID','InvoiceNo']].drop_duplicates()\\\n",
    ".groupby('CustomerID')['InvoiceNo'].count().reset_index()\\\n",
    ".rename(columns={'InvoiceNo':'Frequency'})\n",
    "\n",
    "rfm_df = pd.merge(고객구매금액,고객최근방문일, how ='left',on ='CustomerID')\n",
    "rfm_df = pd.merge(rfm_df,고객방문횟수, how ='left',on ='CustomerID')"
   ]
  },
  {
   "cell_type": "code",
   "execution_count": 9,
   "metadata": {},
   "outputs": [
    {
     "data": {
      "text/html": [
       "<div>\n",
       "<style scoped>\n",
       "    .dataframe tbody tr th:only-of-type {\n",
       "        vertical-align: middle;\n",
       "    }\n",
       "\n",
       "    .dataframe tbody tr th {\n",
       "        vertical-align: top;\n",
       "    }\n",
       "\n",
       "    .dataframe thead th {\n",
       "        text-align: right;\n",
       "    }\n",
       "</style>\n",
       "<table border=\"1\" class=\"dataframe\">\n",
       "  <thead>\n",
       "    <tr style=\"text-align: right;\">\n",
       "      <th></th>\n",
       "      <th>CustomerID</th>\n",
       "      <th>Monetary</th>\n",
       "      <th>Recency</th>\n",
       "      <th>Frequency</th>\n",
       "    </tr>\n",
       "  </thead>\n",
       "  <tbody>\n",
       "    <tr>\n",
       "      <th>0</th>\n",
       "      <td>12354</td>\n",
       "      <td>1062.80</td>\n",
       "      <td>2011-04-21 13:11:00</td>\n",
       "      <td>1</td>\n",
       "    </tr>\n",
       "    <tr>\n",
       "      <th>1</th>\n",
       "      <td>12356</td>\n",
       "      <td>2811.43</td>\n",
       "      <td>2011-11-17 08:40:00</td>\n",
       "      <td>3</td>\n",
       "    </tr>\n",
       "    <tr>\n",
       "      <th>2</th>\n",
       "      <td>12357</td>\n",
       "      <td>6207.67</td>\n",
       "      <td>2011-11-06 16:07:00</td>\n",
       "      <td>1</td>\n",
       "    </tr>\n",
       "    <tr>\n",
       "      <th>3</th>\n",
       "      <td>12361</td>\n",
       "      <td>189.90</td>\n",
       "      <td>2011-02-25 13:51:00</td>\n",
       "      <td>1</td>\n",
       "    </tr>\n",
       "    <tr>\n",
       "      <th>4</th>\n",
       "      <td>12362</td>\n",
       "      <td>5195.93</td>\n",
       "      <td>2011-12-06 15:40:00</td>\n",
       "      <td>10</td>\n",
       "    </tr>\n",
       "    <tr>\n",
       "      <th>...</th>\n",
       "      <td>...</td>\n",
       "      <td>...</td>\n",
       "      <td>...</td>\n",
       "      <td>...</td>\n",
       "    </tr>\n",
       "    <tr>\n",
       "      <th>282</th>\n",
       "      <td>14277</td>\n",
       "      <td>4216.20</td>\n",
       "      <td>2011-11-24 15:01:00</td>\n",
       "      <td>3</td>\n",
       "    </tr>\n",
       "    <tr>\n",
       "      <th>283</th>\n",
       "      <td>14335</td>\n",
       "      <td>468.26</td>\n",
       "      <td>2011-11-23 13:41:00</td>\n",
       "      <td>2</td>\n",
       "    </tr>\n",
       "    <tr>\n",
       "      <th>284</th>\n",
       "      <td>14646</td>\n",
       "      <td>279767.61</td>\n",
       "      <td>2011-12-08 12:12:00</td>\n",
       "      <td>74</td>\n",
       "    </tr>\n",
       "    <tr>\n",
       "      <th>285</th>\n",
       "      <td>14911</td>\n",
       "      <td>143271.49</td>\n",
       "      <td>2011-12-08 15:54:00</td>\n",
       "      <td>201</td>\n",
       "    </tr>\n",
       "    <tr>\n",
       "      <th>286</th>\n",
       "      <td>17097</td>\n",
       "      <td>939.37</td>\n",
       "      <td>2011-12-07 17:05:00</td>\n",
       "      <td>8</td>\n",
       "    </tr>\n",
       "  </tbody>\n",
       "</table>\n",
       "<p>287 rows × 4 columns</p>\n",
       "</div>"
      ],
      "text/plain": [
       "     CustomerID   Monetary             Recency  Frequency\n",
       "0         12354    1062.80 2011-04-21 13:11:00          1\n",
       "1         12356    2811.43 2011-11-17 08:40:00          3\n",
       "2         12357    6207.67 2011-11-06 16:07:00          1\n",
       "3         12361     189.90 2011-02-25 13:51:00          1\n",
       "4         12362    5195.93 2011-12-06 15:40:00         10\n",
       "..          ...        ...                 ...        ...\n",
       "282       14277    4216.20 2011-11-24 15:01:00          3\n",
       "283       14335     468.26 2011-11-23 13:41:00          2\n",
       "284       14646  279767.61 2011-12-08 12:12:00         74\n",
       "285       14911  143271.49 2011-12-08 15:54:00        201\n",
       "286       17097     939.37 2011-12-07 17:05:00          8\n",
       "\n",
       "[287 rows x 4 columns]"
      ]
     },
     "execution_count": 9,
     "metadata": {},
     "output_type": "execute_result"
    }
   ],
   "source": [
    "rfm_df"
   ]
  },
  {
   "cell_type": "code",
   "execution_count": 10,
   "metadata": {},
   "outputs": [
    {
     "data": {
      "text/plain": [
       "0     2011-04-21 13:11:00\n",
       "1     2011-11-17 08:40:00\n",
       "2     2011-11-06 16:07:00\n",
       "3     2011-02-25 13:51:00\n",
       "4     2011-12-06 15:40:00\n",
       "              ...        \n",
       "282   2011-11-24 15:01:00\n",
       "283   2011-11-23 13:41:00\n",
       "284   2011-12-08 12:12:00\n",
       "285   2011-12-08 15:54:00\n",
       "286   2011-12-07 17:05:00\n",
       "Name: Recency, Length: 287, dtype: datetime64[ns]"
      ]
     },
     "execution_count": 10,
     "metadata": {},
     "output_type": "execute_result"
    }
   ],
   "source": [
    "rfm_df['Recency']"
   ]
  },
  {
   "cell_type": "code",
   "execution_count": 11,
   "metadata": {},
   "outputs": [],
   "source": [
    "## 최근구매시간 변환 : 현재일자 기준으로 가장 가까울수록 큰값\n",
    "\n",
    "current_day = pd.to_datetime('20110101')\n",
    "time_diff = rfm_df['Recency']-current_day\n",
    "time_in_seconds = [x.total_seconds() for x in time_diff] # 시간차이를 초단위로 계산\n",
    "\n",
    "rfm_df['Recency'] = time_in_seconds"
   ]
  },
  {
   "cell_type": "code",
   "execution_count": 28,
   "metadata": {},
   "outputs": [
    {
     "data": {
      "text/html": [
       "<div>\n",
       "<style scoped>\n",
       "    .dataframe tbody tr th:only-of-type {\n",
       "        vertical-align: middle;\n",
       "    }\n",
       "\n",
       "    .dataframe tbody tr th {\n",
       "        vertical-align: top;\n",
       "    }\n",
       "\n",
       "    .dataframe thead th {\n",
       "        text-align: right;\n",
       "    }\n",
       "</style>\n",
       "<table border=\"1\" class=\"dataframe\">\n",
       "  <thead>\n",
       "    <tr style=\"text-align: right;\">\n",
       "      <th></th>\n",
       "      <th>CustomerID</th>\n",
       "      <th>Monetary</th>\n",
       "      <th>Recency</th>\n",
       "      <th>Frequency</th>\n",
       "    </tr>\n",
       "  </thead>\n",
       "  <tbody>\n",
       "    <tr>\n",
       "      <th>0</th>\n",
       "      <td>12354</td>\n",
       "      <td>1062.80</td>\n",
       "      <td>9551460.0</td>\n",
       "      <td>1</td>\n",
       "    </tr>\n",
       "    <tr>\n",
       "      <th>1</th>\n",
       "      <td>12356</td>\n",
       "      <td>2811.43</td>\n",
       "      <td>27679200.0</td>\n",
       "      <td>3</td>\n",
       "    </tr>\n",
       "    <tr>\n",
       "      <th>2</th>\n",
       "      <td>12357</td>\n",
       "      <td>6207.67</td>\n",
       "      <td>26755620.0</td>\n",
       "      <td>1</td>\n",
       "    </tr>\n",
       "    <tr>\n",
       "      <th>3</th>\n",
       "      <td>12361</td>\n",
       "      <td>189.90</td>\n",
       "      <td>4801860.0</td>\n",
       "      <td>1</td>\n",
       "    </tr>\n",
       "    <tr>\n",
       "      <th>4</th>\n",
       "      <td>12362</td>\n",
       "      <td>5195.93</td>\n",
       "      <td>29346000.0</td>\n",
       "      <td>10</td>\n",
       "    </tr>\n",
       "    <tr>\n",
       "      <th>...</th>\n",
       "      <td>...</td>\n",
       "      <td>...</td>\n",
       "      <td>...</td>\n",
       "      <td>...</td>\n",
       "    </tr>\n",
       "    <tr>\n",
       "      <th>282</th>\n",
       "      <td>14277</td>\n",
       "      <td>4216.20</td>\n",
       "      <td>28306860.0</td>\n",
       "      <td>3</td>\n",
       "    </tr>\n",
       "    <tr>\n",
       "      <th>283</th>\n",
       "      <td>14335</td>\n",
       "      <td>468.26</td>\n",
       "      <td>28215660.0</td>\n",
       "      <td>2</td>\n",
       "    </tr>\n",
       "    <tr>\n",
       "      <th>284</th>\n",
       "      <td>14646</td>\n",
       "      <td>279767.61</td>\n",
       "      <td>29506320.0</td>\n",
       "      <td>74</td>\n",
       "    </tr>\n",
       "    <tr>\n",
       "      <th>285</th>\n",
       "      <td>14911</td>\n",
       "      <td>143271.49</td>\n",
       "      <td>29519640.0</td>\n",
       "      <td>201</td>\n",
       "    </tr>\n",
       "    <tr>\n",
       "      <th>286</th>\n",
       "      <td>17097</td>\n",
       "      <td>939.37</td>\n",
       "      <td>29437500.0</td>\n",
       "      <td>8</td>\n",
       "    </tr>\n",
       "  </tbody>\n",
       "</table>\n",
       "<p>287 rows × 4 columns</p>\n",
       "</div>"
      ],
      "text/plain": [
       "     CustomerID   Monetary     Recency  Frequency\n",
       "0         12354    1062.80   9551460.0          1\n",
       "1         12356    2811.43  27679200.0          3\n",
       "2         12357    6207.67  26755620.0          1\n",
       "3         12361     189.90   4801860.0          1\n",
       "4         12362    5195.93  29346000.0         10\n",
       "..          ...        ...         ...        ...\n",
       "282       14277    4216.20  28306860.0          3\n",
       "283       14335     468.26  28215660.0          2\n",
       "284       14646  279767.61  29506320.0         74\n",
       "285       14911  143271.49  29519640.0        201\n",
       "286       17097     939.37  29437500.0          8\n",
       "\n",
       "[287 rows x 4 columns]"
      ]
     },
     "execution_count": 28,
     "metadata": {},
     "output_type": "execute_result"
    }
   ],
   "source": [
    "rfm_df"
   ]
  },
  {
   "cell_type": "markdown",
   "metadata": {},
   "source": [
    "#### 1-3 전처리한 데이터로 Kmeans, DBSCAN 등 방법으로 군집을 생성하고 더 좋은 모델을 선택하라"
   ]
  },
  {
   "cell_type": "code",
   "execution_count": 45,
   "metadata": {},
   "outputs": [
    {
     "name": "stderr",
     "output_type": "stream",
     "text": [
      "C:\\ProgramData\\Anaconda3\\lib\\site-packages\\sklearn\\cluster\\_kmeans.py:1037: UserWarning: KMeans is known to have a memory leak on Windows with MKL, when there are less chunks than available threads. You can avoid it by setting the environment variable OMP_NUM_THREADS=2.\n",
      "  \"KMeans is known to have a memory leak on Windows \"\n"
     ]
    },
    {
     "data": {
      "image/png": "[encoded data removed]",
      "text/plain": [
       "<Figure size 432x288 with 1 Axes>"
      ]
     },
     "metadata": {
      "needs_background": "light"
     },
     "output_type": "display_data"
    }
   ],
   "source": [
    "from sklearn.cluster import KMeans\n",
    "\n",
    "x_monetary = np.array(rfm_df[['Monetary']]).reshape(-1,1)\n",
    "inertia = []\n",
    "for i in range(1,11):\n",
    "    kmeans_plus = KMeans(n_clusters=i, init='k-means++')\n",
    "    kmeans_plus.fit(x_monetary)\n",
    "    inertia.append(kmeans_plus.inertia_)\n",
    "\n",
    "plt.plot(range(1,11), inertia)\n",
    "plt.xlabel('number of clusters')\n",
    "plt.ylabel('inertia')\n",
    "plt.show()"
   ]
  },
  {
   "cell_type": "code",
   "execution_count": 30,
   "metadata": {},
   "outputs": [
    {
     "name": "stderr",
     "output_type": "stream",
     "text": [
      "C:\\ProgramData\\Anaconda3\\lib\\site-packages\\sklearn\\cluster\\_kmeans.py:1037: UserWarning: KMeans is known to have a memory leak on Windows with MKL, when there are less chunks than available threads. You can avoid it by setting the environment variable OMP_NUM_THREADS=2.\n",
      "  \"KMeans is known to have a memory leak on Windows \"\n"
     ]
    },
    {
     "data": {
      "image/png": "[encoded data removed]",
      "text/plain": [
       "<Figure size 432x288 with 1 Axes>"
      ]
     },
     "metadata": {
      "needs_background": "light"
     },
     "output_type": "display_data"
    }
   ],
   "source": [
    "from sklearn.cluster import KMeans\n",
    "\n",
    "x_recency = np.array(rfm_df[['Recency']]).reshape(-1,1)\n",
    "inertia = []\n",
    "for i in range(1,11):\n",
    "    kmeans_plus = KMeans(n_clusters=i, init='k-means++')\n",
    "    kmeans_plus.fit(x_recency)\n",
    "    inertia.append(kmeans_plus.inertia_)\n",
    "\n",
    "plt.plot(range(1,11), inertia)\n",
    "plt.xlabel('number of clusters')\n",
    "plt.ylabel('inertia')\n",
    "plt.show()"
   ]
  },
  {
   "cell_type": "code",
   "execution_count": 31,
   "metadata": {},
   "outputs": [
    {
     "name": "stderr",
     "output_type": "stream",
     "text": [
      "C:\\ProgramData\\Anaconda3\\lib\\site-packages\\sklearn\\cluster\\_kmeans.py:1037: UserWarning: KMeans is known to have a memory leak on Windows with MKL, when there are less chunks than available threads. You can avoid it by setting the environment variable OMP_NUM_THREADS=2.\n",
      "  \"KMeans is known to have a memory leak on Windows \"\n"
     ]
    },
    {
     "data": {
      "image/png": "[encoded data removed]",
      "text/plain": [
       "<Figure size 432x288 with 1 Axes>"
      ]
     },
     "metadata": {
      "needs_background": "light"
     },
     "output_type": "display_data"
    }
   ],
   "source": [
    "from sklearn.cluster import KMeans\n",
    "\n",
    "x_frequency = np.array(rfm_df[['Frequency']]).reshape(-1,1)\n",
    "inertia = []\n",
    "for i in range(1,11):\n",
    "    kmeans_plus = KMeans(n_clusters=i, init='k-means++')\n",
    "    kmeans_plus.fit(x_frequency)\n",
    "    inertia.append(kmeans_plus.inertia_)\n",
    "\n",
    "plt.plot(range(1,11), inertia)\n",
    "plt.xlabel('number of clusters')\n",
    "plt.ylabel('inertia')\n",
    "plt.show()"
   ]
  },
  {
   "cell_type": "code",
   "execution_count": 32,
   "metadata": {},
   "outputs": [],
   "source": [
    "## 주의: x_feature 데이터프레임 과 cluster저장할 테이블 분리해서 사용하기!\n",
    "from sklearn.metrics import silhouette_score, silhouette_samples\n",
    "# x_monetary\n",
    "# x_recency\n",
    "# x_frequency\n",
    "\n",
    "M_X_feature = pd.DataFrame(x_monetary) # 학습데이터 2d array로 해줘야함\n",
    "M_df_cluster = M_X_feature\n",
    "\n",
    "M_kmeans = KMeans(n_clusters=3, random_state=42)\n",
    "M_kmeans.fit(M_df_cluster)\n",
    "rfm_df['M_cluster'] = M_kmeans.labels_\n",
    "\n",
    "\n",
    "R_X_feature = pd.DataFrame(x_recency) # 학습데이터 2d array로 해줘야함\n",
    "R_df_cluster = R_X_feature\n",
    "\n",
    "R_kmeans = KMeans(n_clusters=3, random_state=42)\n",
    "R_kmeans.fit(R_df_cluster)\n",
    "rfm_df['R_cluster'] = R_kmeans.labels_\n",
    "\n",
    "\n",
    "\n",
    "F_X_feature = pd.DataFrame(x_frequency) # 학습데이터 2d array로 해줘야함\n",
    "F_df_cluster = F_X_feature\n",
    "\n",
    "F_kmeans = KMeans(n_clusters=3, random_state=42)\n",
    "F_kmeans.fit(F_df_cluster)\n",
    "rfm_df['F_cluster'] = F_kmeans.labels_\n"
   ]
  },
  {
   "cell_type": "code",
   "execution_count": 33,
   "metadata": {},
   "outputs": [
    {
     "data": {
      "text/html": [
       "<div>\n",
       "<style scoped>\n",
       "    .dataframe tbody tr th:only-of-type {\n",
       "        vertical-align: middle;\n",
       "    }\n",
       "\n",
       "    .dataframe tbody tr th {\n",
       "        vertical-align: top;\n",
       "    }\n",
       "\n",
       "    .dataframe thead th {\n",
       "        text-align: right;\n",
       "    }\n",
       "</style>\n",
       "<table border=\"1\" class=\"dataframe\">\n",
       "  <thead>\n",
       "    <tr style=\"text-align: right;\">\n",
       "      <th></th>\n",
       "      <th>CustomerID</th>\n",
       "      <th>Monetary</th>\n",
       "      <th>Recency</th>\n",
       "      <th>Frequency</th>\n",
       "      <th>M_cluster</th>\n",
       "      <th>R_cluster</th>\n",
       "      <th>F_cluster</th>\n",
       "    </tr>\n",
       "  </thead>\n",
       "  <tbody>\n",
       "    <tr>\n",
       "      <th>0</th>\n",
       "      <td>12354</td>\n",
       "      <td>1062.80</td>\n",
       "      <td>9551460.0</td>\n",
       "      <td>1</td>\n",
       "      <td>0</td>\n",
       "      <td>0</td>\n",
       "      <td>0</td>\n",
       "    </tr>\n",
       "    <tr>\n",
       "      <th>1</th>\n",
       "      <td>12356</td>\n",
       "      <td>2811.43</td>\n",
       "      <td>27679200.0</td>\n",
       "      <td>3</td>\n",
       "      <td>0</td>\n",
       "      <td>1</td>\n",
       "      <td>0</td>\n",
       "    </tr>\n",
       "    <tr>\n",
       "      <th>2</th>\n",
       "      <td>12357</td>\n",
       "      <td>6207.67</td>\n",
       "      <td>26755620.0</td>\n",
       "      <td>1</td>\n",
       "      <td>0</td>\n",
       "      <td>1</td>\n",
       "      <td>0</td>\n",
       "    </tr>\n",
       "    <tr>\n",
       "      <th>3</th>\n",
       "      <td>12361</td>\n",
       "      <td>189.90</td>\n",
       "      <td>4801860.0</td>\n",
       "      <td>1</td>\n",
       "      <td>0</td>\n",
       "      <td>2</td>\n",
       "      <td>0</td>\n",
       "    </tr>\n",
       "    <tr>\n",
       "      <th>4</th>\n",
       "      <td>12362</td>\n",
       "      <td>5195.93</td>\n",
       "      <td>29346000.0</td>\n",
       "      <td>10</td>\n",
       "      <td>0</td>\n",
       "      <td>1</td>\n",
       "      <td>0</td>\n",
       "    </tr>\n",
       "    <tr>\n",
       "      <th>...</th>\n",
       "      <td>...</td>\n",
       "      <td>...</td>\n",
       "      <td>...</td>\n",
       "      <td>...</td>\n",
       "      <td>...</td>\n",
       "      <td>...</td>\n",
       "      <td>...</td>\n",
       "    </tr>\n",
       "    <tr>\n",
       "      <th>282</th>\n",
       "      <td>14277</td>\n",
       "      <td>4216.20</td>\n",
       "      <td>28306860.0</td>\n",
       "      <td>3</td>\n",
       "      <td>0</td>\n",
       "      <td>1</td>\n",
       "      <td>0</td>\n",
       "    </tr>\n",
       "    <tr>\n",
       "      <th>283</th>\n",
       "      <td>14335</td>\n",
       "      <td>468.26</td>\n",
       "      <td>28215660.0</td>\n",
       "      <td>2</td>\n",
       "      <td>0</td>\n",
       "      <td>1</td>\n",
       "      <td>0</td>\n",
       "    </tr>\n",
       "    <tr>\n",
       "      <th>284</th>\n",
       "      <td>14646</td>\n",
       "      <td>279767.61</td>\n",
       "      <td>29506320.0</td>\n",
       "      <td>74</td>\n",
       "      <td>1</td>\n",
       "      <td>1</td>\n",
       "      <td>2</td>\n",
       "    </tr>\n",
       "    <tr>\n",
       "      <th>285</th>\n",
       "      <td>14911</td>\n",
       "      <td>143271.49</td>\n",
       "      <td>29519640.0</td>\n",
       "      <td>201</td>\n",
       "      <td>2</td>\n",
       "      <td>1</td>\n",
       "      <td>1</td>\n",
       "    </tr>\n",
       "    <tr>\n",
       "      <th>286</th>\n",
       "      <td>17097</td>\n",
       "      <td>939.37</td>\n",
       "      <td>29437500.0</td>\n",
       "      <td>8</td>\n",
       "      <td>0</td>\n",
       "      <td>1</td>\n",
       "      <td>0</td>\n",
       "    </tr>\n",
       "  </tbody>\n",
       "</table>\n",
       "<p>287 rows × 7 columns</p>\n",
       "</div>"
      ],
      "text/plain": [
       "     CustomerID   Monetary     Recency  Frequency  M_cluster  R_cluster  \\\n",
       "0         12354    1062.80   9551460.0          1          0          0   \n",
       "1         12356    2811.43  27679200.0          3          0          1   \n",
       "2         12357    6207.67  26755620.0          1          0          1   \n",
       "3         12361     189.90   4801860.0          1          0          2   \n",
       "4         12362    5195.93  29346000.0         10          0          1   \n",
       "..          ...        ...         ...        ...        ...        ...   \n",
       "282       14277    4216.20  28306860.0          3          0          1   \n",
       "283       14335     468.26  28215660.0          2          0          1   \n",
       "284       14646  279767.61  29506320.0         74          1          1   \n",
       "285       14911  143271.49  29519640.0        201          2          1   \n",
       "286       17097     939.37  29437500.0          8          0          1   \n",
       "\n",
       "     F_cluster  \n",
       "0            0  \n",
       "1            0  \n",
       "2            0  \n",
       "3            0  \n",
       "4            0  \n",
       "..         ...  \n",
       "282          0  \n",
       "283          0  \n",
       "284          2  \n",
       "285          1  \n",
       "286          0  \n",
       "\n",
       "[287 rows x 7 columns]"
      ]
     },
     "execution_count": 33,
     "metadata": {},
     "output_type": "execute_result"
    }
   ],
   "source": [
    "rfm_df"
   ]
  },
  {
   "cell_type": "markdown",
   "metadata": {},
   "source": [
    "### 2번\n",
    "#### 2-1. 위에서 생성한 군집들의 특성을 분석할 것"
   ]
  },
  {
   "cell_type": "markdown",
   "metadata": {},
   "source": [
    "#### 2-2. 각 군집 별 대표 추천 상품을 도출할 것"
   ]
  },
  {
   "cell_type": "markdown",
   "metadata": {},
   "source": [
    "#### 2-3. CustomerID가 12413인 고객을 대상으로 KNN을 이용하여 추천할 상품을 제시해라"
   ]
  },
  {
   "cell_type": "code",
   "execution_count": 164,
   "metadata": {},
   "outputs": [
    {
     "data": {
      "text/html": [
       "<div>\n",
       "<style scoped>\n",
       "    .dataframe tbody tr th:only-of-type {\n",
       "        vertical-align: middle;\n",
       "    }\n",
       "\n",
       "    .dataframe tbody tr th {\n",
       "        vertical-align: top;\n",
       "    }\n",
       "\n",
       "    .dataframe thead th {\n",
       "        text-align: right;\n",
       "    }\n",
       "</style>\n",
       "<table border=\"1\" class=\"dataframe\">\n",
       "  <thead>\n",
       "    <tr style=\"text-align: right;\">\n",
       "      <th></th>\n",
       "      <th>CustomerID</th>\n",
       "      <th>Monetary</th>\n",
       "      <th>Recency</th>\n",
       "      <th>Frequency</th>\n",
       "      <th>M_cluster</th>\n",
       "      <th>R_cluster</th>\n",
       "      <th>F_cluster</th>\n",
       "    </tr>\n",
       "  </thead>\n",
       "  <tbody>\n",
       "    <tr>\n",
       "      <th>25</th>\n",
       "      <td>12413</td>\n",
       "      <td>758.1</td>\n",
       "      <td>23878800.0</td>\n",
       "      <td>3</td>\n",
       "      <td>0</td>\n",
       "      <td>1</td>\n",
       "      <td>0</td>\n",
       "    </tr>\n",
       "  </tbody>\n",
       "</table>\n",
       "</div>"
      ],
      "text/plain": [
       "    CustomerID  Monetary     Recency  Frequency  M_cluster  R_cluster  \\\n",
       "25       12413     758.1  23878800.0          3          0          1   \n",
       "\n",
       "    F_cluster  \n",
       "25          0  "
      ]
     },
     "execution_count": 164,
     "metadata": {},
     "output_type": "execute_result"
    }
   ],
   "source": [
    "rfm_df[rfm_df['CustomerID']==12413]"
   ]
  },
  {
   "cell_type": "markdown",
   "metadata": {},
   "source": [
    "# 통계\n",
    "\n",
    "### 3. 철강제품의 불량률을 조사하고자 한다. 이 때, 불량률의 90% 추정오차한계가 5% 이내가 되기 위하여 적절한 표본의 크기 중 최소값은 얼마인가?"
   ]
  },
  {
   "cell_type": "code",
   "execution_count": 39,
   "metadata": {},
   "outputs": [
    {
     "data": {
      "text/plain": [
       "270.60249999999996"
      ]
     },
     "execution_count": 39,
     "metadata": {},
     "output_type": "execute_result"
    }
   ],
   "source": [
    "# z(90%)*sqrt(n)/sigma <= 0.05\n",
    "# (z90%*sigma/0.05) ** 2 = n\n",
    "sigma = np.sqrt(0.5*0.5)\n",
    "(1.645 * sigma / 0.05) ** 2"
   ]
  },
  {
   "cell_type": "markdown",
   "metadata": {},
   "source": [
    "### 4. A초등학교 남학생 16명과 여학생 9명의 혈압을 측정한 problem4.csv파일을 가지고 남녀학생의 평균 혈압에 차이가 없는지 분석하라. 단, 남학생과 여학생의 혈압 데이터는 정규분포를 따르며 등분산임을 가정한다."
   ]
  },
  {
   "cell_type": "code",
   "execution_count": 13,
   "metadata": {},
   "outputs": [
    {
     "data": {
      "text/html": [
       "<div>\n",
       "<style scoped>\n",
       "    .dataframe tbody tr th:only-of-type {\n",
       "        vertical-align: middle;\n",
       "    }\n",
       "\n",
       "    .dataframe tbody tr th {\n",
       "        vertical-align: top;\n",
       "    }\n",
       "\n",
       "    .dataframe thead th {\n",
       "        text-align: right;\n",
       "    }\n",
       "</style>\n",
       "<table border=\"1\" class=\"dataframe\">\n",
       "  <thead>\n",
       "    <tr style=\"text-align: right;\">\n",
       "      <th></th>\n",
       "      <th>gender</th>\n",
       "      <th>pressure</th>\n",
       "    </tr>\n",
       "  </thead>\n",
       "  <tbody>\n",
       "    <tr>\n",
       "      <th>0</th>\n",
       "      <td>male</td>\n",
       "      <td>106.8</td>\n",
       "    </tr>\n",
       "    <tr>\n",
       "      <th>1</th>\n",
       "      <td>male</td>\n",
       "      <td>100.8</td>\n",
       "    </tr>\n",
       "    <tr>\n",
       "      <th>2</th>\n",
       "      <td>male</td>\n",
       "      <td>84.5</td>\n",
       "    </tr>\n",
       "    <tr>\n",
       "      <th>3</th>\n",
       "      <td>male</td>\n",
       "      <td>104.2</td>\n",
       "    </tr>\n",
       "    <tr>\n",
       "      <th>4</th>\n",
       "      <td>male</td>\n",
       "      <td>107.0</td>\n",
       "    </tr>\n",
       "  </tbody>\n",
       "</table>\n",
       "</div>"
      ],
      "text/plain": [
       "  gender  pressure\n",
       "0   male     106.8\n",
       "1   male     100.8\n",
       "2   male      84.5\n",
       "3   male     104.2\n",
       "4   male     107.0"
      ]
     },
     "execution_count": 13,
     "metadata": {},
     "output_type": "execute_result"
    }
   ],
   "source": [
    "import ssl\n",
    "import pandas as pd\n",
    "import urllib\n",
    "# context = ssl._create_unverified_context()\n",
    "\n",
    "# url2 = 'https://raw.githubusercontent.com/Ssunbell/ADP_study/main/9주차_0716/data/problem4.csv'\n",
    "# encoded_url2 = urllib.parse.quote(url2, safe=':/')\n",
    "\n",
    "# response = urllib.request.urlopen(encoded_url2, context=context)\n",
    "# df2 = pd.read_csv(response, encoding='utf-8')\n",
    "# df2\n",
    "\n",
    "df2 = pd.read_csv(\"C:/Users/LG/Desktop/0721/problem4.csv\")\n",
    "df2.head()"
   ]
  },
  {
   "cell_type": "markdown",
   "metadata": {},
   "source": [
    "#### 4-1 연구가설과 귀무가설을 설정하라"
   ]
  },
  {
   "cell_type": "code",
   "execution_count": 14,
   "metadata": {},
   "outputs": [],
   "source": [
    "# H0 : 남녀학생 혈압평균 차이 없다\n",
    "# H1 : Not H0    "
   ]
  },
  {
   "cell_type": "markdown",
   "metadata": {},
   "source": [
    "#### 4-2 소수점 2자리 반올림하여 95% 신뢰구간을 구하라. 연구가설 채택여부를 결정하고, 신뢰구간이 연구가설 채택에 어떤 역할을 하는지 설명하라."
   ]
  },
  {
   "cell_type": "code",
   "execution_count": 15,
   "metadata": {},
   "outputs": [
    {
     "data": {
      "text/plain": [
       "Ttest_indResult(statistic=1.598335024574904, pvalue=0.12361716364314851)"
      ]
     },
     "execution_count": 15,
     "metadata": {},
     "output_type": "execute_result"
    }
   ],
   "source": [
    "# ci = x - z0.05*sigma/sqrt(n)\n",
    "import numpy as np\n",
    "from scipy.stats import t, ttest_ind\n",
    "\n",
    "male = df2.loc[df2['gender']=='male','pressure']\n",
    "female = df2.loc[df2['gender']=='female','pressure']\n",
    "\n",
    "ttest_ind(male, female)"
   ]
  },
  {
   "cell_type": "code",
   "execution_count": 16,
   "metadata": {},
   "outputs": [
    {
     "name": "stdout",
     "output_type": "stream",
     "text": [
      "mean:  6.307638888888917 , CI: (-0.7604917620862448, 13.375769539864079)\n"
     ]
    }
   ],
   "source": [
    "# x-y - t0.95*sigma/sqrt(n)\n",
    "mean_diff = np.mean(male)-np.mean(female) \n",
    "sigma_sqrtn = np.sqrt(np.var(male, ddof=1) / len(male) + np.var(female, ddof=1) / len(female))\n",
    "t_stat = t.ppf(0.95, len(male)+len(female)-2) \n",
    "\n",
    "print(\"mean: \", mean_diff, \", CI:\", (mean_diff - t_stat*sigma_sqrtn, mean_diff + t_stat*sigma_sqrtn))\n",
    "\n",
    "## 남녀평균차이가 해당 신뢰구간에 포함될 확률이 95%임, 따라서 0이 포함되므로 평균의 차이가 없다고 볼 수 있음"
   ]
  },
  {
   "cell_type": "markdown",
   "metadata": {},
   "source": [
    "### 5번 아래는 후보A의 선거구별 지지 현황표다. 후보A의 지지율이 선거구별로 차이가 있는지를 검정하라.\n",
    "\n",
    "<img width=\"498\" src=\"https://github.com/Ssunbell/ADP_study/assets/97590480/3b057a61-b1e2-42c7-895d-c3234b866975\">"
   ]
  },
  {
   "cell_type": "markdown",
   "metadata": {},
   "source": [
    "#### 5-1. 귀무가설과 연구가설을 설정하라 "
   ]
  },
  {
   "cell_type": "code",
   "execution_count": null,
   "metadata": {},
   "outputs": [],
   "source": [
    "# H0 : 선거구별로 차이가 없다\n",
    "# H1 : Not H0"
   ]
  },
  {
   "cell_type": "markdown",
   "metadata": {},
   "source": [
    "#### 5-2. 소수점 2자리 반올림하여 통계량을 구하고 95% 수준에서 연구가설 채택여부를 결정하라."
   ]
  },
  {
   "cell_type": "code",
   "execution_count": 70,
   "metadata": {},
   "outputs": [
    {
     "data": {
      "text/html": [
       "<div>\n",
       "<style scoped>\n",
       "    .dataframe tbody tr th:only-of-type {\n",
       "        vertical-align: middle;\n",
       "    }\n",
       "\n",
       "    .dataframe tbody tr th {\n",
       "        vertical-align: top;\n",
       "    }\n",
       "\n",
       "    .dataframe thead th {\n",
       "        text-align: right;\n",
       "    }\n",
       "</style>\n",
       "<table border=\"1\" class=\"dataframe\">\n",
       "  <thead>\n",
       "    <tr style=\"text-align: right;\">\n",
       "      <th></th>\n",
       "      <th>no1</th>\n",
       "      <th>no2</th>\n",
       "      <th>no3</th>\n",
       "    </tr>\n",
       "  </thead>\n",
       "  <tbody>\n",
       "    <tr>\n",
       "      <th>찬성</th>\n",
       "      <td>176</td>\n",
       "      <td>193</td>\n",
       "      <td>159</td>\n",
       "    </tr>\n",
       "    <tr>\n",
       "      <th>반대</th>\n",
       "      <td>124</td>\n",
       "      <td>107</td>\n",
       "      <td>141</td>\n",
       "    </tr>\n",
       "  </tbody>\n",
       "</table>\n",
       "</div>"
      ],
      "text/plain": [
       "    no1  no2  no3\n",
       "찬성  176  193  159\n",
       "반대  124  107  141"
      ]
     },
     "execution_count": 70,
     "metadata": {},
     "output_type": "execute_result"
    }
   ],
   "source": [
    "table = pd.DataFrame({\"no1\":(176,124), \"no2\":(193,107), \"no3\":[159,141]}, index=['찬성','반대'])\n",
    "table"
   ]
  },
  {
   "cell_type": "code",
   "execution_count": 73,
   "metadata": {},
   "outputs": [
    {
     "data": {
      "text/plain": [
       "KstestResult(statistic=0.5, pvalue=1.0)"
      ]
     },
     "execution_count": 73,
     "metadata": {},
     "output_type": "execute_result"
    }
   ],
   "source": [
    "## 1. 정규성 정규성 검정 방법: Shaprio Test\n",
    "# H0: 변수는 정규 분포를 따를 것이다. \n",
    "# H1: 변수는 정규 분포를 따르지 않을 것이다. \n",
    "\n",
    "import scipy.stats as stats\n",
    "# stats.shapiro(table['no1'], table['no2'], table['no3'])\n",
    "stats.kstest(table['no1'], table['no2'], table['no3'])\n",
    "\n",
    "## 기각하지않음. 즉 정규분포 따름"
   ]
  },
  {
   "cell_type": "code",
   "execution_count": 72,
   "metadata": {},
   "outputs": [
    {
     "data": {
      "text/plain": [
       "BartlettResult(statistic=1.2931171926559721, pvalue=0.5238454419251148)"
      ]
     },
     "execution_count": 72,
     "metadata": {},
     "output_type": "execute_result"
    }
   ],
   "source": [
    "# 2.등분산성 가정\n",
    "# 가정의 의미: 각 변수의 분산은 동일한 수준의 분산을 가져야 한다. \n",
    "# 등분산성 검정 방법: Barlett 검정 또는 Levene 방법\n",
    "# H0: 변수 간 분산에 유의미한 차이가 없을 것이다. \n",
    "# H1: 변수 간 분산에 유의미한 차이가 있을 것이다.\n",
    "from scipy.stats import bartlett\n",
    "stats.bartlett(table['no1'], table['no2'], table['no3'])\n",
    "\n",
    "## 유의수준 0.05 에서 기각못함. 변수 간 유의미한 차이 없음"
   ]
  },
  {
   "cell_type": "code",
   "execution_count": null,
   "metadata": {},
   "outputs": [],
   "source": [
    "# 독립성 가정"
   ]
  },
  {
   "cell_type": "code",
   "execution_count": 76,
   "metadata": {},
   "outputs": [
    {
     "data": {
      "text/plain": [
       "F_onewayResult(statistic=0.0, pvalue=1.0)"
      ]
     },
     "execution_count": 76,
     "metadata": {},
     "output_type": "execute_result"
    }
   ],
   "source": [
    "# 아노바 테스트\n",
    "stats.f_oneway(table['no1'], table['no2'], table['no3'])\n",
    "## --> 선거구별로 차이가 없다"
   ]
  },
  {
   "cell_type": "markdown",
   "metadata": {},
   "source": [
    "### 6. 1월 ~9월까지 9개월간의 국제 Silver 가격이 다음과 같다. \n",
    "\n",
    "<img width=\"463\" src=\"https://github.com/Ssunbell/ADP_study/assets/97590480/ebcaf02c-2ef9-47c5-aed1-4514d3e01370\">"
   ]
  },
  {
   "cell_type": "markdown",
   "metadata": {},
   "source": [
    "#### 6-1. 1월 대비 9월의 은값 상승률을 소수점 2자리 반올림하여 구하라 "
   ]
  },
  {
   "cell_type": "code",
   "execution_count": 77,
   "metadata": {},
   "outputs": [
    {
     "data": {
      "text/plain": [
       "2.58"
      ]
     },
     "execution_count": 77,
     "metadata": {},
     "output_type": "execute_result"
    }
   ],
   "source": [
    "np.round(31.38/12.14,2)"
   ]
  },
  {
   "cell_type": "markdown",
   "metadata": {},
   "source": [
    "#### 6-2. Silver 가격의 추이를 이동평균(3N)과 함께 나타나도록 시각화하라 "
   ]
  },
  {
   "cell_type": "code",
   "execution_count": 19,
   "metadata": {},
   "outputs": [],
   "source": [
    "silver = pd.DataFrame({'1월': [12.14], '2월': [42.6], '3월': [34.4]\n",
    "                        ,'4월': [35.29], '5월': [30.96], '6월': [57.12]\n",
    "                       , '7월': [37.84], '8월': [42.49], '9월': [31.39]}, index=['은 usd/oz'])\n",
    "silver_T = silver.T"
   ]
  },
  {
   "cell_type": "code",
   "execution_count": 93,
   "metadata": {},
   "outputs": [],
   "source": [
    "silver_T['이동평균']  = silver.T.rolling(window=3).mean().fillna(method='bfill')"
   ]
  },
  {
   "cell_type": "code",
   "execution_count": 94,
   "metadata": {},
   "outputs": [
    {
     "data": {
      "text/html": [
       "<div>\n",
       "<style scoped>\n",
       "    .dataframe tbody tr th:only-of-type {\n",
       "        vertical-align: middle;\n",
       "    }\n",
       "\n",
       "    .dataframe tbody tr th {\n",
       "        vertical-align: top;\n",
       "    }\n",
       "\n",
       "    .dataframe thead th {\n",
       "        text-align: right;\n",
       "    }\n",
       "</style>\n",
       "<table border=\"1\" class=\"dataframe\">\n",
       "  <thead>\n",
       "    <tr style=\"text-align: right;\">\n",
       "      <th></th>\n",
       "      <th>은 usd/oz</th>\n",
       "      <th>이동평균</th>\n",
       "    </tr>\n",
       "  </thead>\n",
       "  <tbody>\n",
       "    <tr>\n",
       "      <th>1월</th>\n",
       "      <td>12.14</td>\n",
       "      <td>29.713333</td>\n",
       "    </tr>\n",
       "    <tr>\n",
       "      <th>2월</th>\n",
       "      <td>42.60</td>\n",
       "      <td>29.713333</td>\n",
       "    </tr>\n",
       "    <tr>\n",
       "      <th>3월</th>\n",
       "      <td>34.40</td>\n",
       "      <td>29.713333</td>\n",
       "    </tr>\n",
       "    <tr>\n",
       "      <th>4월</th>\n",
       "      <td>35.29</td>\n",
       "      <td>37.430000</td>\n",
       "    </tr>\n",
       "    <tr>\n",
       "      <th>5월</th>\n",
       "      <td>30.96</td>\n",
       "      <td>33.550000</td>\n",
       "    </tr>\n",
       "    <tr>\n",
       "      <th>6월</th>\n",
       "      <td>57.12</td>\n",
       "      <td>41.123333</td>\n",
       "    </tr>\n",
       "    <tr>\n",
       "      <th>7월</th>\n",
       "      <td>37.84</td>\n",
       "      <td>41.973333</td>\n",
       "    </tr>\n",
       "    <tr>\n",
       "      <th>8월</th>\n",
       "      <td>42.49</td>\n",
       "      <td>45.816667</td>\n",
       "    </tr>\n",
       "    <tr>\n",
       "      <th>9월</th>\n",
       "      <td>31.39</td>\n",
       "      <td>37.240000</td>\n",
       "    </tr>\n",
       "  </tbody>\n",
       "</table>\n",
       "</div>"
      ],
      "text/plain": [
       "    은 usd/oz       이동평균\n",
       "1월     12.14  29.713333\n",
       "2월     42.60  29.713333\n",
       "3월     34.40  29.713333\n",
       "4월     35.29  37.430000\n",
       "5월     30.96  33.550000\n",
       "6월     57.12  41.123333\n",
       "7월     37.84  41.973333\n",
       "8월     42.49  45.816667\n",
       "9월     31.39  37.240000"
      ]
     },
     "execution_count": 94,
     "metadata": {},
     "output_type": "execute_result"
    }
   ],
   "source": [
    "silver_T"
   ]
  },
  {
   "cell_type": "code",
   "execution_count": 95,
   "metadata": {},
   "outputs": [],
   "source": [
    "class font_setting():\n",
    "    def __init__(self):\n",
    "        self.font_url = \"https://github.com/google/fonts/blob/main/ofl/nanumgothic/NanumGothic-Regular.ttf?raw=true\"\n",
    "        self.path = \"./NanumGothic-Regular.ttf\"\n",
    "        \n",
    "    def get_font(self):\n",
    "        import requests\n",
    "        from matplotlib import font_manager, rc\n",
    "        import matplotlib.pyplot as plt\n",
    "        \n",
    "        res = requests.get(self.font_url)\n",
    "        \n",
    "        with open(self.path, \"wb\") as font_file:\n",
    "            font_file.write(res.content)\n",
    "        \n",
    "        font_manager.fontManager.ttflist += font_manager.createFontList([self.path])\n",
    "        rc('font', family='NanumGothic')\n",
    "        plt.rcParams[\"font.family\"] = 'NanumGothic'\n",
    "    \n",
    "    def delete_font(self):\n",
    "        import os\n",
    "        os.remove(self.path)\n",
    "\n",
    "font_set = font_setting()\n",
    "font_set.get_font()"
   ]
  },
  {
   "cell_type": "code",
   "execution_count": 96,
   "metadata": {},
   "outputs": [
    {
     "data": {
      "image/png": "[encoded data removed]",
      "text/plain": [
       "<Figure size 720x432 with 1 Axes>"
      ]
     },
     "metadata": {
      "needs_background": "light"
     },
     "output_type": "display_data"
    }
   ],
   "source": [
    "# 시계열 그래프 그리기\n",
    "silver_T.plot(figsize=(10, 6))\n",
    "plt.title('은의 가격 및 이동평균값')\n",
    "plt.xlabel('월')\n",
    "plt.ylabel('가격')\n",
    "plt.legend()\n",
    "plt.show()"
   ]
  },
  {
   "cell_type": "code",
   "execution_count": 21,
   "metadata": {},
   "outputs": [
    {
     "data": {
      "text/plain": [
       "158.57"
      ]
     },
     "execution_count": 21,
     "metadata": {},
     "output_type": "execute_result"
    }
   ],
   "source": [
    "price_january = silver['1월'][0]\n",
    "price_september = silver['9월'][0]\n",
    "\n",
    "# 가격 변동 계산\n",
    "price_change = price_september - price_january\n",
    "\n",
    "# 가격 변동 비율 계산 (올림하여 소수점 둘째 자리에서 반올림)\n",
    "price_change_percentage = round((price_change / price_january) * 100, 2)\n",
    "price_change_percentage"
   ]
  },
  {
   "cell_type": "code",
   "execution_count": 22,
   "metadata": {},
   "outputs": [
    {
     "data": {
      "text/plain": [
       "(31.39, 12.14)"
      ]
     },
     "execution_count": 22,
     "metadata": {},
     "output_type": "execute_result"
    }
   ],
   "source": [
    "price_september, price_january"
   ]
  },
  {
   "cell_type": "code",
   "execution_count": null,
   "metadata": {},
   "outputs": [],
   "source": []
  },
  {
   "cell_type": "markdown",
   "metadata": {},
   "source": [
    "### 7. height(키), weight(몸무게), waist(허리둘레) 컬럼을 가진 problem7.csv파일을 가지고 다음을 분석하라. A시의 20대 남성 411명을 임의로 추출하여 키, 몸무게, 허리둘레를 조사하여 기록한 데이터이다. 이 데이터를 이용하여 20대 남성의 키와 허리둘레가 체중에 영향을 미치는지 알아보고자 한다"
   ]
  },
  {
   "cell_type": "code",
   "execution_count": 4,
   "metadata": {},
   "outputs": [
    {
     "data": {
      "text/html": [
       "<div>\n",
       "<style scoped>\n",
       "    .dataframe tbody tr th:only-of-type {\n",
       "        vertical-align: middle;\n",
       "    }\n",
       "\n",
       "    .dataframe tbody tr th {\n",
       "        vertical-align: top;\n",
       "    }\n",
       "\n",
       "    .dataframe thead th {\n",
       "        text-align: right;\n",
       "    }\n",
       "</style>\n",
       "<table border=\"1\" class=\"dataframe\">\n",
       "  <thead>\n",
       "    <tr style=\"text-align: right;\">\n",
       "      <th></th>\n",
       "      <th>height</th>\n",
       "      <th>weight</th>\n",
       "      <th>waistline</th>\n",
       "    </tr>\n",
       "  </thead>\n",
       "  <tbody>\n",
       "    <tr>\n",
       "      <th>0</th>\n",
       "      <td>174.396</td>\n",
       "      <td>72.102</td>\n",
       "      <td>79.3787</td>\n",
       "    </tr>\n",
       "    <tr>\n",
       "      <th>1</th>\n",
       "      <td>179.656</td>\n",
       "      <td>81.255</td>\n",
       "      <td>80.6649</td>\n",
       "    </tr>\n",
       "    <tr>\n",
       "      <th>2</th>\n",
       "      <td>175.079</td>\n",
       "      <td>76.207</td>\n",
       "      <td>80.3166</td>\n",
       "    </tr>\n",
       "    <tr>\n",
       "      <th>3</th>\n",
       "      <td>180.804</td>\n",
       "      <td>81.354</td>\n",
       "      <td>80.8794</td>\n",
       "    </tr>\n",
       "    <tr>\n",
       "      <th>4</th>\n",
       "      <td>177.448</td>\n",
       "      <td>78.768</td>\n",
       "      <td>80.3499</td>\n",
       "    </tr>\n",
       "    <tr>\n",
       "      <th>...</th>\n",
       "      <td>...</td>\n",
       "      <td>...</td>\n",
       "      <td>...</td>\n",
       "    </tr>\n",
       "    <tr>\n",
       "      <th>406</th>\n",
       "      <td>174.207</td>\n",
       "      <td>73.736</td>\n",
       "      <td>80.1779</td>\n",
       "    </tr>\n",
       "    <tr>\n",
       "      <th>407</th>\n",
       "      <td>174.702</td>\n",
       "      <td>74.529</td>\n",
       "      <td>80.1306</td>\n",
       "    </tr>\n",
       "    <tr>\n",
       "      <th>408</th>\n",
       "      <td>176.858</td>\n",
       "      <td>76.083</td>\n",
       "      <td>80.4527</td>\n",
       "    </tr>\n",
       "    <tr>\n",
       "      <th>409</th>\n",
       "      <td>175.566</td>\n",
       "      <td>76.459</td>\n",
       "      <td>80.2019</td>\n",
       "    </tr>\n",
       "    <tr>\n",
       "      <th>410</th>\n",
       "      <td>177.076</td>\n",
       "      <td>74.667</td>\n",
       "      <td>79.9108</td>\n",
       "    </tr>\n",
       "  </tbody>\n",
       "</table>\n",
       "<p>411 rows × 3 columns</p>\n",
       "</div>"
      ],
      "text/plain": [
       "      height  weight  waistline\n",
       "0    174.396  72.102    79.3787\n",
       "1    179.656  81.255    80.6649\n",
       "2    175.079  76.207    80.3166\n",
       "3    180.804  81.354    80.8794\n",
       "4    177.448  78.768    80.3499\n",
       "..       ...     ...        ...\n",
       "406  174.207  73.736    80.1779\n",
       "407  174.702  74.529    80.1306\n",
       "408  176.858  76.083    80.4527\n",
       "409  175.566  76.459    80.2019\n",
       "410  177.076  74.667    79.9108\n",
       "\n",
       "[411 rows x 3 columns]"
      ]
     },
     "execution_count": 4,
     "metadata": {},
     "output_type": "execute_result"
    }
   ],
   "source": [
    "import ssl\n",
    "import pandas as pd\n",
    "import urllib\n",
    "context = ssl._create_unverified_context()\n",
    "\n",
    "url3 = 'https://raw.githubusercontent.com/Ssunbell/ADP_study/main/9주차_0716/data/problem7.csv'\n",
    "encoded_url3 = urllib.parse.quote(url3, safe=':/')\n",
    "\n",
    "response = urllib.request.urlopen(encoded_url3, context=context)\n",
    "df3 = pd.read_csv(response, encoding='utf-8')\n",
    "df3"
   ]
  },
  {
   "cell_type": "markdown",
   "metadata": {},
   "source": [
    "#### 7-1 아래 조건을 참고하여 회귀계수(반올림하여 소수점 두자리)를 구하시오.\n",
    "- 베이지안 회귀\n",
    "- 시드넘버 1234로 지정\n",
    "- 1000번의 burn-in 이후 10,000의 MCMC를 수행\n",
    "- 회귀계수의 사전분포는 부적절한 균일분포(inproper uniform prior distribution), 오차항의 분산의 사전분포는 역감마 분포로 지정. 이때, 형상(Shape)모수와 척도(Scale)모수는 각각 0.005로 지정."
   ]
  },
  {
   "cell_type": "code",
   "execution_count": 18,
   "metadata": {},
   "outputs": [
    {
     "ename": "NameError",
     "evalue": "name 'pm' is not defined",
     "output_type": "error",
     "traceback": [
      "\u001b[1;31m---------------------------------------------------------------------------\u001b[0m",
      "\u001b[1;31mNameError\u001b[0m                                 Traceback (most recent call last)",
      "\u001b[1;32m<ipython-input-18-76fd969b78a0>\u001b[0m in \u001b[0;36m<module>\u001b[1;34m\u001b[0m\n\u001b[0;32m      3\u001b[0m \u001b[1;31m# 이 데이터를 이용하여 20대 남성의 키와 허리둘레가 체중에 영향을 미치는지 알아보고자 한다.\u001b[0m\u001b[1;33m\u001b[0m\u001b[1;33m\u001b[0m\u001b[1;33m\u001b[0m\u001b[0m\n\u001b[0;32m      4\u001b[0m \u001b[1;31m# PyMC3 모델 설정\u001b[0m\u001b[1;33m\u001b[0m\u001b[1;33m\u001b[0m\u001b[1;33m\u001b[0m\u001b[0m\n\u001b[1;32m----> 5\u001b[1;33m \u001b[1;32mwith\u001b[0m \u001b[0mpm\u001b[0m\u001b[1;33m.\u001b[0m\u001b[0mModel\u001b[0m\u001b[1;33m(\u001b[0m\u001b[1;33m)\u001b[0m \u001b[1;32mas\u001b[0m \u001b[0mmodel\u001b[0m\u001b[1;33m:\u001b[0m\u001b[1;33m\u001b[0m\u001b[1;33m\u001b[0m\u001b[0m\n\u001b[0m\u001b[0;32m      6\u001b[0m     \u001b[1;31m# 사전분포 설정\u001b[0m\u001b[1;33m\u001b[0m\u001b[1;33m\u001b[0m\u001b[1;33m\u001b[0m\u001b[0m\n\u001b[0;32m      7\u001b[0m     \u001b[0mbeta0\u001b[0m \u001b[1;33m=\u001b[0m \u001b[0mpm\u001b[0m\u001b[1;33m.\u001b[0m\u001b[0mUniform\u001b[0m\u001b[1;33m(\u001b[0m\u001b[1;34m'beta0'\u001b[0m\u001b[1;33m)\u001b[0m\u001b[1;33m\u001b[0m\u001b[1;33m\u001b[0m\u001b[0m\n",
      "\u001b[1;31mNameError\u001b[0m: name 'pm' is not defined"
     ]
    }
   ],
   "source": [
    "### height(키), weight(몸무게), waist(허리둘레) 컬럼을 가진 problem7.csv파일을 가지고 다음을 분석하라\n",
    "# A시의 20대 남성 411명을 임의로 추출하여 키, 몸무게, 허리둘레를 조사하여 기록한 데이터이다.\n",
    "# 이 데이터를 이용하여 20대 남성의 키와 허리둘레가 체중에 영향을 미치는지 알아보고자 한다.\n",
    "# PyMC3 모델 설정\n",
    "with pm.Model() as model:\n",
    "    # 사전분포 설정\n",
    "    beta0 = pm.Uniform('beta0')\n",
    "    beta1 = pm.Uniform('beta1')\n",
    "    beta2 = pm.Uniform('beta2')\n",
    "    sigma = pm.InverseGamma('sigma', alpha=0.005, beta=0.005)\n",
    "\n",
    "    # 선형 회귀식 설정\n",
    "    mu = beta0 + beta1 * data['height'] + beta2 * data['waist']\n",
    "\n",
    "    # likelihood 설정\n",
    "    obs = pm.Normal('obs', mu=mu, sd=sigma, observed=data['weight'])\n",
    "\n",
    "    # MCMC 수행\n",
    "    trace = pm.sample(10000, tune=1000, random_seed=1234)\n",
    "\n",
    "# 회귀계수의 사후분포 추정치 출력\n",
    "coefficients = trace['beta0'].mean(), trace['beta1'].mean(), trace['beta2'].mean()\n",
    "print('회귀계수(Intercept, height, waist):', coefficients)"
   ]
  },
  {
   "cell_type": "markdown",
   "metadata": {},
   "source": [
    "#### 7-2  7-1에서 만든 모델을 바탕으로 키 180cm, 허리둘레 85cm인 남성의 몸무게를 추정하라"
   ]
  },
  {
   "cell_type": "code",
   "execution_count": null,
   "metadata": {},
   "outputs": [],
   "source": [
    "# 키 180cm, 허리둘레 85cm인 남성의 몸무게 추정\n",
    "height_new = 180\n",
    "waist_new = 85\n",
    "\n",
    "with model:\n",
    "    # 사후분포로부터 몸무게 예측\n",
    "    weight_new = pm.Normal('weight_new', mu=beta0 + beta1 * height_new + beta2 * waist_new)"
   ]
  }
 ],
 "metadata": {
  "kernelspec": {
   "display_name": "Python 3",
   "language": "python",
   "name": "python3"
  },
  "language_info": {
   "codemirror_mode": {
    "name": "ipython",
    "version": 3
   },
   "file_extension": ".py",
   "mimetype": "text/x-python",
   "name": "python",
   "nbconvert_exporter": "python",
   "pygments_lexer": "ipython3",
   "version": "3.7.3"
  }
 },
 "nbformat": 4,
 "nbformat_minor": 2
}
