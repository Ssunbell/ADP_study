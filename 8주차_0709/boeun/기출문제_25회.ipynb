{
 "cells": [
  {
   "cell_type": "markdown",
   "metadata": {},
   "source": [
    "## 머신러닝\n",
    "### 1번 군집분석\n",
    "#### 다음은 온라인 유통회사 A사의 고객의 물품 구매 정보에 대한 데이터이다. A 회사는 RMF(Recency, Monetary, Frequency) 중에서 F와 M를 기준으로 고객 군집 분석을 시행하고자 한다. 다음 물음에 답하시오.\n",
    "\n",
    "데이터 설명\n",
    "- InvoiceNo: Invoice number. Nominal, a 6-digit integral number uniquely assigned to each transaction. If this code starts with letter 'c', it indicates a cancellation.\n",
    "- StockCode: Product (item) code. Nominal, a 5-digit integral number uniquely assigned to each distinct product.\n",
    "- Description: Product (item) name. Nominal.\n",
    "- Quantity: The quantities of each product (item) per transaction. Numeric.\n",
    "- InvoiceDate: Invice Date and time. Numeric, the day and time when each transaction was generated.\n",
    "- UnitPrice: Unit price. Numeric, Product price per unit in sterling.\n",
    "- CustomerID: Customer number. Nominal, a 5-digit integral number uniquely assigned to each customer.\n",
    "- Country: Country name. Nominal, the name of the country where each customer resides."
   ]
  },
  {
   "cell_type": "code",
   "execution_count": 39,
   "metadata": {},
   "outputs": [
    {
     "data": {
      "text/html": [
       "<div>\n",
       "<style scoped>\n",
       "    .dataframe tbody tr th:only-of-type {\n",
       "        vertical-align: middle;\n",
       "    }\n",
       "\n",
       "    .dataframe tbody tr th {\n",
       "        vertical-align: top;\n",
       "    }\n",
       "\n",
       "    .dataframe thead th {\n",
       "        text-align: right;\n",
       "    }\n",
       "</style>\n",
       "<table border=\"1\" class=\"dataframe\">\n",
       "  <thead>\n",
       "    <tr style=\"text-align: right;\">\n",
       "      <th></th>\n",
       "      <th>InvoiceNo</th>\n",
       "      <th>StockCode</th>\n",
       "      <th>Description</th>\n",
       "      <th>Quantity</th>\n",
       "      <th>InvoiceDate</th>\n",
       "      <th>UnitPrice</th>\n",
       "      <th>CustomerID</th>\n",
       "      <th>Country</th>\n",
       "    </tr>\n",
       "  </thead>\n",
       "  <tbody>\n",
       "    <tr>\n",
       "      <th>0</th>\n",
       "      <td>565857</td>\n",
       "      <td>84879</td>\n",
       "      <td>ASSORTED COLOUR BIRD ORNAMENT</td>\n",
       "      <td>16</td>\n",
       "      <td>9/7/2011 14:13</td>\n",
       "      <td>1.69</td>\n",
       "      <td>14911.0</td>\n",
       "      <td>EIRE</td>\n",
       "    </tr>\n",
       "    <tr>\n",
       "      <th>1</th>\n",
       "      <td>560452</td>\n",
       "      <td>22432</td>\n",
       "      <td>WATERING CAN PINK BUNNY</td>\n",
       "      <td>6</td>\n",
       "      <td>7/19/2011 9:51</td>\n",
       "      <td>1.95</td>\n",
       "      <td>12682.0</td>\n",
       "      <td>France</td>\n",
       "    </tr>\n",
       "    <tr>\n",
       "      <th>2</th>\n",
       "      <td>578509</td>\n",
       "      <td>22492</td>\n",
       "      <td>MINI PAINT SET VINTAGE</td>\n",
       "      <td>36</td>\n",
       "      <td>11/24/2011 13:17</td>\n",
       "      <td>0.65</td>\n",
       "      <td>12705.0</td>\n",
       "      <td>Germany</td>\n",
       "    </tr>\n",
       "    <tr>\n",
       "      <th>3</th>\n",
       "      <td>579345</td>\n",
       "      <td>22728</td>\n",
       "      <td>ALARM CLOCK BAKELIKE PINK</td>\n",
       "      <td>8</td>\n",
       "      <td>11/29/2011 11:46</td>\n",
       "      <td>3.75</td>\n",
       "      <td>12727.0</td>\n",
       "      <td>France</td>\n",
       "    </tr>\n",
       "    <tr>\n",
       "      <th>4</th>\n",
       "      <td>564039</td>\n",
       "      <td>21731</td>\n",
       "      <td>RED TOADSTOOL LED NIGHT LIGHT</td>\n",
       "      <td>12</td>\n",
       "      <td>8/22/2011 12:40</td>\n",
       "      <td>1.65</td>\n",
       "      <td>12645.0</td>\n",
       "      <td>Germany</td>\n",
       "    </tr>\n",
       "    <tr>\n",
       "      <th>...</th>\n",
       "      <td>...</td>\n",
       "      <td>...</td>\n",
       "      <td>...</td>\n",
       "      <td>...</td>\n",
       "      <td>...</td>\n",
       "      <td>...</td>\n",
       "      <td>...</td>\n",
       "      <td>...</td>\n",
       "    </tr>\n",
       "    <tr>\n",
       "      <th>41019</th>\n",
       "      <td>560590</td>\n",
       "      <td>21884</td>\n",
       "      <td>CAKES AND BOWS GIFT  TAPE</td>\n",
       "      <td>12</td>\n",
       "      <td>7/19/2011 15:55</td>\n",
       "      <td>0.65</td>\n",
       "      <td>12560.0</td>\n",
       "      <td>Germany</td>\n",
       "    </tr>\n",
       "    <tr>\n",
       "      <th>41020</th>\n",
       "      <td>561870</td>\n",
       "      <td>21156</td>\n",
       "      <td>RETROSPOT CHILDRENS APRON</td>\n",
       "      <td>8</td>\n",
       "      <td>7/31/2011 11:45</td>\n",
       "      <td>1.95</td>\n",
       "      <td>14911.0</td>\n",
       "      <td>EIRE</td>\n",
       "    </tr>\n",
       "    <tr>\n",
       "      <th>41021</th>\n",
       "      <td>579792</td>\n",
       "      <td>22436</td>\n",
       "      <td>12 COLOURED PARTY BALLOONS</td>\n",
       "      <td>20</td>\n",
       "      <td>11/30/2011 15:43</td>\n",
       "      <td>0.65</td>\n",
       "      <td>12714.0</td>\n",
       "      <td>France</td>\n",
       "    </tr>\n",
       "    <tr>\n",
       "      <th>41022</th>\n",
       "      <td>C566753</td>\n",
       "      <td>22796</td>\n",
       "      <td>PHOTO FRAME 3 CLASSIC HANGING</td>\n",
       "      <td>-1</td>\n",
       "      <td>9/14/2011 15:48</td>\n",
       "      <td>9.95</td>\n",
       "      <td>14911.0</td>\n",
       "      <td>EIRE</td>\n",
       "    </tr>\n",
       "    <tr>\n",
       "      <th>41023</th>\n",
       "      <td>546875</td>\n",
       "      <td>22383</td>\n",
       "      <td>LUNCH BAG SUKI  DESIGN</td>\n",
       "      <td>10</td>\n",
       "      <td>3/17/2011 16:38</td>\n",
       "      <td>1.65</td>\n",
       "      <td>12514.0</td>\n",
       "      <td>Italy</td>\n",
       "    </tr>\n",
       "  </tbody>\n",
       "</table>\n",
       "<p>41024 rows × 8 columns</p>\n",
       "</div>"
      ],
      "text/plain": [
       "      InvoiceNo StockCode                    Description  Quantity  \\\n",
       "0        565857     84879  ASSORTED COLOUR BIRD ORNAMENT        16   \n",
       "1        560452     22432        WATERING CAN PINK BUNNY         6   \n",
       "2        578509     22492        MINI PAINT SET VINTAGE         36   \n",
       "3        579345     22728      ALARM CLOCK BAKELIKE PINK         8   \n",
       "4        564039     21731  RED TOADSTOOL LED NIGHT LIGHT        12   \n",
       "...         ...       ...                            ...       ...   \n",
       "41019    560590     21884      CAKES AND BOWS GIFT  TAPE        12   \n",
       "41020    561870     21156      RETROSPOT CHILDRENS APRON         8   \n",
       "41021    579792     22436     12 COLOURED PARTY BALLOONS        20   \n",
       "41022   C566753     22796  PHOTO FRAME 3 CLASSIC HANGING        -1   \n",
       "41023    546875     22383        LUNCH BAG SUKI  DESIGN         10   \n",
       "\n",
       "            InvoiceDate  UnitPrice  CustomerID  Country  \n",
       "0        9/7/2011 14:13       1.69     14911.0     EIRE  \n",
       "1        7/19/2011 9:51       1.95     12682.0   France  \n",
       "2      11/24/2011 13:17       0.65     12705.0  Germany  \n",
       "3      11/29/2011 11:46       3.75     12727.0   France  \n",
       "4       8/22/2011 12:40       1.65     12645.0  Germany  \n",
       "...                 ...        ...         ...      ...  \n",
       "41019   7/19/2011 15:55       0.65     12560.0  Germany  \n",
       "41020   7/31/2011 11:45       1.95     14911.0     EIRE  \n",
       "41021  11/30/2011 15:43       0.65     12714.0   France  \n",
       "41022   9/14/2011 15:48       9.95     14911.0     EIRE  \n",
       "41023   3/17/2011 16:38       1.65     12514.0    Italy  \n",
       "\n",
       "[41024 rows x 8 columns]"
      ]
     },
     "execution_count": 39,
     "metadata": {},
     "output_type": "execute_result"
    }
   ],
   "source": [
    "import ssl\n",
    "import pandas as pd\n",
    "import urllib\n",
    "import numpy as np\n",
    "context = ssl._create_unverified_context()\n",
    "\n",
    "url1 = 'https://raw.githubusercontent.com/Ssunbell/ADP_study/main/8주차_0709/data/problem1.csv'\n",
    "encoded_url1 = urllib.parse.quote(url1, safe=':/')\n",
    "\n",
    "response = urllib.request.urlopen(encoded_url1, context=context)\n",
    "df1 = pd.read_csv(response, encoding='utf-8')\n",
    "df1"
   ]
  },
  {
   "cell_type": "code",
   "execution_count": 40,
   "metadata": {},
   "outputs": [
    {
     "data": {
      "text/html": [
       "<div>\n",
       "<style scoped>\n",
       "    .dataframe tbody tr th:only-of-type {\n",
       "        vertical-align: middle;\n",
       "    }\n",
       "\n",
       "    .dataframe tbody tr th {\n",
       "        vertical-align: top;\n",
       "    }\n",
       "\n",
       "    .dataframe thead th {\n",
       "        text-align: right;\n",
       "    }\n",
       "</style>\n",
       "<table border=\"1\" class=\"dataframe\">\n",
       "  <thead>\n",
       "    <tr style=\"text-align: right;\">\n",
       "      <th></th>\n",
       "      <th>Quantity</th>\n",
       "      <th>UnitPrice</th>\n",
       "      <th>CustomerID</th>\n",
       "    </tr>\n",
       "  </thead>\n",
       "  <tbody>\n",
       "    <tr>\n",
       "      <th>count</th>\n",
       "      <td>41024.000000</td>\n",
       "      <td>41024.000000</td>\n",
       "      <td>41024.000000</td>\n",
       "    </tr>\n",
       "    <tr>\n",
       "      <th>mean</th>\n",
       "      <td>19.425507</td>\n",
       "      <td>4.652498</td>\n",
       "      <td>13173.076102</td>\n",
       "    </tr>\n",
       "    <tr>\n",
       "      <th>std</th>\n",
       "      <td>44.253624</td>\n",
       "      <td>45.383856</td>\n",
       "      <td>1006.392842</td>\n",
       "    </tr>\n",
       "    <tr>\n",
       "      <th>min</th>\n",
       "      <td>-480.000000</td>\n",
       "      <td>0.000000</td>\n",
       "      <td>12348.000000</td>\n",
       "    </tr>\n",
       "    <tr>\n",
       "      <th>25%</th>\n",
       "      <td>4.000000</td>\n",
       "      <td>1.250000</td>\n",
       "      <td>12484.000000</td>\n",
       "    </tr>\n",
       "    <tr>\n",
       "      <th>50%</th>\n",
       "      <td>10.000000</td>\n",
       "      <td>1.950000</td>\n",
       "      <td>12647.000000</td>\n",
       "    </tr>\n",
       "    <tr>\n",
       "      <th>75%</th>\n",
       "      <td>16.000000</td>\n",
       "      <td>3.750000</td>\n",
       "      <td>14156.000000</td>\n",
       "    </tr>\n",
       "    <tr>\n",
       "      <th>max</th>\n",
       "      <td>2400.000000</td>\n",
       "      <td>4161.060000</td>\n",
       "      <td>17097.000000</td>\n",
       "    </tr>\n",
       "  </tbody>\n",
       "</table>\n",
       "</div>"
      ],
      "text/plain": [
       "           Quantity     UnitPrice    CustomerID\n",
       "count  41024.000000  41024.000000  41024.000000\n",
       "mean      19.425507      4.652498  13173.076102\n",
       "std       44.253624     45.383856   1006.392842\n",
       "min     -480.000000      0.000000  12348.000000\n",
       "25%        4.000000      1.250000  12484.000000\n",
       "50%       10.000000      1.950000  12647.000000\n",
       "75%       16.000000      3.750000  14156.000000\n",
       "max     2400.000000   4161.060000  17097.000000"
      ]
     },
     "execution_count": 40,
     "metadata": {},
     "output_type": "execute_result"
    }
   ],
   "source": [
    "df1.describe()"
   ]
  },
  {
   "cell_type": "code",
   "execution_count": 41,
   "metadata": {},
   "outputs": [],
   "source": [
    "## qunatitiy 가 음수일 수는 없으며, 해당값들은 오입력건으로 보고 양수로 변경해 줌\n",
    "# df1['Quantity_new'] = df1['Quantity'].map(lambda x:x*-1 if x < 0 else x)\n",
    "df1['Quantity_new'] = np.abs(df1['Quantity'])"
   ]
  },
  {
   "cell_type": "code",
   "execution_count": 42,
   "metadata": {},
   "outputs": [
    {
     "data": {
      "text/html": [
       "<div>\n",
       "<style scoped>\n",
       "    .dataframe tbody tr th:only-of-type {\n",
       "        vertical-align: middle;\n",
       "    }\n",
       "\n",
       "    .dataframe tbody tr th {\n",
       "        vertical-align: top;\n",
       "    }\n",
       "\n",
       "    .dataframe thead th {\n",
       "        text-align: right;\n",
       "    }\n",
       "</style>\n",
       "<table border=\"1\" class=\"dataframe\">\n",
       "  <thead>\n",
       "    <tr style=\"text-align: right;\">\n",
       "      <th></th>\n",
       "      <th>Quantity</th>\n",
       "      <th>UnitPrice</th>\n",
       "      <th>CustomerID</th>\n",
       "      <th>Quantity_new</th>\n",
       "    </tr>\n",
       "  </thead>\n",
       "  <tbody>\n",
       "    <tr>\n",
       "      <th>count</th>\n",
       "      <td>41024.000000</td>\n",
       "      <td>41024.000000</td>\n",
       "      <td>41024.000000</td>\n",
       "      <td>41024.000000</td>\n",
       "    </tr>\n",
       "    <tr>\n",
       "      <th>mean</th>\n",
       "      <td>19.425507</td>\n",
       "      <td>4.652498</td>\n",
       "      <td>13173.076102</td>\n",
       "      <td>19.956562</td>\n",
       "    </tr>\n",
       "    <tr>\n",
       "      <th>std</th>\n",
       "      <td>44.253624</td>\n",
       "      <td>45.383856</td>\n",
       "      <td>1006.392842</td>\n",
       "      <td>44.016687</td>\n",
       "    </tr>\n",
       "    <tr>\n",
       "      <th>min</th>\n",
       "      <td>-480.000000</td>\n",
       "      <td>0.000000</td>\n",
       "      <td>12348.000000</td>\n",
       "      <td>1.000000</td>\n",
       "    </tr>\n",
       "    <tr>\n",
       "      <th>25%</th>\n",
       "      <td>4.000000</td>\n",
       "      <td>1.250000</td>\n",
       "      <td>12484.000000</td>\n",
       "      <td>4.000000</td>\n",
       "    </tr>\n",
       "    <tr>\n",
       "      <th>50%</th>\n",
       "      <td>10.000000</td>\n",
       "      <td>1.950000</td>\n",
       "      <td>12647.000000</td>\n",
       "      <td>10.000000</td>\n",
       "    </tr>\n",
       "    <tr>\n",
       "      <th>75%</th>\n",
       "      <td>16.000000</td>\n",
       "      <td>3.750000</td>\n",
       "      <td>14156.000000</td>\n",
       "      <td>16.000000</td>\n",
       "    </tr>\n",
       "    <tr>\n",
       "      <th>max</th>\n",
       "      <td>2400.000000</td>\n",
       "      <td>4161.060000</td>\n",
       "      <td>17097.000000</td>\n",
       "      <td>2400.000000</td>\n",
       "    </tr>\n",
       "  </tbody>\n",
       "</table>\n",
       "</div>"
      ],
      "text/plain": [
       "           Quantity     UnitPrice    CustomerID  Quantity_new\n",
       "count  41024.000000  41024.000000  41024.000000  41024.000000\n",
       "mean      19.425507      4.652498  13173.076102     19.956562\n",
       "std       44.253624     45.383856   1006.392842     44.016687\n",
       "min     -480.000000      0.000000  12348.000000      1.000000\n",
       "25%        4.000000      1.250000  12484.000000      4.000000\n",
       "50%       10.000000      1.950000  12647.000000     10.000000\n",
       "75%       16.000000      3.750000  14156.000000     16.000000\n",
       "max     2400.000000   4161.060000  17097.000000   2400.000000"
      ]
     },
     "execution_count": 42,
     "metadata": {},
     "output_type": "execute_result"
    }
   ],
   "source": [
    "df1.describe()"
   ]
  },
  {
   "cell_type": "markdown",
   "metadata": {},
   "source": [
    "#### 1.1 F(소비자별 구매빈도), M(소비자별 총 구매액) feature를 새로 생성하시오."
   ]
  },
  {
   "cell_type": "code",
   "execution_count": 43,
   "metadata": {},
   "outputs": [],
   "source": [
    "소비자별_구매빈도 = df1[['CustomerID','UnitPrice']].groupby('CustomerID').agg('count').rename(columns={'UnitPrice':'F'})\n",
    "\n",
    "df1['총구매액'] = df1.Quantity_new * df1.UnitPrice\n",
    "소비자별_총구매액 = df1[['CustomerID','총구매액']].groupby('CustomerID').agg('sum').rename(columns={'총구매액':'M'})\n",
    "국가 = df1[['CustomerID','Country']].drop_duplicates()\n",
    "df1_v2 = pd.merge(소비자별_구매빈도, 소비자별_총구매액, on='CustomerID')\n",
    "# df1_v2 = pd.merge(df1_v2_tmp, 국가, on='CustomerID')"
   ]
  },
  {
   "cell_type": "markdown",
   "metadata": {},
   "source": [
    "#### 1.2 새로 생성된 데이터를 기준으로 EDA를 진행하고 이상치를 제거하고, 필요하다면 다른 전처리를 수행하시오."
   ]
  },
  {
   "cell_type": "code",
   "execution_count": 44,
   "metadata": {},
   "outputs": [
    {
     "data": {
      "text/html": [
       "<div>\n",
       "<style scoped>\n",
       "    .dataframe tbody tr th:only-of-type {\n",
       "        vertical-align: middle;\n",
       "    }\n",
       "\n",
       "    .dataframe tbody tr th {\n",
       "        vertical-align: top;\n",
       "    }\n",
       "\n",
       "    .dataframe thead th {\n",
       "        text-align: right;\n",
       "    }\n",
       "</style>\n",
       "<table border=\"1\" class=\"dataframe\">\n",
       "  <thead>\n",
       "    <tr style=\"text-align: right;\">\n",
       "      <th></th>\n",
       "      <th>F</th>\n",
       "      <th>M</th>\n",
       "    </tr>\n",
       "  </thead>\n",
       "  <tbody>\n",
       "    <tr>\n",
       "      <th>count</th>\n",
       "      <td>348.000000</td>\n",
       "      <td>348.000000</td>\n",
       "    </tr>\n",
       "    <tr>\n",
       "      <th>mean</th>\n",
       "      <td>117.885057</td>\n",
       "      <td>4259.373851</td>\n",
       "    </tr>\n",
       "    <tr>\n",
       "      <th>std</th>\n",
       "      <td>354.247025</td>\n",
       "      <td>19560.087699</td>\n",
       "    </tr>\n",
       "    <tr>\n",
       "      <th>min</th>\n",
       "      <td>1.000000</td>\n",
       "      <td>4.500000</td>\n",
       "    </tr>\n",
       "    <tr>\n",
       "      <th>25%</th>\n",
       "      <td>23.000000</td>\n",
       "      <td>462.967500</td>\n",
       "    </tr>\n",
       "    <tr>\n",
       "      <th>50%</th>\n",
       "      <td>51.500000</td>\n",
       "      <td>1040.175000</td>\n",
       "    </tr>\n",
       "    <tr>\n",
       "      <th>75%</th>\n",
       "      <td>113.250000</td>\n",
       "      <td>2851.732500</td>\n",
       "    </tr>\n",
       "    <tr>\n",
       "      <th>max</th>\n",
       "      <td>5903.000000</td>\n",
       "      <td>280923.020000</td>\n",
       "    </tr>\n",
       "  </tbody>\n",
       "</table>\n",
       "</div>"
      ],
      "text/plain": [
       "                 F              M\n",
       "count   348.000000     348.000000\n",
       "mean    117.885057    4259.373851\n",
       "std     354.247025   19560.087699\n",
       "min       1.000000       4.500000\n",
       "25%      23.000000     462.967500\n",
       "50%      51.500000    1040.175000\n",
       "75%     113.250000    2851.732500\n",
       "max    5903.000000  280923.020000"
      ]
     },
     "execution_count": 44,
     "metadata": {},
     "output_type": "execute_result"
    }
   ],
   "source": [
    "df1_v2.describe()"
   ]
  },
  {
   "cell_type": "code",
   "execution_count": 45,
   "metadata": {},
   "outputs": [],
   "source": [
    "class font_setting():\n",
    "    def __init__(self):\n",
    "        self.font_url = \"https://github.com/google/fonts/blob/main/ofl/nanumgothic/NanumGothic-Regular.ttf?raw=true\"\n",
    "        self.path = \"./NanumGothic-Regular.ttf\"\n",
    "        \n",
    "    def get_font(self):\n",
    "        import requests\n",
    "        from matplotlib import font_manager, rc\n",
    "        import matplotlib.pyplot as plt\n",
    "        \n",
    "        res = requests.get(self.font_url)\n",
    "        \n",
    "        with open(self.path, \"wb\") as font_file:\n",
    "            font_file.write(res.content)\n",
    "        \n",
    "        font_manager.fontManager.ttflist += font_manager.createFontList([self.path])\n",
    "        rc('font', family='NanumGothic')\n",
    "        plt.rcParams[\"font.family\"] = 'NanumGothic'\n",
    "    \n",
    "    def delete_font(self):\n",
    "        import os\n",
    "        os.remove(self.path)\n",
    "\n",
    "font_set = font_setting()\n",
    "font_set.get_font()"
   ]
  },
  {
   "cell_type": "code",
   "execution_count": 46,
   "metadata": {},
   "outputs": [
    {
     "data": {
      "image/png": "[encoded data removed]",
      "text/plain": [
       "<Figure size 432x288 with 1 Axes>"
      ]
     },
     "metadata": {
      "needs_background": "light"
     },
     "output_type": "display_data"
    }
   ],
   "source": [
    "import numpy as np\n",
    "import matplotlib.pyplot as plt\n",
    "import pandas as pd\n",
    "import seaborn as sns\n",
    "from scipy import stats\n",
    "from sklearn.datasets import load_boston\n",
    "import warnings\n",
    "warnings.filterwarnings('ignore')\n",
    "\n",
    "%matplotlib inline\n",
    "\n",
    "plt.boxplot(df1_v2['F'])\n",
    "plt.title('소비자별 구매빈도')\n",
    "plt.show()"
   ]
  },
  {
   "cell_type": "code",
   "execution_count": 47,
   "metadata": {},
   "outputs": [
    {
     "data": {
      "image/png": "[encoded data removed]",
      "text/plain": [
       "<Figure size 432x288 with 1 Axes>"
      ]
     },
     "metadata": {
      "needs_background": "light"
     },
     "output_type": "display_data"
    }
   ],
   "source": [
    "plt.boxplot(df1_v2['M'])\n",
    "plt.title('소비자별 총구매액')\n",
    "plt.show()"
   ]
  },
  {
   "cell_type": "code",
   "execution_count": null,
   "metadata": {},
   "outputs": [],
   "source": [
    "# 국가별로 \n",
    "plt.figure(figsize=(20,6))\n",
    "sns.boxplot(x='Country', y='F', data=df1_v2)\n",
    "plt.show()"
   ]
  },
  {
   "cell_type": "markdown",
   "metadata": {},
   "source": [
    "#### 1.3 적합한 군집분석 알고리즘을 선택하고 시행한 후, 시행 결과에 대해 응집도와 분리도 관점에서 평가하시오."
   ]
  },
  {
   "cell_type": "code",
   "execution_count": 49,
   "metadata": {},
   "outputs": [
    {
     "data": {
      "image/png": "[encoded data removed]",
      "text/plain": [
       "<Figure size 432x288 with 1 Axes>"
      ]
     },
     "metadata": {
      "needs_background": "light"
     },
     "output_type": "display_data"
    }
   ],
   "source": [
    "from sklearn.cluster import KMeans\n",
    "\n",
    "x = np.array(df1_v2).reshape(-1,1)\n",
    "inertia = []\n",
    "for i in range(1,11):\n",
    "    kmeans_plus = KMeans(n_clusters=i, init='k-means++')\n",
    "    kmeans_plus.fit(x)\n",
    "    inertia.append(kmeans_plus.inertia_)\n",
    "\n",
    "plt.plot(range(1,11), inertia)\n",
    "plt.xlabel('number of clusters')\n",
    "plt.ylabel('inertia')\n",
    "plt.show()"
   ]
  },
  {
   "cell_type": "code",
   "execution_count": 50,
   "metadata": {},
   "outputs": [
    {
     "name": "stdout",
     "output_type": "stream",
     "text": [
      "실루엣계수 스코어:0.978\n"
     ]
    }
   ],
   "source": [
    "## 클러스터링 -> 비지도학습은 평가하기 어려우나 군집화의 성능을 비교하는데 '실루엣계수' 사용\n",
    "\n",
    "# 실루엣계수 : 각군집간 거리 얼마나 효율적 분리되어있는지 나타냄. 다른군집과 거리 떨어져있고 동일군집끼리 데이터 가까움\n",
    "# 1 = 근처군집과 더 멀리 떨어져있음(잘분리) , 0 = 근처군집과 가까워짐, - = 아예다른군집에 데이터 할당\n",
    "# 좋은군집 조건\n",
    "# 1. 전체실루엣계수 평균값이 0~1사이, 1가까울수록 좋음\n",
    "# 2. 개별 군집의 평균값의 편차 크지않아야 함(즉 개별군집의 실루엣계수평균값이 전체 실루엣 계수 평균값에서 크게 벗어나지 않아야함)\n",
    "\n",
    "## 주의: x_feature 데이터프레임 과 cluster저장할 테이블 분리해서 사용하기!\n",
    "from sklearn.metrics import silhouette_score, silhouette_samples\n",
    "X_feature = pd.DataFrame(df1_v2) # 학습데이터 2d array로 해줘야함\n",
    "df_cluster = X_feature\n",
    "\n",
    "kmeans = KMeans(n_clusters=2, random_state=42)\n",
    "kmeans.fit(df_cluster)\n",
    "df_cluster['cluster'] = kmeans.labels_\n",
    "\n",
    "## 모든 개별 데이터에 실루엣 계수값 구하기\n",
    "score_samples = silhouette_samples(X_feature, df1_v2['cluster'])\n",
    "df_cluster['silhouette_coeff'] = score_samples\n",
    "\n",
    "## 평균실루엣 계수값 구함 = silhouette_score(X feature 데이터세트, 군집된 label값)\n",
    "average_score = silhouette_score(X_feature, df_cluster['cluster'])\n",
    "print('실루엣계수 스코어:{0:.3f}'.format(average_score))"
   ]
  },
  {
   "cell_type": "code",
   "execution_count": 51,
   "metadata": {},
   "outputs": [
    {
     "data": {
      "text/plain": [
       "cluster\n",
       "0    0.983133\n",
       "1    0.499040\n",
       "Name: silhouette_coeff, dtype: float64"
      ]
     },
     "execution_count": 51,
     "metadata": {},
     "output_type": "execute_result"
    }
   ],
   "source": [
    "## 군집 칼럼별로 실루엣계수 구하기\n",
    "df_cluster.groupby('cluster')['silhouette_coeff'].mean()"
   ]
  },
  {
   "cell_type": "code",
   "execution_count": 52,
   "metadata": {},
   "outputs": [
    {
     "data": {
      "text/html": [
       "<div>\n",
       "<style scoped>\n",
       "    .dataframe tbody tr th:only-of-type {\n",
       "        vertical-align: middle;\n",
       "    }\n",
       "\n",
       "    .dataframe tbody tr th {\n",
       "        vertical-align: top;\n",
       "    }\n",
       "\n",
       "    .dataframe thead th {\n",
       "        text-align: right;\n",
       "    }\n",
       "</style>\n",
       "<table border=\"1\" class=\"dataframe\">\n",
       "  <thead>\n",
       "    <tr style=\"text-align: right;\">\n",
       "      <th></th>\n",
       "      <th>CustomerID</th>\n",
       "      <th>F</th>\n",
       "      <th>M</th>\n",
       "      <th>cluster</th>\n",
       "      <th>silhouette_coeff</th>\n",
       "      <th>Country</th>\n",
       "    </tr>\n",
       "  </thead>\n",
       "  <tbody>\n",
       "    <tr>\n",
       "      <th>0</th>\n",
       "      <td>12348.0</td>\n",
       "      <td>31</td>\n",
       "      <td>1797.24</td>\n",
       "      <td>0</td>\n",
       "      <td>0.988455</td>\n",
       "      <td>Finland</td>\n",
       "    </tr>\n",
       "    <tr>\n",
       "      <th>1</th>\n",
       "      <td>12349.0</td>\n",
       "      <td>73</td>\n",
       "      <td>1757.55</td>\n",
       "      <td>0</td>\n",
       "      <td>0.988527</td>\n",
       "      <td>Italy</td>\n",
       "    </tr>\n",
       "    <tr>\n",
       "      <th>2</th>\n",
       "      <td>12350.0</td>\n",
       "      <td>17</td>\n",
       "      <td>334.40</td>\n",
       "      <td>0</td>\n",
       "      <td>0.988044</td>\n",
       "      <td>Norway</td>\n",
       "    </tr>\n",
       "    <tr>\n",
       "      <th>3</th>\n",
       "      <td>12352.0</td>\n",
       "      <td>95</td>\n",
       "      <td>3466.67</td>\n",
       "      <td>0</td>\n",
       "      <td>0.983813</td>\n",
       "      <td>Norway</td>\n",
       "    </tr>\n",
       "    <tr>\n",
       "      <th>4</th>\n",
       "      <td>12354.0</td>\n",
       "      <td>58</td>\n",
       "      <td>1079.40</td>\n",
       "      <td>0</td>\n",
       "      <td>0.989204</td>\n",
       "      <td>Spain</td>\n",
       "    </tr>\n",
       "    <tr>\n",
       "      <th>...</th>\n",
       "      <td>...</td>\n",
       "      <td>...</td>\n",
       "      <td>...</td>\n",
       "      <td>...</td>\n",
       "      <td>...</td>\n",
       "      <td>...</td>\n",
       "    </tr>\n",
       "    <tr>\n",
       "      <th>348</th>\n",
       "      <td>14935.0</td>\n",
       "      <td>10</td>\n",
       "      <td>1784.71</td>\n",
       "      <td>0</td>\n",
       "      <td>0.988468</td>\n",
       "      <td>Channel Islands</td>\n",
       "    </tr>\n",
       "    <tr>\n",
       "      <th>349</th>\n",
       "      <td>14936.0</td>\n",
       "      <td>366</td>\n",
       "      <td>8156.62</td>\n",
       "      <td>0</td>\n",
       "      <td>0.960628</td>\n",
       "      <td>Channel Islands</td>\n",
       "    </tr>\n",
       "    <tr>\n",
       "      <th>350</th>\n",
       "      <td>14937.0</td>\n",
       "      <td>35</td>\n",
       "      <td>1626.13</td>\n",
       "      <td>0</td>\n",
       "      <td>0.988721</td>\n",
       "      <td>Channel Islands</td>\n",
       "    </tr>\n",
       "    <tr>\n",
       "      <th>351</th>\n",
       "      <td>16321.0</td>\n",
       "      <td>16</td>\n",
       "      <td>516.60</td>\n",
       "      <td>0</td>\n",
       "      <td>0.988632</td>\n",
       "      <td>Australia</td>\n",
       "    </tr>\n",
       "    <tr>\n",
       "      <th>352</th>\n",
       "      <td>17097.0</td>\n",
       "      <td>213</td>\n",
       "      <td>970.92</td>\n",
       "      <td>0</td>\n",
       "      <td>0.989038</td>\n",
       "      <td>Spain</td>\n",
       "    </tr>\n",
       "  </tbody>\n",
       "</table>\n",
       "<p>353 rows × 6 columns</p>\n",
       "</div>"
      ],
      "text/plain": [
       "     CustomerID    F        M  cluster  silhouette_coeff          Country\n",
       "0       12348.0   31  1797.24        0          0.988455          Finland\n",
       "1       12349.0   73  1757.55        0          0.988527            Italy\n",
       "2       12350.0   17   334.40        0          0.988044           Norway\n",
       "3       12352.0   95  3466.67        0          0.983813           Norway\n",
       "4       12354.0   58  1079.40        0          0.989204            Spain\n",
       "..          ...  ...      ...      ...               ...              ...\n",
       "348     14935.0   10  1784.71        0          0.988468  Channel Islands\n",
       "349     14936.0  366  8156.62        0          0.960628  Channel Islands\n",
       "350     14937.0   35  1626.13        0          0.988721  Channel Islands\n",
       "351     16321.0   16   516.60        0          0.988632        Australia\n",
       "352     17097.0  213   970.92        0          0.989038            Spain\n",
       "\n",
       "[353 rows x 6 columns]"
      ]
     },
     "execution_count": 52,
     "metadata": {},
     "output_type": "execute_result"
    }
   ],
   "source": [
    "df1_v2_cluster = pd.merge(df_cluster, 국가, on='CustomerID')\n",
    "df1_v2_cluster"
   ]
  },
  {
   "cell_type": "code",
   "execution_count": 53,
   "metadata": {},
   "outputs": [
    {
     "data": {
      "image/png": "[encoded data removed]",
      "text/plain": [
       "<Figure size 576x288 with 1 Axes>"
      ]
     },
     "metadata": {
      "needs_background": "light"
     },
     "output_type": "display_data"
    }
   ],
   "source": [
    "plt.figure(figsize=(8,4))\n",
    "sns.boxplot(x='cluster', y='F', data=df1_v2_cluster)\n",
    "plt.show()"
   ]
  },
  {
   "cell_type": "code",
   "execution_count": 54,
   "metadata": {},
   "outputs": [
    {
     "data": {
      "image/png": "[encoded data removed]",
      "text/plain": [
       "<Figure size 576x288 with 1 Axes>"
      ]
     },
     "metadata": {
      "needs_background": "light"
     },
     "output_type": "display_data"
    }
   ],
   "source": [
    "plt.figure(figsize=(8,4))\n",
    "sns.boxplot(x='cluster', y='M', data=df1_v2_cluster)\n",
    "plt.show()"
   ]
  },
  {
   "cell_type": "markdown",
   "metadata": {},
   "source": [
    "#### 1.4 각 군집별 특성에 대한 의견과 비즈니스적 인사이트를 제시하시오"
   ]
  },
  {
   "cell_type": "code",
   "execution_count": null,
   "metadata": {},
   "outputs": [],
   "source": []
  },
  {
   "cell_type": "markdown",
   "metadata": {},
   "source": [
    "### 2번 시계열분석\n",
    "\n",
    "#### 데이터 설명\n",
    "- 각 raw는 관광지 A의 1990년 1월 부터 25년동안의 매달 평균 이용객 숫자이다."
   ]
  },
  {
   "cell_type": "code",
   "execution_count": 55,
   "metadata": {},
   "outputs": [
    {
     "data": {
      "text/html": [
       "<div>\n",
       "<style scoped>\n",
       "    .dataframe tbody tr th:only-of-type {\n",
       "        vertical-align: middle;\n",
       "    }\n",
       "\n",
       "    .dataframe tbody tr th {\n",
       "        vertical-align: top;\n",
       "    }\n",
       "\n",
       "    .dataframe thead th {\n",
       "        text-align: right;\n",
       "    }\n",
       "</style>\n",
       "<table border=\"1\" class=\"dataframe\">\n",
       "  <thead>\n",
       "    <tr style=\"text-align: right;\">\n",
       "      <th></th>\n",
       "      <th>counts</th>\n",
       "    </tr>\n",
       "  </thead>\n",
       "  <tbody>\n",
       "    <tr>\n",
       "      <th>0</th>\n",
       "      <td>544.3</td>\n",
       "    </tr>\n",
       "    <tr>\n",
       "      <th>1</th>\n",
       "      <td>603.1</td>\n",
       "    </tr>\n",
       "    <tr>\n",
       "      <th>2</th>\n",
       "      <td>NaN</td>\n",
       "    </tr>\n",
       "    <tr>\n",
       "      <th>3</th>\n",
       "      <td>533.4</td>\n",
       "    </tr>\n",
       "    <tr>\n",
       "      <th>4</th>\n",
       "      <td>619.5</td>\n",
       "    </tr>\n",
       "    <tr>\n",
       "      <th>...</th>\n",
       "      <td>...</td>\n",
       "    </tr>\n",
       "    <tr>\n",
       "      <th>295</th>\n",
       "      <td>445.2</td>\n",
       "    </tr>\n",
       "    <tr>\n",
       "      <th>296</th>\n",
       "      <td>472.0</td>\n",
       "    </tr>\n",
       "    <tr>\n",
       "      <th>297</th>\n",
       "      <td>341.6</td>\n",
       "    </tr>\n",
       "    <tr>\n",
       "      <th>298</th>\n",
       "      <td>477.8</td>\n",
       "    </tr>\n",
       "    <tr>\n",
       "      <th>299</th>\n",
       "      <td>588.8</td>\n",
       "    </tr>\n",
       "  </tbody>\n",
       "</table>\n",
       "<p>300 rows × 1 columns</p>\n",
       "</div>"
      ],
      "text/plain": [
       "     counts\n",
       "0     544.3\n",
       "1     603.1\n",
       "2       NaN\n",
       "3     533.4\n",
       "4     619.5\n",
       "..      ...\n",
       "295   445.2\n",
       "296   472.0\n",
       "297   341.6\n",
       "298   477.8\n",
       "299   588.8\n",
       "\n",
       "[300 rows x 1 columns]"
      ]
     },
     "execution_count": 55,
     "metadata": {},
     "output_type": "execute_result"
    }
   ],
   "source": [
    "import ssl\n",
    "import pandas as pd\n",
    "import urllib\n",
    "context = ssl._create_unverified_context()\n",
    "\n",
    "url2 = 'https://raw.githubusercontent.com/Ssunbell/ADP_study/main/8주차_0709/data/problem2.csv'\n",
    "encoded_url2 = urllib.parse.quote(url2, safe=':/')\n",
    "\n",
    "response2 = urllib.request.urlopen(encoded_url2, context=context)\n",
    "df2 = pd.read_csv(response2, encoding='utf-8', index_col=0)\n",
    "df2"
   ]
  },
  {
   "cell_type": "code",
   "execution_count": 56,
   "metadata": {},
   "outputs": [],
   "source": [
    "from datetime import datetime, timedelta\n",
    "\n",
    "start_date = datetime(1990, 1, 1)  # 시작 날짜\n",
    "num_months = 300  # 생성할 월 수\n",
    "\n",
    "# 매월 일자 생성\n",
    "dates = []\n",
    "for i in range(num_months):\n",
    "    date = start_date + timedelta(days=30 * i)\n",
    "    dates.append(date)\n",
    "\n",
    "# # 생성된 일자 출력\n",
    "# for date in dates:\n",
    "#     print(date.strftime('%Y-%m-%d'))"
   ]
  },
  {
   "cell_type": "code",
   "execution_count": 57,
   "metadata": {},
   "outputs": [],
   "source": [
    "df2['date'] = dates\n",
    "df2.set_index('date', inplace=True)"
   ]
  },
  {
   "cell_type": "markdown",
   "metadata": {},
   "source": [
    "#### 2-1 EDA와 시각화를 진행하라"
   ]
  },
  {
   "cell_type": "code",
   "execution_count": 58,
   "metadata": {},
   "outputs": [
    {
     "data": {
      "image/png": "[encoded data removed]",
      "text/plain": [
       "<Figure size 432x288 with 1 Axes>"
      ]
     },
     "metadata": {
      "needs_background": "light"
     },
     "output_type": "display_data"
    }
   ],
   "source": [
    "sns.boxplot(df2)\n",
    "plt.show()"
   ]
  },
  {
   "cell_type": "markdown",
   "metadata": {},
   "source": [
    "#### 2-2 결측치 처리와 해당 결측치 처리 방식에 대한 논리적 근거를 제시하라"
   ]
  },
  {
   "cell_type": "code",
   "execution_count": 59,
   "metadata": {},
   "outputs": [],
   "source": [
    "# 시계열 데이터이므로 결측치 처리 : 직전 값으로 대체\n",
    "df2.isnull().sum()\n",
    "df2 = df2.fillna(method= 'ffill')"
   ]
  },
  {
   "cell_type": "markdown",
   "metadata": {},
   "source": [
    "#### 2-3 계절성을 반영한 시계열 모델을 제시하고 정확도 측면에서 모델 성능 평가 할 것"
   ]
  },
  {
   "cell_type": "code",
   "execution_count": 60,
   "metadata": {},
   "outputs": [
    {
     "data": {
      "image/png": "[encoded data removed]",
      "text/plain": [
       "<Figure size 864x576 with 4 Axes>"
      ]
     },
     "metadata": {
      "needs_background": "light"
     },
     "output_type": "display_data"
    }
   ],
   "source": [
    "from statsmodels.tsa.seasonal import seasonal_decompose\n",
    "\n",
    "ts = df2\n",
    "result = seasonal_decompose(ts, model = 'multiplicative')\n",
    "plt.rcParams['figure.figsize'] = [12,8]\n",
    "result.plot()\n",
    "plt.show()"
   ]
  },
  {
   "cell_type": "code",
   "execution_count": null,
   "metadata": {},
   "outputs": [],
   "source": [
    "from statsmodels.graphics.tsaplots import plot_acf, plot_pacf\n",
    "import matplotlib.pyplot as plt\n",
    "\n",
    "plot_acf(diff_data)"
   ]
  },
  {
   "cell_type": "code",
   "execution_count": 64,
   "metadata": {},
   "outputs": [
    {
     "data": {
      "text/html": [
       "<table class=\"simpletable\">\n",
       "<caption>SARIMAX Results</caption>\n",
       "<tr>\n",
       "  <th>Dep. Variable:</th>        <td>counts</td>      <th>  No. Observations:  </th>    <td>300</td>   \n",
       "</tr>\n",
       "<tr>\n",
       "  <th>Model:</th>            <td>ARIMA(1, 0, 1)</td>  <th>  Log Likelihood     </th> <td>-1753.167</td>\n",
       "</tr>\n",
       "<tr>\n",
       "  <th>Date:</th>            <td>Sun, 09 Jul 2023</td> <th>  AIC                </th> <td>3518.334</td> \n",
       "</tr>\n",
       "<tr>\n",
       "  <th>Time:</th>                <td>12:00:20</td>     <th>  BIC                </th> <td>3540.557</td> \n",
       "</tr>\n",
       "<tr>\n",
       "  <th>Sample:</th>             <td>01-01-1990</td>    <th>  HQIC               </th> <td>3527.228</td> \n",
       "</tr>\n",
       "<tr>\n",
       "  <th></th>                   <td>- 07-24-2014</td>   <th>                     </th>     <td> </td>    \n",
       "</tr>\n",
       "<tr>\n",
       "  <th>Covariance Type:</th>        <td>opg</td>       <th>                     </th>     <td> </td>    \n",
       "</tr>\n",
       "</table>\n",
       "<table class=\"simpletable\">\n",
       "<tr>\n",
       "     <td></td>       <th>coef</th>     <th>std err</th>      <th>z</th>      <th>P>|z|</th>  <th>[0.025</th>    <th>0.975]</th>  \n",
       "</tr>\n",
       "<tr>\n",
       "  <th>const</th>  <td>  484.2450</td> <td>   33.592</td> <td>   14.416</td> <td> 0.000</td> <td>  418.407</td> <td>  550.083</td>\n",
       "</tr>\n",
       "<tr>\n",
       "  <th>x1</th>     <td>    0.2624</td> <td>    0.484</td> <td>    0.542</td> <td> 0.588</td> <td>   -0.686</td> <td>    1.211</td>\n",
       "</tr>\n",
       "<tr>\n",
       "  <th>x2</th>     <td>   -0.0008</td> <td>    0.002</td> <td>   -0.544</td> <td> 0.586</td> <td>   -0.004</td> <td>    0.002</td>\n",
       "</tr>\n",
       "<tr>\n",
       "  <th>ar.L1</th>  <td>    0.5424</td> <td>    0.100</td> <td>    5.437</td> <td> 0.000</td> <td>    0.347</td> <td>    0.738</td>\n",
       "</tr>\n",
       "<tr>\n",
       "  <th>ma.L1</th>  <td>   -0.0483</td> <td>    0.120</td> <td>   -0.402</td> <td> 0.688</td> <td>   -0.284</td> <td>    0.187</td>\n",
       "</tr>\n",
       "<tr>\n",
       "  <th>sigma2</th> <td> 7015.7054</td> <td>  614.473</td> <td>   11.417</td> <td> 0.000</td> <td> 5811.360</td> <td> 8220.051</td>\n",
       "</tr>\n",
       "</table>\n",
       "<table class=\"simpletable\">\n",
       "<tr>\n",
       "  <th>Ljung-Box (L1) (Q):</th>     <td>0.00</td> <th>  Jarque-Bera (JB):  </th> <td>0.81</td> \n",
       "</tr>\n",
       "<tr>\n",
       "  <th>Prob(Q):</th>                <td>0.97</td> <th>  Prob(JB):          </th> <td>0.67</td> \n",
       "</tr>\n",
       "<tr>\n",
       "  <th>Heteroskedasticity (H):</th> <td>1.18</td> <th>  Skew:              </th> <td>-0.09</td>\n",
       "</tr>\n",
       "<tr>\n",
       "  <th>Prob(H) (two-sided):</th>    <td>0.40</td> <th>  Kurtosis:          </th> <td>2.81</td> \n",
       "</tr>\n",
       "</table><br/><br/>Warnings:<br/>[1] Covariance matrix calculated using the outer product of gradients (complex-step)."
      ],
      "text/plain": [
       "<class 'statsmodels.iolib.summary.Summary'>\n",
       "\"\"\"\n",
       "                               SARIMAX Results                                \n",
       "==============================================================================\n",
       "Dep. Variable:                 counts   No. Observations:                  300\n",
       "Model:                 ARIMA(1, 0, 1)   Log Likelihood               -1753.167\n",
       "Date:                Sun, 09 Jul 2023   AIC                           3518.334\n",
       "Time:                        12:00:20   BIC                           3540.557\n",
       "Sample:                    01-01-1990   HQIC                          3527.228\n",
       "                         - 07-24-2014                                         \n",
       "Covariance Type:                  opg                                         \n",
       "==============================================================================\n",
       "                 coef    std err          z      P>|z|      [0.025      0.975]\n",
       "------------------------------------------------------------------------------\n",
       "const        484.2450     33.592     14.416      0.000     418.407     550.083\n",
       "x1             0.2624      0.484      0.542      0.588      -0.686       1.211\n",
       "x2            -0.0008      0.002     -0.544      0.586      -0.004       0.002\n",
       "ar.L1          0.5424      0.100      5.437      0.000       0.347       0.738\n",
       "ma.L1         -0.0483      0.120     -0.402      0.688      -0.284       0.187\n",
       "sigma2      7015.7054    614.473     11.417      0.000    5811.360    8220.051\n",
       "===================================================================================\n",
       "Ljung-Box (L1) (Q):                   0.00   Jarque-Bera (JB):                 0.81\n",
       "Prob(Q):                              0.97   Prob(JB):                         0.67\n",
       "Heteroskedasticity (H):               1.18   Skew:                            -0.09\n",
       "Prob(H) (two-sided):                  0.40   Kurtosis:                         2.81\n",
       "===================================================================================\n",
       "\n",
       "Warnings:\n",
       "[1] Covariance matrix calculated using the outer product of gradients (complex-step).\n",
       "\"\"\""
      ]
     },
     "execution_count": 64,
     "metadata": {},
     "output_type": "execute_result"
    }
   ],
   "source": [
    "from statsmodels.graphics.tsaplots import plot_acf, plot_pacf\n",
    "import matplotlib.pyplot as plt\n",
    "\n",
    "## arima 모델링\n",
    "from statsmodels.tsa.arima.model import ARIMA\n",
    "model = ARIMA(ts, order=(1,0,1), trend='ctt')\n",
    "res = model.fit()\n",
    "res.summary()"
   ]
  },
  {
   "cell_type": "markdown",
   "metadata": {},
   "source": [
    "#### 2-4 분석 결과 활용 가능 여부에 대한 분석 전문가로서의 제안"
   ]
  },
  {
   "cell_type": "code",
   "execution_count": null,
   "metadata": {},
   "outputs": [],
   "source": []
  },
  {
   "cell_type": "markdown",
   "metadata": {},
   "source": [
    "## 통계\n",
    "### 3. 기본 통계 및 확률 문제"
   ]
  },
  {
   "cell_type": "markdown",
   "metadata": {},
   "source": [
    "#### 3-1 서울에서 영동까지 100km/h로 가고 영동에서 서울까지 80km/로 돌아왔을 때, 평균 속도는?"
   ]
  },
  {
   "cell_type": "code",
   "execution_count": 23,
   "metadata": {},
   "outputs": [
    {
     "name": "stdout",
     "output_type": "stream",
     "text": [
      "88.88888888888889\n"
     ]
    }
   ],
   "source": [
    "time_seoul_to_yeongdong = 100 / 100\n",
    "time_yeongdong_to_seoul = 100 / 80\n",
    "\n",
    "total_distance = 100 + 100\n",
    "total_time = time_seoul_to_yeongdong + time_yeongdong_to_seoul\n",
    "\n",
    "average_speed = total_distance / total_time\n",
    "print(average_speed)"
   ]
  },
  {
   "cell_type": "markdown",
   "metadata": {},
   "source": [
    "#### 3-2 이전의 연매출이 3000이고 올해의 연매출이 4000, 내년의 연매출이 5000으로 늘어날 예정이라면 연평균 몇배가 증가한 것인가?"
   ]
  },
  {
   "cell_type": "code",
   "execution_count": 20,
   "metadata": {},
   "outputs": [
    {
     "data": {
      "text/plain": [
       "0.1856311014966876"
      ]
     },
     "execution_count": 20,
     "metadata": {},
     "output_type": "execute_result"
    }
   ],
   "source": [
    "(5000 / 3000) ** (1 / 3) - 1"
   ]
  },
  {
   "cell_type": "markdown",
   "metadata": {},
   "source": [
    "#### 3-3 남성, 여성의 등산, 수영에 대한 취미 선호도 빈도표(2x2)를 보고, 남성 중에서 등산을 좋아할 확률을 구하시오\n",
    "\n",
    "<img width=\"300\" src=\"https://github.com/Ssunbell/Algorithm_Study/assets/97590480/98463d13-fa90-455b-a03c-a21701652dc1\">"
   ]
  },
  {
   "cell_type": "code",
   "execution_count": 21,
   "metadata": {},
   "outputs": [
    {
     "data": {
      "text/plain": [
       "0.6666666666666666"
      ]
     },
     "execution_count": 21,
     "metadata": {},
     "output_type": "execute_result"
    }
   ],
   "source": [
    "data = pd.DataFrame({'등산': [20, 10], '수영': [10, 30]}, index=['남자', '여자'])\n",
    "data.loc['남자', '등산'] / data['등산'].sum()"
   ]
  },
  {
   "cell_type": "markdown",
   "metadata": {},
   "source": [
    "#### 3-4 표본 10개의 분산이 90일 때 신뢰도 95%로 모분산의 신뢰구간을 추정하라"
   ]
  },
  {
   "cell_type": "code",
   "execution_count": 1,
   "metadata": {},
   "outputs": [
    {
     "name": "stdout",
     "output_type": "stream",
     "text": [
      "[42.58055444790953, 299.95672846672363]\n"
     ]
    }
   ],
   "source": [
    "import scipy.stats as stats\n",
    "import math\n",
    "\n",
    "sample_variance = 90\n",
    "sample_size = 10\n",
    "confidence_level = 0.95\n",
    "\n",
    "chi2_upper = stats.chi2.ppf((1 + confidence_level) / 2, df=sample_size - 1)\n",
    "confidence_interval = [(sample_size - 1) * sample_variance / chi2_upper, (sample_size - 1) * sample_variance / stats.chi2.ppf((1 - confidence_level) / 2, df=sample_size - 1)]\n",
    "print(confidence_interval)"
   ]
  },
  {
   "cell_type": "markdown",
   "metadata": {},
   "source": [
    "### 4번 임상 대상 20명에 대해 혈압약 투약 이전과 이후의 차이가 24, 표준편차 9  신뢰구간 95%이고 혈압약 투약 이전과 이후의 차이가 존재하는지 확인하려한다."
   ]
  },
  {
   "cell_type": "markdown",
   "metadata": {},
   "source": [
    "#### 4-1 귀무가설과 연구가설을 제시하시오"
   ]
  },
  {
   "cell_type": "code",
   "execution_count": null,
   "metadata": {},
   "outputs": [],
   "source": []
  },
  {
   "cell_type": "markdown",
   "metadata": {},
   "source": [
    "#### 4-2 검정 후 귀무가설 기각 여부 제시"
   ]
  },
  {
   "cell_type": "code",
   "execution_count": null,
   "metadata": {},
   "outputs": [],
   "source": []
  },
  {
   "cell_type": "markdown",
   "metadata": {},
   "source": [
    "### 5번 공장 X,Y,Z의 평균 출하 소요시간을 여러 일자에 거쳐 측정한 데이터이다. 각 공장의 중위수의 차이가 존재하는지 확인하려 한다."
   ]
  },
  {
   "cell_type": "code",
   "execution_count": 3,
   "metadata": {},
   "outputs": [
    {
     "data": {
      "text/html": [
       "<div>\n",
       "<style scoped>\n",
       "    .dataframe tbody tr th:only-of-type {\n",
       "        vertical-align: middle;\n",
       "    }\n",
       "\n",
       "    .dataframe tbody tr th {\n",
       "        vertical-align: top;\n",
       "    }\n",
       "\n",
       "    .dataframe thead th {\n",
       "        text-align: right;\n",
       "    }\n",
       "</style>\n",
       "<table border=\"1\" class=\"dataframe\">\n",
       "  <thead>\n",
       "    <tr style=\"text-align: right;\">\n",
       "      <th></th>\n",
       "      <th>출하 소요시간</th>\n",
       "      <th>공장</th>\n",
       "      <th>공장별 출하 소요시간 순위</th>\n",
       "    </tr>\n",
       "  </thead>\n",
       "  <tbody>\n",
       "    <tr>\n",
       "      <th>0</th>\n",
       "      <td>71</td>\n",
       "      <td>Z</td>\n",
       "      <td>11</td>\n",
       "    </tr>\n",
       "    <tr>\n",
       "      <th>1</th>\n",
       "      <td>75</td>\n",
       "      <td>X</td>\n",
       "      <td>14</td>\n",
       "    </tr>\n",
       "    <tr>\n",
       "      <th>2</th>\n",
       "      <td>71</td>\n",
       "      <td>X</td>\n",
       "      <td>12</td>\n",
       "    </tr>\n",
       "    <tr>\n",
       "      <th>3</th>\n",
       "      <td>53</td>\n",
       "      <td>Z</td>\n",
       "      <td>1</td>\n",
       "    </tr>\n",
       "    <tr>\n",
       "      <th>4</th>\n",
       "      <td>50</td>\n",
       "      <td>X</td>\n",
       "      <td>1</td>\n",
       "    </tr>\n",
       "    <tr>\n",
       "      <th>5</th>\n",
       "      <td>64</td>\n",
       "      <td>Z</td>\n",
       "      <td>6</td>\n",
       "    </tr>\n",
       "    <tr>\n",
       "      <th>6</th>\n",
       "      <td>58</td>\n",
       "      <td>Y</td>\n",
       "      <td>2</td>\n",
       "    </tr>\n",
       "    <tr>\n",
       "      <th>7</th>\n",
       "      <td>71</td>\n",
       "      <td>Z</td>\n",
       "      <td>12</td>\n",
       "    </tr>\n",
       "    <tr>\n",
       "      <th>8</th>\n",
       "      <td>76</td>\n",
       "      <td>Y</td>\n",
       "      <td>14</td>\n",
       "    </tr>\n",
       "    <tr>\n",
       "      <th>9</th>\n",
       "      <td>67</td>\n",
       "      <td>Y</td>\n",
       "      <td>8</td>\n",
       "    </tr>\n",
       "    <tr>\n",
       "      <th>10</th>\n",
       "      <td>70</td>\n",
       "      <td>X</td>\n",
       "      <td>11</td>\n",
       "    </tr>\n",
       "    <tr>\n",
       "      <th>11</th>\n",
       "      <td>69</td>\n",
       "      <td>Y</td>\n",
       "      <td>10</td>\n",
       "    </tr>\n",
       "    <tr>\n",
       "      <th>12</th>\n",
       "      <td>60</td>\n",
       "      <td>Z</td>\n",
       "      <td>4</td>\n",
       "    </tr>\n",
       "    <tr>\n",
       "      <th>13</th>\n",
       "      <td>64</td>\n",
       "      <td>Y</td>\n",
       "      <td>5</td>\n",
       "    </tr>\n",
       "    <tr>\n",
       "      <th>14</th>\n",
       "      <td>65</td>\n",
       "      <td>Z</td>\n",
       "      <td>7</td>\n",
       "    </tr>\n",
       "    <tr>\n",
       "      <th>15</th>\n",
       "      <td>78</td>\n",
       "      <td>Z</td>\n",
       "      <td>14</td>\n",
       "    </tr>\n",
       "    <tr>\n",
       "      <th>16</th>\n",
       "      <td>61</td>\n",
       "      <td>Z</td>\n",
       "      <td>5</td>\n",
       "    </tr>\n",
       "    <tr>\n",
       "      <th>17</th>\n",
       "      <td>68</td>\n",
       "      <td>Y</td>\n",
       "      <td>9</td>\n",
       "    </tr>\n",
       "    <tr>\n",
       "      <th>18</th>\n",
       "      <td>64</td>\n",
       "      <td>X</td>\n",
       "      <td>8</td>\n",
       "    </tr>\n",
       "    <tr>\n",
       "      <th>19</th>\n",
       "      <td>65</td>\n",
       "      <td>X</td>\n",
       "      <td>9</td>\n",
       "    </tr>\n",
       "    <tr>\n",
       "      <th>20</th>\n",
       "      <td>70</td>\n",
       "      <td>Y</td>\n",
       "      <td>12</td>\n",
       "    </tr>\n",
       "    <tr>\n",
       "      <th>21</th>\n",
       "      <td>69</td>\n",
       "      <td>Z</td>\n",
       "      <td>9</td>\n",
       "    </tr>\n",
       "    <tr>\n",
       "      <th>22</th>\n",
       "      <td>70</td>\n",
       "      <td>Y</td>\n",
       "      <td>13</td>\n",
       "    </tr>\n",
       "    <tr>\n",
       "      <th>23</th>\n",
       "      <td>70</td>\n",
       "      <td>Z</td>\n",
       "      <td>10</td>\n",
       "    </tr>\n",
       "    <tr>\n",
       "      <th>24</th>\n",
       "      <td>65</td>\n",
       "      <td>Y</td>\n",
       "      <td>6</td>\n",
       "    </tr>\n",
       "    <tr>\n",
       "      <th>25</th>\n",
       "      <td>63</td>\n",
       "      <td>X</td>\n",
       "      <td>7</td>\n",
       "    </tr>\n",
       "    <tr>\n",
       "      <th>26</th>\n",
       "      <td>56</td>\n",
       "      <td>X</td>\n",
       "      <td>4</td>\n",
       "    </tr>\n",
       "    <tr>\n",
       "      <th>27</th>\n",
       "      <td>58</td>\n",
       "      <td>X</td>\n",
       "      <td>5</td>\n",
       "    </tr>\n",
       "    <tr>\n",
       "      <th>28</th>\n",
       "      <td>74</td>\n",
       "      <td>Z</td>\n",
       "      <td>13</td>\n",
       "    </tr>\n",
       "    <tr>\n",
       "      <th>29</th>\n",
       "      <td>79</td>\n",
       "      <td>X</td>\n",
       "      <td>15</td>\n",
       "    </tr>\n",
       "    <tr>\n",
       "      <th>30</th>\n",
       "      <td>68</td>\n",
       "      <td>Z</td>\n",
       "      <td>8</td>\n",
       "    </tr>\n",
       "    <tr>\n",
       "      <th>31</th>\n",
       "      <td>57</td>\n",
       "      <td>Z</td>\n",
       "      <td>3</td>\n",
       "    </tr>\n",
       "    <tr>\n",
       "      <th>32</th>\n",
       "      <td>69</td>\n",
       "      <td>Y</td>\n",
       "      <td>11</td>\n",
       "    </tr>\n",
       "    <tr>\n",
       "      <th>33</th>\n",
       "      <td>66</td>\n",
       "      <td>Y</td>\n",
       "      <td>7</td>\n",
       "    </tr>\n",
       "    <tr>\n",
       "      <th>34</th>\n",
       "      <td>59</td>\n",
       "      <td>X</td>\n",
       "      <td>6</td>\n",
       "    </tr>\n",
       "    <tr>\n",
       "      <th>35</th>\n",
       "      <td>59</td>\n",
       "      <td>Y</td>\n",
       "      <td>3</td>\n",
       "    </tr>\n",
       "    <tr>\n",
       "      <th>36</th>\n",
       "      <td>54</td>\n",
       "      <td>Y</td>\n",
       "      <td>1</td>\n",
       "    </tr>\n",
       "    <tr>\n",
       "      <th>37</th>\n",
       "      <td>52</td>\n",
       "      <td>X</td>\n",
       "      <td>2</td>\n",
       "    </tr>\n",
       "    <tr>\n",
       "      <th>38</th>\n",
       "      <td>56</td>\n",
       "      <td>Z</td>\n",
       "      <td>2</td>\n",
       "    </tr>\n",
       "    <tr>\n",
       "      <th>39</th>\n",
       "      <td>76</td>\n",
       "      <td>Y</td>\n",
       "      <td>15</td>\n",
       "    </tr>\n",
       "    <tr>\n",
       "      <th>40</th>\n",
       "      <td>67</td>\n",
       "      <td>X</td>\n",
       "      <td>10</td>\n",
       "    </tr>\n",
       "    <tr>\n",
       "      <th>41</th>\n",
       "      <td>64</td>\n",
       "      <td>Y</td>\n",
       "      <td>4</td>\n",
       "    </tr>\n",
       "    <tr>\n",
       "      <th>42</th>\n",
       "      <td>55</td>\n",
       "      <td>X</td>\n",
       "      <td>3</td>\n",
       "    </tr>\n",
       "    <tr>\n",
       "      <th>43</th>\n",
       "      <td>72</td>\n",
       "      <td>X</td>\n",
       "      <td>13</td>\n",
       "    </tr>\n",
       "  </tbody>\n",
       "</table>\n",
       "</div>"
      ],
      "text/plain": [
       "    출하 소요시간  공장   공장별 출하 소요시간 순위\n",
       "0        71   Z               11\n",
       "1        75   X               14\n",
       "2        71   X               12\n",
       "3        53   Z                1\n",
       "4        50   X                1\n",
       "5        64   Z                6\n",
       "6        58   Y                2\n",
       "7        71   Z               12\n",
       "8        76   Y               14\n",
       "9        67   Y                8\n",
       "10       70   X               11\n",
       "11       69   Y               10\n",
       "12       60   Z                4\n",
       "13       64   Y                5\n",
       "14       65   Z                7\n",
       "15       78   Z               14\n",
       "16       61   Z                5\n",
       "17       68   Y                9\n",
       "18       64   X                8\n",
       "19       65   X                9\n",
       "20       70   Y               12\n",
       "21       69   Z                9\n",
       "22       70   Y               13\n",
       "23       70   Z               10\n",
       "24       65   Y                6\n",
       "25       63   X                7\n",
       "26       56   X                4\n",
       "27       58   X                5\n",
       "28       74   Z               13\n",
       "29       79   X               15\n",
       "30       68   Z                8\n",
       "31       57   Z                3\n",
       "32       69   Y               11\n",
       "33       66   Y                7\n",
       "34       59   X                6\n",
       "35       59   Y                3\n",
       "36       54   Y                1\n",
       "37       52   X                2\n",
       "38       56   Z                2\n",
       "39       76   Y               15\n",
       "40       67   X               10\n",
       "41       64   Y                4\n",
       "42       55   X                3\n",
       "43       72   X               13"
      ]
     },
     "execution_count": 3,
     "metadata": {},
     "output_type": "execute_result"
    }
   ],
   "source": [
    "import ssl\n",
    "import pandas as pd\n",
    "import urllib\n",
    "context = ssl._create_unverified_context()\n",
    "\n",
    "url3 = 'https://raw.githubusercontent.com/Ssunbell/ADP_study/main/8주차_0709/data/problem5.csv'\n",
    "encoded_url3 = urllib.parse.quote(url3, safe=':/')\n",
    "\n",
    "response3 = urllib.request.urlopen(encoded_url3, context=context)\n",
    "df3 = pd.read_csv(response3, encoding='utf-8')\n",
    "df3"
   ]
  },
  {
   "cell_type": "markdown",
   "metadata": {},
   "source": [
    "#### 5-1. 연구가설과 귀무가설을 설정하시오"
   ]
  },
  {
   "cell_type": "code",
   "execution_count": 15,
   "metadata": {},
   "outputs": [
    {
     "name": "stdout",
     "output_type": "stream",
     "text": [
      "nan\n"
     ]
    }
   ],
   "source": [
    "import pandas as pd\n",
    "from scipy.stats import kruskal\n",
    "\n",
    "x_times = df3[df3[' 공장'] == 'x']['출하 소요시간']\n",
    "y_times = df3[df3[' 공장'] == 'y']['출하 소요시간']\n",
    "z_times = df3[df3[' 공장'] == 'z']['출하 소요시간']\n",
    "\n",
    "# Kruskal-Wallis 검정 수행\n",
    "statistic, p_value = kruskal(x_times, y_times, z_times)\n",
    "print(p_value)"
   ]
  },
  {
   "cell_type": "code",
   "execution_count": 10,
   "metadata": {},
   "outputs": [
    {
     "data": {
      "text/plain": [
       "Index(['출하 소요시간', ' 공장', ' 공장별 출하 소요시간 순위'], dtype='object')"
      ]
     },
     "execution_count": 10,
     "metadata": {},
     "output_type": "execute_result"
    }
   ],
   "source": [
    "df3.columns"
   ]
  },
  {
   "cell_type": "markdown",
   "metadata": {},
   "source": [
    "#### 5-2. 검정통계량을 구하고 가설을 채택하시오"
   ]
  },
  {
   "cell_type": "code",
   "execution_count": null,
   "metadata": {},
   "outputs": [],
   "source": []
  },
  {
   "cell_type": "markdown",
   "metadata": {},
   "source": [
    "### 6번 다음은 A사의 투자 방안에 대한 표이다. 3년동안의 1~5안의 투자금액을 참고하여 1개년 50억원, 2개년 60억원, 3개년 70억원의 예산을 가지고 NPV(순현재가치)가 가장 높아지는 안을 제시하시오.\n",
    "\n",
    "<img width=\"300\" src=\"https://github.com/Ssunbell/Algorithm_Study/assets/97590480/33f192c2-1103-4f88-ae36-f1ed0fbb9e18\">"
   ]
  },
  {
   "cell_type": "code",
   "execution_count": null,
   "metadata": {},
   "outputs": [],
   "source": []
  }
 ],
 "metadata": {
  "kernelspec": {
   "display_name": "Python 3",
   "language": "python",
   "name": "python3"
  },
  "language_info": {
   "codemirror_mode": {
    "name": "ipython",
    "version": 3
   },
   "file_extension": ".py",
   "mimetype": "text/x-python",
   "name": "python",
   "nbconvert_exporter": "python",
   "pygments_lexer": "ipython3",
   "version": "3.7.3"
  }
 },
 "nbformat": 4,
 "nbformat_minor": 2
}
