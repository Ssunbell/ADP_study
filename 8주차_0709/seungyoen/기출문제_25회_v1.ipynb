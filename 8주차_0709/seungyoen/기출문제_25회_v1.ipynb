{
 "cells": [
  {
   "attachments": {},
   "cell_type": "markdown",
   "metadata": {},
   "source": [
    "## 머신러닝\n",
    "### 1번 군집분석\n",
    "#### 다음은 온라인 유통회사 A사의 고객의 물품 구매 정보에 대한 데이터이다. A 회사는 RMF(Recency, Monetary, Frequency) 중에서 F와 M를 기준으로 고객 군집 분석을 시행하고자 한다. 다음 물음에 답하시오.\n",
    "\n",
    "데이터 설명\n",
    "- InvoiceNo: Invoice number. Nominal, a 6-digit integral number uniquely assigned to each transaction. If this code starts with letter 'c', it indicates a cancellation.\n",
    "- StockCode: Product (item) code. Nominal, a 5-digit integral number uniquely assigned to each distinct product.\n",
    "- Description: Product (item) name. Nominal.\n",
    "- Quantity: The quantities of each product (item) per transaction. Numeric.\n",
    "- InvoiceDate: Invice Date and time. Numeric, the day and time when each transaction was generated.\n",
    "- UnitPrice: Unit price. Numeric, Product price per unit in sterling.\n",
    "- CustomerID: Customer number. Nominal, a 5-digit integral number uniquely assigned to each customer.\n",
    "- Country: Country name. Nominal, the name of the country where each customer resides."
   ]
  },
  {
   "cell_type": "code",
   "execution_count": 238,
   "metadata": {},
   "outputs": [
    {
     "data": {
      "text/html": [
       "<div>\n",
       "<style scoped>\n",
       "    .dataframe tbody tr th:only-of-type {\n",
       "        vertical-align: middle;\n",
       "    }\n",
       "\n",
       "    .dataframe tbody tr th {\n",
       "        vertical-align: top;\n",
       "    }\n",
       "\n",
       "    .dataframe thead th {\n",
       "        text-align: right;\n",
       "    }\n",
       "</style>\n",
       "<table border=\"1\" class=\"dataframe\">\n",
       "  <thead>\n",
       "    <tr style=\"text-align: right;\">\n",
       "      <th></th>\n",
       "      <th>InvoiceNo</th>\n",
       "      <th>StockCode</th>\n",
       "      <th>Description</th>\n",
       "      <th>Quantity</th>\n",
       "      <th>InvoiceDate</th>\n",
       "      <th>UnitPrice</th>\n",
       "      <th>CustomerID</th>\n",
       "      <th>Country</th>\n",
       "    </tr>\n",
       "  </thead>\n",
       "  <tbody>\n",
       "    <tr>\n",
       "      <th>0</th>\n",
       "      <td>565857</td>\n",
       "      <td>84879</td>\n",
       "      <td>ASSORTED COLOUR BIRD ORNAMENT</td>\n",
       "      <td>16</td>\n",
       "      <td>9/7/2011 14:13</td>\n",
       "      <td>1.69</td>\n",
       "      <td>14911.0</td>\n",
       "      <td>EIRE</td>\n",
       "    </tr>\n",
       "    <tr>\n",
       "      <th>1</th>\n",
       "      <td>560452</td>\n",
       "      <td>22432</td>\n",
       "      <td>WATERING CAN PINK BUNNY</td>\n",
       "      <td>6</td>\n",
       "      <td>7/19/2011 9:51</td>\n",
       "      <td>1.95</td>\n",
       "      <td>12682.0</td>\n",
       "      <td>France</td>\n",
       "    </tr>\n",
       "    <tr>\n",
       "      <th>2</th>\n",
       "      <td>578509</td>\n",
       "      <td>22492</td>\n",
       "      <td>MINI PAINT SET VINTAGE</td>\n",
       "      <td>36</td>\n",
       "      <td>11/24/2011 13:17</td>\n",
       "      <td>0.65</td>\n",
       "      <td>12705.0</td>\n",
       "      <td>Germany</td>\n",
       "    </tr>\n",
       "    <tr>\n",
       "      <th>3</th>\n",
       "      <td>579345</td>\n",
       "      <td>22728</td>\n",
       "      <td>ALARM CLOCK BAKELIKE PINK</td>\n",
       "      <td>8</td>\n",
       "      <td>11/29/2011 11:46</td>\n",
       "      <td>3.75</td>\n",
       "      <td>12727.0</td>\n",
       "      <td>France</td>\n",
       "    </tr>\n",
       "    <tr>\n",
       "      <th>4</th>\n",
       "      <td>564039</td>\n",
       "      <td>21731</td>\n",
       "      <td>RED TOADSTOOL LED NIGHT LIGHT</td>\n",
       "      <td>12</td>\n",
       "      <td>8/22/2011 12:40</td>\n",
       "      <td>1.65</td>\n",
       "      <td>12645.0</td>\n",
       "      <td>Germany</td>\n",
       "    </tr>\n",
       "    <tr>\n",
       "      <th>...</th>\n",
       "      <td>...</td>\n",
       "      <td>...</td>\n",
       "      <td>...</td>\n",
       "      <td>...</td>\n",
       "      <td>...</td>\n",
       "      <td>...</td>\n",
       "      <td>...</td>\n",
       "      <td>...</td>\n",
       "    </tr>\n",
       "    <tr>\n",
       "      <th>41019</th>\n",
       "      <td>560590</td>\n",
       "      <td>21884</td>\n",
       "      <td>CAKES AND BOWS GIFT  TAPE</td>\n",
       "      <td>12</td>\n",
       "      <td>7/19/2011 15:55</td>\n",
       "      <td>0.65</td>\n",
       "      <td>12560.0</td>\n",
       "      <td>Germany</td>\n",
       "    </tr>\n",
       "    <tr>\n",
       "      <th>41020</th>\n",
       "      <td>561870</td>\n",
       "      <td>21156</td>\n",
       "      <td>RETROSPOT CHILDRENS APRON</td>\n",
       "      <td>8</td>\n",
       "      <td>7/31/2011 11:45</td>\n",
       "      <td>1.95</td>\n",
       "      <td>14911.0</td>\n",
       "      <td>EIRE</td>\n",
       "    </tr>\n",
       "    <tr>\n",
       "      <th>41021</th>\n",
       "      <td>579792</td>\n",
       "      <td>22436</td>\n",
       "      <td>12 COLOURED PARTY BALLOONS</td>\n",
       "      <td>20</td>\n",
       "      <td>11/30/2011 15:43</td>\n",
       "      <td>0.65</td>\n",
       "      <td>12714.0</td>\n",
       "      <td>France</td>\n",
       "    </tr>\n",
       "    <tr>\n",
       "      <th>41022</th>\n",
       "      <td>C566753</td>\n",
       "      <td>22796</td>\n",
       "      <td>PHOTO FRAME 3 CLASSIC HANGING</td>\n",
       "      <td>-1</td>\n",
       "      <td>9/14/2011 15:48</td>\n",
       "      <td>9.95</td>\n",
       "      <td>14911.0</td>\n",
       "      <td>EIRE</td>\n",
       "    </tr>\n",
       "    <tr>\n",
       "      <th>41023</th>\n",
       "      <td>546875</td>\n",
       "      <td>22383</td>\n",
       "      <td>LUNCH BAG SUKI  DESIGN</td>\n",
       "      <td>10</td>\n",
       "      <td>3/17/2011 16:38</td>\n",
       "      <td>1.65</td>\n",
       "      <td>12514.0</td>\n",
       "      <td>Italy</td>\n",
       "    </tr>\n",
       "  </tbody>\n",
       "</table>\n",
       "<p>41024 rows × 8 columns</p>\n",
       "</div>"
      ],
      "text/plain": [
       "      InvoiceNo StockCode                    Description  Quantity  \\\n",
       "0        565857     84879  ASSORTED COLOUR BIRD ORNAMENT        16   \n",
       "1        560452     22432        WATERING CAN PINK BUNNY         6   \n",
       "2        578509     22492        MINI PAINT SET VINTAGE         36   \n",
       "3        579345     22728      ALARM CLOCK BAKELIKE PINK         8   \n",
       "4        564039     21731  RED TOADSTOOL LED NIGHT LIGHT        12   \n",
       "...         ...       ...                            ...       ...   \n",
       "41019    560590     21884      CAKES AND BOWS GIFT  TAPE        12   \n",
       "41020    561870     21156      RETROSPOT CHILDRENS APRON         8   \n",
       "41021    579792     22436     12 COLOURED PARTY BALLOONS        20   \n",
       "41022   C566753     22796  PHOTO FRAME 3 CLASSIC HANGING        -1   \n",
       "41023    546875     22383        LUNCH BAG SUKI  DESIGN         10   \n",
       "\n",
       "            InvoiceDate  UnitPrice  CustomerID  Country  \n",
       "0        9/7/2011 14:13       1.69     14911.0     EIRE  \n",
       "1        7/19/2011 9:51       1.95     12682.0   France  \n",
       "2      11/24/2011 13:17       0.65     12705.0  Germany  \n",
       "3      11/29/2011 11:46       3.75     12727.0   France  \n",
       "4       8/22/2011 12:40       1.65     12645.0  Germany  \n",
       "...                 ...        ...         ...      ...  \n",
       "41019   7/19/2011 15:55       0.65     12560.0  Germany  \n",
       "41020   7/31/2011 11:45       1.95     14911.0     EIRE  \n",
       "41021  11/30/2011 15:43       0.65     12714.0   France  \n",
       "41022   9/14/2011 15:48       9.95     14911.0     EIRE  \n",
       "41023   3/17/2011 16:38       1.65     12514.0    Italy  \n",
       "\n",
       "[41024 rows x 8 columns]"
      ]
     },
     "execution_count": 238,
     "metadata": {},
     "output_type": "execute_result"
    }
   ],
   "source": [
    "import ssl\n",
    "import pandas as pd\n",
    "import urllib\n",
    "context = ssl._create_unverified_context()\n",
    "\n",
    "url1 = 'https://raw.githubusercontent.com/Ssunbell/ADP_study/main/8주차_0709/data/problem1.csv'\n",
    "encoded_url1 = urllib.parse.quote(url1, safe=':/')\n",
    "\n",
    "response = urllib.request.urlopen(encoded_url1, context=context)\n",
    "df1 = pd.read_csv(response, encoding='utf-8')\n",
    "df1"
   ]
  },
  {
   "cell_type": "markdown",
   "metadata": {},
   "source": [
    "[reference](https://medium.com/@ugursavci/customer-segmentation-using-rfm-analysis-in-python-218a3255f714)"
   ]
  },
  {
   "cell_type": "code",
   "execution_count": 239,
   "metadata": {},
   "outputs": [
    {
     "name": "stdout",
     "output_type": "stream",
     "text": [
      "<class 'pandas.core.frame.DataFrame'>\n",
      "RangeIndex: 41024 entries, 0 to 41023\n",
      "Data columns (total 8 columns):\n",
      " #   Column       Non-Null Count  Dtype  \n",
      "---  ------       --------------  -----  \n",
      " 0   InvoiceNo    41024 non-null  object \n",
      " 1   StockCode    41024 non-null  object \n",
      " 2   Description  41024 non-null  object \n",
      " 3   Quantity     41024 non-null  int64  \n",
      " 4   InvoiceDate  41024 non-null  object \n",
      " 5   UnitPrice    41024 non-null  float64\n",
      " 6   CustomerID   41024 non-null  float64\n",
      " 7   Country      41024 non-null  object \n",
      "dtypes: float64(2), int64(1), object(5)\n",
      "memory usage: 2.5+ MB\n"
     ]
    }
   ],
   "source": [
    "df1.info()"
   ]
  },
  {
   "cell_type": "code",
   "execution_count": 248,
   "metadata": {},
   "outputs": [],
   "source": [
    "df1[\"CustomerID\"] = df1.CustomerID.astype(int)"
   ]
  },
  {
   "cell_type": "code",
   "execution_count": 253,
   "metadata": {},
   "outputs": [],
   "source": [
    "df1[\"InvoiceDate\"] = pd.to_datetime(df1.InvoiceDate)"
   ]
  },
  {
   "cell_type": "code",
   "execution_count": 254,
   "metadata": {
    "collapsed": true,
    "jupyter": {
     "outputs_hidden": true
    },
    "scrolled": true
   },
   "outputs": [
    {
     "name": "stdout",
     "output_type": "stream",
     "text": [
      "<class 'pandas.core.frame.DataFrame'>\n",
      "RangeIndex: 41024 entries, 0 to 41023\n",
      "Data columns (total 8 columns):\n",
      " #   Column       Non-Null Count  Dtype         \n",
      "---  ------       --------------  -----         \n",
      " 0   InvoiceNo    41024 non-null  object        \n",
      " 1   StockCode    41024 non-null  object        \n",
      " 2   Description  41024 non-null  object        \n",
      " 3   Quantity     41024 non-null  int64         \n",
      " 4   InvoiceDate  41024 non-null  datetime64[ns]\n",
      " 5   UnitPrice    41024 non-null  float64       \n",
      " 6   CustomerID   41024 non-null  int32         \n",
      " 7   Country      41024 non-null  object        \n",
      "dtypes: datetime64[ns](1), float64(1), int32(1), int64(1), object(4)\n",
      "memory usage: 2.3+ MB\n"
     ]
    }
   ],
   "source": [
    "df1.info()"
   ]
  },
  {
   "attachments": {},
   "cell_type": "markdown",
   "metadata": {},
   "source": [
    "#### 1.1 F(소비자별 구매빈도), M(소비자별 총 구매액) feature를 새로 생성하시오."
   ]
  },
  {
   "cell_type": "code",
   "execution_count": 250,
   "metadata": {},
   "outputs": [
    {
     "data": {
      "text/plain": [
       "348"
      ]
     },
     "execution_count": 250,
     "metadata": {},
     "output_type": "execute_result"
    }
   ],
   "source": [
    "df1.CustomerID.nunique()"
   ]
  },
  {
   "cell_type": "code",
   "execution_count": 255,
   "metadata": {},
   "outputs": [],
   "source": [
    "df1['Total_Price'] = df1['UnitPrice']*df1['Quantity']"
   ]
  },
  {
   "cell_type": "code",
   "execution_count": 261,
   "metadata": {},
   "outputs": [
    {
     "name": "stdout",
     "output_type": "stream",
     "text": [
      "2010-12-01 08:45:00\n",
      "2011-12-09 12:50:00\n",
      "2011-12-10 00:00:00\n"
     ]
    }
   ],
   "source": [
    "import datetime as dt\n",
    "print(df1['InvoiceDate'].min())\n",
    "print(df1['InvoiceDate'].max())\n",
    "now = dt.datetime(2011,12,10)\n",
    "print(now)"
   ]
  },
  {
   "cell_type": "code",
   "execution_count": 268,
   "metadata": {},
   "outputs": [],
   "source": [
    "rfm = df1.groupby('CustomerID').agg({'InvoiceDate': lambda day : (now - day.max()).days,\n",
    "                                     'InvoiceNo' : lambda num : len(num),\n",
    "                                     'Total_Price' : lambda price: price.sum()\n",
    "                                    })"
   ]
  },
  {
   "cell_type": "code",
   "execution_count": 269,
   "metadata": {},
   "outputs": [
    {
     "data": {
      "text/html": [
       "<div>\n",
       "<style scoped>\n",
       "    .dataframe tbody tr th:only-of-type {\n",
       "        vertical-align: middle;\n",
       "    }\n",
       "\n",
       "    .dataframe tbody tr th {\n",
       "        vertical-align: top;\n",
       "    }\n",
       "\n",
       "    .dataframe thead th {\n",
       "        text-align: right;\n",
       "    }\n",
       "</style>\n",
       "<table border=\"1\" class=\"dataframe\">\n",
       "  <thead>\n",
       "    <tr style=\"text-align: right;\">\n",
       "      <th></th>\n",
       "      <th>InvoiceDate</th>\n",
       "      <th>InvoiceNo</th>\n",
       "      <th>Total_Price</th>\n",
       "    </tr>\n",
       "    <tr>\n",
       "      <th>CustomerID</th>\n",
       "      <th></th>\n",
       "      <th></th>\n",
       "      <th></th>\n",
       "    </tr>\n",
       "  </thead>\n",
       "  <tbody>\n",
       "    <tr>\n",
       "      <th>12348</th>\n",
       "      <td>75</td>\n",
       "      <td>31</td>\n",
       "      <td>1797.24</td>\n",
       "    </tr>\n",
       "    <tr>\n",
       "      <th>12349</th>\n",
       "      <td>18</td>\n",
       "      <td>73</td>\n",
       "      <td>1757.55</td>\n",
       "    </tr>\n",
       "    <tr>\n",
       "      <th>12350</th>\n",
       "      <td>310</td>\n",
       "      <td>17</td>\n",
       "      <td>334.40</td>\n",
       "    </tr>\n",
       "    <tr>\n",
       "      <th>12352</th>\n",
       "      <td>36</td>\n",
       "      <td>95</td>\n",
       "      <td>1545.41</td>\n",
       "    </tr>\n",
       "    <tr>\n",
       "      <th>12354</th>\n",
       "      <td>232</td>\n",
       "      <td>58</td>\n",
       "      <td>1079.40</td>\n",
       "    </tr>\n",
       "    <tr>\n",
       "      <th>...</th>\n",
       "      <td>...</td>\n",
       "      <td>...</td>\n",
       "      <td>...</td>\n",
       "    </tr>\n",
       "    <tr>\n",
       "      <th>14935</th>\n",
       "      <td>297</td>\n",
       "      <td>10</td>\n",
       "      <td>1784.71</td>\n",
       "    </tr>\n",
       "    <tr>\n",
       "      <th>14936</th>\n",
       "      <td>9</td>\n",
       "      <td>366</td>\n",
       "      <td>8117.42</td>\n",
       "    </tr>\n",
       "    <tr>\n",
       "      <th>14937</th>\n",
       "      <td>56</td>\n",
       "      <td>35</td>\n",
       "      <td>1617.63</td>\n",
       "    </tr>\n",
       "    <tr>\n",
       "      <th>16321</th>\n",
       "      <td>72</td>\n",
       "      <td>16</td>\n",
       "      <td>230.70</td>\n",
       "    </tr>\n",
       "    <tr>\n",
       "      <th>17097</th>\n",
       "      <td>2</td>\n",
       "      <td>213</td>\n",
       "      <td>937.92</td>\n",
       "    </tr>\n",
       "  </tbody>\n",
       "</table>\n",
       "<p>348 rows × 3 columns</p>\n",
       "</div>"
      ],
      "text/plain": [
       "            InvoiceDate  InvoiceNo  Total_Price\n",
       "CustomerID                                     \n",
       "12348                75         31      1797.24\n",
       "12349                18         73      1757.55\n",
       "12350               310         17       334.40\n",
       "12352                36         95      1545.41\n",
       "12354               232         58      1079.40\n",
       "...                 ...        ...          ...\n",
       "14935               297         10      1784.71\n",
       "14936                 9        366      8117.42\n",
       "14937                56         35      1617.63\n",
       "16321                72         16       230.70\n",
       "17097                 2        213       937.92\n",
       "\n",
       "[348 rows x 3 columns]"
      ]
     },
     "execution_count": 269,
     "metadata": {},
     "output_type": "execute_result"
    }
   ],
   "source": [
    "rfm"
   ]
  },
  {
   "cell_type": "code",
   "execution_count": 283,
   "metadata": {},
   "outputs": [
    {
     "name": "stdout",
     "output_type": "stream",
     "text": [
      "2010-12-16 19:09:00\n",
      "2011-09-25 13:13:00\n"
     ]
    }
   ],
   "source": [
    "print(df1[df1[\"CustomerID\"] == 12348][\"InvoiceDate\"].min())\n",
    "print(df1[df1[\"CustomerID\"] == 12348][\"InvoiceDate\"].max())"
   ]
  },
  {
   "cell_type": "code",
   "execution_count": 274,
   "metadata": {
    "collapsed": true,
    "jupyter": {
     "outputs_hidden": true
    },
    "scrolled": true
   },
   "outputs": [
    {
     "data": {
      "text/html": [
       "<div>\n",
       "<style scoped>\n",
       "    .dataframe tbody tr th:only-of-type {\n",
       "        vertical-align: middle;\n",
       "    }\n",
       "\n",
       "    .dataframe tbody tr th {\n",
       "        vertical-align: top;\n",
       "    }\n",
       "\n",
       "    .dataframe thead th {\n",
       "        text-align: right;\n",
       "    }\n",
       "</style>\n",
       "<table border=\"1\" class=\"dataframe\">\n",
       "  <thead>\n",
       "    <tr style=\"text-align: right;\">\n",
       "      <th></th>\n",
       "      <th>InvoiceNo</th>\n",
       "      <th>StockCode</th>\n",
       "      <th>Description</th>\n",
       "      <th>Quantity</th>\n",
       "      <th>InvoiceDate</th>\n",
       "      <th>UnitPrice</th>\n",
       "      <th>CustomerID</th>\n",
       "      <th>Country</th>\n",
       "      <th>Total_Price</th>\n",
       "    </tr>\n",
       "  </thead>\n",
       "  <tbody>\n",
       "    <tr>\n",
       "      <th>3757</th>\n",
       "      <td>548955</td>\n",
       "      <td>22437</td>\n",
       "      <td>SET OF 9 BLACK SKULL BALLOONS</td>\n",
       "      <td>20</td>\n",
       "      <td>2011-04-05 10:47:00</td>\n",
       "      <td>0.85</td>\n",
       "      <td>12348</td>\n",
       "      <td>Finland</td>\n",
       "      <td>17.00</td>\n",
       "    </tr>\n",
       "    <tr>\n",
       "      <th>4504</th>\n",
       "      <td>539318</td>\n",
       "      <td>84991</td>\n",
       "      <td>60 TEATIME FAIRY CAKE CASES</td>\n",
       "      <td>24</td>\n",
       "      <td>2010-12-16 19:09:00</td>\n",
       "      <td>0.55</td>\n",
       "      <td>12348</td>\n",
       "      <td>Finland</td>\n",
       "      <td>13.20</td>\n",
       "    </tr>\n",
       "    <tr>\n",
       "      <th>4871</th>\n",
       "      <td>548955</td>\n",
       "      <td>23078</td>\n",
       "      <td>ICE CREAM PEN LIP GLOSS</td>\n",
       "      <td>96</td>\n",
       "      <td>2011-04-05 10:47:00</td>\n",
       "      <td>1.25</td>\n",
       "      <td>12348</td>\n",
       "      <td>Finland</td>\n",
       "      <td>120.00</td>\n",
       "    </tr>\n",
       "    <tr>\n",
       "      <th>10933</th>\n",
       "      <td>539318</td>\n",
       "      <td>21977</td>\n",
       "      <td>PACK OF 60 PINK PAISLEY CAKE CASES</td>\n",
       "      <td>24</td>\n",
       "      <td>2010-12-16 19:09:00</td>\n",
       "      <td>0.55</td>\n",
       "      <td>12348</td>\n",
       "      <td>Finland</td>\n",
       "      <td>13.20</td>\n",
       "    </tr>\n",
       "    <tr>\n",
       "      <th>12556</th>\n",
       "      <td>539318</td>\n",
       "      <td>22952</td>\n",
       "      <td>60 CAKE CASES VINTAGE CHRISTMAS</td>\n",
       "      <td>24</td>\n",
       "      <td>2010-12-16 19:09:00</td>\n",
       "      <td>0.55</td>\n",
       "      <td>12348</td>\n",
       "      <td>Finland</td>\n",
       "      <td>13.20</td>\n",
       "    </tr>\n",
       "    <tr>\n",
       "      <th>13246</th>\n",
       "      <td>568172</td>\n",
       "      <td>23078</td>\n",
       "      <td>ICE CREAM PEN LIP GLOSS</td>\n",
       "      <td>96</td>\n",
       "      <td>2011-09-25 13:13:00</td>\n",
       "      <td>1.25</td>\n",
       "      <td>12348</td>\n",
       "      <td>Finland</td>\n",
       "      <td>120.00</td>\n",
       "    </tr>\n",
       "    <tr>\n",
       "      <th>14075</th>\n",
       "      <td>541998</td>\n",
       "      <td>21726</td>\n",
       "      <td>MULTI HEARTS  STICKERS</td>\n",
       "      <td>24</td>\n",
       "      <td>2011-01-25 10:42:00</td>\n",
       "      <td>0.85</td>\n",
       "      <td>12348</td>\n",
       "      <td>Finland</td>\n",
       "      <td>20.40</td>\n",
       "    </tr>\n",
       "    <tr>\n",
       "      <th>15709</th>\n",
       "      <td>541998</td>\n",
       "      <td>21967</td>\n",
       "      <td>PACK OF 12 SKULL TISSUES</td>\n",
       "      <td>144</td>\n",
       "      <td>2011-01-25 10:42:00</td>\n",
       "      <td>0.29</td>\n",
       "      <td>12348</td>\n",
       "      <td>Finland</td>\n",
       "      <td>41.76</td>\n",
       "    </tr>\n",
       "    <tr>\n",
       "      <th>15716</th>\n",
       "      <td>539318</td>\n",
       "      <td>84992</td>\n",
       "      <td>72 SWEETHEART FAIRY CAKE CASES</td>\n",
       "      <td>72</td>\n",
       "      <td>2010-12-16 19:09:00</td>\n",
       "      <td>0.55</td>\n",
       "      <td>12348</td>\n",
       "      <td>Finland</td>\n",
       "      <td>39.60</td>\n",
       "    </tr>\n",
       "    <tr>\n",
       "      <th>16559</th>\n",
       "      <td>539318</td>\n",
       "      <td>21211</td>\n",
       "      <td>SET OF 72 SKULL PAPER  DOILIES</td>\n",
       "      <td>72</td>\n",
       "      <td>2010-12-16 19:09:00</td>\n",
       "      <td>1.45</td>\n",
       "      <td>12348</td>\n",
       "      <td>Finland</td>\n",
       "      <td>104.40</td>\n",
       "    </tr>\n",
       "    <tr>\n",
       "      <th>18274</th>\n",
       "      <td>539318</td>\n",
       "      <td>21981</td>\n",
       "      <td>PACK OF 12 WOODLAND TISSUES</td>\n",
       "      <td>144</td>\n",
       "      <td>2010-12-16 19:09:00</td>\n",
       "      <td>0.29</td>\n",
       "      <td>12348</td>\n",
       "      <td>Finland</td>\n",
       "      <td>41.76</td>\n",
       "    </tr>\n",
       "    <tr>\n",
       "      <th>18423</th>\n",
       "      <td>548955</td>\n",
       "      <td>23076</td>\n",
       "      <td>ICE CREAM SUNDAE LIP GLOSS</td>\n",
       "      <td>72</td>\n",
       "      <td>2011-04-05 10:47:00</td>\n",
       "      <td>1.25</td>\n",
       "      <td>12348</td>\n",
       "      <td>Finland</td>\n",
       "      <td>90.00</td>\n",
       "    </tr>\n",
       "    <tr>\n",
       "      <th>18805</th>\n",
       "      <td>541998</td>\n",
       "      <td>21985</td>\n",
       "      <td>PACK OF 12 HEARTS DESIGN TISSUES</td>\n",
       "      <td>144</td>\n",
       "      <td>2011-01-25 10:42:00</td>\n",
       "      <td>0.29</td>\n",
       "      <td>12348</td>\n",
       "      <td>Finland</td>\n",
       "      <td>41.76</td>\n",
       "    </tr>\n",
       "    <tr>\n",
       "      <th>22359</th>\n",
       "      <td>539318</td>\n",
       "      <td>21213</td>\n",
       "      <td>PACK OF 72 SKULL CAKE CASES</td>\n",
       "      <td>120</td>\n",
       "      <td>2010-12-16 19:09:00</td>\n",
       "      <td>0.42</td>\n",
       "      <td>12348</td>\n",
       "      <td>Finland</td>\n",
       "      <td>50.40</td>\n",
       "    </tr>\n",
       "    <tr>\n",
       "      <th>22965</th>\n",
       "      <td>539318</td>\n",
       "      <td>21982</td>\n",
       "      <td>PACK OF 12 SUKI TISSUES</td>\n",
       "      <td>144</td>\n",
       "      <td>2010-12-16 19:09:00</td>\n",
       "      <td>0.29</td>\n",
       "      <td>12348</td>\n",
       "      <td>Finland</td>\n",
       "      <td>41.76</td>\n",
       "    </tr>\n",
       "    <tr>\n",
       "      <th>24631</th>\n",
       "      <td>568172</td>\n",
       "      <td>POST</td>\n",
       "      <td>POSTAGE</td>\n",
       "      <td>1</td>\n",
       "      <td>2011-09-25 13:13:00</td>\n",
       "      <td>40.00</td>\n",
       "      <td>12348</td>\n",
       "      <td>Finland</td>\n",
       "      <td>40.00</td>\n",
       "    </tr>\n",
       "    <tr>\n",
       "      <th>25194</th>\n",
       "      <td>539318</td>\n",
       "      <td>22616</td>\n",
       "      <td>PACK OF 12 LONDON TISSUES</td>\n",
       "      <td>72</td>\n",
       "      <td>2010-12-16 19:09:00</td>\n",
       "      <td>0.29</td>\n",
       "      <td>12348</td>\n",
       "      <td>Finland</td>\n",
       "      <td>20.88</td>\n",
       "    </tr>\n",
       "    <tr>\n",
       "      <th>29449</th>\n",
       "      <td>539318</td>\n",
       "      <td>21213</td>\n",
       "      <td>PACK OF 72 SKULL CAKE CASES</td>\n",
       "      <td>24</td>\n",
       "      <td>2010-12-16 19:09:00</td>\n",
       "      <td>0.55</td>\n",
       "      <td>12348</td>\n",
       "      <td>Finland</td>\n",
       "      <td>13.20</td>\n",
       "    </tr>\n",
       "    <tr>\n",
       "      <th>31138</th>\n",
       "      <td>548955</td>\n",
       "      <td>POST</td>\n",
       "      <td>POSTAGE</td>\n",
       "      <td>1</td>\n",
       "      <td>2011-04-05 10:47:00</td>\n",
       "      <td>40.00</td>\n",
       "      <td>12348</td>\n",
       "      <td>Finland</td>\n",
       "      <td>40.00</td>\n",
       "    </tr>\n",
       "    <tr>\n",
       "      <th>32020</th>\n",
       "      <td>541998</td>\n",
       "      <td>21983</td>\n",
       "      <td>PACK OF 12 BLUE PAISLEY TISSUES</td>\n",
       "      <td>144</td>\n",
       "      <td>2011-01-25 10:42:00</td>\n",
       "      <td>0.29</td>\n",
       "      <td>12348</td>\n",
       "      <td>Finland</td>\n",
       "      <td>41.76</td>\n",
       "    </tr>\n",
       "    <tr>\n",
       "      <th>32553</th>\n",
       "      <td>539318</td>\n",
       "      <td>22951</td>\n",
       "      <td>60 CAKE CASES DOLLY GIRL DESIGN</td>\n",
       "      <td>72</td>\n",
       "      <td>2010-12-16 19:09:00</td>\n",
       "      <td>0.55</td>\n",
       "      <td>12348</td>\n",
       "      <td>Finland</td>\n",
       "      <td>39.60</td>\n",
       "    </tr>\n",
       "    <tr>\n",
       "      <th>33089</th>\n",
       "      <td>568172</td>\n",
       "      <td>23077</td>\n",
       "      <td>DOUGHNUT LIP GLOSS</td>\n",
       "      <td>120</td>\n",
       "      <td>2011-09-25 13:13:00</td>\n",
       "      <td>1.25</td>\n",
       "      <td>12348</td>\n",
       "      <td>Finland</td>\n",
       "      <td>150.00</td>\n",
       "    </tr>\n",
       "    <tr>\n",
       "      <th>33685</th>\n",
       "      <td>539318</td>\n",
       "      <td>22952</td>\n",
       "      <td>60 CAKE CASES VINTAGE CHRISTMAS</td>\n",
       "      <td>120</td>\n",
       "      <td>2010-12-16 19:09:00</td>\n",
       "      <td>0.42</td>\n",
       "      <td>12348</td>\n",
       "      <td>Finland</td>\n",
       "      <td>50.40</td>\n",
       "    </tr>\n",
       "    <tr>\n",
       "      <th>35043</th>\n",
       "      <td>541998</td>\n",
       "      <td>21980</td>\n",
       "      <td>PACK OF 12 RED RETROSPOT TISSUES</td>\n",
       "      <td>144</td>\n",
       "      <td>2011-01-25 10:42:00</td>\n",
       "      <td>0.29</td>\n",
       "      <td>12348</td>\n",
       "      <td>Finland</td>\n",
       "      <td>41.76</td>\n",
       "    </tr>\n",
       "    <tr>\n",
       "      <th>35494</th>\n",
       "      <td>541998</td>\n",
       "      <td>POST</td>\n",
       "      <td>POSTAGE</td>\n",
       "      <td>1</td>\n",
       "      <td>2011-01-25 10:42:00</td>\n",
       "      <td>40.00</td>\n",
       "      <td>12348</td>\n",
       "      <td>Finland</td>\n",
       "      <td>40.00</td>\n",
       "    </tr>\n",
       "    <tr>\n",
       "      <th>35894</th>\n",
       "      <td>539318</td>\n",
       "      <td>84991</td>\n",
       "      <td>60 TEATIME FAIRY CAKE CASES</td>\n",
       "      <td>120</td>\n",
       "      <td>2010-12-16 19:09:00</td>\n",
       "      <td>0.42</td>\n",
       "      <td>12348</td>\n",
       "      <td>Finland</td>\n",
       "      <td>50.40</td>\n",
       "    </tr>\n",
       "    <tr>\n",
       "      <th>36703</th>\n",
       "      <td>539318</td>\n",
       "      <td>21977</td>\n",
       "      <td>PACK OF 60 PINK PAISLEY CAKE CASES</td>\n",
       "      <td>120</td>\n",
       "      <td>2010-12-16 19:09:00</td>\n",
       "      <td>0.42</td>\n",
       "      <td>12348</td>\n",
       "      <td>Finland</td>\n",
       "      <td>50.40</td>\n",
       "    </tr>\n",
       "    <tr>\n",
       "      <th>36936</th>\n",
       "      <td>539318</td>\n",
       "      <td>84988</td>\n",
       "      <td>SET OF 72 PINK HEART PAPER DOILIES</td>\n",
       "      <td>48</td>\n",
       "      <td>2010-12-16 19:09:00</td>\n",
       "      <td>1.45</td>\n",
       "      <td>12348</td>\n",
       "      <td>Finland</td>\n",
       "      <td>69.60</td>\n",
       "    </tr>\n",
       "    <tr>\n",
       "      <th>37305</th>\n",
       "      <td>539318</td>\n",
       "      <td>POST</td>\n",
       "      <td>POSTAGE</td>\n",
       "      <td>6</td>\n",
       "      <td>2010-12-16 19:09:00</td>\n",
       "      <td>40.00</td>\n",
       "      <td>12348</td>\n",
       "      <td>Finland</td>\n",
       "      <td>240.00</td>\n",
       "    </tr>\n",
       "    <tr>\n",
       "      <th>38191</th>\n",
       "      <td>539318</td>\n",
       "      <td>21725</td>\n",
       "      <td>SWEETIES  STICKERS</td>\n",
       "      <td>48</td>\n",
       "      <td>2010-12-16 19:09:00</td>\n",
       "      <td>0.85</td>\n",
       "      <td>12348</td>\n",
       "      <td>Finland</td>\n",
       "      <td>40.80</td>\n",
       "    </tr>\n",
       "    <tr>\n",
       "      <th>39443</th>\n",
       "      <td>548955</td>\n",
       "      <td>23077</td>\n",
       "      <td>DOUGHNUT LIP GLOSS</td>\n",
       "      <td>80</td>\n",
       "      <td>2011-04-05 10:47:00</td>\n",
       "      <td>1.25</td>\n",
       "      <td>12348</td>\n",
       "      <td>Finland</td>\n",
       "      <td>100.00</td>\n",
       "    </tr>\n",
       "  </tbody>\n",
       "</table>\n",
       "</div>"
      ],
      "text/plain": [
       "      InvoiceNo StockCode                         Description  Quantity  \\\n",
       "3757     548955     22437       SET OF 9 BLACK SKULL BALLOONS        20   \n",
       "4504     539318     84991         60 TEATIME FAIRY CAKE CASES        24   \n",
       "4871     548955     23078            ICE CREAM PEN LIP GLOSS         96   \n",
       "10933    539318     21977  PACK OF 60 PINK PAISLEY CAKE CASES        24   \n",
       "12556    539318     22952     60 CAKE CASES VINTAGE CHRISTMAS        24   \n",
       "13246    568172     23078            ICE CREAM PEN LIP GLOSS         96   \n",
       "14075    541998     21726              MULTI HEARTS  STICKERS        24   \n",
       "15709    541998     21967            PACK OF 12 SKULL TISSUES       144   \n",
       "15716    539318     84992      72 SWEETHEART FAIRY CAKE CASES        72   \n",
       "16559    539318     21211      SET OF 72 SKULL PAPER  DOILIES        72   \n",
       "18274    539318     21981        PACK OF 12 WOODLAND TISSUES        144   \n",
       "18423    548955     23076          ICE CREAM SUNDAE LIP GLOSS        72   \n",
       "18805    541998     21985   PACK OF 12 HEARTS DESIGN TISSUES        144   \n",
       "22359    539318     21213         PACK OF 72 SKULL CAKE CASES       120   \n",
       "22965    539318     21982            PACK OF 12 SUKI TISSUES        144   \n",
       "24631    568172      POST                             POSTAGE         1   \n",
       "25194    539318     22616          PACK OF 12 LONDON TISSUES         72   \n",
       "29449    539318     21213         PACK OF 72 SKULL CAKE CASES        24   \n",
       "31138    548955      POST                             POSTAGE         1   \n",
       "32020    541998     21983    PACK OF 12 BLUE PAISLEY TISSUES        144   \n",
       "32553    539318     22951     60 CAKE CASES DOLLY GIRL DESIGN        72   \n",
       "33089    568172     23077                 DOUGHNUT LIP GLOSS        120   \n",
       "33685    539318     22952     60 CAKE CASES VINTAGE CHRISTMAS       120   \n",
       "35043    541998     21980   PACK OF 12 RED RETROSPOT TISSUES        144   \n",
       "35494    541998      POST                             POSTAGE         1   \n",
       "35894    539318     84991         60 TEATIME FAIRY CAKE CASES       120   \n",
       "36703    539318     21977  PACK OF 60 PINK PAISLEY CAKE CASES       120   \n",
       "36936    539318     84988  SET OF 72 PINK HEART PAPER DOILIES        48   \n",
       "37305    539318      POST                             POSTAGE         6   \n",
       "38191    539318     21725                  SWEETIES  STICKERS        48   \n",
       "39443    548955     23077                 DOUGHNUT LIP GLOSS         80   \n",
       "\n",
       "              InvoiceDate  UnitPrice  CustomerID  Country  Total_Price  \n",
       "3757  2011-04-05 10:47:00       0.85       12348  Finland        17.00  \n",
       "4504  2010-12-16 19:09:00       0.55       12348  Finland        13.20  \n",
       "4871  2011-04-05 10:47:00       1.25       12348  Finland       120.00  \n",
       "10933 2010-12-16 19:09:00       0.55       12348  Finland        13.20  \n",
       "12556 2010-12-16 19:09:00       0.55       12348  Finland        13.20  \n",
       "13246 2011-09-25 13:13:00       1.25       12348  Finland       120.00  \n",
       "14075 2011-01-25 10:42:00       0.85       12348  Finland        20.40  \n",
       "15709 2011-01-25 10:42:00       0.29       12348  Finland        41.76  \n",
       "15716 2010-12-16 19:09:00       0.55       12348  Finland        39.60  \n",
       "16559 2010-12-16 19:09:00       1.45       12348  Finland       104.40  \n",
       "18274 2010-12-16 19:09:00       0.29       12348  Finland        41.76  \n",
       "18423 2011-04-05 10:47:00       1.25       12348  Finland        90.00  \n",
       "18805 2011-01-25 10:42:00       0.29       12348  Finland        41.76  \n",
       "22359 2010-12-16 19:09:00       0.42       12348  Finland        50.40  \n",
       "22965 2010-12-16 19:09:00       0.29       12348  Finland        41.76  \n",
       "24631 2011-09-25 13:13:00      40.00       12348  Finland        40.00  \n",
       "25194 2010-12-16 19:09:00       0.29       12348  Finland        20.88  \n",
       "29449 2010-12-16 19:09:00       0.55       12348  Finland        13.20  \n",
       "31138 2011-04-05 10:47:00      40.00       12348  Finland        40.00  \n",
       "32020 2011-01-25 10:42:00       0.29       12348  Finland        41.76  \n",
       "32553 2010-12-16 19:09:00       0.55       12348  Finland        39.60  \n",
       "33089 2011-09-25 13:13:00       1.25       12348  Finland       150.00  \n",
       "33685 2010-12-16 19:09:00       0.42       12348  Finland        50.40  \n",
       "35043 2011-01-25 10:42:00       0.29       12348  Finland        41.76  \n",
       "35494 2011-01-25 10:42:00      40.00       12348  Finland        40.00  \n",
       "35894 2010-12-16 19:09:00       0.42       12348  Finland        50.40  \n",
       "36703 2010-12-16 19:09:00       0.42       12348  Finland        50.40  \n",
       "36936 2010-12-16 19:09:00       1.45       12348  Finland        69.60  \n",
       "37305 2010-12-16 19:09:00      40.00       12348  Finland       240.00  \n",
       "38191 2010-12-16 19:09:00       0.85       12348  Finland        40.80  \n",
       "39443 2011-04-05 10:47:00       1.25       12348  Finland       100.00  "
      ]
     },
     "execution_count": 274,
     "metadata": {},
     "output_type": "execute_result"
    }
   ],
   "source": [
    "df1[df1[\"CustomerID\"] == 12348]"
   ]
  },
  {
   "cell_type": "code",
   "execution_count": 273,
   "metadata": {},
   "outputs": [
    {
     "data": {
      "text/plain": [
       "31"
      ]
     },
     "execution_count": 273,
     "metadata": {},
     "output_type": "execute_result"
    }
   ],
   "source": [
    "len(df1[df1[\"CustomerID\"] == 12348])"
   ]
  },
  {
   "attachments": {},
   "cell_type": "markdown",
   "metadata": {},
   "source": [
    "#### 1.2 새로 생성된 데이터를 기준으로 EDA를 진행하고 이상치를 제거하고, 필요하다면 다른 전처리를 수행하시오."
   ]
  },
  {
   "cell_type": "code",
   "execution_count": 284,
   "metadata": {},
   "outputs": [
    {
     "data": {
      "text/html": [
       "<div>\n",
       "<style scoped>\n",
       "    .dataframe tbody tr th:only-of-type {\n",
       "        vertical-align: middle;\n",
       "    }\n",
       "\n",
       "    .dataframe tbody tr th {\n",
       "        vertical-align: top;\n",
       "    }\n",
       "\n",
       "    .dataframe thead th {\n",
       "        text-align: right;\n",
       "    }\n",
       "</style>\n",
       "<table border=\"1\" class=\"dataframe\">\n",
       "  <thead>\n",
       "    <tr style=\"text-align: right;\">\n",
       "      <th></th>\n",
       "      <th>InvoiceDate</th>\n",
       "      <th>InvoiceNo</th>\n",
       "      <th>Total_Price</th>\n",
       "    </tr>\n",
       "  </thead>\n",
       "  <tbody>\n",
       "    <tr>\n",
       "      <th>count</th>\n",
       "      <td>348.000000</td>\n",
       "      <td>348.000000</td>\n",
       "      <td>348.000000</td>\n",
       "    </tr>\n",
       "    <tr>\n",
       "      <th>mean</th>\n",
       "      <td>88.454023</td>\n",
       "      <td>117.885057</td>\n",
       "      <td>3960.727356</td>\n",
       "    </tr>\n",
       "    <tr>\n",
       "      <th>std</th>\n",
       "      <td>105.741709</td>\n",
       "      <td>354.247025</td>\n",
       "      <td>18821.144519</td>\n",
       "    </tr>\n",
       "    <tr>\n",
       "      <th>min</th>\n",
       "      <td>0.000000</td>\n",
       "      <td>1.000000</td>\n",
       "      <td>-1126.000000</td>\n",
       "    </tr>\n",
       "    <tr>\n",
       "      <th>25%</th>\n",
       "      <td>15.000000</td>\n",
       "      <td>23.000000</td>\n",
       "      <td>452.000000</td>\n",
       "    </tr>\n",
       "    <tr>\n",
       "      <th>50%</th>\n",
       "      <td>39.000000</td>\n",
       "      <td>51.500000</td>\n",
       "      <td>1008.990000</td>\n",
       "    </tr>\n",
       "    <tr>\n",
       "      <th>75%</th>\n",
       "      <td>116.750000</td>\n",
       "      <td>113.250000</td>\n",
       "      <td>2760.185000</td>\n",
       "    </tr>\n",
       "    <tr>\n",
       "      <th>max</th>\n",
       "      <td>373.000000</td>\n",
       "      <td>5903.000000</td>\n",
       "      <td>279489.020000</td>\n",
       "    </tr>\n",
       "  </tbody>\n",
       "</table>\n",
       "</div>"
      ],
      "text/plain": [
       "       InvoiceDate    InvoiceNo    Total_Price\n",
       "count   348.000000   348.000000     348.000000\n",
       "mean     88.454023   117.885057    3960.727356\n",
       "std     105.741709   354.247025   18821.144519\n",
       "min       0.000000     1.000000   -1126.000000\n",
       "25%      15.000000    23.000000     452.000000\n",
       "50%      39.000000    51.500000    1008.990000\n",
       "75%     116.750000   113.250000    2760.185000\n",
       "max     373.000000  5903.000000  279489.020000"
      ]
     },
     "execution_count": 284,
     "metadata": {},
     "output_type": "execute_result"
    }
   ],
   "source": [
    "rfm.describe()"
   ]
  },
  {
   "cell_type": "code",
   "execution_count": 285,
   "metadata": {},
   "outputs": [
    {
     "name": "stdout",
     "output_type": "stream",
     "text": [
      "<class 'pandas.core.frame.DataFrame'>\n",
      "Int64Index: 348 entries, 12348 to 17097\n",
      "Data columns (total 3 columns):\n",
      " #   Column       Non-Null Count  Dtype  \n",
      "---  ------       --------------  -----  \n",
      " 0   InvoiceDate  348 non-null    int64  \n",
      " 1   InvoiceNo    348 non-null    int64  \n",
      " 2   Total_Price  348 non-null    float64\n",
      "dtypes: float64(1), int64(2)\n",
      "memory usage: 10.9 KB\n"
     ]
    }
   ],
   "source": [
    "rfm.info()"
   ]
  },
  {
   "cell_type": "code",
   "execution_count": 287,
   "metadata": {},
   "outputs": [
    {
     "data": {
      "text/plain": [
       "348"
      ]
     },
     "execution_count": 287,
     "metadata": {},
     "output_type": "execute_result"
    }
   ],
   "source": [
    "df1.CustomerID.nunique()"
   ]
  },
  {
   "cell_type": "code",
   "execution_count": 288,
   "metadata": {},
   "outputs": [],
   "source": [
    "col_list = ['Recency', 'Frequency', 'Monetary']\n",
    "rfm.columns = col_list"
   ]
  },
  {
   "cell_type": "code",
   "execution_count": 289,
   "metadata": {},
   "outputs": [
    {
     "data": {
      "text/html": [
       "<div>\n",
       "<style scoped>\n",
       "    .dataframe tbody tr th:only-of-type {\n",
       "        vertical-align: middle;\n",
       "    }\n",
       "\n",
       "    .dataframe tbody tr th {\n",
       "        vertical-align: top;\n",
       "    }\n",
       "\n",
       "    .dataframe thead th {\n",
       "        text-align: right;\n",
       "    }\n",
       "</style>\n",
       "<table border=\"1\" class=\"dataframe\">\n",
       "  <thead>\n",
       "    <tr style=\"text-align: right;\">\n",
       "      <th></th>\n",
       "      <th>Recency</th>\n",
       "      <th>Frequency</th>\n",
       "      <th>Monetary</th>\n",
       "    </tr>\n",
       "    <tr>\n",
       "      <th>CustomerID</th>\n",
       "      <th></th>\n",
       "      <th></th>\n",
       "      <th></th>\n",
       "    </tr>\n",
       "  </thead>\n",
       "  <tbody>\n",
       "    <tr>\n",
       "      <th>12348</th>\n",
       "      <td>75</td>\n",
       "      <td>31</td>\n",
       "      <td>1797.24</td>\n",
       "    </tr>\n",
       "    <tr>\n",
       "      <th>12349</th>\n",
       "      <td>18</td>\n",
       "      <td>73</td>\n",
       "      <td>1757.55</td>\n",
       "    </tr>\n",
       "    <tr>\n",
       "      <th>12350</th>\n",
       "      <td>310</td>\n",
       "      <td>17</td>\n",
       "      <td>334.40</td>\n",
       "    </tr>\n",
       "    <tr>\n",
       "      <th>12352</th>\n",
       "      <td>36</td>\n",
       "      <td>95</td>\n",
       "      <td>1545.41</td>\n",
       "    </tr>\n",
       "    <tr>\n",
       "      <th>12354</th>\n",
       "      <td>232</td>\n",
       "      <td>58</td>\n",
       "      <td>1079.40</td>\n",
       "    </tr>\n",
       "    <tr>\n",
       "      <th>...</th>\n",
       "      <td>...</td>\n",
       "      <td>...</td>\n",
       "      <td>...</td>\n",
       "    </tr>\n",
       "    <tr>\n",
       "      <th>14935</th>\n",
       "      <td>297</td>\n",
       "      <td>10</td>\n",
       "      <td>1784.71</td>\n",
       "    </tr>\n",
       "    <tr>\n",
       "      <th>14936</th>\n",
       "      <td>9</td>\n",
       "      <td>366</td>\n",
       "      <td>8117.42</td>\n",
       "    </tr>\n",
       "    <tr>\n",
       "      <th>14937</th>\n",
       "      <td>56</td>\n",
       "      <td>35</td>\n",
       "      <td>1617.63</td>\n",
       "    </tr>\n",
       "    <tr>\n",
       "      <th>16321</th>\n",
       "      <td>72</td>\n",
       "      <td>16</td>\n",
       "      <td>230.70</td>\n",
       "    </tr>\n",
       "    <tr>\n",
       "      <th>17097</th>\n",
       "      <td>2</td>\n",
       "      <td>213</td>\n",
       "      <td>937.92</td>\n",
       "    </tr>\n",
       "  </tbody>\n",
       "</table>\n",
       "<p>348 rows × 3 columns</p>\n",
       "</div>"
      ],
      "text/plain": [
       "            Recency  Frequency  Monetary\n",
       "CustomerID                              \n",
       "12348            75         31   1797.24\n",
       "12349            18         73   1757.55\n",
       "12350           310         17    334.40\n",
       "12352            36         95   1545.41\n",
       "12354           232         58   1079.40\n",
       "...             ...        ...       ...\n",
       "14935           297         10   1784.71\n",
       "14936             9        366   8117.42\n",
       "14937            56         35   1617.63\n",
       "16321            72         16    230.70\n",
       "17097             2        213    937.92\n",
       "\n",
       "[348 rows x 3 columns]"
      ]
     },
     "execution_count": 289,
     "metadata": {},
     "output_type": "execute_result"
    }
   ],
   "source": [
    "rfm"
   ]
  },
  {
   "cell_type": "code",
   "execution_count": 302,
   "metadata": {},
   "outputs": [],
   "source": [
    "rfm[\"R\"] = pd.qcut(rfm[\"Recency\"], 5, labels = [5, 4, 3, 2, 1])\n",
    "rfm[\"F\"] = pd.qcut(rfm[\"Frequency\"], 5, labels = [1, 2, 3, 4, 5])\n",
    "rfm[\"M\"] = pd.qcut(rfm[\"Monetary\"], 5, labels = [1, 2, 3, 4, 5])\n",
    "rfm[\"RFM_Score\"] =  rfm[\"R\"].astype(str) +rfm[\"F\"].astype(str) + rfm[\"M\"].astype(str)"
   ]
  },
  {
   "cell_type": "code",
   "execution_count": 303,
   "metadata": {},
   "outputs": [
    {
     "data": {
      "text/html": [
       "<div>\n",
       "<style scoped>\n",
       "    .dataframe tbody tr th:only-of-type {\n",
       "        vertical-align: middle;\n",
       "    }\n",
       "\n",
       "    .dataframe tbody tr th {\n",
       "        vertical-align: top;\n",
       "    }\n",
       "\n",
       "    .dataframe thead th {\n",
       "        text-align: right;\n",
       "    }\n",
       "</style>\n",
       "<table border=\"1\" class=\"dataframe\">\n",
       "  <thead>\n",
       "    <tr style=\"text-align: right;\">\n",
       "      <th></th>\n",
       "      <th>Recency</th>\n",
       "      <th>Frequency</th>\n",
       "      <th>Monetary</th>\n",
       "      <th>R</th>\n",
       "      <th>F</th>\n",
       "      <th>M</th>\n",
       "      <th>RFM_Score</th>\n",
       "    </tr>\n",
       "    <tr>\n",
       "      <th>CustomerID</th>\n",
       "      <th></th>\n",
       "      <th></th>\n",
       "      <th></th>\n",
       "      <th></th>\n",
       "      <th></th>\n",
       "      <th></th>\n",
       "      <th></th>\n",
       "    </tr>\n",
       "  </thead>\n",
       "  <tbody>\n",
       "    <tr>\n",
       "      <th>12348</th>\n",
       "      <td>75</td>\n",
       "      <td>31</td>\n",
       "      <td>1797.24</td>\n",
       "      <td>2</td>\n",
       "      <td>2</td>\n",
       "      <td>4</td>\n",
       "      <td>224</td>\n",
       "    </tr>\n",
       "    <tr>\n",
       "      <th>12349</th>\n",
       "      <td>18</td>\n",
       "      <td>73</td>\n",
       "      <td>1757.55</td>\n",
       "      <td>4</td>\n",
       "      <td>4</td>\n",
       "      <td>4</td>\n",
       "      <td>444</td>\n",
       "    </tr>\n",
       "    <tr>\n",
       "      <th>12350</th>\n",
       "      <td>310</td>\n",
       "      <td>17</td>\n",
       "      <td>334.40</td>\n",
       "      <td>1</td>\n",
       "      <td>1</td>\n",
       "      <td>1</td>\n",
       "      <td>111</td>\n",
       "    </tr>\n",
       "    <tr>\n",
       "      <th>12352</th>\n",
       "      <td>36</td>\n",
       "      <td>95</td>\n",
       "      <td>1545.41</td>\n",
       "      <td>3</td>\n",
       "      <td>4</td>\n",
       "      <td>4</td>\n",
       "      <td>344</td>\n",
       "    </tr>\n",
       "    <tr>\n",
       "      <th>12354</th>\n",
       "      <td>232</td>\n",
       "      <td>58</td>\n",
       "      <td>1079.40</td>\n",
       "      <td>1</td>\n",
       "      <td>3</td>\n",
       "      <td>3</td>\n",
       "      <td>133</td>\n",
       "    </tr>\n",
       "    <tr>\n",
       "      <th>...</th>\n",
       "      <td>...</td>\n",
       "      <td>...</td>\n",
       "      <td>...</td>\n",
       "      <td>...</td>\n",
       "      <td>...</td>\n",
       "      <td>...</td>\n",
       "      <td>...</td>\n",
       "    </tr>\n",
       "    <tr>\n",
       "      <th>14935</th>\n",
       "      <td>297</td>\n",
       "      <td>10</td>\n",
       "      <td>1784.71</td>\n",
       "      <td>1</td>\n",
       "      <td>1</td>\n",
       "      <td>4</td>\n",
       "      <td>114</td>\n",
       "    </tr>\n",
       "    <tr>\n",
       "      <th>14936</th>\n",
       "      <td>9</td>\n",
       "      <td>366</td>\n",
       "      <td>8117.42</td>\n",
       "      <td>5</td>\n",
       "      <td>5</td>\n",
       "      <td>5</td>\n",
       "      <td>555</td>\n",
       "    </tr>\n",
       "    <tr>\n",
       "      <th>14937</th>\n",
       "      <td>56</td>\n",
       "      <td>35</td>\n",
       "      <td>1617.63</td>\n",
       "      <td>3</td>\n",
       "      <td>2</td>\n",
       "      <td>4</td>\n",
       "      <td>324</td>\n",
       "    </tr>\n",
       "    <tr>\n",
       "      <th>16321</th>\n",
       "      <td>72</td>\n",
       "      <td>16</td>\n",
       "      <td>230.70</td>\n",
       "      <td>2</td>\n",
       "      <td>1</td>\n",
       "      <td>1</td>\n",
       "      <td>211</td>\n",
       "    </tr>\n",
       "    <tr>\n",
       "      <th>17097</th>\n",
       "      <td>2</td>\n",
       "      <td>213</td>\n",
       "      <td>937.92</td>\n",
       "      <td>5</td>\n",
       "      <td>5</td>\n",
       "      <td>3</td>\n",
       "      <td>553</td>\n",
       "    </tr>\n",
       "  </tbody>\n",
       "</table>\n",
       "<p>348 rows × 7 columns</p>\n",
       "</div>"
      ],
      "text/plain": [
       "            Recency  Frequency  Monetary  R  F  M RFM_Score\n",
       "CustomerID                                                 \n",
       "12348            75         31   1797.24  2  2  4       224\n",
       "12349            18         73   1757.55  4  4  4       444\n",
       "12350           310         17    334.40  1  1  1       111\n",
       "12352            36         95   1545.41  3  4  4       344\n",
       "12354           232         58   1079.40  1  3  3       133\n",
       "...             ...        ...       ... .. .. ..       ...\n",
       "14935           297         10   1784.71  1  1  4       114\n",
       "14936             9        366   8117.42  5  5  5       555\n",
       "14937            56         35   1617.63  3  2  4       324\n",
       "16321            72         16    230.70  2  1  1       211\n",
       "17097             2        213    937.92  5  5  3       553\n",
       "\n",
       "[348 rows x 7 columns]"
      ]
     },
     "execution_count": 303,
     "metadata": {},
     "output_type": "execute_result"
    }
   ],
   "source": [
    "rfm"
   ]
  },
  {
   "cell_type": "code",
   "execution_count": 314,
   "metadata": {},
   "outputs": [],
   "source": [
    "seg_map = {\n",
    "    r'[1-2][1-2]': 'Hibernating',\n",
    "    r'[1-2][3-4]': 'At Risk',\n",
    "    r'[1-2]5': 'Can\\'t Loose',\n",
    "    r'3[1-2]': 'About to Sleep',\n",
    "    r'33': 'Need Attention',\n",
    "    r'[3-4][4-5]': 'Loyal Customers',\n",
    "    r'41': 'Promising',\n",
    "    r'51': 'New Customers',\n",
    "    r'[4-5][2-3]': 'Potential Loyalists',\n",
    "    r'5[4-5]': 'Champions'\n",
    "}"
   ]
  },
  {
   "cell_type": "code",
   "execution_count": 316,
   "metadata": {},
   "outputs": [
    {
     "data": {
      "text/html": [
       "<div>\n",
       "<style scoped>\n",
       "    .dataframe tbody tr th:only-of-type {\n",
       "        vertical-align: middle;\n",
       "    }\n",
       "\n",
       "    .dataframe tbody tr th {\n",
       "        vertical-align: top;\n",
       "    }\n",
       "\n",
       "    .dataframe thead th {\n",
       "        text-align: right;\n",
       "    }\n",
       "</style>\n",
       "<table border=\"1\" class=\"dataframe\">\n",
       "  <thead>\n",
       "    <tr style=\"text-align: right;\">\n",
       "      <th></th>\n",
       "      <th>Recency</th>\n",
       "      <th>Frequency</th>\n",
       "      <th>Monetary</th>\n",
       "      <th>R</th>\n",
       "      <th>F</th>\n",
       "      <th>M</th>\n",
       "      <th>RFM_Score</th>\n",
       "      <th>Segment</th>\n",
       "    </tr>\n",
       "    <tr>\n",
       "      <th>CustomerID</th>\n",
       "      <th></th>\n",
       "      <th></th>\n",
       "      <th></th>\n",
       "      <th></th>\n",
       "      <th></th>\n",
       "      <th></th>\n",
       "      <th></th>\n",
       "      <th></th>\n",
       "    </tr>\n",
       "  </thead>\n",
       "  <tbody>\n",
       "    <tr>\n",
       "      <th>12348</th>\n",
       "      <td>75</td>\n",
       "      <td>31</td>\n",
       "      <td>1797.24</td>\n",
       "      <td>2</td>\n",
       "      <td>2</td>\n",
       "      <td>4</td>\n",
       "      <td>224</td>\n",
       "      <td>At Risk</td>\n",
       "    </tr>\n",
       "    <tr>\n",
       "      <th>12349</th>\n",
       "      <td>18</td>\n",
       "      <td>73</td>\n",
       "      <td>1757.55</td>\n",
       "      <td>4</td>\n",
       "      <td>4</td>\n",
       "      <td>4</td>\n",
       "      <td>444</td>\n",
       "      <td>Loyal Customers</td>\n",
       "    </tr>\n",
       "    <tr>\n",
       "      <th>12350</th>\n",
       "      <td>310</td>\n",
       "      <td>17</td>\n",
       "      <td>334.40</td>\n",
       "      <td>1</td>\n",
       "      <td>1</td>\n",
       "      <td>1</td>\n",
       "      <td>111</td>\n",
       "      <td>Hibernating</td>\n",
       "    </tr>\n",
       "    <tr>\n",
       "      <th>12352</th>\n",
       "      <td>36</td>\n",
       "      <td>95</td>\n",
       "      <td>1545.41</td>\n",
       "      <td>3</td>\n",
       "      <td>4</td>\n",
       "      <td>4</td>\n",
       "      <td>344</td>\n",
       "      <td>Loyal Customers</td>\n",
       "    </tr>\n",
       "    <tr>\n",
       "      <th>12354</th>\n",
       "      <td>232</td>\n",
       "      <td>58</td>\n",
       "      <td>1079.40</td>\n",
       "      <td>1</td>\n",
       "      <td>3</td>\n",
       "      <td>3</td>\n",
       "      <td>133</td>\n",
       "      <td>Need Attention</td>\n",
       "    </tr>\n",
       "  </tbody>\n",
       "</table>\n",
       "</div>"
      ],
      "text/plain": [
       "            Recency  Frequency  Monetary  R  F  M RFM_Score          Segment\n",
       "CustomerID                                                                  \n",
       "12348            75         31   1797.24  2  2  4       224          At Risk\n",
       "12349            18         73   1757.55  4  4  4       444  Loyal Customers\n",
       "12350           310         17    334.40  1  1  1       111      Hibernating\n",
       "12352            36         95   1545.41  3  4  4       344  Loyal Customers\n",
       "12354           232         58   1079.40  1  3  3       133   Need Attention"
      ]
     },
     "execution_count": 316,
     "metadata": {},
     "output_type": "execute_result"
    }
   ],
   "source": [
    "rfm['Segment'] = rfm['F'].astype(str) + rfm['M'].astype(str)\n",
    "rfm['Segment'] = rfm['Segment'].replace(seg_map, regex=True)\n",
    "rfm.head()"
   ]
  },
  {
   "attachments": {},
   "cell_type": "markdown",
   "metadata": {},
   "source": [
    "#### 1.3 적합한 군집분석 알고리즘을 선택하고 시행한 후, 시행 결과에 대해 응집도와 분리도 관점에서 평가하시오."
   ]
  },
  {
   "cell_type": "code",
   "execution_count": 318,
   "metadata": {},
   "outputs": [],
   "source": [
    "rfm_cluster = rfm[['R','M','F']]"
   ]
  },
  {
   "cell_type": "code",
   "execution_count": 339,
   "metadata": {},
   "outputs": [],
   "source": [
    "import sklearn\n",
    "from sklearn import *\n",
    "from sklearn.cluster import AgglomerativeClustering, DBSCAN, KMeans, OPTICS\n",
    "from scipy.cluster.hierarchy import linkage, dendrogram\n"
   ]
  },
  {
   "cell_type": "code",
   "execution_count": 340,
   "metadata": {},
   "outputs": [
    {
     "data": {
      "text/plain": [
       "(347, 4)"
      ]
     },
     "execution_count": 340,
     "metadata": {},
     "output_type": "execute_result"
    }
   ],
   "source": [
    "clusters = linkage(rfm_cluster, method='complete', metric='euclidean')\n",
    "clusters.shape"
   ]
  },
  {
   "cell_type": "code",
   "execution_count": 345,
   "metadata": {},
   "outputs": [
    {
     "data": {
      "image/png": "[encoded data removed]",
      "text/plain": [
       "<Figure size 2000x500 with 1 Axes>"
      ]
     },
     "metadata": {},
     "output_type": "display_data"
    }
   ],
   "source": [
    "import matplotlib.pyplot as plt\n",
    "plt.figure(figsize = (20, 5))\n",
    "dendrogram(clusters,) #leaf_rotation=90, leaf_font_size=12,)\n",
    "plt.show()"
   ]
  },
  {
   "cell_type": "code",
   "execution_count": 348,
   "metadata": {},
   "outputs": [
    {
     "data": {
      "text/html": [
       "<div>\n",
       "<style scoped>\n",
       "    .dataframe tbody tr th:only-of-type {\n",
       "        vertical-align: middle;\n",
       "    }\n",
       "\n",
       "    .dataframe tbody tr th {\n",
       "        vertical-align: top;\n",
       "    }\n",
       "\n",
       "    .dataframe thead th {\n",
       "        text-align: right;\n",
       "    }\n",
       "</style>\n",
       "<table border=\"1\" class=\"dataframe\">\n",
       "  <thead>\n",
       "    <tr style=\"text-align: right;\">\n",
       "      <th></th>\n",
       "      <th>Recency</th>\n",
       "      <th>Frequency</th>\n",
       "      <th>Monetary</th>\n",
       "      <th>R</th>\n",
       "      <th>F</th>\n",
       "      <th>M</th>\n",
       "      <th>RFM_Score</th>\n",
       "      <th>Segment</th>\n",
       "      <th>labels</th>\n",
       "    </tr>\n",
       "    <tr>\n",
       "      <th>CustomerID</th>\n",
       "      <th></th>\n",
       "      <th></th>\n",
       "      <th></th>\n",
       "      <th></th>\n",
       "      <th></th>\n",
       "      <th></th>\n",
       "      <th></th>\n",
       "      <th></th>\n",
       "      <th></th>\n",
       "    </tr>\n",
       "  </thead>\n",
       "  <tbody>\n",
       "    <tr>\n",
       "      <th>12348</th>\n",
       "      <td>75</td>\n",
       "      <td>31</td>\n",
       "      <td>1797.24</td>\n",
       "      <td>2</td>\n",
       "      <td>2</td>\n",
       "      <td>4</td>\n",
       "      <td>224</td>\n",
       "      <td>At Risk</td>\n",
       "      <td>1</td>\n",
       "    </tr>\n",
       "    <tr>\n",
       "      <th>12349</th>\n",
       "      <td>18</td>\n",
       "      <td>73</td>\n",
       "      <td>1757.55</td>\n",
       "      <td>4</td>\n",
       "      <td>4</td>\n",
       "      <td>4</td>\n",
       "      <td>444</td>\n",
       "      <td>Loyal Customers</td>\n",
       "      <td>3</td>\n",
       "    </tr>\n",
       "    <tr>\n",
       "      <th>12350</th>\n",
       "      <td>310</td>\n",
       "      <td>17</td>\n",
       "      <td>334.40</td>\n",
       "      <td>1</td>\n",
       "      <td>1</td>\n",
       "      <td>1</td>\n",
       "      <td>111</td>\n",
       "      <td>Hibernating</td>\n",
       "      <td>5</td>\n",
       "    </tr>\n",
       "    <tr>\n",
       "      <th>12352</th>\n",
       "      <td>36</td>\n",
       "      <td>95</td>\n",
       "      <td>1545.41</td>\n",
       "      <td>3</td>\n",
       "      <td>4</td>\n",
       "      <td>4</td>\n",
       "      <td>344</td>\n",
       "      <td>Loyal Customers</td>\n",
       "      <td>1</td>\n",
       "    </tr>\n",
       "    <tr>\n",
       "      <th>12354</th>\n",
       "      <td>232</td>\n",
       "      <td>58</td>\n",
       "      <td>1079.40</td>\n",
       "      <td>1</td>\n",
       "      <td>3</td>\n",
       "      <td>3</td>\n",
       "      <td>133</td>\n",
       "      <td>Need Attention</td>\n",
       "      <td>1</td>\n",
       "    </tr>\n",
       "    <tr>\n",
       "      <th>...</th>\n",
       "      <td>...</td>\n",
       "      <td>...</td>\n",
       "      <td>...</td>\n",
       "      <td>...</td>\n",
       "      <td>...</td>\n",
       "      <td>...</td>\n",
       "      <td>...</td>\n",
       "      <td>...</td>\n",
       "      <td>...</td>\n",
       "    </tr>\n",
       "    <tr>\n",
       "      <th>14935</th>\n",
       "      <td>297</td>\n",
       "      <td>10</td>\n",
       "      <td>1784.71</td>\n",
       "      <td>1</td>\n",
       "      <td>1</td>\n",
       "      <td>4</td>\n",
       "      <td>114</td>\n",
       "      <td>At Risk</td>\n",
       "      <td>5</td>\n",
       "    </tr>\n",
       "    <tr>\n",
       "      <th>14936</th>\n",
       "      <td>9</td>\n",
       "      <td>366</td>\n",
       "      <td>8117.42</td>\n",
       "      <td>5</td>\n",
       "      <td>5</td>\n",
       "      <td>5</td>\n",
       "      <td>555</td>\n",
       "      <td>Champions</td>\n",
       "      <td>3</td>\n",
       "    </tr>\n",
       "    <tr>\n",
       "      <th>14937</th>\n",
       "      <td>56</td>\n",
       "      <td>35</td>\n",
       "      <td>1617.63</td>\n",
       "      <td>3</td>\n",
       "      <td>2</td>\n",
       "      <td>4</td>\n",
       "      <td>324</td>\n",
       "      <td>At Risk</td>\n",
       "      <td>1</td>\n",
       "    </tr>\n",
       "    <tr>\n",
       "      <th>16321</th>\n",
       "      <td>72</td>\n",
       "      <td>16</td>\n",
       "      <td>230.70</td>\n",
       "      <td>2</td>\n",
       "      <td>1</td>\n",
       "      <td>1</td>\n",
       "      <td>211</td>\n",
       "      <td>Hibernating</td>\n",
       "      <td>5</td>\n",
       "    </tr>\n",
       "    <tr>\n",
       "      <th>17097</th>\n",
       "      <td>2</td>\n",
       "      <td>213</td>\n",
       "      <td>937.92</td>\n",
       "      <td>5</td>\n",
       "      <td>5</td>\n",
       "      <td>3</td>\n",
       "      <td>553</td>\n",
       "      <td>Potential Loyalists</td>\n",
       "      <td>2</td>\n",
       "    </tr>\n",
       "  </tbody>\n",
       "</table>\n",
       "<p>348 rows × 9 columns</p>\n",
       "</div>"
      ],
      "text/plain": [
       "            Recency  Frequency  Monetary  R  F  M RFM_Score  \\\n",
       "CustomerID                                                    \n",
       "12348            75         31   1797.24  2  2  4       224   \n",
       "12349            18         73   1757.55  4  4  4       444   \n",
       "12350           310         17    334.40  1  1  1       111   \n",
       "12352            36         95   1545.41  3  4  4       344   \n",
       "12354           232         58   1079.40  1  3  3       133   \n",
       "...             ...        ...       ... .. .. ..       ...   \n",
       "14935           297         10   1784.71  1  1  4       114   \n",
       "14936             9        366   8117.42  5  5  5       555   \n",
       "14937            56         35   1617.63  3  2  4       324   \n",
       "16321            72         16    230.70  2  1  1       211   \n",
       "17097             2        213    937.92  5  5  3       553   \n",
       "\n",
       "                        Segment  labels  \n",
       "CustomerID                               \n",
       "12348                   At Risk       1  \n",
       "12349           Loyal Customers       3  \n",
       "12350               Hibernating       5  \n",
       "12352           Loyal Customers       1  \n",
       "12354            Need Attention       1  \n",
       "...                         ...     ...  \n",
       "14935                   At Risk       5  \n",
       "14936                 Champions       3  \n",
       "14937                   At Risk       1  \n",
       "16321               Hibernating       5  \n",
       "17097       Potential Loyalists       2  \n",
       "\n",
       "[348 rows x 9 columns]"
      ]
     },
     "execution_count": 348,
     "metadata": {},
     "output_type": "execute_result"
    }
   ],
   "source": [
    "from scipy.cluster.hierarchy import fcluster # 지정한 클러스터 자르기\n",
    "\n",
    "cut_tree = fcluster(clusters, t=4, criterion='distance')\n",
    "cut_tree # prediction\n",
    "\n",
    "rfm['labels'] = cut_tree# 정답\n",
    "rfm"
   ]
  },
  {
   "cell_type": "code",
   "execution_count": 349,
   "metadata": {},
   "outputs": [
    {
     "data": {
      "text/plain": [
       "<matplotlib.collections.PathCollection at 0x22ccf168a30>"
      ]
     },
     "execution_count": 349,
     "metadata": {},
     "output_type": "execute_result"
    },
    {
     "data": {
      "image/png": "[encoded data removed]",
      "text/plain": [
       "<Figure size 640x480 with 1 Axes>"
      ]
     },
     "metadata": {},
     "output_type": "display_data"
    }
   ],
   "source": [
    "plt.scatter(x=rfm['F'], y=rfm['M'], c=rfm['labels'])"
   ]
  },
  {
   "cell_type": "code",
   "execution_count": 351,
   "metadata": {},
   "outputs": [],
   "source": [
    "rfm_Kcluster = rfm_cluster[[\"R\",\"F\",\"M\"]]"
   ]
  },
  {
   "cell_type": "code",
   "execution_count": 353,
   "metadata": {},
   "outputs": [],
   "source": [
    "model = KMeans(n_clusters=4, random_state=0, algorithm='auto')"
   ]
  },
  {
   "cell_type": "code",
   "execution_count": 354,
   "metadata": {},
   "outputs": [
    {
     "name": "stderr",
     "output_type": "stream",
     "text": [
      "C:\\Users\\Devin\\anaconda3\\envs\\tensorflow\\lib\\site-packages\\sklearn\\cluster\\_kmeans.py:870: FutureWarning: The default value of `n_init` will change from 10 to 'auto' in 1.4. Set the value of `n_init` explicitly to suppress the warning\n",
      "  warnings.warn(\n",
      "C:\\Users\\Devin\\anaconda3\\envs\\tensorflow\\lib\\site-packages\\sklearn\\cluster\\_kmeans.py:1366: FutureWarning: algorithm='auto' is deprecated, it will be removed in 1.3. Using 'lloyd' instead.\n",
      "  warnings.warn(\n",
      "C:\\Users\\Devin\\anaconda3\\envs\\tensorflow\\lib\\site-packages\\sklearn\\cluster\\_kmeans.py:1382: UserWarning: KMeans is known to have a memory leak on Windows with MKL, when there are less chunks than available threads. You can avoid it by setting the environment variable OMP_NUM_THREADS=2.\n",
      "  warnings.warn(\n"
     ]
    },
    {
     "data": {
      "text/html": [
       "<style>#sk-container-id-1 {color: black;background-color: white;}#sk-container-id-1 pre{padding: 0;}#sk-container-id-1 div.sk-toggleable {background-color: white;}#sk-container-id-1 label.sk-toggleable__label {cursor: pointer;display: block;width: 100%;margin-bottom: 0;padding: 0.3em;box-sizing: border-box;text-align: center;}#sk-container-id-1 label.sk-toggleable__label-arrow:before {content: \"▸\";float: left;margin-right: 0.25em;color: #696969;}#sk-container-id-1 label.sk-toggleable__label-arrow:hover:before {color: black;}#sk-container-id-1 div.sk-estimator:hover label.sk-toggleable__label-arrow:before {color: black;}#sk-container-id-1 div.sk-toggleable__content {max-height: 0;max-width: 0;overflow: hidden;text-align: left;background-color: #f0f8ff;}#sk-container-id-1 div.sk-toggleable__content pre {margin: 0.2em;color: black;border-radius: 0.25em;background-color: #f0f8ff;}#sk-container-id-1 input.sk-toggleable__control:checked~div.sk-toggleable__content {max-height: 200px;max-width: 100%;overflow: auto;}#sk-container-id-1 input.sk-toggleable__control:checked~label.sk-toggleable__label-arrow:before {content: \"▾\";}#sk-container-id-1 div.sk-estimator input.sk-toggleable__control:checked~label.sk-toggleable__label {background-color: #d4ebff;}#sk-container-id-1 div.sk-label input.sk-toggleable__control:checked~label.sk-toggleable__label {background-color: #d4ebff;}#sk-container-id-1 input.sk-hidden--visually {border: 0;clip: rect(1px 1px 1px 1px);clip: rect(1px, 1px, 1px, 1px);height: 1px;margin: -1px;overflow: hidden;padding: 0;position: absolute;width: 1px;}#sk-container-id-1 div.sk-estimator {font-family: monospace;background-color: #f0f8ff;border: 1px dotted black;border-radius: 0.25em;box-sizing: border-box;margin-bottom: 0.5em;}#sk-container-id-1 div.sk-estimator:hover {background-color: #d4ebff;}#sk-container-id-1 div.sk-parallel-item::after {content: \"\";width: 100%;border-bottom: 1px solid gray;flex-grow: 1;}#sk-container-id-1 div.sk-label:hover label.sk-toggleable__label {background-color: #d4ebff;}#sk-container-id-1 div.sk-serial::before {content: \"\";position: absolute;border-left: 1px solid gray;box-sizing: border-box;top: 0;bottom: 0;left: 50%;z-index: 0;}#sk-container-id-1 div.sk-serial {display: flex;flex-direction: column;align-items: center;background-color: white;padding-right: 0.2em;padding-left: 0.2em;position: relative;}#sk-container-id-1 div.sk-item {position: relative;z-index: 1;}#sk-container-id-1 div.sk-parallel {display: flex;align-items: stretch;justify-content: center;background-color: white;position: relative;}#sk-container-id-1 div.sk-item::before, #sk-container-id-1 div.sk-parallel-item::before {content: \"\";position: absolute;border-left: 1px solid gray;box-sizing: border-box;top: 0;bottom: 0;left: 50%;z-index: -1;}#sk-container-id-1 div.sk-parallel-item {display: flex;flex-direction: column;z-index: 1;position: relative;background-color: white;}#sk-container-id-1 div.sk-parallel-item:first-child::after {align-self: flex-end;width: 50%;}#sk-container-id-1 div.sk-parallel-item:last-child::after {align-self: flex-start;width: 50%;}#sk-container-id-1 div.sk-parallel-item:only-child::after {width: 0;}#sk-container-id-1 div.sk-dashed-wrapped {border: 1px dashed gray;margin: 0 0.4em 0.5em 0.4em;box-sizing: border-box;padding-bottom: 0.4em;background-color: white;}#sk-container-id-1 div.sk-label label {font-family: monospace;font-weight: bold;display: inline-block;line-height: 1.2em;}#sk-container-id-1 div.sk-label-container {text-align: center;}#sk-container-id-1 div.sk-container {/* jupyter's `normalize.less` sets `[hidden] { display: none; }` but bootstrap.min.css set `[hidden] { display: none !important; }` so we also need the `!important` here to be able to override the default hidden behavior on the sphinx rendered scikit-learn.org. See: https://github.com/scikit-learn/scikit-learn/issues/21755 */display: inline-block !important;position: relative;}#sk-container-id-1 div.sk-text-repr-fallback {display: none;}</style><div id=\"sk-container-id-1\" class=\"sk-top-container\"><div class=\"sk-text-repr-fallback\"><pre>KMeans(algorithm=&#x27;auto&#x27;, n_clusters=4, random_state=0)</pre><b>In a Jupyter environment, please rerun this cell to show the HTML representation or trust the notebook. <br />On GitHub, the HTML representation is unable to render, please try loading this page with nbviewer.org.</b></div><div class=\"sk-container\" hidden><div class=\"sk-item\"><div class=\"sk-estimator sk-toggleable\"><input class=\"sk-toggleable__control sk-hidden--visually\" id=\"sk-estimator-id-1\" type=\"checkbox\" checked><label for=\"sk-estimator-id-1\" class=\"sk-toggleable__label sk-toggleable__label-arrow\">KMeans</label><div class=\"sk-toggleable__content\"><pre>KMeans(algorithm=&#x27;auto&#x27;, n_clusters=4, random_state=0)</pre></div></div></div></div></div>"
      ],
      "text/plain": [
       "KMeans(algorithm='auto', n_clusters=4, random_state=0)"
      ]
     },
     "execution_count": 354,
     "metadata": {},
     "output_type": "execute_result"
    }
   ],
   "source": [
    "model.fit(rfm_Kcluster)"
   ]
  },
  {
   "cell_type": "code",
   "execution_count": 357,
   "metadata": {},
   "outputs": [
    {
     "data": {
      "text/plain": [
       "348"
      ]
     },
     "execution_count": 357,
     "metadata": {},
     "output_type": "execute_result"
    }
   ],
   "source": [
    "pred = model.predict(rfm_Kcluster)\n",
    "pred\n",
    "len(pred)"
   ]
  },
  {
   "cell_type": "code",
   "execution_count": 358,
   "metadata": {},
   "outputs": [
    {
     "data": {
      "text/plain": [
       "<matplotlib.collections.PathCollection at 0x22cd4af56a0>"
      ]
     },
     "execution_count": 358,
     "metadata": {},
     "output_type": "execute_result"
    },
    {
     "data": {
      "image/png": "[encoded data removed]",
      "text/plain": [
       "<Figure size 640x480 with 1 Axes>"
      ]
     },
     "metadata": {},
     "output_type": "display_data"
    }
   ],
   "source": [
    "plt.scatter(x=rfm['F'], y=rfm['M'], c=pred)"
   ]
  },
  {
   "attachments": {},
   "cell_type": "markdown",
   "metadata": {},
   "source": [
    "#### 1.4 각 군집별 특성에 대한 의견과 비즈니스적 인사이트를 제시하시오"
   ]
  },
  {
   "cell_type": "code",
   "execution_count": null,
   "metadata": {},
   "outputs": [],
   "source": []
  },
  {
   "attachments": {},
   "cell_type": "markdown",
   "metadata": {},
   "source": [
    "### 2번 시계열분석\n",
    "\n",
    "#### 데이터 설명\n",
    "- 각 raw는 관광지 A의 1990년 1월 부터 25년동안의 매달 평균 이용객 숫자이다."
   ]
  },
  {
   "cell_type": "code",
   "execution_count": 163,
   "metadata": {},
   "outputs": [
    {
     "data": {
      "text/html": [
       "<div>\n",
       "<style scoped>\n",
       "    .dataframe tbody tr th:only-of-type {\n",
       "        vertical-align: middle;\n",
       "    }\n",
       "\n",
       "    .dataframe tbody tr th {\n",
       "        vertical-align: top;\n",
       "    }\n",
       "\n",
       "    .dataframe thead th {\n",
       "        text-align: right;\n",
       "    }\n",
       "</style>\n",
       "<table border=\"1\" class=\"dataframe\">\n",
       "  <thead>\n",
       "    <tr style=\"text-align: right;\">\n",
       "      <th></th>\n",
       "      <th>counts</th>\n",
       "    </tr>\n",
       "  </thead>\n",
       "  <tbody>\n",
       "    <tr>\n",
       "      <th>0</th>\n",
       "      <td>544.3</td>\n",
       "    </tr>\n",
       "    <tr>\n",
       "      <th>1</th>\n",
       "      <td>603.1</td>\n",
       "    </tr>\n",
       "    <tr>\n",
       "      <th>2</th>\n",
       "      <td>NaN</td>\n",
       "    </tr>\n",
       "    <tr>\n",
       "      <th>3</th>\n",
       "      <td>533.4</td>\n",
       "    </tr>\n",
       "    <tr>\n",
       "      <th>4</th>\n",
       "      <td>619.5</td>\n",
       "    </tr>\n",
       "    <tr>\n",
       "      <th>...</th>\n",
       "      <td>...</td>\n",
       "    </tr>\n",
       "    <tr>\n",
       "      <th>295</th>\n",
       "      <td>445.2</td>\n",
       "    </tr>\n",
       "    <tr>\n",
       "      <th>296</th>\n",
       "      <td>472.0</td>\n",
       "    </tr>\n",
       "    <tr>\n",
       "      <th>297</th>\n",
       "      <td>341.6</td>\n",
       "    </tr>\n",
       "    <tr>\n",
       "      <th>298</th>\n",
       "      <td>477.8</td>\n",
       "    </tr>\n",
       "    <tr>\n",
       "      <th>299</th>\n",
       "      <td>588.8</td>\n",
       "    </tr>\n",
       "  </tbody>\n",
       "</table>\n",
       "<p>300 rows × 1 columns</p>\n",
       "</div>"
      ],
      "text/plain": [
       "     counts\n",
       "0     544.3\n",
       "1     603.1\n",
       "2       NaN\n",
       "3     533.4\n",
       "4     619.5\n",
       "..      ...\n",
       "295   445.2\n",
       "296   472.0\n",
       "297   341.6\n",
       "298   477.8\n",
       "299   588.8\n",
       "\n",
       "[300 rows x 1 columns]"
      ]
     },
     "execution_count": 163,
     "metadata": {},
     "output_type": "execute_result"
    }
   ],
   "source": [
    "import ssl\n",
    "import pandas as pd\n",
    "import urllib\n",
    "context = ssl._create_unverified_context()\n",
    "\n",
    "url2 = 'https://raw.githubusercontent.com/Ssunbell/ADP_study/main/8주차_0709/data/problem2.csv'\n",
    "encoded_url2 = urllib.parse.quote(url2, safe=':/')\n",
    "\n",
    "response2 = urllib.request.urlopen(encoded_url2, context=context)\n",
    "df2 = pd.read_csv(response2, encoding='utf-8', index_col=0)\n",
    "df2"
   ]
  },
  {
   "cell_type": "markdown",
   "metadata": {},
   "source": [
    "정상성\n",
    " - 시계열분석 위해서는 정상성 만족해야함 (시점에 상관없이 시계열 특징이 일치)\n",
    " - 평균 일정 | 분산이 시점에 의존하지 않음 | 공분산은 시차에만 의존하고 시점에 의존하지 않음\n",
    "   \n",
    "정상성 확인\n",
    " - 시계열 그래프\n",
    " - 통계적 가설 검정 (ADF 및 KPSS)\n",
    " - 자기상관 (ACF 및 PACF)\n",
    "\n",
    "비정상 시계열\n",
    " - 정상성 조건을 하나라도 만족하지 못한 경우이며 대부분의 시계열 자료는 비정상임\n",
    " - 비정상 시계열 자료는 데이터를 정상성 시계열 자료로 만든 후 시계열 분석 수행\n",
    "\n",
    "\n",
    "변환\n",
    " - 추세를 보이는 (평균이 일정하지 않음) 차분\n",
    " - 시간에 따라 분산이 일정하지 않은 경우 변환\n",
    " - 차분: 현재 시점에서 바로 전 시점 자료를 빼는 경우\n",
    " - 계절차분: 여러 시점 전의 자료를 빼는 것\n",
    "[]()reference"
   ]
  },
  {
   "attachments": {},
   "cell_type": "markdown",
   "metadata": {},
   "source": [
    "#### 2-1 EDA와 시각화를 진행하라"
   ]
  },
  {
   "cell_type": "code",
   "execution_count": 167,
   "metadata": {},
   "outputs": [
    {
     "data": {
      "text/plain": [
       "<AxesSubplot: >"
      ]
     },
     "execution_count": 167,
     "metadata": {},
     "output_type": "execute_result"
    },
    {
     "data": {
      "image/png": "[encoded data removed]",
      "text/plain": [
       "<Figure size 640x480 with 1 Axes>"
      ]
     },
     "metadata": {},
     "output_type": "display_data"
    }
   ],
   "source": [
    "#df2.plot()\n",
    "import matplotlib.pyplot as plt\n",
    "import seaborn as sns\n",
    "sns.lineplot(df2)"
   ]
  },
  {
   "attachments": {},
   "cell_type": "markdown",
   "metadata": {},
   "source": [
    "#### 2-2 결측치 처리와 해당 결측치 처리 방식에 대한 논리적 근거를 제시하라"
   ]
  },
  {
   "cell_type": "code",
   "execution_count": 188,
   "metadata": {},
   "outputs": [
    {
     "data": {
      "text/plain": [
       "counts\n",
       "False     295\n",
       "True        5\n",
       "dtype: int64"
      ]
     },
     "execution_count": 188,
     "metadata": {},
     "output_type": "execute_result"
    }
   ],
   "source": [
    "df2.isna().value_counts()"
   ]
  },
  {
   "cell_type": "code",
   "execution_count": 196,
   "metadata": {},
   "outputs": [
    {
     "data": {
      "text/html": [
       "<div>\n",
       "<style scoped>\n",
       "    .dataframe tbody tr th:only-of-type {\n",
       "        vertical-align: middle;\n",
       "    }\n",
       "\n",
       "    .dataframe tbody tr th {\n",
       "        vertical-align: top;\n",
       "    }\n",
       "\n",
       "    .dataframe thead th {\n",
       "        text-align: right;\n",
       "    }\n",
       "</style>\n",
       "<table border=\"1\" class=\"dataframe\">\n",
       "  <thead>\n",
       "    <tr style=\"text-align: right;\">\n",
       "      <th></th>\n",
       "      <th>counts</th>\n",
       "    </tr>\n",
       "  </thead>\n",
       "  <tbody>\n",
       "    <tr>\n",
       "      <th>2</th>\n",
       "      <td>NaN</td>\n",
       "    </tr>\n",
       "    <tr>\n",
       "      <th>68</th>\n",
       "      <td>NaN</td>\n",
       "    </tr>\n",
       "    <tr>\n",
       "      <th>84</th>\n",
       "      <td>NaN</td>\n",
       "    </tr>\n",
       "    <tr>\n",
       "      <th>167</th>\n",
       "      <td>NaN</td>\n",
       "    </tr>\n",
       "    <tr>\n",
       "      <th>282</th>\n",
       "      <td>NaN</td>\n",
       "    </tr>\n",
       "  </tbody>\n",
       "</table>\n",
       "</div>"
      ],
      "text/plain": [
       "     counts\n",
       "2       NaN\n",
       "68      NaN\n",
       "84      NaN\n",
       "167     NaN\n",
       "282     NaN"
      ]
     },
     "execution_count": 196,
     "metadata": {},
     "output_type": "execute_result"
    }
   ],
   "source": [
    "df2[df2['counts'].isnull()]"
   ]
  },
  {
   "cell_type": "code",
   "execution_count": 191,
   "metadata": {},
   "outputs": [],
   "source": [
    "df_ip = df2.interpolate(option='time')\n",
    "#df_ff = df2.ffill()\n",
    "#df_bf = df2.bfill()"
   ]
  },
  {
   "cell_type": "code",
   "execution_count": 203,
   "metadata": {},
   "outputs": [
    {
     "data": {
      "text/plain": [
       "<AxesSubplot: >"
      ]
     },
     "execution_count": 203,
     "metadata": {},
     "output_type": "execute_result"
    },
    {
     "data": {
      "image/png": "[encoded data removed]",
      "text/plain": [
       "<Figure size 640x480 with 1 Axes>"
      ]
     },
     "metadata": {},
     "output_type": "display_data"
    }
   ],
   "source": [
    "sns.lineplot(df_ip)"
   ]
  },
  {
   "attachments": {},
   "cell_type": "markdown",
   "metadata": {},
   "source": [
    "#### 2-3 계절성을 반영한 시계열 모델을 제시하고 정확도 측면에서 모델 성능 평가 할 것"
   ]
  },
  {
   "cell_type": "code",
   "execution_count": 220,
   "metadata": {},
   "outputs": [],
   "source": [
    "rolling_mean = df_ip.rolling(30).mean()\n",
    "rolling_std = df_ip.rolling(30).std()"
   ]
  },
  {
   "cell_type": "code",
   "execution_count": 221,
   "metadata": {},
   "outputs": [
    {
     "data": {
      "text/plain": [
       "<matplotlib.legend.Legend at 0x22ccce5be80>"
      ]
     },
     "execution_count": 221,
     "metadata": {},
     "output_type": "execute_result"
    },
    {
     "data": {
      "image/png": "[encoded data removed]",
      "text/plain": [
       "<Figure size 640x480 with 1 Axes>"
      ]
     },
     "metadata": {},
     "output_type": "display_data"
    }
   ],
   "source": [
    "plt.plot(df_ip, color=\"blue\", label='Original data')\n",
    "plt.plot(rolling_mean, color=\"red\", label='Rolling mean')\n",
    "plt.plot(rolling_std, color='black', label='Rolling std')\n",
    "plt.legend(loc=\"best\")"
   ]
  },
  {
   "cell_type": "code",
   "execution_count": 228,
   "metadata": {},
   "outputs": [],
   "source": [
    "import statsmodels.tsa.api as tsa\n",
    "model_series = tsa.seasonal_decompose(df_ip, model='multiplicative', period=12)"
   ]
  },
  {
   "cell_type": "code",
   "execution_count": 230,
   "metadata": {
    "scrolled": true
   },
   "outputs": [
    {
     "data": {
      "image/png": "[encoded data removed]",
      "text/plain": [
       "<Figure size 640x480 with 4 Axes>"
      ]
     },
     "metadata": {},
     "output_type": "display_data"
    }
   ],
   "source": [
    "model_series.plot();"
   ]
  },
  {
   "cell_type": "code",
   "execution_count": 231,
   "metadata": {},
   "outputs": [],
   "source": [
    "import statsmodels.tsa.api as tsa\n",
    "model_series = tsa.seasonal_decompose(df_ip, model='additive', period=12)"
   ]
  },
  {
   "cell_type": "code",
   "execution_count": 232,
   "metadata": {},
   "outputs": [
    {
     "data": {
      "image/png": "[encoded data removed]",
      "text/plain": [
       "<Figure size 640x480 with 4 Axes>"
      ]
     },
     "metadata": {},
     "output_type": "display_data"
    }
   ],
   "source": [
    "model_series.plot();"
   ]
  },
  {
   "cell_type": "code",
   "execution_count": 235,
   "metadata": {
    "collapsed": true,
    "jupyter": {
     "outputs_hidden": true
    },
    "scrolled": true
   },
   "outputs": [
    {
     "data": {
      "image/png": "[encoded data removed]",
      "text/plain": [
       "<Figure size 2000x800 with 1 Axes>"
      ]
     },
     "metadata": {},
     "output_type": "display_data"
    }
   ],
   "source": [
    "import statsmodels.api as sm\n",
    "fig = plt.figure(figsize=(20, 8))\n",
    "ax1 = fig.add_subplot(211)\n",
    "fig = sm.graphics.tsa.plot_acf(df_ip, lags=20, ax=ax1)"
   ]
  },
  {
   "cell_type": "code",
   "execution_count": 236,
   "metadata": {
    "collapsed": true,
    "jupyter": {
     "outputs_hidden": true
    }
   },
   "outputs": [
    {
     "name": "stderr",
     "output_type": "stream",
     "text": [
      "C:\\Users\\Devin\\anaconda3\\envs\\tensorflow\\lib\\site-packages\\statsmodels\\graphics\\tsaplots.py:348: FutureWarning: The default method 'yw' can produce PACF values outside of the [-1,1] interval. After 0.13, the default will change tounadjusted Yule-Walker ('ywm'). You can use this method now by setting method='ywm'.\n",
      "  warnings.warn(\n"
     ]
    },
    {
     "data": {
      "image/png": "[encoded data removed]",
      "text/plain": [
       "<Figure size 2000x800 with 1 Axes>"
      ]
     },
     "metadata": {},
     "output_type": "display_data"
    }
   ],
   "source": [
    "fig = plt.figure(figsize=(20, 8))\n",
    "ax1 = fig.add_subplot(211)\n",
    "fig = sm.graphics.tsa.plot_pacf(df_ip, lags=20, ax=ax1)"
   ]
  },
  {
   "cell_type": "code",
   "execution_count": null,
   "metadata": {},
   "outputs": [],
   "source": []
  },
  {
   "attachments": {},
   "cell_type": "markdown",
   "metadata": {},
   "source": [
    "#### 2-4 분석 결과 활용 가능 여부에 대한 분석 전문가로서의 제안"
   ]
  },
  {
   "cell_type": "code",
   "execution_count": null,
   "metadata": {},
   "outputs": [],
   "source": []
  },
  {
   "attachments": {},
   "cell_type": "markdown",
   "metadata": {},
   "source": [
    "## 통계\n",
    "### 3. 기본 통계 및 확률 문제"
   ]
  },
  {
   "attachments": {},
   "cell_type": "markdown",
   "metadata": {},
   "source": [
    "#### 3-1 서울에서 영동까지 100km/h로 가고 영동에서 서울까지 80km/로 돌아왔을 때, 평균 속도는?"
   ]
  },
  {
   "cell_type": "code",
   "execution_count": 4,
   "metadata": {},
   "outputs": [
    {
     "data": {
      "text/plain": [
       "90.0"
      ]
     },
     "execution_count": 4,
     "metadata": {},
     "output_type": "execute_result"
    }
   ],
   "source": [
    "import numpy as np\n",
    "\n",
    "a = [100, 80]\n",
    "avg_speed = np.mean(a)\n",
    "avg_speed"
   ]
  },
  {
   "attachments": {},
   "cell_type": "markdown",
   "metadata": {},
   "source": [
    "#### 3-2 이전의 연매출이 3000이고 올해의 연매출이 4000, 내년의 연매출이 5000으로 늘어날 예정이라면 연평균 몇배가 증가한 것인가?"
   ]
  },
  {
   "cell_type": "code",
   "execution_count": 13,
   "metadata": {},
   "outputs": [
    {
     "name": "stdout",
     "output_type": "stream",
     "text": [
      "29.17%\n"
     ]
    },
    {
     "data": {
      "text/plain": [
       "5005.466670000001"
      ]
     },
     "execution_count": 13,
     "metadata": {},
     "output_type": "execute_result"
    }
   ],
   "source": [
    "sales = [3000, 4000, 5000]\n",
    "incr1 = (sales[1] - sales[0]) /  sales[0]\n",
    "incr2 = (sales[2] - sales[1]) /  sales[1]\n",
    "avg = round((incr1 + incr2) / 2, 4)\n",
    "print(f'{avg*100}%')\n",
    "\n",
    "val = (sales[0] * (1+avg)) * (1+avg)\n",
    "val"
   ]
  },
  {
   "attachments": {},
   "cell_type": "markdown",
   "metadata": {},
   "source": [
    "#### 3-3 남성, 여성의 등산, 수영에 대한 취미 선호도 빈도표(2x2)를 보고, 남성 중에서 등산을 좋아할 확률을 구하시오\n",
    "\n",
    "<img width=\"300\" src=\"https://github.com/Ssunbell/Algorithm_Study/assets/97590480/98463d13-fa90-455b-a03c-a21701652dc1\">"
   ]
  },
  {
   "cell_type": "code",
   "execution_count": 22,
   "metadata": {},
   "outputs": [
    {
     "data": {
      "text/html": [
       "<div>\n",
       "<style scoped>\n",
       "    .dataframe tbody tr th:only-of-type {\n",
       "        vertical-align: middle;\n",
       "    }\n",
       "\n",
       "    .dataframe tbody tr th {\n",
       "        vertical-align: top;\n",
       "    }\n",
       "\n",
       "    .dataframe thead th {\n",
       "        text-align: right;\n",
       "    }\n",
       "</style>\n",
       "<table border=\"1\" class=\"dataframe\">\n",
       "  <thead>\n",
       "    <tr style=\"text-align: right;\">\n",
       "      <th></th>\n",
       "      <th>등산</th>\n",
       "      <th>수영</th>\n",
       "      <th>합계</th>\n",
       "    </tr>\n",
       "  </thead>\n",
       "  <tbody>\n",
       "    <tr>\n",
       "      <th>남자</th>\n",
       "      <td>20</td>\n",
       "      <td>10</td>\n",
       "      <td>30</td>\n",
       "    </tr>\n",
       "    <tr>\n",
       "      <th>여자</th>\n",
       "      <td>15</td>\n",
       "      <td>30</td>\n",
       "      <td>45</td>\n",
       "    </tr>\n",
       "    <tr>\n",
       "      <th>합계</th>\n",
       "      <td>35</td>\n",
       "      <td>40</td>\n",
       "      <td>75</td>\n",
       "    </tr>\n",
       "  </tbody>\n",
       "</table>\n",
       "</div>"
      ],
      "text/plain": [
       "    등산  수영  합계\n",
       "남자  20  10  30\n",
       "여자  15  30  45\n",
       "합계  35  40  75"
      ]
     },
     "execution_count": 22,
     "metadata": {},
     "output_type": "execute_result"
    }
   ],
   "source": [
    "import pandas as pd\n",
    "\n",
    "df = [[20, 10, 20+10], [15, 30, 15+30], [20+15, 10+30, 20+10+15+30]]\n",
    "df = pd.DataFrame(df, index=[\"남자\", \"여자\", \"합계\"], columns=[\"등산\", \"수영\", \"합계\"])\n",
    "df"
   ]
  },
  {
   "cell_type": "code",
   "execution_count": 31,
   "metadata": {},
   "outputs": [
    {
     "data": {
      "text/plain": [
       "0.6666666666666666"
      ]
     },
     "execution_count": 31,
     "metadata": {},
     "output_type": "execute_result"
    }
   ],
   "source": [
    "# P(등산 | 남성) = P(남성 | 등산) * P(등산) / P(남성)\n",
    "p_mc = df.iloc[0,0] / df.iloc[2,0]\n",
    "p_climb = df.iloc[2,0] / df.iloc[2,2]\n",
    "p_male = df.iloc[0,2] / df.iloc[2,2]\n",
    "\n",
    "result = p_mc * p_climb / p_male\n",
    "result"
   ]
  },
  {
   "attachments": {},
   "cell_type": "markdown",
   "metadata": {},
   "source": [
    "#### 3-4 표본 10개의 분산이 90일 때 신뢰도 95%로 모분산의 신뢰구간을 추정하라"
   ]
  },
  {
   "cell_type": "code",
   "execution_count": 53,
   "metadata": {},
   "outputs": [
    {
     "name": "stdout",
     "output_type": "stream",
     "text": [
      "0.025 0.975\n"
     ]
    }
   ],
   "source": [
    "from scipy import stats\n",
    "\n",
    "n=10 \n",
    "dof=n-1\n",
    "sd_smap=90\n",
    "conf_itvl= .95\n",
    "alpha = round(1-conf_itvl,2)\n",
    "alpha_lower = alpha/2\n",
    "alpha_upper = conf_itvl + alpha/2\n",
    "print(alpha_lower, alpha_upper)"
   ]
  },
  {
   "cell_type": "code",
   "execution_count": 54,
   "metadata": {},
   "outputs": [],
   "source": [
    "# 모분산의 신뢰구간 dof * sd_samp / chi2_a/2 < sd_pop < dof * sd_samp / chi2_a/2"
   ]
  },
  {
   "cell_type": "code",
   "execution_count": 64,
   "metadata": {},
   "outputs": [],
   "source": [
    "chi2_upper = stats.chi2.ppf(alpha_upper, dof)\n",
    "chi2_lower = stats.chi2.ppf(alpha_lower, dof)"
   ]
  },
  {
   "cell_type": "code",
   "execution_count": 65,
   "metadata": {},
   "outputs": [
    {
     "name": "stdout",
     "output_type": "stream",
     "text": [
      "299.95672846672363 42.58055444790953\n"
     ]
    }
   ],
   "source": [
    "result_lower = (dof * sd_smap) / chi2_lower\n",
    "result_upper = (dof * sd_smap) / chi2_upper\n",
    "print(result_lower, result_upper)"
   ]
  },
  {
   "attachments": {},
   "cell_type": "markdown",
   "metadata": {},
   "source": [
    "### 4번 임상 대상 20명에 대해 혈압약 투약 이전과 이후의 차이가 24, 표준편차 9  신뢰구간 95%이고 혈압약 투약 이전과 이후의 차이가 존재하는지 확인하려한다."
   ]
  },
  {
   "attachments": {},
   "cell_type": "markdown",
   "metadata": {},
   "source": [
    "#### 4-1 귀무가설과 연구가설을 제시하시오\n",
    "- H0: 투약 전과 후 차이가 없다\n",
    "- H1: 투약 전과 후 차이가 존재한다\n",
    "- shaprio p<.5: wilcox rank sum test\n",
    "- shaprio p>.5: paried sample t-test "
   ]
  },
  {
   "cell_type": "code",
   "execution_count": 99,
   "metadata": {},
   "outputs": [
    {
     "data": {
      "text/plain": [
       "11.925695879998878"
      ]
     },
     "execution_count": 99,
     "metadata": {},
     "output_type": "execute_result"
    }
   ],
   "source": [
    "# t_value =  Diff_samp / (sd_samp/sqrt(n))\n",
    "dof = 20-1\n",
    "t = 24 / (9 / np.sqrt(20))\n",
    "t"
   ]
  },
  {
   "cell_type": "code",
   "execution_count": 83,
   "metadata": {},
   "outputs": [],
   "source": [
    "# for example\n",
    "t = 1.64\n",
    "dof = 4"
   ]
  },
  {
   "cell_type": "code",
   "execution_count": 97,
   "metadata": {},
   "outputs": [
    {
     "name": "stdout",
     "output_type": "stream",
     "text": [
      "-2.7764451051977996\n",
      "2.7764451051977987\n"
     ]
    }
   ],
   "source": [
    "# 기각역: t값이 채택역 안에 있다\n",
    "print(stats.t.ppf(0.025, dof)) # -t_0.025,4 의미\n",
    "print(stats.t.ppf(0.975, dof)) # t_0.025,4 의미"
   ]
  },
  {
   "cell_type": "code",
   "execution_count": 98,
   "metadata": {},
   "outputs": [
    {
     "name": "stdout",
     "output_type": "stream",
     "text": [
      "0.1763486621496122\n"
     ]
    }
   ],
   "source": [
    "# p-value: 유의수준 (0.025) 보다 크므로 H0 수용 (차이가 없다)\n",
    "print(2*(1 - stats.t.cdf(1.64, dof))) #p-value 의미"
   ]
  },
  {
   "attachments": {},
   "cell_type": "markdown",
   "metadata": {},
   "source": [
    "#### 4-2 검정 후 귀무가설 기각 여부 제시"
   ]
  },
  {
   "cell_type": "code",
   "execution_count": 103,
   "metadata": {},
   "outputs": [
    {
     "name": "stdout",
     "output_type": "stream",
     "text": [
      "2.8772539906185557e-10\n"
     ]
    }
   ],
   "source": [
    "# p-value: 유의수준 (0.025) 보다 작으므로 H0 기각 (차이가 있다)\n",
    "print(2*(1 - stats.t.cdf(t, dof))) #p-value 의미"
   ]
  },
  {
   "attachments": {},
   "cell_type": "markdown",
   "metadata": {},
   "source": [
    "### 5번 공장 X,Y,Z의 평균 출하 소요시간을 여러 일자에 거쳐 측정한 데이터이다. 각 공장의 중위수의 차이가 존재하는지 확인하려 한다."
   ]
  },
  {
   "cell_type": "code",
   "execution_count": 105,
   "metadata": {
    "scrolled": true
   },
   "outputs": [
    {
     "data": {
      "text/html": [
       "<div>\n",
       "<style scoped>\n",
       "    .dataframe tbody tr th:only-of-type {\n",
       "        vertical-align: middle;\n",
       "    }\n",
       "\n",
       "    .dataframe tbody tr th {\n",
       "        vertical-align: top;\n",
       "    }\n",
       "\n",
       "    .dataframe thead th {\n",
       "        text-align: right;\n",
       "    }\n",
       "</style>\n",
       "<table border=\"1\" class=\"dataframe\">\n",
       "  <thead>\n",
       "    <tr style=\"text-align: right;\">\n",
       "      <th></th>\n",
       "      <th>출하 소요시간</th>\n",
       "      <th>공장</th>\n",
       "      <th>공장별 출하 소요시간 순위</th>\n",
       "    </tr>\n",
       "  </thead>\n",
       "  <tbody>\n",
       "    <tr>\n",
       "      <th>0</th>\n",
       "      <td>71</td>\n",
       "      <td>Z</td>\n",
       "      <td>11</td>\n",
       "    </tr>\n",
       "    <tr>\n",
       "      <th>1</th>\n",
       "      <td>75</td>\n",
       "      <td>X</td>\n",
       "      <td>14</td>\n",
       "    </tr>\n",
       "    <tr>\n",
       "      <th>2</th>\n",
       "      <td>71</td>\n",
       "      <td>X</td>\n",
       "      <td>12</td>\n",
       "    </tr>\n",
       "    <tr>\n",
       "      <th>3</th>\n",
       "      <td>53</td>\n",
       "      <td>Z</td>\n",
       "      <td>1</td>\n",
       "    </tr>\n",
       "    <tr>\n",
       "      <th>4</th>\n",
       "      <td>50</td>\n",
       "      <td>X</td>\n",
       "      <td>1</td>\n",
       "    </tr>\n",
       "    <tr>\n",
       "      <th>5</th>\n",
       "      <td>64</td>\n",
       "      <td>Z</td>\n",
       "      <td>6</td>\n",
       "    </tr>\n",
       "    <tr>\n",
       "      <th>6</th>\n",
       "      <td>58</td>\n",
       "      <td>Y</td>\n",
       "      <td>2</td>\n",
       "    </tr>\n",
       "    <tr>\n",
       "      <th>7</th>\n",
       "      <td>71</td>\n",
       "      <td>Z</td>\n",
       "      <td>12</td>\n",
       "    </tr>\n",
       "    <tr>\n",
       "      <th>8</th>\n",
       "      <td>76</td>\n",
       "      <td>Y</td>\n",
       "      <td>14</td>\n",
       "    </tr>\n",
       "    <tr>\n",
       "      <th>9</th>\n",
       "      <td>67</td>\n",
       "      <td>Y</td>\n",
       "      <td>8</td>\n",
       "    </tr>\n",
       "    <tr>\n",
       "      <th>10</th>\n",
       "      <td>70</td>\n",
       "      <td>X</td>\n",
       "      <td>11</td>\n",
       "    </tr>\n",
       "    <tr>\n",
       "      <th>11</th>\n",
       "      <td>69</td>\n",
       "      <td>Y</td>\n",
       "      <td>10</td>\n",
       "    </tr>\n",
       "    <tr>\n",
       "      <th>12</th>\n",
       "      <td>60</td>\n",
       "      <td>Z</td>\n",
       "      <td>4</td>\n",
       "    </tr>\n",
       "    <tr>\n",
       "      <th>13</th>\n",
       "      <td>64</td>\n",
       "      <td>Y</td>\n",
       "      <td>5</td>\n",
       "    </tr>\n",
       "    <tr>\n",
       "      <th>14</th>\n",
       "      <td>65</td>\n",
       "      <td>Z</td>\n",
       "      <td>7</td>\n",
       "    </tr>\n",
       "    <tr>\n",
       "      <th>15</th>\n",
       "      <td>78</td>\n",
       "      <td>Z</td>\n",
       "      <td>14</td>\n",
       "    </tr>\n",
       "    <tr>\n",
       "      <th>16</th>\n",
       "      <td>61</td>\n",
       "      <td>Z</td>\n",
       "      <td>5</td>\n",
       "    </tr>\n",
       "    <tr>\n",
       "      <th>17</th>\n",
       "      <td>68</td>\n",
       "      <td>Y</td>\n",
       "      <td>9</td>\n",
       "    </tr>\n",
       "    <tr>\n",
       "      <th>18</th>\n",
       "      <td>64</td>\n",
       "      <td>X</td>\n",
       "      <td>8</td>\n",
       "    </tr>\n",
       "    <tr>\n",
       "      <th>19</th>\n",
       "      <td>65</td>\n",
       "      <td>X</td>\n",
       "      <td>9</td>\n",
       "    </tr>\n",
       "    <tr>\n",
       "      <th>20</th>\n",
       "      <td>70</td>\n",
       "      <td>Y</td>\n",
       "      <td>12</td>\n",
       "    </tr>\n",
       "    <tr>\n",
       "      <th>21</th>\n",
       "      <td>69</td>\n",
       "      <td>Z</td>\n",
       "      <td>9</td>\n",
       "    </tr>\n",
       "    <tr>\n",
       "      <th>22</th>\n",
       "      <td>70</td>\n",
       "      <td>Y</td>\n",
       "      <td>13</td>\n",
       "    </tr>\n",
       "    <tr>\n",
       "      <th>23</th>\n",
       "      <td>70</td>\n",
       "      <td>Z</td>\n",
       "      <td>10</td>\n",
       "    </tr>\n",
       "    <tr>\n",
       "      <th>24</th>\n",
       "      <td>65</td>\n",
       "      <td>Y</td>\n",
       "      <td>6</td>\n",
       "    </tr>\n",
       "    <tr>\n",
       "      <th>25</th>\n",
       "      <td>63</td>\n",
       "      <td>X</td>\n",
       "      <td>7</td>\n",
       "    </tr>\n",
       "    <tr>\n",
       "      <th>26</th>\n",
       "      <td>56</td>\n",
       "      <td>X</td>\n",
       "      <td>4</td>\n",
       "    </tr>\n",
       "    <tr>\n",
       "      <th>27</th>\n",
       "      <td>58</td>\n",
       "      <td>X</td>\n",
       "      <td>5</td>\n",
       "    </tr>\n",
       "    <tr>\n",
       "      <th>28</th>\n",
       "      <td>74</td>\n",
       "      <td>Z</td>\n",
       "      <td>13</td>\n",
       "    </tr>\n",
       "    <tr>\n",
       "      <th>29</th>\n",
       "      <td>79</td>\n",
       "      <td>X</td>\n",
       "      <td>15</td>\n",
       "    </tr>\n",
       "    <tr>\n",
       "      <th>30</th>\n",
       "      <td>68</td>\n",
       "      <td>Z</td>\n",
       "      <td>8</td>\n",
       "    </tr>\n",
       "    <tr>\n",
       "      <th>31</th>\n",
       "      <td>57</td>\n",
       "      <td>Z</td>\n",
       "      <td>3</td>\n",
       "    </tr>\n",
       "    <tr>\n",
       "      <th>32</th>\n",
       "      <td>69</td>\n",
       "      <td>Y</td>\n",
       "      <td>11</td>\n",
       "    </tr>\n",
       "    <tr>\n",
       "      <th>33</th>\n",
       "      <td>66</td>\n",
       "      <td>Y</td>\n",
       "      <td>7</td>\n",
       "    </tr>\n",
       "    <tr>\n",
       "      <th>34</th>\n",
       "      <td>59</td>\n",
       "      <td>X</td>\n",
       "      <td>6</td>\n",
       "    </tr>\n",
       "    <tr>\n",
       "      <th>35</th>\n",
       "      <td>59</td>\n",
       "      <td>Y</td>\n",
       "      <td>3</td>\n",
       "    </tr>\n",
       "    <tr>\n",
       "      <th>36</th>\n",
       "      <td>54</td>\n",
       "      <td>Y</td>\n",
       "      <td>1</td>\n",
       "    </tr>\n",
       "    <tr>\n",
       "      <th>37</th>\n",
       "      <td>52</td>\n",
       "      <td>X</td>\n",
       "      <td>2</td>\n",
       "    </tr>\n",
       "    <tr>\n",
       "      <th>38</th>\n",
       "      <td>56</td>\n",
       "      <td>Z</td>\n",
       "      <td>2</td>\n",
       "    </tr>\n",
       "    <tr>\n",
       "      <th>39</th>\n",
       "      <td>76</td>\n",
       "      <td>Y</td>\n",
       "      <td>15</td>\n",
       "    </tr>\n",
       "    <tr>\n",
       "      <th>40</th>\n",
       "      <td>67</td>\n",
       "      <td>X</td>\n",
       "      <td>10</td>\n",
       "    </tr>\n",
       "    <tr>\n",
       "      <th>41</th>\n",
       "      <td>64</td>\n",
       "      <td>Y</td>\n",
       "      <td>4</td>\n",
       "    </tr>\n",
       "    <tr>\n",
       "      <th>42</th>\n",
       "      <td>55</td>\n",
       "      <td>X</td>\n",
       "      <td>3</td>\n",
       "    </tr>\n",
       "    <tr>\n",
       "      <th>43</th>\n",
       "      <td>72</td>\n",
       "      <td>X</td>\n",
       "      <td>13</td>\n",
       "    </tr>\n",
       "  </tbody>\n",
       "</table>\n",
       "</div>"
      ],
      "text/plain": [
       "    출하 소요시간  공장   공장별 출하 소요시간 순위\n",
       "0        71   Z               11\n",
       "1        75   X               14\n",
       "2        71   X               12\n",
       "3        53   Z                1\n",
       "4        50   X                1\n",
       "5        64   Z                6\n",
       "6        58   Y                2\n",
       "7        71   Z               12\n",
       "8        76   Y               14\n",
       "9        67   Y                8\n",
       "10       70   X               11\n",
       "11       69   Y               10\n",
       "12       60   Z                4\n",
       "13       64   Y                5\n",
       "14       65   Z                7\n",
       "15       78   Z               14\n",
       "16       61   Z                5\n",
       "17       68   Y                9\n",
       "18       64   X                8\n",
       "19       65   X                9\n",
       "20       70   Y               12\n",
       "21       69   Z                9\n",
       "22       70   Y               13\n",
       "23       70   Z               10\n",
       "24       65   Y                6\n",
       "25       63   X                7\n",
       "26       56   X                4\n",
       "27       58   X                5\n",
       "28       74   Z               13\n",
       "29       79   X               15\n",
       "30       68   Z                8\n",
       "31       57   Z                3\n",
       "32       69   Y               11\n",
       "33       66   Y                7\n",
       "34       59   X                6\n",
       "35       59   Y                3\n",
       "36       54   Y                1\n",
       "37       52   X                2\n",
       "38       56   Z                2\n",
       "39       76   Y               15\n",
       "40       67   X               10\n",
       "41       64   Y                4\n",
       "42       55   X                3\n",
       "43       72   X               13"
      ]
     },
     "execution_count": 105,
     "metadata": {},
     "output_type": "execute_result"
    }
   ],
   "source": [
    "import ssl\n",
    "import pandas as pd\n",
    "import urllib\n",
    "context = ssl._create_unverified_context()\n",
    "\n",
    "url3 = 'https://raw.githubusercontent.com/Ssunbell/ADP_study/main/8주차_0709/data/problem5.csv'\n",
    "encoded_url3 = urllib.parse.quote(url3, safe=':/')\n",
    "\n",
    "response3 = urllib.request.urlopen(encoded_url3, context=context)\n",
    "df3 = pd.read_csv(response3, encoding='utf-8')\n",
    "df3"
   ]
  },
  {
   "cell_type": "code",
   "execution_count": 109,
   "metadata": {},
   "outputs": [
    {
     "data": {
      "text/plain": [
       "X    15\n",
       "Y    15\n",
       "Z    14\n",
       "Name:  공장, dtype: int64"
      ]
     },
     "execution_count": 109,
     "metadata": {},
     "output_type": "execute_result"
    }
   ],
   "source": [
    "df3[\" 공장\"].value_counts()"
   ]
  },
  {
   "cell_type": "code",
   "execution_count": 111,
   "metadata": {},
   "outputs": [
    {
     "data": {
      "text/html": [
       "<div>\n",
       "<style scoped>\n",
       "    .dataframe tbody tr th:only-of-type {\n",
       "        vertical-align: middle;\n",
       "    }\n",
       "\n",
       "    .dataframe tbody tr th {\n",
       "        vertical-align: top;\n",
       "    }\n",
       "\n",
       "    .dataframe thead th {\n",
       "        text-align: right;\n",
       "    }\n",
       "</style>\n",
       "<table border=\"1\" class=\"dataframe\">\n",
       "  <thead>\n",
       "    <tr style=\"text-align: right;\">\n",
       "      <th></th>\n",
       "      <th>출하 소요시간</th>\n",
       "      <th>공장별 출하 소요시간 순위</th>\n",
       "    </tr>\n",
       "    <tr>\n",
       "      <th>공장</th>\n",
       "      <th></th>\n",
       "      <th></th>\n",
       "    </tr>\n",
       "  </thead>\n",
       "  <tbody>\n",
       "    <tr>\n",
       "      <th>X</th>\n",
       "      <td>64.0</td>\n",
       "      <td>8.0</td>\n",
       "    </tr>\n",
       "    <tr>\n",
       "      <th>Y</th>\n",
       "      <td>67.0</td>\n",
       "      <td>8.0</td>\n",
       "    </tr>\n",
       "    <tr>\n",
       "      <th>Z</th>\n",
       "      <td>66.5</td>\n",
       "      <td>7.5</td>\n",
       "    </tr>\n",
       "  </tbody>\n",
       "</table>\n",
       "</div>"
      ],
      "text/plain": [
       "     출하 소요시간   공장별 출하 소요시간 순위\n",
       " 공장                          \n",
       "X       64.0              8.0\n",
       "Y       67.0              8.0\n",
       "Z       66.5              7.5"
      ]
     },
     "execution_count": 111,
     "metadata": {},
     "output_type": "execute_result"
    }
   ],
   "source": [
    "df3.groupby(' 공장').median()"
   ]
  },
  {
   "attachments": {},
   "cell_type": "markdown",
   "metadata": {},
   "source": [
    "#### 5-1. 연구가설과 귀무가설을 설정하시오\n",
    "- H0: X, Y, Z 공장의 출하 소요시간의 중위수는 차이가 없다 (동일하다)\n",
    "- H1: X, Y, Z 공장의 출하 소요시간의 중위수는 차이가 있다 (적어도 하나의 모집단의 중앙값은 다른 하나의 모집단의 중앙값과는 다르다)\n",
    "- [reference](https://m.blog.naver.com/PostView.naver?isHttpsRedirect=true&blogId=muzzincys&logNo=220083605883)\n",
    "- Kruskal-Wallis H: non-parametric ANOVA"
   ]
  },
  {
   "attachments": {},
   "cell_type": "markdown",
   "metadata": {},
   "source": [
    "#### 5-2. 검정통계량을 구하고 가설을 채택하시오"
   ]
  },
  {
   "cell_type": "code",
   "execution_count": 127,
   "metadata": {},
   "outputs": [],
   "source": [
    "X = list(df3.loc[df3[\" 공장\"] == \"X\", \"출하 소요시간\"])\n",
    "Y = list(df3.loc[df3[\" 공장\"] == \"Y\", \"출하 소요시간\"])\n",
    "Z = list(df3.loc[df3[\" 공장\"] == \"Z\", \"출하 소요시간\"])"
   ]
  },
  {
   "cell_type": "code",
   "execution_count": 129,
   "metadata": {
    "scrolled": true
   },
   "outputs": [
    {
     "data": {
      "text/plain": [
       "KruskalResult(statistic=0.7217886080379153, pvalue=0.6970526702392181)"
      ]
     },
     "execution_count": 129,
     "metadata": {},
     "output_type": "execute_result"
    }
   ],
   "source": [
    "#help(stats.kruskal)\n",
    "stats.kruskal(X, Y, Z) # pvalue > 0.05 이므로 귀무가설 채택: 차이가 없다"
   ]
  },
  {
   "attachments": {},
   "cell_type": "markdown",
   "metadata": {},
   "source": [
    "### 6번 다음은 A사의 투자 방안에 대한 표이다. 3년동안의 1~5안의 투자금액을 참고하여 1개년 50억원, 2개년 60억원, 3개년 70억원의 예산을 가지고 NPV(순현재가치)가 가장 높아지는 안을 제시하시오.\n",
    "\n",
    "<img width=\"300\" src=\"https://github.com/Ssunbell/Algorithm_Study/assets/97590480/33f192c2-1103-4f88-ae36-f1ed0fbb9e18\">"
   ]
  },
  {
   "cell_type": "code",
   "execution_count": 148,
   "metadata": {
    "collapsed": true,
    "jupyter": {
     "outputs_hidden": true
    },
    "scrolled": true
   },
   "outputs": [
    {
     "name": "stdout",
     "output_type": "stream",
     "text": [
      "Help on function npv in module numpy_financial._financial:\n",
      "\n",
      "npv(rate, values)\n",
      "    Returns the NPV (Net Present Value) of a cash flow series.\n",
      "    \n",
      "    Parameters\n",
      "    ----------\n",
      "    rate : scalar\n",
      "        The discount rate.\n",
      "    values : array_like, shape(M, )\n",
      "        The values of the time series of cash flows.  The (fixed) time\n",
      "        interval between cash flow \"events\" must be the same as that for\n",
      "        which `rate` is given (i.e., if `rate` is per year, then precisely\n",
      "        a year is understood to elapse between each cash flow event).  By\n",
      "        convention, investments or \"deposits\" are negative, income or\n",
      "        \"withdrawals\" are positive; `values` must begin with the initial\n",
      "        investment, thus `values[0]` will typically be negative.\n",
      "    \n",
      "    Returns\n",
      "    -------\n",
      "    out : float\n",
      "        The NPV of the input cash flow series `values` at the discount\n",
      "        `rate`.\n",
      "    \n",
      "    Warnings\n",
      "    --------\n",
      "    ``npv`` considers a series of cashflows starting in the present (t = 0).\n",
      "    NPV can also be defined with a series of future cashflows, paid at the\n",
      "    end, rather than the start, of each period. If future cashflows are used,\n",
      "    the first cashflow `values[0]` must be zeroed and added to the net\n",
      "    present value of the future cashflows. This is demonstrated in the\n",
      "    examples.\n",
      "    \n",
      "    Notes\n",
      "    -----\n",
      "    Returns the result of: [G]_\n",
      "    \n",
      "    .. math :: \\sum_{t=0}^{M-1}{\\frac{values_t}{(1+rate)^{t}}}\n",
      "    \n",
      "    References\n",
      "    ----------\n",
      "    .. [G] L. J. Gitman, \"Principles of Managerial Finance, Brief,\" 3rd ed.,\n",
      "       Addison-Wesley, 2003, pg. 346.\n",
      "    \n",
      "    Examples\n",
      "    --------\n",
      "    >>> import numpy as np\n",
      "    >>> import numpy_financial as npf\n",
      "    \n",
      "    Consider a potential project with an initial investment of $40 000 and\n",
      "    projected cashflows of $5 000, $8 000, $12 000 and $30 000 at the end of\n",
      "    each period discounted at a rate of 8% per period. To find the project's\n",
      "    net present value:\n",
      "    \n",
      "    >>> rate, cashflows = 0.08, [-40_000, 5_000, 8_000, 12_000, 30_000]\n",
      "    >>> npf.npv(rate, cashflows).round(5)\n",
      "    3065.22267\n",
      "    \n",
      "    It may be preferable to split the projected cashflow into an initial\n",
      "    investment and expected future cashflows. In this case, the value of\n",
      "    the initial cashflow is zero and the initial investment is later added\n",
      "    to the future cashflows net present value:\n",
      "    \n",
      "    >>> initial_cashflow = cashflows[0]\n",
      "    >>> cashflows[0] = 0\n",
      "    >>> np.round(npf.npv(rate, cashflows) + initial_cashflow, 5)\n",
      "    3065.22267\n",
      "\n"
     ]
    }
   ],
   "source": [
    "import numpy_financial\n",
    "from numpy_financial import *\n",
    "dir(numpy_financial)\n",
    "help(numpy_financial.npv)"
   ]
  },
  {
   "cell_type": "code",
   "execution_count": 150,
   "metadata": {},
   "outputs": [],
   "source": [
    "df = [\n",
    "    [10, 20, 15],\n",
    "    [15, 14, 19],\n",
    "    [12, 11, 30],\n",
    "    [13, 25, 20],\n",
    "    [16, 30, 24]\n",
    "]"
   ]
  },
  {
   "cell_type": "code",
   "execution_count": 159,
   "metadata": {},
   "outputs": [
    {
     "data": {
      "text/plain": [
       "-40.56603773584906"
      ]
     },
     "execution_count": 159,
     "metadata": {},
     "output_type": "execute_result"
    }
   ],
   "source": [
    "rate = .06\n",
    "cashflow = [-50, 10]\n",
    "numpy_financial.npv(rate, cashflow)"
   ]
  },
  {
   "cell_type": "code",
   "execution_count": 160,
   "metadata": {},
   "outputs": [
    {
     "name": "stdout",
     "output_type": "stream",
     "text": [
      "-40.56603773584906\n",
      "-35.84905660377358\n",
      "-38.67924528301887\n",
      "-37.735849056603776\n",
      "-34.905660377358494\n"
     ]
    }
   ],
   "source": [
    "for i in range(len(df)):\n",
    "    cashflow = [-50, df[i][0]]\n",
    "    print(numpy_financial.npv(rate, cashflow))"
   ]
  },
  {
   "cell_type": "code",
   "execution_count": 161,
   "metadata": {},
   "outputs": [
    {
     "name": "stdout",
     "output_type": "stream",
     "text": [
      "-32.76610893556426\n",
      "-33.38910644357423\n",
      "-38.889284442862234\n",
      "-25.48593805624778\n",
      "-18.2057671769313\n"
     ]
    }
   ],
   "source": [
    "for i in range(len(df)):\n",
    "    cashflow = [-60, df[i][0], df[i][1]]\n",
    "    print(numpy_financial.npv(rate, cashflow))"
   ]
  },
  {
   "cell_type": "code",
   "execution_count": 162,
   "metadata": {},
   "outputs": [
    {
     "name": "stdout",
     "output_type": "stream",
     "text": [
      "-30.171819690079737\n",
      "-27.436340065960493\n",
      "-23.70070595189318\n",
      "-18.69355239560174\n",
      "-8.054904384156057\n"
     ]
    }
   ],
   "source": [
    "for i in range(len(df)):\n",
    "    cashflow = [-70, df[i][0], df[i][1], df[i][2]]\n",
    "    print(numpy_financial.npv(rate, cashflow))"
   ]
  }
 ],
 "metadata": {
  "kernelspec": {
   "display_name": "Python 3 (ipykernel)",
   "language": "python",
   "name": "python3"
  },
  "language_info": {
   "codemirror_mode": {
    "name": "ipython",
    "version": 3
   },
   "file_extension": ".py",
   "mimetype": "text/x-python",
   "name": "python",
   "nbconvert_exporter": "python",
   "pygments_lexer": "ipython3",
   "version": "3.9.16"
  }
 },
 "nbformat": 4,
 "nbformat_minor": 4
}
