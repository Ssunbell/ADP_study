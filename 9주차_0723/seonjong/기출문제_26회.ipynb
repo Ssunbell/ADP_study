{
 "cells": [
  {
   "cell_type": "markdown",
   "metadata": {},
   "source": [
    "# 머신러닝\n",
    "### 1번 \n",
    "\n",
    "### 데이터 설명\n",
    "- InvoiceNo: Invoice number. Nominal, a 6-digit integral number uniquely assigned to each transaction. If this code starts with letter 'c', it indicates a cancellation.     \n",
    "- StockCode: Product (item) code. Nominal, a 5-digit integral number uniquely assigned to each distinct product.     \n",
    "- Description: Product (item) name. Nominal.    \n",
    "- Quantity: The quantities of each product (item) per transaction. Numeric.     \n",
    "- InvoiceDate: Invice Date and time. Numeric, the day and time when each transaction was generated.   \n",
    "- UnitPrice: Unit price. Numeric, Product price per unit in sterling.    \n",
    "- CustomerID: Customer number. Nominal, a 5-digit integral number uniquely assigned to each customer.     \n",
    "- Country: Country name. Nominal, the name of the country where each customer resides.     \n",
    "\n",
    "\n",
    "### 데이터 출처\n",
    "- https://archive.ics.uci.edu/ml/index.php"
   ]
  },
  {
   "cell_type": "code",
   "execution_count": 3,
   "metadata": {},
   "outputs": [
    {
     "data": {
      "text/html": [
       "<div>\n",
       "<style scoped>\n",
       "    .dataframe tbody tr th:only-of-type {\n",
       "        vertical-align: middle;\n",
       "    }\n",
       "\n",
       "    .dataframe tbody tr th {\n",
       "        vertical-align: top;\n",
       "    }\n",
       "\n",
       "    .dataframe thead th {\n",
       "        text-align: right;\n",
       "    }\n",
       "</style>\n",
       "<table border=\"1\" class=\"dataframe\">\n",
       "  <thead>\n",
       "    <tr style=\"text-align: right;\">\n",
       "      <th></th>\n",
       "      <th>InvoiceNo</th>\n",
       "      <th>StockCode</th>\n",
       "      <th>Description</th>\n",
       "      <th>Quantity</th>\n",
       "      <th>InvoiceDate</th>\n",
       "      <th>UnitPrice</th>\n",
       "      <th>CustomerID</th>\n",
       "      <th>Country</th>\n",
       "    </tr>\n",
       "  </thead>\n",
       "  <tbody>\n",
       "    <tr>\n",
       "      <th>0</th>\n",
       "      <td>563808</td>\n",
       "      <td>22432</td>\n",
       "      <td>WATERING CAN PINK BUNNY</td>\n",
       "      <td>6.0</td>\n",
       "      <td>8/19/2011 11:46</td>\n",
       "      <td>1.95</td>\n",
       "      <td>12626.0</td>\n",
       "      <td>Germany</td>\n",
       "    </tr>\n",
       "    <tr>\n",
       "      <th>1</th>\n",
       "      <td>561645</td>\n",
       "      <td>23166</td>\n",
       "      <td>MEDIUM CERAMIC TOP STORAGE JAR</td>\n",
       "      <td>12.0</td>\n",
       "      <td>7/28/2011 15:16</td>\n",
       "      <td>1.25</td>\n",
       "      <td>14911.0</td>\n",
       "      <td>EIRE</td>\n",
       "    </tr>\n",
       "    <tr>\n",
       "      <th>2</th>\n",
       "      <td>568651</td>\n",
       "      <td>20985</td>\n",
       "      <td>HEART CALCULATOR</td>\n",
       "      <td>12.0</td>\n",
       "      <td>9/28/2011 12:04</td>\n",
       "      <td>1.25</td>\n",
       "      <td>12362.0</td>\n",
       "      <td>Belgium</td>\n",
       "    </tr>\n",
       "    <tr>\n",
       "      <th>3</th>\n",
       "      <td>541711</td>\n",
       "      <td>22772</td>\n",
       "      <td>PINK DRAWER KNOB ACRYLIC EDWARDIAN</td>\n",
       "      <td>24.0</td>\n",
       "      <td>1/21/2011 11:18</td>\n",
       "      <td>1.25</td>\n",
       "      <td>14646.0</td>\n",
       "      <td>Netherlands</td>\n",
       "    </tr>\n",
       "    <tr>\n",
       "      <th>4</th>\n",
       "      <td>554134</td>\n",
       "      <td>21154</td>\n",
       "      <td>RED RETROSPOT OVEN GLOVE</td>\n",
       "      <td>10.0</td>\n",
       "      <td>5/23/2011 9:48</td>\n",
       "      <td>1.25</td>\n",
       "      <td>12583.0</td>\n",
       "      <td>France</td>\n",
       "    </tr>\n",
       "    <tr>\n",
       "      <th>...</th>\n",
       "      <td>...</td>\n",
       "      <td>...</td>\n",
       "      <td>...</td>\n",
       "      <td>...</td>\n",
       "      <td>...</td>\n",
       "      <td>...</td>\n",
       "      <td>...</td>\n",
       "      <td>...</td>\n",
       "    </tr>\n",
       "    <tr>\n",
       "      <th>35796</th>\n",
       "      <td>554137</td>\n",
       "      <td>21668</td>\n",
       "      <td>RED STRIPE CERAMIC DRAWER KNOB</td>\n",
       "      <td>12.0</td>\n",
       "      <td>5/23/2011 10:13</td>\n",
       "      <td>1.25</td>\n",
       "      <td>12708.0</td>\n",
       "      <td>Germany</td>\n",
       "    </tr>\n",
       "    <tr>\n",
       "      <th>35797</th>\n",
       "      <td>572986</td>\n",
       "      <td>22895</td>\n",
       "      <td>SET OF 2 TEA TOWELS APPLE AND PEARS</td>\n",
       "      <td>6.0</td>\n",
       "      <td>10/27/2011 10:51</td>\n",
       "      <td>3.25</td>\n",
       "      <td>12681.0</td>\n",
       "      <td>France</td>\n",
       "    </tr>\n",
       "    <tr>\n",
       "      <th>35798</th>\n",
       "      <td>579927</td>\n",
       "      <td>22734</td>\n",
       "      <td>SET OF 6 RIBBONS VINTAGE CHRISTMAS</td>\n",
       "      <td>6.0</td>\n",
       "      <td>12/1/2011 9:20</td>\n",
       "      <td>2.89</td>\n",
       "      <td>12572.0</td>\n",
       "      <td>Germany</td>\n",
       "    </tr>\n",
       "    <tr>\n",
       "      <th>35799</th>\n",
       "      <td>551163</td>\n",
       "      <td>22431</td>\n",
       "      <td>WATERING CAN BLUE ELEPHANT</td>\n",
       "      <td>1.0</td>\n",
       "      <td>4/26/2011 15:52</td>\n",
       "      <td>1.95</td>\n",
       "      <td>12573.0</td>\n",
       "      <td>France</td>\n",
       "    </tr>\n",
       "    <tr>\n",
       "      <th>35800</th>\n",
       "      <td>559418</td>\n",
       "      <td>22894</td>\n",
       "      <td>TABLECLOTH RED APPLES DESIGN</td>\n",
       "      <td>2.0</td>\n",
       "      <td>7/8/2011 11:36</td>\n",
       "      <td>9.95</td>\n",
       "      <td>12681.0</td>\n",
       "      <td>France</td>\n",
       "    </tr>\n",
       "  </tbody>\n",
       "</table>\n",
       "<p>35801 rows × 8 columns</p>\n",
       "</div>"
      ],
      "text/plain": [
       "      InvoiceNo StockCode                          Description  Quantity  \\\n",
       "0        563808     22432              WATERING CAN PINK BUNNY       6.0   \n",
       "1        561645     23166       MEDIUM CERAMIC TOP STORAGE JAR      12.0   \n",
       "2        568651     20985                     HEART CALCULATOR      12.0   \n",
       "3        541711     22772   PINK DRAWER KNOB ACRYLIC EDWARDIAN      24.0   \n",
       "4        554134     21154            RED RETROSPOT OVEN GLOVE       10.0   \n",
       "...         ...       ...                                  ...       ...   \n",
       "35796    554137     21668       RED STRIPE CERAMIC DRAWER KNOB      12.0   \n",
       "35797    572986     22895  SET OF 2 TEA TOWELS APPLE AND PEARS       6.0   \n",
       "35798    579927     22734   SET OF 6 RIBBONS VINTAGE CHRISTMAS       6.0   \n",
       "35799    551163     22431           WATERING CAN BLUE ELEPHANT       1.0   \n",
       "35800    559418     22894        TABLECLOTH RED APPLES DESIGN        2.0   \n",
       "\n",
       "            InvoiceDate  UnitPrice  CustomerID      Country  \n",
       "0       8/19/2011 11:46       1.95     12626.0      Germany  \n",
       "1       7/28/2011 15:16       1.25     14911.0         EIRE  \n",
       "2       9/28/2011 12:04       1.25     12362.0      Belgium  \n",
       "3       1/21/2011 11:18       1.25     14646.0  Netherlands  \n",
       "4        5/23/2011 9:48       1.25     12583.0       France  \n",
       "...                 ...        ...         ...          ...  \n",
       "35796   5/23/2011 10:13       1.25     12708.0      Germany  \n",
       "35797  10/27/2011 10:51       3.25     12681.0       France  \n",
       "35798    12/1/2011 9:20       2.89     12572.0      Germany  \n",
       "35799   4/26/2011 15:52       1.95     12573.0       France  \n",
       "35800    7/8/2011 11:36       9.95     12681.0       France  \n",
       "\n",
       "[35801 rows x 8 columns]"
      ]
     },
     "execution_count": 3,
     "metadata": {},
     "output_type": "execute_result"
    }
   ],
   "source": [
    "import ssl\n",
    "import pandas as pd\n",
    "import urllib\n",
    "context = ssl._create_unverified_context()\n",
    "\n",
    "url1 = 'https://raw.githubusercontent.com/Ssunbell/ADP_study/main/9주차_0716/data/problem1.csv'\n",
    "encoded_url1 = urllib.parse.quote(url1, safe=':/')\n",
    "\n",
    "response = urllib.request.urlopen(encoded_url1, context=context)\n",
    "df1 = pd.read_csv(response, encoding='utf-8')\n",
    "df1"
   ]
  },
  {
   "cell_type": "markdown",
   "metadata": {},
   "source": [
    "#### 1-1. 결측치를 확인하고, 결측치 제거할 것"
   ]
  },
  {
   "cell_type": "code",
   "execution_count": 4,
   "metadata": {},
   "outputs": [
    {
     "name": "stdout",
     "output_type": "stream",
     "text": [
      "<class 'pandas.core.frame.DataFrame'>\n",
      "RangeIndex: 35801 entries, 0 to 35800\n",
      "Data columns (total 8 columns):\n",
      " #   Column       Non-Null Count  Dtype         \n",
      "---  ------       --------------  -----         \n",
      " 0   InvoiceNo    35801 non-null  object        \n",
      " 1   StockCode    35801 non-null  object        \n",
      " 2   Description  35801 non-null  object        \n",
      " 3   Quantity     35776 non-null  float64       \n",
      " 4   InvoiceDate  35801 non-null  datetime64[ns]\n",
      " 5   UnitPrice    35704 non-null  float64       \n",
      " 6   CustomerID   35801 non-null  float64       \n",
      " 7   Country      35801 non-null  object        \n",
      "dtypes: datetime64[ns](1), float64(3), object(4)\n",
      "memory usage: 2.2+ MB\n"
     ]
    }
   ],
   "source": [
    "df1['InvoiceDate'] = pd.to_datetime(df1['InvoiceDate'])\n",
    "df1.info()"
   ]
  },
  {
   "cell_type": "markdown",
   "metadata": {},
   "source": [
    "결측치 확인 결과 Quantity와 UnitPrice에서 결측치 발생. 해당 정보는 매출과 관련된 중요한 변수이므로 잘못된 정보를 넣을 경우 오히려 노이즈 발생 가능성이 높아지므로 결측치를 제거하고 진행"
   ]
  },
  {
   "cell_type": "code",
   "execution_count": 5,
   "metadata": {},
   "outputs": [
    {
     "data": {
      "text/html": [
       "<div>\n",
       "<style scoped>\n",
       "    .dataframe tbody tr th:only-of-type {\n",
       "        vertical-align: middle;\n",
       "    }\n",
       "\n",
       "    .dataframe tbody tr th {\n",
       "        vertical-align: top;\n",
       "    }\n",
       "\n",
       "    .dataframe thead th {\n",
       "        text-align: right;\n",
       "    }\n",
       "</style>\n",
       "<table border=\"1\" class=\"dataframe\">\n",
       "  <thead>\n",
       "    <tr style=\"text-align: right;\">\n",
       "      <th></th>\n",
       "      <th>InvoiceNo</th>\n",
       "      <th>StockCode</th>\n",
       "      <th>Description</th>\n",
       "      <th>Quantity</th>\n",
       "      <th>InvoiceDate</th>\n",
       "      <th>UnitPrice</th>\n",
       "      <th>CustomerID</th>\n",
       "      <th>Country</th>\n",
       "    </tr>\n",
       "  </thead>\n",
       "  <tbody>\n",
       "    <tr>\n",
       "      <th>23</th>\n",
       "      <td>C571473</td>\n",
       "      <td>21232</td>\n",
       "      <td>STRAWBERRY CERAMIC TRINKET BOX</td>\n",
       "      <td>-3.0</td>\n",
       "      <td>2011-10-17 14:38:00</td>\n",
       "      <td>NaN</td>\n",
       "      <td>12679.0</td>\n",
       "      <td>France</td>\n",
       "    </tr>\n",
       "    <tr>\n",
       "      <th>334</th>\n",
       "      <td>556509</td>\n",
       "      <td>22989</td>\n",
       "      <td>SET 2 PANTRY DESIGN TEA TOWELS</td>\n",
       "      <td>NaN</td>\n",
       "      <td>2011-06-13 10:33:00</td>\n",
       "      <td>3.25</td>\n",
       "      <td>12708.0</td>\n",
       "      <td>Germany</td>\n",
       "    </tr>\n",
       "    <tr>\n",
       "      <th>1099</th>\n",
       "      <td>550821</td>\n",
       "      <td>84987</td>\n",
       "      <td>SET OF 36 TEATIME PAPER DOILIES</td>\n",
       "      <td>1.0</td>\n",
       "      <td>2011-04-21 08:54:00</td>\n",
       "      <td>NaN</td>\n",
       "      <td>12506.0</td>\n",
       "      <td>France</td>\n",
       "    </tr>\n",
       "    <tr>\n",
       "      <th>1213</th>\n",
       "      <td>558113</td>\n",
       "      <td>21914</td>\n",
       "      <td>BLUE HARMONICA IN BOX</td>\n",
       "      <td>12.0</td>\n",
       "      <td>2011-06-27 08:48:00</td>\n",
       "      <td>NaN</td>\n",
       "      <td>14911.0</td>\n",
       "      <td>EIRE</td>\n",
       "    </tr>\n",
       "    <tr>\n",
       "      <th>1270</th>\n",
       "      <td>570657</td>\n",
       "      <td>22966</td>\n",
       "      <td>GINGERBREAD MAN COOKIE CUTTER</td>\n",
       "      <td>12.0</td>\n",
       "      <td>2011-10-11 14:10:00</td>\n",
       "      <td>NaN</td>\n",
       "      <td>14911.0</td>\n",
       "      <td>EIRE</td>\n",
       "    </tr>\n",
       "    <tr>\n",
       "      <th>...</th>\n",
       "      <td>...</td>\n",
       "      <td>...</td>\n",
       "      <td>...</td>\n",
       "      <td>...</td>\n",
       "      <td>...</td>\n",
       "      <td>...</td>\n",
       "      <td>...</td>\n",
       "      <td>...</td>\n",
       "    </tr>\n",
       "    <tr>\n",
       "      <th>34370</th>\n",
       "      <td>580736</td>\n",
       "      <td>22636</td>\n",
       "      <td>CHILDS BREAKFAST SET CIRCUS PARADE</td>\n",
       "      <td>2.0</td>\n",
       "      <td>2011-12-06 08:55:00</td>\n",
       "      <td>NaN</td>\n",
       "      <td>12716.0</td>\n",
       "      <td>France</td>\n",
       "    </tr>\n",
       "    <tr>\n",
       "      <th>34595</th>\n",
       "      <td>549953</td>\n",
       "      <td>21556</td>\n",
       "      <td>CERAMIC STRAWBERRY MONEY BOX</td>\n",
       "      <td>6.0</td>\n",
       "      <td>2011-04-13 13:15:00</td>\n",
       "      <td>NaN</td>\n",
       "      <td>12766.0</td>\n",
       "      <td>Portugal</td>\n",
       "    </tr>\n",
       "    <tr>\n",
       "      <th>34734</th>\n",
       "      <td>566739</td>\n",
       "      <td>22628</td>\n",
       "      <td>PICNIC BOXES SET OF 3 RETROSPOT</td>\n",
       "      <td>NaN</td>\n",
       "      <td>2011-09-14 14:30:00</td>\n",
       "      <td>4.95</td>\n",
       "      <td>12566.0</td>\n",
       "      <td>Germany</td>\n",
       "    </tr>\n",
       "    <tr>\n",
       "      <th>34829</th>\n",
       "      <td>537463</td>\n",
       "      <td>21731</td>\n",
       "      <td>RED TOADSTOOL LED NIGHT LIGHT</td>\n",
       "      <td>72.0</td>\n",
       "      <td>2010-12-07 10:08:00</td>\n",
       "      <td>NaN</td>\n",
       "      <td>12681.0</td>\n",
       "      <td>France</td>\n",
       "    </tr>\n",
       "    <tr>\n",
       "      <th>35037</th>\n",
       "      <td>578043</td>\n",
       "      <td>23480</td>\n",
       "      <td>MINI LIGHTS WOODLAND MUSHROOMS</td>\n",
       "      <td>4.0</td>\n",
       "      <td>2011-11-22 14:39:00</td>\n",
       "      <td>NaN</td>\n",
       "      <td>12474.0</td>\n",
       "      <td>Germany</td>\n",
       "    </tr>\n",
       "  </tbody>\n",
       "</table>\n",
       "<p>122 rows × 8 columns</p>\n",
       "</div>"
      ],
      "text/plain": [
       "      InvoiceNo StockCode                         Description  Quantity  \\\n",
       "23      C571473     21232      STRAWBERRY CERAMIC TRINKET BOX      -3.0   \n",
       "334      556509     22989      SET 2 PANTRY DESIGN TEA TOWELS       NaN   \n",
       "1099     550821     84987     SET OF 36 TEATIME PAPER DOILIES       1.0   \n",
       "1213     558113     21914              BLUE HARMONICA IN BOX       12.0   \n",
       "1270     570657     22966       GINGERBREAD MAN COOKIE CUTTER      12.0   \n",
       "...         ...       ...                                 ...       ...   \n",
       "34370    580736     22636  CHILDS BREAKFAST SET CIRCUS PARADE       2.0   \n",
       "34595    549953     21556        CERAMIC STRAWBERRY MONEY BOX       6.0   \n",
       "34734    566739     22628    PICNIC BOXES SET OF 3 RETROSPOT        NaN   \n",
       "34829    537463     21731       RED TOADSTOOL LED NIGHT LIGHT      72.0   \n",
       "35037    578043     23480      MINI LIGHTS WOODLAND MUSHROOMS       4.0   \n",
       "\n",
       "              InvoiceDate  UnitPrice  CustomerID   Country  \n",
       "23    2011-10-17 14:38:00        NaN     12679.0    France  \n",
       "334   2011-06-13 10:33:00       3.25     12708.0   Germany  \n",
       "1099  2011-04-21 08:54:00        NaN     12506.0    France  \n",
       "1213  2011-06-27 08:48:00        NaN     14911.0      EIRE  \n",
       "1270  2011-10-11 14:10:00        NaN     14911.0      EIRE  \n",
       "...                   ...        ...         ...       ...  \n",
       "34370 2011-12-06 08:55:00        NaN     12716.0    France  \n",
       "34595 2011-04-13 13:15:00        NaN     12766.0  Portugal  \n",
       "34734 2011-09-14 14:30:00       4.95     12566.0   Germany  \n",
       "34829 2010-12-07 10:08:00        NaN     12681.0    France  \n",
       "35037 2011-11-22 14:39:00        NaN     12474.0   Germany  \n",
       "\n",
       "[122 rows x 8 columns]"
      ]
     },
     "execution_count": 5,
     "metadata": {},
     "output_type": "execute_result"
    }
   ],
   "source": [
    "df1[df1.isna().any(axis=1)]"
   ]
  },
  {
   "cell_type": "code",
   "execution_count": 6,
   "metadata": {},
   "outputs": [],
   "source": [
    "df1_d = df1.dropna()"
   ]
  },
  {
   "cell_type": "markdown",
   "metadata": {},
   "source": [
    "#### 1-2. 이상치 제거하는 방법을 설명하고, 이상치 제거하고 난 결과를 통계적으로 나타낼 것"
   ]
  },
  {
   "cell_type": "markdown",
   "metadata": {},
   "source": [
    "이상치를 제거하는 방식에는 다양하게 존재하지만, 통계적인 방식으로는 IQR을 기준으로 이상치를 제거한다.\n",
    "\n",
    "IQR는 데이터를 오름차순으로 4등분을 하였을 때, 각각의 등분을 Q1(25%), Q2(50%), Q3(75%), Q4(100%)라고 한다.\n",
    "\n",
    "이 중에서 Q1 - 1.5 * (Q3 - Q1)와 1Q + 1.5  * (Q3 - Q1) 범위에서 벗어나는 데이터는 이상치라고 판단하여 제거한다."
   ]
  },
  {
   "cell_type": "code",
   "execution_count": 7,
   "metadata": {},
   "outputs": [
    {
     "data": {
      "image/png": "[encoded data removed]",
      "text/plain": [
       "<Figure size 432x288 with 1 Axes>"
      ]
     },
     "metadata": {
      "needs_background": "light"
     },
     "output_type": "display_data"
    }
   ],
   "source": [
    "import matplotlib.pyplot as plt\n",
    "\n",
    "plt.boxplot(df1_d['Quantity'], whis=1.5)\n",
    "plt.show()"
   ]
  },
  {
   "cell_type": "code",
   "execution_count": 8,
   "metadata": {},
   "outputs": [
    {
     "data": {
      "image/png": "[encoded data removed]",
      "text/plain": [
       "<Figure size 432x288 with 1 Axes>"
      ]
     },
     "metadata": {
      "needs_background": "light"
     },
     "output_type": "display_data"
    }
   ],
   "source": [
    "import matplotlib.pyplot as plt\n",
    "\n",
    "plt.boxplot(df1_d['UnitPrice'], whis=1.5)\n",
    "plt.show()"
   ]
  },
  {
   "cell_type": "code",
   "execution_count": 9,
   "metadata": {},
   "outputs": [
    {
     "data": {
      "text/html": [
       "<div>\n",
       "<style scoped>\n",
       "    .dataframe tbody tr th:only-of-type {\n",
       "        vertical-align: middle;\n",
       "    }\n",
       "\n",
       "    .dataframe tbody tr th {\n",
       "        vertical-align: top;\n",
       "    }\n",
       "\n",
       "    .dataframe thead th {\n",
       "        text-align: right;\n",
       "    }\n",
       "</style>\n",
       "<table border=\"1\" class=\"dataframe\">\n",
       "  <thead>\n",
       "    <tr style=\"text-align: right;\">\n",
       "      <th></th>\n",
       "      <th>Quantity</th>\n",
       "      <th>UnitPrice</th>\n",
       "    </tr>\n",
       "  </thead>\n",
       "  <tbody>\n",
       "    <tr>\n",
       "      <th>0</th>\n",
       "      <td>6.0</td>\n",
       "      <td>1.95</td>\n",
       "    </tr>\n",
       "    <tr>\n",
       "      <th>1</th>\n",
       "      <td>12.0</td>\n",
       "      <td>1.25</td>\n",
       "    </tr>\n",
       "    <tr>\n",
       "      <th>2</th>\n",
       "      <td>12.0</td>\n",
       "      <td>1.25</td>\n",
       "    </tr>\n",
       "    <tr>\n",
       "      <th>3</th>\n",
       "      <td>24.0</td>\n",
       "      <td>1.25</td>\n",
       "    </tr>\n",
       "    <tr>\n",
       "      <th>4</th>\n",
       "      <td>10.0</td>\n",
       "      <td>1.25</td>\n",
       "    </tr>\n",
       "    <tr>\n",
       "      <th>...</th>\n",
       "      <td>...</td>\n",
       "      <td>...</td>\n",
       "    </tr>\n",
       "    <tr>\n",
       "      <th>35795</th>\n",
       "      <td>12.0</td>\n",
       "      <td>1.45</td>\n",
       "    </tr>\n",
       "    <tr>\n",
       "      <th>35796</th>\n",
       "      <td>12.0</td>\n",
       "      <td>1.25</td>\n",
       "    </tr>\n",
       "    <tr>\n",
       "      <th>35797</th>\n",
       "      <td>6.0</td>\n",
       "      <td>3.25</td>\n",
       "    </tr>\n",
       "    <tr>\n",
       "      <th>35798</th>\n",
       "      <td>6.0</td>\n",
       "      <td>2.89</td>\n",
       "    </tr>\n",
       "    <tr>\n",
       "      <th>35799</th>\n",
       "      <td>1.0</td>\n",
       "      <td>1.95</td>\n",
       "    </tr>\n",
       "  </tbody>\n",
       "</table>\n",
       "<p>27657 rows × 2 columns</p>\n",
       "</div>"
      ],
      "text/plain": [
       "       Quantity  UnitPrice\n",
       "0           6.0       1.95\n",
       "1          12.0       1.25\n",
       "2          12.0       1.25\n",
       "3          24.0       1.25\n",
       "4          10.0       1.25\n",
       "...         ...        ...\n",
       "35795      12.0       1.45\n",
       "35796      12.0       1.25\n",
       "35797       6.0       3.25\n",
       "35798       6.0       2.89\n",
       "35799       1.0       1.95\n",
       "\n",
       "[27657 rows x 2 columns]"
      ]
     },
     "execution_count": 9,
     "metadata": {},
     "output_type": "execute_result"
    }
   ],
   "source": [
    "tmp_df = df1_d[['Quantity', 'UnitPrice']]\n",
    "Q1 = tmp_df.quantile(0.25)\n",
    "Q3 = tmp_df.quantile(0.75)\n",
    "IQR = Q3 - Q1\n",
    "\n",
    "# rows_within_iqr = tmp_df[~((tmp_df < (Q1 - 1.5 * IQR)) | (tmp_df > (Q3 + 1.5 * IQR))).any(axis=1)]\n",
    "rows_within_iqr = tmp_df[((tmp_df >= (Q1 - 1.5 * IQR)) & (tmp_df <= (Q3 + 1.5 * IQR))).all(axis=1)]\n",
    "\n",
    "rows_within_iqr"
   ]
  },
  {
   "cell_type": "code",
   "execution_count": 10,
   "metadata": {},
   "outputs": [
    {
     "data": {
      "image/png": "[encoded data removed]",
      "text/plain": [
       "<Figure size 432x288 with 1 Axes>"
      ]
     },
     "metadata": {
      "needs_background": "light"
     },
     "output_type": "display_data"
    }
   ],
   "source": [
    "plt.boxplot(rows_within_iqr['Quantity'], whis=1.5)\n",
    "plt.show()"
   ]
  },
  {
   "cell_type": "code",
   "execution_count": 11,
   "metadata": {},
   "outputs": [
    {
     "data": {
      "image/png": "[encoded data removed]",
      "text/plain": [
       "<Figure size 432x288 with 1 Axes>"
      ]
     },
     "metadata": {
      "needs_background": "light"
     },
     "output_type": "display_data"
    }
   ],
   "source": [
    "plt.boxplot(rows_within_iqr['UnitPrice'], whis=1.5)\n",
    "plt.show()"
   ]
  },
  {
   "cell_type": "markdown",
   "metadata": {},
   "source": [
    "#### 1-3 전처리한 데이터로 Kmeans, DBSCAN 등 방법으로 군집을 생성하고 더 좋은 모델을 선택하라"
   ]
  },
  {
   "cell_type": "code",
   "execution_count": 12,
   "metadata": {},
   "outputs": [],
   "source": [
    "class Kmeans_Viz:\n",
    "    import numpy\n",
    "    import pandas\n",
    "    import typing\n",
    "    \n",
    "    def __init__(self, data:typing.Union[numpy.ndarray, pandas.DataFrame], is_pca:bool=True):\n",
    "        self.data = data\n",
    "        if is_pca:\n",
    "            import numpy as np\n",
    "            import pandas as pd\n",
    "            if type(data) == np.ndarray:\n",
    "                demension = data.shape[1]\n",
    "            elif type(data) == pd.DataFrame:\n",
    "                demension = len(data.columns)\n",
    "            \n",
    "            if demension > 2:\n",
    "                print(\n",
    "                    \"\"\"데이터 컬럼 갯수가 3개 이상입니다. pca를 진행하여 컬럼 갯수를 2개로 맞춰줍니다.\n",
    "                    만약 3차원 이상의 클러스터링을 진행한다면 is_pca=False로 설정해주세요. 시각화가 제대로 진행되지 않을 수 있습니다.\"\"\"\n",
    "                )\n",
    "                self.data = self.pca(data)\n",
    "    \n",
    "    def pca(self, data:pandas.DataFrame) -> pandas.DataFrame:\n",
    "        from sklearn.decomposition import PCA\n",
    "        r\"\"\"클러스터링의 경우 보통 2차원 feature를 가지고 클러스터링을 진행합니다.\"\"\"\n",
    "        pca = PCA(n_components=2, random_state=42)  # 주성분 개수를 지정합니다. (여기서는 2차원으로 축소)\n",
    "        data_pca = pca.fit_transform(data)\n",
    "        \n",
    "        return data_pca\n",
    "    \n",
    "    def visualize_elbow_method(\n",
    "        self,\n",
    "        min_clusters:int = 2,\n",
    "        max_clusters:int = 10,\n",
    "    ):\n",
    "        import matplotlib.pyplot as plt\n",
    "        from sklearn.cluster import KMeans\n",
    "\n",
    "        r\"\"\"\n",
    "        실루엣 계수와 더불어 군집 갯수를 정하는 방법입니다. 응집도를 이용하여 측정합니다.\n",
    "        시각화를 한 후, 그래프가 급격히 꺾이는 지점을 군집 갯수로 사용하면 됩니다.\n",
    "        \"\"\"\n",
    "        inertia_list = []\n",
    "        for n_clusters in range(min_clusters, max_clusters + 1):\n",
    "            kmeans = KMeans(n_clusters=n_clusters, random_state=42, init='k-means++')\n",
    "            kmeans.fit(self.data)\n",
    "            interia = kmeans.inertia_\n",
    "            inertia_list.append(interia)\n",
    "        \n",
    "        plt.plot(range(min_clusters, max_clusters+1), inertia_list)\n",
    "        plt.xlabel('Number of clusters')\n",
    "        plt.ylabel('Inertia')\n",
    "        plt.title('Elbow Method')\n",
    "\n",
    "        plt.show()\n",
    "    \n",
    "    def visualize_silhouette_score(\n",
    "        self,\n",
    "        min_clusters:int = 2, # 최소 군집 갯수를 설정해주세요\n",
    "        max_clusters:int = 10, # 최대 군집 갯수를 설정해주세요\n",
    "    ) -> int:\n",
    "        import numpy as np\n",
    "        import matplotlib.pyplot as plt\n",
    "        from sklearn.cluster import KMeans\n",
    "        from sklearn.metrics import silhouette_score\n",
    "\n",
    "        r\"\"\"\n",
    "        실루엣 점수를 계산합니다. 실루엣 점수는 통상 0.5 이상이면 좋은 점수입니다.\n",
    "        실루엣 스코어를 시각화한 다음 최적의 군집 갯수를 프린트합니다.\n",
    "        \"\"\"\n",
    "        \n",
    "        silhouette_scores = []\n",
    "\n",
    "        # 각 클러스터 개수에 대해 K-means 알고리즘을 실행하고 실루엣 점수를 계산합니다.\n",
    "        for n_clusters in range(min_clusters, max_clusters + 1):\n",
    "            kmeans = KMeans(n_clusters=n_clusters, random_state=42, init='k-means++')\n",
    "            cluster_labels = kmeans.fit_predict(self.data)\n",
    "            silhouette_avg = silhouette_score(self.data, cluster_labels)\n",
    "            silhouette_scores.append(silhouette_avg)\n",
    "\n",
    "        # 실루엣 점수를 시각화합니다.\n",
    "        plt.plot(range(min_clusters, max_clusters + 1), silhouette_scores, marker='o')\n",
    "        plt.xlabel('Number of clusters')\n",
    "        plt.ylabel('Silhouette score')\n",
    "        plt.title('Silhouette Score for K-means Clustering')\n",
    "        plt.show()\n",
    "            \n",
    "        print('best_silhouette_score :', np.argmax(silhouette_scores) + min_clusters)\n",
    "    \n",
    "    def visualize_silhouette(\n",
    "        self,\n",
    "        cluster_lists:typing.List[int], # 군집 갯수의 범위를 설정해주세요. e.g. 군집을 2 ~ 10개까지 설정한다면 [2, 3, 4, ..., 9, 10]\n",
    "    ):\n",
    "        import numpy as np\n",
    "        import matplotlib.pyplot as plt\n",
    "        import matplotlib.cm as cm\n",
    "        from sklearn.cluster import KMeans\n",
    "        from sklearn.metrics import silhouette_score, silhouette_samples\n",
    "        r\"\"\"\n",
    "        실루엣 계수를 시각화합니다. 군집이 적절히 나뉘고 빨간색 선인 실루엣 점수에 근접해야 좋은 군집입니다.\n",
    "        \"\"\"\n",
    "\n",
    "        n_cols = len(cluster_lists)\n",
    "        \n",
    "        fig, axs = plt.subplots(figsize=(4*n_cols, 4), nrows=1, ncols=n_cols)\n",
    "        \n",
    "        # 리스트에 기재된 클러스터링 갯수들을 차례로 iteration 수행하면서 실루엣 개수 시각화\n",
    "        for idx, n_cluster in enumerate(cluster_lists):\n",
    "            \n",
    "            # KMeans 클러스터링 수행하고, 실루엣 스코어와 개별 데이터의 실루엣 값 계산. \n",
    "            clusterer = KMeans(n_clusters = n_cluster, random_state=42, init='k-means++')\n",
    "            cluster_labels = clusterer.fit_predict(self.data)\n",
    "            \n",
    "            sil_avg = silhouette_score(self.data, cluster_labels)\n",
    "            sil_values = silhouette_samples(self.data, cluster_labels)\n",
    "            \n",
    "            y_lower = 10\n",
    "            axs[idx].set_title(\n",
    "                'Number of Cluster : '+ str(n_cluster)+'\\n'\n",
    "                'Silhouette Score :' + str(round(sil_avg,3))\n",
    "            )\n",
    "            axs[idx].set_xlabel(\"The silhouette coefficient values\")\n",
    "            axs[idx].set_ylabel(\"Cluster label\")\n",
    "            axs[idx].set_xlim([-0.1, 1])\n",
    "            axs[idx].set_ylim([0, len(self.data) + (n_cluster + 1) * 10])\n",
    "            axs[idx].set_yticks([])  # Clear the yaxis labels / ticks\n",
    "            axs[idx].set_xticks([0, 0.2, 0.4, 0.6, 0.8, 1])\n",
    "            \n",
    "            # 클러스터링 갯수별로 fill_betweenx( )형태의 막대 그래프 표현. \n",
    "            for i in range(n_cluster):\n",
    "                ith_cluster_sil_values = sil_values[cluster_labels==i]\n",
    "                ith_cluster_sil_values.sort()\n",
    "                \n",
    "                size_cluster_i = ith_cluster_sil_values.shape[0]\n",
    "                y_upper = y_lower + size_cluster_i\n",
    "                \n",
    "                color = cm.nipy_spectral(float(i) / n_cluster)\n",
    "                axs[idx].fill_betweenx(np.arange(y_lower, y_upper), 0, ith_cluster_sil_values, \\\n",
    "                                    facecolor=color, edgecolor=color, alpha=0.7)\n",
    "                axs[idx].text(-0.05, y_lower + 0.5 * size_cluster_i, str(i))\n",
    "                y_lower = y_upper + 10\n",
    "                \n",
    "            axs[idx].axvline(x=sil_avg, color=\"red\", linestyle=\"--\")\n",
    "    \n",
    "    def visualize_clusters(self, n_clusters:int):\n",
    "        import numpy as np\n",
    "        import pandas\n",
    "        from sklearn.cluster import KMeans\n",
    "        import matplotlib.pyplot as plt\n",
    "        r\"\"\"위에서 구한 최적의 군집 갯수를 이용하여 Kmeans로 군집화한 후 시각화합니다.\"\"\"\n",
    "        \n",
    "        kmeans = KMeans(n_clusters = n_clusters, random_state=42, init='k-means++')\n",
    "        labels = kmeans.fit_predict(self.data)\n",
    "        centers = kmeans.cluster_centers_\n",
    "\n",
    "        # 각 군집을 시각화합니다.\n",
    "        for label in np.unique(labels):\n",
    "            if type(self.data) == pandas.DataFrame:\n",
    "                for index in [label == labels]:\n",
    "                    cluster_points = self.data[index].to_numpy()\n",
    "            else:\n",
    "                cluster_points = self.data[labels == label]\n",
    "            center = centers[label]\n",
    "\n",
    "            plt.scatter(cluster_points[:, 0], cluster_points[:, 1], label=f'Cluster {label}')\n",
    "            plt.scatter(center[0], center[1], marker='x', color='black', label=f'Center {label}')\n",
    "\n",
    "        plt.xlabel('Feature 1')\n",
    "        plt.ylabel('Feature 2')\n",
    "        plt.title('Cluster Visualization')\n",
    "        plt.legend()\n",
    "        plt.show()"
   ]
  },
  {
   "cell_type": "code",
   "execution_count": 13,
   "metadata": {},
   "outputs": [
    {
     "data": {
      "image/png": "[encoded data removed]",
      "text/plain": [
       "<Figure size 432x288 with 1 Axes>"
      ]
     },
     "metadata": {
      "needs_background": "light"
     },
     "output_type": "display_data"
    }
   ],
   "source": [
    "kmeans = Kmeans_Viz(rows_within_iqr)\n",
    "kmeans.visualize_elbow_method()"
   ]
  },
  {
   "cell_type": "code",
   "execution_count": 14,
   "metadata": {},
   "outputs": [
    {
     "data": {
      "image/png": "[encoded data removed]",
      "text/plain": [
       "<Figure size 432x288 with 1 Axes>"
      ]
     },
     "metadata": {
      "needs_background": "light"
     },
     "output_type": "display_data"
    },
    {
     "name": "stdout",
     "output_type": "stream",
     "text": [
      "best_silhouette_score : 2\n"
     ]
    }
   ],
   "source": [
    "kmeans.visualize_silhouette_score()"
   ]
  },
  {
   "cell_type": "code",
   "execution_count": 16,
   "metadata": {},
   "outputs": [
    {
     "data": {
      "image/png": "[encoded data removed]",
      "text/plain": [
       "<Figure size 1152x288 with 4 Axes>"
      ]
     },
     "metadata": {
      "needs_background": "light"
     },
     "output_type": "display_data"
    }
   ],
   "source": [
    "kmeans.visualize_silhouette([2,3,4,5])"
   ]
  },
  {
   "cell_type": "code",
   "execution_count": 18,
   "metadata": {},
   "outputs": [
    {
     "data": {
      "image/png": "[encoded data removed]",
      "text/plain": [
       "<Figure size 432x288 with 1 Axes>"
      ]
     },
     "metadata": {
      "needs_background": "light"
     },
     "output_type": "display_data"
    }
   ],
   "source": [
    "kmeans.visualize_clusters(4)"
   ]
  },
  {
   "cell_type": "code",
   "execution_count": 43,
   "metadata": {},
   "outputs": [],
   "source": [
    "class DBSCAN_Viz:\n",
    "    import numpy\n",
    "    import pandas\n",
    "    import typing\n",
    "    \n",
    "    def __init__(self, data:typing.Union[numpy.ndarray, pandas.DataFrame], is_pca:bool=True):\n",
    "        self.data = data\n",
    "        if is_pca:\n",
    "            import numpy as np\n",
    "            import pandas as pd\n",
    "            if type(data) == np.ndarray:\n",
    "                demension = data.shape[1]\n",
    "            elif type(data) == pd.DataFrame:\n",
    "                demension = len(data.columns)\n",
    "            \n",
    "            if demension > 2:\n",
    "                print(\n",
    "                    \"\"\"데이터 컬럼 갯수가 3개 이상입니다. pca를 진행하여 컬럼 갯수를 2개로 맞춰줍니다.\n",
    "                    만약 3차원 이상의 클러스터링을 진행한다면 is_pca=False로 설정해주세요. 시각화가 제대로 진행되지 않을 수 있습니다.\"\"\"\n",
    "                )\n",
    "                self.data = self.pca(data)\n",
    "\n",
    "    def pca(self, data:pandas.DataFrame) -> pandas.DataFrame:\n",
    "        from sklearn.decomposition import PCA\n",
    "        r\"\"\"클러스터링의 경우 보통 2차원 feature를 가지고 클러스터링을 진행합니다.\"\"\"\n",
    "        pca = PCA(n_components=2, random_state=42)  # 주성분 개수를 지정합니다. (여기서는 2차원으로 축소)\n",
    "        data_pca = pca.fit_transform(data)\n",
    "        \n",
    "        return data_pca\n",
    "    \n",
    "    def hyper_parameter_tuning(self):\n",
    "        import pandas as pd\n",
    "        import seaborn as sns\n",
    "        import matplotlib.pyplot as plt\n",
    "        import numpy as np\n",
    "        from itertools import product\n",
    "        from sklearn.cluster import DBSCAN\n",
    "        from sklearn.metrics import silhouette_score\n",
    "\n",
    "        eps_values = np.arange(2,12.75,0.25) # eps values to be investigated\n",
    "        min_samples = np.arange(3,10) # min_samples values to be investigated\n",
    "\n",
    "        DBSCAN_params = list(product(eps_values, min_samples))\n",
    "        \n",
    "        no_of_clusters = []\n",
    "        sil_score = []\n",
    "\n",
    "        DBSCAN_parameters = []\n",
    "        for p in DBSCAN_params:\n",
    "            DBS_clustering = DBSCAN(eps=p[0], min_samples=p[1]).fit(self.data)\n",
    "            n_clusters = len(np.unique(DBS_clustering.labels_))\n",
    "            if (n_clusters) < 2:\n",
    "                continue\n",
    "            no_of_clusters.append(n_clusters)\n",
    "            DBSCAN_parameters.append(p)\n",
    "            sil_score.append(silhouette_score(self.data, DBS_clustering.labels_))\n",
    "        \n",
    "        tmp = pd.DataFrame.from_records(DBSCAN_parameters, columns =['Eps', 'Min_samples'])   \n",
    "        tmp['No_of_clusters'] = no_of_clusters\n",
    "\n",
    "        pivot_1 = pd.pivot_table(tmp, values='No_of_clusters', index='Eps', columns='Min_samples')\n",
    "        fig, axes = plt.subplots(figsize=(25,20), nrows=1, ncols = 2)\n",
    "        sns.heatmap(pivot_1, annot=True,annot_kws={\"size\": 16}, cmap=\"YlGnBu\", ax=axes[0])\n",
    "        axes[0].set_title('Number of clusters')\n",
    "\n",
    "        tmp['Sil_score'] = sil_score\n",
    "\n",
    "        pivot_1 = pd.pivot_table(tmp, values='Sil_score', index='Eps', columns='Min_samples')\n",
    "        axes[1].set_title('Sil_score')\n",
    "        sns.heatmap(pivot_1, annot=True, annot_kws={\"size\": 10}, cmap=\"YlGnBu\", ax=axes[1])\n",
    "        plt.show()\n",
    "        \n",
    "        maximum = tmp['Sil_score'].max()\n",
    "        row = tmp['Sil_score'].idxmax()\n",
    "        eps = tmp['Eps'][row]\n",
    "        min_samples = tmp['Min_samples'][row]\n",
    "        \n",
    "        print(f'Global maximum Sil_score is {maximum} for eps={eps} and min_samples={min_samples}')\n",
    "        \n",
    "    \n",
    "    def DBSCAN_visualize(self, eps:int=0.5, min_samples:int=4):\n",
    "        import numpy\n",
    "        import pandas as pd\n",
    "        import seaborn as sns\n",
    "        import matplotlib.pyplot as plt\n",
    "        from sklearn.cluster import DBSCAN\n",
    "        \n",
    "        DBS_clustering = DBSCAN(eps=eps, min_samples=min_samples).fit(self.data)\n",
    "        if type(self.data) == numpy.ndarray:\n",
    "            DBSCAN_clustered = pd.DataFrame(self.data)            \n",
    "        else:\n",
    "            columns = {c:idx for idx, c in enumerate(self.data.columns)}\n",
    "            columns_r = {v:k for k, v in columns.items()}\n",
    "            DBSCAN_clustered = self.data.copy().rename(columns=columns)\n",
    "        DBSCAN_clustered['Cluster'] = DBS_clustering.labels_\n",
    "\n",
    "        outliers = DBSCAN_clustered[DBSCAN_clustered['Cluster'] == -1]\n",
    "\n",
    "        fig2, axes = plt.subplots(figsize=(12,5))\n",
    "\n",
    "        sns.scatterplot(data = DBSCAN_clustered[DBSCAN_clustered['Cluster']!=-1], x= 0, y = 1,\n",
    "            hue='Cluster', ax=axes, palette='Set1', legend='full', s=45\n",
    "        )\n",
    "\n",
    "        if len(outliers) > 0:\n",
    "            axes.scatter(outliers.iloc[:, 0], outliers.iloc[:, 1], s=5, label='outliers', c=\"k\")\n",
    "        axes.set_title('DBSCAN Clustering')\n",
    "        axes.set_xlabel(f'{columns_r[0]}')\n",
    "        axes.set_ylabel(f'{columns_r[1]}')\n",
    "        axes.legend()\n",
    "\n",
    "        plt.show()"
   ]
  },
  {
   "cell_type": "code",
   "execution_count": 20,
   "metadata": {},
   "outputs": [
    {
     "data": {
      "image/png": "[encoded data removed]",
      "text/plain": [
       "<Figure size 1800x1440 with 4 Axes>"
      ]
     },
     "metadata": {
      "needs_background": "light"
     },
     "output_type": "display_data"
    },
    {
     "name": "stdout",
     "output_type": "stream",
     "text": [
      "Global maximum Sil_score is 0.642970737341713 for eps=2.75 and min_samples=3\n"
     ]
    }
   ],
   "source": [
    "dbscan = DBSCAN_Viz(rows_within_iqr)\n",
    "dbscan.hyper_parameter_tuning()"
   ]
  },
  {
   "cell_type": "code",
   "execution_count": 44,
   "metadata": {},
   "outputs": [
    {
     "data": {
      "image/png": "[encoded data removed]",
      "text/plain": [
       "<Figure size 864x360 with 1 Axes>"
      ]
     },
     "metadata": {
      "needs_background": "light"
     },
     "output_type": "display_data"
    }
   ],
   "source": [
    "dbscan.DBSCAN_visualize(eps=2.75, min_samples=3)"
   ]
  },
  {
   "cell_type": "markdown",
   "metadata": {},
   "source": [
    "### 2번\n",
    "#### 2-1. 위에서 생성한 군집들의 특성을 분석할 것"
   ]
  },
  {
   "cell_type": "markdown",
   "metadata": {},
   "source": [
    "Kmeans는 거리 기반으로 나뉘어지기 때문에 거리가 가까운 것들과 군집화된 것을 볼수 있고,\n",
    "\n",
    "DBSCAN은 밀도를 기반으로 나뉘기 때문에 밀집된 정도에 따라서 군집이 나뉜 것을 볼 수 있다."
   ]
  },
  {
   "cell_type": "markdown",
   "metadata": {},
   "source": [
    "#### 2-2. 각 군집 별 대표 추천 상품을 도출할 것"
   ]
  },
  {
   "cell_type": "markdown",
   "metadata": {},
   "source": [
    "대표 상품을 도출하는 방법은 상품 만족도, 판매 갯수 등 다양하게 설정할 수 있지만\n",
    "\n",
    "현재 가지고 있는 데이터에서는 매출이 가장 적절한 기준이 된다."
   ]
  },
  {
   "cell_type": "code",
   "execution_count": 62,
   "metadata": {},
   "outputs": [
    {
     "data": {
      "text/html": [
       "<div>\n",
       "<style scoped>\n",
       "    .dataframe tbody tr th:only-of-type {\n",
       "        vertical-align: middle;\n",
       "    }\n",
       "\n",
       "    .dataframe tbody tr th {\n",
       "        vertical-align: top;\n",
       "    }\n",
       "\n",
       "    .dataframe thead th {\n",
       "        text-align: right;\n",
       "    }\n",
       "</style>\n",
       "<table border=\"1\" class=\"dataframe\">\n",
       "  <thead>\n",
       "    <tr style=\"text-align: right;\">\n",
       "      <th></th>\n",
       "      <th>InvoiceNo</th>\n",
       "      <th>StockCode</th>\n",
       "      <th>Description</th>\n",
       "      <th>Quantity</th>\n",
       "      <th>InvoiceDate</th>\n",
       "      <th>UnitPrice</th>\n",
       "      <th>CustomerID</th>\n",
       "      <th>Country</th>\n",
       "      <th>label</th>\n",
       "    </tr>\n",
       "  </thead>\n",
       "  <tbody>\n",
       "    <tr>\n",
       "      <th>0</th>\n",
       "      <td>563808</td>\n",
       "      <td>22432</td>\n",
       "      <td>WATERING CAN PINK BUNNY</td>\n",
       "      <td>6.0</td>\n",
       "      <td>2011-08-19 11:46:00</td>\n",
       "      <td>1.95</td>\n",
       "      <td>12626.0</td>\n",
       "      <td>Germany</td>\n",
       "      <td>0</td>\n",
       "    </tr>\n",
       "    <tr>\n",
       "      <th>1</th>\n",
       "      <td>561645</td>\n",
       "      <td>23166</td>\n",
       "      <td>MEDIUM CERAMIC TOP STORAGE JAR</td>\n",
       "      <td>12.0</td>\n",
       "      <td>2011-07-28 15:16:00</td>\n",
       "      <td>1.25</td>\n",
       "      <td>14911.0</td>\n",
       "      <td>EIRE</td>\n",
       "      <td>0</td>\n",
       "    </tr>\n",
       "    <tr>\n",
       "      <th>2</th>\n",
       "      <td>568651</td>\n",
       "      <td>20985</td>\n",
       "      <td>HEART CALCULATOR</td>\n",
       "      <td>12.0</td>\n",
       "      <td>2011-09-28 12:04:00</td>\n",
       "      <td>1.25</td>\n",
       "      <td>12362.0</td>\n",
       "      <td>Belgium</td>\n",
       "      <td>0</td>\n",
       "    </tr>\n",
       "    <tr>\n",
       "      <th>3</th>\n",
       "      <td>541711</td>\n",
       "      <td>22772</td>\n",
       "      <td>PINK DRAWER KNOB ACRYLIC EDWARDIAN</td>\n",
       "      <td>24.0</td>\n",
       "      <td>2011-01-21 11:18:00</td>\n",
       "      <td>1.25</td>\n",
       "      <td>14646.0</td>\n",
       "      <td>Netherlands</td>\n",
       "      <td>1</td>\n",
       "    </tr>\n",
       "    <tr>\n",
       "      <th>4</th>\n",
       "      <td>554134</td>\n",
       "      <td>21154</td>\n",
       "      <td>RED RETROSPOT OVEN GLOVE</td>\n",
       "      <td>10.0</td>\n",
       "      <td>2011-05-23 09:48:00</td>\n",
       "      <td>1.25</td>\n",
       "      <td>12583.0</td>\n",
       "      <td>France</td>\n",
       "      <td>0</td>\n",
       "    </tr>\n",
       "    <tr>\n",
       "      <th>...</th>\n",
       "      <td>...</td>\n",
       "      <td>...</td>\n",
       "      <td>...</td>\n",
       "      <td>...</td>\n",
       "      <td>...</td>\n",
       "      <td>...</td>\n",
       "      <td>...</td>\n",
       "      <td>...</td>\n",
       "      <td>...</td>\n",
       "    </tr>\n",
       "    <tr>\n",
       "      <th>35795</th>\n",
       "      <td>579393</td>\n",
       "      <td>21670</td>\n",
       "      <td>BLUE SPOT CERAMIC DRAWER KNOB</td>\n",
       "      <td>12.0</td>\n",
       "      <td>2011-11-29 12:07:00</td>\n",
       "      <td>1.45</td>\n",
       "      <td>12627.0</td>\n",
       "      <td>Germany</td>\n",
       "      <td>0</td>\n",
       "    </tr>\n",
       "    <tr>\n",
       "      <th>35796</th>\n",
       "      <td>554137</td>\n",
       "      <td>21668</td>\n",
       "      <td>RED STRIPE CERAMIC DRAWER KNOB</td>\n",
       "      <td>12.0</td>\n",
       "      <td>2011-05-23 10:13:00</td>\n",
       "      <td>1.25</td>\n",
       "      <td>12708.0</td>\n",
       "      <td>Germany</td>\n",
       "      <td>0</td>\n",
       "    </tr>\n",
       "    <tr>\n",
       "      <th>35797</th>\n",
       "      <td>572986</td>\n",
       "      <td>22895</td>\n",
       "      <td>SET OF 2 TEA TOWELS APPLE AND PEARS</td>\n",
       "      <td>6.0</td>\n",
       "      <td>2011-10-27 10:51:00</td>\n",
       "      <td>3.25</td>\n",
       "      <td>12681.0</td>\n",
       "      <td>France</td>\n",
       "      <td>0</td>\n",
       "    </tr>\n",
       "    <tr>\n",
       "      <th>35798</th>\n",
       "      <td>579927</td>\n",
       "      <td>22734</td>\n",
       "      <td>SET OF 6 RIBBONS VINTAGE CHRISTMAS</td>\n",
       "      <td>6.0</td>\n",
       "      <td>2011-12-01 09:20:00</td>\n",
       "      <td>2.89</td>\n",
       "      <td>12572.0</td>\n",
       "      <td>Germany</td>\n",
       "      <td>0</td>\n",
       "    </tr>\n",
       "    <tr>\n",
       "      <th>35799</th>\n",
       "      <td>551163</td>\n",
       "      <td>22431</td>\n",
       "      <td>WATERING CAN BLUE ELEPHANT</td>\n",
       "      <td>1.0</td>\n",
       "      <td>2011-04-26 15:52:00</td>\n",
       "      <td>1.95</td>\n",
       "      <td>12573.0</td>\n",
       "      <td>France</td>\n",
       "      <td>0</td>\n",
       "    </tr>\n",
       "  </tbody>\n",
       "</table>\n",
       "<p>27657 rows × 9 columns</p>\n",
       "</div>"
      ],
      "text/plain": [
       "      InvoiceNo StockCode                          Description  Quantity  \\\n",
       "0        563808     22432              WATERING CAN PINK BUNNY       6.0   \n",
       "1        561645     23166       MEDIUM CERAMIC TOP STORAGE JAR      12.0   \n",
       "2        568651     20985                     HEART CALCULATOR      12.0   \n",
       "3        541711     22772   PINK DRAWER KNOB ACRYLIC EDWARDIAN      24.0   \n",
       "4        554134     21154            RED RETROSPOT OVEN GLOVE       10.0   \n",
       "...         ...       ...                                  ...       ...   \n",
       "35795    579393     21670        BLUE SPOT CERAMIC DRAWER KNOB      12.0   \n",
       "35796    554137     21668       RED STRIPE CERAMIC DRAWER KNOB      12.0   \n",
       "35797    572986     22895  SET OF 2 TEA TOWELS APPLE AND PEARS       6.0   \n",
       "35798    579927     22734   SET OF 6 RIBBONS VINTAGE CHRISTMAS       6.0   \n",
       "35799    551163     22431           WATERING CAN BLUE ELEPHANT       1.0   \n",
       "\n",
       "              InvoiceDate  UnitPrice  CustomerID      Country  label  \n",
       "0     2011-08-19 11:46:00       1.95     12626.0      Germany      0  \n",
       "1     2011-07-28 15:16:00       1.25     14911.0         EIRE      0  \n",
       "2     2011-09-28 12:04:00       1.25     12362.0      Belgium      0  \n",
       "3     2011-01-21 11:18:00       1.25     14646.0  Netherlands      1  \n",
       "4     2011-05-23 09:48:00       1.25     12583.0       France      0  \n",
       "...                   ...        ...         ...          ...    ...  \n",
       "35795 2011-11-29 12:07:00       1.45     12627.0      Germany      0  \n",
       "35796 2011-05-23 10:13:00       1.25     12708.0      Germany      0  \n",
       "35797 2011-10-27 10:51:00       3.25     12681.0       France      0  \n",
       "35798 2011-12-01 09:20:00       2.89     12572.0      Germany      0  \n",
       "35799 2011-04-26 15:52:00       1.95     12573.0       France      0  \n",
       "\n",
       "[27657 rows x 9 columns]"
      ]
     },
     "execution_count": 62,
     "metadata": {},
     "output_type": "execute_result"
    }
   ],
   "source": [
    "from sklearn.cluster import DBSCAN\n",
    "    \n",
    "DBS_clustering = DBSCAN(eps=2.75, min_samples=3).fit(rows_within_iqr)\n",
    "\n",
    "rec = df1_d.loc[rows_within_iqr.index]\n",
    "rec['label'] = DBS_clustering.labels_\n",
    "rec['Sales'] = rec['Quantity'] * rec['UnitPrice']\n",
    "rec"
   ]
  },
  {
   "cell_type": "code",
   "execution_count": 91,
   "metadata": {},
   "outputs": [
    {
     "name": "stdout",
     "output_type": "stream",
     "text": [
      "0 번 군집 대표상품 \n",
      "22326\n",
      "\n",
      "1 번 군집 대표상품 \n",
      "21121\n",
      "\n",
      "2 번 군집 대표상품 \n",
      "23245\n",
      "\n"
     ]
    }
   ],
   "source": [
    "grouped = rec.groupby(['label', 'StockCode']).sum()['Sales']\n",
    "\n",
    "for label in set(DBS_clustering.labels_):\n",
    "    print(f'{label} 번 군집 대표상품 ')\n",
    "    print(grouped[label].idxmax())\n",
    "    print()\n"
   ]
  },
  {
   "cell_type": "markdown",
   "metadata": {},
   "source": [
    "#### 2-3. CustomerID가 12413인 고객을 대상으로 KNN을 이용하여 추천할 상품을 제시해라"
   ]
  },
  {
   "cell_type": "code",
   "execution_count": 124,
   "metadata": {},
   "outputs": [
    {
     "data": {
      "text/html": [
       "<div>\n",
       "<style scoped>\n",
       "    .dataframe tbody tr th:only-of-type {\n",
       "        vertical-align: middle;\n",
       "    }\n",
       "\n",
       "    .dataframe tbody tr th {\n",
       "        vertical-align: top;\n",
       "    }\n",
       "\n",
       "    .dataframe thead th {\n",
       "        text-align: right;\n",
       "    }\n",
       "</style>\n",
       "<table border=\"1\" class=\"dataframe\">\n",
       "  <thead>\n",
       "    <tr style=\"text-align: right;\">\n",
       "      <th>StockCode</th>\n",
       "      <th>10002</th>\n",
       "      <th>10120</th>\n",
       "      <th>10125</th>\n",
       "      <th>10133</th>\n",
       "      <th>10135</th>\n",
       "      <th>11001</th>\n",
       "      <th>15034</th>\n",
       "      <th>15036</th>\n",
       "      <th>15039</th>\n",
       "      <th>15044A</th>\n",
       "      <th>...</th>\n",
       "      <th>90204</th>\n",
       "      <th>90205A</th>\n",
       "      <th>90205C</th>\n",
       "      <th>90208</th>\n",
       "      <th>90209A</th>\n",
       "      <th>90209C</th>\n",
       "      <th>C2</th>\n",
       "      <th>D</th>\n",
       "      <th>M</th>\n",
       "      <th>POST</th>\n",
       "    </tr>\n",
       "    <tr>\n",
       "      <th>CustomerID</th>\n",
       "      <th></th>\n",
       "      <th></th>\n",
       "      <th></th>\n",
       "      <th></th>\n",
       "      <th></th>\n",
       "      <th></th>\n",
       "      <th></th>\n",
       "      <th></th>\n",
       "      <th></th>\n",
       "      <th></th>\n",
       "      <th></th>\n",
       "      <th></th>\n",
       "      <th></th>\n",
       "      <th></th>\n",
       "      <th></th>\n",
       "      <th></th>\n",
       "      <th></th>\n",
       "      <th></th>\n",
       "      <th></th>\n",
       "      <th></th>\n",
       "      <th></th>\n",
       "    </tr>\n",
       "  </thead>\n",
       "  <tbody>\n",
       "    <tr>\n",
       "      <th>12354.0</th>\n",
       "      <td>0.0</td>\n",
       "      <td>0.0</td>\n",
       "      <td>0.0</td>\n",
       "      <td>0.0</td>\n",
       "      <td>0.0</td>\n",
       "      <td>0.00</td>\n",
       "      <td>0.0</td>\n",
       "      <td>0.00</td>\n",
       "      <td>0.00</td>\n",
       "      <td>0.0</td>\n",
       "      <td>...</td>\n",
       "      <td>0.0</td>\n",
       "      <td>0.0</td>\n",
       "      <td>0.0</td>\n",
       "      <td>0.0</td>\n",
       "      <td>0.0</td>\n",
       "      <td>0.0</td>\n",
       "      <td>0.000000</td>\n",
       "      <td>0.00</td>\n",
       "      <td>0.0</td>\n",
       "      <td>0.000000</td>\n",
       "    </tr>\n",
       "    <tr>\n",
       "      <th>12356.0</th>\n",
       "      <td>0.0</td>\n",
       "      <td>0.0</td>\n",
       "      <td>0.0</td>\n",
       "      <td>0.0</td>\n",
       "      <td>0.0</td>\n",
       "      <td>0.00</td>\n",
       "      <td>0.0</td>\n",
       "      <td>0.00</td>\n",
       "      <td>0.00</td>\n",
       "      <td>0.0</td>\n",
       "      <td>...</td>\n",
       "      <td>0.0</td>\n",
       "      <td>0.0</td>\n",
       "      <td>0.0</td>\n",
       "      <td>0.0</td>\n",
       "      <td>0.0</td>\n",
       "      <td>0.0</td>\n",
       "      <td>0.000000</td>\n",
       "      <td>0.00</td>\n",
       "      <td>0.0</td>\n",
       "      <td>324.000000</td>\n",
       "    </tr>\n",
       "    <tr>\n",
       "      <th>12357.0</th>\n",
       "      <td>0.0</td>\n",
       "      <td>0.0</td>\n",
       "      <td>0.0</td>\n",
       "      <td>0.0</td>\n",
       "      <td>0.0</td>\n",
       "      <td>0.00</td>\n",
       "      <td>0.0</td>\n",
       "      <td>0.00</td>\n",
       "      <td>0.00</td>\n",
       "      <td>0.0</td>\n",
       "      <td>...</td>\n",
       "      <td>0.0</td>\n",
       "      <td>0.0</td>\n",
       "      <td>0.0</td>\n",
       "      <td>0.0</td>\n",
       "      <td>0.0</td>\n",
       "      <td>0.0</td>\n",
       "      <td>0.000000</td>\n",
       "      <td>0.00</td>\n",
       "      <td>0.0</td>\n",
       "      <td>0.000000</td>\n",
       "    </tr>\n",
       "    <tr>\n",
       "      <th>12361.0</th>\n",
       "      <td>0.0</td>\n",
       "      <td>0.0</td>\n",
       "      <td>0.0</td>\n",
       "      <td>0.0</td>\n",
       "      <td>0.0</td>\n",
       "      <td>0.00</td>\n",
       "      <td>0.0</td>\n",
       "      <td>0.00</td>\n",
       "      <td>0.00</td>\n",
       "      <td>0.0</td>\n",
       "      <td>...</td>\n",
       "      <td>0.0</td>\n",
       "      <td>0.0</td>\n",
       "      <td>0.0</td>\n",
       "      <td>0.0</td>\n",
       "      <td>0.0</td>\n",
       "      <td>0.0</td>\n",
       "      <td>0.000000</td>\n",
       "      <td>0.00</td>\n",
       "      <td>0.0</td>\n",
       "      <td>15.000000</td>\n",
       "    </tr>\n",
       "    <tr>\n",
       "      <th>12362.0</th>\n",
       "      <td>0.0</td>\n",
       "      <td>0.0</td>\n",
       "      <td>0.0</td>\n",
       "      <td>0.0</td>\n",
       "      <td>0.0</td>\n",
       "      <td>0.00</td>\n",
       "      <td>0.0</td>\n",
       "      <td>0.00</td>\n",
       "      <td>0.00</td>\n",
       "      <td>0.0</td>\n",
       "      <td>...</td>\n",
       "      <td>0.0</td>\n",
       "      <td>0.0</td>\n",
       "      <td>0.0</td>\n",
       "      <td>0.0</td>\n",
       "      <td>0.0</td>\n",
       "      <td>0.0</td>\n",
       "      <td>0.000000</td>\n",
       "      <td>0.00</td>\n",
       "      <td>0.0</td>\n",
       "      <td>48.900000</td>\n",
       "    </tr>\n",
       "    <tr>\n",
       "      <th>...</th>\n",
       "      <td>...</td>\n",
       "      <td>...</td>\n",
       "      <td>...</td>\n",
       "      <td>...</td>\n",
       "      <td>...</td>\n",
       "      <td>...</td>\n",
       "      <td>...</td>\n",
       "      <td>...</td>\n",
       "      <td>...</td>\n",
       "      <td>...</td>\n",
       "      <td>...</td>\n",
       "      <td>...</td>\n",
       "      <td>...</td>\n",
       "      <td>...</td>\n",
       "      <td>...</td>\n",
       "      <td>...</td>\n",
       "      <td>...</td>\n",
       "      <td>...</td>\n",
       "      <td>...</td>\n",
       "      <td>...</td>\n",
       "      <td>...</td>\n",
       "    </tr>\n",
       "    <tr>\n",
       "      <th>14277.0</th>\n",
       "      <td>0.0</td>\n",
       "      <td>0.0</td>\n",
       "      <td>0.0</td>\n",
       "      <td>0.0</td>\n",
       "      <td>0.0</td>\n",
       "      <td>0.00</td>\n",
       "      <td>0.0</td>\n",
       "      <td>0.00</td>\n",
       "      <td>0.00</td>\n",
       "      <td>0.0</td>\n",
       "      <td>...</td>\n",
       "      <td>0.0</td>\n",
       "      <td>0.0</td>\n",
       "      <td>0.0</td>\n",
       "      <td>0.0</td>\n",
       "      <td>0.0</td>\n",
       "      <td>0.0</td>\n",
       "      <td>0.000000</td>\n",
       "      <td>0.00</td>\n",
       "      <td>0.0</td>\n",
       "      <td>36.000000</td>\n",
       "    </tr>\n",
       "    <tr>\n",
       "      <th>14335.0</th>\n",
       "      <td>0.0</td>\n",
       "      <td>0.0</td>\n",
       "      <td>0.0</td>\n",
       "      <td>0.0</td>\n",
       "      <td>0.0</td>\n",
       "      <td>0.00</td>\n",
       "      <td>0.0</td>\n",
       "      <td>0.00</td>\n",
       "      <td>0.85</td>\n",
       "      <td>0.0</td>\n",
       "      <td>...</td>\n",
       "      <td>0.0</td>\n",
       "      <td>0.0</td>\n",
       "      <td>0.0</td>\n",
       "      <td>0.0</td>\n",
       "      <td>0.0</td>\n",
       "      <td>0.0</td>\n",
       "      <td>0.000000</td>\n",
       "      <td>0.00</td>\n",
       "      <td>0.0</td>\n",
       "      <td>0.000000</td>\n",
       "    </tr>\n",
       "    <tr>\n",
       "      <th>14646.0</th>\n",
       "      <td>0.0</td>\n",
       "      <td>0.0</td>\n",
       "      <td>0.0</td>\n",
       "      <td>0.0</td>\n",
       "      <td>0.0</td>\n",
       "      <td>0.00</td>\n",
       "      <td>0.0</td>\n",
       "      <td>0.00</td>\n",
       "      <td>0.00</td>\n",
       "      <td>0.0</td>\n",
       "      <td>...</td>\n",
       "      <td>0.0</td>\n",
       "      <td>0.0</td>\n",
       "      <td>0.0</td>\n",
       "      <td>0.0</td>\n",
       "      <td>0.0</td>\n",
       "      <td>0.0</td>\n",
       "      <td>0.000000</td>\n",
       "      <td>-206.40</td>\n",
       "      <td>-105.6</td>\n",
       "      <td>60.176471</td>\n",
       "    </tr>\n",
       "    <tr>\n",
       "      <th>14911.0</th>\n",
       "      <td>10.2</td>\n",
       "      <td>0.0</td>\n",
       "      <td>0.0</td>\n",
       "      <td>8.4</td>\n",
       "      <td>25.2</td>\n",
       "      <td>27.04</td>\n",
       "      <td>0.0</td>\n",
       "      <td>9.96</td>\n",
       "      <td>0.00</td>\n",
       "      <td>0.0</td>\n",
       "      <td>...</td>\n",
       "      <td>0.0</td>\n",
       "      <td>6.6</td>\n",
       "      <td>6.6</td>\n",
       "      <td>0.0</td>\n",
       "      <td>0.0</td>\n",
       "      <td>0.0</td>\n",
       "      <td>48.529412</td>\n",
       "      <td>-434.51</td>\n",
       "      <td>0.0</td>\n",
       "      <td>0.000000</td>\n",
       "    </tr>\n",
       "    <tr>\n",
       "      <th>17097.0</th>\n",
       "      <td>0.0</td>\n",
       "      <td>0.0</td>\n",
       "      <td>0.0</td>\n",
       "      <td>0.0</td>\n",
       "      <td>0.0</td>\n",
       "      <td>0.00</td>\n",
       "      <td>0.0</td>\n",
       "      <td>0.00</td>\n",
       "      <td>0.00</td>\n",
       "      <td>0.0</td>\n",
       "      <td>...</td>\n",
       "      <td>0.0</td>\n",
       "      <td>0.0</td>\n",
       "      <td>0.0</td>\n",
       "      <td>0.0</td>\n",
       "      <td>0.0</td>\n",
       "      <td>0.0</td>\n",
       "      <td>0.000000</td>\n",
       "      <td>0.00</td>\n",
       "      <td>0.0</td>\n",
       "      <td>0.000000</td>\n",
       "    </tr>\n",
       "  </tbody>\n",
       "</table>\n",
       "<p>289 rows × 2667 columns</p>\n",
       "</div>"
      ],
      "text/plain": [
       "StockCode   10002  10120  10125  10133  10135  11001  15034  15036  15039  \\\n",
       "CustomerID                                                                  \n",
       "12354.0       0.0    0.0    0.0    0.0    0.0   0.00    0.0   0.00   0.00   \n",
       "12356.0       0.0    0.0    0.0    0.0    0.0   0.00    0.0   0.00   0.00   \n",
       "12357.0       0.0    0.0    0.0    0.0    0.0   0.00    0.0   0.00   0.00   \n",
       "12361.0       0.0    0.0    0.0    0.0    0.0   0.00    0.0   0.00   0.00   \n",
       "12362.0       0.0    0.0    0.0    0.0    0.0   0.00    0.0   0.00   0.00   \n",
       "...           ...    ...    ...    ...    ...    ...    ...    ...    ...   \n",
       "14277.0       0.0    0.0    0.0    0.0    0.0   0.00    0.0   0.00   0.00   \n",
       "14335.0       0.0    0.0    0.0    0.0    0.0   0.00    0.0   0.00   0.85   \n",
       "14646.0       0.0    0.0    0.0    0.0    0.0   0.00    0.0   0.00   0.00   \n",
       "14911.0      10.2    0.0    0.0    8.4   25.2  27.04    0.0   9.96   0.00   \n",
       "17097.0       0.0    0.0    0.0    0.0    0.0   0.00    0.0   0.00   0.00   \n",
       "\n",
       "StockCode   15044A  ...  90204  90205A  90205C  90208  90209A  90209C  \\\n",
       "CustomerID          ...                                                 \n",
       "12354.0        0.0  ...    0.0     0.0     0.0    0.0     0.0     0.0   \n",
       "12356.0        0.0  ...    0.0     0.0     0.0    0.0     0.0     0.0   \n",
       "12357.0        0.0  ...    0.0     0.0     0.0    0.0     0.0     0.0   \n",
       "12361.0        0.0  ...    0.0     0.0     0.0    0.0     0.0     0.0   \n",
       "12362.0        0.0  ...    0.0     0.0     0.0    0.0     0.0     0.0   \n",
       "...            ...  ...    ...     ...     ...    ...     ...     ...   \n",
       "14277.0        0.0  ...    0.0     0.0     0.0    0.0     0.0     0.0   \n",
       "14335.0        0.0  ...    0.0     0.0     0.0    0.0     0.0     0.0   \n",
       "14646.0        0.0  ...    0.0     0.0     0.0    0.0     0.0     0.0   \n",
       "14911.0        0.0  ...    0.0     6.6     6.6    0.0     0.0     0.0   \n",
       "17097.0        0.0  ...    0.0     0.0     0.0    0.0     0.0     0.0   \n",
       "\n",
       "StockCode          C2       D      M        POST  \n",
       "CustomerID                                        \n",
       "12354.0      0.000000    0.00    0.0    0.000000  \n",
       "12356.0      0.000000    0.00    0.0  324.000000  \n",
       "12357.0      0.000000    0.00    0.0    0.000000  \n",
       "12361.0      0.000000    0.00    0.0   15.000000  \n",
       "12362.0      0.000000    0.00    0.0   48.900000  \n",
       "...               ...     ...    ...         ...  \n",
       "14277.0      0.000000    0.00    0.0   36.000000  \n",
       "14335.0      0.000000    0.00    0.0    0.000000  \n",
       "14646.0      0.000000 -206.40 -105.6   60.176471  \n",
       "14911.0     48.529412 -434.51    0.0    0.000000  \n",
       "17097.0      0.000000    0.00    0.0    0.000000  \n",
       "\n",
       "[289 rows x 2667 columns]"
      ]
     },
     "execution_count": 124,
     "metadata": {},
     "output_type": "execute_result"
    }
   ],
   "source": [
    "knn = df1_d.copy()\n",
    "knn['Sales'] = df1_d['Quantity'] * df1_d['UnitPrice']\n",
    "knn = knn.reset_index().drop('index', axis=1)\n",
    "knn = knn.pivot_table(index='CustomerID', columns='StockCode', values='Sales').fillna(0)\n",
    "knn\n",
    "# knn"
   ]
  },
  {
   "cell_type": "code",
   "execution_count": 117,
   "metadata": {},
   "outputs": [],
   "source": [
    "def cosine_simillarity(v1, v2):\n",
    "    import numpy as np\n",
    "    \"\"\"\n",
    "    두 벡터 v1, v2에 대한 코사인 유사도를 구하는 함수\n",
    "    위 매트릭스에서 사용자 기반 추천을 한다고 할때, 사용자1을 v1, 사용자2를 v2로 놓는다면,\n",
    "    v1 = [7,6,7,4,5]\n",
    "    v2 = [6,7,?,4,3]\n",
    "    으로 두고 함수를 적용하게 된다.\n",
    "\n",
    "    return: similarity of the two vectors\n",
    "    \"\"\"\n",
    "    A = np.sqrt(np.sum(np.square(v1)))\n",
    "    B = np.sqrt(np.sum(np.square(v2)))\n",
    "    \n",
    "    return np.dot(v1,v2) / (A*B)"
   ]
  },
  {
   "cell_type": "code",
   "execution_count": 129,
   "metadata": {},
   "outputs": [
    {
     "name": "stdout",
     "output_type": "stream",
     "text": [
      "[(12354.0, 0.13072729369613365), (12356.0, 0.09882308662139168), (12357.0, 0.08259890043493988), (12361.0, 0.14393212980604836), (12362.0, 0.2247314380981374), (12364.0, 0.028121481365286572), (12371.0, 0.06804068732205606), (12377.0, 0.09282017431862678), (12378.0, 0.15673416876113688), (12379.0, 0.35466931267512153), (12380.0, 0.24015773148426675), (12383.0, 0.052909492248864196), (12384.0, 0.1355593638968518), (12390.0, 0.1313241829149963), (12394.0, 0.06918807308378713), (12395.0, 0.1358540387786423), (12397.0, 0.11876171926064137), (12398.0, 0.20962115036277357), (12399.0, 0.061759907113446096), (12401.0, 0.02110896524988355), (12402.0, 0.14357183337845542), (12407.0, 0.06444862453364396), (12408.0, 0.10795809428313044), (12409.0, 0.0851459059568573), (12410.0, 0.11851533921550368), (12413.0, 1.0000000000000002), (12417.0, 0.08016983915475556), (12418.0, 0.07615688215115127), (12421.0, 0.023029949189945626), (12422.0, 0.06685686261563611), (12423.0, 0.0726256142087657), (12425.0, 0.05340372736312243), (12426.0, 0.13185986331366553), (12427.0, 0.06913800768832307), (12431.0, 0.09156045140758509), (12437.0, 0.06976705836720107), (12441.0, 0.018456577038594393), (12442.0, 0.05436894355490185), (12445.0, 0.04271073276017361), (12447.0, 0.21025847477573145), (12448.0, 0.03571029997158016), (12449.0, 0.11567278932553027), (12450.0, 0.0), (12451.0, 0.2338067552895758), (12452.0, 0.056345462728226846), (12454.0, nan), (12455.0, 0.07992599850453701), (12456.0, 0.09317079994302159), (12457.0, 0.0594390416915115), (12458.0, 0.1058669621016586), (12461.0, 0.06369123016490279), (12462.0, 0.04300672752240243), (12463.0, 0.05983266207033674), (12464.0, 0.018707574564235527), (12465.0, 0.09533435098131764), (12468.0, 0.12854681265661314), (12471.0, 0.05455477925861054), (12472.0, 0.08834523985848895), (12473.0, 0.11907782212907224), (12474.0, 0.11337222883648895), (12475.0, 0.23545149483308428), (12476.0, 0.09162602436185156), (12477.0, 0.04680973656120343), (12479.0, 0.053446248448144294), (12480.0, 0.12900481587573895), (12481.0, 0.0526450091325625), (12484.0, 0.05493045337699924), (12488.0, 0.0941223997966056), (12489.0, 0.14099276304633002), (12490.0, 0.1465547556904005), (12491.0, 0.14436218591885583), (12492.0, 0.0984979193918558), (12493.0, 0.010828631016582586), (12494.0, 0.0460112362902881), (12497.0, 0.01541577017418365), (12498.0, 0.01788186176446042), (12500.0, 0.0191951652269725), (12501.0, 0.13220613107964307), (12502.0, 0.09713593138871361), (12503.0, 0.0), (12504.0, 0.04340803318442404), (12506.0, 0.0), (12507.0, 0.020843418717994645), (12508.0, 0.006072865046559902), (12509.0, 0.02041765207185019), (12510.0, 0.15653738640311637), (12513.0, 0.039685863611519295), (12516.0, 0.10263155911969858), (12517.0, 0.13421808359560877), (12518.0, 0.1352360844480215), (12519.0, 0.07980712291234004), (12520.0, 0.16487640039605414), (12521.0, 0.06249515170044973), (12522.0, 0.09750782105358619), (12523.0, 0.06388361640122875), (12524.0, 0.12721388978244838), (12526.0, 0.1934128796966301), (12527.0, 0.02331285083167144), (12528.0, 0.01900130149446679), (12530.0, 0.056089570080199956), (12531.0, 0.20239929384283922), (12532.0, 0.02093188854993401), (12534.0, 0.05183500448467258), (12535.0, 0.098628710045955), (12536.0, 0.1381990546187546), (12538.0, 0.08143968351331557), (12539.0, 0.005087936649647826), (12540.0, 0.10088801812020197), (12541.0, 0.10039864313379054), (12544.0, 0.05570320474325351), (12545.0, 0.03300821803628069), (12546.0, 0.1330907525621141), (12547.0, 0.050105552900344366), (12548.0, 0.03530030901496286), (12550.0, 0.08510306784497045), (12551.0, 0.06768376882973294), (12553.0, 0.21173609902584975), (12556.0, 0.007676649026938568), (12557.0, 0.0), (12559.0, 0.01222671377804721), (12560.0, 0.047623525226485885), (12561.0, 0.08462072646063847), (12562.0, 0.11783472784079557), (12564.0, 0.1616300380351023), (12566.0, 0.08949521890044596), (12567.0, 0.2062877087968364), (12569.0, 0.007615362752155107), (12571.0, 0.05668664180988488), (12572.0, 0.07418636175594769), (12573.0, 0.0), (12574.0, 0.02889838874699182), (12577.0, 0.004207039390268862), (12579.0, 0.10293019025976755), (12580.0, 0.10173180472743502), (12581.0, 0.10038850596857904), (12583.0, 0.15882822218671055), (12585.0, 0.07696115596282035), (12589.0, 0.018610128564128338), (12590.0, 0.1260609534304907), (12592.0, 0.024194405787429523), (12593.0, 0.024197791838765786), (12596.0, 0.09535126816440495), (12597.0, 0.0901415222265154), (12598.0, 0.15641591068142788), (12599.0, 0.05135994753486892), (12600.0, 0.13417085987967953), (12601.0, 0.009934030292409968), (12602.0, 0.0), (12603.0, 0.01111095959186372), (12604.0, 0.13740165204844695), (12605.0, 0.0), (12609.0, 0.08058661890253932), (12612.0, 0.012587245567186168), (12613.0, 0.09781591139659489), (12614.0, 0.012713109795390148), (12615.0, 0.12799405230081934), (12616.0, 0.25792319612921405), (12617.0, 0.0), (12619.0, 0.006112416963680227), (12620.0, 0.09063672331587891), (12621.0, 0.05640803828143662), (12622.0, 0.1525917697450827), (12623.0, 0.1323808793425333), (12624.0, 0.07876896486584845), (12625.0, 0.033408964304802835), (12626.0, 0.16207741699520167), (12627.0, 0.1398293980148636), (12628.0, 0.008900196194514261), (12633.0, 0.047739935199222795), (12635.0, 0.07430287592681417), (12637.0, 0.2761905455315175), (12640.0, 0.027832327653933026), (12642.0, 0.07377885042676019), (12643.0, 0.002931070602274125), (12644.0, 0.0), (12645.0, 0.13096234490293132), (12647.0, 0.04028738929147085), (12648.0, 0.012399763827437698), (12649.0, 0.15445363421867073), (12650.0, 0.03158536163521563), (12651.0, 0.1408773679667621), (12652.0, 0.06673799017864382), (12654.0, 0.14699126608375937), (12656.0, 0.15058041410643616), (12657.0, 0.016128923860743993), (12658.0, 0.04714464297814439), (12659.0, 0.02338273716906631), (12660.0, 0.0669722986861829), (12662.0, 0.17926082725457734), (12665.0, 0.027868757078402223), (12668.0, 0.09985139726916106), (12669.0, 0.09123922611134556), (12670.0, 0.24509915043456745), (12672.0, 0.36618710624651285), (12673.0, 0.24659546289172635), (12674.0, 0.08866315759299738), (12678.0, 0.10139180240199), (12679.0, 0.05253098727147651), (12680.0, 0.15221001523758237), (12681.0, 0.16082505083548096), (12682.0, 0.19058372583423425), (12683.0, 0.026321357043463264), (12684.0, 0.08207438377625065), (12685.0, 0.09747491093729936), (12686.0, 0.028345883023195566), (12689.0, 0.06299663785854744), (12690.0, 0.05456461392997104), (12691.0, 0.22104930973296177), (12693.0, 0.06128195893600575), (12694.0, 0.04695322488338642), (12695.0, 0.0), (12700.0, 0.12809321809806598), (12701.0, 0.14999902599996628), (12702.0, 0.015557049246793487), (12703.0, 0.015552269232876106), (12705.0, 0.19653979458503262), (12707.0, 0.0), (12708.0, 0.07049193885072574), (12709.0, 0.0353647096328669), (12710.0, 0.10709785936285718), (12712.0, 0.025807908409106718), (12713.0, 0.06480620307820568), (12714.0, 0.23210726325542338), (12716.0, 0.06798973975298048), (12718.0, 0.030862744503486837), (12719.0, 0.06208189706809967), (12720.0, 0.11899426822748327), (12721.0, 0.06522904875029904), (12722.0, 0.006489733684686441), (12723.0, 0.018893430916948242), (12724.0, 0.06931990909628266), (12726.0, 0.04034968858109452), (12727.0, 0.06792359955533911), (12728.0, 0.08493507492664967), (12729.0, 0.11214579621351094), (12731.0, 0.08024029802672501), (12732.0, 0.012587901895284883), (12734.0, 0.0), (12735.0, 0.15860886667872387), (12736.0, 0.04053792711437683), (12738.0, 0.020666009763541868), (12740.0, 0.22671405007801643), (12757.0, 0.14099883433167368), (12758.0, 0.14300539326179226), (12759.0, 0.07040708741637881), (12762.0, 0.050752578842477095), (12766.0, 0.15537111899011352), (12772.0, 0.07125114989723669), (12775.0, 0.007823226276651591), (12778.0, 0.007845996668385258), (12782.0, 0.09330751616977596), (12783.0, 0.0733770382800566), (12784.0, 0.03320873144291042), (12785.0, 0.04719896960414289), (12787.0, 0.08391808113717486), (12789.0, 0.016540069458997678), (12790.0, 0.03862634674023042), (12791.0, 0.004645880608076579), (12792.0, 0.056397752400697734), (12793.0, 0.08536173727106659), (12794.0, 0.0), (12795.0, 0.06542194564086269), (12797.0, 0.10586362552916502), (12802.0, 0.11047581626591337), (12808.0, 0.01679131109224085), (12809.0, 0.03872951419104611), (12811.0, 0.10534979896280176), (12866.0, 0.06572983446565621), (12876.0, 0.18294062966411467), (13492.0, 0.03703776211748242), (13493.0, 0.01628751850420961), (13501.0, 0.029705737946848484), (13505.0, 0.09316972539725682), (13520.0, 0.18555459838428745), (13810.0, 0.010748498585685544), (13811.0, 0.08261908865261405), (13812.0, 0.1831186263086528), (13813.0, 0.1894314144411253), (13814.0, 0.028679743096246647), (13815.0, 0.1799884347542486), (13816.0, 0.17451147174991277), (13817.0, 0.13100192078575326), (14016.0, 0.0345215885044164), (14156.0, 0.023695739333039836), (14277.0, 0.019712441027847676), (14335.0, 0.0), (14646.0, 0.11096194914781012), (14911.0, 0.07618536068796349), (17097.0, 0.13836570057389247)] \n",
      "사용자3과 가장 비슷한 유저: 사용자 12672 \n",
      "유사도:0.36618710624651285\n"
     ]
    },
    {
     "name": "stderr",
     "output_type": "stream",
     "text": [
      "/Users/yuseonjong/usr/adp/lib/python3.7/site-packages/ipykernel_launcher.py:15: RuntimeWarning: invalid value encountered in double_scalars\n",
      "  from ipykernel import kernelapp as app\n"
     ]
    }
   ],
   "source": [
    "sim_lst = []  # 빈 리스트 생성\n",
    "best_score = 0\n",
    "target_id = 12413\n",
    "\n",
    "for customer_id, row in knn.iterrows():  # 매트릭스의 각 사용자 별 벡터를 뽑아 vec에 넣기\n",
    "    similarity = cosine_simillarity(row, knn.loc[target_id]) # matrix[2] == 사용자3의 벡터\n",
    "    sim_lst.append((customer_id,similarity))  \n",
    "    if customer_id != target_id and best_score < similarity:  # 현재 계산한 유사도가 기존 최고 유사도보다 높다면 바꿔준다. \n",
    "        best_score = similarity\n",
    "        best_user = customer_id\n",
    "      \n",
    "print(sim_lst, f\"\\n사용자3과 가장 비슷한 유저: 사용자 {int(best_user)} \\n유사도:{best_score}\")"
   ]
  },
  {
   "cell_type": "code",
   "execution_count": 143,
   "metadata": {},
   "outputs": [],
   "source": [
    "import numpy as np\n",
    "\n",
    "similiar = 12672\n",
    "\n",
    "indices = []\n",
    "best_mean_score = knn.loc[similiar].mean()  # 가장 비슷한 유저의 평균 평점\n",
    "for col in range(len(knn.loc[target_id])):\n",
    "    if knn.loc[target_id][col] == 0:   # 해당 사용자3의 ? 부분에 위와같은 연산을 진행한다.\n",
    "        indices.append(col)\n",
    "        knn.loc[target_id][col] = np.mean(knn.loc[target_id]) + (((knn.loc[similiar][col]-best_mean_score)*best_score)/best_score)\n",
    "\n",
    "mean_score = knn.loc[target_id].mean()\n"
   ]
  },
  {
   "cell_type": "code",
   "execution_count": 145,
   "metadata": {},
   "outputs": [
    {
     "name": "stdout",
     "output_type": "stream",
     "text": [
      "추천할 상품 코드 : [111, 301, 541, 1190, 1243, 1261]\n"
     ]
    }
   ],
   "source": [
    "items = []\n",
    "for col in indices:\n",
    "    sale = knn.loc[target_id][col]\n",
    "    if sale > mean_score:\n",
    "        items.append(col)\n",
    "\n",
    "print('추천할 상품 코드 :', items)"
   ]
  },
  {
   "cell_type": "markdown",
   "metadata": {},
   "source": [
    "# 통계\n",
    "\n",
    "### 3. 철강제품의 불량률을 조사하고자 한다. 이 때, 불량률의 90% 추정오차한계가 5% 이내가 되기 위하여 적절한 표본의 크기 중 최소값은 얼마인가?"
   ]
  },
  {
   "cell_type": "code",
   "execution_count": null,
   "metadata": {},
   "outputs": [],
   "source": []
  },
  {
   "cell_type": "markdown",
   "metadata": {},
   "source": [
    "### 4. A초등학교 남학생 16명과 여학생 9명의 혈압을 측정한 problem4.csv파일을 가지고 남녀학생의 평균 혈압에 차이가 없는지 분석하라. 단, 남학생과 여학생의 혈압 데이터는 정규분포를 따르며 등분산임을 가정한다."
   ]
  },
  {
   "cell_type": "code",
   "execution_count": 2,
   "metadata": {},
   "outputs": [
    {
     "data": {
      "text/html": [
       "<div>\n",
       "<style scoped>\n",
       "    .dataframe tbody tr th:only-of-type {\n",
       "        vertical-align: middle;\n",
       "    }\n",
       "\n",
       "    .dataframe tbody tr th {\n",
       "        vertical-align: top;\n",
       "    }\n",
       "\n",
       "    .dataframe thead th {\n",
       "        text-align: right;\n",
       "    }\n",
       "</style>\n",
       "<table border=\"1\" class=\"dataframe\">\n",
       "  <thead>\n",
       "    <tr style=\"text-align: right;\">\n",
       "      <th></th>\n",
       "      <th>gender</th>\n",
       "      <th>pressure</th>\n",
       "    </tr>\n",
       "  </thead>\n",
       "  <tbody>\n",
       "    <tr>\n",
       "      <th>0</th>\n",
       "      <td>male</td>\n",
       "      <td>106.8</td>\n",
       "    </tr>\n",
       "    <tr>\n",
       "      <th>1</th>\n",
       "      <td>male</td>\n",
       "      <td>100.8</td>\n",
       "    </tr>\n",
       "    <tr>\n",
       "      <th>2</th>\n",
       "      <td>male</td>\n",
       "      <td>84.5</td>\n",
       "    </tr>\n",
       "    <tr>\n",
       "      <th>3</th>\n",
       "      <td>male</td>\n",
       "      <td>104.2</td>\n",
       "    </tr>\n",
       "    <tr>\n",
       "      <th>4</th>\n",
       "      <td>male</td>\n",
       "      <td>107.0</td>\n",
       "    </tr>\n",
       "  </tbody>\n",
       "</table>\n",
       "</div>"
      ],
      "text/plain": [
       "  gender  pressure\n",
       "0   male     106.8\n",
       "1   male     100.8\n",
       "2   male      84.5\n",
       "3   male     104.2\n",
       "4   male     107.0"
      ]
     },
     "execution_count": 2,
     "metadata": {},
     "output_type": "execute_result"
    }
   ],
   "source": [
    "import ssl\n",
    "import pandas as pd\n",
    "import urllib\n",
    "# context = ssl._create_unverified_context()\n",
    "\n",
    "# url2 = 'https://raw.githubusercontent.com/Ssunbell/ADP_study/main/9주차_0716/data/problem4.csv'\n",
    "# encoded_url2 = urllib.parse.quote(url2, safe=':/')\n",
    "\n",
    "# response = urllib.request.urlopen(encoded_url2, context=context)\n",
    "# df2 = pd.read_csv(response, encoding='utf-8')\n",
    "# df2\n",
    "\n",
    "df2 = pd.read_csv(\"C:/Users/LG/Desktop/0721/problem4.csv\")\n",
    "df2.head()"
   ]
  },
  {
   "cell_type": "markdown",
   "metadata": {},
   "source": [
    "#### 4-1 연구가설과 귀무가설을 설정하라"
   ]
  },
  {
   "cell_type": "markdown",
   "metadata": {},
   "source": [
    "H0 : 남자와 여자의 평균 혈압의 차이는 0이다.\n",
    "\n",
    "H1 : 남자와 여자의 평균 혈압의 차이는 0이 아니다."
   ]
  },
  {
   "cell_type": "markdown",
   "metadata": {},
   "source": [
    "#### 4-2 소수점 2자리 반올림하여 95% 신뢰구간을 구하라. 연구가설 채택여부를 결정하고, 신뢰구간이 연구가설 채택에 어떤 역할을 하는지 설명하라."
   ]
  },
  {
   "cell_type": "code",
   "execution_count": 3,
   "metadata": {},
   "outputs": [
    {
     "name": "stdout",
     "output_type": "stream",
     "text": [
      "[추정]\n",
      "점 추정량 : 6.307638888888917\n",
      "구간 추정량 : -1.775394926455256 14.39067270423309\n",
      "오차의 한계 : 8.083033815344173\n",
      "\n",
      "[겅점]\n",
      "임계값 : 1.959963984540054 겅점 통계량 : 1.5294684313008924\n",
      "유의수준 : 0.05 유의확률 : 0.12614835929204604\n",
      "신뢰구간 :  -1.775394926455256 ~ 14.39067270423309 검정하고자 하는 값 0\n",
      "\n",
      "귀무가설 채택 평균 혈압의 차이는 0이다.\n"
     ]
    }
   ],
   "source": [
    "# 이표본 평균 가설검정\n",
    "# 샘플 갯수가 30개가 넘지 않기 때문에 t 분포 사용\n",
    "import numpy as np\n",
    "from scipy.stats import norm\n",
    "\n",
    "x1 = df2[df2['gender'] == 'male']['pressure'].mean()\n",
    "x2 = df2[df2['gender'] == 'female']['pressure'].mean()\n",
    "s1 = df2[df2['gender'] == 'male']['pressure'].std()\n",
    "s2 = df2[df2['gender'] == 'female']['pressure'].std()\n",
    "n1 = df2['gender'].value_counts()['male']\n",
    "n2 = df2['gender'].value_counts()['female']\n",
    "conf_a = 0.05\n",
    "\n",
    "d0 = 0\n",
    "d = x1 - x2\n",
    "se = np.sqrt(s1 ** 2 / n1 + s2 ** 2 / n2)\n",
    "zstat = (x1 - x2 - d0)/se\n",
    "conf_z = norm.ppf(1 - conf_a / 2)\n",
    "me = conf_z * se\n",
    "\n",
    "print('[추정]')\n",
    "print('점 추정량 :', d)\n",
    "print('구간 추정량 :', d-me, d+me)\n",
    "print('오차의 한계 :', me)\n",
    "\n",
    "test_a = 0.05\n",
    "d0 = 0\n",
    "d = x1 - x2\n",
    "df = n1 + n2 - 2\n",
    "se = np.sqrt(s1 ** 2 / n1 + s2 ** 2 / n2)\n",
    "zstat = (x1-x2-d0) / se\n",
    "test_z = norm.ppf(1 - test_a/2)\n",
    "me = test_z * se\n",
    "\n",
    "sp = (1-norm.cdf(np.abs(zstat)))* 2\n",
    "cv = norm.ppf(1-test_a/2)\n",
    "\n",
    "print()\n",
    "print('[겅점]')\n",
    "print('임계값 :', cv, '겅점 통계량 :', zstat)\n",
    "print('유의수준 :', test_a, '유의확률 :', sp)\n",
    "print('신뢰구간 : ', d-me, '~', d+me, '검정하고자 하는 값', d0)\n",
    "print()\n",
    "if sp < test_a:\n",
    "    print('귀무가설 기각 평균 혈압의 차이는 0이 아니다.')\n",
    "else:\n",
    "    print('귀무가설 채택 평균 혈압의 차이는 0이다.')"
   ]
  },
  {
   "cell_type": "code",
   "execution_count": 4,
   "metadata": {},
   "outputs": [
    {
     "data": {
      "text/plain": [
       "1.959963984540054"
      ]
     },
     "execution_count": 4,
     "metadata": {},
     "output_type": "execute_result"
    }
   ],
   "source": [
    "test_z"
   ]
  },
  {
   "cell_type": "markdown",
   "metadata": {},
   "source": [
    "### 5번 아래는 후보A의 선거구별 지지 현황표다. 후보A의 지지율이 선거구별로 차이가 있는지를 검정하라.\n",
    "\n",
    "<img width=\"498\" src=\"https://github.com/Ssunbell/ADP_study/assets/97590480/3b057a61-b1e2-42c7-895d-c3234b866975\">"
   ]
  },
  {
   "cell_type": "markdown",
   "metadata": {},
   "source": [
    "#### 5-1. 귀무가설과 연구가설을 설정하라 "
   ]
  },
  {
   "cell_type": "markdown",
   "metadata": {},
   "source": [
    "H0 : 후보A의 지지율이 선거구별로 차이가 존재하지 않는다.\n",
    "\n",
    "H1 : 후보A의 지지율이 선거구별로 차이가 존재한다."
   ]
  },
  {
   "cell_type": "markdown",
   "metadata": {},
   "source": [
    "#### 5-2. 소수점 2자리 반올림하여 통계량을 구하고 95% 수준에서 연구가설 채택여부를 결정하라."
   ]
  },
  {
   "cell_type": "code",
   "execution_count": 5,
   "metadata": {},
   "outputs": [
    {
     "name": "stdout",
     "output_type": "stream",
     "text": [
      "검정통계량 : 7.945381231671554 p-value : 0.01882272023214683\n",
      "\n",
      "귀무가설 기각 후보A의 지지율이 선거구별로 차이가 존재하지 않는다\n"
     ]
    }
   ],
   "source": [
    "# chi-squre\n",
    "import scipy.stats as stats\n",
    "import numpy as np\n",
    "\n",
    "# 선거구별 후보A의 지지 현황 데이터 (예시)\n",
    "support_districts = np.array([\n",
    "    [176, 193, 159],\n",
    "    [124, 107, 141]\n",
    "])\n",
    "\n",
    "# 카이 스퀘어 검정 수행\n",
    "chi2_stat, p_value, _, _ = stats.chi2_contingency(support_districts)\n",
    "\n",
    "print('검정통계량 :', chi2_stat, 'p-value :', p_value)\n",
    "print()\n",
    "if p_value < 0.05:\n",
    "    print('귀무가설 기각 후보A의 지지율이 선거구별로 차이가 존재하지 않는다')\n",
    "else:\n",
    "    print('귀무가설 채택 후보A의 지지율이 선거구별로 차이가 존재한다.')"
   ]
  },
  {
   "cell_type": "code",
   "execution_count": 8,
   "metadata": {},
   "outputs": [
    {
     "data": {
      "text/plain": [
       "0.01882272023214683"
      ]
     },
     "execution_count": 8,
     "metadata": {},
     "output_type": "execute_result"
    }
   ],
   "source": [
    "chi2_stat, p_value, _, _ = stats.chi2_contingency(support_districts)\n",
    "\n",
    "p_value"
   ]
  },
  {
   "cell_type": "code",
   "execution_count": null,
   "metadata": {},
   "outputs": [],
   "source": []
  },
  {
   "cell_type": "markdown",
   "metadata": {},
   "source": [
    "### 6. 1월 ~9월까지 9개월간의 국제 Silver 가격이 다음과 같다. \n",
    "\n",
    "<img width=\"463\" src=\"https://github.com/Ssunbell/ADP_study/assets/97590480/ebcaf02c-2ef9-47c5-aed1-4514d3e01370\">"
   ]
  },
  {
   "cell_type": "code",
   "execution_count": null,
   "metadata": {},
   "outputs": [],
   "source": []
  },
  {
   "cell_type": "markdown",
   "metadata": {},
   "source": [
    "#### 6-1. 1월 대비 9월의 은값 상승률을 소수점 2자리 반올림하여 구하라 "
   ]
  },
  {
   "cell_type": "code",
   "execution_count": 64,
   "metadata": {},
   "outputs": [
    {
     "name": "stdout",
     "output_type": "stream",
     "text": [
      "158.48 %\n"
     ]
    }
   ],
   "source": [
    "ascent = round(((31.38 - 12.14) / 12.14) * 100, 2)\n",
    "print(ascent, '%')"
   ]
  },
  {
   "cell_type": "markdown",
   "metadata": {},
   "source": [
    "#### 6-2. Silver 가격의 추이를 이동평균(3N)과 함께 나타나도록 시각화하라 "
   ]
  },
  {
   "cell_type": "code",
   "execution_count": 68,
   "metadata": {},
   "outputs": [
    {
     "data": {
      "text/plain": [
       "<AxesSubplot:>"
      ]
     },
     "execution_count": 68,
     "metadata": {},
     "output_type": "execute_result"
    },
    {
     "data": {
      "image/png": "[encoded data removed]",
      "text/plain": [
       "<Figure size 432x288 with 1 Axes>"
      ]
     },
     "metadata": {
      "needs_background": "light"
     },
     "output_type": "display_data"
    }
   ],
   "source": [
    "silver = pd.DataFrame({'USD/oz' : [12.14, 42.6, 34.4, 35.29, 30.96, 57.12, 37.84, 42.49, 31.38]})\n",
    "\n",
    "silver['ma'] = silver.rolling(3).mean()\n",
    "silver.plot()"
   ]
  },
  {
   "cell_type": "markdown",
   "metadata": {},
   "source": [
    "### 7. height(키), weight(몸무게), waist(허리둘레) 컬럼을 가진 problem7.csv파일을 가지고 다음을 분석하라. A시의 20대 남성 411명을 임의로 추출하여 키, 몸무게, 허리둘레를 조사하여 기록한 데이터이다. 이 데이터를 이용하여 20대 남성의 키와 허리둘레가 체중에 영향을 미치는지 알아보고자 한다"
   ]
  },
  {
   "cell_type": "code",
   "execution_count": 1,
   "metadata": {},
   "outputs": [
    {
     "data": {
      "text/html": [
       "<div>\n",
       "<style scoped>\n",
       "    .dataframe tbody tr th:only-of-type {\n",
       "        vertical-align: middle;\n",
       "    }\n",
       "\n",
       "    .dataframe tbody tr th {\n",
       "        vertical-align: top;\n",
       "    }\n",
       "\n",
       "    .dataframe thead th {\n",
       "        text-align: right;\n",
       "    }\n",
       "</style>\n",
       "<table border=\"1\" class=\"dataframe\">\n",
       "  <thead>\n",
       "    <tr style=\"text-align: right;\">\n",
       "      <th></th>\n",
       "      <th>height</th>\n",
       "      <th>weight</th>\n",
       "      <th>waistline</th>\n",
       "    </tr>\n",
       "  </thead>\n",
       "  <tbody>\n",
       "    <tr>\n",
       "      <th>0</th>\n",
       "      <td>174.396</td>\n",
       "      <td>72.102</td>\n",
       "      <td>79.3787</td>\n",
       "    </tr>\n",
       "    <tr>\n",
       "      <th>1</th>\n",
       "      <td>179.656</td>\n",
       "      <td>81.255</td>\n",
       "      <td>80.6649</td>\n",
       "    </tr>\n",
       "    <tr>\n",
       "      <th>2</th>\n",
       "      <td>175.079</td>\n",
       "      <td>76.207</td>\n",
       "      <td>80.3166</td>\n",
       "    </tr>\n",
       "    <tr>\n",
       "      <th>3</th>\n",
       "      <td>180.804</td>\n",
       "      <td>81.354</td>\n",
       "      <td>80.8794</td>\n",
       "    </tr>\n",
       "    <tr>\n",
       "      <th>4</th>\n",
       "      <td>177.448</td>\n",
       "      <td>78.768</td>\n",
       "      <td>80.3499</td>\n",
       "    </tr>\n",
       "    <tr>\n",
       "      <th>...</th>\n",
       "      <td>...</td>\n",
       "      <td>...</td>\n",
       "      <td>...</td>\n",
       "    </tr>\n",
       "    <tr>\n",
       "      <th>406</th>\n",
       "      <td>174.207</td>\n",
       "      <td>73.736</td>\n",
       "      <td>80.1779</td>\n",
       "    </tr>\n",
       "    <tr>\n",
       "      <th>407</th>\n",
       "      <td>174.702</td>\n",
       "      <td>74.529</td>\n",
       "      <td>80.1306</td>\n",
       "    </tr>\n",
       "    <tr>\n",
       "      <th>408</th>\n",
       "      <td>176.858</td>\n",
       "      <td>76.083</td>\n",
       "      <td>80.4527</td>\n",
       "    </tr>\n",
       "    <tr>\n",
       "      <th>409</th>\n",
       "      <td>175.566</td>\n",
       "      <td>76.459</td>\n",
       "      <td>80.2019</td>\n",
       "    </tr>\n",
       "    <tr>\n",
       "      <th>410</th>\n",
       "      <td>177.076</td>\n",
       "      <td>74.667</td>\n",
       "      <td>79.9108</td>\n",
       "    </tr>\n",
       "  </tbody>\n",
       "</table>\n",
       "<p>411 rows × 3 columns</p>\n",
       "</div>"
      ],
      "text/plain": [
       "      height  weight  waistline\n",
       "0    174.396  72.102    79.3787\n",
       "1    179.656  81.255    80.6649\n",
       "2    175.079  76.207    80.3166\n",
       "3    180.804  81.354    80.8794\n",
       "4    177.448  78.768    80.3499\n",
       "..       ...     ...        ...\n",
       "406  174.207  73.736    80.1779\n",
       "407  174.702  74.529    80.1306\n",
       "408  176.858  76.083    80.4527\n",
       "409  175.566  76.459    80.2019\n",
       "410  177.076  74.667    79.9108\n",
       "\n",
       "[411 rows x 3 columns]"
      ]
     },
     "execution_count": 1,
     "metadata": {},
     "output_type": "execute_result"
    }
   ],
   "source": [
    "import ssl\n",
    "import pandas as pd\n",
    "import urllib\n",
    "context = ssl._create_unverified_context()\n",
    "\n",
    "url3 = 'https://raw.githubusercontent.com/Ssunbell/ADP_study/main/9주차_0716/data/problem7.csv'\n",
    "encoded_url3 = urllib.parse.quote(url3, safe=':/')\n",
    "\n",
    "response = urllib.request.urlopen(encoded_url3, context=context)\n",
    "df3 = pd.read_csv(response, encoding='utf-8')\n",
    "df3"
   ]
  },
  {
   "cell_type": "markdown",
   "metadata": {},
   "source": [
    "#### 7-1 아래 조건을 참고하여 회귀계수(반올림하여 소수점 두자리)를 구하시오.\n",
    "- 베이지안 회귀\n",
    "- 시드넘버 1234로 지정\n",
    "- 1000번의 burn-in 이후 10,000의 MCMC를 수행\n",
    "- 회귀계수의 사전분포는 부적절한 균일분포(inproper uniform prior distribution), 오차항의 분산의 사전분포는 역감마 분포로 지정. 이때, 형상(Shape)모수와 척도(Scale)모수는 각각 0.005로 지정."
   ]
  },
  {
   "cell_type": "code",
   "execution_count": null,
   "metadata": {},
   "outputs": [],
   "source": [
    "%pip install pymc3==3.11.5\n",
    "%pip install pyyaml==5.1"
   ]
  },
  {
   "cell_type": "code",
   "execution_count": 12,
   "metadata": {},
   "outputs": [
    {
     "name": "stderr",
     "output_type": "stream",
     "text": [
      "Auto-assigning NUTS sampler...\n",
      "Initializing NUTS using jitter+adapt_diag...\n",
      "Multiprocess sampling (4 chains in 4 jobs)\n",
      "NUTS: [sigma, alpha, beta2, beta1]\n"
     ]
    },
    {
     "data": {
      "text/html": [
       "\n",
       "<style>\n",
       "    /* Turns off some styling */\n",
       "    progress {\n",
       "        /* gets rid of default border in Firefox and Opera. */\n",
       "        border: none;\n",
       "        /* Needs to be in here for Safari polyfill so background images work as expected. */\n",
       "        background-size: auto;\n",
       "    }\n",
       "    progress:not([value]), progress:not([value])::-webkit-progress-bar {\n",
       "        background: repeating-linear-gradient(45deg, #7e7e7e, #7e7e7e 10px, #5c5c5c 10px, #5c5c5c 20px);\n",
       "    }\n",
       "    .progress-bar-interrupted, .progress-bar-interrupted::-webkit-progress-bar {\n",
       "        background: #F44336;\n",
       "    }\n",
       "</style>\n"
      ],
      "text/plain": [
       "<IPython.core.display.HTML object>"
      ]
     },
     "metadata": {},
     "output_type": "display_data"
    },
    {
     "data": {
      "text/html": [
       "\n",
       "    <div>\n",
       "      <progress value='1581' class='' max='48000' style='width:300px; height:20px; vertical-align: middle;'></progress>\n",
       "      3.29% [1581/48000 00:02&lt;01:16 Sampling 4 chains, 0 divergences]\n",
       "    </div>\n",
       "    "
      ],
      "text/plain": [
       "<IPython.core.display.HTML object>"
      ]
     },
     "metadata": {},
     "output_type": "display_data"
    },
    {
     "ename": "RuntimeError",
     "evalue": "Chain 2 failed.",
     "output_type": "error",
     "traceback": [
      "\u001b[0;31m---------------------------------------------------------------------------\u001b[0m",
      "\u001b[0;31mRemoteTraceback\u001b[0m                           Traceback (most recent call last)",
      "\u001b[0;31mRemoteTraceback\u001b[0m: \n\"\"\"\nTraceback (most recent call last):\n  File \"/Users/yuseonjong/usr/adp/lib/python3.7/site-packages/pymc3/parallel_sampling.py\", line 137, in run\n    self._start_loop()\n  File \"/Users/yuseonjong/usr/adp/lib/python3.7/site-packages/pymc3/parallel_sampling.py\", line 191, in _start_loop\n    point, stats = self._compute_point()\n  File \"/Users/yuseonjong/usr/adp/lib/python3.7/site-packages/pymc3/parallel_sampling.py\", line 216, in _compute_point\n    point, stats = self._step_method.step(self._point)\n  File \"/Users/yuseonjong/usr/adp/lib/python3.7/site-packages/pymc3/step_methods/arraystep.py\", line 276, in step\n    apoint, stats = self.astep(array)\n  File \"/Users/yuseonjong/usr/adp/lib/python3.7/site-packages/pymc3/step_methods/hmc/base_hmc.py\", line 147, in astep\n    self.potential.raise_ok(self._logp_dlogp_func._ordering.vmap)\n  File \"/Users/yuseonjong/usr/adp/lib/python3.7/site-packages/pymc3/step_methods/hmc/quadpotential.py\", line 268, in raise_ok\n    raise ValueError(\"\\n\".join(errmsg))\nValueError: Mass matrix contains zeros on the diagonal. \nThe derivative of RV `alpha`.ravel()[0] is zero.\n\"\"\"",
      "\nThe above exception was the direct cause of the following exception:\n",
      "\u001b[0;31mValueError\u001b[0m                                Traceback (most recent call last)",
      "\u001b[0;32m~/usr/adp/lib/python3.7/site-packages/pymc3/parallel_sampling.py\u001b[0m in \u001b[0;36mrun\u001b[0;34m()\u001b[0m\n\u001b[1;32m    136\u001b[0m             \u001b[0mself\u001b[0m\u001b[0;34m.\u001b[0m\u001b[0m_point\u001b[0m \u001b[0;34m=\u001b[0m \u001b[0mself\u001b[0m\u001b[0;34m.\u001b[0m\u001b[0m_make_numpy_refs\u001b[0m\u001b[0;34m(\u001b[0m\u001b[0;34m)\u001b[0m\u001b[0;34m\u001b[0m\u001b[0;34m\u001b[0m\u001b[0m\n\u001b[0;32m--> 137\u001b[0;31m             \u001b[0mself\u001b[0m\u001b[0;34m.\u001b[0m\u001b[0m_start_loop\u001b[0m\u001b[0;34m(\u001b[0m\u001b[0;34m)\u001b[0m\u001b[0;34m\u001b[0m\u001b[0;34m\u001b[0m\u001b[0m\n\u001b[0m\u001b[1;32m    138\u001b[0m         \u001b[0;32mexcept\u001b[0m \u001b[0mKeyboardInterrupt\u001b[0m\u001b[0;34m:\u001b[0m\u001b[0;34m\u001b[0m\u001b[0;34m\u001b[0m\u001b[0m\n",
      "\u001b[0;32m~/usr/adp/lib/python3.7/site-packages/pymc3/parallel_sampling.py\u001b[0m in \u001b[0;36m_start_loop\u001b[0;34m()\u001b[0m\n\u001b[1;32m    190\u001b[0m                 \u001b[0;32mtry\u001b[0m\u001b[0;34m:\u001b[0m\u001b[0;34m\u001b[0m\u001b[0;34m\u001b[0m\u001b[0m\n\u001b[0;32m--> 191\u001b[0;31m                     \u001b[0mpoint\u001b[0m\u001b[0;34m,\u001b[0m \u001b[0mstats\u001b[0m \u001b[0;34m=\u001b[0m \u001b[0mself\u001b[0m\u001b[0;34m.\u001b[0m\u001b[0m_compute_point\u001b[0m\u001b[0;34m(\u001b[0m\u001b[0;34m)\u001b[0m\u001b[0;34m\u001b[0m\u001b[0;34m\u001b[0m\u001b[0m\n\u001b[0m\u001b[1;32m    192\u001b[0m                 \u001b[0;32mexcept\u001b[0m \u001b[0mSamplingError\u001b[0m \u001b[0;32mas\u001b[0m \u001b[0me\u001b[0m\u001b[0;34m:\u001b[0m\u001b[0;34m\u001b[0m\u001b[0;34m\u001b[0m\u001b[0m\n",
      "\u001b[0;32m~/usr/adp/lib/python3.7/site-packages/pymc3/parallel_sampling.py\u001b[0m in \u001b[0;36m_compute_point\u001b[0;34m()\u001b[0m\n\u001b[1;32m    215\u001b[0m         \u001b[0;32mif\u001b[0m \u001b[0mself\u001b[0m\u001b[0;34m.\u001b[0m\u001b[0m_step_method\u001b[0m\u001b[0;34m.\u001b[0m\u001b[0mgenerates_stats\u001b[0m\u001b[0;34m:\u001b[0m\u001b[0;34m\u001b[0m\u001b[0;34m\u001b[0m\u001b[0m\n\u001b[0;32m--> 216\u001b[0;31m             \u001b[0mpoint\u001b[0m\u001b[0;34m,\u001b[0m \u001b[0mstats\u001b[0m \u001b[0;34m=\u001b[0m \u001b[0mself\u001b[0m\u001b[0;34m.\u001b[0m\u001b[0m_step_method\u001b[0m\u001b[0;34m.\u001b[0m\u001b[0mstep\u001b[0m\u001b[0;34m(\u001b[0m\u001b[0mself\u001b[0m\u001b[0;34m.\u001b[0m\u001b[0m_point\u001b[0m\u001b[0;34m)\u001b[0m\u001b[0;34m\u001b[0m\u001b[0;34m\u001b[0m\u001b[0m\n\u001b[0m\u001b[1;32m    217\u001b[0m         \u001b[0;32melse\u001b[0m\u001b[0;34m:\u001b[0m\u001b[0;34m\u001b[0m\u001b[0;34m\u001b[0m\u001b[0m\n",
      "\u001b[0;32m~/usr/adp/lib/python3.7/site-packages/pymc3/step_methods/arraystep.py\u001b[0m in \u001b[0;36mstep\u001b[0;34m()\u001b[0m\n\u001b[1;32m    275\u001b[0m         \u001b[0;32mif\u001b[0m \u001b[0mself\u001b[0m\u001b[0;34m.\u001b[0m\u001b[0mgenerates_stats\u001b[0m\u001b[0;34m:\u001b[0m\u001b[0;34m\u001b[0m\u001b[0;34m\u001b[0m\u001b[0m\n\u001b[0;32m--> 276\u001b[0;31m             \u001b[0mapoint\u001b[0m\u001b[0;34m,\u001b[0m \u001b[0mstats\u001b[0m \u001b[0;34m=\u001b[0m \u001b[0mself\u001b[0m\u001b[0;34m.\u001b[0m\u001b[0mastep\u001b[0m\u001b[0;34m(\u001b[0m\u001b[0marray\u001b[0m\u001b[0;34m)\u001b[0m\u001b[0;34m\u001b[0m\u001b[0;34m\u001b[0m\u001b[0m\n\u001b[0m\u001b[1;32m    277\u001b[0m             \u001b[0mpoint\u001b[0m \u001b[0;34m=\u001b[0m \u001b[0mself\u001b[0m\u001b[0;34m.\u001b[0m\u001b[0m_logp_dlogp_func\u001b[0m\u001b[0;34m.\u001b[0m\u001b[0marray_to_full_dict\u001b[0m\u001b[0;34m(\u001b[0m\u001b[0mapoint\u001b[0m\u001b[0;34m)\u001b[0m\u001b[0;34m\u001b[0m\u001b[0;34m\u001b[0m\u001b[0m\n",
      "\u001b[0;32m~/usr/adp/lib/python3.7/site-packages/pymc3/step_methods/hmc/base_hmc.py\u001b[0m in \u001b[0;36mastep\u001b[0;34m()\u001b[0m\n\u001b[1;32m    146\u001b[0m             ]\n\u001b[0;32m--> 147\u001b[0;31m             \u001b[0mself\u001b[0m\u001b[0;34m.\u001b[0m\u001b[0mpotential\u001b[0m\u001b[0;34m.\u001b[0m\u001b[0mraise_ok\u001b[0m\u001b[0;34m(\u001b[0m\u001b[0mself\u001b[0m\u001b[0;34m.\u001b[0m\u001b[0m_logp_dlogp_func\u001b[0m\u001b[0;34m.\u001b[0m\u001b[0m_ordering\u001b[0m\u001b[0;34m.\u001b[0m\u001b[0mvmap\u001b[0m\u001b[0;34m)\u001b[0m\u001b[0;34m\u001b[0m\u001b[0;34m\u001b[0m\u001b[0m\n\u001b[0m\u001b[1;32m    148\u001b[0m             message_energy = (\n",
      "\u001b[0;32m~/usr/adp/lib/python3.7/site-packages/pymc3/step_methods/hmc/quadpotential.py\u001b[0m in \u001b[0;36mraise_ok\u001b[0;34m()\u001b[0m\n\u001b[1;32m    267\u001b[0m                 )\n\u001b[0;32m--> 268\u001b[0;31m             \u001b[0;32mraise\u001b[0m \u001b[0mValueError\u001b[0m\u001b[0;34m(\u001b[0m\u001b[0;34m\"\\n\"\u001b[0m\u001b[0;34m.\u001b[0m\u001b[0mjoin\u001b[0m\u001b[0;34m(\u001b[0m\u001b[0merrmsg\u001b[0m\u001b[0;34m)\u001b[0m\u001b[0;34m)\u001b[0m\u001b[0;34m\u001b[0m\u001b[0;34m\u001b[0m\u001b[0m\n\u001b[0m\u001b[1;32m    269\u001b[0m \u001b[0;34m\u001b[0m\u001b[0m\n",
      "\u001b[0;31mValueError\u001b[0m: Mass matrix contains zeros on the diagonal. \nThe derivative of RV `alpha`.ravel()[0] is zero.",
      "\nThe above exception was the direct cause of the following exception:\n",
      "\u001b[0;31mRuntimeError\u001b[0m                              Traceback (most recent call last)",
      "\u001b[0;32m<ipython-input-12-a3f675e57ac7>\u001b[0m in \u001b[0;36m<module>\u001b[0;34m\u001b[0m\n\u001b[1;32m     25\u001b[0m \u001b[0;31m# Perform the sampling\u001b[0m\u001b[0;34m\u001b[0m\u001b[0;34m\u001b[0m\u001b[0;34m\u001b[0m\u001b[0m\n\u001b[1;32m     26\u001b[0m \u001b[0;32mwith\u001b[0m \u001b[0mmodel\u001b[0m\u001b[0;34m:\u001b[0m\u001b[0;34m\u001b[0m\u001b[0;34m\u001b[0m\u001b[0m\n\u001b[0;32m---> 27\u001b[0;31m     \u001b[0mtrace\u001b[0m \u001b[0;34m=\u001b[0m \u001b[0mpm\u001b[0m\u001b[0;34m.\u001b[0m\u001b[0msample\u001b[0m\u001b[0;34m(\u001b[0m\u001b[0;36m11000\u001b[0m\u001b[0;34m,\u001b[0m \u001b[0mtune\u001b[0m\u001b[0;34m=\u001b[0m\u001b[0;36m1000\u001b[0m\u001b[0;34m,\u001b[0m \u001b[0mreturn_inferencedata\u001b[0m\u001b[0;34m=\u001b[0m\u001b[0;32mTrue\u001b[0m\u001b[0;34m,\u001b[0m \u001b[0minit\u001b[0m\u001b[0;34m=\u001b[0m\u001b[0;34m'auto'\u001b[0m\u001b[0;34m)\u001b[0m\u001b[0;34m\u001b[0m\u001b[0;34m\u001b[0m\u001b[0m\n\u001b[0m\u001b[1;32m     28\u001b[0m \u001b[0;34m\u001b[0m\u001b[0m\n\u001b[1;32m     29\u001b[0m \u001b[0;31m# Discard the initial 1000 samples (burn-in)\u001b[0m\u001b[0;34m\u001b[0m\u001b[0;34m\u001b[0m\u001b[0;34m\u001b[0m\u001b[0m\n",
      "\u001b[0;32m~/usr/adp/lib/python3.7/site-packages/deprecat/classic.py\u001b[0m in \u001b[0;36mwrapper_function\u001b[0;34m(wrapped_, instance_, args_, kwargs_)\u001b[0m\n\u001b[1;32m    213\u001b[0m                         \u001b[0;32melse\u001b[0m\u001b[0;34m:\u001b[0m\u001b[0;34m\u001b[0m\u001b[0;34m\u001b[0m\u001b[0m\n\u001b[1;32m    214\u001b[0m                             \u001b[0mwarnings\u001b[0m\u001b[0;34m.\u001b[0m\u001b[0mwarn\u001b[0m\u001b[0;34m(\u001b[0m\u001b[0mmessage\u001b[0m\u001b[0;34m,\u001b[0m \u001b[0mcategory\u001b[0m\u001b[0;34m=\u001b[0m\u001b[0mcategory\u001b[0m\u001b[0;34m,\u001b[0m \u001b[0mstacklevel\u001b[0m\u001b[0;34m=\u001b[0m\u001b[0m_routine_stacklevel\u001b[0m\u001b[0;34m)\u001b[0m\u001b[0;34m\u001b[0m\u001b[0;34m\u001b[0m\u001b[0m\n\u001b[0;32m--> 215\u001b[0;31m                 \u001b[0;32mreturn\u001b[0m \u001b[0mwrapped_\u001b[0m\u001b[0;34m(\u001b[0m\u001b[0;34m*\u001b[0m\u001b[0margs_\u001b[0m\u001b[0;34m,\u001b[0m \u001b[0;34m**\u001b[0m\u001b[0mkwargs_\u001b[0m\u001b[0;34m)\u001b[0m\u001b[0;34m\u001b[0m\u001b[0;34m\u001b[0m\u001b[0m\n\u001b[0m\u001b[1;32m    216\u001b[0m \u001b[0;34m\u001b[0m\u001b[0m\n\u001b[1;32m    217\u001b[0m             \u001b[0;32mreturn\u001b[0m \u001b[0mwrapper_function\u001b[0m\u001b[0;34m(\u001b[0m\u001b[0mwrapped\u001b[0m\u001b[0;34m)\u001b[0m\u001b[0;34m\u001b[0m\u001b[0;34m\u001b[0m\u001b[0m\n",
      "\u001b[0;32m~/usr/adp/lib/python3.7/site-packages/pymc3/sampling.py\u001b[0m in \u001b[0;36msample\u001b[0;34m(draws, step, init, n_init, initvals, trace, chain_idx, chains, cores, tune, progressbar, model, random_seed, discard_tuned_samples, compute_convergence_checks, callback, jitter_max_retries, start, return_inferencedata, idata_kwargs, mp_ctx, pickle_backend, **kwargs)\u001b[0m\n\u001b[1;32m    573\u001b[0m         \u001b[0m_print_step_hierarchy\u001b[0m\u001b[0;34m(\u001b[0m\u001b[0mstep\u001b[0m\u001b[0;34m)\u001b[0m\u001b[0;34m\u001b[0m\u001b[0;34m\u001b[0m\u001b[0m\n\u001b[1;32m    574\u001b[0m         \u001b[0;32mtry\u001b[0m\u001b[0;34m:\u001b[0m\u001b[0;34m\u001b[0m\u001b[0;34m\u001b[0m\u001b[0m\n\u001b[0;32m--> 575\u001b[0;31m             \u001b[0mtrace\u001b[0m \u001b[0;34m=\u001b[0m \u001b[0m_mp_sample\u001b[0m\u001b[0;34m(\u001b[0m\u001b[0;34m**\u001b[0m\u001b[0msample_args\u001b[0m\u001b[0;34m,\u001b[0m \u001b[0;34m**\u001b[0m\u001b[0mparallel_args\u001b[0m\u001b[0;34m)\u001b[0m\u001b[0;34m\u001b[0m\u001b[0;34m\u001b[0m\u001b[0m\n\u001b[0m\u001b[1;32m    576\u001b[0m         \u001b[0;32mexcept\u001b[0m \u001b[0mpickle\u001b[0m\u001b[0;34m.\u001b[0m\u001b[0mPickleError\u001b[0m\u001b[0;34m:\u001b[0m\u001b[0;34m\u001b[0m\u001b[0;34m\u001b[0m\u001b[0m\n\u001b[1;32m    577\u001b[0m             \u001b[0m_log\u001b[0m\u001b[0;34m.\u001b[0m\u001b[0mwarning\u001b[0m\u001b[0;34m(\u001b[0m\u001b[0;34m\"Could not pickle model, sampling singlethreaded.\"\u001b[0m\u001b[0;34m)\u001b[0m\u001b[0;34m\u001b[0m\u001b[0;34m\u001b[0m\u001b[0m\n",
      "\u001b[0;32m~/usr/adp/lib/python3.7/site-packages/pymc3/sampling.py\u001b[0m in \u001b[0;36m_mp_sample\u001b[0;34m(draws, tune, step, chains, cores, chain, random_seed, start, progressbar, trace, model, callback, discard_tuned_samples, mp_ctx, pickle_backend, **kwargs)\u001b[0m\n\u001b[1;32m   1494\u001b[0m         \u001b[0;32mtry\u001b[0m\u001b[0;34m:\u001b[0m\u001b[0;34m\u001b[0m\u001b[0;34m\u001b[0m\u001b[0m\n\u001b[1;32m   1495\u001b[0m             \u001b[0;32mwith\u001b[0m \u001b[0msampler\u001b[0m\u001b[0;34m:\u001b[0m\u001b[0;34m\u001b[0m\u001b[0;34m\u001b[0m\u001b[0m\n\u001b[0;32m-> 1496\u001b[0;31m                 \u001b[0;32mfor\u001b[0m \u001b[0mdraw\u001b[0m \u001b[0;32min\u001b[0m \u001b[0msampler\u001b[0m\u001b[0;34m:\u001b[0m\u001b[0;34m\u001b[0m\u001b[0;34m\u001b[0m\u001b[0m\n\u001b[0m\u001b[1;32m   1497\u001b[0m                     \u001b[0mtrace\u001b[0m \u001b[0;34m=\u001b[0m \u001b[0mtraces\u001b[0m\u001b[0;34m[\u001b[0m\u001b[0mdraw\u001b[0m\u001b[0;34m.\u001b[0m\u001b[0mchain\u001b[0m \u001b[0;34m-\u001b[0m \u001b[0mchain\u001b[0m\u001b[0;34m]\u001b[0m\u001b[0;34m\u001b[0m\u001b[0;34m\u001b[0m\u001b[0m\n\u001b[1;32m   1498\u001b[0m                     \u001b[0;32mif\u001b[0m \u001b[0mtrace\u001b[0m\u001b[0;34m.\u001b[0m\u001b[0msupports_sampler_stats\u001b[0m \u001b[0;32mand\u001b[0m \u001b[0mdraw\u001b[0m\u001b[0;34m.\u001b[0m\u001b[0mstats\u001b[0m \u001b[0;32mis\u001b[0m \u001b[0;32mnot\u001b[0m \u001b[0;32mNone\u001b[0m\u001b[0;34m:\u001b[0m\u001b[0;34m\u001b[0m\u001b[0;34m\u001b[0m\u001b[0m\n",
      "\u001b[0;32m~/usr/adp/lib/python3.7/site-packages/pymc3/parallel_sampling.py\u001b[0m in \u001b[0;36m__iter__\u001b[0;34m(self)\u001b[0m\n\u001b[1;32m    477\u001b[0m \u001b[0;34m\u001b[0m\u001b[0m\n\u001b[1;32m    478\u001b[0m         \u001b[0;32mwhile\u001b[0m \u001b[0mself\u001b[0m\u001b[0;34m.\u001b[0m\u001b[0m_active\u001b[0m\u001b[0;34m:\u001b[0m\u001b[0;34m\u001b[0m\u001b[0;34m\u001b[0m\u001b[0m\n\u001b[0;32m--> 479\u001b[0;31m             \u001b[0mdraw\u001b[0m \u001b[0;34m=\u001b[0m \u001b[0mProcessAdapter\u001b[0m\u001b[0;34m.\u001b[0m\u001b[0mrecv_draw\u001b[0m\u001b[0;34m(\u001b[0m\u001b[0mself\u001b[0m\u001b[0;34m.\u001b[0m\u001b[0m_active\u001b[0m\u001b[0;34m)\u001b[0m\u001b[0;34m\u001b[0m\u001b[0;34m\u001b[0m\u001b[0m\n\u001b[0m\u001b[1;32m    480\u001b[0m             \u001b[0mproc\u001b[0m\u001b[0;34m,\u001b[0m \u001b[0mis_last\u001b[0m\u001b[0;34m,\u001b[0m \u001b[0mdraw\u001b[0m\u001b[0;34m,\u001b[0m \u001b[0mtuning\u001b[0m\u001b[0;34m,\u001b[0m \u001b[0mstats\u001b[0m\u001b[0;34m,\u001b[0m \u001b[0mwarns\u001b[0m \u001b[0;34m=\u001b[0m \u001b[0mdraw\u001b[0m\u001b[0;34m\u001b[0m\u001b[0;34m\u001b[0m\u001b[0m\n\u001b[1;32m    481\u001b[0m             \u001b[0mself\u001b[0m\u001b[0;34m.\u001b[0m\u001b[0m_total_draws\u001b[0m \u001b[0;34m+=\u001b[0m \u001b[0;36m1\u001b[0m\u001b[0;34m\u001b[0m\u001b[0;34m\u001b[0m\u001b[0m\n",
      "\u001b[0;32m~/usr/adp/lib/python3.7/site-packages/pymc3/parallel_sampling.py\u001b[0m in \u001b[0;36mrecv_draw\u001b[0;34m(processes, timeout)\u001b[0m\n\u001b[1;32m    357\u001b[0m             \u001b[0;32melse\u001b[0m\u001b[0;34m:\u001b[0m\u001b[0;34m\u001b[0m\u001b[0;34m\u001b[0m\u001b[0m\n\u001b[1;32m    358\u001b[0m                 \u001b[0merror\u001b[0m \u001b[0;34m=\u001b[0m \u001b[0mRuntimeError\u001b[0m\u001b[0;34m(\u001b[0m\u001b[0;34m\"Chain %s failed.\"\u001b[0m \u001b[0;34m%\u001b[0m \u001b[0mproc\u001b[0m\u001b[0;34m.\u001b[0m\u001b[0mchain\u001b[0m\u001b[0;34m)\u001b[0m\u001b[0;34m\u001b[0m\u001b[0;34m\u001b[0m\u001b[0m\n\u001b[0;32m--> 359\u001b[0;31m             \u001b[0;32mraise\u001b[0m \u001b[0merror\u001b[0m \u001b[0;32mfrom\u001b[0m \u001b[0mold_error\u001b[0m\u001b[0;34m\u001b[0m\u001b[0;34m\u001b[0m\u001b[0m\n\u001b[0m\u001b[1;32m    360\u001b[0m         \u001b[0;32melif\u001b[0m \u001b[0mmsg\u001b[0m\u001b[0;34m[\u001b[0m\u001b[0;36m0\u001b[0m\u001b[0;34m]\u001b[0m \u001b[0;34m==\u001b[0m \u001b[0;34m\"writing_done\"\u001b[0m\u001b[0;34m:\u001b[0m\u001b[0;34m\u001b[0m\u001b[0;34m\u001b[0m\u001b[0m\n\u001b[1;32m    361\u001b[0m             \u001b[0mproc\u001b[0m\u001b[0;34m.\u001b[0m\u001b[0m_readable\u001b[0m \u001b[0;34m=\u001b[0m \u001b[0;32mTrue\u001b[0m\u001b[0;34m\u001b[0m\u001b[0;34m\u001b[0m\u001b[0m\n",
      "\u001b[0;31mRuntimeError\u001b[0m: Chain 2 failed."
     ]
    }
   ],
   "source": [
    "import pymc3 as pm\n",
    "import numpy as np\n",
    "\n",
    "SEED = 1234\n",
    "np.random.seed(SEED)\n",
    "\n",
    "X1 = df3['height'].to_numpy()\n",
    "X2 = df3['waistline'].to_numpy()\n",
    "Y = df3['weight'].to_numpy()\n",
    "# Define the model\n",
    "model = pm.Model()\n",
    "with model:\n",
    "    # Priors for unknown model parametersㄱ\n",
    "    beta1 = pm.Flat('beta1', testval=0) # an improper prior for X1\n",
    "    beta2 = pm.Flat('beta2', testval=0) # an improper prior for X2\n",
    "    alpha = pm.Flat('alpha', testval=0) # an improper prior for constant\n",
    "    sigma = pm.InverseGamma('sigma', alpha=0.005, beta=0.005)\n",
    "\n",
    "    # Expected value of outcome\n",
    "    mu = alpha + beta1*X1 + beta2*X2\n",
    "\n",
    "    # Likelihood (sampling distribution) of observations\n",
    "    Y_obs = pm.Normal('Y_obs', mu=mu, sd=sigma, observed=Y)\n",
    "\n",
    "# Perform the sampling\n",
    "with model:\n",
    "    trace = pm.sample(11000, tune=1000, return_inferencedata=True, init='auto')\n",
    "\n",
    "# Discard the initial 1000 samples (burn-in)\n",
    "burned_trace = trace[1000:]"
   ]
  },
  {
   "cell_type": "code",
   "execution_count": null,
   "metadata": {},
   "outputs": [],
   "source": [
    "alpha_samples = burned_trace['alpha']\n",
    "beta1_samples = burned_trace['beta1']\n",
    "beta2_samples = burned_trace['beta2']\n",
    "\n",
    "# Compute mean for each parameter\n",
    "alpha_est = np.mean(alpha_samples)\n",
    "beta1_est = np.mean(beta1_samples)\n",
    "beta2_est = np.mean(beta2_samples)\n",
    "\n",
    "print(f'Intercept (alpha): {alpha_est}')\n",
    "print(f'Coefficient for height (beta1): {beta1_est}')\n",
    "print(f'Coefficient for waist (beta2): {beta2_est}')"
   ]
  },
  {
   "cell_type": "markdown",
   "metadata": {},
   "source": [
    "#### 7-2  7-1에서 만든 모델을 바탕으로 키 180cm, 허리둘레 85cm인 남성의 몸무게를 추정하라"
   ]
  },
  {
   "cell_type": "code",
   "execution_count": null,
   "metadata": {},
   "outputs": [],
   "source": [
    "predicted_weight = alpha_est + beta1_est * 180 + beta2_est * 85\n",
    "print(predicted_weight)"
   ]
  }
 ],
 "metadata": {
  "kernelspec": {
   "display_name": "Python 3",
   "language": "python",
   "name": "python3"
  },
  "language_info": {
   "codemirror_mode": {
    "name": "ipython",
    "version": 3
   },
   "file_extension": ".py",
   "mimetype": "text/x-python",
   "name": "python",
   "nbconvert_exporter": "python",
   "pygments_lexer": "ipython3",
   "version": "3.7.3"
  }
 },
 "nbformat": 4,
 "nbformat_minor": 2
}
