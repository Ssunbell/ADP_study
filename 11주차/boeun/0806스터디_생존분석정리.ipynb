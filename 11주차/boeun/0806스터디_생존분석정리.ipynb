{
 "cells": [
  {
   "cell_type": "markdown",
   "metadata": {},
   "source": [
    "1. 생존분석이란?\n",
    " - 생명체 관찰시작 ~ 사망 에 이르는 생존시간을 추정하는 방법(임상실험 사용, IT업계 - 서비스고객의 이탈확률 구할때 사용됨)\n",
    " - 시간(time) : 생존분석 시행시 주로 시간 경과에 따른 위험도나 생존도 구하는데 독립변수로 시간을 둠. 상대적시간이며, 분석하고자하는 대상을 관찰하기 시작한 시점부터 0으로 카운트 됨\n",
    " - 사건(event) : 생존의 반대인 이탈, 죽음 을 가리키며, 생존분석으로 분석하려는 대상이 되어 시간과 함께 종속관계 맺음, 사건은 한번만 일어나며 0/1 구분\n",
    " - 중도절단(censoring / censored)\n",
    " - 1) 우측중도절단(right censored) : 연구 종료전 기타 이유로 사망하거나 연구가 만료된 경우\n",
    " - 2) 좌측중도절단(left censcored) : 연구시작전 위험군에 있었던 특정시점을 모르는경우(연구시작전 질환보유), 측정한 생존시간보다 실제 생존시간이 더 길어짐\n",
    "\n",
    " - 생존함수(survival function) : 어떤 관찰 대상이 특정 기준 시간보다 더 늦게 사건이 발생하거나 일어나지 않을 확률을 계산하는 함수\n",
    " - 위험함수(hazard function) : 특정기간 t에 대상에 사건이 발생할 확률. t전 시간까지는 사건이 발생해서는 안됨(즉 모든개체에 대한 사건이 아니라 시간 t까지 살아있는 개체들에 대한 위험율)\n",
    " - 누적위험함수(cumulative hazard function) : 0에서 t시간 사이의 위험함수를 적분한 값이며, t시점까지 사건이 발생할 확률을 모두 더한 것과 같음\n",
    "\n",
    "\n",
    "2. Kaplan - Meier 추정법(KM)\n",
    " - 생존분석에서 단변량 : 시간변화에 따라 하나의 종속변수가 생존에서 나타나는 것을 말함. 여기에 회귀분석이 더해져서 단순선형회귀분석으로 사용되며 대표적방법=kaplan-meier 추정법\n",
    " - 관찰 시간에 따라 사건이 발생한 시점의 사건 발생률을 계산하는 생존 분석 방법 = survival plot 으로 제시됨\n",
    " - 관찰시간이 짧을때부터 긴 순서로 나열 후 각 사건이 발생한 시점에서의 사건이 일어날 확률을 계산하는 비모수적 방법.\n",
    " - 각 시점마다 구간 생존율을 구하여 이들을 누적시킴으로써 생성된 eCDF(empirical cumaulative density function)을 사용하여 누적 생존확률 추정. 표본수 적을때도 충분히 사용가능하여 많이 사용됨\n",
    " - 카플란 마이어 이용한 생존분석은 생존곡선들 간의 차이 비교, 검정, 중앙값이나 평균 생존 기간의 차이 판별에 사용\n",
    " - 중도절단 데이터도 생존분석에서는 추정시 포함하여 분석.(추정치 편향, 낮게 측정 방지)----> 추정을통해 생존곡선 만들수있고 사건발생시간(x), 추정된 생존확률(y), 보통 하향곡선, 생존 곡선 두개 있을 때 곡선 비교 임상에서 중요함--> 이를 통해 통계적 유의성 검정하기 위한 차이 정량화 방법: 로그순위법(or 윌콕슨 검정)\n",
    "\n",
    "\n",
    "3. 로그순위법 \n",
    " - H0 : 비교 대상간의 생존곡선에 큰 차이가 없다\n",
    " - 실제 관측값 개수와 사건이 일어날 법한 수를 각 그룹별 사건 발생시간의 카이 제곱을 계산하여 비교, 결과를 합산하는 방법. 위험비 구하는 것도 곡선 비교 도움됨. but 위험비는 로그순위법을 사용하기 위해 조정해야 할 제약 조건 중 하나인데, 실험기간동안 위험비는 항상 일정해야 함\n",
    " ---> 이 조건을 '비례위험가정(proportional hazard assumption)이라고 함\n",
    "\n",
    "\n",
    "4. 콕스 비례위험모형\n",
    " - 시간과 사건사이의 예측 회귀 모형을 만드는 통계법(ex 흡연여부/몸무게와 같은 관측치와 사망(사건) 사이의 관계를 정립하기 위해 사용됨), 카플란 마이어 분석은 타겟하는 특성외에 다른 요인들을 통제할 수 없다는 점에서 한계가 있어 cox 비례위험모형 사용\n",
    " - 다양한 관측치 동시에 통제, 사건 발생에 미치는 영향을 분석하는 다변량 분석법,\n",
    " - 관측치는 서로 독립적, Hazzard ratio(위험비)는 시간에 관계없이 일정하다는 비례위험가정이 필요 (HR>1 : 사망 위험 증가, HR<1 : 사망 위험 감소)"
   ]
  },
  {
   "cell_type": "markdown",
   "metadata": {},
   "source": [
    "## 28회 ADP 실기 후기 생존분석 문제\n",
    "4-1. 시간별/제조사별 불량률 데이터로 생존분석하여 25, 30, 35개월 후 불량룰 계산\n",
    "lifelines.KaplanMeierFitter\n",
    "\n",
    "4-2. 로그 순위법으로 제조사별 차이 검정\n",
    "lifelines.statistics.logrank_test"
   ]
  },
  {
   "cell_type": "code",
   "execution_count": 11,
   "metadata": {},
   "outputs": [
    {
     "name": "stdout",
     "output_type": "stream",
     "text": [
      "Requirement already satisfied: setuptools in c:\\programdata\\anaconda3\\lib\\site-packages (68.0.0)\n",
      "Note: you may need to restart the kernel to use updated packages.\n"
     ]
    }
   ],
   "source": [
    "## 패키지 다운로드\n",
    "!python -m pip install --upgrade pip\n",
    "!pip install --upgrade importlib-metadata\n",
    "!pip install --upgrade setuptools\n",
    "# pip install setuptools --no-dependencies # 위의 코드 실행했을때 오류나면 실행하기\n",
    "!pip install lifelines"
   ]
  },
  {
   "cell_type": "markdown",
   "metadata": {},
   "source": [
    "### 해당 샘플데이터 목적 : 환자가 죽기 전날까지의 일수를 알고자 함"
   ]
  },
  {
   "cell_type": "code",
   "execution_count": 16,
   "metadata": {},
   "outputs": [],
   "source": [
    "import numpy as np\n",
    "import pandas as pd\n",
    "from lifelines import KaplanMeierFitter\n",
    "import matplotlib.pyplot as plt\n",
    "\n",
    "# 출처 : https://kdj1018.tistory.com/entry/%EC%83%9D%EC%A1%B4%EB%B6%84%EC%84%9D\n",
    "df = pd.read_csv(\"C:/Users/LG/Desktop/NCCTG_Lung_Cancer_Data_535_29.csv\", index_col = 0)"
   ]
  },
  {
   "cell_type": "code",
   "execution_count": 64,
   "metadata": {},
   "outputs": [
    {
     "name": "stdout",
     "output_type": "stream",
     "text": [
      "<class 'pandas.core.frame.DataFrame'>\n",
      "Int64Index: 167 entries, 2 to 228\n",
      "Data columns (total 10 columns):\n",
      " #   Column     Non-Null Count  Dtype\n",
      "---  ------     --------------  -----\n",
      " 0   inst       167 non-null    int64\n",
      " 1   time       167 non-null    int64\n",
      " 2   status     167 non-null    int64\n",
      " 3   age        167 non-null    int64\n",
      " 4   sex        167 non-null    int64\n",
      " 5   ph.ecog    167 non-null    int64\n",
      " 6   ph.karno   167 non-null    int64\n",
      " 7   pat.karno  167 non-null    int64\n",
      " 8   meal.cal   167 non-null    int64\n",
      " 9   wt.loss    167 non-null    int64\n",
      "dtypes: int64(10)\n",
      "memory usage: 14.4 KB\n"
     ]
    }
   ],
   "source": [
    "df.drop(df.columns[0], axis=1, inplace=True)\n",
    "df.info()"
   ]
  },
  {
   "cell_type": "code",
   "execution_count": 36,
   "metadata": {},
   "outputs": [
    {
     "data": {
      "text/plain": [
       "time         0\n",
       "status       0\n",
       "age          0\n",
       "sex          0\n",
       "ph.ecog      0\n",
       "ph.karno     0\n",
       "pat.karno    0\n",
       "meal.cal     0\n",
       "wt.loss      0\n",
       "dtype: int64"
      ]
     },
     "execution_count": 36,
     "metadata": {},
     "output_type": "execute_result"
    }
   ],
   "source": [
    "## data missing check\n",
    "df.isnull().sum()\n",
    "\n",
    "## 결측치 있는 경우 채우기 \n",
    "# data[\"ph.karno\"].fillna(data[\"ph.karno\"].mean(), inplace = True)\n",
    "# data[\"pat.karno\"].fillna(data[\"pat.karno\"].mean(), inplace = True)\n",
    "# data[\"meal.cal\"].fillna(data[\"meal.cal\"].mean(), inplace = True)\n",
    "# data[\"wt.loss\"].fillna(data[\"wt.loss\"].mean(), inplace = True)\n",
    "# data.dropna(inplace=True)\n",
    "# data[\"ph.ecog\"] = data[\"ph.ecog\"].astype(\"int64\")"
   ]
  },
  {
   "cell_type": "code",
   "execution_count": 69,
   "metadata": {},
   "outputs": [
    {
     "data": {
      "text/html": [
       "<div>\n",
       "<style scoped>\n",
       "    .dataframe tbody tr th:only-of-type {\n",
       "        vertical-align: middle;\n",
       "    }\n",
       "\n",
       "    .dataframe tbody tr th {\n",
       "        vertical-align: top;\n",
       "    }\n",
       "\n",
       "    .dataframe thead th {\n",
       "        text-align: right;\n",
       "    }\n",
       "</style>\n",
       "<table border=\"1\" class=\"dataframe\">\n",
       "  <thead>\n",
       "    <tr style=\"text-align: right;\">\n",
       "      <th></th>\n",
       "      <th>inst</th>\n",
       "      <th>time</th>\n",
       "      <th>status</th>\n",
       "      <th>age</th>\n",
       "      <th>sex</th>\n",
       "      <th>ph.ecog</th>\n",
       "      <th>ph.karno</th>\n",
       "      <th>pat.karno</th>\n",
       "      <th>meal.cal</th>\n",
       "      <th>wt.loss</th>\n",
       "      <th>dead</th>\n",
       "    </tr>\n",
       "  </thead>\n",
       "  <tbody>\n",
       "    <tr>\n",
       "      <th>57</th>\n",
       "      <td>5</td>\n",
       "      <td>5</td>\n",
       "      <td>2</td>\n",
       "      <td>65</td>\n",
       "      <td>2</td>\n",
       "      <td>0</td>\n",
       "      <td>100</td>\n",
       "      <td>80</td>\n",
       "      <td>338</td>\n",
       "      <td>5</td>\n",
       "      <td>1.0</td>\n",
       "    </tr>\n",
       "    <tr>\n",
       "      <th>73</th>\n",
       "      <td>5</td>\n",
       "      <td>11</td>\n",
       "      <td>2</td>\n",
       "      <td>74</td>\n",
       "      <td>1</td>\n",
       "      <td>2</td>\n",
       "      <td>70</td>\n",
       "      <td>100</td>\n",
       "      <td>1175</td>\n",
       "      <td>0</td>\n",
       "      <td>1.0</td>\n",
       "    </tr>\n",
       "    <tr>\n",
       "      <th>30</th>\n",
       "      <td>1</td>\n",
       "      <td>12</td>\n",
       "      <td>2</td>\n",
       "      <td>74</td>\n",
       "      <td>1</td>\n",
       "      <td>2</td>\n",
       "      <td>70</td>\n",
       "      <td>50</td>\n",
       "      <td>305</td>\n",
       "      <td>20</td>\n",
       "      <td>1.0</td>\n",
       "    </tr>\n",
       "    <tr>\n",
       "      <th>116</th>\n",
       "      <td>1</td>\n",
       "      <td>13</td>\n",
       "      <td>2</td>\n",
       "      <td>76</td>\n",
       "      <td>1</td>\n",
       "      <td>2</td>\n",
       "      <td>70</td>\n",
       "      <td>70</td>\n",
       "      <td>413</td>\n",
       "      <td>20</td>\n",
       "      <td>1.0</td>\n",
       "    </tr>\n",
       "    <tr>\n",
       "      <th>111</th>\n",
       "      <td>13</td>\n",
       "      <td>15</td>\n",
       "      <td>2</td>\n",
       "      <td>69</td>\n",
       "      <td>1</td>\n",
       "      <td>0</td>\n",
       "      <td>90</td>\n",
       "      <td>70</td>\n",
       "      <td>575</td>\n",
       "      <td>10</td>\n",
       "      <td>1.0</td>\n",
       "    </tr>\n",
       "    <tr>\n",
       "      <th>...</th>\n",
       "      <td>...</td>\n",
       "      <td>...</td>\n",
       "      <td>...</td>\n",
       "      <td>...</td>\n",
       "      <td>...</td>\n",
       "      <td>...</td>\n",
       "      <td>...</td>\n",
       "      <td>...</td>\n",
       "      <td>...</td>\n",
       "      <td>...</td>\n",
       "      <td>...</td>\n",
       "    </tr>\n",
       "    <tr>\n",
       "      <th>37</th>\n",
       "      <td>22</td>\n",
       "      <td>814</td>\n",
       "      <td>2</td>\n",
       "      <td>65</td>\n",
       "      <td>1</td>\n",
       "      <td>2</td>\n",
       "      <td>70</td>\n",
       "      <td>60</td>\n",
       "      <td>513</td>\n",
       "      <td>28</td>\n",
       "      <td>1.0</td>\n",
       "    </tr>\n",
       "    <tr>\n",
       "      <th>68</th>\n",
       "      <td>5</td>\n",
       "      <td>821</td>\n",
       "      <td>1</td>\n",
       "      <td>64</td>\n",
       "      <td>2</td>\n",
       "      <td>0</td>\n",
       "      <td>90</td>\n",
       "      <td>70</td>\n",
       "      <td>1025</td>\n",
       "      <td>3</td>\n",
       "      <td>0.0</td>\n",
       "    </tr>\n",
       "    <tr>\n",
       "      <th>71</th>\n",
       "      <td>13</td>\n",
       "      <td>840</td>\n",
       "      <td>1</td>\n",
       "      <td>63</td>\n",
       "      <td>1</td>\n",
       "      <td>0</td>\n",
       "      <td>90</td>\n",
       "      <td>90</td>\n",
       "      <td>1175</td>\n",
       "      <td>-1</td>\n",
       "      <td>0.0</td>\n",
       "    </tr>\n",
       "    <tr>\n",
       "      <th>38</th>\n",
       "      <td>15</td>\n",
       "      <td>965</td>\n",
       "      <td>1</td>\n",
       "      <td>66</td>\n",
       "      <td>2</td>\n",
       "      <td>1</td>\n",
       "      <td>70</td>\n",
       "      <td>90</td>\n",
       "      <td>875</td>\n",
       "      <td>4</td>\n",
       "      <td>0.0</td>\n",
       "    </tr>\n",
       "    <tr>\n",
       "      <th>6</th>\n",
       "      <td>12</td>\n",
       "      <td>1022</td>\n",
       "      <td>1</td>\n",
       "      <td>74</td>\n",
       "      <td>1</td>\n",
       "      <td>1</td>\n",
       "      <td>50</td>\n",
       "      <td>80</td>\n",
       "      <td>513</td>\n",
       "      <td>0</td>\n",
       "      <td>0.0</td>\n",
       "    </tr>\n",
       "  </tbody>\n",
       "</table>\n",
       "<p>167 rows × 11 columns</p>\n",
       "</div>"
      ],
      "text/plain": [
       "     inst  time  status  age  sex  ph.ecog  ph.karno  pat.karno  meal.cal  \\\n",
       "57      5     5       2   65    2        0       100         80       338   \n",
       "73      5    11       2   74    1        2        70        100      1175   \n",
       "30      1    12       2   74    1        2        70         50       305   \n",
       "116     1    13       2   76    1        2        70         70       413   \n",
       "111    13    15       2   69    1        0        90         70       575   \n",
       "..    ...   ...     ...  ...  ...      ...       ...        ...       ...   \n",
       "37     22   814       2   65    1        2        70         60       513   \n",
       "68      5   821       1   64    2        0        90         70      1025   \n",
       "71     13   840       1   63    1        0        90         90      1175   \n",
       "38     15   965       1   66    2        1        70         90       875   \n",
       "6      12  1022       1   74    1        1        50         80       513   \n",
       "\n",
       "     wt.loss  dead  \n",
       "57         5   1.0  \n",
       "73         0   1.0  \n",
       "30        20   1.0  \n",
       "116       20   1.0  \n",
       "111       10   1.0  \n",
       "..       ...   ...  \n",
       "37        28   1.0  \n",
       "68         3   0.0  \n",
       "71        -1   0.0  \n",
       "38         4   0.0  \n",
       "6          0   0.0  \n",
       "\n",
       "[167 rows x 11 columns]"
      ]
     },
     "execution_count": 69,
     "metadata": {},
     "output_type": "execute_result"
    }
   ],
   "source": [
    "## Kaplan-Meier fitting --> 사건=dead 로 생성해줌\n",
    "kmf = KaplanMeierFitter()\n",
    "df.loc[df.status == 1, 'dead'] = 0\n",
    "df.loc[df.status == 2, 'dead'] = 1\n",
    "df.sort_values(by='time', ascending=True)"
   ]
  },
  {
   "cell_type": "code",
   "execution_count": 72,
   "metadata": {},
   "outputs": [
    {
     "data": {
      "text/html": [
       "<div>\n",
       "<style scoped>\n",
       "    .dataframe tbody tr th:only-of-type {\n",
       "        vertical-align: middle;\n",
       "    }\n",
       "\n",
       "    .dataframe tbody tr th {\n",
       "        vertical-align: top;\n",
       "    }\n",
       "\n",
       "    .dataframe thead th {\n",
       "        text-align: right;\n",
       "    }\n",
       "</style>\n",
       "<table border=\"1\" class=\"dataframe\">\n",
       "  <thead>\n",
       "    <tr style=\"text-align: right;\">\n",
       "      <th></th>\n",
       "      <th>removed</th>\n",
       "      <th>observed</th>\n",
       "      <th>censored</th>\n",
       "      <th>entrance</th>\n",
       "      <th>at_risk</th>\n",
       "    </tr>\n",
       "    <tr>\n",
       "      <th>event_at</th>\n",
       "      <th></th>\n",
       "      <th></th>\n",
       "      <th></th>\n",
       "      <th></th>\n",
       "      <th></th>\n",
       "    </tr>\n",
       "  </thead>\n",
       "  <tbody>\n",
       "    <tr>\n",
       "      <th>0.0</th>\n",
       "      <td>0</td>\n",
       "      <td>0</td>\n",
       "      <td>0</td>\n",
       "      <td>167</td>\n",
       "      <td>167</td>\n",
       "    </tr>\n",
       "    <tr>\n",
       "      <th>5.0</th>\n",
       "      <td>1</td>\n",
       "      <td>1</td>\n",
       "      <td>0</td>\n",
       "      <td>0</td>\n",
       "      <td>167</td>\n",
       "    </tr>\n",
       "    <tr>\n",
       "      <th>11.0</th>\n",
       "      <td>1</td>\n",
       "      <td>1</td>\n",
       "      <td>0</td>\n",
       "      <td>0</td>\n",
       "      <td>166</td>\n",
       "    </tr>\n",
       "    <tr>\n",
       "      <th>12.0</th>\n",
       "      <td>1</td>\n",
       "      <td>1</td>\n",
       "      <td>0</td>\n",
       "      <td>0</td>\n",
       "      <td>165</td>\n",
       "    </tr>\n",
       "    <tr>\n",
       "      <th>13.0</th>\n",
       "      <td>1</td>\n",
       "      <td>1</td>\n",
       "      <td>0</td>\n",
       "      <td>0</td>\n",
       "      <td>164</td>\n",
       "    </tr>\n",
       "    <tr>\n",
       "      <th>...</th>\n",
       "      <td>...</td>\n",
       "      <td>...</td>\n",
       "      <td>...</td>\n",
       "      <td>...</td>\n",
       "      <td>...</td>\n",
       "    </tr>\n",
       "    <tr>\n",
       "      <th>814.0</th>\n",
       "      <td>1</td>\n",
       "      <td>1</td>\n",
       "      <td>0</td>\n",
       "      <td>0</td>\n",
       "      <td>5</td>\n",
       "    </tr>\n",
       "    <tr>\n",
       "      <th>821.0</th>\n",
       "      <td>1</td>\n",
       "      <td>0</td>\n",
       "      <td>1</td>\n",
       "      <td>0</td>\n",
       "      <td>4</td>\n",
       "    </tr>\n",
       "    <tr>\n",
       "      <th>840.0</th>\n",
       "      <td>1</td>\n",
       "      <td>0</td>\n",
       "      <td>1</td>\n",
       "      <td>0</td>\n",
       "      <td>3</td>\n",
       "    </tr>\n",
       "    <tr>\n",
       "      <th>965.0</th>\n",
       "      <td>1</td>\n",
       "      <td>0</td>\n",
       "      <td>1</td>\n",
       "      <td>0</td>\n",
       "      <td>2</td>\n",
       "    </tr>\n",
       "    <tr>\n",
       "      <th>1022.0</th>\n",
       "      <td>1</td>\n",
       "      <td>0</td>\n",
       "      <td>1</td>\n",
       "      <td>0</td>\n",
       "      <td>1</td>\n",
       "    </tr>\n",
       "  </tbody>\n",
       "</table>\n",
       "<p>150 rows × 5 columns</p>\n",
       "</div>"
      ],
      "text/plain": [
       "          removed  observed  censored  entrance  at_risk\n",
       "event_at                                                \n",
       "0.0             0         0         0       167      167\n",
       "5.0             1         1         0         0      167\n",
       "11.0            1         1         0         0      166\n",
       "12.0            1         1         0         0      165\n",
       "13.0            1         1         0         0      164\n",
       "...           ...       ...       ...       ...      ...\n",
       "814.0           1         1         0         0        5\n",
       "821.0           1         0         1         0        4\n",
       "840.0           1         0         1         0        3\n",
       "965.0           1         0         1         0        2\n",
       "1022.0          1         0         1         0        1\n",
       "\n",
       "[150 rows x 5 columns]"
      ]
     },
     "execution_count": 72,
     "metadata": {},
     "output_type": "execute_result"
    }
   ],
   "source": [
    "## (참고) 생존분석 테이블\n",
    "kmf.fit(durations=df['time'], event_observed=df['dead'])\n",
    "kmf.event_table\n",
    "# removed = observed + censored\n",
    "# censored = 죽지 않은 사람\n",
    "# observed = 죽은 사랑\n",
    "# evnet_at : df['time'] 의 모든 요소들(데이터셋의 타임라인값)\n",
    "# at_risk : observation에 있는 환자들 값, 처음 event_at=0인 부분에는 전체 환자들 수 집계, 중간에 환자수 늘어나면 at_risk값도 증가\n",
    "# = current patients at_risk + entrance - removed\n",
    "# entrance : 추가된 환자의 수\n",
    "# removed를 해당 event_at의 at_risk에서 빼면 다음 event_at의 at_risk값이 된다"
   ]
  },
  {
   "cell_type": "code",
   "execution_count": 73,
   "metadata": {},
   "outputs": [
    {
     "name": "stdout",
     "output_type": "stream",
     "text": [
      "t=0일 때, 생존가능성:  1.0\n",
      "t=5일 때, 생존가능성:  0.9940119760479043\n",
      "t=11일 때, 생존가능성:  0.9880239520958077\n"
     ]
    }
   ],
   "source": [
    "## 전체 시간 중에서 특정시간 생존 확률 구하기\n",
    "print(\"t=0일 때, 생존가능성: \", kmf.predict(0))\n",
    "print(\"t=5일 때, 생존가능성: \", kmf.predict(5))\n",
    "print(\"t=11일 때, 생존가능성: \", kmf.predict(11))\n",
    "# kmf.predict([0,5,11])"
   ]
  },
  {
   "cell_type": "code",
   "execution_count": 75,
   "metadata": {},
   "outputs": [
    {
     "data": {
      "text/html": [
       "<div>\n",
       "<style scoped>\n",
       "    .dataframe tbody tr th:only-of-type {\n",
       "        vertical-align: middle;\n",
       "    }\n",
       "\n",
       "    .dataframe tbody tr th {\n",
       "        vertical-align: top;\n",
       "    }\n",
       "\n",
       "    .dataframe thead th {\n",
       "        text-align: right;\n",
       "    }\n",
       "</style>\n",
       "<table border=\"1\" class=\"dataframe\">\n",
       "  <thead>\n",
       "    <tr style=\"text-align: right;\">\n",
       "      <th></th>\n",
       "      <th>KM_estimate</th>\n",
       "    </tr>\n",
       "    <tr>\n",
       "      <th>timeline</th>\n",
       "      <th></th>\n",
       "    </tr>\n",
       "  </thead>\n",
       "  <tbody>\n",
       "    <tr>\n",
       "      <th>0.0</th>\n",
       "      <td>1.000000</td>\n",
       "    </tr>\n",
       "    <tr>\n",
       "      <th>5.0</th>\n",
       "      <td>0.994012</td>\n",
       "    </tr>\n",
       "    <tr>\n",
       "      <th>11.0</th>\n",
       "      <td>0.988024</td>\n",
       "    </tr>\n",
       "    <tr>\n",
       "      <th>12.0</th>\n",
       "      <td>0.982036</td>\n",
       "    </tr>\n",
       "    <tr>\n",
       "      <th>13.0</th>\n",
       "      <td>0.976048</td>\n",
       "    </tr>\n",
       "    <tr>\n",
       "      <th>...</th>\n",
       "      <td>...</td>\n",
       "    </tr>\n",
       "    <tr>\n",
       "      <th>814.0</th>\n",
       "      <td>0.061903</td>\n",
       "    </tr>\n",
       "    <tr>\n",
       "      <th>821.0</th>\n",
       "      <td>0.061903</td>\n",
       "    </tr>\n",
       "    <tr>\n",
       "      <th>840.0</th>\n",
       "      <td>0.061903</td>\n",
       "    </tr>\n",
       "    <tr>\n",
       "      <th>965.0</th>\n",
       "      <td>0.061903</td>\n",
       "    </tr>\n",
       "    <tr>\n",
       "      <th>1022.0</th>\n",
       "      <td>0.061903</td>\n",
       "    </tr>\n",
       "  </tbody>\n",
       "</table>\n",
       "<p>150 rows × 1 columns</p>\n",
       "</div>"
      ],
      "text/plain": [
       "          KM_estimate\n",
       "timeline             \n",
       "0.0          1.000000\n",
       "5.0          0.994012\n",
       "11.0         0.988024\n",
       "12.0         0.982036\n",
       "13.0         0.976048\n",
       "...               ...\n",
       "814.0        0.061903\n",
       "821.0        0.061903\n",
       "840.0        0.061903\n",
       "965.0        0.061903\n",
       "1022.0       0.061903\n",
       "\n",
       "[150 rows x 1 columns]"
      ]
     },
     "execution_count": 75,
     "metadata": {},
     "output_type": "execute_result"
    }
   ],
   "source": [
    "## 전체 t시간 동안의 생존 확률\n",
    "kmf.survival_function_"
   ]
  },
  {
   "cell_type": "code",
   "execution_count": 78,
   "metadata": {},
   "outputs": [
    {
     "data": {
      "text/plain": [
       "Text(0, 0.5, '생존 가능성')"
      ]
     },
     "execution_count": 78,
     "metadata": {},
     "output_type": "execute_result"
    },
    {
     "data": {
      "image/png": "[encoded data removed]",
      "text/plain": [
       "<Figure size 432x288 with 1 Axes>"
      ]
     },
     "metadata": {
      "needs_background": "light"
     },
     "output_type": "display_data"
    }
   ],
   "source": [
    "## 생존함수 그래프\n",
    "kmf.plot()\n",
    "plt.title('kaplan-meier')\n",
    "plt.xlabel('number of days')\n",
    "plt.ylabel('생존 가능성')"
   ]
  },
  {
   "cell_type": "code",
   "execution_count": 80,
   "metadata": {},
   "outputs": [
    {
     "data": {
      "text/plain": [
       "310.0"
      ]
     },
     "execution_count": 80,
     "metadata": {},
     "output_type": "execute_result"
    }
   ],
   "source": [
    "## 중간값(일별)\n",
    "# 310 days: median survival time, 데이터의 50%는 310일 산다 라는 의미\n",
    "kmf.median_survival_time_"
   ]
  },
  {
   "cell_type": "code",
   "execution_count": 81,
   "metadata": {},
   "outputs": [
    {
     "data": {
      "text/html": [
       "<div>\n",
       "<style scoped>\n",
       "    .dataframe tbody tr th:only-of-type {\n",
       "        vertical-align: middle;\n",
       "    }\n",
       "\n",
       "    .dataframe tbody tr th {\n",
       "        vertical-align: top;\n",
       "    }\n",
       "\n",
       "    .dataframe thead th {\n",
       "        text-align: right;\n",
       "    }\n",
       "</style>\n",
       "<table border=\"1\" class=\"dataframe\">\n",
       "  <thead>\n",
       "    <tr style=\"text-align: right;\">\n",
       "      <th></th>\n",
       "      <th>KM_estimate_lower_0.95</th>\n",
       "      <th>KM_estimate_upper_0.95</th>\n",
       "    </tr>\n",
       "  </thead>\n",
       "  <tbody>\n",
       "    <tr>\n",
       "      <th>0.0</th>\n",
       "      <td>1.000000</td>\n",
       "      <td>1.000000</td>\n",
       "    </tr>\n",
       "    <tr>\n",
       "      <th>5.0</th>\n",
       "      <td>0.958259</td>\n",
       "      <td>0.999154</td>\n",
       "    </tr>\n",
       "    <tr>\n",
       "      <th>11.0</th>\n",
       "      <td>0.952967</td>\n",
       "      <td>0.996991</td>\n",
       "    </tr>\n",
       "    <tr>\n",
       "      <th>12.0</th>\n",
       "      <td>0.945344</td>\n",
       "      <td>0.994171</td>\n",
       "    </tr>\n",
       "    <tr>\n",
       "      <th>13.0</th>\n",
       "      <td>0.937446</td>\n",
       "      <td>0.990942</td>\n",
       "    </tr>\n",
       "    <tr>\n",
       "      <th>...</th>\n",
       "      <td>...</td>\n",
       "      <td>...</td>\n",
       "    </tr>\n",
       "    <tr>\n",
       "      <th>814.0</th>\n",
       "      <td>0.023291</td>\n",
       "      <td>0.127602</td>\n",
       "    </tr>\n",
       "    <tr>\n",
       "      <th>821.0</th>\n",
       "      <td>0.023291</td>\n",
       "      <td>0.127602</td>\n",
       "    </tr>\n",
       "    <tr>\n",
       "      <th>840.0</th>\n",
       "      <td>0.023291</td>\n",
       "      <td>0.127602</td>\n",
       "    </tr>\n",
       "    <tr>\n",
       "      <th>965.0</th>\n",
       "      <td>0.023291</td>\n",
       "      <td>0.127602</td>\n",
       "    </tr>\n",
       "    <tr>\n",
       "      <th>1022.0</th>\n",
       "      <td>0.023291</td>\n",
       "      <td>0.127602</td>\n",
       "    </tr>\n",
       "  </tbody>\n",
       "</table>\n",
       "<p>150 rows × 2 columns</p>\n",
       "</div>"
      ],
      "text/plain": [
       "        KM_estimate_lower_0.95  KM_estimate_upper_0.95\n",
       "0.0                   1.000000                1.000000\n",
       "5.0                   0.958259                0.999154\n",
       "11.0                  0.952967                0.996991\n",
       "12.0                  0.945344                0.994171\n",
       "13.0                  0.937446                0.990942\n",
       "...                        ...                     ...\n",
       "814.0                 0.023291                0.127602\n",
       "821.0                 0.023291                0.127602\n",
       "840.0                 0.023291                0.127602\n",
       "965.0                 0.023291                0.127602\n",
       "1022.0                0.023291                0.127602\n",
       "\n",
       "[150 rows x 2 columns]"
      ]
     },
     "metadata": {},
     "output_type": "display_data"
    },
    {
     "data": {
      "text/html": [
       "<div>\n",
       "<style scoped>\n",
       "    .dataframe tbody tr th:only-of-type {\n",
       "        vertical-align: middle;\n",
       "    }\n",
       "\n",
       "    .dataframe tbody tr th {\n",
       "        vertical-align: top;\n",
       "    }\n",
       "\n",
       "    .dataframe thead th {\n",
       "        text-align: right;\n",
       "    }\n",
       "</style>\n",
       "<table border=\"1\" class=\"dataframe\">\n",
       "  <thead>\n",
       "    <tr style=\"text-align: right;\">\n",
       "      <th></th>\n",
       "      <th>KM_estimate_lower_0.95</th>\n",
       "      <th>KM_estimate_upper_0.95</th>\n",
       "    </tr>\n",
       "  </thead>\n",
       "  <tbody>\n",
       "    <tr>\n",
       "      <th>0.0</th>\n",
       "      <td>0.000000</td>\n",
       "      <td>0.000000</td>\n",
       "    </tr>\n",
       "    <tr>\n",
       "      <th>5.0</th>\n",
       "      <td>0.041741</td>\n",
       "      <td>0.000846</td>\n",
       "    </tr>\n",
       "    <tr>\n",
       "      <th>11.0</th>\n",
       "      <td>0.047033</td>\n",
       "      <td>0.003009</td>\n",
       "    </tr>\n",
       "    <tr>\n",
       "      <th>12.0</th>\n",
       "      <td>0.054656</td>\n",
       "      <td>0.005829</td>\n",
       "    </tr>\n",
       "    <tr>\n",
       "      <th>13.0</th>\n",
       "      <td>0.062554</td>\n",
       "      <td>0.009058</td>\n",
       "    </tr>\n",
       "    <tr>\n",
       "      <th>...</th>\n",
       "      <td>...</td>\n",
       "      <td>...</td>\n",
       "    </tr>\n",
       "    <tr>\n",
       "      <th>814.0</th>\n",
       "      <td>0.976709</td>\n",
       "      <td>0.872398</td>\n",
       "    </tr>\n",
       "    <tr>\n",
       "      <th>821.0</th>\n",
       "      <td>0.976709</td>\n",
       "      <td>0.872398</td>\n",
       "    </tr>\n",
       "    <tr>\n",
       "      <th>840.0</th>\n",
       "      <td>0.976709</td>\n",
       "      <td>0.872398</td>\n",
       "    </tr>\n",
       "    <tr>\n",
       "      <th>965.0</th>\n",
       "      <td>0.976709</td>\n",
       "      <td>0.872398</td>\n",
       "    </tr>\n",
       "    <tr>\n",
       "      <th>1022.0</th>\n",
       "      <td>0.976709</td>\n",
       "      <td>0.872398</td>\n",
       "    </tr>\n",
       "  </tbody>\n",
       "</table>\n",
       "<p>150 rows × 2 columns</p>\n",
       "</div>"
      ],
      "text/plain": [
       "        KM_estimate_lower_0.95  KM_estimate_upper_0.95\n",
       "0.0                   0.000000                0.000000\n",
       "5.0                   0.041741                0.000846\n",
       "11.0                  0.047033                0.003009\n",
       "12.0                  0.054656                0.005829\n",
       "13.0                  0.062554                0.009058\n",
       "...                        ...                     ...\n",
       "814.0                 0.976709                0.872398\n",
       "821.0                 0.976709                0.872398\n",
       "840.0                 0.976709                0.872398\n",
       "965.0                 0.976709                0.872398\n",
       "1022.0                0.976709                0.872398\n",
       "\n",
       "[150 rows x 2 columns]"
      ]
     },
     "metadata": {},
     "output_type": "display_data"
    },
    {
     "data": {
      "text/html": [
       "<div>\n",
       "<style scoped>\n",
       "    .dataframe tbody tr th:only-of-type {\n",
       "        vertical-align: middle;\n",
       "    }\n",
       "\n",
       "    .dataframe tbody tr th {\n",
       "        vertical-align: top;\n",
       "    }\n",
       "\n",
       "    .dataframe thead th {\n",
       "        text-align: right;\n",
       "    }\n",
       "</style>\n",
       "<table border=\"1\" class=\"dataframe\">\n",
       "  <thead>\n",
       "    <tr style=\"text-align: right;\">\n",
       "      <th></th>\n",
       "      <th>KM_estimate_lower_0.95</th>\n",
       "      <th>KM_estimate_upper_0.95</th>\n",
       "    </tr>\n",
       "  </thead>\n",
       "  <tbody>\n",
       "    <tr>\n",
       "      <th>0.0</th>\n",
       "      <td>1.000000</td>\n",
       "      <td>1.000000</td>\n",
       "    </tr>\n",
       "    <tr>\n",
       "      <th>5.0</th>\n",
       "      <td>0.958259</td>\n",
       "      <td>0.999154</td>\n",
       "    </tr>\n",
       "    <tr>\n",
       "      <th>11.0</th>\n",
       "      <td>0.952967</td>\n",
       "      <td>0.996991</td>\n",
       "    </tr>\n",
       "    <tr>\n",
       "      <th>12.0</th>\n",
       "      <td>0.945344</td>\n",
       "      <td>0.994171</td>\n",
       "    </tr>\n",
       "    <tr>\n",
       "      <th>13.0</th>\n",
       "      <td>0.937446</td>\n",
       "      <td>0.990942</td>\n",
       "    </tr>\n",
       "    <tr>\n",
       "      <th>...</th>\n",
       "      <td>...</td>\n",
       "      <td>...</td>\n",
       "    </tr>\n",
       "    <tr>\n",
       "      <th>814.0</th>\n",
       "      <td>0.023291</td>\n",
       "      <td>0.127602</td>\n",
       "    </tr>\n",
       "    <tr>\n",
       "      <th>821.0</th>\n",
       "      <td>0.023291</td>\n",
       "      <td>0.127602</td>\n",
       "    </tr>\n",
       "    <tr>\n",
       "      <th>840.0</th>\n",
       "      <td>0.023291</td>\n",
       "      <td>0.127602</td>\n",
       "    </tr>\n",
       "    <tr>\n",
       "      <th>965.0</th>\n",
       "      <td>0.023291</td>\n",
       "      <td>0.127602</td>\n",
       "    </tr>\n",
       "    <tr>\n",
       "      <th>1022.0</th>\n",
       "      <td>0.023291</td>\n",
       "      <td>0.127602</td>\n",
       "    </tr>\n",
       "  </tbody>\n",
       "</table>\n",
       "<p>150 rows × 2 columns</p>\n",
       "</div>"
      ],
      "text/plain": [
       "        KM_estimate_lower_0.95  KM_estimate_upper_0.95\n",
       "0.0                   1.000000                1.000000\n",
       "5.0                   0.958259                0.999154\n",
       "11.0                  0.952967                0.996991\n",
       "12.0                  0.945344                0.994171\n",
       "13.0                  0.937446                0.990942\n",
       "...                        ...                     ...\n",
       "814.0                 0.023291                0.127602\n",
       "821.0                 0.023291                0.127602\n",
       "840.0                 0.023291                0.127602\n",
       "965.0                 0.023291                0.127602\n",
       "1022.0                0.023291                0.127602\n",
       "\n",
       "[150 rows x 2 columns]"
      ]
     },
     "metadata": {},
     "output_type": "display_data"
    }
   ],
   "source": [
    "## 신뢰구간\n",
    "display(kmf.confidence_interval_)\n",
    "display(kmf.confidence_interval_cumulative_density_)\n",
    "display(kmf.confidence_interval_survival_function_)"
   ]
  },
  {
   "cell_type": "code",
   "execution_count": 83,
   "metadata": {},
   "outputs": [
    {
     "data": {
      "image/png": "[encoded data removed]",
      "text/plain": [
       "<Figure size 432x288 with 1 Axes>"
      ]
     },
     "metadata": {
      "needs_background": "light"
     },
     "output_type": "display_data"
    }
   ],
   "source": [
    "## 신뢰구간과 함께 생존분석 그래프\n",
    "confidence_survival_function = kmf.confidence_interval_survival_function_\n",
    "plt.plot(confidence_survival_function[confidence_survival_function.columns[0]], label='lower')\n",
    "plt.plot(confidence_survival_function[confidence_survival_function.columns[1]], label='upper')\n",
    "plt.title(\"survival function with CI\")\n",
    "plt.xlabel(\"numbers of days\")\n",
    "plt.ylabel('survival probability')\n",
    "plt.legend()\n",
    "plt.show()"
   ]
  },
  {
   "cell_type": "code",
   "execution_count": 84,
   "metadata": {},
   "outputs": [
    {
     "data": {
      "text/plain": [
       "1022    0.938097\n",
       "Name: KM_estimate, dtype: float64"
      ]
     },
     "execution_count": 84,
     "metadata": {},
     "output_type": "execute_result"
    }
   ],
   "source": [
    "## times=1022 일때의 누적생존확률\n",
    "kmf.cumulative_density_at_times(times=1022)"
   ]
  },
  {
   "cell_type": "code",
   "execution_count": 40,
   "metadata": {},
   "outputs": [
    {
     "data": {
      "text/plain": [
       "<matplotlib.axes._subplots.AxesSubplot at 0x1ea7f555470>"
      ]
     },
     "execution_count": 40,
     "metadata": {},
     "output_type": "execute_result"
    },
    {
     "data": {
      "image/png": "[encoded data removed]",
      "text/plain": [
       "<Figure size 432x288 with 1 Axes>"
      ]
     },
     "metadata": {
      "needs_background": "light"
     },
     "output_type": "display_data"
    }
   ],
   "source": [
    "## (참고) 생존곡선 반대 그래프 failure curve(failure/death probabilities over time)\n",
    "kmf.plot_cumulative_density()"
   ]
  },
  {
   "cell_type": "code",
   "execution_count": 42,
   "metadata": {},
   "outputs": [
    {
     "data": {
      "text/plain": [
       "Text(0.5, 1, 'Survival of different gender group')"
      ]
     },
     "execution_count": 42,
     "metadata": {},
     "output_type": "execute_result"
    },
    {
     "data": {
      "image/png": "[encoded data removed]",
      "text/plain": [
       "<Figure size 432x288 with 2 Axes>"
      ]
     },
     "metadata": {
      "needs_background": "light"
     },
     "output_type": "display_data"
    }
   ],
   "source": [
    "## (참고) difference between categorical groups.\n",
    "\n",
    "ax = plt.subplot(111)\n",
    "m = (data[\"sex\"] == 0)\n",
    "kmf.fit(durations = T[m], event_observed = E[m], label = \"Male\")\n",
    "kmf.plot_survival_function(ax = ax)\n",
    "kmf.fit(T[~m], event_observed = E[~m], label = \"Female\")\n",
    "kmf.plot_survival_function(ax = ax, at_risk_counts = True)\n",
    "plt.title(\"Survival of different gender group\")"
   ]
  },
  {
   "cell_type": "code",
   "execution_count": 44,
   "metadata": {},
   "outputs": [
    {
     "data": {
      "image/png": "[encoded data removed]",
      "text/plain": [
       "<Figure size 432x288 with 4 Axes>"
      ]
     },
     "metadata": {
      "needs_background": "light"
     },
     "output_type": "display_data"
    }
   ],
   "source": [
    "## (참고) categorical variable 에 대해 survival fucntion\n",
    "ecog_types = data.sort_values(by = ['ph.ecog'])[\"ph.ecog\"].unique()\n",
    "for i, ecog_types in enumerate(ecog_types):\n",
    "  ax = plt.subplot(2, 2, i + 1)\n",
    "  ix = data['ph.ecog'] == ecog_types\n",
    "  kmf.fit(T[ix], E[ix], label = ecog_types)\n",
    "  kmf.plot_survival_function(ax = ax, legend = False)\n",
    "  plt.title(ecog_types)\n",
    "  plt.xlim(0, 1200)\n",
    "plt.tight_layout()"
   ]
  },
  {
   "cell_type": "code",
   "execution_count": null,
   "metadata": {},
   "outputs": [],
   "source": [
    "## 4-2. 로그 순위법으로 제조사별 차이 검정\n",
    "# lifelines.statistics.logrank_test\n",
    "\n",
    "from lifelines.statistics\n",
    "import logrank_test(data_a['time'], data_b['time'], data_a['event'], data_b['event']).p_value"
   ]
  }
 ],
 "metadata": {
  "kernelspec": {
   "display_name": "Python 3",
   "language": "python",
   "name": "python3"
  },
  "language_info": {
   "codemirror_mode": {
    "name": "ipython",
    "version": 3
   },
   "file_extension": ".py",
   "mimetype": "text/x-python",
   "name": "python",
   "nbconvert_exporter": "python",
   "pygments_lexer": "ipython3",
   "version": "3.7.3"
  }
 },
 "nbformat": 4,
 "nbformat_minor": 2
}
