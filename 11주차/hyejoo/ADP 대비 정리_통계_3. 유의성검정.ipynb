{
 "cells": [
  {
   "cell_type": "markdown",
   "metadata": {},
   "source": [
    "# 3. 유의성 검정\n",
    "\n",
    "### 1) T-test\n",
    "\n",
    "#### 가. 정규성 검정\n",
    " - Kolmogorov-Smirnov : $ n \\geq 50 $\n",
    " - Q-Q Plot\n",
    " - Anderson-Darling\n",
    " - Sharpiro-Wilk : $ n \\leq 50 $\n",
    " - Jarque-Bera\n",
    " \n",
    "#### 나. 등분산 검정\n",
    " - F-test\n",
    " - Levene\n",
    " - Bartlett\n",
    " - Chi-Square\n",
    " \n",
    " ※ 등분산성을 만족하지 못할 때 : Welch 2 sample T-test\n",
    " \n",
    "#### 다. 일표본 T 검정\n",
    "\n",
    "#### 라. 독립표본 T 검정\n",
    "\n",
    "#### 마. 대응표본 T 검정 (Paired T-test)"
   ]
  },
  {
   "cell_type": "code",
   "execution_count": null,
   "metadata": {},
   "outputs": [],
   "source": [
    "data1 = [1, 2, 3, 4, 5]\n",
    "data2 = [6, 7, 8, 9, 10]"
   ]
  },
  {
   "cell_type": "code",
   "execution_count": 5,
   "metadata": {},
   "outputs": [
    {
     "data": {
      "text/plain": [
       "KstestResult(statistic=1.0, pvalue=0.007936507936507936, statistic_location=5, statistic_sign=1)"
      ]
     },
     "execution_count": 5,
     "metadata": {},
     "output_type": "execute_result"
    }
   ],
   "source": [
    "# Kolmogorov-Smirnov\n",
    "    # 두 표본이 같은 분포를 따르는지 검정 (정규분포에 국한되지 않음)\n",
    "import scipy.stats as stats\n",
    "\n",
    "data1 = [1, 2, 3, 4, 5]\n",
    "data2 = [6, 7, 8, 9, 10]\n",
    "\n",
    "ks_test = stats.ks_2samp(data1, data2)"
   ]
  },
  {
   "cell_type": "code",
   "execution_count": 23,
   "metadata": {},
   "outputs": [
    {
     "data": {
      "image/png": "[encoded data removed]",
      "text/plain": [
       "<Figure size 200x200 with 1 Axes>"
      ]
     },
     "metadata": {},
     "output_type": "display_data"
    }
   ],
   "source": [
    "# Q-Q Plot\n",
    "import numpy as np\n",
    "import matplotlib.pyplot as plt\n",
    "\n",
    "data = np.random.normal(0, 1, 100)\n",
    "\n",
    "plt.figure(figsize = (2, 2))\n",
    "plt.plot(np.sort(data), np.quantile(np.random.standard_normal(100), np.arange(0, 1, 1/100)))\n",
    "plt.title('Q-Q Plot')\n",
    "plt.xlabel('Theoretical Quantiles')\n",
    "plt.ylabel('Sample Quantiles')\n",
    "plt.show()"
   ]
  },
  {
   "cell_type": "code",
   "execution_count": 26,
   "metadata": {},
   "outputs": [
    {
     "data": {
      "text/plain": [
       "AndersonResult(statistic=0.43827448534874236, critical_values=array([0.555, 0.632, 0.759, 0.885, 1.053]), significance_level=array([15. , 10. ,  5. ,  2.5,  1. ]), fit_result=  params: FitParams(loc=-0.08250561559293257, scale=1.106289510469872)\n",
       " success: True\n",
       " message: '`anderson` successfully fit the distribution to the data.')"
      ]
     },
     "execution_count": 26,
     "metadata": {},
     "output_type": "execute_result"
    }
   ],
   "source": [
    "# Anderson-Darling\n",
    "import numpy as np\n",
    "from scipy.stats import anderson\n",
    "\n",
    "data = np.random.randn(100)\n",
    "\n",
    "anderson(data, 'norm')"
   ]
  },
  {
   "cell_type": "code",
   "execution_count": 29,
   "metadata": {},
   "outputs": [
    {
     "data": {
      "text/plain": [
       "ShapiroResult(statistic=0.9867621660232544, pvalue=0.9671739339828491)"
      ]
     },
     "execution_count": 29,
     "metadata": {},
     "output_type": "execute_result"
    }
   ],
   "source": [
    "# Shapiro-Wilk\n",
    "from scipy.stats import shapiro\n",
    "\n",
    "data = [1.2, 2.3, 3.4, 4.5, 5.6]\n",
    "\n",
    "shapiro(data)"
   ]
  },
  {
   "cell_type": "code",
   "execution_count": 31,
   "metadata": {},
   "outputs": [
    {
     "data": {
      "text/plain": [
       "SignificanceResult(statistic=0.35208333333333347, pvalue=0.8385830416490585)"
      ]
     },
     "execution_count": 31,
     "metadata": {},
     "output_type": "execute_result"
    }
   ],
   "source": [
    "# Jarque-Bera : 왜도와 첨도로 정규성 파악\n",
    "from scipy.stats import jarque_bera\n",
    "\n",
    "jarque_bera(data)"
   ]
  },
  {
   "cell_type": "code",
   "execution_count": 37,
   "metadata": {},
   "outputs": [
    {
     "data": {
      "text/plain": [
       "LeveneResult(statistic=0.5404595240201706, pvalue=0.46311221792731483)"
      ]
     },
     "execution_count": 37,
     "metadata": {},
     "output_type": "execute_result"
    }
   ],
   "source": [
    "# Levene\n",
    "    # 정규성 여부와 관계없이 사용 가능\n",
    "    # 3개 이상의 그룹들에 대한 등분산 검정도 가능\n",
    "from scipy.stats import levene\n",
    "\n",
    "levene(data1, data2)"
   ]
  },
  {
   "cell_type": "code",
   "execution_count": 38,
   "metadata": {},
   "outputs": [
    {
     "data": {
      "text/plain": [
       "BartlettResult(statistic=0.04105707459852017, pvalue=0.8394277932871025)"
      ]
     },
     "execution_count": 38,
     "metadata": {},
     "output_type": "execute_result"
    }
   ],
   "source": [
    "# Bartlett\n",
    "from scipy.stats import bartlett\n",
    "\n",
    "bartlett(data1, data2)"
   ]
  },
  {
   "cell_type": "code",
   "execution_count": 47,
   "metadata": {},
   "outputs": [],
   "source": [
    "# Chi-Square\n",
    "    # 정규성 여부에 민감하다.\n",
    "from scipy.stats import chi2\n",
    "\n",
    "def pvar_test(sample, var0, alpha=0.5):\n",
    "    u_var = np.var(sample, ddof = 1)\n",
    "    n = len(sample)\n",
    "    rv = stats.chi2(df = n - 1)\n",
    "    interval = rv.interval(1-alpha)\n",
    "    y = (n-1) * u_var / var0\n",
    "    \n",
    "    if interval[0] <= y <= interval[1]:\n",
    "        print('귀무가설 채택')\n",
    "    else:\n",
    "        print('귀무가설 기각')\n",
    "        \n",
    "    if y < rv.isf(0.5):\n",
    "        p = rv.cdf(y) * 2\n",
    "    else:\n",
    "        p = (1-rv.cdf(y)) * 2\n",
    "        \n",
    "    print(f'p값: {p:.3f}')\n",
    "    print(f'검정통계량 값 : {y:.3f}')\n",
    "    print('임계값 :', interval)"
   ]
  },
  {
   "cell_type": "code",
   "execution_count": 51,
   "metadata": {},
   "outputs": [
    {
     "data": {
      "text/plain": [
       "Ttest_indResult(statistic=0.09939524858695828, pvalue=0.9209250574218479)"
      ]
     },
     "execution_count": 51,
     "metadata": {},
     "output_type": "execute_result"
    }
   ],
   "source": [
    "# Welch 2 sample\n",
    "    # 이분산일 때 사용\n",
    "from scipy.stats import ttest_ind\n",
    "\n",
    "ttest_ind(data1, data2, equal_var = False)"
   ]
  },
  {
   "cell_type": "code",
   "execution_count": 53,
   "metadata": {},
   "outputs": [
    {
     "data": {
      "text/plain": [
       "TtestResult(statistic=18.472798652278378, pvalue=7.554461430804318e-34, df=99)"
      ]
     },
     "execution_count": 53,
     "metadata": {},
     "output_type": "execute_result"
    }
   ],
   "source": [
    "# 일표본 T 검정\n",
    "from scipy.stats import ttest_1samp\n",
    "\n",
    "ttest_1samp(data1, 0)"
   ]
  },
  {
   "cell_type": "code",
   "execution_count": 55,
   "metadata": {},
   "outputs": [
    {
     "data": {
      "text/plain": [
       "Ttest_indResult(statistic=0.09939524858695828, pvalue=0.9209250155427562)"
      ]
     },
     "execution_count": 55,
     "metadata": {},
     "output_type": "execute_result"
    }
   ],
   "source": [
    "# 독립표본 T 검정\n",
    "from scipy.stats import ttest_ind\n",
    "\n",
    "ttest_ind(data1, data2)"
   ]
  },
  {
   "cell_type": "code",
   "execution_count": 56,
   "metadata": {},
   "outputs": [
    {
     "data": {
      "text/plain": [
       "TtestResult(statistic=0.09413348771073901, pvalue=0.925193374696294, df=99)"
      ]
     },
     "execution_count": 56,
     "metadata": {},
     "output_type": "execute_result"
    }
   ],
   "source": [
    "# 대응표본 T 검정\n",
    "from scipy.stats import ttest_rel\n",
    "\n",
    "ttest_rel(data1, data2)"
   ]
  },
  {
   "cell_type": "markdown",
   "metadata": {},
   "source": [
    "### 2) 분산분석 (ANOVA)\n",
    "\n",
    "#### 분산분석 (Analysis of Variance)\n",
    "특성치의 산포를 요인별로 분해하여 요인별 영향도를 규명하는 방법으로 여러 그룹 간의 평균의 차이를 통계적으로 검정한다.\n",
    "\n",
    "개별 관측치 - 전체 평균 = 그룹 간 편차 - 그룹 내 편차 (잔차, Residual)\n",
    "\n",
    "① 정규성 / ② 등분산성 / ③ 독립성이 전제되어야 함.\n",
    "\n",
    "#### 가. 일원배치 분산분석\n",
    " - 분산분석표\n",
    " - 사후검정 (Post-Hoc) : Duncan, Tukey, Bonferroni, Scheffe\n",
    " \n",
    " ※ FWER (FamilyWise Error Rate) : 여러 개의 가설검정을 할 때, 최소 1개 이상의 가설에서 제1종 오류가 발생할 가능성 - 결과 해석 시 $ \\alpha $로 보면 됨.\n",
    " \n",
    "#### 나. 이원배치 분산분석\n",
    " - 분산분석표\n",
    " - 교호작용\n",
    " \n",
    "#### 다. 이분산일 때의 분산분석\n",
    " - Welch's ANOVA"
   ]
  },
  {
   "cell_type": "code",
   "execution_count": 58,
   "metadata": {},
   "outputs": [
    {
     "data": {
      "text/plain": [
       "F_onewayResult(statistic=0.15147786506699715, pvalue=0.8595166831758904)"
      ]
     },
     "execution_count": 58,
     "metadata": {},
     "output_type": "execute_result"
    }
   ],
   "source": [
    "# F-test (Using Scipy)\n",
    "from scipy.stats import f_oneway\n",
    "\n",
    "data1 = np.random.rand(100)\n",
    "data2 = np.random.rand(100)\n",
    "data3 = np.random.rand(50)\n",
    "\n",
    "f_oneway(data1, data2, data3)"
   ]
  },
  {
   "cell_type": "code",
   "execution_count": 74,
   "metadata": {},
   "outputs": [
    {
     "name": "stdout",
     "output_type": "stream",
     "text": [
      "(22, 2)\n"
     ]
    },
    {
     "data": {
      "text/html": [
       "<div>\n",
       "<style scoped>\n",
       "    .dataframe tbody tr th:only-of-type {\n",
       "        vertical-align: middle;\n",
       "    }\n",
       "\n",
       "    .dataframe tbody tr th {\n",
       "        vertical-align: top;\n",
       "    }\n",
       "\n",
       "    .dataframe thead th {\n",
       "        text-align: right;\n",
       "    }\n",
       "</style>\n",
       "<table border=\"1\" class=\"dataframe\">\n",
       "  <thead>\n",
       "    <tr style=\"text-align: right;\">\n",
       "      <th></th>\n",
       "      <th>df</th>\n",
       "      <th>sum_sq</th>\n",
       "      <th>mean_sq</th>\n",
       "      <th>F</th>\n",
       "      <th>PR(&gt;F)</th>\n",
       "    </tr>\n",
       "  </thead>\n",
       "  <tbody>\n",
       "    <tr>\n",
       "      <th>C(treatment)</th>\n",
       "      <td>2.0</td>\n",
       "      <td>15515.766414</td>\n",
       "      <td>7757.883207</td>\n",
       "      <td>3.711336</td>\n",
       "      <td>0.043589</td>\n",
       "    </tr>\n",
       "    <tr>\n",
       "      <th>Residual</th>\n",
       "      <td>19.0</td>\n",
       "      <td>39716.097222</td>\n",
       "      <td>2090.320906</td>\n",
       "      <td>NaN</td>\n",
       "      <td>NaN</td>\n",
       "    </tr>\n",
       "  </tbody>\n",
       "</table>\n",
       "</div>"
      ],
      "text/plain": [
       "                df        sum_sq      mean_sq         F    PR(>F)\n",
       "C(treatment)   2.0  15515.766414  7757.883207  3.711336  0.043589\n",
       "Residual      19.0  39716.097222  2090.320906       NaN       NaN"
      ]
     },
     "execution_count": 74,
     "metadata": {},
     "output_type": "execute_result"
    }
   ],
   "source": [
    "# ANOVA (Using Statsmodels) - 일원배치 \n",
    "import statsmodels.api as sm\n",
    "from statsmodels.formula.api import ols\n",
    "from statsmodels.stats.anova import anova_lm\n",
    "import pandas as pd\n",
    "\n",
    "df = pd.DataFrame(data, columns=['value', 'treatment'])\n",
    "print(df.shape)\n",
    "\n",
    "# the \"C\" indicates categorical data\n",
    "model = ols('value ~ C(treatment)', df).fit()\n",
    "anova_lm(model)"
   ]
  },
  {
   "cell_type": "code",
   "execution_count": 78,
   "metadata": {},
   "outputs": [
    {
     "name": "stdout",
     "output_type": "stream",
     "text": [
      "(36, 3)\n",
      "                        df      sum_sq     mean_sq            F        PR(>F)\n",
      "C(fetus)               2.0  324.008889  162.004444  2113.101449  1.051039e-27\n",
      "C(observer)            3.0    1.198611    0.399537     5.211353  6.497055e-03\n",
      "C(fetus):C(observer)   6.0    0.562222    0.093704     1.222222  3.295509e-01\n",
      "Residual              24.0    1.840000    0.076667          NaN           NaN\n"
     ]
    }
   ],
   "source": [
    "# ANOVA (Using Statsmodels) - 이원배치\n",
    "df2 = pd.DataFrame(data, columns=['head_size', 'fetus', 'observer'])\n",
    "print(df2.shape)\n",
    "\n",
    "formula = 'head_size ~ C(fetus) + C(observer) + C(fetus) : C(observer)'\n",
    "model2 = ols(formula, df2).fit()\n",
    "\n",
    "print(anova_lm(model2))"
   ]
  },
  {
   "cell_type": "code",
   "execution_count": null,
   "metadata": {},
   "outputs": [],
   "source": [
    "# 사후검정 1. Duncan\n",
    "    # 집단을 가장 적극적으로 분리하는 방법. 면밀히 나누고 싶을 때 사용할 것."
   ]
  },
  {
   "cell_type": "code",
   "execution_count": 106,
   "metadata": {},
   "outputs": [
    {
     "name": "stdout",
     "output_type": "stream",
     "text": [
      " Multiple Comparison of Means - Tukey HSD, FWER=0.05  \n",
      "======================================================\n",
      "group1 group2 meandiff p-adj    lower    upper  reject\n",
      "------------------------------------------------------\n",
      "   1.0    2.0 -60.1806 0.0355  -116.619 -3.7421   True\n",
      "   1.0    3.0  -38.625 0.3215 -104.8404 27.5904  False\n",
      "   2.0    3.0  21.5556 0.6802  -43.2295 86.3406  False\n",
      "------------------------------------------------------\n"
     ]
    }
   ],
   "source": [
    "# 사후검정 2. Tukey's HSD\n",
    "    # 집단 내 관측치 수가 동일한 경우 사용\n",
    "from statsmodels.stats.multicomp import pairwise_tukeyhsd\n",
    "\n",
    "tukey = pairwise_tukeyhsd(df['value'], df['treatment'], alpha = 0.05)\n",
    "\n",
    "print(tukey)\n",
    "#fig = tukey.plot_simultaneous()\n",
    "    # 그룹 1, 2에서만 통계적으로 유의미한 차이를 보인다."
   ]
  },
  {
   "cell_type": "code",
   "execution_count": 105,
   "metadata": {},
   "outputs": [
    {
     "data": {
      "text/html": [
       "<table class=\"simpletable\">\n",
       "<caption>Test Multiple Comparison ttest_ind \n",
       "FWER=0.05 method=bonf\n",
       "alphacSidak=0.02, alphacBonf=0.017</caption>\n",
       "<tr>\n",
       "  <th>group1</th> <th>group2</th>  <th>stat</th>    <th>pval</th>  <th>pval_corr</th> <th>reject</th>\n",
       "</tr>\n",
       "<tr>\n",
       "    <td>1.0</td>    <td>2.0</td>  <td>2.5582</td>  <td>0.0218</td>  <td>0.0655</td>    <td>False</td>\n",
       "</tr>\n",
       "<tr>\n",
       "    <td>1.0</td>    <td>3.0</td>  <td>1.3266</td>  <td>0.2115</td>  <td>0.6346</td>    <td>False</td>\n",
       "</tr>\n",
       "<tr>\n",
       "    <td>2.0</td>    <td>3.0</td>  <td>-1.0725</td> <td>0.3046</td>  <td>0.9138</td>    <td>False</td>\n",
       "</tr>\n",
       "</table>"
      ],
      "text/plain": [
       "<class 'statsmodels.iolib.table.SimpleTable'>"
      ]
     },
     "execution_count": 105,
     "metadata": {},
     "output_type": "execute_result"
    }
   ],
   "source": [
    "# 사후검정 3. Bonferroni\n",
    "    # 집단 내 관측치 수가 동일하지 않은 경우 사용\n",
    "from statsmodels.sandbox.stats.multicomp import MultiComparison\n",
    "from scipy.stats import ttest_ind\n",
    "\n",
    "# 사후분석을 위한 준비\n",
    "comp = MultiComparison(df['value'], df['treatment'])\n",
    "\n",
    "comp.allpairtest(ttest_ind, method = 'bonf')[0]"
   ]
  },
  {
   "cell_type": "code",
   "execution_count": null,
   "metadata": {},
   "outputs": [],
   "source": [
    "# 사후검정 4. Scheffe\n",
    "    # 집단을 가장 보수적으로 분리하는 방법. 지나치게 보수적이어서 잘 쓰지 않음.\n",
    "    # Bonferroni 대신 사용하기도 함."
   ]
  },
  {
   "cell_type": "markdown",
   "metadata": {},
   "source": [
    "### 3) 교차분석\n",
    "\n",
    "#### 가. 적합도 검정 (Goodness-of-Fit Test)\n",
    "\n",
    " - $ k $개의 범주를 갖는 한 개의 요인에 대하여 어떤 분포를 갖는지 검정한다. \n",
    " - 관찰된 비율 값이 기댓값과 같은지 검정\n",
    " - 일원 카이제곱검정\n",
    "\n",
    "#### 나. 독립성 검정 (교차표)\n",
    "\n",
    " - 두 개의 범주형 변수 간의 독립성 여부 검정 (상관분석처럼 생각할 것)\n",
    " - 이원 카이제곱검정\n",
    "\n",
    "#### 다. 동질성 검정 (교차표)\n",
    "\n",
    " - 두 개의 범주형 변수의 확률분포 동일성 여부 검정"
   ]
  },
  {
   "cell_type": "code",
   "execution_count": 1,
   "metadata": {},
   "outputs": [
    {
     "data": {
      "text/html": [
       "<div>\n",
       "<style scoped>\n",
       "    .dataframe tbody tr th:only-of-type {\n",
       "        vertical-align: middle;\n",
       "    }\n",
       "\n",
       "    .dataframe tbody tr th {\n",
       "        vertical-align: top;\n",
       "    }\n",
       "\n",
       "    .dataframe thead th {\n",
       "        text-align: right;\n",
       "    }\n",
       "</style>\n",
       "<table border=\"1\" class=\"dataframe\">\n",
       "  <thead>\n",
       "    <tr style=\"text-align: right;\">\n",
       "      <th></th>\n",
       "      <th>ID</th>\n",
       "      <th>투약전</th>\n",
       "      <th>투약후</th>\n",
       "    </tr>\n",
       "  </thead>\n",
       "  <tbody>\n",
       "    <tr>\n",
       "      <th>0</th>\n",
       "      <td>user_1</td>\n",
       "      <td>55.137</td>\n",
       "      <td>56.106</td>\n",
       "    </tr>\n",
       "    <tr>\n",
       "      <th>1</th>\n",
       "      <td>user_2</td>\n",
       "      <td>66.584</td>\n",
       "      <td>60.409</td>\n",
       "    </tr>\n",
       "    <tr>\n",
       "      <th>2</th>\n",
       "      <td>user_3</td>\n",
       "      <td>52.259</td>\n",
       "      <td>50.639</td>\n",
       "    </tr>\n",
       "    <tr>\n",
       "      <th>3</th>\n",
       "      <td>user_4</td>\n",
       "      <td>77.081</td>\n",
       "      <td>69.164</td>\n",
       "    </tr>\n",
       "    <tr>\n",
       "      <th>4</th>\n",
       "      <td>user_5</td>\n",
       "      <td>62.677</td>\n",
       "      <td>57.622</td>\n",
       "    </tr>\n",
       "  </tbody>\n",
       "</table>\n",
       "</div>"
      ],
      "text/plain": [
       "       ID     투약전     투약후\n",
       "0  user_1  55.137  56.106\n",
       "1  user_2  66.584  60.409\n",
       "2  user_3  52.259  50.639\n",
       "3  user_4  77.081  69.164\n",
       "4  user_5  62.677  57.622"
      ]
     },
     "execution_count": 1,
     "metadata": {},
     "output_type": "execute_result"
    }
   ],
   "source": [
    "import pandas as pd \n",
    "\n",
    "df3 = pd.read_csv('https://raw.githubusercontent.com/Datamanim/datarepo/main/krdatacertificate/e3_p3_1.csv')\n",
    "df3.head()"
   ]
  },
  {
   "cell_type": "code",
   "execution_count": null,
   "metadata": {},
   "outputs": [],
   "source": [
    "# 적합도 검정 (Goodness-of-Fit Test)\n",
    "from scipy.stats import chisquare\n",
    "\n",
    "chisquare"
   ]
  },
  {
   "cell_type": "markdown",
   "metadata": {},
   "source": [
    "### 4) 다중검정\n",
    "\n",
    "#### 다중검정?\n",
    "\n",
    "여러 개의 가설검정을 동시에 수행하는 것.  \n",
    "ANOVA 실시 후의 다중비교가 해당됨.\n",
    "\n",
    "다중검정의 문제 : 가설의 수가 많아질수록 전체 오류율이 커지게 되는 문제 발생.\n",
    "\n",
    "#### 가. FWER 통제  → 사후분석 참고\n",
    "\n",
    "#### 나. FDR (False Discovery Rate) 조절\n",
    "\n",
    " - Benjamini-Hochberg (FDR 추정)\n",
    " \n",
    " ※ $ FDR = E(\\frac{False \\; Positives}{Total \\; Positives}) $"
   ]
  },
  {
   "cell_type": "code",
   "execution_count": 121,
   "metadata": {},
   "outputs": [
    {
     "name": "stdout",
     "output_type": "stream",
     "text": [
      "(array([ True,  True, False, False]), array([nan, nan, nan, nan]))\n"
     ]
    }
   ],
   "source": [
    "# Benjamini-Hochberg\n",
    "    # 개별 가설들의 p-value를 정렬한 후, 이에 대해 긱각 다른 Cutoff를 적용한다.\n",
    "    # p-value가 낮을수록 더 엄격한 Cutoff가 적용됨. (FDR을 0.05로 고정)\n",
    "from statsmodels.stats.multitest import fdrcorrection\n",
    "\n",
    "p_val = anova_lm(model2).iloc[:, -1].values\n",
    "\n",
    "adj_p_val = fdrcorrection(p_val, alpha = 0.05)\n",
    "print(adj_p_val)"
   ]
  },
  {
   "cell_type": "markdown",
   "metadata": {},
   "source": [
    "### 5) 공분산분석, 상관분석\n",
    "\n",
    "#### 가. 공분산분석 (ANCOVA / Analysis of Covariance)\n",
    "\n",
    " - 공변량 : 종속변수에 영향을 주는 독립변수 외의 잡음인자에 대한 변량\n",
    " - Noise를 통제하여 본래 비교하고 싶었던 독립변수와 종속변수 간의 관계를 순수하게 비교한다. (분산분석과 회귀분석의 혼합 형태)\n",
    " - Step  \n",
    "   ① 독립변수와 종속변수에 대한 회귀분석 실시  \n",
    "   ② 잔차에 대한 ANOVA 실시\n",
    " - Assumption  \n",
    "   ① 정규성 / ② 등분산성 / ③ 독립성  \n",
    "   ④ 회귀계수의 동질성 (Homogeneity, 공변량과 독립변수 간의 교호작용 없음)\n",
    "\n",
    "#### 나. 상관분석\n",
    "\n",
    " - Pearson  \n",
    " - Spearman\n",
    " - Kendalls' Tau"
   ]
  },
  {
   "cell_type": "code",
   "execution_count": 6,
   "metadata": {},
   "outputs": [
    {
     "data": {
      "text/html": [
       "<div>\n",
       "<style scoped>\n",
       "    .dataframe tbody tr th:only-of-type {\n",
       "        vertical-align: middle;\n",
       "    }\n",
       "\n",
       "    .dataframe tbody tr th {\n",
       "        vertical-align: top;\n",
       "    }\n",
       "\n",
       "    .dataframe thead th {\n",
       "        text-align: right;\n",
       "    }\n",
       "</style>\n",
       "<table border=\"1\" class=\"dataframe\">\n",
       "  <thead>\n",
       "    <tr style=\"text-align: right;\">\n",
       "      <th></th>\n",
       "      <th>methodology</th>\n",
       "      <th>current_grade</th>\n",
       "      <th>test_score</th>\n",
       "    </tr>\n",
       "  </thead>\n",
       "  <tbody>\n",
       "    <tr>\n",
       "      <th>0</th>\n",
       "      <td>A</td>\n",
       "      <td>67</td>\n",
       "      <td>77</td>\n",
       "    </tr>\n",
       "    <tr>\n",
       "      <th>1</th>\n",
       "      <td>A</td>\n",
       "      <td>88</td>\n",
       "      <td>89</td>\n",
       "    </tr>\n",
       "    <tr>\n",
       "      <th>2</th>\n",
       "      <td>A</td>\n",
       "      <td>75</td>\n",
       "      <td>74</td>\n",
       "    </tr>\n",
       "    <tr>\n",
       "      <th>3</th>\n",
       "      <td>A</td>\n",
       "      <td>85</td>\n",
       "      <td>69</td>\n",
       "    </tr>\n",
       "    <tr>\n",
       "      <th>4</th>\n",
       "      <td>B</td>\n",
       "      <td>92</td>\n",
       "      <td>88</td>\n",
       "    </tr>\n",
       "    <tr>\n",
       "      <th>5</th>\n",
       "      <td>B</td>\n",
       "      <td>77</td>\n",
       "      <td>93</td>\n",
       "    </tr>\n",
       "    <tr>\n",
       "      <th>6</th>\n",
       "      <td>B</td>\n",
       "      <td>74</td>\n",
       "      <td>94</td>\n",
       "    </tr>\n",
       "    <tr>\n",
       "      <th>7</th>\n",
       "      <td>B</td>\n",
       "      <td>88</td>\n",
       "      <td>90</td>\n",
       "    </tr>\n",
       "    <tr>\n",
       "      <th>8</th>\n",
       "      <td>C</td>\n",
       "      <td>91</td>\n",
       "      <td>85</td>\n",
       "    </tr>\n",
       "    <tr>\n",
       "      <th>9</th>\n",
       "      <td>C</td>\n",
       "      <td>88</td>\n",
       "      <td>81</td>\n",
       "    </tr>\n",
       "    <tr>\n",
       "      <th>10</th>\n",
       "      <td>C</td>\n",
       "      <td>82</td>\n",
       "      <td>83</td>\n",
       "    </tr>\n",
       "    <tr>\n",
       "      <th>11</th>\n",
       "      <td>C</td>\n",
       "      <td>80</td>\n",
       "      <td>79</td>\n",
       "    </tr>\n",
       "  </tbody>\n",
       "</table>\n",
       "</div>"
      ],
      "text/plain": [
       "   methodology  current_grade  test_score\n",
       "0            A             67          77\n",
       "1            A             88          89\n",
       "2            A             75          74\n",
       "3            A             85          69\n",
       "4            B             92          88\n",
       "5            B             77          93\n",
       "6            B             74          94\n",
       "7            B             88          90\n",
       "8            C             91          85\n",
       "9            C             88          81\n",
       "10           C             82          83\n",
       "11           C             80          79"
      ]
     },
     "metadata": {},
     "output_type": "display_data"
    },
    {
     "data": {
      "text/html": [
       "<div>\n",
       "<style scoped>\n",
       "    .dataframe tbody tr th:only-of-type {\n",
       "        vertical-align: middle;\n",
       "    }\n",
       "\n",
       "    .dataframe tbody tr th {\n",
       "        vertical-align: top;\n",
       "    }\n",
       "\n",
       "    .dataframe thead th {\n",
       "        text-align: right;\n",
       "    }\n",
       "</style>\n",
       "<table border=\"1\" class=\"dataframe\">\n",
       "  <thead>\n",
       "    <tr style=\"text-align: right;\">\n",
       "      <th></th>\n",
       "      <th>Source</th>\n",
       "      <th>SS</th>\n",
       "      <th>DF</th>\n",
       "      <th>F</th>\n",
       "      <th>p-unc</th>\n",
       "      <th>np2</th>\n",
       "    </tr>\n",
       "  </thead>\n",
       "  <tbody>\n",
       "    <tr>\n",
       "      <th>0</th>\n",
       "      <td>methodology</td>\n",
       "      <td>387.510992</td>\n",
       "      <td>2</td>\n",
       "      <td>6.005703</td>\n",
       "      <td>0.025542</td>\n",
       "      <td>0.600228</td>\n",
       "    </tr>\n",
       "    <tr>\n",
       "      <th>1</th>\n",
       "      <td>current_grade</td>\n",
       "      <td>1.404669</td>\n",
       "      <td>1</td>\n",
       "      <td>0.043540</td>\n",
       "      <td>0.839927</td>\n",
       "      <td>0.005413</td>\n",
       "    </tr>\n",
       "    <tr>\n",
       "      <th>2</th>\n",
       "      <td>Residual</td>\n",
       "      <td>258.095331</td>\n",
       "      <td>8</td>\n",
       "      <td>NaN</td>\n",
       "      <td>NaN</td>\n",
       "      <td>NaN</td>\n",
       "    </tr>\n",
       "  </tbody>\n",
       "</table>\n",
       "</div>"
      ],
      "text/plain": [
       "          Source          SS  DF         F     p-unc       np2\n",
       "0    methodology  387.510992   2  6.005703  0.025542  0.600228\n",
       "1  current_grade    1.404669   1  0.043540  0.839927  0.005413\n",
       "2       Residual  258.095331   8       NaN       NaN       NaN"
      ]
     },
     "execution_count": 6,
     "metadata": {},
     "output_type": "execute_result"
    }
   ],
   "source": [
    "# ANCOVA\n",
    "import numpy as np\n",
    "import pandas as pd\n",
    " \n",
    "df4 = pd.DataFrame({'methodology': np.repeat(['A', 'B', 'C'], 4),\n",
    "                     'current_grade': [67, 88, 75, 85,\n",
    "                                       92, 77, 74, 88,\n",
    "                                       91, 88, 82, 80],\n",
    "                     'test_score': [77, 89, 74, 69,\n",
    "                                    88, 93, 94, 90,\n",
    "                                    85, 81, 83, 79]})\n",
    "\n",
    "display(df4)\n",
    "\n",
    "from pingouin import ancova\n",
    "\n",
    "result = ancova(data = df4, dv = 'test_score', covar = 'current_grade'\n",
    "               , between = 'methodology')\n",
    "\n",
    "result"
   ]
  },
  {
   "cell_type": "markdown",
   "metadata": {},
   "source": [
    " - SS : Sum of Squares\n",
    " - p-unc : Uncorrected P-value\n",
    " - np2 : Partial $\\eta$-squared"
   ]
  },
  {
   "cell_type": "code",
   "execution_count": 9,
   "metadata": {},
   "outputs": [
    {
     "data": {
      "text/plain": [
       "PearsonRResult(statistic=0.5864501344746886, pvalue=3.4660064451673575e-42)"
      ]
     },
     "execution_count": 9,
     "metadata": {},
     "output_type": "execute_result"
    }
   ],
   "source": [
    "# Correlation Coefficient\n",
    "\n",
    "## 1. Pearson\n",
    "from sklearn import datasets\n",
    "import scipy.stats as stats\n",
    "\n",
    "df5_temp = datasets.load_diabetes()\n",
    "df5 = pd.DataFrame(data = df5_temp['data'], index = df5_temp['target']\n",
    "                  , columns = df5_temp['feature_names'])\n",
    "\n",
    "stats.pearsonr(df5['bmi'].values, df5.index.values)"
   ]
  },
  {
   "cell_type": "code",
   "execution_count": null,
   "metadata": {},
   "outputs": [],
   "source": [
    "## 2. Spearman\n"
   ]
  }
 ],
 "metadata": {
  "kernelspec": {
   "display_name": "Python 3",
   "language": "python",
   "name": "python3"
  },
  "language_info": {
   "codemirror_mode": {
    "name": "ipython",
    "version": 3
   },
   "file_extension": ".py",
   "mimetype": "text/x-python",
   "name": "python",
   "nbconvert_exporter": "python",
   "pygments_lexer": "ipython3",
   "version": "3.7.3"
  }
 },
 "nbformat": 4,
 "nbformat_minor": 5
}
