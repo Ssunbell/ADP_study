{
 "cells": [
  {
   "cell_type": "code",
   "execution_count": 37,
   "metadata": {},
   "outputs": [
    {
     "data": {
      "text/html": [
       "<div>\n",
       "<style scoped>\n",
       "    .dataframe tbody tr th:only-of-type {\n",
       "        vertical-align: middle;\n",
       "    }\n",
       "\n",
       "    .dataframe tbody tr th {\n",
       "        vertical-align: top;\n",
       "    }\n",
       "\n",
       "    .dataframe thead th {\n",
       "        text-align: right;\n",
       "    }\n",
       "</style>\n",
       "<table border=\"1\" class=\"dataframe\">\n",
       "  <thead>\n",
       "    <tr style=\"text-align: right;\">\n",
       "      <th></th>\n",
       "      <th>날짜</th>\n",
       "      <th>종로구</th>\n",
       "    </tr>\n",
       "  </thead>\n",
       "  <tbody>\n",
       "    <tr>\n",
       "      <th>0</th>\n",
       "      <td>2022-03-30</td>\n",
       "      <td>37261</td>\n",
       "    </tr>\n",
       "    <tr>\n",
       "      <th>1</th>\n",
       "      <td>2022-03-29</td>\n",
       "      <td>36216</td>\n",
       "    </tr>\n",
       "    <tr>\n",
       "      <th>2</th>\n",
       "      <td>2022-03-28</td>\n",
       "      <td>35276</td>\n",
       "    </tr>\n",
       "    <tr>\n",
       "      <th>3</th>\n",
       "      <td>2022-03-27</td>\n",
       "      <td>34879</td>\n",
       "    </tr>\n",
       "    <tr>\n",
       "      <th>4</th>\n",
       "      <td>2022-03-26</td>\n",
       "      <td>34061</td>\n",
       "    </tr>\n",
       "    <tr>\n",
       "      <th>...</th>\n",
       "      <td>...</td>\n",
       "      <td>...</td>\n",
       "    </tr>\n",
       "    <tr>\n",
       "      <th>780</th>\n",
       "      <td>2020-02-09</td>\n",
       "      <td>0</td>\n",
       "    </tr>\n",
       "    <tr>\n",
       "      <th>781</th>\n",
       "      <td>2020-02-08</td>\n",
       "      <td>0</td>\n",
       "    </tr>\n",
       "    <tr>\n",
       "      <th>782</th>\n",
       "      <td>2020-02-07</td>\n",
       "      <td>0</td>\n",
       "    </tr>\n",
       "    <tr>\n",
       "      <th>783</th>\n",
       "      <td>2020-02-06</td>\n",
       "      <td>3</td>\n",
       "    </tr>\n",
       "    <tr>\n",
       "      <th>784</th>\n",
       "      <td>2020-02-05</td>\n",
       "      <td>3</td>\n",
       "    </tr>\n",
       "  </tbody>\n",
       "</table>\n",
       "<p>785 rows × 2 columns</p>\n",
       "</div>"
      ],
      "text/plain": [
       "             날짜    종로구\n",
       "0    2022-03-30  37261\n",
       "1    2022-03-29  36216\n",
       "2    2022-03-28  35276\n",
       "3    2022-03-27  34879\n",
       "4    2022-03-26  34061\n",
       "..          ...    ...\n",
       "780  2020-02-09      0\n",
       "781  2020-02-08      0\n",
       "782  2020-02-07      0\n",
       "783  2020-02-06      3\n",
       "784  2020-02-05      3\n",
       "\n",
       "[785 rows x 2 columns]"
      ]
     },
     "execution_count": 37,
     "metadata": {},
     "output_type": "execute_result"
    }
   ],
   "source": [
    "import pandas as pd\n",
    "import requests\n",
    "from io import StringIO\n",
    "\n",
    "url = 'https://raw.githubusercontent.com/ADPclass/ADP_book_ver01/main/data/서울특별시 코로나19.csv'\n",
    "response = requests.get(url)\n",
    "df = pd.read_csv(StringIO(response.text))[['날짜', '종로구']]\n",
    "df"
   ]
  },
  {
   "cell_type": "markdown",
   "metadata": {},
   "source": [
    "#### 1. 전처리 : 시계열은 시간에 대한 정보가 중요하기 때문에, 단순히 행과 열로 되어있는 pandas를 시계열적인 의미를 주기 위해 전처리가 필요합니다.\n",
    "\n",
    "- 먼저 날짜를 datetimeIndex 객체로 변환합니다."
   ]
  },
  {
   "cell_type": "code",
   "execution_count": 38,
   "metadata": {},
   "outputs": [
    {
     "data": {
      "text/html": [
       "<div>\n",
       "<style scoped>\n",
       "    .dataframe tbody tr th:only-of-type {\n",
       "        vertical-align: middle;\n",
       "    }\n",
       "\n",
       "    .dataframe tbody tr th {\n",
       "        vertical-align: top;\n",
       "    }\n",
       "\n",
       "    .dataframe thead th {\n",
       "        text-align: right;\n",
       "    }\n",
       "</style>\n",
       "<table border=\"1\" class=\"dataframe\">\n",
       "  <thead>\n",
       "    <tr style=\"text-align: right;\">\n",
       "      <th></th>\n",
       "      <th>종로구</th>\n",
       "    </tr>\n",
       "    <tr>\n",
       "      <th>날짜</th>\n",
       "      <th></th>\n",
       "    </tr>\n",
       "  </thead>\n",
       "  <tbody>\n",
       "    <tr>\n",
       "      <th>2022-03-30</th>\n",
       "      <td>37261</td>\n",
       "    </tr>\n",
       "    <tr>\n",
       "      <th>2022-03-29</th>\n",
       "      <td>36216</td>\n",
       "    </tr>\n",
       "    <tr>\n",
       "      <th>2022-03-28</th>\n",
       "      <td>35276</td>\n",
       "    </tr>\n",
       "    <tr>\n",
       "      <th>2022-03-27</th>\n",
       "      <td>34879</td>\n",
       "    </tr>\n",
       "    <tr>\n",
       "      <th>2022-03-26</th>\n",
       "      <td>34061</td>\n",
       "    </tr>\n",
       "    <tr>\n",
       "      <th>...</th>\n",
       "      <td>...</td>\n",
       "    </tr>\n",
       "    <tr>\n",
       "      <th>2020-02-09</th>\n",
       "      <td>0</td>\n",
       "    </tr>\n",
       "    <tr>\n",
       "      <th>2020-02-08</th>\n",
       "      <td>0</td>\n",
       "    </tr>\n",
       "    <tr>\n",
       "      <th>2020-02-07</th>\n",
       "      <td>0</td>\n",
       "    </tr>\n",
       "    <tr>\n",
       "      <th>2020-02-06</th>\n",
       "      <td>3</td>\n",
       "    </tr>\n",
       "    <tr>\n",
       "      <th>2020-02-05</th>\n",
       "      <td>3</td>\n",
       "    </tr>\n",
       "  </tbody>\n",
       "</table>\n",
       "<p>785 rows × 1 columns</p>\n",
       "</div>"
      ],
      "text/plain": [
       "              종로구\n",
       "날짜               \n",
       "2022-03-30  37261\n",
       "2022-03-29  36216\n",
       "2022-03-28  35276\n",
       "2022-03-27  34879\n",
       "2022-03-26  34061\n",
       "...           ...\n",
       "2020-02-09      0\n",
       "2020-02-08      0\n",
       "2020-02-07      0\n",
       "2020-02-06      3\n",
       "2020-02-05      3\n",
       "\n",
       "[785 rows x 1 columns]"
      ]
     },
     "execution_count": 38,
     "metadata": {},
     "output_type": "execute_result"
    }
   ],
   "source": [
    "df['날짜'] = pd.to_datetime(df['날짜'], format='%Y-%m-%d')\n",
    "df = df.set_index('날짜')\n",
    "df"
   ]
  },
  {
   "cell_type": "markdown",
   "metadata": {},
   "source": [
    "#### 날짜가 오름차순이 되도록 정렬을 꼭 해줍니다. 위의 데이터는 오름차순으로 되어있지 않습니다."
   ]
  },
  {
   "cell_type": "code",
   "execution_count": 39,
   "metadata": {},
   "outputs": [
    {
     "data": {
      "text/html": [
       "<div>\n",
       "<style scoped>\n",
       "    .dataframe tbody tr th:only-of-type {\n",
       "        vertical-align: middle;\n",
       "    }\n",
       "\n",
       "    .dataframe tbody tr th {\n",
       "        vertical-align: top;\n",
       "    }\n",
       "\n",
       "    .dataframe thead th {\n",
       "        text-align: right;\n",
       "    }\n",
       "</style>\n",
       "<table border=\"1\" class=\"dataframe\">\n",
       "  <thead>\n",
       "    <tr style=\"text-align: right;\">\n",
       "      <th></th>\n",
       "      <th>종로구</th>\n",
       "    </tr>\n",
       "    <tr>\n",
       "      <th>날짜</th>\n",
       "      <th></th>\n",
       "    </tr>\n",
       "  </thead>\n",
       "  <tbody>\n",
       "    <tr>\n",
       "      <th>2020-02-05</th>\n",
       "      <td>3</td>\n",
       "    </tr>\n",
       "    <tr>\n",
       "      <th>2020-02-06</th>\n",
       "      <td>3</td>\n",
       "    </tr>\n",
       "    <tr>\n",
       "      <th>2020-02-07</th>\n",
       "      <td>0</td>\n",
       "    </tr>\n",
       "    <tr>\n",
       "      <th>2020-02-08</th>\n",
       "      <td>0</td>\n",
       "    </tr>\n",
       "    <tr>\n",
       "      <th>2020-02-09</th>\n",
       "      <td>0</td>\n",
       "    </tr>\n",
       "    <tr>\n",
       "      <th>...</th>\n",
       "      <td>...</td>\n",
       "    </tr>\n",
       "    <tr>\n",
       "      <th>2022-03-26</th>\n",
       "      <td>34061</td>\n",
       "    </tr>\n",
       "    <tr>\n",
       "      <th>2022-03-27</th>\n",
       "      <td>34879</td>\n",
       "    </tr>\n",
       "    <tr>\n",
       "      <th>2022-03-28</th>\n",
       "      <td>35276</td>\n",
       "    </tr>\n",
       "    <tr>\n",
       "      <th>2022-03-29</th>\n",
       "      <td>36216</td>\n",
       "    </tr>\n",
       "    <tr>\n",
       "      <th>2022-03-30</th>\n",
       "      <td>37261</td>\n",
       "    </tr>\n",
       "  </tbody>\n",
       "</table>\n",
       "<p>785 rows × 1 columns</p>\n",
       "</div>"
      ],
      "text/plain": [
       "              종로구\n",
       "날짜               \n",
       "2020-02-05      3\n",
       "2020-02-06      3\n",
       "2020-02-07      0\n",
       "2020-02-08      0\n",
       "2020-02-09      0\n",
       "...           ...\n",
       "2022-03-26  34061\n",
       "2022-03-27  34879\n",
       "2022-03-28  35276\n",
       "2022-03-29  36216\n",
       "2022-03-30  37261\n",
       "\n",
       "[785 rows x 1 columns]"
      ]
     },
     "execution_count": 39,
     "metadata": {},
     "output_type": "execute_result"
    }
   ],
   "source": [
    "df = df.sort_index()\n",
    "df"
   ]
  },
  {
   "cell_type": "markdown",
   "metadata": {},
   "source": [
    "날짜에서 정보를 뽑아낼 수 있습니다."
   ]
  },
  {
   "cell_type": "code",
   "execution_count": 40,
   "metadata": {},
   "outputs": [
    {
     "data": {
      "text/plain": [
       "(Int64Index([2020, 2020, 2020, 2020, 2020, 2020, 2020, 2020, 2020, 2020,\n",
       "             ...\n",
       "             2022, 2022, 2022, 2022, 2022, 2022, 2022, 2022, 2022, 2022],\n",
       "            dtype='int64', name='날짜', length=785),\n",
       " Int64Index([2, 2, 2, 2, 2, 2, 2, 2, 2, 2,\n",
       "             ...\n",
       "             3, 3, 3, 3, 3, 3, 3, 3, 3, 3],\n",
       "            dtype='int64', name='날짜', length=785),\n",
       " Int64Index([2, 3, 4, 5, 6, 0, 1, 2, 3, 4,\n",
       "             ...\n",
       "             0, 1, 2, 3, 4, 5, 6, 0, 1, 2],\n",
       "            dtype='int64', name='날짜', length=785),\n",
       " Index(['Wednesday', 'Thursday', 'Friday', 'Saturday', 'Sunday', 'Monday',\n",
       "        'Tuesday', 'Wednesday', 'Thursday', 'Friday',\n",
       "        ...\n",
       "        'Monday', 'Tuesday', 'Wednesday', 'Thursday', 'Friday', 'Saturday',\n",
       "        'Sunday', 'Monday', 'Tuesday', 'Wednesday'],\n",
       "       dtype='object', name='날짜', length=785))"
      ]
     },
     "execution_count": 40,
     "metadata": {},
     "output_type": "execute_result"
    }
   ],
   "source": [
    "# 년, 월, 요일(숫자), 요일(텍스트)\n",
    "df.index.year, df.index.month, df.index.weekday, df.index.day_name()"
   ]
  },
  {
   "cell_type": "markdown",
   "metadata": {},
   "source": [
    "p.s.) 단순한 timestamp에서 날짜로 변경하려면 다음 코드를 참고해주세요"
   ]
  },
  {
   "cell_type": "code",
   "execution_count": 24,
   "metadata": {},
   "outputs": [
    {
     "name": "stdout",
     "output_type": "stream",
     "text": [
      "2050-11-11 20:59:00\n"
     ]
    },
    {
     "data": {
      "text/plain": [
       "'2050-11-11'"
      ]
     },
     "execution_count": 24,
     "metadata": {},
     "output_type": "execute_result"
    }
   ],
   "source": [
    "from datetime import datetime\n",
    "\n",
    "timestamp = 2551780740\n",
    "timestamp = datetime.fromtimestamp(timestamp)\n",
    "print(timestamp)\n",
    "timestamp.strftime('%Y-%m-%d')"
   ]
  },
  {
   "cell_type": "markdown",
   "metadata": {},
   "source": [
    "날짜 범위를 생성하는 코드는 다음과 같습니다."
   ]
  },
  {
   "cell_type": "code",
   "execution_count": 16,
   "metadata": {},
   "outputs": [
    {
     "name": "stdout",
     "output_type": "stream",
     "text": [
      "2023-08-06 00:00:00\n",
      "2023-08-07 00:00:00\n",
      "2023-08-08 00:00:00\n"
     ]
    }
   ],
   "source": [
    "# 생성하는 날짜로부터 3기간, 일 기준\n",
    "r = pd.date_range('2023-08-06', periods=3, freq='D') # A(년), M(월), D(일), Q(분기), W(주), T(분), S(초)\n",
    "for d in r:\n",
    "    print(d)"
   ]
  },
  {
   "cell_type": "markdown",
   "metadata": {},
   "source": [
    "날짜 데이터를 연산하여 원하는 날짜를 구할 수도 있습니다."
   ]
  },
  {
   "cell_type": "code",
   "execution_count": 22,
   "metadata": {},
   "outputs": [
    {
     "name": "stdout",
     "output_type": "stream",
     "text": [
      "2050-11-11 20:59:00\n"
     ]
    },
    {
     "data": {
      "text/plain": [
       "datetime.datetime(2050, 10, 28, 20, 59)"
      ]
     },
     "execution_count": 22,
     "metadata": {},
     "output_type": "execute_result"
    }
   ],
   "source": [
    "from datetime import timedelta\n",
    "\n",
    "print(timestamp)\n",
    "# year, weeks, days, hours, minutes\n",
    "weeks2 = timedelta(weeks=2)\n",
    "timestamp - weeks2"
   ]
  },
  {
   "cell_type": "markdown",
   "metadata": {},
   "source": [
    "분석에서 요구하는 데이터 기간은 월 단위 데이터인데 주어진 데이터는 일 단위일 수 있습니다. 이럴 경우 데이터를 변환해줍니다."
   ]
  },
  {
   "cell_type": "code",
   "execution_count": 41,
   "metadata": {},
   "outputs": [
    {
     "name": "stdout",
     "output_type": "stream",
     "text": [
      "               종로구\n",
      "날짜                \n",
      "2020-03-31    13.0\n",
      "2020-06-30    22.0\n",
      "2020-09-30    88.0\n",
      "2020-12-31   393.0\n",
      "2021-03-31   620.0\n",
      "2021-06-30   821.0\n",
      "2021-09-30  1646.0\n",
      "2021-12-31  3973.0\n",
      "2022-03-31     NaN\n",
      "                종로구\n",
      "날짜                 \n",
      "2020-03-31      460\n",
      "2020-06-30     1624\n",
      "2020-09-30     4356\n",
      "2020-12-31    13190\n",
      "2021-03-31    47901\n",
      "2021-06-30    65419\n",
      "2021-09-30   105742\n",
      "2021-12-31   237250\n",
      "2022-03-31  1035254\n",
      "                     종로구\n",
      "날짜                      \n",
      "2020-03-31      8.214286\n",
      "2020-06-30     17.846154\n",
      "2020-09-30     47.347826\n",
      "2020-12-31    143.369565\n",
      "2021-03-31    532.233333\n",
      "2021-06-30    718.890110\n",
      "2021-09-30   1149.369565\n",
      "2021-12-31   2578.804348\n",
      "2022-03-31  11632.067416\n"
     ]
    }
   ],
   "source": [
    "# 해당 기간의 대표 날짜(1개)의 데이터를 반환\n",
    "print(df.resample(rule='Q').asfreq())\n",
    "\n",
    "# 해당 기간의 데이터 합을 반환\n",
    "print(df.resample(rule='Q').sum())\n",
    "\n",
    "# 해당 기간의 데이터 평균을 반환\n",
    "print(df.resample(rule='Q').mean())"
   ]
  },
  {
   "cell_type": "markdown",
   "metadata": {},
   "source": [
    "데이터에서 결측치가 존재할 가능성이 높습니다. 결측치를 처리하는 방법은 다음과 같습니다.\n",
    "1. foward fill : 결측치 이전 데이터를 그대로 복사\n",
    "2. backward fill : 결측치 다음 데이터를 그대로 복사\n",
    "3. 이동 평균(moving average) : 과거의 여러 시간대를 이용하여 채워넣음\n",
    "4. 보간법(Interpolation) : 과거 및 미래의 시간대를 이용하여 채워넣음"
   ]
  },
  {
   "cell_type": "code",
   "execution_count": 42,
   "metadata": {},
   "outputs": [],
   "source": [
    "# forward fill\n",
    "df_filled = df.fillna(method='ffill')\n",
    "\n",
    "# backward fill\n",
    "df_filled = df.fillna(method='bfill')\n",
    "\n",
    "# 이동평균\n",
    "df_filled = df.rolling(3, min_periods=1).mean() # 최소한 1개의 관측치가 있는 경우 3개 기간을 이용하여 평균내서 채우기\n",
    "\n",
    "# 보간법 (보통은 선형 보간법(linear) 혹은 거리 기반(nearest) 쓰면 됩니다.)\n",
    "df_filled = df.interpolate(method='linear')"
   ]
  },
  {
   "cell_type": "markdown",
   "metadata": {},
   "source": [
    "#### 2. EDA\n",
    "\n",
    "시계열에서 EDA할 것들은 많지 않지만 핵심은 이 데이터가 **정상성(stationary)** 를 만족하느냐 입니다.\n",
    "\n",
    "- 정상성이란 **시간에 상관없이 일정한 성질** 을 의미합니다.\n",
    "\n",
    "- 이 표현을 통계적으로 표현하면 **확률분포가 같아 기간에 따른 모평균 모분산이 동일하다** 라고 표현할 수 있습니다.\n",
    "\n",
    "- 하지만 시계열 데이터가 평균 분산이 같은 데이터는 현실에 존재하지 않습니다.\n",
    "\n",
    "- 따라서, 정상성은 강 정상성, 약 정상성으로 나누고 약 정상성을 만족하면 정상성을 만족한다고 생각합니다.\n",
    "\n",
    "- 약 정상성을 띠는 시계열 데이터는 어느 시점(t)에 관측해도 확률 과정의 성질(E(Xt), Var(Xt))이 변하지 않습니다.\n",
    "\n",
    "1. 즉, 정상성을 만족하면 선형 시계열 분석이 가능해집니다.\n",
    "2. 정상성을 만족하지 않으면 비선형 시계열 or 머신러닝으로 분석해야 합니다."
   ]
  },
  {
   "cell_type": "markdown",
   "metadata": {},
   "source": [
    "##### eda 1: 기술 통계량 및 시각화를 진행합니다."
   ]
  },
  {
   "cell_type": "code",
   "execution_count": 44,
   "metadata": {},
   "outputs": [
    {
     "name": "stdout",
     "output_type": "stream",
     "text": [
      "<class 'pandas.core.frame.DataFrame'>\n",
      "DatetimeIndex: 785 entries, 2020-02-05 to 2022-03-30\n",
      "Data columns (total 1 columns):\n",
      " #   Column  Non-Null Count  Dtype\n",
      "---  ------  --------------  -----\n",
      " 0   종로구     785 non-null    int64\n",
      "dtypes: int64(1)\n",
      "memory usage: 32.3 KB\n"
     ]
    }
   ],
   "source": [
    "df.info()"
   ]
  },
  {
   "cell_type": "code",
   "execution_count": 46,
   "metadata": {},
   "outputs": [
    {
     "data": {
      "text/html": [
       "<div>\n",
       "<style scoped>\n",
       "    .dataframe tbody tr th:only-of-type {\n",
       "        vertical-align: middle;\n",
       "    }\n",
       "\n",
       "    .dataframe tbody tr th {\n",
       "        vertical-align: top;\n",
       "    }\n",
       "\n",
       "    .dataframe thead th {\n",
       "        text-align: right;\n",
       "    }\n",
       "</style>\n",
       "<table border=\"1\" class=\"dataframe\">\n",
       "  <thead>\n",
       "    <tr style=\"text-align: right;\">\n",
       "      <th></th>\n",
       "      <th>count</th>\n",
       "      <th>mean</th>\n",
       "      <th>std</th>\n",
       "      <th>min</th>\n",
       "      <th>25%</th>\n",
       "      <th>50%</th>\n",
       "      <th>75%</th>\n",
       "      <th>max</th>\n",
       "    </tr>\n",
       "  </thead>\n",
       "  <tbody>\n",
       "    <tr>\n",
       "      <th>종로구</th>\n",
       "      <td>785.0</td>\n",
       "      <td>1925.090446</td>\n",
       "      <td>4900.384096</td>\n",
       "      <td>0.0</td>\n",
       "      <td>37.0</td>\n",
       "      <td>561.0</td>\n",
       "      <td>1356.0</td>\n",
       "      <td>37261.0</td>\n",
       "    </tr>\n",
       "  </tbody>\n",
       "</table>\n",
       "</div>"
      ],
      "text/plain": [
       "     count         mean          std  min   25%    50%     75%      max\n",
       "종로구  785.0  1925.090446  4900.384096  0.0  37.0  561.0  1356.0  37261.0"
      ]
     },
     "execution_count": 46,
     "metadata": {},
     "output_type": "execute_result"
    }
   ],
   "source": [
    "df.describe().T"
   ]
  },
  {
   "cell_type": "code",
   "execution_count": 49,
   "metadata": {},
   "outputs": [
    {
     "data": {
      "text/plain": [
       "<AxesSubplot:xlabel='날짜'>"
      ]
     },
     "execution_count": 49,
     "metadata": {},
     "output_type": "execute_result"
    },
    {
     "data": {
      "image/png": "[encoded data removed]",
      "text/plain": [
       "<Figure size 432x288 with 1 Axes>"
      ]
     },
     "metadata": {
      "needs_background": "light"
     },
     "output_type": "display_data"
    }
   ],
   "source": [
    "import warnings\n",
    "warnings.filterwarnings('ignore')\n",
    "\n",
    "df.plot()"
   ]
  },
  {
   "cell_type": "markdown",
   "metadata": {},
   "source": [
    "대충 봐도 정상성을 확보한 데이터가 아니라는 것을 알 수 있습니다. 이를 통해 전처리를 해야 겠다는 판단을 합니다."
   ]
  },
  {
   "cell_type": "markdown",
   "metadata": {},
   "source": [
    "##### eda 2: seasonal_decompose를 통해서 크게 3가지를 확인해야 합니다.\n",
    "\n",
    "<img width=\"664\" alt=\"스크린샷 2023-08-06 오전 10 03 00\" src=\"https://github.com/Ssunbell/ADP_study/assets/97590480/2f592aa5-8c50-4803-8699-a12c91651ad5\">\n",
    "\n",
    "1. observed : 관측치\n",
    "2. 추세(Trend) : 일정하게 상승하는 그래프가 존재하면 추세가 존재한다는 것이고, 이는 차분을 통해서 해결할 수 있습니다.\n",
    "3. 계절성(Seasonality) : 일정한 주기를 가지고 위아래로 왔다갔다 할 경우 계절성이 존재하는 것이고 이는 이동 평균법 등을 통해서 해결할 수 있습니다.\n",
    "4. 잔차 : 분석에 사용하는 값. 이 잔차가 정상성을 확보하고 있는지를 파악해야 함.\n",
    "\n",
    "위의 예시는 추세 및 계절성이 모두 존재합니다."
   ]
  },
  {
   "cell_type": "code",
   "execution_count": 53,
   "metadata": {},
   "outputs": [
    {
     "data": {
      "image/png": "[encoded data removed]",
      "text/plain": [
       "<Figure size 432x288 with 4 Axes>"
      ]
     },
     "execution_count": 53,
     "metadata": {},
     "output_type": "execute_result"
    },
    {
     "data": {
      "image/png": "[encoded data removed]",
      "text/plain": [
       "<Figure size 432x288 with 4 Axes>"
      ]
     },
     "metadata": {
      "needs_background": "light"
     },
     "output_type": "display_data"
    }
   ],
   "source": [
    "from statsmodels.tsa.seasonal import seasonal_decompose\n",
    "\n",
    "# 시계열 데이터 분해\n",
    "#  'additive'나 'multiplicative' 중 하나를 선택합니다.\n",
    "#  additive 모델은 계절성 성분과 추세가 더해져서 관측값을 구성한다고 가정하고,\n",
    "#  multiplicative 모델은 계절성 성분과 추세가 곱해져서 관측값을 구성한다고 가정\n",
    "result = seasonal_decompose(df, model='additive')\n",
    "\n",
    "result.plot()"
   ]
  },
  {
   "cell_type": "markdown",
   "metadata": {},
   "source": [
    "#### eda3 : 정상성 확보\n",
    "\n",
    "해당 데이터는 추세가 존재하기 때문에 정상성이 확보되어 있지 않습니다.\n",
    "\n",
    "또한, 비정상성이라는 말은 다음 두가지 말로 표현할 수 있습니다.\n",
    "\n",
    "- random walk한다는 말과 동일합니다.\n",
    "- 단위근($\\phi$ ; unit root)이 1 이상이라는 말과 동일합니다.\n",
    "\n",
    "random walk는 \n",
    "\n",
    "$$y_{t} = \\phi y_{t-1} + \\epsilon_{t}$$\n",
    "\n",
    "에서 $\\phi >= 1$을 의미합니다.\n",
    "\n",
    "즉, 시간이 지날수록 어떤 평균 값으로 수렴하는 것이 아닌 발산하는 그래프를 의미합니다.\n",
    "\n",
    "##### 이러한 정상성이 확보되어 있는지 확인하는 방법이 단위근 검정입니다. 단위근 검정은 adf test (augmented dfuller test)를 진행합니다.\n",
    "\n",
    "정상성이 확보되어있지 않다면 $\\phi < 1$이 되도록 전처리를 해줍니다."
   ]
  },
  {
   "cell_type": "code",
   "execution_count": 59,
   "metadata": {},
   "outputs": [
    {
     "name": "stdout",
     "output_type": "stream",
     "text": [
      "ADF Statistic: 1.829849\n",
      "p-value: 0.998406\n"
     ]
    }
   ],
   "source": [
    "from statsmodels.tsa.stattools import adfuller\n",
    "\n",
    "# H0 : 단위근이 있다.\n",
    "# H1 : 단위근이 없다.\n",
    "result = adfuller(df['종로구'])\n",
    "\n",
    "# 단위근 존재\n",
    "print('ADF Statistic: %f' % result[0])\n",
    "print('p-value: %f' % result[1])"
   ]
  },
  {
   "cell_type": "code",
   "execution_count": 62,
   "metadata": {},
   "outputs": [
    {
     "name": "stdout",
     "output_type": "stream",
     "text": [
      "ADF Statistic: -2.156076\n",
      "p-value: 0.222572\n"
     ]
    },
    {
     "data": {
      "image/png": "[encoded data removed]",
      "text/plain": [
       "<Figure size 432x288 with 1 Axes>"
      ]
     },
     "metadata": {
      "needs_background": "light"
     },
     "output_type": "display_data"
    }
   ],
   "source": [
    "df_diff = df.diff().dropna()\n",
    "df_diff.plot()\n",
    "\n",
    "result = adfuller(df_diff['종로구'])\n",
    "\n",
    "# 단위근 존재\n",
    "print('ADF Statistic: %f' % result[0])\n",
    "print('p-value: %f' % result[1])"
   ]
  },
  {
   "cell_type": "code",
   "execution_count": 111,
   "metadata": {},
   "outputs": [
    {
     "data": {
      "text/html": [
       "<div>\n",
       "<style scoped>\n",
       "    .dataframe tbody tr th:only-of-type {\n",
       "        vertical-align: middle;\n",
       "    }\n",
       "\n",
       "    .dataframe tbody tr th {\n",
       "        vertical-align: top;\n",
       "    }\n",
       "\n",
       "    .dataframe thead th {\n",
       "        text-align: right;\n",
       "    }\n",
       "</style>\n",
       "<table border=\"1\" class=\"dataframe\">\n",
       "  <thead>\n",
       "    <tr style=\"text-align: right;\">\n",
       "      <th></th>\n",
       "      <th>종로구</th>\n",
       "    </tr>\n",
       "    <tr>\n",
       "      <th>날짜</th>\n",
       "      <th></th>\n",
       "    </tr>\n",
       "  </thead>\n",
       "  <tbody>\n",
       "    <tr>\n",
       "      <th>2020-02-05</th>\n",
       "      <td>NaN</td>\n",
       "    </tr>\n",
       "    <tr>\n",
       "      <th>2020-02-06</th>\n",
       "      <td>3.0</td>\n",
       "    </tr>\n",
       "    <tr>\n",
       "      <th>2020-02-07</th>\n",
       "      <td>3.0</td>\n",
       "    </tr>\n",
       "    <tr>\n",
       "      <th>2020-02-08</th>\n",
       "      <td>0.0</td>\n",
       "    </tr>\n",
       "    <tr>\n",
       "      <th>2020-02-09</th>\n",
       "      <td>0.0</td>\n",
       "    </tr>\n",
       "    <tr>\n",
       "      <th>...</th>\n",
       "      <td>...</td>\n",
       "    </tr>\n",
       "    <tr>\n",
       "      <th>2022-03-26</th>\n",
       "      <td>35766.0</td>\n",
       "    </tr>\n",
       "    <tr>\n",
       "      <th>2022-03-27</th>\n",
       "      <td>34061.0</td>\n",
       "    </tr>\n",
       "    <tr>\n",
       "      <th>2022-03-28</th>\n",
       "      <td>34879.0</td>\n",
       "    </tr>\n",
       "    <tr>\n",
       "      <th>2022-03-29</th>\n",
       "      <td>35276.0</td>\n",
       "    </tr>\n",
       "    <tr>\n",
       "      <th>2022-03-30</th>\n",
       "      <td>36216.0</td>\n",
       "    </tr>\n",
       "  </tbody>\n",
       "</table>\n",
       "<p>785 rows × 1 columns</p>\n",
       "</div>"
      ],
      "text/plain": [
       "                종로구\n",
       "날짜                 \n",
       "2020-02-05      NaN\n",
       "2020-02-06      3.0\n",
       "2020-02-07      3.0\n",
       "2020-02-08      0.0\n",
       "2020-02-09      0.0\n",
       "...             ...\n",
       "2022-03-26  35766.0\n",
       "2022-03-27  34061.0\n",
       "2022-03-28  34879.0\n",
       "2022-03-29  35276.0\n",
       "2022-03-30  36216.0\n",
       "\n",
       "[785 rows x 1 columns]"
      ]
     },
     "execution_count": 111,
     "metadata": {},
     "output_type": "execute_result"
    }
   ],
   "source": [
    "df.shift(1)"
   ]
  },
  {
   "cell_type": "markdown",
   "metadata": {},
   "source": [
    "위의 데이터에서 차분을 해서 adf 검정을 했는데도 정상성이 만족되지 않았습니다.\n",
    "\n",
    "이 경우 차분 전에 log, box-cox, yeo_johnson 변환 등을 이용할 수 있습니다.\n",
    "\n",
    "log 변환은 데이터 안에 0이 존재하면 -inf로 변환되므로 해당 데이터에서는 적용하기 힘듭니다.\n",
    "\n",
    "box-cox 변환은 양수 데이터에서만 가능하므로 0이 포함되어 있으면 변환이 안됩니다."
   ]
  },
  {
   "cell_type": "code",
   "execution_count": 76,
   "metadata": {},
   "outputs": [
    {
     "data": {
      "text/html": [
       "<div>\n",
       "<style scoped>\n",
       "    .dataframe tbody tr th:only-of-type {\n",
       "        vertical-align: middle;\n",
       "    }\n",
       "\n",
       "    .dataframe tbody tr th {\n",
       "        vertical-align: top;\n",
       "    }\n",
       "\n",
       "    .dataframe thead th {\n",
       "        text-align: right;\n",
       "    }\n",
       "</style>\n",
       "<table border=\"1\" class=\"dataframe\">\n",
       "  <thead>\n",
       "    <tr style=\"text-align: right;\">\n",
       "      <th></th>\n",
       "      <th>종로구</th>\n",
       "    </tr>\n",
       "    <tr>\n",
       "      <th>날짜</th>\n",
       "      <th></th>\n",
       "    </tr>\n",
       "  </thead>\n",
       "  <tbody>\n",
       "    <tr>\n",
       "      <th>2020-02-05</th>\n",
       "      <td>3</td>\n",
       "    </tr>\n",
       "    <tr>\n",
       "      <th>2020-02-06</th>\n",
       "      <td>3</td>\n",
       "    </tr>\n",
       "    <tr>\n",
       "      <th>2020-02-07</th>\n",
       "      <td>0</td>\n",
       "    </tr>\n",
       "    <tr>\n",
       "      <th>2020-02-08</th>\n",
       "      <td>0</td>\n",
       "    </tr>\n",
       "    <tr>\n",
       "      <th>2020-02-09</th>\n",
       "      <td>0</td>\n",
       "    </tr>\n",
       "    <tr>\n",
       "      <th>...</th>\n",
       "      <td>...</td>\n",
       "    </tr>\n",
       "    <tr>\n",
       "      <th>2022-03-26</th>\n",
       "      <td>34061</td>\n",
       "    </tr>\n",
       "    <tr>\n",
       "      <th>2022-03-27</th>\n",
       "      <td>34879</td>\n",
       "    </tr>\n",
       "    <tr>\n",
       "      <th>2022-03-28</th>\n",
       "      <td>35276</td>\n",
       "    </tr>\n",
       "    <tr>\n",
       "      <th>2022-03-29</th>\n",
       "      <td>36216</td>\n",
       "    </tr>\n",
       "    <tr>\n",
       "      <th>2022-03-30</th>\n",
       "      <td>37261</td>\n",
       "    </tr>\n",
       "  </tbody>\n",
       "</table>\n",
       "<p>785 rows × 1 columns</p>\n",
       "</div>"
      ],
      "text/plain": [
       "              종로구\n",
       "날짜               \n",
       "2020-02-05      3\n",
       "2020-02-06      3\n",
       "2020-02-07      0\n",
       "2020-02-08      0\n",
       "2020-02-09      0\n",
       "...           ...\n",
       "2022-03-26  34061\n",
       "2022-03-27  34879\n",
       "2022-03-28  35276\n",
       "2022-03-29  36216\n",
       "2022-03-30  37261\n",
       "\n",
       "[785 rows x 1 columns]"
      ]
     },
     "execution_count": 76,
     "metadata": {},
     "output_type": "execute_result"
    }
   ],
   "source": [
    "df\n",
    "\n",
    "### log 변환\n",
    "# df_log = np.log(df)\n",
    "# df_ldiff = df_log.diff().dropna()\n",
    "# df_ldiff.plot()\n",
    "\n",
    "# result = adfuller(df_ldiff['종로구'])\n",
    "\n",
    "# # 단위근 존재\n",
    "# print('ADF Statistic: %f' % result[0])\n",
    "# print('p-value: %f' % result[1])"
   ]
  },
  {
   "cell_type": "code",
   "execution_count": 93,
   "metadata": {},
   "outputs": [
    {
     "data": {
      "text/html": [
       "<div>\n",
       "<style scoped>\n",
       "    .dataframe tbody tr th:only-of-type {\n",
       "        vertical-align: middle;\n",
       "    }\n",
       "\n",
       "    .dataframe tbody tr th {\n",
       "        vertical-align: top;\n",
       "    }\n",
       "\n",
       "    .dataframe thead th {\n",
       "        text-align: right;\n",
       "    }\n",
       "</style>\n",
       "<table border=\"1\" class=\"dataframe\">\n",
       "  <thead>\n",
       "    <tr style=\"text-align: right;\">\n",
       "      <th></th>\n",
       "      <th>종로구</th>\n",
       "    </tr>\n",
       "    <tr>\n",
       "      <th>날짜</th>\n",
       "      <th></th>\n",
       "    </tr>\n",
       "  </thead>\n",
       "  <tbody>\n",
       "    <tr>\n",
       "      <th>2020-02-05</th>\n",
       "      <td>1.433329</td>\n",
       "    </tr>\n",
       "    <tr>\n",
       "      <th>2020-02-06</th>\n",
       "      <td>1.433329</td>\n",
       "    </tr>\n",
       "    <tr>\n",
       "      <th>2020-02-07</th>\n",
       "      <td>0.000000</td>\n",
       "    </tr>\n",
       "    <tr>\n",
       "      <th>2020-02-08</th>\n",
       "      <td>0.000000</td>\n",
       "    </tr>\n",
       "    <tr>\n",
       "      <th>2020-02-09</th>\n",
       "      <td>0.000000</td>\n",
       "    </tr>\n",
       "    <tr>\n",
       "      <th>...</th>\n",
       "      <td>...</td>\n",
       "    </tr>\n",
       "    <tr>\n",
       "      <th>2022-03-26</th>\n",
       "      <td>13.536983</td>\n",
       "    </tr>\n",
       "    <tr>\n",
       "      <th>2022-03-27</th>\n",
       "      <td>13.576115</td>\n",
       "    </tr>\n",
       "    <tr>\n",
       "      <th>2022-03-28</th>\n",
       "      <td>13.594793</td>\n",
       "    </tr>\n",
       "    <tr>\n",
       "      <th>2022-03-29</th>\n",
       "      <td>13.638232</td>\n",
       "    </tr>\n",
       "    <tr>\n",
       "      <th>2022-03-30</th>\n",
       "      <td>13.685281</td>\n",
       "    </tr>\n",
       "  </tbody>\n",
       "</table>\n",
       "<p>785 rows × 1 columns</p>\n",
       "</div>"
      ],
      "text/plain": [
       "                  종로구\n",
       "날짜                   \n",
       "2020-02-05   1.433329\n",
       "2020-02-06   1.433329\n",
       "2020-02-07   0.000000\n",
       "2020-02-08   0.000000\n",
       "2020-02-09   0.000000\n",
       "...               ...\n",
       "2022-03-26  13.536983\n",
       "2022-03-27  13.576115\n",
       "2022-03-28  13.594793\n",
       "2022-03-29  13.638232\n",
       "2022-03-30  13.685281\n",
       "\n",
       "[785 rows x 1 columns]"
      ]
     },
     "execution_count": 93,
     "metadata": {},
     "output_type": "execute_result"
    }
   ],
   "source": [
    "from sklearn.preprocessing import PowerTransformer\n",
    "\n",
    "# box_cox = PowerTransformer(method='box-cox')\n",
    "# df_box = box_cox.fit_transform(df)\n",
    "# df_box\n",
    "\n",
    "yeo_johnson_transformer = PowerTransformer(method='yeo-johnson', standardize=False)\n",
    "df_yeo = df.copy()\n",
    "df_yeo['종로구'] = yeo_johnson_transformer.fit_transform(df)\n",
    "df_yeo"
   ]
  },
  {
   "cell_type": "code",
   "execution_count": 99,
   "metadata": {},
   "outputs": [
    {
     "name": "stdout",
     "output_type": "stream",
     "text": [
      "784\n"
     ]
    },
    {
     "data": {
      "image/png": "[encoded data removed]",
      "text/plain": [
       "<Figure size 432x288 with 1 Axes>"
      ]
     },
     "metadata": {
      "needs_background": "light"
     },
     "output_type": "display_data"
    }
   ],
   "source": [
    "df_yeo_diff = df_yeo.diff().dropna()\n",
    "\n",
    "df_yeo_diff.plot()\n",
    "\n",
    "print(len(df_yeo_diff))"
   ]
  },
  {
   "cell_type": "code",
   "execution_count": 98,
   "metadata": {},
   "outputs": [
    {
     "name": "stdout",
     "output_type": "stream",
     "text": [
      "ADF Statistic: -6.858211\n",
      "p-value: 0.000000\n"
     ]
    }
   ],
   "source": [
    "result = adfuller(df_yeo_diff)\n",
    "\n",
    "# 단위근 존재\n",
    "print('ADF Statistic: %f' % result[0])\n",
    "print('p-value: %f' % result[1])"
   ]
  },
  {
   "cell_type": "markdown",
   "metadata": {},
   "source": [
    "adf test를 시행한 결과 정상성이 확보된 것을 볼 수 있습니다.\n",
    "\n",
    "#### 하지만 이것이 정확한 분석일까요??\n",
    "\n",
    "위의 차분 그래프를 보면 분석자가 원하는 분석은 시계열을 통해 변화를 예측하는 것일 겁니다.\n",
    "\n",
    "따라서 분석의 초점에 맞춰보면 2021년 이전 데이터는 굳이 필요하지 않을 수도 있습니다.\n",
    "\n",
    "이 경우에 adf test를 만족하기 위해서는 분석 기간을 조정하여 adf test를 만족하게 하는 방법도 존재합니다."
   ]
  },
  {
   "cell_type": "code",
   "execution_count": 102,
   "metadata": {},
   "outputs": [
    {
     "data": {
      "text/html": [
       "<div>\n",
       "<style scoped>\n",
       "    .dataframe tbody tr th:only-of-type {\n",
       "        vertical-align: middle;\n",
       "    }\n",
       "\n",
       "    .dataframe tbody tr th {\n",
       "        vertical-align: top;\n",
       "    }\n",
       "\n",
       "    .dataframe thead th {\n",
       "        text-align: right;\n",
       "    }\n",
       "</style>\n",
       "<table border=\"1\" class=\"dataframe\">\n",
       "  <thead>\n",
       "    <tr style=\"text-align: right;\">\n",
       "      <th></th>\n",
       "      <th>종로구</th>\n",
       "    </tr>\n",
       "    <tr>\n",
       "      <th>날짜</th>\n",
       "      <th></th>\n",
       "    </tr>\n",
       "  </thead>\n",
       "  <tbody>\n",
       "    <tr>\n",
       "      <th>2021-01-01</th>\n",
       "      <td>404</td>\n",
       "    </tr>\n",
       "    <tr>\n",
       "      <th>2021-01-02</th>\n",
       "      <td>414</td>\n",
       "    </tr>\n",
       "    <tr>\n",
       "      <th>2021-01-03</th>\n",
       "      <td>418</td>\n",
       "    </tr>\n",
       "    <tr>\n",
       "      <th>2021-01-04</th>\n",
       "      <td>422</td>\n",
       "    </tr>\n",
       "    <tr>\n",
       "      <th>2021-01-05</th>\n",
       "      <td>426</td>\n",
       "    </tr>\n",
       "    <tr>\n",
       "      <th>...</th>\n",
       "      <td>...</td>\n",
       "    </tr>\n",
       "    <tr>\n",
       "      <th>2022-03-26</th>\n",
       "      <td>34061</td>\n",
       "    </tr>\n",
       "    <tr>\n",
       "      <th>2022-03-27</th>\n",
       "      <td>34879</td>\n",
       "    </tr>\n",
       "    <tr>\n",
       "      <th>2022-03-28</th>\n",
       "      <td>35276</td>\n",
       "    </tr>\n",
       "    <tr>\n",
       "      <th>2022-03-29</th>\n",
       "      <td>36216</td>\n",
       "    </tr>\n",
       "    <tr>\n",
       "      <th>2022-03-30</th>\n",
       "      <td>37261</td>\n",
       "    </tr>\n",
       "  </tbody>\n",
       "</table>\n",
       "<p>454 rows × 1 columns</p>\n",
       "</div>"
      ],
      "text/plain": [
       "              종로구\n",
       "날짜               \n",
       "2021-01-01    404\n",
       "2021-01-02    414\n",
       "2021-01-03    418\n",
       "2021-01-04    422\n",
       "2021-01-05    426\n",
       "...           ...\n",
       "2022-03-26  34061\n",
       "2022-03-27  34879\n",
       "2022-03-28  35276\n",
       "2022-03-29  36216\n",
       "2022-03-30  37261\n",
       "\n",
       "[454 rows x 1 columns]"
      ]
     },
     "execution_count": 102,
     "metadata": {},
     "output_type": "execute_result"
    },
    {
     "data": {
      "image/png": "[encoded data removed]",
      "text/plain": [
       "<Figure size 432x288 with 1 Axes>"
      ]
     },
     "metadata": {
      "needs_background": "light"
     },
     "output_type": "display_data"
    }
   ],
   "source": [
    "df_after_2022 = df[df.index > '2020-12-31']\n",
    "\n",
    "df_after_2022.plot()\n",
    "\n",
    "df_after_2022"
   ]
  },
  {
   "cell_type": "code",
   "execution_count": 103,
   "metadata": {},
   "outputs": [
    {
     "name": "stdout",
     "output_type": "stream",
     "text": [
      "ADF Statistic: 1.480728\n",
      "p-value: 0.997452\n"
     ]
    }
   ],
   "source": [
    "from statsmodels.tsa.stattools import adfuller\n",
    "\n",
    "# H0 : 단위근이 있다.\n",
    "# H1 : 단위근이 없다.\n",
    "result = adfuller(df_after_2022['종로구'])\n",
    "\n",
    "# 단위근 존재\n",
    "print('ADF Statistic: %f' % result[0])\n",
    "print('p-value: %f' % result[1])"
   ]
  },
  {
   "cell_type": "code",
   "execution_count": 104,
   "metadata": {},
   "outputs": [
    {
     "name": "stdout",
     "output_type": "stream",
     "text": [
      "ADF Statistic: -0.132288\n",
      "p-value: 0.946126\n"
     ]
    },
    {
     "data": {
      "image/png": "[encoded data removed]",
      "text/plain": [
       "<Figure size 432x288 with 1 Axes>"
      ]
     },
     "metadata": {
      "needs_background": "light"
     },
     "output_type": "display_data"
    }
   ],
   "source": [
    "df_after_2022_diff = df_after_2022.diff().dropna()\n",
    "df_after_2022_diff.plot()\n",
    "\n",
    "result = adfuller(df_after_2022_diff['종로구'])\n",
    "\n",
    "# 단위근 존재\n",
    "print('ADF Statistic: %f' % result[0])\n",
    "print('p-value: %f' % result[1])"
   ]
  },
  {
   "cell_type": "code",
   "execution_count": 105,
   "metadata": {},
   "outputs": [
    {
     "name": "stdout",
     "output_type": "stream",
     "text": [
      "ADF Statistic: -3.691329\n",
      "p-value: 0.004237\n"
     ]
    },
    {
     "data": {
      "image/png": "[encoded data removed]",
      "text/plain": [
       "<Figure size 432x288 with 1 Axes>"
      ]
     },
     "metadata": {
      "needs_background": "light"
     },
     "output_type": "display_data"
    }
   ],
   "source": [
    "import numpy as np\n",
    "\n",
    "## log 변환\n",
    "df_log = np.log(df_after_2022)\n",
    "df_ldiff = df_log.diff().dropna()\n",
    "df_ldiff.plot()\n",
    "\n",
    "result = adfuller(df_ldiff['종로구'])\n",
    "\n",
    "# 단위근 존재\n",
    "print('ADF Statistic: %f' % result[0])\n",
    "print('p-value: %f' % result[1])"
   ]
  },
  {
   "cell_type": "markdown",
   "metadata": {},
   "source": [
    "##### 특히, log 차분(변화율) 분석에서는 scale이 작아도 변화율을 급격히 변하기 때문에 기간을 설정해서 분석하는 것이 중요합니다."
   ]
  },
  {
   "cell_type": "markdown",
   "metadata": {},
   "source": [
    "#### eda 4: 자기상관성 확인\n",
    "\n",
    "자기상관(다중공산성과 비슷한 문제)이 발생하는 원인은 다음 4가지 입니다.\n",
    "\n",
    "- Inertia(관성) : 데이터에 대한 관성이 존재하여 전기 데이터가 현재, 다음기 데이터와 비슷한 양상을 보이는 것을 말합니다.\n",
    "- specification error : 중요 변수를 넣지 않은 경우나 함수 형태가 틀린 경우에 발생합니다.\n",
    "- manipulate data : 데이터처리를 잘못한 경우\n",
    "\n",
    "$$cov(e_{t}, e_{t-1}) \\ne 0$$\n",
    "\n",
    "$$u_{t} = \\phi u{t-1} + e_{t}, |\\phi| < 1$$\n",
    "\n",
    "따라서, $|\\phi| = 0$으로 만들어주는 것이 자기 상관없을 없애는 작업입니다.\n",
    "\n",
    "이러한 자기상관성이 존재하는 것을 확인하기 위한 쉬운 방법은 더빈 왓슨 검정입니다.\n",
    "\n",
    "더빈 왓슨 방식은 검정 조건이 있어서 브로슈 갓프리 검정을 추가로 진행해줘야 합니다."
   ]
  },
  {
   "cell_type": "markdown",
   "metadata": {},
   "source": [
    "더빈 왓슨 검정은 0에서 4 사이의 값을 가집니다. 값이 2에 가까울수록 오차항들 사이에 자기상관이 없다는 것을 나타내며, 2보다 크면 음의 자기상관을, 2보다 작으면 양의 자기상관을 나타냅니다. "
   ]
  },
  {
   "cell_type": "code",
   "execution_count": 106,
   "metadata": {},
   "outputs": [
    {
     "data": {
      "text/plain": [
       "array([0.44171949])"
      ]
     },
     "execution_count": 106,
     "metadata": {},
     "output_type": "execute_result"
    }
   ],
   "source": [
    "from statsmodels.stats.stattools import durbin_watson\n",
    "\n",
    "# 'residuals'는 회귀 모델의 잔차입니다.\n",
    "dw_result = durbin_watson(df_ldiff)\n",
    "dw_result"
   ]
  },
  {
   "cell_type": "code",
   "execution_count": 107,
   "metadata": {},
   "outputs": [
    {
     "name": "stdout",
     "output_type": "stream",
     "text": [
      "W: 0.6668741106987, p-value: 7.786778515666181e-29\n",
      "Data does not follow normal distribution\n"
     ]
    }
   ],
   "source": [
    "import scipy.stats as stats\n",
    "\n",
    "W, p = stats.shapiro(df_ldiff)\n",
    "\n",
    "print(f'W: {W}, p-value: {p}')\n",
    "\n",
    "if p > 0.05:\n",
    "    print('Data follows normal distribution')\n",
    "else:\n",
    "    print('Data does not follow normal distribution')"
   ]
  },
  {
   "cell_type": "code",
   "execution_count": 117,
   "metadata": {},
   "outputs": [
    {
     "data": {
      "text/html": [
       "<div>\n",
       "<style scoped>\n",
       "    .dataframe tbody tr th:only-of-type {\n",
       "        vertical-align: middle;\n",
       "    }\n",
       "\n",
       "    .dataframe tbody tr th {\n",
       "        vertical-align: top;\n",
       "    }\n",
       "\n",
       "    .dataframe thead th {\n",
       "        text-align: right;\n",
       "    }\n",
       "</style>\n",
       "<table border=\"1\" class=\"dataframe\">\n",
       "  <thead>\n",
       "    <tr style=\"text-align: right;\">\n",
       "      <th></th>\n",
       "      <th>jongro</th>\n",
       "      <th>jongro_lag</th>\n",
       "    </tr>\n",
       "    <tr>\n",
       "      <th>날짜</th>\n",
       "      <th></th>\n",
       "      <th></th>\n",
       "    </tr>\n",
       "  </thead>\n",
       "  <tbody>\n",
       "    <tr>\n",
       "      <th>2021-01-03</th>\n",
       "      <td>0.009615</td>\n",
       "      <td>0.024451</td>\n",
       "    </tr>\n",
       "    <tr>\n",
       "      <th>2021-01-04</th>\n",
       "      <td>0.009524</td>\n",
       "      <td>0.009615</td>\n",
       "    </tr>\n",
       "    <tr>\n",
       "      <th>2021-01-05</th>\n",
       "      <td>0.009434</td>\n",
       "      <td>0.009524</td>\n",
       "    </tr>\n",
       "    <tr>\n",
       "      <th>2021-01-06</th>\n",
       "      <td>0.027780</td>\n",
       "      <td>0.009434</td>\n",
       "    </tr>\n",
       "    <tr>\n",
       "      <th>2021-01-07</th>\n",
       "      <td>0.011351</td>\n",
       "      <td>0.027780</td>\n",
       "    </tr>\n",
       "    <tr>\n",
       "      <th>...</th>\n",
       "      <td>...</td>\n",
       "      <td>...</td>\n",
       "    </tr>\n",
       "    <tr>\n",
       "      <th>2022-03-26</th>\n",
       "      <td>-0.048845</td>\n",
       "      <td>0.102953</td>\n",
       "    </tr>\n",
       "    <tr>\n",
       "      <th>2022-03-27</th>\n",
       "      <td>0.023732</td>\n",
       "      <td>-0.048845</td>\n",
       "    </tr>\n",
       "    <tr>\n",
       "      <th>2022-03-28</th>\n",
       "      <td>0.011318</td>\n",
       "      <td>0.023732</td>\n",
       "    </tr>\n",
       "    <tr>\n",
       "      <th>2022-03-29</th>\n",
       "      <td>0.026298</td>\n",
       "      <td>0.011318</td>\n",
       "    </tr>\n",
       "    <tr>\n",
       "      <th>2022-03-30</th>\n",
       "      <td>0.028446</td>\n",
       "      <td>0.026298</td>\n",
       "    </tr>\n",
       "  </tbody>\n",
       "</table>\n",
       "<p>452 rows × 2 columns</p>\n",
       "</div>"
      ],
      "text/plain": [
       "              jongro  jongro_lag\n",
       "날짜                              \n",
       "2021-01-03  0.009615    0.024451\n",
       "2021-01-04  0.009524    0.009615\n",
       "2021-01-05  0.009434    0.009524\n",
       "2021-01-06  0.027780    0.009434\n",
       "2021-01-07  0.011351    0.027780\n",
       "...              ...         ...\n",
       "2022-03-26 -0.048845    0.102953\n",
       "2022-03-27  0.023732   -0.048845\n",
       "2022-03-28  0.011318    0.023732\n",
       "2022-03-29  0.026298    0.011318\n",
       "2022-03-30  0.028446    0.026298\n",
       "\n",
       "[452 rows x 2 columns]"
      ]
     },
     "execution_count": 117,
     "metadata": {},
     "output_type": "execute_result"
    }
   ],
   "source": [
    "df_ols = df_ldiff.copy()\n",
    "\n",
    "df_ols = df_ols.rename({'종로구':'jongro'}, axis=1)\n",
    "df_ols['jongro_lag'] = df_ols['jongro'].shift(1)\n",
    "\n",
    "df_ols = df_ols.dropna()\n",
    "df_ols"
   ]
  },
  {
   "cell_type": "markdown",
   "metadata": {},
   "source": [
    "이러한 자기상관성이 존재한다는 것을 확인했다면 이를 이분산이라고 가정하고 OLS 방식으로 해결해줍니다.\n",
    "\n",
    "대표적인 해결 방법은 Newey-West 표준 오차를 이용한 분산 조정 방식입니다."
   ]
  },
  {
   "cell_type": "code",
   "execution_count": 119,
   "metadata": {},
   "outputs": [
    {
     "name": "stdout",
     "output_type": "stream",
     "text": [
      "[0.00148832 0.16393503]\n"
     ]
    }
   ],
   "source": [
    "import statsmodels.formula.api as smf\n",
    "\n",
    "model = smf.ols(formula='jongro ~ jongro_lag', data=df_ols).fit()\n",
    "\n",
    "# Newey-West 방법을 적용하여 표준 오차를 계산합니다.\n",
    "newey_west_se = model.get_robustcov_results(cov_type='HAC', maxlags=1).bse\n",
    "\n",
    "print(newey_west_se)"
   ]
  },
  {
   "cell_type": "markdown",
   "metadata": {},
   "source": []
  }
 ],
 "metadata": {
  "kernelspec": {
   "display_name": "adp",
   "language": "python",
   "name": "python3"
  },
  "language_info": {
   "codemirror_mode": {
    "name": "ipython",
    "version": 3
   },
   "file_extension": ".py",
   "mimetype": "text/x-python",
   "name": "python",
   "nbconvert_exporter": "python",
   "pygments_lexer": "ipython3",
   "version": "3.7.9"
  },
  "orig_nbformat": 4
 },
 "nbformat": 4,
 "nbformat_minor": 2
}
