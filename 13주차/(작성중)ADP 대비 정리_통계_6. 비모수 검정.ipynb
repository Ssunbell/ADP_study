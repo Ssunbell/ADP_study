{
 "cells": [
  {
   "cell_type": "markdown",
   "metadata": {},
   "source": [
    "![0](./nonparametric_1.png)"
   ]
  },
  {
   "cell_type": "markdown",
   "metadata": {},
   "source": [
    "![2](./nonparametric_2.png)"
   ]
  },
  {
   "cell_type": "markdown",
   "metadata": {},
   "source": [
    "![3](./nonparametric_3.png)"
   ]
  },
  {
   "cell_type": "markdown",
   "metadata": {},
   "source": [
    "![4](./nonparametric_4.png)"
   ]
  },
  {
   "cell_type": "markdown",
   "metadata": {},
   "source": [
    "##### 참고 자료\n",
    "https://recipesds.tistory.com/entry/%EC%96%B4%EB%94%94%EC%97%90-%EC%96%B4%EB%96%A4-%EB%AA%A8%EC%88%98-%EA%B2%80%EC%A0%95%EA%B3%BC-%EB%B9%84%EB%AA%A8%EC%88%98-%EA%B2%80%EC%A0%95%EC%9D%84-%EC%93%B8-%EC%88%98-%EC%9E%88%EB%8A%94%EC%A7%80-%EB%8C%80%ED%83%90%ED%97%98-%EA%B7%B8%EB%A6%AC%EA%B3%A0-%ED%8C%8C%EC%9D%B4%EC%8D%AC"
   ]
  },
  {
   "cell_type": "markdown",
   "metadata": {},
   "source": [
    "# 6. 비모수 검정\n",
    "\n",
    "## 0. 비모수적 방법?\n",
    "- 관측값이 특정한 확률분포를 따른다고 전제하기 어렵거나, 모집단에 대한 정보가 부족한 경우 실시\n",
    "- 분포에 대한 기본 가정을 필요로 하지 않는 '분포무관' 방법\n",
    "- 가정에서 자유롭고 이상치에 민감하지 않음"
   ]
  },
  {
   "cell_type": "markdown",
   "metadata": {},
   "source": [
    "## 1. 부호 검정 (Sign Test)\n",
    "\n",
    "### 1) 정의\n",
    "- 분포의 동일성 검정\n",
    "- 모집단의 중앙값에 대한 검정 (위치모수 이용)\n",
    "\n",
    "### 2) 실행 과정\n",
    "\n",
    "$$ H_0 : M = M_0 $$\n",
    "$$ H_1 : M \\neq M_0 $$\n",
    "\n",
    "모집단의 중앙값이 $M$인 $n$개의 표본 $(Y_1, Y_2, \\ldots , Y_n)$을 추출하였을 때 $ \\frac{n}{2} $개는 중앙값보다 크다. 아래는 부호(확률변수)와 검정통계량을 나타낸 식이다.\n",
    "\n",
    "$$ S_i = \\begin{cases} \n",
    "         1 & \\mbox{ $Y_i$ - $M_0$ > 0} \\\\\n",
    "         0 & \\mbox{ $Y_i$ - $M_0$ < 0} \n",
    "         \\end{cases}$$\n",
    "         \n",
    "$$ B = \\sum^n_{i = 1}{S_i} $$\n",
    "\n",
    "$ P(S_i = 1) = \\frac{1}{2} $이며 $ S_i \\perp S_j $이므로 $B$는 이항분포를 따르며, 표준화된 검정통계량 $Z_B$는 다음과 같다.\n",
    "\n",
    "$$ B \\sim B\\big(n, \\frac{1}{2}\\big) \\; \\rightarrow \\; Z_B = \\cfrac{B - \\dfrac{n}{2}}{\\sqrt{\\dfrac{n}{4}}} $$"
   ]
  },
  {
   "cell_type": "markdown",
   "metadata": {},
   "source": [
    "## 2) Wilcoxon 순위합 검정\n",
    "\n",
    "## 3) Wilcoxon 부호 순위합 검정\n",
    "\n",
    "## 4) Mann Whitney's U\n",
    "\n",
    "## 5) Run Test"
   ]
  },
  {
   "cell_type": "code",
   "execution_count": 9,
   "metadata": {},
   "outputs": [],
   "source": [
    "data = [105, 106, 106, 108, 110, 111, 112, 115, 115, 116, \n",
    "       117, 118, 119, 119, 120, 121, 125, 128, 130, 137]"
   ]
  },
  {
   "cell_type": "code",
   "execution_count": 10,
   "metadata": {},
   "outputs": [
    {
     "data": {
      "text/plain": [
       "(2.0, 0.480682373046875)"
      ]
     },
     "execution_count": 10,
     "metadata": {},
     "output_type": "execute_result"
    }
   ],
   "source": [
    "# 1. 부호 검정 (Sign Test)\n",
    "from statsmodels.stats.descriptivestats import sign_test\n",
    "\n",
    "sign_test(data, mu0 = 115)"
   ]
  },
  {
   "cell_type": "code",
   "execution_count": null,
   "metadata": {},
   "outputs": [],
   "source": []
  }
 ],
 "metadata": {
  "kernelspec": {
   "display_name": "Python 3",
   "language": "python",
   "name": "python3"
  },
  "language_info": {
   "codemirror_mode": {
    "name": "ipython",
    "version": 3
   },
   "file_extension": ".py",
   "mimetype": "text/x-python",
   "name": "python",
   "nbconvert_exporter": "python",
   "pygments_lexer": "ipython3",
   "version": "3.7.3"
  }
 },
 "nbformat": 4,
 "nbformat_minor": 5
}
