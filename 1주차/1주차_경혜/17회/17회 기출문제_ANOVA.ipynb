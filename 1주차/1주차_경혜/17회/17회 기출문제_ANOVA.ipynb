{
 "cells": [
  {
   "cell_type": "markdown",
   "metadata": {},
   "source": [
    "# 3번\n",
    "설문조사 데이터      \n",
    "데이터 출처 : 자체 제작    \n",
    "데이터 경로 : /kaggle/input/adp-kr-p3/problem3.csv \n",
    "\n",
    "데이터 설명 : A ~ D까지의 그룹에게 각각 같은 설문조사를 하여 1-1,1-2,1-3...5-1,5-4 인 설문지를 푼 것이다. 문항은 영역별로 나뉘어 있고, 영역은 크게 5개이다(1~5)    \n",
    "각 영역의 세부문항은 4개씩 존재한다 (1-1,1-2,1-3,1-4 ~) 이 때 중간에 반대 문항이 들어가 있다. 예를 들어 1-1 문제가 \"나는 시간약속을 잘 지킨다.\"라는 문제라면 1-3의 문제는 \"나는 시간약속을 잘 지키지 않는다.\" 라는 역문제로 구성 되어있다. 각 영역의 3번문항의 1번문항의 역문제이다. \n",
    "모든 답변은 5점 척도이다. 문제를 풀기전 모든 역문항의 경우 점수를 변환(6점을 빼서) 작업이 필요하다"
   ]
  },
  {
   "cell_type": "code",
   "execution_count": 2,
   "metadata": {
    "ExecuteTime": {
     "end_time": "2023-05-05T10:50:06.893297Z",
     "start_time": "2023-05-05T10:50:06.865528Z"
    }
   },
   "outputs": [
    {
     "data": {
      "text/html": [
       "<div>\n",
       "<style scoped>\n",
       "    .dataframe tbody tr th:only-of-type {\n",
       "        vertical-align: middle;\n",
       "    }\n",
       "\n",
       "    .dataframe tbody tr th {\n",
       "        vertical-align: top;\n",
       "    }\n",
       "\n",
       "    .dataframe thead th {\n",
       "        text-align: right;\n",
       "    }\n",
       "</style>\n",
       "<table border=\"1\" class=\"dataframe\">\n",
       "  <thead>\n",
       "    <tr style=\"text-align: right;\">\n",
       "      <th></th>\n",
       "      <th>userid</th>\n",
       "      <th>group</th>\n",
       "      <th>Q1-1</th>\n",
       "      <th>Q1-2</th>\n",
       "      <th>Q1-3</th>\n",
       "      <th>Q1-4</th>\n",
       "      <th>Q2-1</th>\n",
       "      <th>Q2-2</th>\n",
       "      <th>Q2-3</th>\n",
       "      <th>Q2-4</th>\n",
       "      <th>...</th>\n",
       "      <th>Q3-3</th>\n",
       "      <th>Q3-4</th>\n",
       "      <th>Q4-1</th>\n",
       "      <th>Q4-2</th>\n",
       "      <th>Q4-3</th>\n",
       "      <th>Q4-4</th>\n",
       "      <th>Q5-1</th>\n",
       "      <th>Q5-2</th>\n",
       "      <th>Q5-3</th>\n",
       "      <th>Q5-4</th>\n",
       "    </tr>\n",
       "  </thead>\n",
       "  <tbody>\n",
       "    <tr>\n",
       "      <th>0</th>\n",
       "      <td>0</td>\n",
       "      <td>A</td>\n",
       "      <td>5</td>\n",
       "      <td>2</td>\n",
       "      <td>1</td>\n",
       "      <td>2</td>\n",
       "      <td>4</td>\n",
       "      <td>5</td>\n",
       "      <td>3</td>\n",
       "      <td>3</td>\n",
       "      <td>...</td>\n",
       "      <td>1</td>\n",
       "      <td>1</td>\n",
       "      <td>5</td>\n",
       "      <td>2</td>\n",
       "      <td>5</td>\n",
       "      <td>3</td>\n",
       "      <td>3</td>\n",
       "      <td>4</td>\n",
       "      <td>3</td>\n",
       "      <td>4</td>\n",
       "    </tr>\n",
       "    <tr>\n",
       "      <th>1</th>\n",
       "      <td>1</td>\n",
       "      <td>A</td>\n",
       "      <td>2</td>\n",
       "      <td>2</td>\n",
       "      <td>3</td>\n",
       "      <td>3</td>\n",
       "      <td>4</td>\n",
       "      <td>3</td>\n",
       "      <td>1</td>\n",
       "      <td>4</td>\n",
       "      <td>...</td>\n",
       "      <td>2</td>\n",
       "      <td>3</td>\n",
       "      <td>4</td>\n",
       "      <td>3</td>\n",
       "      <td>5</td>\n",
       "      <td>3</td>\n",
       "      <td>1</td>\n",
       "      <td>2</td>\n",
       "      <td>1</td>\n",
       "      <td>1</td>\n",
       "    </tr>\n",
       "    <tr>\n",
       "      <th>2</th>\n",
       "      <td>2</td>\n",
       "      <td>A</td>\n",
       "      <td>1</td>\n",
       "      <td>3</td>\n",
       "      <td>4</td>\n",
       "      <td>4</td>\n",
       "      <td>2</td>\n",
       "      <td>1</td>\n",
       "      <td>4</td>\n",
       "      <td>4</td>\n",
       "      <td>...</td>\n",
       "      <td>4</td>\n",
       "      <td>2</td>\n",
       "      <td>1</td>\n",
       "      <td>3</td>\n",
       "      <td>4</td>\n",
       "      <td>1</td>\n",
       "      <td>3</td>\n",
       "      <td>3</td>\n",
       "      <td>2</td>\n",
       "      <td>5</td>\n",
       "    </tr>\n",
       "    <tr>\n",
       "      <th>3</th>\n",
       "      <td>3</td>\n",
       "      <td>A</td>\n",
       "      <td>3</td>\n",
       "      <td>3</td>\n",
       "      <td>4</td>\n",
       "      <td>2</td>\n",
       "      <td>2</td>\n",
       "      <td>4</td>\n",
       "      <td>4</td>\n",
       "      <td>3</td>\n",
       "      <td>...</td>\n",
       "      <td>2</td>\n",
       "      <td>3</td>\n",
       "      <td>3</td>\n",
       "      <td>4</td>\n",
       "      <td>2</td>\n",
       "      <td>4</td>\n",
       "      <td>1</td>\n",
       "      <td>1</td>\n",
       "      <td>3</td>\n",
       "      <td>2</td>\n",
       "    </tr>\n",
       "    <tr>\n",
       "      <th>4</th>\n",
       "      <td>4</td>\n",
       "      <td>A</td>\n",
       "      <td>3</td>\n",
       "      <td>1</td>\n",
       "      <td>2</td>\n",
       "      <td>3</td>\n",
       "      <td>4</td>\n",
       "      <td>3</td>\n",
       "      <td>4</td>\n",
       "      <td>1</td>\n",
       "      <td>...</td>\n",
       "      <td>5</td>\n",
       "      <td>1</td>\n",
       "      <td>3</td>\n",
       "      <td>2</td>\n",
       "      <td>3</td>\n",
       "      <td>1</td>\n",
       "      <td>3</td>\n",
       "      <td>2</td>\n",
       "      <td>5</td>\n",
       "      <td>4</td>\n",
       "    </tr>\n",
       "  </tbody>\n",
       "</table>\n",
       "<p>5 rows × 22 columns</p>\n",
       "</div>"
      ],
      "text/plain": [
       "   userid group  Q1-1  Q1-2  Q1-3  Q1-4  Q2-1  Q2-2  Q2-3  Q2-4  ...  Q3-3  \\\n",
       "0       0     A     5     2     1     2     4     5     3     3  ...     1   \n",
       "1       1     A     2     2     3     3     4     3     1     4  ...     2   \n",
       "2       2     A     1     3     4     4     2     1     4     4  ...     4   \n",
       "3       3     A     3     3     4     2     2     4     4     3  ...     2   \n",
       "4       4     A     3     1     2     3     4     3     4     1  ...     5   \n",
       "\n",
       "   Q3-4  Q4-1  Q4-2  Q4-3  Q4-4  Q5-1  Q5-2  Q5-3  Q5-4  \n",
       "0     1     5     2     5     3     3     4     3     4  \n",
       "1     3     4     3     5     3     1     2     1     1  \n",
       "2     2     1     3     4     1     3     3     2     5  \n",
       "3     3     3     4     2     4     1     1     3     2  \n",
       "4     1     3     2     3     1     3     2     5     4  \n",
       "\n",
       "[5 rows x 22 columns]"
      ]
     },
     "execution_count": 2,
     "metadata": {},
     "output_type": "execute_result"
    }
   ],
   "source": [
    "import pandas as pd\n",
    "import numpy as np\n",
    "import matplotlib.pyplot as plt\n",
    "import seaborn as sns\n",
    "\n",
    "df = pd.read_csv('./problem3.csv')\n",
    "df.head()"
   ]
  },
  {
   "cell_type": "markdown",
   "metadata": {},
   "source": [
    "### 3-1 역문항을 변환 한 후 각 그룹`(A~D)`의 영역`(Q1~Q5)`별 응답의 평균, 표준편차, 왜도, 첨도를 구하라. (각 통계량 별로 4x5 dataframe 생성)"
   ]
  },
  {
   "cell_type": "code",
   "execution_count": null,
   "metadata": {},
   "outputs": [],
   "source": [
    "#평균, 표준편차, 왜도, 첨도"
   ]
  },
  {
   "cell_type": "code",
   "execution_count": 21,
   "metadata": {
    "ExecuteTime": {
     "end_time": "2023-05-05T11:29:19.245158Z",
     "start_time": "2023-05-05T11:29:19.223211Z"
    }
   },
   "outputs": [],
   "source": [
    "df_2 = df.loc[:,['group','Q3-3']].groupby('group').agg(['mean','std','skew'])"
   ]
  },
  {
   "cell_type": "code",
   "execution_count": 22,
   "metadata": {
    "ExecuteTime": {
     "end_time": "2023-05-05T11:29:24.039335Z",
     "start_time": "2023-05-05T11:29:24.021918Z"
    }
   },
   "outputs": [
    {
     "name": "stderr",
     "output_type": "stream",
     "text": [
      "C:\\Users\\SCC202107006\\anaconda3\\lib\\site-packages\\pandas\\core\\groupby\\ops.py:1328: FutureWarning: Dropping of nuisance columns in DataFrame reductions (with 'numeric_only=None') is deprecated; in a future version this will raise TypeError.  Select only valid columns before calling the reduction.\n",
      "  return libreduction.apply_frame_axis0(sdata, f, names, starts, ends)\n"
     ]
    }
   ],
   "source": [
    "df_kurt = df.loc[:,['group','Q3-3']].groupby('group').apply(pd.DataFrame.kurt)"
   ]
  },
  {
   "cell_type": "code",
   "execution_count": 26,
   "metadata": {
    "ExecuteTime": {
     "end_time": "2023-05-05T11:30:26.372041Z",
     "start_time": "2023-05-05T11:30:26.345647Z"
    }
   },
   "outputs": [
    {
     "data": {
      "text/html": [
       "<div>\n",
       "<style scoped>\n",
       "    .dataframe tbody tr th:only-of-type {\n",
       "        vertical-align: middle;\n",
       "    }\n",
       "\n",
       "    .dataframe tbody tr th {\n",
       "        vertical-align: top;\n",
       "    }\n",
       "\n",
       "    .dataframe thead th {\n",
       "        text-align: right;\n",
       "    }\n",
       "</style>\n",
       "<table border=\"1\" class=\"dataframe\">\n",
       "  <thead>\n",
       "    <tr style=\"text-align: right;\">\n",
       "      <th></th>\n",
       "      <th>(Q3-3, mean)</th>\n",
       "      <th>(Q3-3, std)</th>\n",
       "      <th>(Q3-3, skew)</th>\n",
       "      <th>Q3-3</th>\n",
       "    </tr>\n",
       "    <tr>\n",
       "      <th>group</th>\n",
       "      <th></th>\n",
       "      <th></th>\n",
       "      <th></th>\n",
       "      <th></th>\n",
       "    </tr>\n",
       "  </thead>\n",
       "  <tbody>\n",
       "    <tr>\n",
       "      <th>A</th>\n",
       "      <td>2.960</td>\n",
       "      <td>1.198392</td>\n",
       "      <td>-0.021340</td>\n",
       "      <td>-1.015664</td>\n",
       "    </tr>\n",
       "    <tr>\n",
       "      <th>B</th>\n",
       "      <td>2.828</td>\n",
       "      <td>1.118670</td>\n",
       "      <td>-0.037422</td>\n",
       "      <td>-0.980690</td>\n",
       "    </tr>\n",
       "    <tr>\n",
       "      <th>C</th>\n",
       "      <td>2.924</td>\n",
       "      <td>1.205003</td>\n",
       "      <td>-0.019564</td>\n",
       "      <td>-0.952762</td>\n",
       "    </tr>\n",
       "    <tr>\n",
       "      <th>D</th>\n",
       "      <td>2.816</td>\n",
       "      <td>1.125705</td>\n",
       "      <td>0.214932</td>\n",
       "      <td>-0.783640</td>\n",
       "    </tr>\n",
       "  </tbody>\n",
       "</table>\n",
       "</div>"
      ],
      "text/plain": [
       "       (Q3-3, mean)  (Q3-3, std)  (Q3-3, skew)      Q3-3\n",
       "group                                                   \n",
       "A             2.960     1.198392     -0.021340 -1.015664\n",
       "B             2.828     1.118670     -0.037422 -0.980690\n",
       "C             2.924     1.205003     -0.019564 -0.952762\n",
       "D             2.816     1.125705      0.214932 -0.783640"
      ]
     },
     "execution_count": 26,
     "metadata": {},
     "output_type": "execute_result"
    }
   ],
   "source": [
    "df_full = pd.concat([df_2, df_kurt], axis=1)\n",
    "df_full"
   ]
  },
  {
   "cell_type": "markdown",
   "metadata": {},
   "source": [
    "### 3-2 그룹별로 Q1-1문항의 차이가 존재하는지 anova분석을 시행하라"
   ]
  },
  {
   "cell_type": "code",
   "execution_count": 37,
   "metadata": {
    "ExecuteTime": {
     "end_time": "2023-05-06T02:37:30.780057Z",
     "start_time": "2023-05-06T02:37:30.760282Z"
    }
   },
   "outputs": [],
   "source": [
    "A = df[df.group == 'A']['Q1-1']\n",
    "B = df[df.group == 'B']['Q1-1']\n",
    "C = df[df.group == 'C']['Q1-1']\n",
    "D = df[df.group == 'D']['Q1-1']"
   ]
  },
  {
   "cell_type": "code",
   "execution_count": 40,
   "metadata": {
    "ExecuteTime": {
     "end_time": "2023-05-06T02:40:20.183836Z",
     "start_time": "2023-05-06T02:40:20.169857Z"
    }
   },
   "outputs": [
    {
     "data": {
      "text/plain": [
       "LeveneResult(statistic=0.24718103455049822, pvalue=0.8633690011210747)"
      ]
     },
     "execution_count": 40,
     "metadata": {},
     "output_type": "execute_result"
    }
   ],
   "source": [
    "from scipy.stats import levene\n",
    "# 귀무가설 : 해당 데이터가 등분산성을 충족한다.\n",
    "levene(A,\n",
    "       B,\n",
    "       C,D, center = 'median')\n",
    "\n",
    "#등분산 해당됨."
   ]
  },
  {
   "cell_type": "code",
   "execution_count": 49,
   "metadata": {
    "ExecuteTime": {
     "end_time": "2023-05-06T02:46:47.361479Z",
     "start_time": "2023-05-06T02:46:47.351304Z"
    }
   },
   "outputs": [
    {
     "name": "stdout",
     "output_type": "stream",
     "text": [
      "A 집단 정규성 검정 : ShapiroResult(statistic=0.8959194421768188, pvalue=4.089666539447423e-12) \n",
      "B 집단 정규성 검정 : ShapiroResult(statistic=0.9031107425689697, pvalue=1.2895768654319628e-11) \n",
      "C 집단 정규성 검정 : ShapiroResult(statistic=0.9036667346954346, pvalue=1.4126045819184974e-11)  \n",
      "D 집단 정규성 검정 : ShapiroResult(statistic=0.8961024284362793, pvalue=4.2081052184506085e-12) \n"
     ]
    }
   ],
   "source": [
    "from scipy.stats import shapiro\n",
    "\n",
    "# 귀무가설 : 해당 데이터가 정규성을 충족한다.\n",
    "shapiro_test_A = shapiro(A)\n",
    "shapiro_test_B = shapiro(B)\n",
    "shapiro_test_C = shapiro(C)\n",
    "shapiro_test_D = shapiro(D)\n",
    "\n",
    "print('A 집단 정규성 검정 : {} \\nB 집단 정규성 검정 : {} \\nC 집단 정규성 검정 : {}  \\nD 집단 정규성 검정 : {} '.format(shapiro_test_A,shapiro_test_B,shapiro_test_C,shapiro_test_D))\n",
    "\n",
    "#전부 정규성 만족"
   ]
  },
  {
   "cell_type": "code",
   "execution_count": 51,
   "metadata": {
    "ExecuteTime": {
     "end_time": "2023-05-06T02:51:48.764624Z",
     "start_time": "2023-05-06T02:51:48.746269Z"
    }
   },
   "outputs": [
    {
     "name": "stdout",
     "output_type": "stream",
     "text": [
      "stat : 1.538, p-value : 0.203\n",
      "\n"
     ]
    }
   ],
   "source": [
    "#one-way anova \n",
    "#귀무가설 : 집단간 모평균의 차이가 없다\n",
    "#대립가설 : 집단간 모평균이 모두 같다고 할 수 없다.\n",
    "\n",
    "from statsmodels.stats.oneway import anova_oneway\n",
    "\n",
    "oa = anova_oneway(data = df['Q1-1'], groups = df['group'], use_var = 'equal')\n",
    "print('stat : {:.3f}, p-value : {:.3f}\\n'.format(oa.statistic, oa.pvalue))\n",
    "\n",
    "#귀무가설을 기각할수 없으므로 집단간 모평균의 차이가 있다는 근거가 없다."
   ]
  },
  {
   "cell_type": "markdown",
   "metadata": {},
   "source": [
    "### 3-3 탐색적 요인분석을 수행하고 결과를 시각화 하라"
   ]
  },
  {
   "cell_type": "code",
   "execution_count": null,
   "metadata": {},
   "outputs": [],
   "source": []
  }
 ],
 "metadata": {
  "kernelspec": {
   "display_name": "Python 3 (ipykernel)",
   "language": "python",
   "name": "python3"
  },
  "language_info": {
   "codemirror_mode": {
    "name": "ipython",
    "version": 3
   },
   "file_extension": ".py",
   "mimetype": "text/x-python",
   "name": "python",
   "nbconvert_exporter": "python",
   "pygments_lexer": "ipython3",
   "version": "3.9.7"
  },
  "toc": {
   "base_numbering": 1,
   "nav_menu": {},
   "number_sections": true,
   "sideBar": true,
   "skip_h1_title": false,
   "title_cell": "Table of Contents",
   "title_sidebar": "Contents",
   "toc_cell": false,
   "toc_position": {},
   "toc_section_display": true,
   "toc_window_display": false
  }
 },
 "nbformat": 4,
 "nbformat_minor": 2
}
