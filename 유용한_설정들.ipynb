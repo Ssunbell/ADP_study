{
 "cells": [
  {
   "attachments": {},
   "cell_type": "markdown",
   "metadata": {},
   "source": [
    "adp 라이브러리 패키지 설치하기\n",
    "```bash\n",
    "%chmod +x ./requirements.sh\n",
    "./requirements.sh\n",
    "```"
   ]
  },
  {
   "attachments": {},
   "cell_type": "markdown",
   "metadata": {},
   "source": [
    "matplotlib 한글 설정하기"
   ]
  },
  {
   "cell_type": "code",
   "execution_count": 3,
   "metadata": {},
   "outputs": [
    {
     "data": {
      "image/png": "[encoded data removed]",
      "text/plain": [
       "<Figure size 432x288 with 1 Axes>"
      ]
     },
     "metadata": {
      "needs_background": "light"
     },
     "output_type": "display_data"
    }
   ],
   "source": [
    "class font_setting():\n",
    "    def __init__(self):\n",
    "        self.font_url = \"https://github.com/google/fonts/blob/main/ofl/nanumgothic/NanumGothic-Regular.ttf?raw=true\"\n",
    "        self.path = \"./NanumGothic-Regular.ttf\"\n",
    "        \n",
    "    def get_font(self):\n",
    "        import requests\n",
    "        from matplotlib import font_manager, rc\n",
    "        import matplotlib.pyplot as plt\n",
    "        \n",
    "        res = requests.get(self.font_url)\n",
    "        \n",
    "        with open(self.path, \"wb\") as font_file:\n",
    "            font_file.write(res.content)\n",
    "        \n",
    "        font_manager.fontManager.ttflist += font_manager.createFontList([self.path])\n",
    "        rc('font', family='NanumGothic')\n",
    "        plt.rcParams[\"font.family\"] = 'NanumGothic'\n",
    "    \n",
    "    def delete_font(self):\n",
    "        import os\n",
    "        os.remove(self.path)\n",
    "\n",
    "font_set = font_setting()\n",
    "font_set.get_font()\n",
    "\n",
    "import matplotlib.pyplot as plt\n",
    "\n",
    "# 한글 텍스트를 사용해 플롯 생성\n",
    "plt.plot(range(50), range(50), 'r')\n",
    "plt.title('한글 제목 테스트')\n",
    "plt.show()"
   ]
  },
  {
   "cell_type": "code",
   "execution_count": 5,
   "metadata": {},
   "outputs": [
    {
     "data": {
      "image/png": "[encoded data removed]",
      "text/plain": [
       "<Figure size 432x288 with 1 Axes>"
      ]
     },
     "metadata": {
      "needs_background": "light"
     },
     "output_type": "display_data"
    },
    {
     "data": {
      "image/png": "[encoded data removed]",
      "text/plain": [
       "<Figure size 432x288 with 1 Axes>"
      ]
     },
     "metadata": {
      "needs_background": "light"
     },
     "output_type": "display_data"
    }
   ],
   "source": [
    "import os\n",
    "import requests\n",
    "import matplotlib.pyplot as plt\n",
    "import matplotlib.font_manager as fm\n",
    "import tempfile\n",
    "\n",
    "# 폰트 URL\n",
    "font_url = \"https://github.com/google/fonts/blob/main/ofl/nanumgothic/NanumGothic-Regular.ttf?raw=true\"\n",
    "response = requests.get(font_url)\n",
    "\n",
    "# 임시 파일에 폰트를 저장\n",
    "with tempfile.NamedTemporaryFile(delete=True) as fp:\n",
    "    fp.write(response.content)\n",
    "    fp.flush()\n",
    "\n",
    "    # FontProperties 객체를 생성\n",
    "    font_prop = fm.FontProperties(fname=fp.name)\n",
    "\n",
    "    # 텍스트 요소에 FontProperties 객체를 적용\n",
    "    plt.text(0.5, 0.5, '한글 테스트', fontproperties=font_prop, size=20)\n",
    "    plt.show()\n",
    "\n",
    "########## 동일한 코드 ################\n",
    "\n",
    "# 임시 파일 생성\n",
    "fp = tempfile.NamedTemporaryFile(delete=False)\n",
    "\n",
    "# 폰트 데이터를 파일에 쓰기\n",
    "fp.write(response.content)\n",
    "fp.close()\n",
    "\n",
    "# 여기서 파일을 사용할 수 있습니다.\n",
    "\n",
    "# 파일의 경로로 FontProperties 객체를 생성\n",
    "font_prop = fm.FontProperties(fname=fp.name)\n",
    "\n",
    "# 텍스트 요소에 FontProperties 객체를 적용\n",
    "plt.text(0.5, 0.5, '한글 테스트', fontproperties=font_prop, size=20)\n",
    "plt.show()\n",
    "\n",
    "# 임시 파일 삭제\n",
    "os.remove(fp.name)"
   ]
  },
  {
   "cell_type": "code",
   "execution_count": null,
   "metadata": {},
   "outputs": [],
   "source": []
  }
 ],
 "metadata": {
  "kernelspec": {
   "display_name": "tf",
   "language": "python",
   "name": "python3"
  },
  "language_info": {
   "codemirror_mode": {
    "name": "ipython",
    "version": 3
   },
   "file_extension": ".py",
   "mimetype": "text/x-python",
   "name": "python",
   "nbconvert_exporter": "python",
   "pygments_lexer": "ipython3",
   "version": "3.7.9"
  },
  "orig_nbformat": 4
 },
 "nbformat": 4,
 "nbformat_minor": 2
}
