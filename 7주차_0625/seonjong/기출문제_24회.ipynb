{
 "cells": [
  {
   "attachments": {},
   "cell_type": "markdown",
   "metadata": {},
   "source": [
    "# 머신러닝\n",
    "\n",
    "## 학생 결석 여부 확인 데이터\n",
    "\n",
    "- 성별(sex) 바이너리 : 'F' - 여성 또는 'M' - 남성     \n",
    "- 나이(age) 숫자: 15 - 22     \n",
    "- 부모님동거여부 (Pstatus) 바이너리: T: 동거 또는 'A': 별거       \n",
    "- 엄마학력(Medu) 숫자 : 0 : 없음, 1 : 초등 교육, 2 : 5-9학년, 3 - 중등 교육 또는 4 - 고등 교육    \n",
    "- 아빠학력(Fedu) 숫자 : 0 : 없음, 1 : 초등 교육, 2 : 5-9학년, 3 - 중등 교육 또는 4 - 고등 교육   \n",
    "- 주보호자(guardian) 명목형 : '어머니', '아버지' 또는 '기타'     \n",
    "- 등하교시간(traveltime) 숫자 : 1 : 15분이하, 2 : 15 ~ 30분, 3 : 30분 ~ 1시간, 4 : 1시간 이상       \n",
    "- 학습시간(studytime) 숫자 : 1 : 2시간이하, 2 : 2~5시간, 3 : 5~10시간, 4 : 10시간이상    \n",
    "- 학고횟수(failures)  숫자 : 1, 2, 3 else 4     \n",
    "- 자유시간(freetime) 숫자 : 1(매우 낮음), 2, 3, 4, 5(매우 높음)   \n",
    "- 가족관계(famrel) 숫자 : 1(매우 나쁨), 2, 3, 4, 5(우수)  "
   ]
  },
  {
   "cell_type": "code",
   "execution_count": 1,
   "metadata": {},
   "outputs": [
    {
     "data": {
      "text/html": [
       "<div>\n",
       "<style scoped>\n",
       "    .dataframe tbody tr th:only-of-type {\n",
       "        vertical-align: middle;\n",
       "    }\n",
       "\n",
       "    .dataframe tbody tr th {\n",
       "        vertical-align: top;\n",
       "    }\n",
       "\n",
       "    .dataframe thead th {\n",
       "        text-align: right;\n",
       "    }\n",
       "</style>\n",
       "<table border=\"1\" class=\"dataframe\">\n",
       "  <thead>\n",
       "    <tr style=\"text-align: right;\">\n",
       "      <th></th>\n",
       "      <th>sex</th>\n",
       "      <th>age</th>\n",
       "      <th>Pstatus</th>\n",
       "      <th>Fedu</th>\n",
       "      <th>Medu</th>\n",
       "      <th>guardian</th>\n",
       "      <th>studytime</th>\n",
       "      <th>traveltime</th>\n",
       "      <th>failures</th>\n",
       "      <th>famrel</th>\n",
       "      <th>freetime</th>\n",
       "      <th>absences</th>\n",
       "    </tr>\n",
       "  </thead>\n",
       "  <tbody>\n",
       "    <tr>\n",
       "      <th>0</th>\n",
       "      <td>F</td>\n",
       "      <td>18.0</td>\n",
       "      <td>A</td>\n",
       "      <td>4</td>\n",
       "      <td>4</td>\n",
       "      <td>mother</td>\n",
       "      <td>2</td>\n",
       "      <td>2.0</td>\n",
       "      <td>0</td>\n",
       "      <td>4</td>\n",
       "      <td>3.0</td>\n",
       "      <td>6</td>\n",
       "    </tr>\n",
       "    <tr>\n",
       "      <th>1</th>\n",
       "      <td>F</td>\n",
       "      <td>17.0</td>\n",
       "      <td>T</td>\n",
       "      <td>1</td>\n",
       "      <td>1</td>\n",
       "      <td>father</td>\n",
       "      <td>2</td>\n",
       "      <td>1.0</td>\n",
       "      <td>0</td>\n",
       "      <td>5</td>\n",
       "      <td>3.0</td>\n",
       "      <td>4</td>\n",
       "    </tr>\n",
       "    <tr>\n",
       "      <th>2</th>\n",
       "      <td>F</td>\n",
       "      <td>15.0</td>\n",
       "      <td>T</td>\n",
       "      <td>1</td>\n",
       "      <td>1</td>\n",
       "      <td>mother</td>\n",
       "      <td>2</td>\n",
       "      <td>1.0</td>\n",
       "      <td>3</td>\n",
       "      <td>4</td>\n",
       "      <td>3.0</td>\n",
       "      <td>10</td>\n",
       "    </tr>\n",
       "    <tr>\n",
       "      <th>3</th>\n",
       "      <td>F</td>\n",
       "      <td>15.0</td>\n",
       "      <td>T</td>\n",
       "      <td>2</td>\n",
       "      <td>4</td>\n",
       "      <td>mother</td>\n",
       "      <td>3</td>\n",
       "      <td>1.0</td>\n",
       "      <td>0</td>\n",
       "      <td>3</td>\n",
       "      <td>2.0</td>\n",
       "      <td>2</td>\n",
       "    </tr>\n",
       "    <tr>\n",
       "      <th>4</th>\n",
       "      <td>F</td>\n",
       "      <td>NaN</td>\n",
       "      <td>T</td>\n",
       "      <td>3</td>\n",
       "      <td>3</td>\n",
       "      <td>father</td>\n",
       "      <td>2</td>\n",
       "      <td>1.0</td>\n",
       "      <td>0</td>\n",
       "      <td>4</td>\n",
       "      <td>3.0</td>\n",
       "      <td>4</td>\n",
       "    </tr>\n",
       "    <tr>\n",
       "      <th>...</th>\n",
       "      <td>...</td>\n",
       "      <td>...</td>\n",
       "      <td>...</td>\n",
       "      <td>...</td>\n",
       "      <td>...</td>\n",
       "      <td>...</td>\n",
       "      <td>...</td>\n",
       "      <td>...</td>\n",
       "      <td>...</td>\n",
       "      <td>...</td>\n",
       "      <td>...</td>\n",
       "      <td>...</td>\n",
       "    </tr>\n",
       "    <tr>\n",
       "      <th>390</th>\n",
       "      <td>M</td>\n",
       "      <td>20.0</td>\n",
       "      <td>A</td>\n",
       "      <td>2</td>\n",
       "      <td>2</td>\n",
       "      <td>other</td>\n",
       "      <td>2</td>\n",
       "      <td>1.0</td>\n",
       "      <td>2</td>\n",
       "      <td>5</td>\n",
       "      <td>5.0</td>\n",
       "      <td>11</td>\n",
       "    </tr>\n",
       "    <tr>\n",
       "      <th>391</th>\n",
       "      <td>M</td>\n",
       "      <td>17.0</td>\n",
       "      <td>T</td>\n",
       "      <td>1</td>\n",
       "      <td>3</td>\n",
       "      <td>mother</td>\n",
       "      <td>1</td>\n",
       "      <td>2.0</td>\n",
       "      <td>0</td>\n",
       "      <td>2</td>\n",
       "      <td>4.0</td>\n",
       "      <td>3</td>\n",
       "    </tr>\n",
       "    <tr>\n",
       "      <th>392</th>\n",
       "      <td>M</td>\n",
       "      <td>21.0</td>\n",
       "      <td>T</td>\n",
       "      <td>1</td>\n",
       "      <td>1</td>\n",
       "      <td>other</td>\n",
       "      <td>1</td>\n",
       "      <td>1.0</td>\n",
       "      <td>3</td>\n",
       "      <td>5</td>\n",
       "      <td>5.0</td>\n",
       "      <td>3</td>\n",
       "    </tr>\n",
       "    <tr>\n",
       "      <th>393</th>\n",
       "      <td>M</td>\n",
       "      <td>18.0</td>\n",
       "      <td>T</td>\n",
       "      <td>2</td>\n",
       "      <td>3</td>\n",
       "      <td>mother</td>\n",
       "      <td>1</td>\n",
       "      <td>3.0</td>\n",
       "      <td>0</td>\n",
       "      <td>4</td>\n",
       "      <td>4.0</td>\n",
       "      <td>0</td>\n",
       "    </tr>\n",
       "    <tr>\n",
       "      <th>394</th>\n",
       "      <td>M</td>\n",
       "      <td>19.0</td>\n",
       "      <td>T</td>\n",
       "      <td>1</td>\n",
       "      <td>1</td>\n",
       "      <td>father</td>\n",
       "      <td>1</td>\n",
       "      <td>1.0</td>\n",
       "      <td>0</td>\n",
       "      <td>3</td>\n",
       "      <td>2.0</td>\n",
       "      <td>5</td>\n",
       "    </tr>\n",
       "  </tbody>\n",
       "</table>\n",
       "<p>395 rows × 12 columns</p>\n",
       "</div>"
      ],
      "text/plain": [
       "    sex   age Pstatus  Fedu  Medu guardian  studytime  traveltime  failures  \\\n",
       "0     F  18.0       A     4     4   mother          2         2.0         0   \n",
       "1     F  17.0       T     1     1   father          2         1.0         0   \n",
       "2     F  15.0       T     1     1   mother          2         1.0         3   \n",
       "3     F  15.0       T     2     4   mother          3         1.0         0   \n",
       "4     F   NaN       T     3     3   father          2         1.0         0   \n",
       "..   ..   ...     ...   ...   ...      ...        ...         ...       ...   \n",
       "390   M  20.0       A     2     2    other          2         1.0         2   \n",
       "391   M  17.0       T     1     3   mother          1         2.0         0   \n",
       "392   M  21.0       T     1     1    other          1         1.0         3   \n",
       "393   M  18.0       T     2     3   mother          1         3.0         0   \n",
       "394   M  19.0       T     1     1   father          1         1.0         0   \n",
       "\n",
       "     famrel  freetime  absences  \n",
       "0         4       3.0         6  \n",
       "1         5       3.0         4  \n",
       "2         4       3.0        10  \n",
       "3         3       2.0         2  \n",
       "4         4       3.0         4  \n",
       "..      ...       ...       ...  \n",
       "390       5       5.0        11  \n",
       "391       2       4.0         3  \n",
       "392       5       5.0         3  \n",
       "393       4       4.0         0  \n",
       "394       3       2.0         5  \n",
       "\n",
       "[395 rows x 12 columns]"
      ]
     },
     "execution_count": 1,
     "metadata": {},
     "output_type": "execute_result"
    }
   ],
   "source": [
    "import ssl\n",
    "import pandas as pd\n",
    "import urllib\n",
    "context = ssl._create_unverified_context()\n",
    "\n",
    "url1 = 'https://raw.githubusercontent.com/Ssunbell/ADP_study/main/7주차_0625/data/problem1.csv'\n",
    "encoded_url1 = urllib.parse.quote(url1, safe=':/')\n",
    "\n",
    "response = urllib.request.urlopen(encoded_url1, context=context)\n",
    "df1 = pd.read_csv(response, encoding='utf-8')\n",
    "df1"
   ]
  },
  {
   "attachments": {},
   "cell_type": "markdown",
   "metadata": {},
   "source": [
    "### 1-1 데이터 EDA 및 시각화"
   ]
  },
  {
   "attachments": {},
   "cell_type": "markdown",
   "metadata": {},
   "source": [
    "info를 통해 데이터 타입 및 결측치 확인\n",
    "\n",
    "age, traveltime, freetime 에서 결측치 확인"
   ]
  },
  {
   "cell_type": "code",
   "execution_count": 2,
   "metadata": {},
   "outputs": [
    {
     "name": "stdout",
     "output_type": "stream",
     "text": [
      "<class 'pandas.core.frame.DataFrame'>\n",
      "RangeIndex: 395 entries, 0 to 394\n",
      "Data columns (total 12 columns):\n",
      " #   Column      Non-Null Count  Dtype  \n",
      "---  ------      --------------  -----  \n",
      " 0   sex         395 non-null    object \n",
      " 1   age         392 non-null    float64\n",
      " 2   Pstatus     395 non-null    object \n",
      " 3   Fedu        395 non-null    int64  \n",
      " 4   Medu        395 non-null    int64  \n",
      " 5   guardian    395 non-null    object \n",
      " 6   studytime   395 non-null    int64  \n",
      " 7   traveltime  392 non-null    float64\n",
      " 8   failures    395 non-null    int64  \n",
      " 9   famrel      395 non-null    int64  \n",
      " 10  freetime    390 non-null    float64\n",
      " 11  absences    395 non-null    int64  \n",
      "dtypes: float64(3), int64(6), object(3)\n",
      "memory usage: 37.2+ KB\n"
     ]
    }
   ],
   "source": [
    "df1.info()"
   ]
  },
  {
   "attachments": {},
   "cell_type": "markdown",
   "metadata": {},
   "source": [
    "기술 통계량 확인\n",
    "\n",
    "label인 absences의 평균이 약 5.7, 최대값이 75인 수치형 변수이므로 회귀적인 관점으로 접근해야 함"
   ]
  },
  {
   "cell_type": "code",
   "execution_count": 3,
   "metadata": {},
   "outputs": [
    {
     "data": {
      "text/html": [
       "<div>\n",
       "<style scoped>\n",
       "    .dataframe tbody tr th:only-of-type {\n",
       "        vertical-align: middle;\n",
       "    }\n",
       "\n",
       "    .dataframe tbody tr th {\n",
       "        vertical-align: top;\n",
       "    }\n",
       "\n",
       "    .dataframe thead th {\n",
       "        text-align: right;\n",
       "    }\n",
       "</style>\n",
       "<table border=\"1\" class=\"dataframe\">\n",
       "  <thead>\n",
       "    <tr style=\"text-align: right;\">\n",
       "      <th></th>\n",
       "      <th>count</th>\n",
       "      <th>mean</th>\n",
       "      <th>std</th>\n",
       "      <th>min</th>\n",
       "      <th>25%</th>\n",
       "      <th>50%</th>\n",
       "      <th>75%</th>\n",
       "      <th>max</th>\n",
       "    </tr>\n",
       "  </thead>\n",
       "  <tbody>\n",
       "    <tr>\n",
       "      <th>age</th>\n",
       "      <td>392.0</td>\n",
       "      <td>16.698980</td>\n",
       "      <td>1.279865</td>\n",
       "      <td>15.0</td>\n",
       "      <td>16.0</td>\n",
       "      <td>17.0</td>\n",
       "      <td>18.0</td>\n",
       "      <td>22.0</td>\n",
       "    </tr>\n",
       "    <tr>\n",
       "      <th>Fedu</th>\n",
       "      <td>395.0</td>\n",
       "      <td>2.521519</td>\n",
       "      <td>1.088201</td>\n",
       "      <td>0.0</td>\n",
       "      <td>2.0</td>\n",
       "      <td>2.0</td>\n",
       "      <td>3.0</td>\n",
       "      <td>4.0</td>\n",
       "    </tr>\n",
       "    <tr>\n",
       "      <th>Medu</th>\n",
       "      <td>395.0</td>\n",
       "      <td>2.749367</td>\n",
       "      <td>1.094735</td>\n",
       "      <td>0.0</td>\n",
       "      <td>2.0</td>\n",
       "      <td>3.0</td>\n",
       "      <td>4.0</td>\n",
       "      <td>4.0</td>\n",
       "    </tr>\n",
       "    <tr>\n",
       "      <th>studytime</th>\n",
       "      <td>395.0</td>\n",
       "      <td>2.035443</td>\n",
       "      <td>0.839240</td>\n",
       "      <td>1.0</td>\n",
       "      <td>1.0</td>\n",
       "      <td>2.0</td>\n",
       "      <td>2.0</td>\n",
       "      <td>4.0</td>\n",
       "    </tr>\n",
       "    <tr>\n",
       "      <th>traveltime</th>\n",
       "      <td>392.0</td>\n",
       "      <td>1.446429</td>\n",
       "      <td>0.695022</td>\n",
       "      <td>1.0</td>\n",
       "      <td>1.0</td>\n",
       "      <td>1.0</td>\n",
       "      <td>2.0</td>\n",
       "      <td>4.0</td>\n",
       "    </tr>\n",
       "    <tr>\n",
       "      <th>failures</th>\n",
       "      <td>395.0</td>\n",
       "      <td>0.334177</td>\n",
       "      <td>0.743651</td>\n",
       "      <td>0.0</td>\n",
       "      <td>0.0</td>\n",
       "      <td>0.0</td>\n",
       "      <td>0.0</td>\n",
       "      <td>3.0</td>\n",
       "    </tr>\n",
       "    <tr>\n",
       "      <th>famrel</th>\n",
       "      <td>395.0</td>\n",
       "      <td>3.944304</td>\n",
       "      <td>0.896659</td>\n",
       "      <td>1.0</td>\n",
       "      <td>4.0</td>\n",
       "      <td>4.0</td>\n",
       "      <td>5.0</td>\n",
       "      <td>5.0</td>\n",
       "    </tr>\n",
       "    <tr>\n",
       "      <th>freetime</th>\n",
       "      <td>390.0</td>\n",
       "      <td>3.233333</td>\n",
       "      <td>1.000985</td>\n",
       "      <td>1.0</td>\n",
       "      <td>3.0</td>\n",
       "      <td>3.0</td>\n",
       "      <td>4.0</td>\n",
       "      <td>5.0</td>\n",
       "    </tr>\n",
       "    <tr>\n",
       "      <th>absences</th>\n",
       "      <td>395.0</td>\n",
       "      <td>5.708861</td>\n",
       "      <td>8.003096</td>\n",
       "      <td>0.0</td>\n",
       "      <td>0.0</td>\n",
       "      <td>4.0</td>\n",
       "      <td>8.0</td>\n",
       "      <td>75.0</td>\n",
       "    </tr>\n",
       "  </tbody>\n",
       "</table>\n",
       "</div>"
      ],
      "text/plain": [
       "            count       mean       std   min   25%   50%   75%   max\n",
       "age         392.0  16.698980  1.279865  15.0  16.0  17.0  18.0  22.0\n",
       "Fedu        395.0   2.521519  1.088201   0.0   2.0   2.0   3.0   4.0\n",
       "Medu        395.0   2.749367  1.094735   0.0   2.0   3.0   4.0   4.0\n",
       "studytime   395.0   2.035443  0.839240   1.0   1.0   2.0   2.0   4.0\n",
       "traveltime  392.0   1.446429  0.695022   1.0   1.0   1.0   2.0   4.0\n",
       "failures    395.0   0.334177  0.743651   0.0   0.0   0.0   0.0   3.0\n",
       "famrel      395.0   3.944304  0.896659   1.0   4.0   4.0   5.0   5.0\n",
       "freetime    390.0   3.233333  1.000985   1.0   3.0   3.0   4.0   5.0\n",
       "absences    395.0   5.708861  8.003096   0.0   0.0   4.0   8.0  75.0"
      ]
     },
     "execution_count": 3,
     "metadata": {},
     "output_type": "execute_result"
    }
   ],
   "source": [
    "df1.describe().T"
   ]
  },
  {
   "attachments": {},
   "cell_type": "markdown",
   "metadata": {},
   "source": [
    "absences 컬럼의 최대값이 75이므로 15씩 5개의 그룹으로 나눠서 빈도수 비교\n",
    "\n",
    "비교 결과 absences 값이 15 이하인 값이 전체 label에서 95% 이상을 차지하는 불균형을 보임"
   ]
  },
  {
   "cell_type": "code",
   "execution_count": 26,
   "metadata": {},
   "outputs": [
    {
     "data": {
      "image/png": "[encoded data removed]",
      "text/plain": [
       "<Figure size 432x288 with 1 Axes>"
      ]
     },
     "metadata": {
      "needs_background": "light"
     },
     "output_type": "display_data"
    }
   ],
   "source": [
    "import matplotlib.pyplot as plt\n",
    "\n",
    "def g(x):\n",
    "    if x <= 15:\n",
    "        return '0 ~ 15'\n",
    "    elif 15 < x <= 30:\n",
    "        return '15 ~ 30'\n",
    "    elif 30 < x <= 45:\n",
    "        return '30 ~ 45'\n",
    "    elif 45 < x <= 60:\n",
    "        return '45 ~ 60'\n",
    "    else:\n",
    "        return '60 ~ 75'\n",
    "eda_df = df1.copy()\n",
    "eda_df['g'] = eda_df['absences'].apply(lambda x: g(x))\n",
    "eda_df['g'].value_counts().plot(kind='bar')\n",
    "eda_df = eda_df.sort_values('g', ascending=False)\n",
    "plt.xticks(rotation=30)\n",
    "plt.show()"
   ]
  },
  {
   "cell_type": "code",
   "execution_count": 27,
   "metadata": {},
   "outputs": [
    {
     "data": {
      "image/png": "[encoded data removed]",
      "text/plain": [
       "<Figure size 1440x1080 with 12 Axes>"
      ]
     },
     "metadata": {
      "needs_background": "light"
     },
     "output_type": "display_data"
    }
   ],
   "source": [
    "from math import ceil\n",
    "import seaborn as sns\n",
    "\n",
    "features = eda_df.columns.tolist()\n",
    "for column in ['absences', 'g']:\n",
    "    features.remove(column)\n",
    "\n",
    "r,c = ceil(len(features)/4), 4\n",
    "fig, axes = plt.subplots(r, c, figsize=(20, 15))\n",
    "for i, column in enumerate(features):\n",
    "    ax_r, ax_c = int(i//c), int(i%c)\n",
    "    sns.histplot(eda_df, x =column , hue='g', ax = axes[ax_r][ax_c], multiple='fill', stat='probability')\n",
    "    axes[ax_r][ax_c].set_title(column)\n",
    "\n",
    "plt.tight_layout()\n",
    "plt.show()"
   ]
  },
  {
   "cell_type": "code",
   "execution_count": 41,
   "metadata": {},
   "outputs": [
    {
     "data": {
      "image/png": "[encoded data removed]",
      "text/plain": [
       "<Figure size 720x720 with 2 Axes>"
      ]
     },
     "metadata": {
      "needs_background": "light"
     },
     "output_type": "display_data"
    }
   ],
   "source": [
    "plt.figure(figsize=(10,10))\n",
    "sns.heatmap(df1.corr(), annot=True)\n",
    "plt.show()"
   ]
  },
  {
   "attachments": {},
   "cell_type": "markdown",
   "metadata": {},
   "source": [
    "### 1-2 결측치 처리 및 변화 시각화, 추가 전처리가 필요하다면 이유와 기대효과를 설명하라"
   ]
  },
  {
   "attachments": {},
   "cell_type": "markdown",
   "metadata": {},
   "source": [
    "age를 min-max scaling?\n",
    "\n",
    "결측치 데이터 확인\n",
    "\n",
    "결측치 데이터 수가 많지 않고 라벨이 비율이 높은 15 이하의 데이터이므로 결측치를 제거해서 진행해도 성능에 큰 하락이 없을 것으로 기대됨"
   ]
  },
  {
   "cell_type": "code",
   "execution_count": 30,
   "metadata": {},
   "outputs": [
    {
     "data": {
      "text/html": [
       "<div>\n",
       "<style scoped>\n",
       "    .dataframe tbody tr th:only-of-type {\n",
       "        vertical-align: middle;\n",
       "    }\n",
       "\n",
       "    .dataframe tbody tr th {\n",
       "        vertical-align: top;\n",
       "    }\n",
       "\n",
       "    .dataframe thead th {\n",
       "        text-align: right;\n",
       "    }\n",
       "</style>\n",
       "<table border=\"1\" class=\"dataframe\">\n",
       "  <thead>\n",
       "    <tr style=\"text-align: right;\">\n",
       "      <th></th>\n",
       "      <th>sex</th>\n",
       "      <th>age</th>\n",
       "      <th>Pstatus</th>\n",
       "      <th>Fedu</th>\n",
       "      <th>Medu</th>\n",
       "      <th>guardian</th>\n",
       "      <th>studytime</th>\n",
       "      <th>traveltime</th>\n",
       "      <th>failures</th>\n",
       "      <th>famrel</th>\n",
       "      <th>freetime</th>\n",
       "      <th>absences</th>\n",
       "    </tr>\n",
       "  </thead>\n",
       "  <tbody>\n",
       "    <tr>\n",
       "      <th>4</th>\n",
       "      <td>F</td>\n",
       "      <td>NaN</td>\n",
       "      <td>T</td>\n",
       "      <td>3</td>\n",
       "      <td>3</td>\n",
       "      <td>father</td>\n",
       "      <td>2</td>\n",
       "      <td>1.0</td>\n",
       "      <td>0</td>\n",
       "      <td>4</td>\n",
       "      <td>3.0</td>\n",
       "      <td>4</td>\n",
       "    </tr>\n",
       "    <tr>\n",
       "      <th>31</th>\n",
       "      <td>M</td>\n",
       "      <td>15.0</td>\n",
       "      <td>T</td>\n",
       "      <td>4</td>\n",
       "      <td>4</td>\n",
       "      <td>mother</td>\n",
       "      <td>2</td>\n",
       "      <td>2.0</td>\n",
       "      <td>0</td>\n",
       "      <td>4</td>\n",
       "      <td>NaN</td>\n",
       "      <td>0</td>\n",
       "    </tr>\n",
       "    <tr>\n",
       "      <th>33</th>\n",
       "      <td>M</td>\n",
       "      <td>15.0</td>\n",
       "      <td>T</td>\n",
       "      <td>3</td>\n",
       "      <td>3</td>\n",
       "      <td>mother</td>\n",
       "      <td>2</td>\n",
       "      <td>1.0</td>\n",
       "      <td>0</td>\n",
       "      <td>5</td>\n",
       "      <td>NaN</td>\n",
       "      <td>0</td>\n",
       "    </tr>\n",
       "    <tr>\n",
       "      <th>66</th>\n",
       "      <td>M</td>\n",
       "      <td>15.0</td>\n",
       "      <td>A</td>\n",
       "      <td>4</td>\n",
       "      <td>4</td>\n",
       "      <td>mother</td>\n",
       "      <td>4</td>\n",
       "      <td>NaN</td>\n",
       "      <td>0</td>\n",
       "      <td>1</td>\n",
       "      <td>3.0</td>\n",
       "      <td>4</td>\n",
       "    </tr>\n",
       "    <tr>\n",
       "      <th>96</th>\n",
       "      <td>M</td>\n",
       "      <td>NaN</td>\n",
       "      <td>T</td>\n",
       "      <td>3</td>\n",
       "      <td>4</td>\n",
       "      <td>mother</td>\n",
       "      <td>1</td>\n",
       "      <td>2.0</td>\n",
       "      <td>0</td>\n",
       "      <td>3</td>\n",
       "      <td>3.0</td>\n",
       "      <td>2</td>\n",
       "    </tr>\n",
       "    <tr>\n",
       "      <th>97</th>\n",
       "      <td>F</td>\n",
       "      <td>16.0</td>\n",
       "      <td>T</td>\n",
       "      <td>1</td>\n",
       "      <td>2</td>\n",
       "      <td>mother</td>\n",
       "      <td>2</td>\n",
       "      <td>1.0</td>\n",
       "      <td>0</td>\n",
       "      <td>4</td>\n",
       "      <td>NaN</td>\n",
       "      <td>2</td>\n",
       "    </tr>\n",
       "    <tr>\n",
       "      <th>153</th>\n",
       "      <td>M</td>\n",
       "      <td>19.0</td>\n",
       "      <td>T</td>\n",
       "      <td>2</td>\n",
       "      <td>3</td>\n",
       "      <td>mother</td>\n",
       "      <td>1</td>\n",
       "      <td>1.0</td>\n",
       "      <td>3</td>\n",
       "      <td>4</td>\n",
       "      <td>NaN</td>\n",
       "      <td>0</td>\n",
       "    </tr>\n",
       "    <tr>\n",
       "      <th>284</th>\n",
       "      <td>F</td>\n",
       "      <td>17.0</td>\n",
       "      <td>T</td>\n",
       "      <td>2</td>\n",
       "      <td>2</td>\n",
       "      <td>mother</td>\n",
       "      <td>2</td>\n",
       "      <td>NaN</td>\n",
       "      <td>0</td>\n",
       "      <td>5</td>\n",
       "      <td>4.0</td>\n",
       "      <td>4</td>\n",
       "    </tr>\n",
       "    <tr>\n",
       "      <th>316</th>\n",
       "      <td>F</td>\n",
       "      <td>18.0</td>\n",
       "      <td>T</td>\n",
       "      <td>1</td>\n",
       "      <td>2</td>\n",
       "      <td>mother</td>\n",
       "      <td>2</td>\n",
       "      <td>2.0</td>\n",
       "      <td>0</td>\n",
       "      <td>5</td>\n",
       "      <td>NaN</td>\n",
       "      <td>0</td>\n",
       "    </tr>\n",
       "    <tr>\n",
       "      <th>321</th>\n",
       "      <td>F</td>\n",
       "      <td>NaN</td>\n",
       "      <td>T</td>\n",
       "      <td>2</td>\n",
       "      <td>2</td>\n",
       "      <td>mother</td>\n",
       "      <td>2</td>\n",
       "      <td>1.0</td>\n",
       "      <td>0</td>\n",
       "      <td>4</td>\n",
       "      <td>2.0</td>\n",
       "      <td>12</td>\n",
       "    </tr>\n",
       "    <tr>\n",
       "      <th>360</th>\n",
       "      <td>F</td>\n",
       "      <td>18.0</td>\n",
       "      <td>A</td>\n",
       "      <td>4</td>\n",
       "      <td>1</td>\n",
       "      <td>mother</td>\n",
       "      <td>2</td>\n",
       "      <td>NaN</td>\n",
       "      <td>0</td>\n",
       "      <td>4</td>\n",
       "      <td>3.0</td>\n",
       "      <td>0</td>\n",
       "    </tr>\n",
       "  </tbody>\n",
       "</table>\n",
       "</div>"
      ],
      "text/plain": [
       "    sex   age Pstatus  Fedu  Medu guardian  studytime  traveltime  failures  \\\n",
       "4     F   NaN       T     3     3   father          2         1.0         0   \n",
       "31    M  15.0       T     4     4   mother          2         2.0         0   \n",
       "33    M  15.0       T     3     3   mother          2         1.0         0   \n",
       "66    M  15.0       A     4     4   mother          4         NaN         0   \n",
       "96    M   NaN       T     3     4   mother          1         2.0         0   \n",
       "97    F  16.0       T     1     2   mother          2         1.0         0   \n",
       "153   M  19.0       T     2     3   mother          1         1.0         3   \n",
       "284   F  17.0       T     2     2   mother          2         NaN         0   \n",
       "316   F  18.0       T     1     2   mother          2         2.0         0   \n",
       "321   F   NaN       T     2     2   mother          2         1.0         0   \n",
       "360   F  18.0       A     4     1   mother          2         NaN         0   \n",
       "\n",
       "     famrel  freetime  absences  \n",
       "4         4       3.0         4  \n",
       "31        4       NaN         0  \n",
       "33        5       NaN         0  \n",
       "66        1       3.0         4  \n",
       "96        3       3.0         2  \n",
       "97        4       NaN         2  \n",
       "153       4       NaN         0  \n",
       "284       5       4.0         4  \n",
       "316       5       NaN         0  \n",
       "321       4       2.0        12  \n",
       "360       4       3.0         0  "
      ]
     },
     "execution_count": 30,
     "metadata": {},
     "output_type": "execute_result"
    }
   ],
   "source": [
    "df1[df1[''].isnull().any(axis=1)]"
   ]
  },
  {
   "cell_type": "code",
   "execution_count": 31,
   "metadata": {},
   "outputs": [
    {
     "name": "stdout",
     "output_type": "stream",
     "text": [
      "<class 'pandas.core.frame.DataFrame'>\n",
      "Int64Index: 384 entries, 0 to 394\n",
      "Data columns (total 12 columns):\n",
      " #   Column      Non-Null Count  Dtype  \n",
      "---  ------      --------------  -----  \n",
      " 0   sex         384 non-null    object \n",
      " 1   age         384 non-null    float64\n",
      " 2   Pstatus     384 non-null    object \n",
      " 3   Fedu        384 non-null    int64  \n",
      " 4   Medu        384 non-null    int64  \n",
      " 5   guardian    384 non-null    object \n",
      " 6   studytime   384 non-null    int64  \n",
      " 7   traveltime  384 non-null    float64\n",
      " 8   failures    384 non-null    int64  \n",
      " 9   famrel      384 non-null    int64  \n",
      " 10  freetime    384 non-null    float64\n",
      " 11  absences    384 non-null    int64  \n",
      "dtypes: float64(3), int64(6), object(3)\n",
      "memory usage: 39.0+ KB\n"
     ]
    }
   ],
   "source": [
    "df = df1.dropna()\n",
    "df.info()"
   ]
  },
  {
   "attachments": {},
   "cell_type": "markdown",
   "metadata": {},
   "source": [
    "sex, Pstatus, guardian 컬럼은 비정형데이터이므로 분석을 위해서 더미 변수로 변환"
   ]
  },
  {
   "cell_type": "code",
   "execution_count": 34,
   "metadata": {},
   "outputs": [
    {
     "name": "stderr",
     "output_type": "stream",
     "text": [
      "/Users/yuseonjong/usr/adp/lib/python3.7/site-packages/ipykernel_launcher.py:3: SettingWithCopyWarning: \n",
      "A value is trying to be set on a copy of a slice from a DataFrame.\n",
      "Try using .loc[row_indexer,col_indexer] = value instead\n",
      "\n",
      "See the caveats in the documentation: https://pandas.pydata.org/pandas-docs/stable/user_guide/indexing.html#returning-a-view-versus-a-copy\n",
      "  This is separate from the ipykernel package so we can avoid doing imports until\n"
     ]
    },
    {
     "data": {
      "text/html": [
       "<div>\n",
       "<style scoped>\n",
       "    .dataframe tbody tr th:only-of-type {\n",
       "        vertical-align: middle;\n",
       "    }\n",
       "\n",
       "    .dataframe tbody tr th {\n",
       "        vertical-align: top;\n",
       "    }\n",
       "\n",
       "    .dataframe thead th {\n",
       "        text-align: right;\n",
       "    }\n",
       "</style>\n",
       "<table border=\"1\" class=\"dataframe\">\n",
       "  <thead>\n",
       "    <tr style=\"text-align: right;\">\n",
       "      <th></th>\n",
       "      <th>sex</th>\n",
       "      <th>age</th>\n",
       "      <th>Pstatus</th>\n",
       "      <th>Fedu</th>\n",
       "      <th>Medu</th>\n",
       "      <th>guardian</th>\n",
       "      <th>studytime</th>\n",
       "      <th>traveltime</th>\n",
       "      <th>failures</th>\n",
       "      <th>famrel</th>\n",
       "      <th>freetime</th>\n",
       "      <th>absences</th>\n",
       "    </tr>\n",
       "  </thead>\n",
       "  <tbody>\n",
       "    <tr>\n",
       "      <th>0</th>\n",
       "      <td>0</td>\n",
       "      <td>18.0</td>\n",
       "      <td>0</td>\n",
       "      <td>4</td>\n",
       "      <td>4</td>\n",
       "      <td>0</td>\n",
       "      <td>2</td>\n",
       "      <td>2.0</td>\n",
       "      <td>0</td>\n",
       "      <td>4</td>\n",
       "      <td>3.0</td>\n",
       "      <td>6</td>\n",
       "    </tr>\n",
       "    <tr>\n",
       "      <th>1</th>\n",
       "      <td>0</td>\n",
       "      <td>17.0</td>\n",
       "      <td>1</td>\n",
       "      <td>1</td>\n",
       "      <td>1</td>\n",
       "      <td>1</td>\n",
       "      <td>2</td>\n",
       "      <td>1.0</td>\n",
       "      <td>0</td>\n",
       "      <td>5</td>\n",
       "      <td>3.0</td>\n",
       "      <td>4</td>\n",
       "    </tr>\n",
       "    <tr>\n",
       "      <th>2</th>\n",
       "      <td>0</td>\n",
       "      <td>15.0</td>\n",
       "      <td>1</td>\n",
       "      <td>1</td>\n",
       "      <td>1</td>\n",
       "      <td>0</td>\n",
       "      <td>2</td>\n",
       "      <td>1.0</td>\n",
       "      <td>3</td>\n",
       "      <td>4</td>\n",
       "      <td>3.0</td>\n",
       "      <td>10</td>\n",
       "    </tr>\n",
       "    <tr>\n",
       "      <th>3</th>\n",
       "      <td>0</td>\n",
       "      <td>15.0</td>\n",
       "      <td>1</td>\n",
       "      <td>2</td>\n",
       "      <td>4</td>\n",
       "      <td>0</td>\n",
       "      <td>3</td>\n",
       "      <td>1.0</td>\n",
       "      <td>0</td>\n",
       "      <td>3</td>\n",
       "      <td>2.0</td>\n",
       "      <td>2</td>\n",
       "    </tr>\n",
       "    <tr>\n",
       "      <th>5</th>\n",
       "      <td>1</td>\n",
       "      <td>16.0</td>\n",
       "      <td>1</td>\n",
       "      <td>3</td>\n",
       "      <td>4</td>\n",
       "      <td>0</td>\n",
       "      <td>2</td>\n",
       "      <td>1.0</td>\n",
       "      <td>0</td>\n",
       "      <td>5</td>\n",
       "      <td>4.0</td>\n",
       "      <td>10</td>\n",
       "    </tr>\n",
       "  </tbody>\n",
       "</table>\n",
       "</div>"
      ],
      "text/plain": [
       "   sex   age  Pstatus  Fedu  Medu  guardian  studytime  traveltime  failures  \\\n",
       "0    0  18.0        0     4     4         0          2         2.0         0   \n",
       "1    0  17.0        1     1     1         1          2         1.0         0   \n",
       "2    0  15.0        1     1     1         0          2         1.0         3   \n",
       "3    0  15.0        1     2     4         0          3         1.0         0   \n",
       "5    1  16.0        1     3     4         0          2         1.0         0   \n",
       "\n",
       "   famrel  freetime  absences  \n",
       "0       4       3.0         6  \n",
       "1       5       3.0         4  \n",
       "2       4       3.0        10  \n",
       "3       3       2.0         2  \n",
       "5       5       4.0        10  "
      ]
     },
     "execution_count": 34,
     "metadata": {},
     "output_type": "execute_result"
    }
   ],
   "source": [
    "for column in ['sex', 'Pstatus', 'guardian']:\n",
    "    dummy = {c:idx for idx, c in enumerate(df[column].unique())}\n",
    "    df[column] = df[column].apply(lambda x: dummy[x])\n",
    "df.head()"
   ]
  },
  {
   "attachments": {},
   "cell_type": "markdown",
   "metadata": {},
   "source": [
    "### 1-3 결석일수 예측모델을 2개 제시하고 선택한 근거 설명\n",
    "\n",
    "- 라벨이 연속형인 변수이므로 회귀를 적용해야 함\n",
    "- 일반적인 선형회귀, 다중회귀, 릿지, 라쏘, 엘라스틱 회귀 등이 있음\n",
    "- 릿지, 라쏘, 엘라스틱은 규제를 적용하여 좀더 robust한 모델\n",
    "- 또한, Decision Tree, Random Forest, xgboost 등의 모델을 사용할 수 있음"
   ]
  },
  {
   "attachments": {},
   "cell_type": "markdown",
   "metadata": {},
   "source": [
    "### 1-4 선정한 모델 2가지 생성 및 모델의 평가 기준을 선정하고 선정 이유 설명"
   ]
  },
  {
   "cell_type": "code",
   "execution_count": 53,
   "metadata": {},
   "outputs": [
    {
     "data": {
      "text/plain": [
       "((345, 11), (39, 11), (345,), (39,))"
      ]
     },
     "execution_count": 53,
     "metadata": {},
     "output_type": "execute_result"
    }
   ],
   "source": [
    "from sklearn.model_selection import train_test_split\n",
    "from sklearn.metrics import mean_squared_error\n",
    "import xgboost as xgb\n",
    "\n",
    "features = df.columns.tolist()\n",
    "target = 'absences'\n",
    "features.remove(target)\n",
    "\n",
    "x_train, x_test, y_train, y_test = train_test_split(df[features], df[target], test_size=0.1, random_state=42)\n",
    "x_train.shape, x_test.shape, y_train.shape, y_test.shape"
   ]
  },
  {
   "attachments": {},
   "cell_type": "markdown",
   "metadata": {},
   "source": [
    "L1, L2 규제를 적용하여 이상치에 강건한 선형 회귀 모델을 적용"
   ]
  },
  {
   "cell_type": "code",
   "execution_count": 63,
   "metadata": {},
   "outputs": [
    {
     "name": "stdout",
     "output_type": "stream",
     "text": [
      "xgboost mse: 19.129716667928104\n",
      "xgboost inference speed: 0.0021409988403320312\n"
     ]
    }
   ],
   "source": [
    "from sklearn.linear_model import ElasticNet\n",
    "from time import time\n",
    "\n",
    "# 엘라스틱 회귀 모델 생성\n",
    "model = ElasticNet()\n",
    "\n",
    "# 모델 훈련\n",
    "model.fit(x_train, y_train)\n",
    "\n",
    "# 예측\n",
    "start = time()\n",
    "y_pred = model.predict(x_test)\n",
    "end = time()\n",
    "\n",
    "# 정확도 평가\n",
    "mse = mean_squared_error(y_test, y_pred)\n",
    "print(\"elastic mse:\", mse)\n",
    "print('elastic inference speed:', end - start)"
   ]
  },
  {
   "attachments": {},
   "cell_type": "markdown",
   "metadata": {},
   "source": [
    "xgboost는 결정 트리를 앙상블한 모델로 최근 가장 성능이 뛰어난 모델"
   ]
  },
  {
   "cell_type": "code",
   "execution_count": 64,
   "metadata": {},
   "outputs": [
    {
     "name": "stdout",
     "output_type": "stream",
     "text": [
      "xgboost mse: 65.43801929398202\n",
      "xgboost inference speed: 0.004836082458496094\n"
     ]
    }
   ],
   "source": [
    "# XGBoost 분류기 모델 생성\n",
    "xgboost = xgb.XGBRegressor()\n",
    "\n",
    "# 모델 훈련\n",
    "xgboost.fit(x_train, y_train)\n",
    "\n",
    "# 예측\n",
    "start = time()\n",
    "y_pred = xgboost.predict(x_test)\n",
    "end = time()\n",
    "\n",
    "# 정확도 평가\n",
    "mse = mean_squared_error(y_test, y_pred)\n",
    "print(\"xgboost mse:\", mse)\n",
    "print('xgboost inference speed:', end - start)"
   ]
  },
  {
   "attachments": {},
   "cell_type": "markdown",
   "metadata": {},
   "source": [
    "### 1-5 모델이 다양한 일상 상황에서도 잘 동작한다는 것을 설명하고 시각화 하라"
   ]
  },
  {
   "attachments": {},
   "cell_type": "markdown",
   "metadata": {},
   "source": [
    "일상 상황에서도 잘 동작하기 위해서는 다음 2가지를 만족해야 한다.\n",
    " - 추론 속도\n",
    " - 이상치에 강건\n",
    "\n",
    "일상 생활에서는 사용자의 편의성을 위해 추론 속도가 빨라야 하며, 평소에 접하지 못하는 이상치에 민감하지 않은 모델이어야 한다.\n",
    "\n",
    "\n",
    "이러한 측면에서 엘라스틱 회귀는 L1, L2 규제를 통해 이상치에 강건하며, 학습 속도도 빠른 편이므로 일상 생활에서도 잘 작동될 것으로 기대된다.\n",
    "\n"
   ]
  },
  {
   "attachments": {},
   "cell_type": "markdown",
   "metadata": {},
   "source": [
    "### 1-6 모델 최적화 방안에 대해 구체적으로 설명하라"
   ]
  },
  {
   "attachments": {},
   "cell_type": "markdown",
   "metadata": {},
   "source": [
    "현재 데이터는 불균형한 데이터이므로 이러한 관점에서 두가지 최적화 방안이 존재한다.\n",
    "- 교차검증을 통해 좀더 강건한 모델을 만든다.\n",
    "- 오버 샘플링(데이터 증강) 기법을 적용하여 부족한 데이터의 수를 보완한다.\n",
    "\n",
    "그 외에도 하이퍼 파라미터 튜닝, AutoML 등의 기법이 있다.\n",
    "\n",
    "1:34:00 걸림"
   ]
  },
  {
   "attachments": {},
   "cell_type": "markdown",
   "metadata": {},
   "source": [
    "# 통계분석"
   ]
  },
  {
   "attachments": {},
   "cell_type": "markdown",
   "metadata": {},
   "source": [
    "### 2. 광고횟수와 광고비에 따른 매출액의 데이터이다. "
   ]
  },
  {
   "cell_type": "code",
   "execution_count": 66,
   "metadata": {},
   "outputs": [
    {
     "data": {
      "text/html": [
       "<div>\n",
       "<style scoped>\n",
       "    .dataframe tbody tr th:only-of-type {\n",
       "        vertical-align: middle;\n",
       "    }\n",
       "\n",
       "    .dataframe tbody tr th {\n",
       "        vertical-align: top;\n",
       "    }\n",
       "\n",
       "    .dataframe thead th {\n",
       "        text-align: right;\n",
       "    }\n",
       "</style>\n",
       "<table border=\"1\" class=\"dataframe\">\n",
       "  <thead>\n",
       "    <tr style=\"text-align: right;\">\n",
       "      <th></th>\n",
       "      <th>광고횟수</th>\n",
       "      <th>광고비</th>\n",
       "      <th>매출액</th>\n",
       "    </tr>\n",
       "  </thead>\n",
       "  <tbody>\n",
       "    <tr>\n",
       "      <th>0</th>\n",
       "      <td>2</td>\n",
       "      <td>낮음</td>\n",
       "      <td>15</td>\n",
       "    </tr>\n",
       "    <tr>\n",
       "      <th>1</th>\n",
       "      <td>3</td>\n",
       "      <td>낮음</td>\n",
       "      <td>16</td>\n",
       "    </tr>\n",
       "    <tr>\n",
       "      <th>2</th>\n",
       "      <td>4</td>\n",
       "      <td>낮음</td>\n",
       "      <td>17</td>\n",
       "    </tr>\n",
       "    <tr>\n",
       "      <th>3</th>\n",
       "      <td>4</td>\n",
       "      <td>높음</td>\n",
       "      <td>18</td>\n",
       "    </tr>\n",
       "    <tr>\n",
       "      <th>4</th>\n",
       "      <td>5</td>\n",
       "      <td>높음</td>\n",
       "      <td>20</td>\n",
       "    </tr>\n",
       "    <tr>\n",
       "      <th>5</th>\n",
       "      <td>6</td>\n",
       "      <td>높음</td>\n",
       "      <td>22</td>\n",
       "    </tr>\n",
       "    <tr>\n",
       "      <th>6</th>\n",
       "      <td>7</td>\n",
       "      <td>낮음</td>\n",
       "      <td>24</td>\n",
       "    </tr>\n",
       "    <tr>\n",
       "      <th>7</th>\n",
       "      <td>9</td>\n",
       "      <td>높음</td>\n",
       "      <td>26</td>\n",
       "    </tr>\n",
       "    <tr>\n",
       "      <th>8</th>\n",
       "      <td>11</td>\n",
       "      <td>높음</td>\n",
       "      <td>28</td>\n",
       "    </tr>\n",
       "    <tr>\n",
       "      <th>9</th>\n",
       "      <td>12</td>\n",
       "      <td>낮음</td>\n",
       "      <td>29</td>\n",
       "    </tr>\n",
       "    <tr>\n",
       "      <th>10</th>\n",
       "      <td>13</td>\n",
       "      <td>높음</td>\n",
       "      <td>31</td>\n",
       "    </tr>\n",
       "  </tbody>\n",
       "</table>\n",
       "</div>"
      ],
      "text/plain": [
       "    광고횟수 광고비  매출액\n",
       "0      2  낮음   15\n",
       "1      3  낮음   16\n",
       "2      4  낮음   17\n",
       "3      4  높음   18\n",
       "4      5  높음   20\n",
       "5      6  높음   22\n",
       "6      7  낮음   24\n",
       "7      9  높음   26\n",
       "8     11  높음   28\n",
       "9     12  낮음   29\n",
       "10    13  높음   31"
      ]
     },
     "execution_count": 66,
     "metadata": {},
     "output_type": "execute_result"
    }
   ],
   "source": [
    "import pandas as pd\n",
    "\n",
    "data = {\n",
    "    '광고횟수' : [2, 3, 4, 4, 5, 6, 7, 9, 11, 12, 13],\n",
    "    '광고비' : [\"낮음\", \"낮음\", \"낮음\", \"높음\", \"높음\", \"높음\", \"낮음\", \"높음\", \"높음\", \"낮음\", \"높음\"],\n",
    "    '매출액' : [15, 16, 17, 18, 20, 22, 24, 26, 28, 29, 31]\n",
    "}\n",
    "\n",
    "adv = pd.DataFrame(data)\n",
    "adv"
   ]
  },
  {
   "attachments": {},
   "cell_type": "markdown",
   "metadata": {},
   "source": [
    "### 2-1 광고비 변수를 가변수 처리후 다중회귀를 수행하여 회귀계수가 유의한지 검정\n",
    "\n",
    "H0 : 모든 회귀계수는 0이다.\n",
    "\n",
    "H1 : 모든 회귀계수는 0이 아니다.\n",
    "\n",
    "F 통계량의 값이 221.2이고 p-value 값이 9.96e-08 이므로 귀무가설을 기각. 모든 회귀계수는 0이 아니다."
   ]
  },
  {
   "cell_type": "code",
   "execution_count": 71,
   "metadata": {},
   "outputs": [
    {
     "name": "stdout",
     "output_type": "stream",
     "text": [
      "                            OLS Regression Results                            \n",
      "==============================================================================\n",
      "Dep. Variable:                    매출액   R-squared:                       0.982\n",
      "Model:                            OLS   Adj. R-squared:                  0.978\n",
      "Method:                 Least Squares   F-statistic:                     221.2\n",
      "Date:                Sat, 01 Jul 2023   Prob (F-statistic):           9.96e-08\n",
      "Time:                        15:57:42   Log-Likelihood:                -11.883\n",
      "No. Observations:                  11   AIC:                             29.77\n",
      "Df Residuals:                       8   BIC:                             30.96\n",
      "Df Model:                           2                                         \n",
      "Covariance Type:            nonrobust                                         \n",
      "==============================================================================\n",
      "                 coef    std err          t      P>|t|      [0.025      0.975]\n",
      "------------------------------------------------------------------------------\n",
      "const         12.1641      0.556     21.876      0.000      10.882      13.446\n",
      "광고횟수           1.4350      0.074     19.518      0.000       1.265       1.605\n",
      "광고비            0.5227      0.536      0.975      0.358      -0.713       1.759\n",
      "==============================================================================\n",
      "Omnibus:                        7.665   Durbin-Watson:                   0.919\n",
      "Prob(Omnibus):                  0.022   Jarque-Bera (JB):                3.407\n",
      "Skew:                           1.265   Prob(JB):                        0.182\n",
      "Kurtosis:                       4.015   Cond. No.                         18.9\n",
      "==============================================================================\n",
      "\n",
      "Notes:\n",
      "[1] Standard Errors assume that the covariance matrix of the errors is correctly specified.\n"
     ]
    },
    {
     "name": "stderr",
     "output_type": "stream",
     "text": [
      "/Users/yuseonjong/usr/adp/lib/python3.7/site-packages/scipy/stats/stats.py:1542: UserWarning: kurtosistest only valid for n>=20 ... continuing anyway, n=11\n",
      "  \"anyway, n=%i\" % int(n))\n"
     ]
    }
   ],
   "source": [
    "import statsmodels.api as sm\n",
    "\n",
    "dummy = {a : idx for idx, a in enumerate(adv['광고비'].unique())}\n",
    "adv['광고비'] = adv['광고비'].apply(lambda x: dummy[x])\n",
    "X = sm.add_constant(adv[['광고횟수', '광고비']])\n",
    "Y = adv['매출액']\n",
    "\n",
    "model = sm.OLS(Y, X)\n",
    "fitted = model.fit()\n",
    "\n",
    "print(fitted.summary())"
   ]
  },
  {
   "attachments": {},
   "cell_type": "markdown",
   "metadata": {},
   "source": [
    "### 2-2 회귀식이 유의한지 판단\n",
    "\n",
    "R-squared값과 Adjusted R-squared값이 1에 가깝기 때문에 회귀식이 유의하지만,\n",
    "\n",
    "광고비 변수의 p-value가 0.05보다 높으므로 광고비 변수는 종속변수를 설명하는데 유의하지 않은 변수임을 알 수 있다."
   ]
  },
  {
   "attachments": {},
   "cell_type": "markdown",
   "metadata": {},
   "source": [
    "### 3. A생산라인의 제품 평균은 5.7mm이고 표준편차는 0.03, B생산라인의 제품 평균은 5.6mm이고 표준편차는 0.04라면 5%유의수준으로 두 제품의 평균이 차이가 있는지 여부를 검정하기 Z(0.05) = 1.65"
   ]
  },
  {
   "attachments": {},
   "cell_type": "markdown",
   "metadata": {},
   "source": [
    "### 3-1 귀무가설과 대립가설을 세워라 "
   ]
  },
  {
   "attachments": {},
   "cell_type": "markdown",
   "metadata": {},
   "source": [
    "H0 : 두 제품의 평균의 차이는 0이다.\n",
    "\n",
    "H1 : 두 제품의 평균의 차이는 0이 아니다."
   ]
  },
  {
   "attachments": {},
   "cell_type": "markdown",
   "metadata": {},
   "source": [
    "### 3-2 두 평균이 차이가 있는지 검정하라"
   ]
  },
  {
   "cell_type": "code",
   "execution_count": 86,
   "metadata": {},
   "outputs": [
    {
     "name": "stdout",
     "output_type": "stream",
     "text": [
      "귀무가설 기각, 대립가설 채택\n"
     ]
    }
   ],
   "source": [
    "# 두 제품이 정규분포를 따른다고 가정\n",
    "from scipy.stats import norm\n",
    "\n",
    "m1 = 5.7\n",
    "m2 = 5.6\n",
    "s1 = 0.03\n",
    "s2 = 0.04\n",
    "alpha = 0.05\n",
    "\n",
    "m_diff = m1 - m2\n",
    "e = ((s1**2) + (s2**2))**(1/2)\n",
    "\n",
    "z_statistic = m_diff / e\n",
    "p_value = 2 * (1 - norm.cdf(abs(z_statistic)))\n",
    "\n",
    "if p_value <= alpha:\n",
    "    print('귀무가설 기각, 대립가설 채택')\n",
    "else:\n",
    "    print('귀무가설 채택')"
   ]
  },
  {
   "attachments": {},
   "cell_type": "markdown",
   "metadata": {},
   "source": [
    "### 4. 진단키트 결과 양성이 나왔을 때, 진짜 그 병에 걸렸을 확률은? 베이즈 정리를 사용하여 계산하라. (유병율 = 0.01)\n",
    "\n",
    "![](https://github.com/Ssunbell/ADP_study/blob/main/7주차_0625/data/problem4.png?raw=true)"
   ]
  },
  {
   "cell_type": "code",
   "execution_count": 117,
   "metadata": {},
   "outputs": [
    {
     "name": "stdout",
     "output_type": "stream",
     "text": [
      "2.78%\n"
     ]
    }
   ],
   "source": [
    "# 베이즈 정리\n",
    "# P(실제 양성 | 테스트 양성) = P(테스트 양성 | 실제 양성) * P(실제 양성) / P(테스트 양성)\n",
    "\n",
    "p = {\n",
    "    'n11' : 370,\n",
    "    'n10' : 10,\n",
    "    'n01' : 15,\n",
    "    'n00' : 690\n",
    "}\n",
    "true = 0.01\n",
    "pred = (p['n11'] + p['n10']) / (p['n11'] + p['n10'] + p['n01'] + p['n00'])\n",
    "prob = ((p['n11'] / (p['n11'] + p['n10'])) * true) / pred\n",
    "print(f'{round(prob * 100,2)}%')"
   ]
  },
  {
   "attachments": {},
   "cell_type": "markdown",
   "metadata": {},
   "source": [
    "### 5 주어진 데이터에서 신뢰구간을 구하려한다\n",
    "정규분포에서 표폰을 추출함[Z(0.05) = -1.65 , Z(0.025) = -1.96, T(0.05, 8) = 1.860 , T0.025(0.025, 8) = 2.306]"
   ]
  },
  {
   "cell_type": "code",
   "execution_count": 89,
   "metadata": {},
   "outputs": [],
   "source": [
    "data = [3.1, 3.3, 3.5, 3.7, 3.9, 4.1, 4.3, 4.4, 4.7]"
   ]
  },
  {
   "attachments": {},
   "cell_type": "markdown",
   "metadata": {},
   "source": [
    "### 5-1 모분산을 모르는 경우 주어진 데이터의 95% 신뢰구간을 구하라\n",
    "\n",
    "모분산을 모르는 경우 t-검정을 통해 신뢰구간을 구한다."
   ]
  },
  {
   "cell_type": "code",
   "execution_count": 110,
   "metadata": {},
   "outputs": [
    {
     "name": "stdout",
     "output_type": "stream",
     "text": [
      "신뢰수준 0.95\n",
      "Confidence Interval: (3.4777, 4.3)\n",
      "신뢰수준 0.9\n",
      "Confidence Interval: (3.5573, 4.2205)\n"
     ]
    }
   ],
   "source": [
    "import scipy\n",
    "\n",
    "def confidence_interval(critical_value, m, s, n):\n",
    "    margin_of_error = critical_value * (s / (n**(1/2)))\n",
    "    confidence_interval = (round(m - margin_of_error,4), round(m + margin_of_error,4))\n",
    "\n",
    "    print(\"Confidence Interval:\", confidence_interval)\n",
    "\n",
    "n = len(data)\n",
    "\n",
    "m = sum(data) / n\n",
    "s = (sum([(x-m)**2 for x in data])/(n-1))**(1/2)\n",
    "\n",
    "# t-분포의 임계값\n",
    "# 1. 신뢰수준이 0.95일 경우\n",
    "t_critical = 2.306\n",
    "print('신뢰수준 0.95')\n",
    "confidence_interval(t_critical, m, s, n)\n",
    "\n",
    "# 2. 신뢰수준이 0.9일 경우\n",
    "t_critical = 1.860\n",
    "print('신뢰수준 0.9')\n",
    "confidence_interval(t_critical, m, s, n)\n",
    "\n"
   ]
  },
  {
   "attachments": {},
   "cell_type": "markdown",
   "metadata": {},
   "source": [
    "### 5.2 sigma = 0.04인걸 알고있을때의 95% 신뢰구간을 구하라 "
   ]
  },
  {
   "cell_type": "code",
   "execution_count": 111,
   "metadata": {},
   "outputs": [
    {
     "name": "stdout",
     "output_type": "stream",
     "text": [
      "신뢰수준 0.95\n",
      "Confidence Interval: (3.8628, 3.915)\n",
      "신뢰수준 0.9\n",
      "Confidence Interval: (3.8669, 3.9109)\n"
     ]
    }
   ],
   "source": [
    "import scipy\n",
    "\n",
    "n = len(data)\n",
    "\n",
    "m = sum(data) / n\n",
    "s = 0.04\n",
    "\n",
    "# z-분포의 임계값\n",
    "# 1. 신뢰수준이 0.95일 경우\n",
    "z_critical = 1.96\n",
    "print('신뢰수준 0.95')\n",
    "confidence_interval(z_critical, m, s, n)\n",
    "\n",
    "# 2. 신뢰수준이 0.9일 경우\n",
    "z_critical = 1.65\n",
    "print('신뢰수준 0.9')\n",
    "confidence_interval(z_critical, m, s, n)"
   ]
  }
 ],
 "metadata": {
  "kernelspec": {
   "display_name": "adp",
   "language": "python",
   "name": "python3"
  },
  "language_info": {
   "codemirror_mode": {
    "name": "ipython",
    "version": 3
   },
   "file_extension": ".py",
   "mimetype": "text/x-python",
   "name": "python",
   "nbconvert_exporter": "python",
   "pygments_lexer": "ipython3",
   "version": "3.7.9"
  },
  "orig_nbformat": 4
 },
 "nbformat": 4,
 "nbformat_minor": 2
}
