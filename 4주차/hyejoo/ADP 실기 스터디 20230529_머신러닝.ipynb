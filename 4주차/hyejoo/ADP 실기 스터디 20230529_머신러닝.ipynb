{
 "cells": [
  {
   "cell_type": "code",
   "execution_count": 1,
   "id": "d1d1c993",
   "metadata": {},
   "outputs": [],
   "source": [
    "# 기본 설정\n",
    "import numpy as np\n",
    "import pandas as pd\n",
    "import matplotlib.pyplot as plt\n",
    "import seaborn as sns\n",
    "import os\n",
    "import sklearn as sk\n",
    "import statsmodels.api as sm\n",
    "import scipy\n",
    "import pickle"
   ]
  },
  {
   "cell_type": "code",
   "execution_count": 2,
   "id": "d48df155",
   "metadata": {},
   "outputs": [],
   "source": [
    "# matplotlib 사용 시 한글 깨짐 문제 해결\n",
    "from matplotlib import font_manager, rc\n",
    "\n",
    "font_path = \"C:/Windows/Fonts/NGULIM.ttf\"\n",
    "font = font_manager.FontProperties(fname = font_path).get_name()\n",
    "rc('font', family = font)"
   ]
  },
  {
   "cell_type": "code",
   "execution_count": 3,
   "id": "613be804",
   "metadata": {},
   "outputs": [],
   "source": [
    "# 경고 메시지 비활성화\n",
    "import warnings\n",
    "\n",
    "warnings.filterwarnings(\"ignore\")"
   ]
  },
  {
   "cell_type": "code",
   "execution_count": 4,
   "id": "83ce4a0d",
   "metadata": {},
   "outputs": [
    {
     "name": "stdout",
     "output_type": "stream",
     "text": [
      "C:\\Users\\lsc\\Desktop\\ADP\\ADP_study\\4주차\\hyejoo\n"
     ]
    }
   ],
   "source": [
    "# 경로 확인\n",
    "path = os.getcwd()\n",
    "print(path)"
   ]
  },
  {
   "cell_type": "markdown",
   "id": "4faec26f",
   "metadata": {},
   "source": [
    "# Part 1. 머신러닝"
   ]
  },
  {
   "cell_type": "markdown",
   "id": "831b4600",
   "metadata": {},
   "source": [
    "## (1) 데이터 탐색"
   ]
  },
  {
   "cell_type": "code",
   "execution_count": 5,
   "id": "bf091fa1",
   "metadata": {},
   "outputs": [],
   "source": [
    "df = pd.read_csv(\"https://raw.githubusercontent.com/ADPclass/ADP_book_ver01/main/data/hotel_bookings.csv\", engine = 'python')"
   ]
  },
  {
   "cell_type": "code",
   "execution_count": 6,
   "id": "bad8a292",
   "metadata": {},
   "outputs": [
    {
     "data": {
      "text/html": [
       "<div>\n",
       "<style scoped>\n",
       "    .dataframe tbody tr th:only-of-type {\n",
       "        vertical-align: middle;\n",
       "    }\n",
       "\n",
       "    .dataframe tbody tr th {\n",
       "        vertical-align: top;\n",
       "    }\n",
       "\n",
       "    .dataframe thead th {\n",
       "        text-align: right;\n",
       "    }\n",
       "</style>\n",
       "<table border=\"1\" class=\"dataframe\">\n",
       "  <thead>\n",
       "    <tr style=\"text-align: right;\">\n",
       "      <th></th>\n",
       "      <th>is_canceled</th>\n",
       "      <th>deposit_type</th>\n",
       "      <th>lead_time</th>\n",
       "      <th>stays_in_weekend_nights</th>\n",
       "      <th>stays_in_week_nights</th>\n",
       "      <th>is_repeated_guest</th>\n",
       "      <th>previous_cancellations</th>\n",
       "      <th>previous_bookings_not_canceled</th>\n",
       "      <th>booking_changes</th>\n",
       "      <th>days_in_waiting_list</th>\n",
       "      <th>adr</th>\n",
       "    </tr>\n",
       "  </thead>\n",
       "  <tbody>\n",
       "    <tr>\n",
       "      <th>0</th>\n",
       "      <td>0</td>\n",
       "      <td>No Deposit</td>\n",
       "      <td>105.0</td>\n",
       "      <td>2</td>\n",
       "      <td>5</td>\n",
       "      <td>NaN</td>\n",
       "      <td>0</td>\n",
       "      <td>0</td>\n",
       "      <td>1</td>\n",
       "      <td>0</td>\n",
       "      <td>131.50</td>\n",
       "    </tr>\n",
       "    <tr>\n",
       "      <th>1</th>\n",
       "      <td>0</td>\n",
       "      <td>No Deposit</td>\n",
       "      <td>303.0</td>\n",
       "      <td>2</td>\n",
       "      <td>2</td>\n",
       "      <td>NaN</td>\n",
       "      <td>0</td>\n",
       "      <td>0</td>\n",
       "      <td>0</td>\n",
       "      <td>0</td>\n",
       "      <td>73.95</td>\n",
       "    </tr>\n",
       "    <tr>\n",
       "      <th>2</th>\n",
       "      <td>0</td>\n",
       "      <td>No Deposit</td>\n",
       "      <td>33.0</td>\n",
       "      <td>2</td>\n",
       "      <td>3</td>\n",
       "      <td>0.0</td>\n",
       "      <td>0</td>\n",
       "      <td>0</td>\n",
       "      <td>0</td>\n",
       "      <td>0</td>\n",
       "      <td>NaN</td>\n",
       "    </tr>\n",
       "    <tr>\n",
       "      <th>3</th>\n",
       "      <td>0</td>\n",
       "      <td>No Deposit</td>\n",
       "      <td>48.0</td>\n",
       "      <td>0</td>\n",
       "      <td>1</td>\n",
       "      <td>0.0</td>\n",
       "      <td>0</td>\n",
       "      <td>0</td>\n",
       "      <td>1</td>\n",
       "      <td>0</td>\n",
       "      <td>80.30</td>\n",
       "    </tr>\n",
       "    <tr>\n",
       "      <th>4</th>\n",
       "      <td>0</td>\n",
       "      <td>No Deposit</td>\n",
       "      <td>216.0</td>\n",
       "      <td>4</td>\n",
       "      <td>7</td>\n",
       "      <td>0.0</td>\n",
       "      <td>0</td>\n",
       "      <td>0</td>\n",
       "      <td>2</td>\n",
       "      <td>0</td>\n",
       "      <td>60.90</td>\n",
       "    </tr>\n",
       "    <tr>\n",
       "      <th>5</th>\n",
       "      <td>0</td>\n",
       "      <td>No Deposit</td>\n",
       "      <td>116.0</td>\n",
       "      <td>2</td>\n",
       "      <td>4</td>\n",
       "      <td>0.0</td>\n",
       "      <td>0</td>\n",
       "      <td>0</td>\n",
       "      <td>0</td>\n",
       "      <td>0</td>\n",
       "      <td>88.40</td>\n",
       "    </tr>\n",
       "    <tr>\n",
       "      <th>6</th>\n",
       "      <td>0</td>\n",
       "      <td>No Deposit</td>\n",
       "      <td>41.0</td>\n",
       "      <td>1</td>\n",
       "      <td>2</td>\n",
       "      <td>0.0</td>\n",
       "      <td>0</td>\n",
       "      <td>0</td>\n",
       "      <td>0</td>\n",
       "      <td>0</td>\n",
       "      <td>105.90</td>\n",
       "    </tr>\n",
       "    <tr>\n",
       "      <th>7</th>\n",
       "      <td>0</td>\n",
       "      <td>No Deposit</td>\n",
       "      <td>219.0</td>\n",
       "      <td>1</td>\n",
       "      <td>2</td>\n",
       "      <td>NaN</td>\n",
       "      <td>0</td>\n",
       "      <td>0</td>\n",
       "      <td>0</td>\n",
       "      <td>0</td>\n",
       "      <td>76.67</td>\n",
       "    </tr>\n",
       "    <tr>\n",
       "      <th>8</th>\n",
       "      <td>0</td>\n",
       "      <td>No Deposit</td>\n",
       "      <td>55.0</td>\n",
       "      <td>0</td>\n",
       "      <td>2</td>\n",
       "      <td>0.0</td>\n",
       "      <td>0</td>\n",
       "      <td>0</td>\n",
       "      <td>1</td>\n",
       "      <td>0</td>\n",
       "      <td>84.00</td>\n",
       "    </tr>\n",
       "    <tr>\n",
       "      <th>9</th>\n",
       "      <td>0</td>\n",
       "      <td>No Deposit</td>\n",
       "      <td>20.0</td>\n",
       "      <td>2</td>\n",
       "      <td>5</td>\n",
       "      <td>0.0</td>\n",
       "      <td>0</td>\n",
       "      <td>0</td>\n",
       "      <td>0</td>\n",
       "      <td>0</td>\n",
       "      <td>42.00</td>\n",
       "    </tr>\n",
       "  </tbody>\n",
       "</table>\n",
       "</div>"
      ],
      "text/plain": [
       "   is_canceled deposit_type  lead_time  stays_in_weekend_nights  \\\n",
       "0            0   No Deposit      105.0                        2   \n",
       "1            0   No Deposit      303.0                        2   \n",
       "2            0   No Deposit       33.0                        2   \n",
       "3            0   No Deposit       48.0                        0   \n",
       "4            0   No Deposit      216.0                        4   \n",
       "5            0   No Deposit      116.0                        2   \n",
       "6            0   No Deposit       41.0                        1   \n",
       "7            0   No Deposit      219.0                        1   \n",
       "8            0   No Deposit       55.0                        0   \n",
       "9            0   No Deposit       20.0                        2   \n",
       "\n",
       "   stays_in_week_nights  is_repeated_guest  previous_cancellations  \\\n",
       "0                     5                NaN                       0   \n",
       "1                     2                NaN                       0   \n",
       "2                     3                0.0                       0   \n",
       "3                     1                0.0                       0   \n",
       "4                     7                0.0                       0   \n",
       "5                     4                0.0                       0   \n",
       "6                     2                0.0                       0   \n",
       "7                     2                NaN                       0   \n",
       "8                     2                0.0                       0   \n",
       "9                     5                0.0                       0   \n",
       "\n",
       "   previous_bookings_not_canceled  booking_changes  days_in_waiting_list  \\\n",
       "0                               0                1                     0   \n",
       "1                               0                0                     0   \n",
       "2                               0                0                     0   \n",
       "3                               0                1                     0   \n",
       "4                               0                2                     0   \n",
       "5                               0                0                     0   \n",
       "6                               0                0                     0   \n",
       "7                               0                0                     0   \n",
       "8                               0                1                     0   \n",
       "9                               0                0                     0   \n",
       "\n",
       "      adr  \n",
       "0  131.50  \n",
       "1   73.95  \n",
       "2     NaN  \n",
       "3   80.30  \n",
       "4   60.90  \n",
       "5   88.40  \n",
       "6  105.90  \n",
       "7   76.67  \n",
       "8   84.00  \n",
       "9   42.00  "
      ]
     },
     "execution_count": 6,
     "metadata": {},
     "output_type": "execute_result"
    }
   ],
   "source": [
    "df.head(10)"
   ]
  },
  {
   "cell_type": "code",
   "execution_count": 7,
   "id": "8f3aa1db",
   "metadata": {},
   "outputs": [
    {
     "name": "stdout",
     "output_type": "stream",
     "text": [
      "<class 'pandas.core.frame.DataFrame'>\n",
      "RangeIndex: 20000 entries, 0 to 19999\n",
      "Data columns (total 11 columns):\n",
      " #   Column                          Non-Null Count  Dtype  \n",
      "---  ------                          --------------  -----  \n",
      " 0   is_canceled                     20000 non-null  int64  \n",
      " 1   deposit_type                    20000 non-null  object \n",
      " 2   lead_time                       19995 non-null  float64\n",
      " 3   stays_in_weekend_nights         20000 non-null  int64  \n",
      " 4   stays_in_week_nights            20000 non-null  int64  \n",
      " 5   is_repeated_guest               19642 non-null  float64\n",
      " 6   previous_cancellations          20000 non-null  int64  \n",
      " 7   previous_bookings_not_canceled  20000 non-null  int64  \n",
      " 8   booking_changes                 20000 non-null  int64  \n",
      " 9   days_in_waiting_list            20000 non-null  int64  \n",
      " 10  adr                             18937 non-null  float64\n",
      "dtypes: float64(3), int64(7), object(1)\n",
      "memory usage: 1.7+ MB\n"
     ]
    }
   ],
   "source": [
    "df.info()"
   ]
  },
  {
   "cell_type": "markdown",
   "id": "3c8aa853",
   "metadata": {},
   "source": [
    "1) 전체 데이터 수 : 20,000개  \n",
    "2) 전체 feature의 수 : 11개\n",
    " - 종속변수 y : 'is_canceled'(취소 여부)로 추정됨. (범주형 변수)  \n",
    "3) 결측치 수  \n",
    " - lead_time 5개  \n",
    " - is_repeated_guest 358개\n",
    " - adr 1,063개  \n",
    "4) 데이터 타입  \n",
    " - int(정수형), float(실수형), object(객체 / 모든 종류의 데이터)"
   ]
  },
  {
   "cell_type": "code",
   "execution_count": 8,
   "id": "7883683a",
   "metadata": {},
   "outputs": [
    {
     "data": {
      "text/html": [
       "<div>\n",
       "<style scoped>\n",
       "    .dataframe tbody tr th:only-of-type {\n",
       "        vertical-align: middle;\n",
       "    }\n",
       "\n",
       "    .dataframe tbody tr th {\n",
       "        vertical-align: top;\n",
       "    }\n",
       "\n",
       "    .dataframe thead th {\n",
       "        text-align: right;\n",
       "    }\n",
       "</style>\n",
       "<table border=\"1\" class=\"dataframe\">\n",
       "  <thead>\n",
       "    <tr style=\"text-align: right;\">\n",
       "      <th></th>\n",
       "      <th>is_canceled</th>\n",
       "      <th>lead_time</th>\n",
       "      <th>stays_in_weekend_nights</th>\n",
       "      <th>stays_in_week_nights</th>\n",
       "      <th>is_repeated_guest</th>\n",
       "      <th>previous_cancellations</th>\n",
       "      <th>previous_bookings_not_canceled</th>\n",
       "      <th>booking_changes</th>\n",
       "      <th>days_in_waiting_list</th>\n",
       "      <th>adr</th>\n",
       "    </tr>\n",
       "  </thead>\n",
       "  <tbody>\n",
       "    <tr>\n",
       "      <th>count</th>\n",
       "      <td>20000.000</td>\n",
       "      <td>19995.000</td>\n",
       "      <td>20000.000</td>\n",
       "      <td>20000.000</td>\n",
       "      <td>19642.000</td>\n",
       "      <td>20000.000</td>\n",
       "      <td>20000.000</td>\n",
       "      <td>20000.000</td>\n",
       "      <td>20000.000</td>\n",
       "      <td>18937.000</td>\n",
       "    </tr>\n",
       "    <tr>\n",
       "      <th>mean</th>\n",
       "      <td>0.120</td>\n",
       "      <td>85.978</td>\n",
       "      <td>0.893</td>\n",
       "      <td>2.380</td>\n",
       "      <td>0.038</td>\n",
       "      <td>0.033</td>\n",
       "      <td>0.169</td>\n",
       "      <td>0.269</td>\n",
       "      <td>1.984</td>\n",
       "      <td>101.410</td>\n",
       "    </tr>\n",
       "    <tr>\n",
       "      <th>std</th>\n",
       "      <td>0.325</td>\n",
       "      <td>96.427</td>\n",
       "      <td>0.952</td>\n",
       "      <td>1.777</td>\n",
       "      <td>0.192</td>\n",
       "      <td>0.456</td>\n",
       "      <td>1.502</td>\n",
       "      <td>0.688</td>\n",
       "      <td>15.927</td>\n",
       "      <td>49.245</td>\n",
       "    </tr>\n",
       "    <tr>\n",
       "      <th>min</th>\n",
       "      <td>0.000</td>\n",
       "      <td>0.000</td>\n",
       "      <td>0.000</td>\n",
       "      <td>0.000</td>\n",
       "      <td>0.000</td>\n",
       "      <td>0.000</td>\n",
       "      <td>0.000</td>\n",
       "      <td>0.000</td>\n",
       "      <td>0.000</td>\n",
       "      <td>-6.380</td>\n",
       "    </tr>\n",
       "    <tr>\n",
       "      <th>25%</th>\n",
       "      <td>0.000</td>\n",
       "      <td>11.000</td>\n",
       "      <td>0.000</td>\n",
       "      <td>1.000</td>\n",
       "      <td>0.000</td>\n",
       "      <td>0.000</td>\n",
       "      <td>0.000</td>\n",
       "      <td>0.000</td>\n",
       "      <td>0.000</td>\n",
       "      <td>68.800</td>\n",
       "    </tr>\n",
       "    <tr>\n",
       "      <th>50%</th>\n",
       "      <td>0.000</td>\n",
       "      <td>51.000</td>\n",
       "      <td>1.000</td>\n",
       "      <td>2.000</td>\n",
       "      <td>0.000</td>\n",
       "      <td>0.000</td>\n",
       "      <td>0.000</td>\n",
       "      <td>0.000</td>\n",
       "      <td>0.000</td>\n",
       "      <td>94.500</td>\n",
       "    </tr>\n",
       "    <tr>\n",
       "      <th>75%</th>\n",
       "      <td>0.000</td>\n",
       "      <td>132.000</td>\n",
       "      <td>2.000</td>\n",
       "      <td>3.000</td>\n",
       "      <td>0.000</td>\n",
       "      <td>0.000</td>\n",
       "      <td>0.000</td>\n",
       "      <td>0.000</td>\n",
       "      <td>0.000</td>\n",
       "      <td>126.000</td>\n",
       "    </tr>\n",
       "    <tr>\n",
       "      <th>max</th>\n",
       "      <td>1.000</td>\n",
       "      <td>629.000</td>\n",
       "      <td>13.000</td>\n",
       "      <td>30.000</td>\n",
       "      <td>1.000</td>\n",
       "      <td>26.000</td>\n",
       "      <td>66.000</td>\n",
       "      <td>17.000</td>\n",
       "      <td>379.000</td>\n",
       "      <td>451.500</td>\n",
       "    </tr>\n",
       "  </tbody>\n",
       "</table>\n",
       "</div>"
      ],
      "text/plain": [
       "       is_canceled  lead_time  stays_in_weekend_nights  stays_in_week_nights  \\\n",
       "count    20000.000  19995.000                20000.000             20000.000   \n",
       "mean         0.120     85.978                    0.893                 2.380   \n",
       "std          0.325     96.427                    0.952                 1.777   \n",
       "min          0.000      0.000                    0.000                 0.000   \n",
       "25%          0.000     11.000                    0.000                 1.000   \n",
       "50%          0.000     51.000                    1.000                 2.000   \n",
       "75%          0.000    132.000                    2.000                 3.000   \n",
       "max          1.000    629.000                   13.000                30.000   \n",
       "\n",
       "       is_repeated_guest  previous_cancellations  \\\n",
       "count          19642.000               20000.000   \n",
       "mean               0.038                   0.033   \n",
       "std                0.192                   0.456   \n",
       "min                0.000                   0.000   \n",
       "25%                0.000                   0.000   \n",
       "50%                0.000                   0.000   \n",
       "75%                0.000                   0.000   \n",
       "max                1.000                  26.000   \n",
       "\n",
       "       previous_bookings_not_canceled  booking_changes  days_in_waiting_list  \\\n",
       "count                       20000.000        20000.000             20000.000   \n",
       "mean                            0.169            0.269                 1.984   \n",
       "std                             1.502            0.688                15.927   \n",
       "min                             0.000            0.000                 0.000   \n",
       "25%                             0.000            0.000                 0.000   \n",
       "50%                             0.000            0.000                 0.000   \n",
       "75%                             0.000            0.000                 0.000   \n",
       "max                            66.000           17.000               379.000   \n",
       "\n",
       "             adr  \n",
       "count  18937.000  \n",
       "mean     101.410  \n",
       "std       49.245  \n",
       "min       -6.380  \n",
       "25%       68.800  \n",
       "50%       94.500  \n",
       "75%      126.000  \n",
       "max      451.500  "
      ]
     },
     "execution_count": 8,
     "metadata": {},
     "output_type": "execute_result"
    }
   ],
   "source": [
    "round(df.describe(), 3)"
   ]
  },
  {
   "cell_type": "code",
   "execution_count": 9,
   "id": "ce95e2d7",
   "metadata": {},
   "outputs": [
    {
     "data": {
      "text/plain": [
       "0    17600\n",
       "1     2400\n",
       "Name: is_canceled, dtype: int64"
      ]
     },
     "execution_count": 9,
     "metadata": {},
     "output_type": "execute_result"
    }
   ],
   "source": [
    "# 종속변수인 'is_canceled'는 범주형 변수이므로, Category형으로 변경하고 진행한다.\n",
    "# df['is_canceled'] = df['is_canceled'].astype('category')\n",
    "\n",
    "df['is_canceled'].value_counts()"
   ]
  },
  {
   "cell_type": "markdown",
   "id": "874614c4",
   "metadata": {},
   "source": [
    "Imbalanced Data이다.  \n",
    "추후 Oversampling이나 Undersampling이 필요할 것으로 보이는데,  \n",
    "데이터의 양을 보면 Oversampling을 하는 것이 ML 모델 학습에 더 유리할 것으로 추정된다."
   ]
  },
  {
   "cell_type": "code",
   "execution_count": 10,
   "id": "793d28db",
   "metadata": {},
   "outputs": [
    {
     "data": {
      "text/plain": [
       "array(['No Deposit', 'Refundable', 'Non Refund'], dtype=object)"
      ]
     },
     "execution_count": 10,
     "metadata": {},
     "output_type": "execute_result"
    }
   ],
   "source": [
    "df['deposit_type'].unique()"
   ]
  },
  {
   "cell_type": "code",
   "execution_count": 11,
   "id": "241f8e44",
   "metadata": {},
   "outputs": [],
   "source": [
    "# 'deposit_type', 'is_repeated_guest'도 범주형이다. 데이터를 간소화하기 위하여 다음과 같이 처리한다.\n",
    "def set_category(x) :\n",
    "    if x == df['deposit_type'].unique()[0] : \n",
    "        return 0\n",
    "    elif x == df['deposit_type'].unique()[1] : \n",
    "        return 1\n",
    "    else : \n",
    "        return 2\n",
    "        \n",
    "df['deposit_type'] = df['deposit_type'].apply(lambda x : set_category(x))\n",
    "    # 사용자 정의 함수로 mapping하는 과정에서, unique()를 각 try마다 진행하기 때문에\n",
    "    # 실행시간이 지연되는 것 같다. Pipeline 구축이 아닌 이상 그냥 값을 구해서 함수에 직접 넣어야겠다.\n",
    "\n",
    "# df['deposit_type'] = df['deposit_type'].astype('category')\n",
    "# df['is_repeated_guest'] = df['is_repeated_guest'].astype('category')"
   ]
  },
  {
   "cell_type": "code",
   "execution_count": 12,
   "id": "53d42176",
   "metadata": {},
   "outputs": [
    {
     "name": "stdout",
     "output_type": "stream",
     "text": [
      "0.9569\n",
      "0.94465\n"
     ]
    },
    {
     "data": {
      "text/plain": [
       "0    19138\n",
       "2      834\n",
       "1       28\n",
       "Name: deposit_type, dtype: int64"
      ]
     },
     "execution_count": 12,
     "metadata": {},
     "output_type": "execute_result"
    }
   ],
   "source": [
    "# 대부분(약 95.7%) 보증금이 없다고 한다.\n",
    "# 그리고 대부분(약 94.5%) 최초 방문객이라 한다.\n",
    "print(df['deposit_type'].value_counts().max() / len(df))\n",
    "print(df['is_repeated_guest'].value_counts().max() / len(df))\n",
    "\n",
    "df['deposit_type'].value_counts()"
   ]
  },
  {
   "cell_type": "code",
   "execution_count": 13,
   "id": "8ab27f42",
   "metadata": {},
   "outputs": [
    {
     "data": {
      "text/plain": [
       "0.0    18893\n",
       "1.0      749\n",
       "Name: is_repeated_guest, dtype: int64"
      ]
     },
     "execution_count": 13,
     "metadata": {},
     "output_type": "execute_result"
    }
   ],
   "source": [
    "df['is_repeated_guest'].value_counts()"
   ]
  },
  {
   "cell_type": "code",
   "execution_count": 14,
   "id": "83495a77",
   "metadata": {},
   "outputs": [],
   "source": [
    "# 사실 'deposit_type' 변수는 총 범주의 수가 3개이기 때문에, One-hot Encoding으로 처리하여도 Sparsity 문제는 크지 않을 것 같다.\n",
    "# 1) pd.get_dummies / 2) sklearn.preprocessing의 OneHotEncoder 등 존재 (방법이 더 있다고 함.)"
   ]
  },
  {
   "cell_type": "code",
   "execution_count": 15,
   "id": "91780365",
   "metadata": {},
   "outputs": [
    {
     "data": {
      "text/html": [
       "<div>\n",
       "<style scoped>\n",
       "    .dataframe tbody tr th:only-of-type {\n",
       "        vertical-align: middle;\n",
       "    }\n",
       "\n",
       "    .dataframe tbody tr th {\n",
       "        vertical-align: top;\n",
       "    }\n",
       "\n",
       "    .dataframe thead th {\n",
       "        text-align: right;\n",
       "    }\n",
       "</style>\n",
       "<table border=\"1\" class=\"dataframe\">\n",
       "  <thead>\n",
       "    <tr style=\"text-align: right;\">\n",
       "      <th></th>\n",
       "      <th>is_canceled</th>\n",
       "      <th>deposit_type</th>\n",
       "      <th>lead_time</th>\n",
       "      <th>stays_in_weekend_nights</th>\n",
       "      <th>stays_in_week_nights</th>\n",
       "      <th>is_repeated_guest</th>\n",
       "      <th>previous_cancellations</th>\n",
       "      <th>previous_bookings_not_canceled</th>\n",
       "      <th>booking_changes</th>\n",
       "      <th>days_in_waiting_list</th>\n",
       "      <th>adr</th>\n",
       "    </tr>\n",
       "  </thead>\n",
       "  <tbody>\n",
       "    <tr>\n",
       "      <th>is_canceled</th>\n",
       "      <td>1.000</td>\n",
       "      <td>0.546</td>\n",
       "      <td>0.212</td>\n",
       "      <td>NaN</td>\n",
       "      <td>NaN</td>\n",
       "      <td>NaN</td>\n",
       "      <td>NaN</td>\n",
       "      <td>NaN</td>\n",
       "      <td>NaN</td>\n",
       "      <td>NaN</td>\n",
       "      <td>NaN</td>\n",
       "    </tr>\n",
       "    <tr>\n",
       "      <th>deposit_type</th>\n",
       "      <td>0.546</td>\n",
       "      <td>1.000</td>\n",
       "      <td>0.260</td>\n",
       "      <td>NaN</td>\n",
       "      <td>NaN</td>\n",
       "      <td>NaN</td>\n",
       "      <td>NaN</td>\n",
       "      <td>NaN</td>\n",
       "      <td>NaN</td>\n",
       "      <td>NaN</td>\n",
       "      <td>NaN</td>\n",
       "    </tr>\n",
       "    <tr>\n",
       "      <th>lead_time</th>\n",
       "      <td>0.212</td>\n",
       "      <td>0.260</td>\n",
       "      <td>1.000</td>\n",
       "      <td>NaN</td>\n",
       "      <td>0.227</td>\n",
       "      <td>NaN</td>\n",
       "      <td>NaN</td>\n",
       "      <td>NaN</td>\n",
       "      <td>NaN</td>\n",
       "      <td>NaN</td>\n",
       "      <td>NaN</td>\n",
       "    </tr>\n",
       "    <tr>\n",
       "      <th>stays_in_weekend_nights</th>\n",
       "      <td>NaN</td>\n",
       "      <td>NaN</td>\n",
       "      <td>NaN</td>\n",
       "      <td>1.000</td>\n",
       "      <td>0.441</td>\n",
       "      <td>NaN</td>\n",
       "      <td>NaN</td>\n",
       "      <td>NaN</td>\n",
       "      <td>NaN</td>\n",
       "      <td>NaN</td>\n",
       "      <td>NaN</td>\n",
       "    </tr>\n",
       "    <tr>\n",
       "      <th>stays_in_week_nights</th>\n",
       "      <td>NaN</td>\n",
       "      <td>NaN</td>\n",
       "      <td>0.227</td>\n",
       "      <td>0.441</td>\n",
       "      <td>1.000</td>\n",
       "      <td>NaN</td>\n",
       "      <td>NaN</td>\n",
       "      <td>NaN</td>\n",
       "      <td>NaN</td>\n",
       "      <td>NaN</td>\n",
       "      <td>NaN</td>\n",
       "    </tr>\n",
       "    <tr>\n",
       "      <th>is_repeated_guest</th>\n",
       "      <td>NaN</td>\n",
       "      <td>NaN</td>\n",
       "      <td>NaN</td>\n",
       "      <td>NaN</td>\n",
       "      <td>NaN</td>\n",
       "      <td>1.000</td>\n",
       "      <td>NaN</td>\n",
       "      <td>0.467</td>\n",
       "      <td>NaN</td>\n",
       "      <td>NaN</td>\n",
       "      <td>NaN</td>\n",
       "    </tr>\n",
       "    <tr>\n",
       "      <th>previous_cancellations</th>\n",
       "      <td>NaN</td>\n",
       "      <td>NaN</td>\n",
       "      <td>NaN</td>\n",
       "      <td>NaN</td>\n",
       "      <td>NaN</td>\n",
       "      <td>NaN</td>\n",
       "      <td>1.000</td>\n",
       "      <td>0.229</td>\n",
       "      <td>NaN</td>\n",
       "      <td>NaN</td>\n",
       "      <td>NaN</td>\n",
       "    </tr>\n",
       "    <tr>\n",
       "      <th>previous_bookings_not_canceled</th>\n",
       "      <td>NaN</td>\n",
       "      <td>NaN</td>\n",
       "      <td>NaN</td>\n",
       "      <td>NaN</td>\n",
       "      <td>NaN</td>\n",
       "      <td>0.467</td>\n",
       "      <td>0.229</td>\n",
       "      <td>1.000</td>\n",
       "      <td>NaN</td>\n",
       "      <td>NaN</td>\n",
       "      <td>NaN</td>\n",
       "    </tr>\n",
       "    <tr>\n",
       "      <th>booking_changes</th>\n",
       "      <td>NaN</td>\n",
       "      <td>NaN</td>\n",
       "      <td>NaN</td>\n",
       "      <td>NaN</td>\n",
       "      <td>NaN</td>\n",
       "      <td>NaN</td>\n",
       "      <td>NaN</td>\n",
       "      <td>NaN</td>\n",
       "      <td>1.0</td>\n",
       "      <td>NaN</td>\n",
       "      <td>NaN</td>\n",
       "    </tr>\n",
       "    <tr>\n",
       "      <th>days_in_waiting_list</th>\n",
       "      <td>NaN</td>\n",
       "      <td>NaN</td>\n",
       "      <td>NaN</td>\n",
       "      <td>NaN</td>\n",
       "      <td>NaN</td>\n",
       "      <td>NaN</td>\n",
       "      <td>NaN</td>\n",
       "      <td>NaN</td>\n",
       "      <td>NaN</td>\n",
       "      <td>1.0</td>\n",
       "      <td>NaN</td>\n",
       "    </tr>\n",
       "    <tr>\n",
       "      <th>adr</th>\n",
       "      <td>NaN</td>\n",
       "      <td>NaN</td>\n",
       "      <td>NaN</td>\n",
       "      <td>NaN</td>\n",
       "      <td>NaN</td>\n",
       "      <td>NaN</td>\n",
       "      <td>NaN</td>\n",
       "      <td>NaN</td>\n",
       "      <td>NaN</td>\n",
       "      <td>NaN</td>\n",
       "      <td>1.0</td>\n",
       "    </tr>\n",
       "  </tbody>\n",
       "</table>\n",
       "</div>"
      ],
      "text/plain": [
       "                                is_canceled  deposit_type  lead_time  \\\n",
       "is_canceled                           1.000         0.546      0.212   \n",
       "deposit_type                          0.546         1.000      0.260   \n",
       "lead_time                             0.212         0.260      1.000   \n",
       "stays_in_weekend_nights                 NaN           NaN        NaN   \n",
       "stays_in_week_nights                    NaN           NaN      0.227   \n",
       "is_repeated_guest                       NaN           NaN        NaN   \n",
       "previous_cancellations                  NaN           NaN        NaN   \n",
       "previous_bookings_not_canceled          NaN           NaN        NaN   \n",
       "booking_changes                         NaN           NaN        NaN   \n",
       "days_in_waiting_list                    NaN           NaN        NaN   \n",
       "adr                                     NaN           NaN        NaN   \n",
       "\n",
       "                                stays_in_weekend_nights  stays_in_week_nights  \\\n",
       "is_canceled                                         NaN                   NaN   \n",
       "deposit_type                                        NaN                   NaN   \n",
       "lead_time                                           NaN                 0.227   \n",
       "stays_in_weekend_nights                           1.000                 0.441   \n",
       "stays_in_week_nights                              0.441                 1.000   \n",
       "is_repeated_guest                                   NaN                   NaN   \n",
       "previous_cancellations                              NaN                   NaN   \n",
       "previous_bookings_not_canceled                      NaN                   NaN   \n",
       "booking_changes                                     NaN                   NaN   \n",
       "days_in_waiting_list                                NaN                   NaN   \n",
       "adr                                                 NaN                   NaN   \n",
       "\n",
       "                                is_repeated_guest  previous_cancellations  \\\n",
       "is_canceled                                   NaN                     NaN   \n",
       "deposit_type                                  NaN                     NaN   \n",
       "lead_time                                     NaN                     NaN   \n",
       "stays_in_weekend_nights                       NaN                     NaN   \n",
       "stays_in_week_nights                          NaN                     NaN   \n",
       "is_repeated_guest                           1.000                     NaN   \n",
       "previous_cancellations                        NaN                   1.000   \n",
       "previous_bookings_not_canceled              0.467                   0.229   \n",
       "booking_changes                               NaN                     NaN   \n",
       "days_in_waiting_list                          NaN                     NaN   \n",
       "adr                                           NaN                     NaN   \n",
       "\n",
       "                                previous_bookings_not_canceled  \\\n",
       "is_canceled                                                NaN   \n",
       "deposit_type                                               NaN   \n",
       "lead_time                                                  NaN   \n",
       "stays_in_weekend_nights                                    NaN   \n",
       "stays_in_week_nights                                       NaN   \n",
       "is_repeated_guest                                        0.467   \n",
       "previous_cancellations                                   0.229   \n",
       "previous_bookings_not_canceled                           1.000   \n",
       "booking_changes                                            NaN   \n",
       "days_in_waiting_list                                       NaN   \n",
       "adr                                                        NaN   \n",
       "\n",
       "                                booking_changes  days_in_waiting_list  adr  \n",
       "is_canceled                                 NaN                   NaN  NaN  \n",
       "deposit_type                                NaN                   NaN  NaN  \n",
       "lead_time                                   NaN                   NaN  NaN  \n",
       "stays_in_weekend_nights                     NaN                   NaN  NaN  \n",
       "stays_in_week_nights                        NaN                   NaN  NaN  \n",
       "is_repeated_guest                           NaN                   NaN  NaN  \n",
       "previous_cancellations                      NaN                   NaN  NaN  \n",
       "previous_bookings_not_canceled              NaN                   NaN  NaN  \n",
       "booking_changes                             1.0                   NaN  NaN  \n",
       "days_in_waiting_list                        NaN                   1.0  NaN  \n",
       "adr                                         NaN                   NaN  1.0  "
      ]
     },
     "execution_count": 15,
     "metadata": {},
     "output_type": "execute_result"
    }
   ],
   "source": [
    "round(df.corr()[np.abs(df.corr()) > 0.2], 3)"
   ]
  },
  {
   "cell_type": "markdown",
   "id": "bea5d056",
   "metadata": {},
   "source": [
    "그런데, 지금까지는 그룹을 구분짓지 않고 탐색을 진행한 결과이다.  \n",
    "종속변수에 따라 그룹을 구분지어 탐색하면 어떤 결과가 나올까?"
   ]
  },
  {
   "cell_type": "code",
   "execution_count": 16,
   "id": "c22bb0f1",
   "metadata": {},
   "outputs": [],
   "source": [
    "df_grouped = df.groupby('is_canceled')"
   ]
  },
  {
   "cell_type": "code",
   "execution_count": 17,
   "id": "0a33a4a3",
   "metadata": {},
   "outputs": [],
   "source": [
    "df_grouped_0 = df_grouped.get_group(0)\n",
    "df_grouped_1 = df_grouped.get_group(1)"
   ]
  },
  {
   "cell_type": "code",
   "execution_count": 18,
   "id": "47a9a51f",
   "metadata": {},
   "outputs": [
    {
     "data": {
      "text/html": [
       "<div>\n",
       "<style scoped>\n",
       "    .dataframe tbody tr th:only-of-type {\n",
       "        vertical-align: middle;\n",
       "    }\n",
       "\n",
       "    .dataframe tbody tr th {\n",
       "        vertical-align: top;\n",
       "    }\n",
       "\n",
       "    .dataframe thead th {\n",
       "        text-align: right;\n",
       "    }\n",
       "</style>\n",
       "<table border=\"1\" class=\"dataframe\">\n",
       "  <thead>\n",
       "    <tr style=\"text-align: right;\">\n",
       "      <th></th>\n",
       "      <th>is_canceled</th>\n",
       "      <th>deposit_type</th>\n",
       "      <th>lead_time</th>\n",
       "      <th>stays_in_weekend_nights</th>\n",
       "      <th>stays_in_week_nights</th>\n",
       "      <th>is_repeated_guest</th>\n",
       "      <th>previous_cancellations</th>\n",
       "      <th>previous_bookings_not_canceled</th>\n",
       "      <th>booking_changes</th>\n",
       "      <th>days_in_waiting_list</th>\n",
       "      <th>adr</th>\n",
       "    </tr>\n",
       "  </thead>\n",
       "  <tbody>\n",
       "    <tr>\n",
       "      <th>17600</th>\n",
       "      <td>1</td>\n",
       "      <td>2</td>\n",
       "      <td>142.0</td>\n",
       "      <td>2</td>\n",
       "      <td>3</td>\n",
       "      <td>0.0</td>\n",
       "      <td>0</td>\n",
       "      <td>0</td>\n",
       "      <td>0</td>\n",
       "      <td>0</td>\n",
       "      <td>103.00</td>\n",
       "    </tr>\n",
       "    <tr>\n",
       "      <th>17601</th>\n",
       "      <td>1</td>\n",
       "      <td>2</td>\n",
       "      <td>69.0</td>\n",
       "      <td>2</td>\n",
       "      <td>4</td>\n",
       "      <td>0.0</td>\n",
       "      <td>0</td>\n",
       "      <td>0</td>\n",
       "      <td>0</td>\n",
       "      <td>0</td>\n",
       "      <td>120.00</td>\n",
       "    </tr>\n",
       "    <tr>\n",
       "      <th>17602</th>\n",
       "      <td>1</td>\n",
       "      <td>0</td>\n",
       "      <td>203.0</td>\n",
       "      <td>0</td>\n",
       "      <td>3</td>\n",
       "      <td>0.0</td>\n",
       "      <td>0</td>\n",
       "      <td>0</td>\n",
       "      <td>0</td>\n",
       "      <td>0</td>\n",
       "      <td>138.02</td>\n",
       "    </tr>\n",
       "    <tr>\n",
       "      <th>17603</th>\n",
       "      <td>1</td>\n",
       "      <td>2</td>\n",
       "      <td>175.0</td>\n",
       "      <td>0</td>\n",
       "      <td>1</td>\n",
       "      <td>0.0</td>\n",
       "      <td>0</td>\n",
       "      <td>0</td>\n",
       "      <td>0</td>\n",
       "      <td>0</td>\n",
       "      <td>90.00</td>\n",
       "    </tr>\n",
       "    <tr>\n",
       "      <th>17604</th>\n",
       "      <td>1</td>\n",
       "      <td>0</td>\n",
       "      <td>43.0</td>\n",
       "      <td>0</td>\n",
       "      <td>1</td>\n",
       "      <td>0.0</td>\n",
       "      <td>0</td>\n",
       "      <td>0</td>\n",
       "      <td>0</td>\n",
       "      <td>0</td>\n",
       "      <td>168.30</td>\n",
       "    </tr>\n",
       "    <tr>\n",
       "      <th>...</th>\n",
       "      <td>...</td>\n",
       "      <td>...</td>\n",
       "      <td>...</td>\n",
       "      <td>...</td>\n",
       "      <td>...</td>\n",
       "      <td>...</td>\n",
       "      <td>...</td>\n",
       "      <td>...</td>\n",
       "      <td>...</td>\n",
       "      <td>...</td>\n",
       "      <td>...</td>\n",
       "    </tr>\n",
       "    <tr>\n",
       "      <th>19995</th>\n",
       "      <td>1</td>\n",
       "      <td>2</td>\n",
       "      <td>89.0</td>\n",
       "      <td>2</td>\n",
       "      <td>2</td>\n",
       "      <td>0.0</td>\n",
       "      <td>0</td>\n",
       "      <td>0</td>\n",
       "      <td>0</td>\n",
       "      <td>0</td>\n",
       "      <td>62.00</td>\n",
       "    </tr>\n",
       "    <tr>\n",
       "      <th>19996</th>\n",
       "      <td>1</td>\n",
       "      <td>2</td>\n",
       "      <td>101.0</td>\n",
       "      <td>0</td>\n",
       "      <td>3</td>\n",
       "      <td>0.0</td>\n",
       "      <td>0</td>\n",
       "      <td>0</td>\n",
       "      <td>0</td>\n",
       "      <td>0</td>\n",
       "      <td>130.00</td>\n",
       "    </tr>\n",
       "    <tr>\n",
       "      <th>19997</th>\n",
       "      <td>1</td>\n",
       "      <td>2</td>\n",
       "      <td>277.0</td>\n",
       "      <td>1</td>\n",
       "      <td>2</td>\n",
       "      <td>0.0</td>\n",
       "      <td>0</td>\n",
       "      <td>0</td>\n",
       "      <td>0</td>\n",
       "      <td>0</td>\n",
       "      <td>100.00</td>\n",
       "    </tr>\n",
       "    <tr>\n",
       "      <th>19998</th>\n",
       "      <td>1</td>\n",
       "      <td>0</td>\n",
       "      <td>0.0</td>\n",
       "      <td>0</td>\n",
       "      <td>1</td>\n",
       "      <td>0.0</td>\n",
       "      <td>0</td>\n",
       "      <td>0</td>\n",
       "      <td>0</td>\n",
       "      <td>0</td>\n",
       "      <td>209.00</td>\n",
       "    </tr>\n",
       "    <tr>\n",
       "      <th>19999</th>\n",
       "      <td>1</td>\n",
       "      <td>2</td>\n",
       "      <td>40.0</td>\n",
       "      <td>0</td>\n",
       "      <td>2</td>\n",
       "      <td>0.0</td>\n",
       "      <td>0</td>\n",
       "      <td>0</td>\n",
       "      <td>0</td>\n",
       "      <td>0</td>\n",
       "      <td>130.00</td>\n",
       "    </tr>\n",
       "  </tbody>\n",
       "</table>\n",
       "<p>2400 rows × 11 columns</p>\n",
       "</div>"
      ],
      "text/plain": [
       "       is_canceled  deposit_type  lead_time  stays_in_weekend_nights  \\\n",
       "17600            1             2      142.0                        2   \n",
       "17601            1             2       69.0                        2   \n",
       "17602            1             0      203.0                        0   \n",
       "17603            1             2      175.0                        0   \n",
       "17604            1             0       43.0                        0   \n",
       "...            ...           ...        ...                      ...   \n",
       "19995            1             2       89.0                        2   \n",
       "19996            1             2      101.0                        0   \n",
       "19997            1             2      277.0                        1   \n",
       "19998            1             0        0.0                        0   \n",
       "19999            1             2       40.0                        0   \n",
       "\n",
       "       stays_in_week_nights  is_repeated_guest  previous_cancellations  \\\n",
       "17600                     3                0.0                       0   \n",
       "17601                     4                0.0                       0   \n",
       "17602                     3                0.0                       0   \n",
       "17603                     1                0.0                       0   \n",
       "17604                     1                0.0                       0   \n",
       "...                     ...                ...                     ...   \n",
       "19995                     2                0.0                       0   \n",
       "19996                     3                0.0                       0   \n",
       "19997                     2                0.0                       0   \n",
       "19998                     1                0.0                       0   \n",
       "19999                     2                0.0                       0   \n",
       "\n",
       "       previous_bookings_not_canceled  booking_changes  days_in_waiting_list  \\\n",
       "17600                               0                0                     0   \n",
       "17601                               0                0                     0   \n",
       "17602                               0                0                     0   \n",
       "17603                               0                0                     0   \n",
       "17604                               0                0                     0   \n",
       "...                               ...              ...                   ...   \n",
       "19995                               0                0                     0   \n",
       "19996                               0                0                     0   \n",
       "19997                               0                0                     0   \n",
       "19998                               0                0                     0   \n",
       "19999                               0                0                     0   \n",
       "\n",
       "          adr  \n",
       "17600  103.00  \n",
       "17601  120.00  \n",
       "17602  138.02  \n",
       "17603   90.00  \n",
       "17604  168.30  \n",
       "...       ...  \n",
       "19995   62.00  \n",
       "19996  130.00  \n",
       "19997  100.00  \n",
       "19998  209.00  \n",
       "19999  130.00  \n",
       "\n",
       "[2400 rows x 11 columns]"
      ]
     },
     "execution_count": 18,
     "metadata": {},
     "output_type": "execute_result"
    }
   ],
   "source": [
    "df_grouped_1"
   ]
  },
  {
   "cell_type": "code",
   "execution_count": 19,
   "id": "3df2c88b",
   "metadata": {},
   "outputs": [
    {
     "data": {
      "text/html": [
       "<div>\n",
       "<style scoped>\n",
       "    .dataframe tbody tr th:only-of-type {\n",
       "        vertical-align: middle;\n",
       "    }\n",
       "\n",
       "    .dataframe tbody tr th {\n",
       "        vertical-align: top;\n",
       "    }\n",
       "\n",
       "    .dataframe thead th {\n",
       "        text-align: right;\n",
       "    }\n",
       "</style>\n",
       "<table border=\"1\" class=\"dataframe\">\n",
       "  <thead>\n",
       "    <tr style=\"text-align: right;\">\n",
       "      <th></th>\n",
       "      <th>is_canceled</th>\n",
       "      <th>deposit_type</th>\n",
       "      <th>lead_time</th>\n",
       "      <th>stays_in_weekend_nights</th>\n",
       "      <th>stays_in_week_nights</th>\n",
       "      <th>is_repeated_guest</th>\n",
       "      <th>previous_cancellations</th>\n",
       "      <th>previous_bookings_not_canceled</th>\n",
       "      <th>booking_changes</th>\n",
       "      <th>days_in_waiting_list</th>\n",
       "      <th>adr</th>\n",
       "    </tr>\n",
       "  </thead>\n",
       "  <tbody>\n",
       "    <tr>\n",
       "      <th>count</th>\n",
       "      <td>17600.0</td>\n",
       "      <td>17600.000</td>\n",
       "      <td>17595.000</td>\n",
       "      <td>17600.000</td>\n",
       "      <td>17600.000</td>\n",
       "      <td>17285.000</td>\n",
       "      <td>17600.000</td>\n",
       "      <td>17600.000</td>\n",
       "      <td>17600.000</td>\n",
       "      <td>17600.000</td>\n",
       "      <td>16664.000</td>\n",
       "    </tr>\n",
       "    <tr>\n",
       "      <th>mean</th>\n",
       "      <td>0.0</td>\n",
       "      <td>0.004</td>\n",
       "      <td>78.420</td>\n",
       "      <td>0.889</td>\n",
       "      <td>2.361</td>\n",
       "      <td>0.041</td>\n",
       "      <td>0.013</td>\n",
       "      <td>0.190</td>\n",
       "      <td>0.293</td>\n",
       "      <td>1.737</td>\n",
       "      <td>101.035</td>\n",
       "    </tr>\n",
       "    <tr>\n",
       "      <th>std</th>\n",
       "      <td>0.0</td>\n",
       "      <td>0.078</td>\n",
       "      <td>90.151</td>\n",
       "      <td>0.944</td>\n",
       "      <td>1.767</td>\n",
       "      <td>0.199</td>\n",
       "      <td>0.238</td>\n",
       "      <td>1.595</td>\n",
       "      <td>0.711</td>\n",
       "      <td>15.319</td>\n",
       "      <td>49.884</td>\n",
       "    </tr>\n",
       "    <tr>\n",
       "      <th>min</th>\n",
       "      <td>0.0</td>\n",
       "      <td>0.000</td>\n",
       "      <td>0.000</td>\n",
       "      <td>0.000</td>\n",
       "      <td>0.000</td>\n",
       "      <td>0.000</td>\n",
       "      <td>0.000</td>\n",
       "      <td>0.000</td>\n",
       "      <td>0.000</td>\n",
       "      <td>0.000</td>\n",
       "      <td>-6.380</td>\n",
       "    </tr>\n",
       "    <tr>\n",
       "      <th>25%</th>\n",
       "      <td>0.0</td>\n",
       "      <td>0.000</td>\n",
       "      <td>8.000</td>\n",
       "      <td>0.000</td>\n",
       "      <td>1.000</td>\n",
       "      <td>0.000</td>\n",
       "      <td>0.000</td>\n",
       "      <td>0.000</td>\n",
       "      <td>0.000</td>\n",
       "      <td>0.000</td>\n",
       "      <td>68.000</td>\n",
       "    </tr>\n",
       "    <tr>\n",
       "      <th>50%</th>\n",
       "      <td>0.0</td>\n",
       "      <td>0.000</td>\n",
       "      <td>44.000</td>\n",
       "      <td>1.000</td>\n",
       "      <td>2.000</td>\n",
       "      <td>0.000</td>\n",
       "      <td>0.000</td>\n",
       "      <td>0.000</td>\n",
       "      <td>0.000</td>\n",
       "      <td>0.000</td>\n",
       "      <td>94.000</td>\n",
       "    </tr>\n",
       "    <tr>\n",
       "      <th>75%</th>\n",
       "      <td>0.0</td>\n",
       "      <td>0.000</td>\n",
       "      <td>121.000</td>\n",
       "      <td>2.000</td>\n",
       "      <td>3.000</td>\n",
       "      <td>0.000</td>\n",
       "      <td>0.000</td>\n",
       "      <td>0.000</td>\n",
       "      <td>0.000</td>\n",
       "      <td>0.000</td>\n",
       "      <td>126.000</td>\n",
       "    </tr>\n",
       "    <tr>\n",
       "      <th>max</th>\n",
       "      <td>0.0</td>\n",
       "      <td>2.000</td>\n",
       "      <td>542.000</td>\n",
       "      <td>13.000</td>\n",
       "      <td>30.000</td>\n",
       "      <td>1.000</td>\n",
       "      <td>11.000</td>\n",
       "      <td>66.000</td>\n",
       "      <td>17.000</td>\n",
       "      <td>330.000</td>\n",
       "      <td>451.500</td>\n",
       "    </tr>\n",
       "  </tbody>\n",
       "</table>\n",
       "</div>"
      ],
      "text/plain": [
       "       is_canceled  deposit_type  lead_time  stays_in_weekend_nights  \\\n",
       "count      17600.0     17600.000  17595.000                17600.000   \n",
       "mean           0.0         0.004     78.420                    0.889   \n",
       "std            0.0         0.078     90.151                    0.944   \n",
       "min            0.0         0.000      0.000                    0.000   \n",
       "25%            0.0         0.000      8.000                    0.000   \n",
       "50%            0.0         0.000     44.000                    1.000   \n",
       "75%            0.0         0.000    121.000                    2.000   \n",
       "max            0.0         2.000    542.000                   13.000   \n",
       "\n",
       "       stays_in_week_nights  is_repeated_guest  previous_cancellations  \\\n",
       "count             17600.000          17285.000               17600.000   \n",
       "mean                  2.361              0.041                   0.013   \n",
       "std                   1.767              0.199                   0.238   \n",
       "min                   0.000              0.000                   0.000   \n",
       "25%                   1.000              0.000                   0.000   \n",
       "50%                   2.000              0.000                   0.000   \n",
       "75%                   3.000              0.000                   0.000   \n",
       "max                  30.000              1.000                  11.000   \n",
       "\n",
       "       previous_bookings_not_canceled  booking_changes  days_in_waiting_list  \\\n",
       "count                       17600.000        17600.000             17600.000   \n",
       "mean                            0.190            0.293                 1.737   \n",
       "std                             1.595            0.711                15.319   \n",
       "min                             0.000            0.000                 0.000   \n",
       "25%                             0.000            0.000                 0.000   \n",
       "50%                             0.000            0.000                 0.000   \n",
       "75%                             0.000            0.000                 0.000   \n",
       "max                            66.000           17.000               330.000   \n",
       "\n",
       "             adr  \n",
       "count  16664.000  \n",
       "mean     101.035  \n",
       "std       49.884  \n",
       "min       -6.380  \n",
       "25%       68.000  \n",
       "50%       94.000  \n",
       "75%      126.000  \n",
       "max      451.500  "
      ]
     },
     "execution_count": 19,
     "metadata": {},
     "output_type": "execute_result"
    }
   ],
   "source": [
    "# Case 1. 종속변수 값이 0인 경우\n",
    "round(df_grouped_0.describe(), 3)"
   ]
  },
  {
   "cell_type": "code",
   "execution_count": 20,
   "id": "7f4481df",
   "metadata": {},
   "outputs": [
    {
     "name": "stdout",
     "output_type": "stream",
     "text": [
      "0.9972727272727273\n",
      "0.9413636363636364\n"
     ]
    },
    {
     "data": {
      "text/plain": [
       "0    17552\n",
       "1       28\n",
       "2       20\n",
       "Name: deposit_type, dtype: int64"
      ]
     },
     "execution_count": 20,
     "metadata": {},
     "output_type": "execute_result"
    }
   ],
   "source": [
    "print(df_grouped_0['deposit_type'].value_counts().max() / len(df_grouped_0))\n",
    "print(df_grouped_0['is_repeated_guest'].value_counts().max() / len(df_grouped_0))\n",
    "\n",
    "df_grouped_0['deposit_type'].value_counts()"
   ]
  },
  {
   "cell_type": "code",
   "execution_count": 21,
   "id": "f4a93469",
   "metadata": {
    "scrolled": true
   },
   "outputs": [
    {
     "data": {
      "text/plain": [
       "0.0    16568\n",
       "1.0      717\n",
       "Name: is_repeated_guest, dtype: int64"
      ]
     },
     "execution_count": 21,
     "metadata": {},
     "output_type": "execute_result"
    }
   ],
   "source": [
    "df_grouped_0['is_repeated_guest'].value_counts()"
   ]
  },
  {
   "cell_type": "code",
   "execution_count": 22,
   "id": "8e688a10",
   "metadata": {},
   "outputs": [
    {
     "data": {
      "text/html": [
       "<div>\n",
       "<style scoped>\n",
       "    .dataframe tbody tr th:only-of-type {\n",
       "        vertical-align: middle;\n",
       "    }\n",
       "\n",
       "    .dataframe tbody tr th {\n",
       "        vertical-align: top;\n",
       "    }\n",
       "\n",
       "    .dataframe thead th {\n",
       "        text-align: right;\n",
       "    }\n",
       "</style>\n",
       "<table border=\"1\" class=\"dataframe\">\n",
       "  <thead>\n",
       "    <tr style=\"text-align: right;\">\n",
       "      <th></th>\n",
       "      <th>is_canceled</th>\n",
       "      <th>deposit_type</th>\n",
       "      <th>lead_time</th>\n",
       "      <th>stays_in_weekend_nights</th>\n",
       "      <th>stays_in_week_nights</th>\n",
       "      <th>is_repeated_guest</th>\n",
       "      <th>previous_cancellations</th>\n",
       "      <th>previous_bookings_not_canceled</th>\n",
       "      <th>booking_changes</th>\n",
       "      <th>days_in_waiting_list</th>\n",
       "      <th>adr</th>\n",
       "    </tr>\n",
       "  </thead>\n",
       "  <tbody>\n",
       "    <tr>\n",
       "      <th>count</th>\n",
       "      <td>2400.0</td>\n",
       "      <td>2400.000</td>\n",
       "      <td>2400.000</td>\n",
       "      <td>2400.000</td>\n",
       "      <td>2400.000</td>\n",
       "      <td>2357.000</td>\n",
       "      <td>2400.000</td>\n",
       "      <td>2400.000</td>\n",
       "      <td>2400.000</td>\n",
       "      <td>2400.000</td>\n",
       "      <td>2273.000</td>\n",
       "    </tr>\n",
       "    <tr>\n",
       "      <th>mean</th>\n",
       "      <td>1.0</td>\n",
       "      <td>0.678</td>\n",
       "      <td>141.388</td>\n",
       "      <td>0.920</td>\n",
       "      <td>2.522</td>\n",
       "      <td>0.014</td>\n",
       "      <td>0.178</td>\n",
       "      <td>0.016</td>\n",
       "      <td>0.093</td>\n",
       "      <td>3.792</td>\n",
       "      <td>104.162</td>\n",
       "    </tr>\n",
       "    <tr>\n",
       "      <th>std</th>\n",
       "      <td>0.0</td>\n",
       "      <td>0.947</td>\n",
       "      <td>119.997</td>\n",
       "      <td>1.006</td>\n",
       "      <td>1.848</td>\n",
       "      <td>0.116</td>\n",
       "      <td>1.135</td>\n",
       "      <td>0.359</td>\n",
       "      <td>0.443</td>\n",
       "      <td>19.733</td>\n",
       "      <td>44.196</td>\n",
       "    </tr>\n",
       "    <tr>\n",
       "      <th>min</th>\n",
       "      <td>1.0</td>\n",
       "      <td>0.000</td>\n",
       "      <td>0.000</td>\n",
       "      <td>0.000</td>\n",
       "      <td>0.000</td>\n",
       "      <td>0.000</td>\n",
       "      <td>0.000</td>\n",
       "      <td>0.000</td>\n",
       "      <td>0.000</td>\n",
       "      <td>0.000</td>\n",
       "      <td>0.000</td>\n",
       "    </tr>\n",
       "    <tr>\n",
       "      <th>25%</th>\n",
       "      <td>1.0</td>\n",
       "      <td>0.000</td>\n",
       "      <td>47.750</td>\n",
       "      <td>0.000</td>\n",
       "      <td>1.000</td>\n",
       "      <td>0.000</td>\n",
       "      <td>0.000</td>\n",
       "      <td>0.000</td>\n",
       "      <td>0.000</td>\n",
       "      <td>0.000</td>\n",
       "      <td>74.800</td>\n",
       "    </tr>\n",
       "    <tr>\n",
       "      <th>50%</th>\n",
       "      <td>1.0</td>\n",
       "      <td>0.000</td>\n",
       "      <td>105.000</td>\n",
       "      <td>1.000</td>\n",
       "      <td>2.000</td>\n",
       "      <td>0.000</td>\n",
       "      <td>0.000</td>\n",
       "      <td>0.000</td>\n",
       "      <td>0.000</td>\n",
       "      <td>0.000</td>\n",
       "      <td>96.400</td>\n",
       "    </tr>\n",
       "    <tr>\n",
       "      <th>75%</th>\n",
       "      <td>1.0</td>\n",
       "      <td>2.000</td>\n",
       "      <td>210.000</td>\n",
       "      <td>2.000</td>\n",
       "      <td>3.000</td>\n",
       "      <td>0.000</td>\n",
       "      <td>0.000</td>\n",
       "      <td>0.000</td>\n",
       "      <td>0.000</td>\n",
       "      <td>0.000</td>\n",
       "      <td>125.000</td>\n",
       "    </tr>\n",
       "    <tr>\n",
       "      <th>max</th>\n",
       "      <td>1.0</td>\n",
       "      <td>2.000</td>\n",
       "      <td>629.000</td>\n",
       "      <td>9.000</td>\n",
       "      <td>24.000</td>\n",
       "      <td>1.000</td>\n",
       "      <td>26.000</td>\n",
       "      <td>12.000</td>\n",
       "      <td>8.000</td>\n",
       "      <td>379.000</td>\n",
       "      <td>450.000</td>\n",
       "    </tr>\n",
       "  </tbody>\n",
       "</table>\n",
       "</div>"
      ],
      "text/plain": [
       "       is_canceled  deposit_type  lead_time  stays_in_weekend_nights  \\\n",
       "count       2400.0      2400.000   2400.000                 2400.000   \n",
       "mean           1.0         0.678    141.388                    0.920   \n",
       "std            0.0         0.947    119.997                    1.006   \n",
       "min            1.0         0.000      0.000                    0.000   \n",
       "25%            1.0         0.000     47.750                    0.000   \n",
       "50%            1.0         0.000    105.000                    1.000   \n",
       "75%            1.0         2.000    210.000                    2.000   \n",
       "max            1.0         2.000    629.000                    9.000   \n",
       "\n",
       "       stays_in_week_nights  is_repeated_guest  previous_cancellations  \\\n",
       "count              2400.000           2357.000                2400.000   \n",
       "mean                  2.522              0.014                   0.178   \n",
       "std                   1.848              0.116                   1.135   \n",
       "min                   0.000              0.000                   0.000   \n",
       "25%                   1.000              0.000                   0.000   \n",
       "50%                   2.000              0.000                   0.000   \n",
       "75%                   3.000              0.000                   0.000   \n",
       "max                  24.000              1.000                  26.000   \n",
       "\n",
       "       previous_bookings_not_canceled  booking_changes  days_in_waiting_list  \\\n",
       "count                        2400.000         2400.000              2400.000   \n",
       "mean                            0.016            0.093                 3.792   \n",
       "std                             0.359            0.443                19.733   \n",
       "min                             0.000            0.000                 0.000   \n",
       "25%                             0.000            0.000                 0.000   \n",
       "50%                             0.000            0.000                 0.000   \n",
       "75%                             0.000            0.000                 0.000   \n",
       "max                            12.000            8.000               379.000   \n",
       "\n",
       "            adr  \n",
       "count  2273.000  \n",
       "mean    104.162  \n",
       "std      44.196  \n",
       "min       0.000  \n",
       "25%      74.800  \n",
       "50%      96.400  \n",
       "75%     125.000  \n",
       "max     450.000  "
      ]
     },
     "execution_count": 22,
     "metadata": {},
     "output_type": "execute_result"
    }
   ],
   "source": [
    "# Case 2. 종속변수 값이 1인 경우\n",
    "round(df_grouped_1.describe(), 3)"
   ]
  },
  {
   "cell_type": "code",
   "execution_count": 23,
   "id": "72c1ac6c",
   "metadata": {},
   "outputs": [
    {
     "name": "stdout",
     "output_type": "stream",
     "text": [
      "0.6608333333333334\n",
      "0.96875\n"
     ]
    },
    {
     "data": {
      "text/plain": [
       "0    1586\n",
       "2     814\n",
       "Name: deposit_type, dtype: int64"
      ]
     },
     "execution_count": 23,
     "metadata": {},
     "output_type": "execute_result"
    }
   ],
   "source": [
    "print(df_grouped_1['deposit_type'].value_counts().max() / len(df_grouped_1))\n",
    "print(df_grouped_1['is_repeated_guest'].value_counts().max() / len(df_grouped_1))\n",
    "\n",
    "df_grouped_1['deposit_type'].value_counts()"
   ]
  },
  {
   "cell_type": "code",
   "execution_count": 24,
   "id": "6d59de52",
   "metadata": {
    "scrolled": false
   },
   "outputs": [
    {
     "data": {
      "text/plain": [
       "0.0    2325\n",
       "1.0      32\n",
       "Name: is_repeated_guest, dtype: int64"
      ]
     },
     "execution_count": 24,
     "metadata": {},
     "output_type": "execute_result"
    }
   ],
   "source": [
    "df_grouped_1['is_repeated_guest'].value_counts()"
   ]
  },
  {
   "cell_type": "code",
   "execution_count": 25,
   "id": "b502a305",
   "metadata": {},
   "outputs": [
    {
     "name": "stdout",
     "output_type": "stream",
     "text": [
      "0.9972727272727273\n",
      "0.9413636363636364\n"
     ]
    },
    {
     "data": {
      "text/plain": [
       "0    17552\n",
       "1       28\n",
       "2       20\n",
       "Name: deposit_type, dtype: int64"
      ]
     },
     "execution_count": 25,
     "metadata": {},
     "output_type": "execute_result"
    }
   ],
   "source": [
    "print(df_grouped_0['deposit_type'].value_counts().max() / len(df_grouped_0))\n",
    "print(df_grouped_0['is_repeated_guest'].value_counts().max() / len(df_grouped_0))\n",
    "\n",
    "df_grouped_0['deposit_type'].value_counts()"
   ]
  },
  {
   "cell_type": "code",
   "execution_count": 26,
   "id": "4b9a5170",
   "metadata": {
    "scrolled": true
   },
   "outputs": [
    {
     "data": {
      "text/plain": [
       "0.0    16568\n",
       "1.0      717\n",
       "Name: is_repeated_guest, dtype: int64"
      ]
     },
     "execution_count": 26,
     "metadata": {},
     "output_type": "execute_result"
    }
   ],
   "source": [
    "df_grouped_0['is_repeated_guest'].value_counts()"
   ]
  },
  {
   "cell_type": "markdown",
   "id": "876840e5",
   "metadata": {},
   "source": [
    "## (2) 결측치 탐색, 대체 방법 제시"
   ]
  },
  {
   "cell_type": "code",
   "execution_count": 27,
   "id": "781d6c5f",
   "metadata": {},
   "outputs": [
    {
     "data": {
      "text/plain": [
       "lead_time               5\n",
       "is_repeated_guest     358\n",
       "adr                  1063\n",
       "dtype: int64"
      ]
     },
     "execution_count": 27,
     "metadata": {},
     "output_type": "execute_result"
    }
   ],
   "source": [
    "df_null_col = df.isnull().sum()[df.isnull().sum() > 0]\n",
    "df_null_col"
   ]
  },
  {
   "cell_type": "code",
   "execution_count": 28,
   "id": "a6e8406c",
   "metadata": {},
   "outputs": [
    {
     "name": "stdout",
     "output_type": "stream",
     "text": [
      "lead_time의 결측치 비율 : 0.00025\n",
      "is_repeated_guest의 결측치 비율 : 0.0179\n",
      "adr의 결측치 비율 : 0.05315\n"
     ]
    }
   ],
   "source": [
    "# (결측치가 존재하는) 각 변수에 대하여 결측치 비율을 계산한다.\n",
    "for col in df_null_col.index : \n",
    "    print(f\"{col}의 결측치 비율 : {df[col].isnull().sum()/len(df)}\")"
   ]
  },
  {
   "cell_type": "markdown",
   "id": "88279b0f",
   "metadata": {},
   "source": [
    "결측치 비율이 모두 매우 작은 편이다.  \n",
    "\n",
    "결측치가 있는 행을 모두 없애는 방법이 있을 수 있으나 자칫 약 7%에 해당하는 데이터가 한 번에 삭제되어 정보 손실이 발생할 수 있으므로,  \n",
    "그룹별 평균값(범주형 변수의 경우 최빈값)으로 대체하였다."
   ]
  },
  {
   "cell_type": "code",
   "execution_count": 29,
   "id": "8937ff4c",
   "metadata": {},
   "outputs": [
    {
     "data": {
      "text/html": [
       "<div>\n",
       "<style scoped>\n",
       "    .dataframe tbody tr th:only-of-type {\n",
       "        vertical-align: middle;\n",
       "    }\n",
       "\n",
       "    .dataframe tbody tr th {\n",
       "        vertical-align: top;\n",
       "    }\n",
       "\n",
       "    .dataframe thead th {\n",
       "        text-align: right;\n",
       "    }\n",
       "</style>\n",
       "<table border=\"1\" class=\"dataframe\">\n",
       "  <thead>\n",
       "    <tr style=\"text-align: right;\">\n",
       "      <th></th>\n",
       "      <th>is_canceled</th>\n",
       "      <th>deposit_type</th>\n",
       "      <th>lead_time</th>\n",
       "      <th>stays_in_weekend_nights</th>\n",
       "      <th>stays_in_week_nights</th>\n",
       "      <th>is_repeated_guest</th>\n",
       "      <th>previous_cancellations</th>\n",
       "      <th>previous_bookings_not_canceled</th>\n",
       "      <th>booking_changes</th>\n",
       "      <th>days_in_waiting_list</th>\n",
       "      <th>adr</th>\n",
       "    </tr>\n",
       "  </thead>\n",
       "  <tbody>\n",
       "    <tr>\n",
       "      <th>985</th>\n",
       "      <td>0</td>\n",
       "      <td>0</td>\n",
       "      <td>NaN</td>\n",
       "      <td>0</td>\n",
       "      <td>3</td>\n",
       "      <td>0.0</td>\n",
       "      <td>0</td>\n",
       "      <td>0</td>\n",
       "      <td>2</td>\n",
       "      <td>0</td>\n",
       "      <td>24.00</td>\n",
       "    </tr>\n",
       "    <tr>\n",
       "      <th>1087</th>\n",
       "      <td>0</td>\n",
       "      <td>0</td>\n",
       "      <td>NaN</td>\n",
       "      <td>2</td>\n",
       "      <td>6</td>\n",
       "      <td>0.0</td>\n",
       "      <td>0</td>\n",
       "      <td>0</td>\n",
       "      <td>1</td>\n",
       "      <td>0</td>\n",
       "      <td>99.68</td>\n",
       "    </tr>\n",
       "    <tr>\n",
       "      <th>4125</th>\n",
       "      <td>0</td>\n",
       "      <td>0</td>\n",
       "      <td>NaN</td>\n",
       "      <td>0</td>\n",
       "      <td>2</td>\n",
       "      <td>0.0</td>\n",
       "      <td>0</td>\n",
       "      <td>0</td>\n",
       "      <td>0</td>\n",
       "      <td>0</td>\n",
       "      <td>46.00</td>\n",
       "    </tr>\n",
       "    <tr>\n",
       "      <th>4923</th>\n",
       "      <td>0</td>\n",
       "      <td>0</td>\n",
       "      <td>NaN</td>\n",
       "      <td>1</td>\n",
       "      <td>4</td>\n",
       "      <td>0.0</td>\n",
       "      <td>0</td>\n",
       "      <td>0</td>\n",
       "      <td>0</td>\n",
       "      <td>0</td>\n",
       "      <td>129.60</td>\n",
       "    </tr>\n",
       "    <tr>\n",
       "      <th>16221</th>\n",
       "      <td>0</td>\n",
       "      <td>0</td>\n",
       "      <td>NaN</td>\n",
       "      <td>0</td>\n",
       "      <td>1</td>\n",
       "      <td>0.0</td>\n",
       "      <td>0</td>\n",
       "      <td>0</td>\n",
       "      <td>1</td>\n",
       "      <td>0</td>\n",
       "      <td>199.00</td>\n",
       "    </tr>\n",
       "  </tbody>\n",
       "</table>\n",
       "</div>"
      ],
      "text/plain": [
       "       is_canceled  deposit_type  lead_time  stays_in_weekend_nights  \\\n",
       "985              0             0        NaN                        0   \n",
       "1087             0             0        NaN                        2   \n",
       "4125             0             0        NaN                        0   \n",
       "4923             0             0        NaN                        1   \n",
       "16221            0             0        NaN                        0   \n",
       "\n",
       "       stays_in_week_nights  is_repeated_guest  previous_cancellations  \\\n",
       "985                       3                0.0                       0   \n",
       "1087                      6                0.0                       0   \n",
       "4125                      2                0.0                       0   \n",
       "4923                      4                0.0                       0   \n",
       "16221                     1                0.0                       0   \n",
       "\n",
       "       previous_bookings_not_canceled  booking_changes  days_in_waiting_list  \\\n",
       "985                                 0                2                     0   \n",
       "1087                                0                1                     0   \n",
       "4125                                0                0                     0   \n",
       "4923                                0                0                     0   \n",
       "16221                               0                1                     0   \n",
       "\n",
       "          adr  \n",
       "985     24.00  \n",
       "1087    99.68  \n",
       "4125    46.00  \n",
       "4923   129.60  \n",
       "16221  199.00  "
      ]
     },
     "execution_count": 29,
     "metadata": {},
     "output_type": "execute_result"
    }
   ],
   "source": [
    "df[df['lead_time'].isnull()]"
   ]
  },
  {
   "cell_type": "code",
   "execution_count": 30,
   "id": "fd015025",
   "metadata": {},
   "outputs": [
    {
     "data": {
      "text/plain": [
       "0    936\n",
       "1    127\n",
       "Name: is_canceled, dtype: int64"
      ]
     },
     "execution_count": 30,
     "metadata": {},
     "output_type": "execute_result"
    }
   ],
   "source": [
    "df[df['adr'].isnull()]['is_canceled'].value_counts()"
   ]
  },
  {
   "cell_type": "code",
   "execution_count": 31,
   "id": "b1b6316d",
   "metadata": {},
   "outputs": [
    {
     "name": "stdout",
     "output_type": "stream",
     "text": [
      "78.42028985507247\n",
      "141.38833333333332\n",
      "101.03484517522804\n",
      "104.1623537175539\n"
     ]
    }
   ],
   "source": [
    "for col in ['lead_time', 'adr'] : \n",
    "    imp_mean_0 = df_grouped_0[col].mean()\n",
    "    imp_mean_1 = df_grouped_1[col].mean()\n",
    "    \n",
    "    print(imp_mean_0)\n",
    "    print(imp_mean_1)"
   ]
  },
  {
   "cell_type": "code",
   "execution_count": 32,
   "id": "e677767a",
   "metadata": {},
   "outputs": [],
   "source": [
    "df.groupby('is_canceled').apply(lambda x : x.fillna(x.mean()))\n",
    "df['is_repeated_guest'].fillna(0, inplace = True)"
   ]
  },
  {
   "cell_type": "code",
   "execution_count": 33,
   "id": "af4ff87b",
   "metadata": {},
   "outputs": [
    {
     "data": {
      "text/plain": [
       "0"
      ]
     },
     "execution_count": 33,
     "metadata": {},
     "output_type": "execute_result"
    }
   ],
   "source": [
    "df['is_repeated_guest'].isnull().sum()"
   ]
  },
  {
   "cell_type": "markdown",
   "id": "c8d31122",
   "metadata": {},
   "source": [
    "## (3) DQ 향상 방법 제안"
   ]
  },
  {
   "cell_type": "markdown",
   "id": "34a80fdf",
   "metadata": {},
   "source": [
    "- 이상치를 탐색 및 처리한다.\n",
    "- 매우 불균형한 데이터이므로, Oversampling하여 각 클래스의 균형을 맞추어준다."
   ]
  },
  {
   "cell_type": "markdown",
   "id": "d850877e",
   "metadata": {},
   "source": [
    "## (4) 데이터 불균형 시각화, 판단"
   ]
  },
  {
   "cell_type": "code",
   "execution_count": 34,
   "id": "c10fc54d",
   "metadata": {},
   "outputs": [
    {
     "data": {
      "text/plain": [
       "([<matplotlib.axis.XTick at 0x163ac604430>,\n",
       "  <matplotlib.axis.XTick at 0x163ac604400>],\n",
       " [Text(0, 0, '0'), Text(1, 0, '1')])"
      ]
     },
     "execution_count": 34,
     "metadata": {},
     "output_type": "execute_result"
    },
    {
     "data": {
      "image/png": "[encoded data removed]",
      "text/plain": [
       "<Figure size 500x500 with 1 Axes>"
      ]
     },
     "metadata": {},
     "output_type": "display_data"
    }
   ],
   "source": [
    "plt.figure(figsize = (5, 5))\n",
    "\n",
    "plt.bar(df['is_canceled'].unique(), df['is_canceled'].value_counts())\n",
    "plt.xlabel('취소 여부')\n",
    "plt.ylabel('빈도')\n",
    "plt.xticks([0, 1])"
   ]
  },
  {
   "cell_type": "code",
   "execution_count": 35,
   "id": "00ded62a",
   "metadata": {},
   "outputs": [
    {
     "name": "stdout",
     "output_type": "stream",
     "text": [
      "Class 0 : 0.88\n",
      "Class 1 : 0.12\n"
     ]
    },
    {
     "data": {
      "text/plain": [
       "0    17600\n",
       "1     2400\n",
       "Name: is_canceled, dtype: int64"
      ]
     },
     "execution_count": 35,
     "metadata": {},
     "output_type": "execute_result"
    }
   ],
   "source": [
    "print(f\"Class 0 : {df['is_canceled'].value_counts()[0] / len(df)}\")\n",
    "print(f\"Class 1 : {df['is_canceled'].value_counts()[1] / len(df)}\")\n",
    "\n",
    "df['is_canceled'].value_counts()"
   ]
  },
  {
   "cell_type": "markdown",
   "id": "303cb72d",
   "metadata": {},
   "source": [
    "Class 0는 전체의 약 88%로, 대부분을 차지하고 있다.  \n",
    "불균형 데이터로 볼 수 있으며 이는 학습에도 영향을 미치기 때문에 별도 보정이 필요하다.  "
   ]
  },
  {
   "cell_type": "markdown",
   "id": "55abfdd2",
   "metadata": {},
   "source": [
    "## (5) Oversampling 기법을 설명, 비교하고 선택하기"
   ]
  },
  {
   "cell_type": "markdown",
   "id": "aaabd1c9",
   "metadata": {},
   "source": [
    "Oversampling은 불균형 데이터에서 상대적으로 수가 적은 Minority Class를 Majority Class의 수에 맞게 데이터를 추가적으로 생성하는 방식을 통해 과적합을 방지하는 기법이다.\n",
    "\n",
    "Oversampling에는 다음과 같은 방법들이 있다.\n",
    "\n",
    "1) Random Sampling : Minority Class의 데이터 중 무작위로 선택하여 복사하는 방식으로 데이터를 추가 생성한다.  \n",
    "2) SMOTE : KNN을 활용한 방법으로, 가까운 K개의 데이터 중 하나를 랜덤으로 선택하여 추가 데이터화한다. Minority Class에 속한 모든 데이터들에 대해서 실시한다.  \n",
    "3) Borderline SMOTE : Minority Class의 데이터의 K개 근접 데이터 중 Majority Class의 데이터의 수를 확인한다. 근접한 Majority Class 데이터의 수가 많은 데이터에 대해서만 SMOTE를 적용한다.  \n",
    "4) ADASYN : Borderline SMOTE와 유사하나, Scaling 과정을 추가하였다.\n",
    "5) GAN : 생성자가 가짜 데이터를 생성하고 구분자가 이를 구별하여 피드백을 주는 방식으로 모델을 성장시켜간다.  \n",
    "\n",
    "이 중 가장 간단한 Random Sampling, 그리고 범용성 있는 SMOTE를 사용하도록 한다.\n",
    "\n",
    "* 참조 : https://casa-de-feel.tistory.com/15"
   ]
  },
  {
   "cell_type": "markdown",
   "id": "3b027e79",
   "metadata": {},
   "source": [
    "## (6) Oversampling이 적용된 데이터셋을 생성"
   ]
  },
  {
   "cell_type": "code",
   "execution_count": 36,
   "id": "f958a02d",
   "metadata": {},
   "outputs": [],
   "source": [
    "from imblearn.over_sampling import SMOTE\n",
    "\n",
    "\n",
    "smote = SMOTE()"
   ]
  },
  {
   "cell_type": "code",
   "execution_count": 37,
   "id": "e7a026a0",
   "metadata": {},
   "outputs": [],
   "source": [
    "df['adr'].fillna(df['adr'].mean(), inplace = True)\n",
    "df['lead_time'].fillna(df['lead_time'].mean(), inplace = True)\n",
    "\n",
    "df_x = df.drop('is_canceled', axis = 1)\n",
    "df_y = df['is_canceled']"
   ]
  },
  {
   "cell_type": "code",
   "execution_count": 38,
   "id": "ac967926",
   "metadata": {},
   "outputs": [],
   "source": [
    "# SMOTE가 적용된 데이터셋 생성\n",
    "df_x_smote, df_y_smote = smote.fit_resample(df_x, df_y)"
   ]
  },
  {
   "cell_type": "code",
   "execution_count": 39,
   "id": "1fcc5133",
   "metadata": {},
   "outputs": [],
   "source": [
    "# 단순 Resampling 적용 데이터셋 생성\n",
    "df_minor = df[df['is_canceled'] == 1].sample(15200, replace = True)"
   ]
  },
  {
   "cell_type": "code",
   "execution_count": 40,
   "id": "453b8521",
   "metadata": {},
   "outputs": [],
   "source": [
    "df_re = pd.concat([df[df['is_canceled'] == 0], df_minor], axis = 0)\n",
    "df_re['adr'].fillna(df_re['adr'].mean(), inplace = True)\n",
    "\n",
    "df_x_res = df_re.drop('is_canceled', axis = 1)\n",
    "df_y_res = df_re['is_canceled']"
   ]
  },
  {
   "cell_type": "markdown",
   "id": "b3c5bfac",
   "metadata": {},
   "source": [
    "## (7) 모델 생성, 학습"
   ]
  },
  {
   "cell_type": "code",
   "execution_count": 41,
   "id": "20daaa2a",
   "metadata": {},
   "outputs": [],
   "source": [
    "from sklearn.model_selection import train_test_split\n",
    "\n",
    "df_x_train, df_x_test, df_y_train, df_y_test = train_test_split(df_x, df_y)\n",
    "df_x_smote_train, df_x_smote_test, df_y_smote_train, df_y_smote_test = train_test_split(df_x_smote, df_y_smote)\n",
    "df_x_res_train, df_x_res_test, df_y_res_train, df_y_res_test = train_test_split(df_x_res, df_y_res)"
   ]
  },
  {
   "cell_type": "code",
   "execution_count": 42,
   "id": "803dc375",
   "metadata": {},
   "outputs": [],
   "source": [
    "from sklearn.ensemble import RandomForestClassifier\n",
    "\n",
    "rf, rf2, rf3 = RandomForestClassifier(), RandomForestClassifier(), RandomForestClassifier()"
   ]
  },
  {
   "cell_type": "code",
   "execution_count": 44,
   "id": "5e4d1011",
   "metadata": {},
   "outputs": [],
   "source": [
    "rf.fit(df_x_train, df_y_train)\n",
    "rf2.fit(df_x_smote_train, df_y_smote_train)\n",
    "rf3.fit(df_x_res_train, df_y_res_train)\n",
    "\n",
    "pred1 = rf.predict(df_x_test)\n",
    "pred2 = rf2.predict(df_x_smote_test)\n",
    "pred3 = rf3.predict(df_x_res_test)"
   ]
  },
  {
   "cell_type": "code",
   "execution_count": 46,
   "id": "916b12a5",
   "metadata": {},
   "outputs": [
    {
     "name": "stdout",
     "output_type": "stream",
     "text": [
      "Mean Accuracy Score :  0.921\n"
     ]
    }
   ],
   "source": [
    "from sklearn.metrics import accuracy_score\n",
    "\n",
    "accuracy = accuracy_score(df_y_test, pred1)\n",
    "\n",
    "#print(f\"Out-of-Bag Score Estimate : {rf.oob_score_ : .3}\")\n",
    "print(f\"Mean Accuracy Score : {accuracy : .3}\")"
   ]
  },
  {
   "cell_type": "code",
   "execution_count": 47,
   "id": "756fcd3b",
   "metadata": {},
   "outputs": [
    {
     "name": "stdout",
     "output_type": "stream",
     "text": [
      "Mean Accuracy Score :  0.892\n"
     ]
    }
   ],
   "source": [
    "accuracy2 = accuracy_score(df_y_smote_test, pred2)\n",
    "\n",
    "#print(f\"Out-of-Bag Score Estimate : {rf.oob_score_ : .3}\")\n",
    "print(f\"Mean Accuracy Score : {accuracy2 : .3}\")"
   ]
  },
  {
   "cell_type": "code",
   "execution_count": 48,
   "id": "016dda2f",
   "metadata": {},
   "outputs": [
    {
     "name": "stdout",
     "output_type": "stream",
     "text": [
      "Mean Accuracy Score :  0.964\n"
     ]
    }
   ],
   "source": [
    "accuracy3 = accuracy_score(df_y_res_test, pred3)\n",
    "\n",
    "#print(f\"Out-of-Bag Score Estimate : {rf.oob_score_ : .3}\")\n",
    "print(f\"Mean Accuracy Score : {accuracy3 : .3}\")"
   ]
  },
  {
   "cell_type": "code",
   "execution_count": null,
   "id": "a3e7124c",
   "metadata": {},
   "outputs": [],
   "source": []
  }
 ],
 "metadata": {
  "kernelspec": {
   "display_name": "Python 3 (ipykernel)",
   "language": "python",
   "name": "python3"
  },
  "language_info": {
   "codemirror_mode": {
    "name": "ipython",
    "version": 3
   },
   "file_extension": ".py",
   "mimetype": "text/x-python",
   "name": "python",
   "nbconvert_exporter": "python",
   "pygments_lexer": "ipython3",
   "version": "3.10.9"
  }
 },
 "nbformat": 4,
 "nbformat_minor": 5
}
