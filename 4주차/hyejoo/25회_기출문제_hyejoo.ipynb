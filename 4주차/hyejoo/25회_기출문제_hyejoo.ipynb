{
 "cells": [
  {
   "attachments": {},
   "cell_type": "markdown",
   "metadata": {},
   "source": [
    "# 머신러닝\n",
    "## 1.군집분석 \n",
    "\n",
    "### 데이터 설명\n",
    "- InvoiceNo: Invoice number. Nominal, a 6-digit integral number uniquely assigned to each transaction. If this code starts with letter 'c', it indicates a cancellation.     \n",
    "- StockCode: Product (item) code. Nominal, a 5-digit integral number uniquely assigned to each distinct product.     \n",
    "- Description: Product (item) name. Nominal.    \n",
    "- Quantity: The quantities of each product (item) per transaction. Numeric.     \n",
    "- InvoiceDate: Invice Date and time. Numeric, the day and time when each transaction was generated.   \n",
    "- UnitPrice: Unit price. Numeric, Product price per unit in sterling.    \n",
    "- CustomerID: Customer number. Nominal, a 5-digit integral number uniquely assigned to each customer.     \n",
    "- Country: Country name. Nominal, the name of the country where each customer resides.     \n",
    "\n",
    "\n",
    "### 데이터 출처\n",
    "- https://archive.ics.uci.edu/ml/index.php"
   ]
  },
  {
   "attachments": {},
   "cell_type": "markdown",
   "metadata": {},
   "source": [
    "### 1.1 F(소비자별 구매빈도), M(소비자별 총 구매액) feature를 새로 생성해서 그 결과값으로 탐색적 분석 실시"
   ]
  },
  {
   "cell_type": "code",
   "execution_count": 2,
   "metadata": {},
   "outputs": [
    {
     "data": {
      "text/html": [
       "<div>\n",
       "<style scoped>\n",
       "    .dataframe tbody tr th:only-of-type {\n",
       "        vertical-align: middle;\n",
       "    }\n",
       "\n",
       "    .dataframe tbody tr th {\n",
       "        vertical-align: top;\n",
       "    }\n",
       "\n",
       "    .dataframe thead th {\n",
       "        text-align: right;\n",
       "    }\n",
       "</style>\n",
       "<table border=\"1\" class=\"dataframe\">\n",
       "  <thead>\n",
       "    <tr style=\"text-align: right;\">\n",
       "      <th></th>\n",
       "      <th>InvoiceNo</th>\n",
       "      <th>StockCode</th>\n",
       "      <th>Description</th>\n",
       "      <th>Quantity</th>\n",
       "      <th>InvoiceDate</th>\n",
       "      <th>UnitPrice</th>\n",
       "      <th>CustomerID</th>\n",
       "      <th>Country</th>\n",
       "    </tr>\n",
       "  </thead>\n",
       "  <tbody>\n",
       "    <tr>\n",
       "      <th>0</th>\n",
       "      <td>565857</td>\n",
       "      <td>84879</td>\n",
       "      <td>ASSORTED COLOUR BIRD ORNAMENT</td>\n",
       "      <td>16</td>\n",
       "      <td>9/7/2011 14:13</td>\n",
       "      <td>1.69</td>\n",
       "      <td>14911.0</td>\n",
       "      <td>EIRE</td>\n",
       "    </tr>\n",
       "    <tr>\n",
       "      <th>1</th>\n",
       "      <td>560452</td>\n",
       "      <td>22432</td>\n",
       "      <td>WATERING CAN PINK BUNNY</td>\n",
       "      <td>6</td>\n",
       "      <td>7/19/2011 9:51</td>\n",
       "      <td>1.95</td>\n",
       "      <td>12682.0</td>\n",
       "      <td>France</td>\n",
       "    </tr>\n",
       "    <tr>\n",
       "      <th>2</th>\n",
       "      <td>578509</td>\n",
       "      <td>22492</td>\n",
       "      <td>MINI PAINT SET VINTAGE</td>\n",
       "      <td>36</td>\n",
       "      <td>11/24/2011 13:17</td>\n",
       "      <td>0.65</td>\n",
       "      <td>12705.0</td>\n",
       "      <td>Germany</td>\n",
       "    </tr>\n",
       "    <tr>\n",
       "      <th>3</th>\n",
       "      <td>579345</td>\n",
       "      <td>22728</td>\n",
       "      <td>ALARM CLOCK BAKELIKE PINK</td>\n",
       "      <td>8</td>\n",
       "      <td>11/29/2011 11:46</td>\n",
       "      <td>3.75</td>\n",
       "      <td>12727.0</td>\n",
       "      <td>France</td>\n",
       "    </tr>\n",
       "    <tr>\n",
       "      <th>4</th>\n",
       "      <td>564039</td>\n",
       "      <td>21731</td>\n",
       "      <td>RED TOADSTOOL LED NIGHT LIGHT</td>\n",
       "      <td>12</td>\n",
       "      <td>8/22/2011 12:40</td>\n",
       "      <td>1.65</td>\n",
       "      <td>12645.0</td>\n",
       "      <td>Germany</td>\n",
       "    </tr>\n",
       "  </tbody>\n",
       "</table>\n",
       "</div>"
      ],
      "text/plain": [
       "  InvoiceNo StockCode                    Description  Quantity  \\\n",
       "0    565857     84879  ASSORTED COLOUR BIRD ORNAMENT        16   \n",
       "1    560452     22432        WATERING CAN PINK BUNNY         6   \n",
       "2    578509     22492        MINI PAINT SET VINTAGE         36   \n",
       "3    579345     22728      ALARM CLOCK BAKELIKE PINK         8   \n",
       "4    564039     21731  RED TOADSTOOL LED NIGHT LIGHT        12   \n",
       "\n",
       "        InvoiceDate  UnitPrice  CustomerID  Country  \n",
       "0    9/7/2011 14:13       1.69     14911.0     EIRE  \n",
       "1    7/19/2011 9:51       1.95     12682.0   France  \n",
       "2  11/24/2011 13:17       0.65     12705.0  Germany  \n",
       "3  11/29/2011 11:46       3.75     12727.0   France  \n",
       "4   8/22/2011 12:40       1.65     12645.0  Germany  "
      ]
     },
     "execution_count": 2,
     "metadata": {},
     "output_type": "execute_result"
    }
   ],
   "source": [
    "import pandas as pd\n",
    "from urllib.parse import quote\n",
    "\n",
    "url1 = 'https://raw.githubusercontent.com/Ssunbell/ADP_study/main/4주차/data/problem1.csv'\n",
    "encoded_url1 = quote(url1, safe=':/')\n",
    "\n",
    "df1 = pd.read_csv(encoded_url1, encoding='utf-8')\n",
    "df1.head()"
   ]
  },
  {
   "attachments": {},
   "cell_type": "markdown",
   "metadata": {},
   "source": [
    "### 1.2 F, M feature 기반으로 군집분석 실시, 필요시 이상값 보정"
   ]
  },
  {
   "cell_type": "code",
   "execution_count": null,
   "metadata": {},
   "outputs": [],
   "source": []
  },
  {
   "attachments": {},
   "cell_type": "markdown",
   "metadata": {},
   "source": [
    "### 1.3 군집 결과의 적합성을 군집 내 응집도, 군집 간 분리도의 개념을 사용해서 서술"
   ]
  },
  {
   "cell_type": "code",
   "execution_count": null,
   "metadata": {},
   "outputs": [],
   "source": []
  },
  {
   "attachments": {},
   "cell_type": "markdown",
   "metadata": {},
   "source": [
    "### 1.4 적합된 군집 별 특성에 대한 의견과 비즈니스적 판단 제시"
   ]
  },
  {
   "cell_type": "code",
   "execution_count": null,
   "metadata": {},
   "outputs": [],
   "source": []
  },
  {
   "attachments": {},
   "cell_type": "markdown",
   "metadata": {},
   "source": [
    "## 2번 시계열분석\n",
    "- 경로 : /kaggle/input/adp-p7/problem2.csv\n",
    "- 데이터 설명    \n",
    "  각 raw는 관광지 A의 1990년 1월 부터 25년동안의 매달 평균 이용객 숫자이다."
   ]
  },
  {
   "attachments": {},
   "cell_type": "markdown",
   "metadata": {},
   "source": [
    "### 2-1 EDA와 시각화를 진행하라"
   ]
  },
  {
   "cell_type": "code",
   "execution_count": null,
   "metadata": {},
   "outputs": [],
   "source": [
    "url2 = 'https://raw.githubusercontent.com/Ssunbell/ADP_study/main/4주차/data/problem2.csv'\n",
    "encoded_url2 = quote(url2, safe=':/')\n",
    "\n",
    "df2 = pd.read_csv(encoded_url2, encoding='utf-8', index_col=0)\n",
    "df2.head()"
   ]
  },
  {
   "attachments": {},
   "cell_type": "markdown",
   "metadata": {},
   "source": [
    "### 2-2 결측치 처리와 해당 결측치 처리 방식에 대한 논리적 근거를 제시하라"
   ]
  },
  {
   "cell_type": "code",
   "execution_count": null,
   "metadata": {},
   "outputs": [],
   "source": []
  },
  {
   "attachments": {},
   "cell_type": "markdown",
   "metadata": {},
   "source": [
    "### 2-3 계절성을 반영한 시계열 모델을 제시하고 정확도 측면에서 모델 성능 평가 할 것"
   ]
  },
  {
   "cell_type": "code",
   "execution_count": null,
   "metadata": {},
   "outputs": [],
   "source": []
  },
  {
   "attachments": {},
   "cell_type": "markdown",
   "metadata": {},
   "source": [
    "### 2-4 분석 결과 활용 가능 여부에 대한 분석 전문가로서의 제안"
   ]
  },
  {
   "cell_type": "code",
   "execution_count": null,
   "metadata": {},
   "outputs": [],
   "source": []
  },
  {
   "attachments": {},
   "cell_type": "markdown",
   "metadata": {},
   "source": [
    "# 통계\n",
    "## 3번"
   ]
  },
  {
   "attachments": {},
   "cell_type": "markdown",
   "metadata": {},
   "source": [
    "### 3-1 서울에서 영동까지 100km/h로 가고 영동에서 서울까지 80km/로 돌아왔을 때, 평균 속도는?"
   ]
  },
  {
   "cell_type": "code",
   "execution_count": null,
   "metadata": {},
   "outputs": [],
   "source": []
  },
  {
   "attachments": {},
   "cell_type": "markdown",
   "metadata": {},
   "source": [
    "### 3-2 연매출이 3000, 4000, 5000이었다면 연평균 몇배가 증가한 것인가?"
   ]
  },
  {
   "cell_type": "code",
   "execution_count": null,
   "metadata": {},
   "outputs": [],
   "source": []
  },
  {
   "attachments": {},
   "cell_type": "markdown",
   "metadata": {},
   "source": [
    "### 3-3 남성, 여성의 등산, 수영에 대한 취미 선호도 빈도표(2x2)를 보고, 남성 중에서 등산을 좋아할 확률을 구하시오\n",
    "\n",
    "![image](https://github.com/Datamanim/datarepo/blob/main/adp/25/problem3_3.png?raw=true)"
   ]
  },
  {
   "cell_type": "code",
   "execution_count": null,
   "metadata": {},
   "outputs": [],
   "source": []
  },
  {
   "attachments": {},
   "cell_type": "markdown",
   "metadata": {},
   "source": [
    "### 3-4 표본 10개의 분산이 90일 때 신뢰도 95%로 모분산의 신뢰구간을 추정"
   ]
  },
  {
   "cell_type": "code",
   "execution_count": null,
   "metadata": {},
   "outputs": [],
   "source": []
  },
  {
   "attachments": {},
   "cell_type": "markdown",
   "metadata": {},
   "source": [
    "## 4번 임상 대상 20명에 대해 혈압약 투약 이전과 이후의 차이가 24, 표준편차 9  신뢰구간 95%, 차이가 존재하는지 확인하려한다."
   ]
  },
  {
   "attachments": {},
   "cell_type": "markdown",
   "metadata": {},
   "source": [
    "### 4-1 귀무가설과 연구가설을 제시하시오"
   ]
  },
  {
   "cell_type": "code",
   "execution_count": null,
   "metadata": {},
   "outputs": [],
   "source": []
  },
  {
   "attachments": {},
   "cell_type": "markdown",
   "metadata": {},
   "source": [
    "### 4-2 검정 후 귀무가설 기각 여부 제시"
   ]
  },
  {
   "cell_type": "code",
   "execution_count": null,
   "metadata": {},
   "outputs": [],
   "source": []
  },
  {
   "attachments": {},
   "cell_type": "markdown",
   "metadata": {},
   "source": [
    "## 5번 공장 X,Y,Z의 평균 출하 소요시간을 여러 일자에 거쳐 측정한 데이터이다. 각 공장의 중위수의 차이가 존재하는지 확인하려 한다."
   ]
  },
  {
   "attachments": {},
   "cell_type": "markdown",
   "metadata": {},
   "source": [
    "### 5-1. 연구가설과 귀무가설을 설정하시오"
   ]
  },
  {
   "cell_type": "code",
   "execution_count": null,
   "metadata": {},
   "outputs": [],
   "source": [
    "url3 = 'https://raw.githubusercontent.com/Ssunbell/ADP_study/main/4주차/data/problem5.csv'\n",
    "encoded_url3 = quote(url3, safe=':/')\n",
    "\n",
    "df3 = pd.read_csv(encoded_url3, encoding='latin1').rename(\n",
    "        {\n",
    "        'ÃâÇÏ ¼Ò¿ä½Ã°£':'출하 소요시간',\n",
    "        '°øÀå¸í':'공장명',\n",
    "        '°øÀåº° ÃâÇÏ ¼Ò¿ä½Ã°£ ¼øÀ§':'공장별 출하 소요시간 순위'\n",
    "    },\n",
    "    axis=1\n",
    ")\n",
    "df3.head()"
   ]
  },
  {
   "attachments": {},
   "cell_type": "markdown",
   "metadata": {},
   "source": [
    "### 5-2. 검정통계량을 구하고 가설을 채택하시오"
   ]
  },
  {
   "cell_type": "code",
   "execution_count": null,
   "metadata": {},
   "outputs": [],
   "source": []
  },
  {
   "attachments": {},
   "cell_type": "markdown",
   "metadata": {},
   "source": [
    "## 6번 1개년 50억원, 2개년 60억원, 3개년 70억원의 예산을 가지고 NPV(순현재가치)가 가장 높아지는 안을 제시하시오.\n",
    "\n",
    "![image](https://github.com/Datamanim/datarepo/blob/main/adp/25/problem6.png?raw=true)"
   ]
  },
  {
   "cell_type": "code",
   "execution_count": null,
   "metadata": {},
   "outputs": [],
   "source": []
  }
 ],
 "metadata": {
  "kernelspec": {
   "display_name": "adp",
   "language": "python",
   "name": "python3"
  },
  "language_info": {
   "codemirror_mode": {
    "name": "ipython",
    "version": 3
   },
   "file_extension": ".py",
   "mimetype": "text/x-python",
   "name": "python",
   "nbconvert_exporter": "python",
   "pygments_lexer": "ipython3",
   "version": "3.7.12"
  },
  "orig_nbformat": 4
 },
 "nbformat": 4,
 "nbformat_minor": 2
}
