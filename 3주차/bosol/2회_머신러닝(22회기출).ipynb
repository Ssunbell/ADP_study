{
 "cells": [
  {
   "attachments": {},
   "cell_type": "markdown",
   "id": "ff2d1cbc",
   "metadata": {
    "toc": true
   },
   "source": [
    "<h1>Table of Contents<span class=\"tocSkip\"></span></h1>\n",
    "<div class=\"toc\"><ul class=\"toc-item\"><li><span><a href=\"#1.-기계학습(50점)\" data-toc-modified-id=\"1.-기계학습(50점)-1\"><span class=\"toc-item-num\">1&nbsp;&nbsp;</span>1. 기계학습(50점)</a></span><ul class=\"toc-item\"><li><span><a href=\"#1.1-데이터-탐색\" data-toc-modified-id=\"1.1-데이터-탐색-1.1\"><span class=\"toc-item-num\">1.1&nbsp;&nbsp;</span>1.1 데이터 탐색</a></span><ul class=\"toc-item\"><li><span><a href=\"#1.1.2.-앞선-두-단계에서-얻은-향후-분석시-고려사항-작성\" data-toc-modified-id=\"1.1.2.-앞선-두-단계에서-얻은-향후-분석시-고려사항-작성-1.1.1\"><span class=\"toc-item-num\">1.1.1&nbsp;&nbsp;</span>1.1.2. 앞선 두 단계에서 얻은 향후 분석시 고려사항 작성</a></span></li></ul></li><li><span><a href=\"#1.2-클래스-불균형을-처리하시오.\" data-toc-modified-id=\"1.2-클래스-불균형을-처리하시오.-1.2\"><span class=\"toc-item-num\">1.2&nbsp;&nbsp;</span>1.2 클래스 불균형을 처리하시오.</a></span><ul class=\"toc-item\"><li><span><a href=\"#1.2.1.-업-샘플링-과정-설명하고-결과-작성\" data-toc-modified-id=\"1.2.1.-업-샘플링-과정-설명하고-결과-작성-1.2.1\"><span class=\"toc-item-num\">1.2.1&nbsp;&nbsp;</span>1.2.1. 업 샘플링 과정 설명하고 결과 작성</a></span></li><li><span><a href=\"#1.2.2-언더-샘플링-과정-설명하고-결과-작성\" data-toc-modified-id=\"1.2.2-언더-샘플링-과정-설명하고-결과-작성-1.2.2\"><span class=\"toc-item-num\">1.2.2&nbsp;&nbsp;</span>1.2.2 언더 샘플링 과정 설명하고 결과 작성</a></span></li><li><span><a href=\"#1.2.3-둘-중-선택하고-이유-설명\" data-toc-modified-id=\"1.2.3-둘-중-선택하고-이유-설명-1.2.3\"><span class=\"toc-item-num\">1.2.3&nbsp;&nbsp;</span>1.2.3 둘 중 선택하고 이유 설명</a></span></li></ul></li><li><span><a href=\"#1.3.-모델링-하시오\" data-toc-modified-id=\"1.3.-모델링-하시오-1.3\"><span class=\"toc-item-num\">1.3&nbsp;&nbsp;</span>1.3. 모델링 하시오</a></span><ul class=\"toc-item\"><li><span><a href=\"#1.3.1.-최소-3개-이상-알고리즘-제시하고-정확도-측면의-모델-1개와-속도-측면의-모델-1개를-꼭-구현(총-2개-이상)\" data-toc-modified-id=\"1.3.1.-최소-3개-이상-알고리즘-제시하고-정확도-측면의-모델-1개와-속도-측면의-모델-1개를-꼭-구현(총-2개-이상)-1.3.1\"><span class=\"toc-item-num\">1.3.1&nbsp;&nbsp;</span>1.3.1. 최소 3개 이상 알고리즘 제시하고 정확도 측면의 모델 1개와 속도 측면의 모델 1개를 꼭 구현(총 2개 이상)</a></span></li><li><span><a href=\"#1.3.2.-모델-비교하고-결과-설명\" data-toc-modified-id=\"1.3.2.-모델-비교하고-결과-설명-1.3.2\"><span class=\"toc-item-num\">1.3.2&nbsp;&nbsp;</span>1.3.2. 모델 비교하고 결과 설명</a></span></li><li><span><a href=\"#1.3.3.-속도-개선을-위한-차원-축소-설명하고-수행,-예측-성능과-속도-비교하고-결과-작성\" data-toc-modified-id=\"1.3.3.-속도-개선을-위한-차원-축소-설명하고-수행,-예측-성능과-속도-비교하고-결과-작성-1.3.3\"><span class=\"toc-item-num\">1.3.3&nbsp;&nbsp;</span>1.3.3. 속도 개선을 위한 차원 축소 설명하고 수행, 예측 성능과 속도 비교하고 결과 작성</a></span></li></ul></li></ul></li></ul></div>"
   ]
  },
  {
   "attachments": {},
   "cell_type": "markdown",
   "id": "912df639",
   "metadata": {},
   "source": [
    "## 1. 기계학습(50점)"
   ]
  },
  {
   "attachments": {},
   "cell_type": "markdown",
   "id": "5ba2a3cd",
   "metadata": {},
   "source": [
    "### 1.1 데이터 탐색"
   ]
  },
  {
   "cell_type": "code",
   "execution_count": 1,
   "id": "3f1edfe1",
   "metadata": {},
   "outputs": [
    {
     "data": {
      "text/html": [
       "<div>\n",
       "<style scoped>\n",
       "    .dataframe tbody tr th:only-of-type {\n",
       "        vertical-align: middle;\n",
       "    }\n",
       "\n",
       "    .dataframe tbody tr th {\n",
       "        vertical-align: top;\n",
       "    }\n",
       "\n",
       "    .dataframe thead th {\n",
       "        text-align: right;\n",
       "    }\n",
       "</style>\n",
       "<table border=\"1\" class=\"dataframe\">\n",
       "  <thead>\n",
       "    <tr style=\"text-align: right;\">\n",
       "      <th></th>\n",
       "      <th>Pregnancies</th>\n",
       "      <th>Glucose</th>\n",
       "      <th>BloodPressure</th>\n",
       "      <th>SkinThickness</th>\n",
       "      <th>Insulin</th>\n",
       "      <th>BMI</th>\n",
       "      <th>DiabetesPedigreeFunction</th>\n",
       "      <th>Age</th>\n",
       "      <th>Outcome</th>\n",
       "    </tr>\n",
       "  </thead>\n",
       "  <tbody>\n",
       "    <tr>\n",
       "      <th>0</th>\n",
       "      <td>6</td>\n",
       "      <td>148</td>\n",
       "      <td>72</td>\n",
       "      <td>35</td>\n",
       "      <td>0</td>\n",
       "      <td>33.6</td>\n",
       "      <td>0.627</td>\n",
       "      <td>50</td>\n",
       "      <td>1</td>\n",
       "    </tr>\n",
       "    <tr>\n",
       "      <th>1</th>\n",
       "      <td>1</td>\n",
       "      <td>85</td>\n",
       "      <td>66</td>\n",
       "      <td>29</td>\n",
       "      <td>0</td>\n",
       "      <td>26.6</td>\n",
       "      <td>0.351</td>\n",
       "      <td>31</td>\n",
       "      <td>0</td>\n",
       "    </tr>\n",
       "    <tr>\n",
       "      <th>2</th>\n",
       "      <td>8</td>\n",
       "      <td>183</td>\n",
       "      <td>64</td>\n",
       "      <td>0</td>\n",
       "      <td>0</td>\n",
       "      <td>23.3</td>\n",
       "      <td>0.672</td>\n",
       "      <td>32</td>\n",
       "      <td>1</td>\n",
       "    </tr>\n",
       "    <tr>\n",
       "      <th>3</th>\n",
       "      <td>1</td>\n",
       "      <td>89</td>\n",
       "      <td>66</td>\n",
       "      <td>23</td>\n",
       "      <td>94</td>\n",
       "      <td>28.1</td>\n",
       "      <td>0.167</td>\n",
       "      <td>21</td>\n",
       "      <td>0</td>\n",
       "    </tr>\n",
       "    <tr>\n",
       "      <th>4</th>\n",
       "      <td>0</td>\n",
       "      <td>137</td>\n",
       "      <td>40</td>\n",
       "      <td>35</td>\n",
       "      <td>168</td>\n",
       "      <td>43.1</td>\n",
       "      <td>2.288</td>\n",
       "      <td>33</td>\n",
       "      <td>1</td>\n",
       "    </tr>\n",
       "    <tr>\n",
       "      <th>...</th>\n",
       "      <td>...</td>\n",
       "      <td>...</td>\n",
       "      <td>...</td>\n",
       "      <td>...</td>\n",
       "      <td>...</td>\n",
       "      <td>...</td>\n",
       "      <td>...</td>\n",
       "      <td>...</td>\n",
       "      <td>...</td>\n",
       "    </tr>\n",
       "    <tr>\n",
       "      <th>763</th>\n",
       "      <td>10</td>\n",
       "      <td>101</td>\n",
       "      <td>76</td>\n",
       "      <td>48</td>\n",
       "      <td>180</td>\n",
       "      <td>32.9</td>\n",
       "      <td>0.171</td>\n",
       "      <td>63</td>\n",
       "      <td>0</td>\n",
       "    </tr>\n",
       "    <tr>\n",
       "      <th>764</th>\n",
       "      <td>2</td>\n",
       "      <td>122</td>\n",
       "      <td>70</td>\n",
       "      <td>27</td>\n",
       "      <td>0</td>\n",
       "      <td>36.8</td>\n",
       "      <td>0.340</td>\n",
       "      <td>27</td>\n",
       "      <td>0</td>\n",
       "    </tr>\n",
       "    <tr>\n",
       "      <th>765</th>\n",
       "      <td>5</td>\n",
       "      <td>121</td>\n",
       "      <td>72</td>\n",
       "      <td>23</td>\n",
       "      <td>112</td>\n",
       "      <td>26.2</td>\n",
       "      <td>0.245</td>\n",
       "      <td>30</td>\n",
       "      <td>0</td>\n",
       "    </tr>\n",
       "    <tr>\n",
       "      <th>766</th>\n",
       "      <td>1</td>\n",
       "      <td>126</td>\n",
       "      <td>60</td>\n",
       "      <td>0</td>\n",
       "      <td>0</td>\n",
       "      <td>30.1</td>\n",
       "      <td>0.349</td>\n",
       "      <td>47</td>\n",
       "      <td>1</td>\n",
       "    </tr>\n",
       "    <tr>\n",
       "      <th>767</th>\n",
       "      <td>1</td>\n",
       "      <td>93</td>\n",
       "      <td>70</td>\n",
       "      <td>31</td>\n",
       "      <td>0</td>\n",
       "      <td>30.4</td>\n",
       "      <td>0.315</td>\n",
       "      <td>23</td>\n",
       "      <td>0</td>\n",
       "    </tr>\n",
       "  </tbody>\n",
       "</table>\n",
       "<p>768 rows × 9 columns</p>\n",
       "</div>"
      ],
      "text/plain": [
       "     Pregnancies  Glucose  BloodPressure  SkinThickness  Insulin   BMI  \\\n",
       "0              6      148             72             35        0  33.6   \n",
       "1              1       85             66             29        0  26.6   \n",
       "2              8      183             64              0        0  23.3   \n",
       "3              1       89             66             23       94  28.1   \n",
       "4              0      137             40             35      168  43.1   \n",
       "..           ...      ...            ...            ...      ...   ...   \n",
       "763           10      101             76             48      180  32.9   \n",
       "764            2      122             70             27        0  36.8   \n",
       "765            5      121             72             23      112  26.2   \n",
       "766            1      126             60              0        0  30.1   \n",
       "767            1       93             70             31        0  30.4   \n",
       "\n",
       "     DiabetesPedigreeFunction  Age  Outcome  \n",
       "0                       0.627   50        1  \n",
       "1                       0.351   31        0  \n",
       "2                       0.672   32        1  \n",
       "3                       0.167   21        0  \n",
       "4                       2.288   33        1  \n",
       "..                        ...  ...      ...  \n",
       "763                     0.171   63        0  \n",
       "764                     0.340   27        0  \n",
       "765                     0.245   30        0  \n",
       "766                     0.349   47        1  \n",
       "767                     0.315   23        0  \n",
       "\n",
       "[768 rows x 9 columns]"
      ]
     },
     "execution_count": 1,
     "metadata": {},
     "output_type": "execute_result"
    }
   ],
   "source": [
    "import pandas as pd\n",
    "import numpy as np\n",
    "import matplotlib.pyplot as plt\n",
    "import seaborn as sns\n",
    "import warnings\n",
    "warnings.filterwarnings('ignore')\n",
    "\n",
    "df1 = pd.read_csv('../data/diabetes_for_test.csv')\n",
    "df1\n"
   ]
  },
  {
   "attachments": {},
   "cell_type": "markdown",
   "id": "af5c4693",
   "metadata": {},
   "source": [
    "(2) 이상치를 식별하고 처리하시오. "
   ]
  },
  {
   "cell_type": "code",
   "execution_count": null,
   "id": "c56e1bfa",
   "metadata": {},
   "outputs": [],
   "source": []
  },
  {
   "attachments": {},
   "cell_type": "markdown",
   "id": "ff1e9128",
   "metadata": {},
   "source": [
    "#### 1.1.2. 앞선 두 단계에서 얻은 향후 분석시 고려사항 작성"
   ]
  },
  {
   "attachments": {},
   "cell_type": "markdown",
   "id": "36045622",
   "metadata": {},
   "source": []
  },
  {
   "attachments": {},
   "cell_type": "markdown",
   "id": "25975d25",
   "metadata": {},
   "source": [
    "### 1.2 클래스 불균형을 처리하시오."
   ]
  },
  {
   "attachments": {},
   "cell_type": "markdown",
   "id": "31909b52",
   "metadata": {},
   "source": [
    "#### 1.2.1. 업 샘플링 과정 설명하고 결과 작성"
   ]
  },
  {
   "attachments": {},
   "cell_type": "markdown",
   "id": "8bf7aeca",
   "metadata": {},
   "source": []
  },
  {
   "cell_type": "code",
   "execution_count": null,
   "id": "4cfa62ad",
   "metadata": {},
   "outputs": [],
   "source": []
  },
  {
   "attachments": {},
   "cell_type": "markdown",
   "id": "c44df832",
   "metadata": {},
   "source": [
    "#### 1.2.2 언더 샘플링 과정 설명하고 결과 작성"
   ]
  },
  {
   "attachments": {},
   "cell_type": "markdown",
   "id": "ef29cea6",
   "metadata": {},
   "source": []
  },
  {
   "cell_type": "code",
   "execution_count": null,
   "id": "313406d1",
   "metadata": {},
   "outputs": [],
   "source": []
  },
  {
   "attachments": {},
   "cell_type": "markdown",
   "id": "b15835c4",
   "metadata": {},
   "source": [
    "#### 1.2.3 둘 중 선택하고 이유 설명"
   ]
  },
  {
   "attachments": {},
   "cell_type": "markdown",
   "id": "52740394",
   "metadata": {},
   "source": []
  },
  {
   "attachments": {},
   "cell_type": "markdown",
   "id": "cd3392b7",
   "metadata": {},
   "source": [
    "### 1.3. 모델링 하시오"
   ]
  },
  {
   "attachments": {},
   "cell_type": "markdown",
   "id": "4fd0359d",
   "metadata": {},
   "source": [
    "#### 1.3.1. 최소 3개 이상 알고리즘 제시하고 정확도 측면의 모델 1개와 속도 측면의 모델 1개를 꼭 구현(총 2개 이상)"
   ]
  },
  {
   "cell_type": "code",
   "execution_count": null,
   "id": "52a8cf9a",
   "metadata": {},
   "outputs": [],
   "source": []
  },
  {
   "attachments": {},
   "cell_type": "markdown",
   "id": "5f35530d",
   "metadata": {},
   "source": [
    "#### 1.3.2. 모델 비교하고 결과 설명"
   ]
  },
  {
   "cell_type": "code",
   "execution_count": null,
   "id": "0caaf417",
   "metadata": {},
   "outputs": [],
   "source": []
  },
  {
   "attachments": {},
   "cell_type": "markdown",
   "id": "1e46ca85",
   "metadata": {},
   "source": []
  },
  {
   "attachments": {},
   "cell_type": "markdown",
   "id": "86785402",
   "metadata": {},
   "source": [
    "#### 1.3.3. 속도 개선을 위한 차원 축소 설명하고 수행, 예측 성능과 속도 비교하고 결과 작성"
   ]
  },
  {
   "cell_type": "code",
   "execution_count": null,
   "id": "17e7f599",
   "metadata": {},
   "outputs": [],
   "source": []
  },
  {
   "attachments": {},
   "cell_type": "markdown",
   "id": "516230cf",
   "metadata": {},
   "source": []
  }
 ],
 "metadata": {
  "kernelspec": {
   "display_name": "Python 3 (ipykernel)",
   "language": "python",
   "name": "python3"
  },
  "language_info": {
   "codemirror_mode": {
    "name": "ipython",
    "version": 3
   },
   "file_extension": ".py",
   "mimetype": "text/x-python",
   "name": "python",
   "nbconvert_exporter": "python",
   "pygments_lexer": "ipython3",
   "version": "3.7.10"
  },
  "toc": {
   "base_numbering": 1,
   "nav_menu": {},
   "number_sections": true,
   "sideBar": true,
   "skip_h1_title": false,
   "title_cell": "Table of Contents",
   "title_sidebar": "Contents",
   "toc_cell": true,
   "toc_position": {},
   "toc_section_display": true,
   "toc_window_display": false
  }
 },
 "nbformat": 4,
 "nbformat_minor": 5
}
